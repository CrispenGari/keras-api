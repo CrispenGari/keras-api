{
 "cells": [
  {
   "cell_type": "markdown",
   "id": "tropical-vacuum",
   "metadata": {},
   "source": [
    "### Mean Squared Error Loss.\n",
    "If the outliers represent anomalies that are important for business and should be detected, then we should use **MSE**. On the other hand, if we believe that the outliers just represent corrupted data, then we should choose **MAE** as loss.\n",
    "> This loss is fore **Regression tasks**"
   ]
  },
  {
   "cell_type": "code",
   "execution_count": 1,
   "id": "extended-palace",
   "metadata": {},
   "outputs": [],
   "source": [
    "import tensorflow as tf"
   ]
  },
  {
   "cell_type": "code",
   "execution_count": 2,
   "id": "continent-static",
   "metadata": {},
   "outputs": [],
   "source": [
    "y = tf.constant([0.1, 1.2, 1.3, 1.4, 1.5, 1.6])\n",
    "y_pred = tf.constant([0.1, 1.3, 1.3, 1.3, 1.7, 1.9])"
   ]
  },
  {
   "cell_type": "markdown",
   "id": "preceding-compilation",
   "metadata": {},
   "source": [
    "### Tensorflow MSE Loss"
   ]
  },
  {
   "cell_type": "code",
   "execution_count": 4,
   "id": "conceptual-tumor",
   "metadata": {},
   "outputs": [
    {
     "data": {
      "text/plain": [
       "<tf.Tensor: shape=(), dtype=float32, numpy=0.024999997>"
      ]
     },
     "execution_count": 4,
     "metadata": {},
     "output_type": "execute_result"
    }
   ],
   "source": [
    "loss = tf.keras.losses.MSE(y, y_pred)\n",
    "loss"
   ]
  },
  {
   "cell_type": "markdown",
   "id": "green-chrome",
   "metadata": {},
   "source": [
    "#### How to calculate it using tensorflow functions on tensors"
   ]
  },
  {
   "cell_type": "code",
   "execution_count": 9,
   "id": "portable-annex",
   "metadata": {},
   "outputs": [
    {
     "data": {
      "text/plain": [
       "<tf.Tensor: shape=(), dtype=float32, numpy=0.024999997>"
      ]
     },
     "execution_count": 9,
     "metadata": {},
     "output_type": "execute_result"
    }
   ],
   "source": [
    "loss =tf.reduce_mean(tf.square(y - y_pred))\n",
    "loss"
   ]
  },
  {
   "cell_type": "markdown",
   "id": "surprising-settlement",
   "metadata": {},
   "source": [
    "### Creating a ``MSE`` function\n",
    "<img src=\"https://cdn-media-1.freecodecamp.org/images/hmZydSW9YegiMVPWq2JBpOpai3CejzQpGkNG\"/>"
   ]
  },
  {
   "cell_type": "code",
   "execution_count": 29,
   "id": "dressed-ideal",
   "metadata": {},
   "outputs": [],
   "source": [
    "class Loses:\n",
    "    def __init__(self):\n",
    "        pass\n",
    "    \n",
    "    def mse(self, y_true, y_pred):\n",
    "        return tf.reduce_mean(tf.square(y_true-y_pred))\n",
    "    \n",
    "    def mse_(self, y_true, y_pred):\n",
    "        return tf.reduce_sum((y-y_pred)**2)/y.shape[0]"
   ]
  },
  {
   "cell_type": "code",
   "execution_count": 30,
   "id": "hourly-humor",
   "metadata": {},
   "outputs": [
    {
     "data": {
      "text/plain": [
       "<tf.Tensor: shape=(), dtype=float32, numpy=0.024999997>"
      ]
     },
     "execution_count": 30,
     "metadata": {},
     "output_type": "execute_result"
    }
   ],
   "source": [
    "loss_fn = Loses()\n",
    "loss_fn.mse(y, y_pred)"
   ]
  },
  {
   "cell_type": "markdown",
   "id": "extraordinary-simon",
   "metadata": {},
   "source": [
    "> We are still getting the same output"
   ]
  },
  {
   "cell_type": "code",
   "execution_count": 31,
   "id": "functional-license",
   "metadata": {},
   "outputs": [
    {
     "data": {
      "text/plain": [
       "<tf.Tensor: shape=(), dtype=float32, numpy=0.024999997>"
      ]
     },
     "execution_count": 31,
     "metadata": {},
     "output_type": "execute_result"
    }
   ],
   "source": [
    "loss_fn.mse_(y, y_pred)"
   ]
  },
  {
   "cell_type": "markdown",
   "id": "found-mailman",
   "metadata": {},
   "source": [
    "> The results are still the same!!"
   ]
  },
  {
   "cell_type": "code",
   "execution_count": null,
   "id": "color-athletics",
   "metadata": {},
   "outputs": [],
   "source": []
  }
 ],
 "metadata": {
  "kernelspec": {
   "display_name": "Python 3",
   "language": "python",
   "name": "python3"
  },
  "language_info": {
   "codemirror_mode": {
    "name": "ipython",
    "version": 3
   },
   "file_extension": ".py",
   "mimetype": "text/x-python",
   "name": "python",
   "nbconvert_exporter": "python",
   "pygments_lexer": "ipython3",
   "version": "3.8.5"
  }
 },
 "nbformat": 4,
 "nbformat_minor": 5
}
