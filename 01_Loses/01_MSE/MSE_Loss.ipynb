{
 "cells": [
  {
   "cell_type": "markdown",
   "id": "classical-alliance",
   "metadata": {},
   "source": [
    "### Mean Squared Error Loss.\n",
    "If the outliers represent anomalies that are important for business and should be detected, then we should use **MSE**. On the other hand, if we believe that the outliers just represent corrupted data, then we should choose **MAE** as loss.\n",
    "> This loss is fore **Regression tasks**"
   ]
  },
  {
   "cell_type": "code",
   "execution_count": 1,
   "id": "acting-islam",
   "metadata": {},
   "outputs": [],
   "source": [
    "import tensorflow as tf"
   ]
  },
  {
   "cell_type": "code",
   "execution_count": 2,
   "id": "dynamic-rough",
   "metadata": {},
   "outputs": [],
   "source": [
    "y = tf.constant([0.1, 1.2, 1.3, 1.4, 1.5, 1.6])\n",
    "y_pred = tf.constant([0.1, 1.3, 1.3, 1.3, 1.7, 1.9])"
   ]
  },
  {
   "cell_type": "markdown",
   "id": "several-homework",
   "metadata": {},
   "source": [
    "### Tensorflow MSE Loss"
   ]
  },
  {
   "cell_type": "code",
   "execution_count": 4,
   "id": "handmade-maldives",
   "metadata": {},
   "outputs": [
    {
     "data": {
      "text/plain": [
       "<tf.Tensor: shape=(), dtype=float32, numpy=0.024999997>"
      ]
     },
     "execution_count": 4,
     "metadata": {},
     "output_type": "execute_result"
    }
   ],
   "source": [
    "loss = tf.keras.losses.MSE(y, y_pred)\n",
    "loss"
   ]
  },
  {
   "cell_type": "markdown",
   "id": "southwest-unemployment",
   "metadata": {},
   "source": [
    "#### How to calculate it using tensorflow functions on tensors"
   ]
  },
  {
   "cell_type": "code",
   "execution_count": 9,
   "id": "leading-broadway",
   "metadata": {},
   "outputs": [
    {
     "data": {
      "text/plain": [
       "<tf.Tensor: shape=(), dtype=float32, numpy=0.024999997>"
      ]
     },
     "execution_count": 9,
     "metadata": {},
     "output_type": "execute_result"
    }
   ],
   "source": [
    "loss =tf.reduce_mean(tf.square(y - y_pred))\n",
    "loss"
   ]
  },
  {
   "cell_type": "markdown",
   "id": "noticed-cleaner",
   "metadata": {},
   "source": [
    "### Creating a ``MSE`` function\n",
    "<img src=\"data:image/png;base64,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\"/>"
   ]
  },
  {
   "cell_type": "code",
   "execution_count": 17,
   "id": "protective-trailer",
   "metadata": {},
   "outputs": [],
   "source": [
    "class Loses:\n",
    "    def __init__(self):\n",
    "        pass\n",
    "    \n",
    "    def mse(self, y_true, y_pred):\n",
    "        return tf.reduce_mean(tf.square(y_true-y_pred))"
   ]
  },
  {
   "cell_type": "code",
   "execution_count": 18,
   "id": "removable-crack",
   "metadata": {},
   "outputs": [
    {
     "data": {
      "text/plain": [
       "<tf.Tensor: shape=(), dtype=float32, numpy=0.024999997>"
      ]
     },
     "execution_count": 18,
     "metadata": {},
     "output_type": "execute_result"
    }
   ],
   "source": [
    "loss_fn = Loses()\n",
    "loss_fn.mse(y, y_pred)"
   ]
  },
  {
   "cell_type": "markdown",
   "id": "smooth-inventory",
   "metadata": {},
   "source": [
    "> We are still getting the same output"
   ]
  },
  {
   "cell_type": "code",
   "execution_count": null,
   "id": "latest-inclusion",
   "metadata": {},
   "outputs": [],
   "source": []
  }
 ],
 "metadata": {
  "kernelspec": {
   "display_name": "Python 3",
   "language": "python",
   "name": "python3"
  },
  "language_info": {
   "codemirror_mode": {
    "name": "ipython",
    "version": 3
   },
   "file_extension": ".py",
   "mimetype": "text/x-python",
   "name": "python",
   "nbconvert_exporter": "python",
   "pygments_lexer": "ipython3",
   "version": "3.8.5"
  }
 },
 "nbformat": 4,
 "nbformat_minor": 5
}
