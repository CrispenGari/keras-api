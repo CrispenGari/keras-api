{
 "cells": [
  {
   "cell_type": "markdown",
   "id": "silent-sending",
   "metadata": {},
   "source": [
    "### Mean Absolute Error Loss\n",
    "If we believe that the outliers just represent corrupted data, then we should choose **MAE** as loss. On the other hand If the outliers represent anomalies that are important for business and should be detected, then we should use **MSE**.\n",
    "> This loss is fore **Regression tasks**"
   ]
  },
  {
   "cell_type": "code",
   "execution_count": 2,
   "id": "radical-queensland",
   "metadata": {},
   "outputs": [],
   "source": [
    "import tensorflow as tf"
   ]
  },
  {
   "cell_type": "code",
   "execution_count": 3,
   "id": "reliable-riding",
   "metadata": {},
   "outputs": [
    {
     "data": {
      "text/plain": [
       "<tf.Tensor: shape=(5, 3), dtype=float32, numpy=\n",
       "array([[0., 1., 0.],\n",
       "       [1., 0., 0.],\n",
       "       [0., 1., 0.],\n",
       "       [0., 0., 1.],\n",
       "       [0., 1., 0.]], dtype=float32)>"
      ]
     },
     "execution_count": 3,
     "metadata": {},
     "output_type": "execute_result"
    }
   ],
   "source": [
    "y = tf.constant([0.1, 1.2, 1.3, 1.4, 1.5, 1.6])\n",
    "y_pred = tf.constant([0.1, 1.3, 1.3, 1.3, 1.7, 1.9])"
   ]
  },
  {
   "cell_type": "markdown",
   "id": "transparent-premises",
   "metadata": {},
   "source": [
    "### Calculating the ``MAE`` Error using TensorFloe."
   ]
  },
  {
   "cell_type": "code",
   "execution_count": 3,
   "id": "chemical-share",
   "metadata": {},
   "outputs": [
    {
     "data": {
      "text/plain": [
       "<tf.Tensor: shape=(), dtype=float32, numpy=0.11666665>"
      ]
     },
     "execution_count": 3,
     "metadata": {},
     "output_type": "execute_result"
    }
   ],
   "source": [
    "loss = tf.keras.losses.MAE(y, y_pred)\n",
    "loss"
   ]
  },
  {
   "cell_type": "markdown",
   "id": "living-peninsula",
   "metadata": {},
   "source": [
    "#### Calculating using tensorflow operation"
   ]
  },
  {
   "cell_type": "code",
   "execution_count": 4,
   "id": "experienced-killer",
   "metadata": {},
   "outputs": [
    {
     "data": {
      "text/plain": [
       "<tf.Tensor: shape=(), dtype=float32, numpy=0.11666665>"
      ]
     },
     "execution_count": 4,
     "metadata": {},
     "output_type": "execute_result"
    }
   ],
   "source": [
    "loss = tf.reduce_mean(tf.abs(y-y_pred))\n",
    "loss"
   ]
  },
  {
   "cell_type": "markdown",
   "id": "promising-density",
   "metadata": {},
   "source": [
    "### Creating a `mae` function\n",
    "\n",
    "<p align=\"center\">\n",
    "    <img src=\"https://www.statisticshowto.com/wp-content/uploads/2016/10/MAE.png\"/>\n",
    "</p>"
   ]
  },
  {
   "cell_type": "code",
   "execution_count": 17,
   "id": "south-public",
   "metadata": {},
   "outputs": [],
   "source": [
    "class Losses:\n",
    "    def __init__(self):\n",
    "        pass\n",
    "    \n",
    "    def mae(self, y_true, y_pred):\n",
    "        return tf.reduce_mean(tf.abs(y-y_pred))\n",
    "    \n",
    "    def mae_(self, y_true, y_pred):\n",
    "        return tf.reduce_sum(tf.abs(y_true-y_pred))/ y_true.shape[0]"
   ]
  },
  {
   "cell_type": "code",
   "execution_count": 13,
   "id": "quarterly-aquatic",
   "metadata": {},
   "outputs": [
    {
     "data": {
      "text/plain": [
       "<tf.Tensor: shape=(), dtype=float32, numpy=0.11666665>"
      ]
     },
     "execution_count": 13,
     "metadata": {},
     "output_type": "execute_result"
    }
   ],
   "source": [
    "criterion = Losses()\n",
    "criterion.mae(y, y_pred)"
   ]
  },
  {
   "cell_type": "markdown",
   "id": "minute-operations",
   "metadata": {},
   "source": [
    "> We are getting the same loss as before."
   ]
  },
  {
   "cell_type": "code",
   "execution_count": 18,
   "id": "familiar-facing",
   "metadata": {},
   "outputs": [
    {
     "data": {
      "text/plain": [
       "<tf.Tensor: shape=(), dtype=float32, numpy=0.11666665>"
      ]
     },
     "execution_count": 18,
     "metadata": {},
     "output_type": "execute_result"
    }
   ],
   "source": [
    "criterion = Losses()\n",
    "criterion.mae_(y, y_pred)"
   ]
  },
  {
   "cell_type": "markdown",
   "id": "unauthorized-cleaner",
   "metadata": {},
   "source": [
    "> We are getting the same loss as well"
   ]
  },
  {
   "cell_type": "code",
   "execution_count": null,
   "id": "qualified-shock",
   "metadata": {},
   "outputs": [],
   "source": []
  }
 ],
 "metadata": {
  "kernelspec": {
   "display_name": "Python 3",
   "language": "python",
   "name": "python3"
  },
  "language_info": {
   "codemirror_mode": {
    "name": "ipython",
    "version": 3
   },
   "file_extension": ".py",
   "mimetype": "text/x-python",
   "name": "python",
   "nbconvert_exporter": "python",
   "pygments_lexer": "ipython3",
   "version": "3.8.5"
  }
 },
 "nbformat": 4,
 "nbformat_minor": 5
}
