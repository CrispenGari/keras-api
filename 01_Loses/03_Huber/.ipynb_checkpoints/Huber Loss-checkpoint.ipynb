{
 "cells": [
  {
   "cell_type": "markdown",
   "id": "false-resource",
   "metadata": {},
   "source": [
    "\n",
    "### Huber Loss\n",
    "\n",
    "The Huber loss function can be used to balance between the **Mean Absolute Error, or MAE**, and the **Mean Squared Error, MSE**. It is therefore a **good** loss function for when you have **varied data** or only a **few outliers.**"
   ]
  },
  {
   "cell_type": "code",
   "execution_count": 1,
   "id": "innocent-texture",
   "metadata": {},
   "outputs": [],
   "source": [
    "import tensorflow as tf"
   ]
  },
  {
   "cell_type": "code",
   "execution_count": 2,
   "id": "upper-transport",
   "metadata": {},
   "outputs": [],
   "source": [
    "y = tf.constant([0.1, 1.2, 1.3, 1.4, 1.5, 1.6])\n",
    "y_pred = tf.constant([0.1, 1.3, 1.3, 1.3, 1.7, 1.9])"
   ]
  },
  {
   "cell_type": "markdown",
   "id": "romance-positive",
   "metadata": {},
   "source": [
    "#### Huber Loss in TensorFlow"
   ]
  },
  {
   "cell_type": "code",
   "execution_count": 5,
   "id": "continent-commerce",
   "metadata": {},
   "outputs": [
    {
     "data": {
      "text/plain": [
       "<tf.Tensor: shape=(), dtype=float32, numpy=0.012499998>"
      ]
     },
     "execution_count": 5,
     "metadata": {},
     "output_type": "execute_result"
    }
   ],
   "source": [
    "loss = tf.keras.losses.huber(y, y_pred)\n",
    "loss"
   ]
  },
  {
   "cell_type": "markdown",
   "id": "radio-spotlight",
   "metadata": {},
   "source": [
    "### Creating a `huber` loss fn\n",
    "<img src='https://lindevs.com/wp-content/uploads/2020/11/formula_to_calculate_huber_loss.png'/>"
   ]
  },
  {
   "cell_type": "code",
   "execution_count": 9,
   "id": "induced-leave",
   "metadata": {},
   "outputs": [],
   "source": [
    "class Losses:\n",
    "    def __init__(self):\n",
    "        print(tf.__version__)\n",
    "        pass\n",
    "    \n",
    "    def huber(self, y_true, y_pred):\n",
    "        return tf.reduce_mean(tf.square(y_true-y_pred)/2)\n",
    "    \n",
    "    def huber_(self, y_true, y_pred):\n",
    "        return tf.reduce_sum(tf.square(y-y_pred)/2)/y_pred.shape[0]"
   ]
  },
  {
   "cell_type": "code",
   "execution_count": 10,
   "id": "shaped-replacement",
   "metadata": {},
   "outputs": [
    {
     "name": "stdout",
     "output_type": "stream",
     "text": [
      "2.4.1\n"
     ]
    },
    {
     "data": {
      "text/plain": [
       "<tf.Tensor: shape=(), dtype=float32, numpy=0.012499998>"
      ]
     },
     "execution_count": 10,
     "metadata": {},
     "output_type": "execute_result"
    }
   ],
   "source": [
    "criterion = Losses()\n",
    "criterion.huber(y, y_pred)"
   ]
  },
  {
   "cell_type": "markdown",
   "id": "everyday-reform",
   "metadata": {},
   "source": [
    "> We are getting th same output"
   ]
  },
  {
   "cell_type": "code",
   "execution_count": 11,
   "id": "turned-anger",
   "metadata": {},
   "outputs": [
    {
     "data": {
      "text/plain": [
       "<tf.Tensor: shape=(), dtype=float32, numpy=0.012499998>"
      ]
     },
     "execution_count": 11,
     "metadata": {},
     "output_type": "execute_result"
    }
   ],
   "source": [
    "criterion.huber_(y, y_pred)"
   ]
  },
  {
   "cell_type": "markdown",
   "id": "elect-trainer",
   "metadata": {},
   "source": [
    "> We are getting the same output as well."
   ]
  },
  {
   "cell_type": "code",
   "execution_count": null,
   "id": "automated-faith",
   "metadata": {},
   "outputs": [],
   "source": []
  }
 ],
 "metadata": {
  "kernelspec": {
   "display_name": "Python 3",
   "language": "python",
   "name": "python3"
  },
  "language_info": {
   "codemirror_mode": {
    "name": "ipython",
    "version": 3
   },
   "file_extension": ".py",
   "mimetype": "text/x-python",
   "name": "python",
   "nbconvert_exporter": "python",
   "pygments_lexer": "ipython3",
   "version": "3.8.5"
  }
 },
 "nbformat": 4,
 "nbformat_minor": 5
}
