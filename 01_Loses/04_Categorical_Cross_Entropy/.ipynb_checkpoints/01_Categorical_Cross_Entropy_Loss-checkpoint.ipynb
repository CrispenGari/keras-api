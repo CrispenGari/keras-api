{
 "cells": [
  {
   "cell_type": "markdown",
   "id": "tracked-thailand",
   "metadata": {},
   "source": [
    "### `Categorical_Cross_Entropy`.\n",
    "* Computes the crossentropy loss between the labels and predictions.\n",
    "* To use this loss function the labels must be `one_hot` encorded.\n",
    "* The prediction probability for each class and the sum of the probabilities for each prediction in the first axis should give us `1`"
   ]
  },
  {
   "cell_type": "code",
   "execution_count": 1,
   "id": "extended-exclusion",
   "metadata": {},
   "outputs": [],
   "source": [
    "import tensorflow as tf"
   ]
  },
  {
   "cell_type": "code",
   "execution_count": 33,
   "id": "ordinary-asthma",
   "metadata": {},
   "outputs": [],
   "source": [
    "y = tf.constant([1, 0, 1, 2, 1])\n",
    "y_true = tf.one_hot(y, depth=3)\n",
    "\n",
    "y_pred = tf.constant([[0.8, 0.1, 0.1],\n",
    "                      [0.7, 0.2, 0.1],\n",
    "                      [0.1, 0.6, 0.3],\n",
    "                      [0.05, 0.05, 0.9],\n",
    "                      [0.5, 0.4, 0.1],\n",
    "                     ])"
   ]
  },
  {
   "cell_type": "markdown",
   "id": "applicable-elimination",
   "metadata": {},
   "source": [
    "### Calculating the `Categorical_Cross_Entropy` Loss using TensorFlow"
   ]
  },
  {
   "cell_type": "code",
   "execution_count": 34,
   "id": "respected-religion",
   "metadata": {},
   "outputs": [
    {
     "data": {
      "text/plain": [
       "<tensorflow.python.keras.losses.CategoricalCrossentropy at 0x1a0bb311670>"
      ]
     },
     "execution_count": 34,
     "metadata": {},
     "output_type": "execute_result"
    }
   ],
   "source": [
    "criterion = tf.keras.losses.CategoricalCrossentropy(from_logits=False)\n",
    "criterion"
   ]
  },
  {
   "cell_type": "code",
   "execution_count": 35,
   "id": "operating-strap",
   "metadata": {},
   "outputs": [
    {
     "data": {
      "text/plain": [
       "0.8383473"
      ]
     },
     "execution_count": 35,
     "metadata": {},
     "output_type": "execute_result"
    }
   ],
   "source": [
    "loss = criterion(y_true, y_pred)\n",
    "loss.numpy()"
   ]
  },
  {
   "cell_type": "markdown",
   "id": "neural-correlation",
   "metadata": {},
   "source": [
    "### Creating a `Categorical_Crossentropy` loss function.\n",
    "\n",
    "<p align=\"center\">\n",
    "<img src=\"https://gombru.github.io/assets/cross_entropy_loss/softmax_CE_pipeline.png\"/>\n",
    "</p>"
   ]
  }
 ],
 "metadata": {
  "kernelspec": {
   "display_name": "Python 3",
   "language": "python",
   "name": "python3"
  },
  "language_info": {
   "codemirror_mode": {
    "name": "ipython",
    "version": 3
   },
   "file_extension": ".py",
   "mimetype": "text/x-python",
   "name": "python",
   "nbconvert_exporter": "python",
   "pygments_lexer": "ipython3",
   "version": "3.8.5"
  }
 },
 "nbformat": 4,
 "nbformat_minor": 5
}
