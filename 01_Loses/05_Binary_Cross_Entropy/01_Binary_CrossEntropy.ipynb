{
 "cells": [
  {
   "cell_type": "markdown",
   "id": "bibliographic-viking",
   "metadata": {},
   "source": [
    "### Binary_CrossEntropy\n",
    "* Computes the cross-entropy loss between true labels and predicted labels.\n",
    "* In this case predicted classes must be `2` that's why it is called binary, its either a true of a false.\n",
    "* True labels must be integers.\n",
    "\n",
    "```python\n",
    "tf.keras.losses.BinaryCrossentropy(\n",
    "    from_logits=False, label_smoothing=0, reduction=losses_utils.ReductionV2.AUTO,\n",
    "    name='binary_crossentropy'\n",
    ")\n",
    "````"
   ]
  },
  {
   "cell_type": "code",
   "execution_count": 1,
   "id": "arranged-cincinnati",
   "metadata": {},
   "outputs": [],
   "source": [
    "import tensorflow as tf"
   ]
  },
  {
   "cell_type": "code",
   "execution_count": 3,
   "id": "liberal-monroe",
   "metadata": {},
   "outputs": [],
   "source": [
    "y_true = tf.constant([1, 0, 0, 1, 1, 1, 0])\n",
    "y_pred = tf.constant([0.5, 0.5, 0.6, 0.4, .3, .3, .5])"
   ]
  },
  {
   "cell_type": "markdown",
   "id": "quantitative-street",
   "metadata": {},
   "source": [
    "### Using `Binary_CrossEntropy` in Tensorflow."
   ]
  },
  {
   "cell_type": "code",
   "execution_count": 4,
   "id": "starting-shark",
   "metadata": {},
   "outputs": [
    {
     "data": {
      "text/plain": [
       "<tensorflow.python.keras.losses.BinaryCrossentropy at 0x2660ab3c880>"
      ]
     },
     "execution_count": 4,
     "metadata": {},
     "output_type": "execute_result"
    }
   ],
   "source": [
    "criterion = tf.keras.losses.BinaryCrossentropy()\n",
    "criterion"
   ]
  },
  {
   "cell_type": "code",
   "execution_count": 5,
   "id": "parallel-concrete",
   "metadata": {},
   "outputs": [
    {
     "name": "stdout",
     "output_type": "stream",
     "text": [
      "loss: 0.903\n"
     ]
    }
   ],
   "source": [
    "loss = criterion(y_true, y_pred)\n",
    "print(f\"loss: {loss.numpy():.3f}\")"
   ]
  }
 ],
 "metadata": {
  "kernelspec": {
   "display_name": "Python 3",
   "language": "python",
   "name": "python3"
  },
  "language_info": {
   "codemirror_mode": {
    "name": "ipython",
    "version": 3
   },
   "file_extension": ".py",
   "mimetype": "text/x-python",
   "name": "python",
   "nbconvert_exporter": "python",
   "pygments_lexer": "ipython3",
   "version": "3.8.5"
  }
 },
 "nbformat": 4,
 "nbformat_minor": 5
}
