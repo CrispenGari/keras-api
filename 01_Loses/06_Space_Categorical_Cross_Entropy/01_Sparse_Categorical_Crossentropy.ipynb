{
 "cells": [
  {
   "cell_type": "markdown",
   "id": "demographic-sierra",
   "metadata": {},
   "source": [
    "### `SparseCategoricalCrossentropy`\n",
    "* Computes the crossentropy loss between the labels and predictions.\n",
    "* Used in muticlassification tasks\n",
    "* In this loss the true labels yould be represented as an integer not `one_hot` encorded label.\n",
    "\n",
    "```python\n",
    "tf.keras.losses.SparseCategoricalCrossentropy(\n",
    "    from_logits=False, reduction=losses_utils.ReductionV2.AUTO,\n",
    "    name='sparse_categorical_crossentropy'\n",
    ")\n",
    "```"
   ]
  },
  {
   "cell_type": "code",
   "execution_count": 1,
   "id": "contrary-surfing",
   "metadata": {},
   "outputs": [],
   "source": [
    "import tensorflow as tf"
   ]
  },
  {
   "cell_type": "code",
   "execution_count": 2,
   "id": "stopped-literacy",
   "metadata": {},
   "outputs": [],
   "source": [
    "y_true = tf.constant([1, 0, 1, 2, 1])\n",
    "y_pred = tf.constant([[0.8, 0.1, 0.1],\n",
    "                      [0.7, 0.2, 0.1],\n",
    "                      [0.1, 0.6, 0.3],\n",
    "                      [0.05, 0.05, 0.9],\n",
    "                      [0.5, 0.4, 0.1],\n",
    "                     ])"
   ]
  },
  {
   "cell_type": "markdown",
   "id": "atomic-probe",
   "metadata": {},
   "source": [
    "### Using the `SparseCategoricalCrossentropy` to calculate the loss in tensorflow."
   ]
  },
  {
   "cell_type": "code",
   "execution_count": 4,
   "id": "adaptive-maine",
   "metadata": {},
   "outputs": [
    {
     "data": {
      "text/plain": [
       "<tensorflow.python.keras.losses.SparseCategoricalCrossentropy at 0x1ea7258bac0>"
      ]
     },
     "execution_count": 4,
     "metadata": {},
     "output_type": "execute_result"
    }
   ],
   "source": [
    "criterion = tf.keras.losses.SparseCategoricalCrossentropy()\n",
    "criterion"
   ]
  },
  {
   "cell_type": "code",
   "execution_count": 6,
   "id": "artistic-cyprus",
   "metadata": {},
   "outputs": [
    {
     "name": "stdout",
     "output_type": "stream",
     "text": [
      "loss: 0.838\n"
     ]
    }
   ],
   "source": [
    "loss = criterion(y_true, y_pred)\n",
    "print(f\"loss: {loss.numpDSy():.3f}\")"
   ]
  }
 ],
 "metadata": {
  "kernelspec": {
   "display_name": "Python 3",
   "language": "python",
   "name": "python3"
  },
  "language_info": {
   "codemirror_mode": {
    "name": "ipython",
    "version": 3
   },
   "file_extension": ".py",
   "mimetype": "text/x-python",
   "name": "python",
   "nbconvert_exporter": "python",
   "pygments_lexer": "ipython3",
   "version": "3.8.5"
  }
 },
 "nbformat": 4,
 "nbformat_minor": 5
}
