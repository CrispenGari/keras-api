{
 "cells": [
  {
   "cell_type": "markdown",
   "id": "hairy-torture",
   "metadata": {},
   "source": [
    "### ``ReLU`` Activation Function"
   ]
  },
  {
   "cell_type": "code",
   "execution_count": 4,
   "id": "dramatic-savings",
   "metadata": {},
   "outputs": [],
   "source": [
    "import tensorflow as tf\n",
    "import matplotlib.pyplot as plt\n",
    "import numpy as np"
   ]
  },
  {
   "cell_type": "markdown",
   "id": "living-agriculture",
   "metadata": {},
   "source": [
    "### `Relu` and TensorFlow"
   ]
  },
  {
   "cell_type": "code",
   "execution_count": 7,
   "id": "robust-compound",
   "metadata": {},
   "outputs": [
    {
     "data": {
      "text/plain": [
       "<tf.Tensor: shape=(20,), dtype=float32, numpy=\n",
       "array([-10.,  -9.,  -8.,  -7.,  -6.,  -5.,  -4.,  -3.,  -2.,  -1.,   0.,\n",
       "         1.,   2.,   3.,   4.,   5.,   6.,   7.,   8.,   9.],\n",
       "      dtype=float32)>"
      ]
     },
     "execution_count": 7,
     "metadata": {},
     "output_type": "execute_result"
    }
   ],
   "source": [
    "inputs = tf.constant(np.arange(-10, 10), dtype=tf.float32)\n",
    "inputs"
   ]
  },
  {
   "cell_type": "code",
   "execution_count": 8,
   "id": "united-checkout",
   "metadata": {},
   "outputs": [
    {
     "data": {
      "text/plain": [
       "<tf.Tensor: shape=(20,), dtype=float32, numpy=\n",
       "array([0., 0., 0., 0., 0., 0., 0., 0., 0., 0., 0., 1., 2., 3., 4., 5., 6.,\n",
       "       7., 8., 9.], dtype=float32)>"
      ]
     },
     "execution_count": 8,
     "metadata": {},
     "output_type": "execute_result"
    }
   ],
   "source": [
    "outputs = tf.keras.activations.relu(inputs)\n",
    "outputs"
   ]
  },
  {
   "cell_type": "markdown",
   "id": "terminal-township",
   "metadata": {},
   "source": [
    "> This activations turns all numbers that aree less than ``0`` to `zeros` and others remains unchanged."
   ]
  },
  {
   "cell_type": "code",
   "execution_count": 12,
   "id": "digital-apache",
   "metadata": {},
   "outputs": [
    {
     "data": {
      "text/plain": [
       "<tf.Tensor: shape=(20,), dtype=float32, numpy=\n",
       "array([0., 0., 0., 0., 0., 0., 0., 0., 0., 0., 0., 1., 2., 3., 4., 5., 6.,\n",
       "       7., 8., 9.], dtype=float32)>"
      ]
     },
     "execution_count": 12,
     "metadata": {},
     "output_type": "execute_result"
    }
   ],
   "source": [
    "outputs = tf.maximum(inputs, 0)\n",
    "outputs"
   ]
  },
  {
   "cell_type": "markdown",
   "id": "annual-louis",
   "metadata": {},
   "source": [
    "> The output is still the same. Let's create a class `Activation` and implemant the `math` behind `ReLU`\n",
    "\n",
    "<p align='center'>\n",
    "    <img src='https://miro.medium.com/proxy/1*ZD5kma5J-6UabfEwERv_dQ.png'/>\n",
    "</p>"
   ]
  },
  {
   "cell_type": "code",
   "execution_count": 25,
   "id": "corresponding-crowd",
   "metadata": {},
   "outputs": [],
   "source": [
    "class Activations:\n",
    "    def __init__(self):\n",
    "        pass\n",
    "    \n",
    "    def relu(self, x):\n",
    "        return tf.maximum(x, 0)\n",
    "    \n",
    "    def relu_(self, x):\n",
    "        return tf.constant([0 if i< 0 else i for i in x.numpy()], dtype=x.dtype)"
   ]
  },
  {
   "cell_type": "code",
   "execution_count": 26,
   "id": "static-bracelet",
   "metadata": {},
   "outputs": [],
   "source": [
    "activations = Activations()"
   ]
  },
  {
   "cell_type": "code",
   "execution_count": 27,
   "id": "funky-symposium",
   "metadata": {},
   "outputs": [
    {
     "data": {
      "text/plain": [
       "<tf.Tensor: shape=(20,), dtype=float32, numpy=\n",
       "array([0., 0., 0., 0., 0., 0., 0., 0., 0., 0., 0., 1., 2., 3., 4., 5., 6.,\n",
       "       7., 8., 9.], dtype=float32)>"
      ]
     },
     "execution_count": 27,
     "metadata": {},
     "output_type": "execute_result"
    }
   ],
   "source": [
    "output = activations.relu(inputs)\n",
    "output"
   ]
  },
  {
   "cell_type": "markdown",
   "id": "mature-deputy",
   "metadata": {},
   "source": [
    "> Output is still the same"
   ]
  },
  {
   "cell_type": "code",
   "execution_count": 28,
   "id": "opened-daisy",
   "metadata": {},
   "outputs": [
    {
     "data": {
      "text/plain": [
       "<tf.Tensor: shape=(20,), dtype=float32, numpy=\n",
       "array([0., 0., 0., 0., 0., 0., 0., 0., 0., 0., 0., 1., 2., 3., 4., 5., 6.,\n",
       "       7., 8., 9.], dtype=float32)>"
      ]
     },
     "execution_count": 28,
     "metadata": {},
     "output_type": "execute_result"
    }
   ],
   "source": [
    "outputs = activations.relu_(inputs)\n",
    "outputs"
   ]
  },
  {
   "cell_type": "markdown",
   "id": "developing-apparel",
   "metadata": {},
   "source": [
    "> The output is still the same.\n",
    "\n",
    "### Visualisation of the `ReLU` activation function"
   ]
  },
  {
   "cell_type": "code",
   "execution_count": 29,
   "id": "perfect-south",
   "metadata": {},
   "outputs": [
    {
     "data": {
      "text/plain": [
       "(<tf.Tensor: shape=(20,), dtype=float32, numpy=\n",
       " array([-10.,  -9.,  -8.,  -7.,  -6.,  -5.,  -4.,  -3.,  -2.,  -1.,   0.,\n",
       "          1.,   2.,   3.,   4.,   5.,   6.,   7.,   8.,   9.],\n",
       "       dtype=float32)>,\n",
       " <tf.Tensor: shape=(20,), dtype=float32, numpy=\n",
       " array([0., 0., 0., 0., 0., 0., 0., 0., 0., 0., 0., 1., 2., 3., 4., 5., 6.,\n",
       "        7., 8., 9.], dtype=float32)>)"
      ]
     },
     "execution_count": 29,
     "metadata": {},
     "output_type": "execute_result"
    }
   ],
   "source": [
    "inputs, outputs"
   ]
  },
  {
   "cell_type": "code",
   "execution_count": 31,
   "id": "thermal-moral",
   "metadata": {},
   "outputs": [
    {
     "data": {
      "image/png": "[encoded data removed]",
      "text/plain": [
       "<Figure size 432x288 with 1 Axes>"
      ]
     },
     "metadata": {
      "needs_background": "light"
     },
     "output_type": "display_data"
    }
   ],
   "source": [
    "plt.plot(inputs, outputs)\n",
    "plt.title('ReLU')\n",
    "plt.show()"
   ]
  },
  {
   "cell_type": "code",
   "execution_count": null,
   "id": "progressive-roulette",
   "metadata": {},
   "outputs": [],
   "source": []
  }
 ],
 "metadata": {
  "kernelspec": {
   "display_name": "Python 3",
   "language": "python",
   "name": "python3"
  },
  "language_info": {
   "codemirror_mode": {
    "name": "ipython",
    "version": 3
   },
   "file_extension": ".py",
   "mimetype": "text/x-python",
   "name": "python",
   "nbconvert_exporter": "python",
   "pygments_lexer": "ipython3",
   "version": "3.8.5"
  }
 },
 "nbformat": 4,
 "nbformat_minor": 5
}
