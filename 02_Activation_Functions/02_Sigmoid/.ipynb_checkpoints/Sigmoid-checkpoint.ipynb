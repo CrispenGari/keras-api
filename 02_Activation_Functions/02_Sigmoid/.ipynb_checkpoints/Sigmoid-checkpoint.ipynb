{
 "cells": [
  {
   "cell_type": "markdown",
   "id": "characteristic-exemption",
   "metadata": {},
   "source": [
    "### ``Sigmoid``\n",
    "> Sigmoid activation function,  `sigmoid(x) = 1 / (1 + exp(-x))`"
   ]
  },
  {
   "cell_type": "code",
   "execution_count": 1,
   "id": "internal-midwest",
   "metadata": {},
   "outputs": [],
   "source": [
    "import numpy as np\n",
    "import matplotlib.pyplot as plt\n",
    "import tensorflow as tf"
   ]
  },
  {
   "cell_type": "code",
   "execution_count": 3,
   "id": "coupled-titanium",
   "metadata": {},
   "outputs": [
    {
     "data": {
      "text/plain": [
       "<tf.Tensor: shape=(20,), dtype=float32, numpy=\n",
       "array([-10.,  -9.,  -8.,  -7.,  -6.,  -5.,  -4.,  -3.,  -2.,  -1.,   0.,\n",
       "         1.,   2.,   3.,   4.,   5.,   6.,   7.,   8.,   9.],\n",
       "      dtype=float32)>"
      ]
     },
     "execution_count": 3,
     "metadata": {},
     "output_type": "execute_result"
    }
   ],
   "source": [
    "x = tf.constant(np.arange(-10, 10), dtype=tf.float32)\n",
    "x"
   ]
  },
  {
   "cell_type": "markdown",
   "id": "worldwide-superintendent",
   "metadata": {},
   "source": [
    "### `Sigmoid` TensorFlow"
   ]
  },
  {
   "cell_type": "code",
   "execution_count": 5,
   "id": "divided-miniature",
   "metadata": {},
   "outputs": [
    {
     "data": {
      "text/plain": [
       "<tf.Tensor: shape=(20,), dtype=float32, numpy=\n",
       "array([4.5399931e-05, 1.2341142e-04, 3.3542514e-04, 9.1102719e-04,\n",
       "       2.4726391e-03, 6.6928566e-03, 1.7986238e-02, 4.7425866e-02,\n",
       "       1.1920291e-01, 2.6894143e-01, 5.0000000e-01, 7.3105860e-01,\n",
       "       8.8079709e-01, 9.5257413e-01, 9.8201376e-01, 9.9330711e-01,\n",
       "       9.9752736e-01, 9.9908900e-01, 9.9966455e-01, 9.9987662e-01],\n",
       "      dtype=float32)>"
      ]
     },
     "execution_count": 5,
     "metadata": {},
     "output_type": "execute_result"
    }
   ],
   "source": [
    "outputs = tf.keras.activations.sigmoid(x)\n",
    "outputs"
   ]
  },
  {
   "cell_type": "markdown",
   "id": "efficient-cylinder",
   "metadata": {},
   "source": [
    "> Using a `sigmoid` formular to create an activation function\n",
    " \n",
    " <p align=\"center\">\n",
    "    <img src=\"https://analyticsindiamag.com/wp-content/uploads/2018/01/sigmoid-equation.png\"/>\n",
    "</p>\n"
   ]
  },
  {
   "cell_type": "code",
   "execution_count": 8,
   "id": "through-stone",
   "metadata": {},
   "outputs": [],
   "source": [
    "class Activations:\n",
    "    def __init__(self):\n",
    "        pass\n",
    "    \n",
    "    def sigmoid(self, x):\n",
    "        return 1/ (1 + tf.exp(-x))\n",
    "    \n",
    "    def sigmoid_(self, x):\n",
    "        return tf.constant(1/(1 + np.exp(-x)))"
   ]
  },
  {
   "cell_type": "code",
   "execution_count": 10,
   "id": "ongoing-council",
   "metadata": {},
   "outputs": [
    {
     "data": {
      "text/plain": [
       "<tf.Tensor: shape=(20,), dtype=float32, numpy=\n",
       "array([4.5397872e-05, 1.2339458e-04, 3.3535014e-04, 9.1105117e-04,\n",
       "       2.4726230e-03, 6.6928510e-03, 1.7986210e-02, 4.7425874e-02,\n",
       "       1.1920292e-01, 2.6894143e-01, 5.0000000e-01, 7.3105860e-01,\n",
       "       8.8079703e-01, 9.5257413e-01, 9.8201376e-01, 9.9330717e-01,\n",
       "       9.9752742e-01, 9.9908900e-01, 9.9966466e-01, 9.9987662e-01],\n",
       "      dtype=float32)>"
      ]
     },
     "execution_count": 10,
     "metadata": {},
     "output_type": "execute_result"
    }
   ],
   "source": [
    "activations = Activations()\n",
    "outputs = activations.sigmoid(x)\n",
    "outputs"
   ]
  },
  {
   "cell_type": "markdown",
   "id": "brilliant-apparatus",
   "metadata": {},
   "source": [
    "> The output is the same."
   ]
  },
  {
   "cell_type": "code",
   "execution_count": 11,
   "id": "confidential-jumping",
   "metadata": {},
   "outputs": [
    {
     "data": {
      "text/plain": [
       "<tf.Tensor: shape=(20,), dtype=float32, numpy=\n",
       "array([4.5397872e-05, 1.2339458e-04, 3.3535014e-04, 9.1105117e-04,\n",
       "       2.4726230e-03, 6.6928510e-03, 1.7986210e-02, 4.7425874e-02,\n",
       "       1.1920292e-01, 2.6894143e-01, 5.0000000e-01, 7.3105860e-01,\n",
       "       8.8079703e-01, 9.5257413e-01, 9.8201376e-01, 9.9330717e-01,\n",
       "       9.9752742e-01, 9.9908900e-01, 9.9966466e-01, 9.9987662e-01],\n",
       "      dtype=float32)>"
      ]
     },
     "execution_count": 11,
     "metadata": {},
     "output_type": "execute_result"
    }
   ],
   "source": [
    "activations = Activations()\n",
    "outputs = activations.sigmoid_(x)\n",
    "outputs"
   ]
  },
  {
   "cell_type": "markdown",
   "id": "portuguese-prince",
   "metadata": {},
   "source": [
    "> The output is still the same, Let's visualize the `sigmoid` activation function."
   ]
  },
  {
   "cell_type": "code",
   "execution_count": 12,
   "id": "modular-summary",
   "metadata": {},
   "outputs": [
    {
     "data": {
      "image/png": "[encoded data removed]",
      "text/plain": [
       "<Figure size 432x288 with 1 Axes>"
      ]
     },
     "metadata": {
      "needs_background": "light"
     },
     "output_type": "display_data"
    }
   ],
   "source": [
    "plt.plot(x, outputs)\n",
    "plt.title(\"Sigmoid\")\n",
    "plt.show()"
   ]
  },
  {
   "cell_type": "code",
   "execution_count": null,
   "id": "thick-stereo",
   "metadata": {},
   "outputs": [],
   "source": []
  }
 ],
 "metadata": {
  "kernelspec": {
   "display_name": "Python 3",
   "language": "python",
   "name": "python3"
  },
  "language_info": {
   "codemirror_mode": {
    "name": "ipython",
    "version": 3
   },
   "file_extension": ".py",
   "mimetype": "text/x-python",
   "name": "python",
   "nbconvert_exporter": "python",
   "pygments_lexer": "ipython3",
   "version": "3.8.5"
  }
 },
 "nbformat": 4,
 "nbformat_minor": 5
}
