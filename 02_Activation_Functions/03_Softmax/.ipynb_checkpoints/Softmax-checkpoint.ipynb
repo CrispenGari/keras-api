{
 "cells": [
  {
   "cell_type": "markdown",
   "id": "known-damages",
   "metadata": {},
   "source": [
    "### `Softmax` Activation function\n",
    "* Softmax converts a vector of values to a probability distribution.\n",
    "````\n",
    " softmax(x) = exp(x) / tf.reduce_sum(exp(x))\n",
    "````"
   ]
  },
  {
   "cell_type": "code",
   "execution_count": 2,
   "id": "potential-village",
   "metadata": {},
   "outputs": [],
   "source": [
    "import numpy as np\n",
    "import matplotlib.pyplot as plt\n",
    "import tensorflow as tf"
   ]
  },
  {
   "cell_type": "code",
   "execution_count": 3,
   "id": "danish-handle",
   "metadata": {},
   "outputs": [
    {
     "data": {
      "text/plain": [
       "<tf.Tensor: shape=(20,), dtype=float32, numpy=\n",
       "array([-10.,  -9.,  -8.,  -7.,  -6.,  -5.,  -4.,  -3.,  -2.,  -1.,   0.,\n",
       "         1.,   2.,   3.,   4.,   5.,   6.,   7.,   8.,   9.],\n",
       "      dtype=float32)>"
      ]
     },
     "execution_count": 3,
     "metadata": {},
     "output_type": "execute_result"
    }
   ],
   "source": [
    "x = tf.constant(np.arange(-10, 10), dtype=tf.float32)\n",
    "x"
   ]
  },
  {
   "cell_type": "markdown",
   "id": "inappropriate-patch",
   "metadata": {},
   "source": [
    "### ``Softmax`` in TensorFlow"
   ]
  },
  {
   "cell_type": "code",
   "execution_count": 31,
   "id": "seeing-adoption",
   "metadata": {},
   "outputs": [
    {
     "data": {
      "text/plain": [
       "<tf.Tensor: shape=(1, 20), dtype=float32, numpy=\n",
       "array([[3.5416432e-09, 9.6271835e-09, 2.6169397e-08, 7.1135801e-08,\n",
       "        1.9336716e-07, 5.2562643e-07, 1.4288008e-06, 3.8838834e-06,\n",
       "        1.0557489e-05, 2.8698232e-05, 7.8009878e-05, 2.1205284e-04,\n",
       "        5.7641941e-04, 1.5668704e-03, 4.2591952e-03, 1.1577693e-02,\n",
       "        3.1471431e-02, 8.5548222e-02, 2.3254418e-01, 6.3212061e-01]],\n",
       "      dtype=float32)>"
      ]
     },
     "execution_count": 31,
     "metadata": {},
     "output_type": "execute_result"
    }
   ],
   "source": [
    "outputs = tf.keras.activations.softmax(tf.reshape(x, shape=(1, 20)))\n",
    "outputs"
   ]
  },
  {
   "cell_type": "markdown",
   "id": "banned-battlefield",
   "metadata": {},
   "source": [
    "> The output probabilities of the `softmax` function must add up to `1`"
   ]
  },
  {
   "cell_type": "code",
   "execution_count": 14,
   "id": "authorized-experience",
   "metadata": {},
   "outputs": [
    {
     "data": {
      "text/plain": [
       "<tf.Tensor: shape=(), dtype=float32, numpy=1.0000001>"
      ]
     },
     "execution_count": 14,
     "metadata": {},
     "output_type": "execute_result"
    }
   ],
   "source": [
    "tf.reduce_sum(outputs)"
   ]
  },
  {
   "cell_type": "markdown",
   "id": "ready-anderson",
   "metadata": {},
   "source": [
    "> Let's create a `Softmax` activation function.\n",
    "\n",
    "<p align=\"center\">\n",
    "    <img src=\"https://miro.medium.com/max/728/1*ui7n5s48-qNF7BBGfDPioQ.png\"/>\n",
    "</p>\n"
   ]
  },
  {
   "cell_type": "code",
   "execution_count": 42,
   "id": "operating-knowing",
   "metadata": {},
   "outputs": [],
   "source": [
    "class Activations:\n",
    "    def __init__(self):\n",
    "        pass\n",
    "    \n",
    "    def softmax(self, x):\n",
    "        return tf.exp(x)/ tf.reduce_sum(tf.exp(x))\n",
    "    \n",
    "    def softmax_(self, x):\n",
    "        return tf.constant(np.exp(x.numpy())/np.sum(np.exp(x.numpy())), dtype=x.dtype)\n",
    "    "
   ]
  },
  {
   "cell_type": "code",
   "execution_count": 46,
   "id": "certified-universal",
   "metadata": {},
   "outputs": [
    {
     "data": {
      "text/plain": [
       "(<tf.Tensor: shape=(20,), dtype=float32, numpy=\n",
       " array([3.5416430e-09, 9.6271835e-09, 2.6169397e-08, 7.1135801e-08,\n",
       "        1.9336716e-07, 5.2562643e-07, 1.4288007e-06, 3.8838830e-06,\n",
       "        1.0557488e-05, 2.8698230e-05, 7.8009878e-05, 2.1205282e-04,\n",
       "        5.7641935e-04, 1.5668703e-03, 4.2591952e-03, 1.1577693e-02,\n",
       "        3.1471431e-02, 8.5548222e-02, 2.3254417e-01, 6.3212061e-01],\n",
       "       dtype=float32)>,\n",
       " <tf.Tensor: shape=(), dtype=float32, numpy=0.99999994>)"
      ]
     },
     "execution_count": 46,
     "metadata": {},
     "output_type": "execute_result"
    }
   ],
   "source": [
    "activations = Activations()\n",
    "outputs =  activations.softmax(x)\n",
    "outputs, tf.reduce_sum(output)"
   ]
  },
  {
   "cell_type": "code",
   "execution_count": null,
   "id": "occupational-operations",
   "metadata": {},
   "outputs": [],
   "source": []
  },
  {
   "cell_type": "code",
   "execution_count": 44,
   "id": "strong-sauce",
   "metadata": {},
   "outputs": [
    {
     "data": {
      "text/plain": [
       "(<tf.Tensor: shape=(20,), dtype=float32, numpy=\n",
       " array([3.5416428e-09, 9.6271826e-09, 2.6169396e-08, 7.1135794e-08,\n",
       "        1.9336714e-07, 5.2562638e-07, 1.4288006e-06, 3.8838825e-06,\n",
       "        1.0557488e-05, 2.8698229e-05, 7.8009871e-05, 2.1205281e-04,\n",
       "        5.7641929e-04, 1.5668701e-03, 4.2591947e-03, 1.1577692e-02,\n",
       "        3.1471428e-02, 8.5548215e-02, 2.3254415e-01, 6.3212055e-01],\n",
       "       dtype=float32)>,\n",
       " <tf.Tensor: shape=(), dtype=float32, numpy=0.99999994>)"
      ]
     },
     "execution_count": 44,
     "metadata": {},
     "output_type": "execute_result"
    }
   ],
   "source": [
    "output =  activations.softmax_(x)\n",
    "output, tf.reduce_sum(output)"
   ]
  },
  {
   "cell_type": "markdown",
   "id": "corresponding-ghana",
   "metadata": {},
   "source": [
    "> The output is the same except the one for numpy implementation which has a ``tiny`` difference"
   ]
  },
  {
   "cell_type": "markdown",
   "id": "organizational-challenge",
   "metadata": {},
   "source": [
    "> Let's plot the `Softmax` activation function"
   ]
  },
  {
   "cell_type": "code",
   "execution_count": 47,
   "id": "exact-placement",
   "metadata": {},
   "outputs": [
    {
     "data": {
      "image/png": "[encoded data removed]",
      "text/plain": [
       "<Figure size 432x288 with 1 Axes>"
      ]
     },
     "metadata": {
      "needs_background": "light"
     },
     "output_type": "display_data"
    }
   ],
   "source": [
    "plt.plot(x, outputs)\n",
    "plt.title(\"Softmax\")\n",
    "plt.show()"
   ]
  },
  {
   "cell_type": "code",
   "execution_count": null,
   "id": "spanish-article",
   "metadata": {},
   "outputs": [],
   "source": []
  }
 ],
 "metadata": {
  "kernelspec": {
   "display_name": "Python 3",
   "language": "python",
   "name": "python3"
  },
  "language_info": {
   "codemirror_mode": {
    "name": "ipython",
    "version": 3
   },
   "file_extension": ".py",
   "mimetype": "text/x-python",
   "name": "python",
   "nbconvert_exporter": "python",
   "pygments_lexer": "ipython3",
   "version": "3.8.5"
  }
 },
 "nbformat": 4,
 "nbformat_minor": 5
}
