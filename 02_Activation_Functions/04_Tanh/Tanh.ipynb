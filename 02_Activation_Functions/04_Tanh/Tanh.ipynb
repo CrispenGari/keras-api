{
 "cells": [
  {
   "cell_type": "markdown",
   "id": "freelance-trading",
   "metadata": {},
   "source": [
    "### `Tanh` Activation function\n",
    "* Hyperbolic tangent activation function.\n",
    "````\n",
    " tanh(x) = sinh(x)/cosh(x) = ((exp(x) - exp(-x))/(exp(x) + exp(-x))).\n",
    "````"
   ]
  },
  {
   "cell_type": "code",
   "execution_count": 16,
   "id": "julian-carrier",
   "metadata": {},
   "outputs": [],
   "source": [
    "import numpy as np\n",
    "import matplotlib.pyplot as plt\n",
    "import tensorflow as tf"
   ]
  },
  {
   "cell_type": "code",
   "execution_count": 2,
   "id": "nearby-cylinder",
   "metadata": {},
   "outputs": [
    {
     "data": {
      "text/plain": [
       "<tf.Tensor: shape=(20,), dtype=float32, numpy=\n",
       "array([-10.,  -9.,  -8.,  -7.,  -6.,  -5.,  -4.,  -3.,  -2.,  -1.,   0.,\n",
       "         1.,   2.,   3.,   4.,   5.,   6.,   7.,   8.,   9.],\n",
       "      dtype=float32)>"
      ]
     },
     "execution_count": 2,
     "metadata": {},
     "output_type": "execute_result"
    }
   ],
   "source": [
    "x = tf.constant(np.arange(-10, 10), dtype=tf.float32)\n",
    "x"
   ]
  },
  {
   "cell_type": "markdown",
   "id": "computational-standard",
   "metadata": {},
   "source": [
    "### Using TensorFlow `Tanh` activation function"
   ]
  },
  {
   "cell_type": "code",
   "execution_count": 3,
   "id": "congressional-category",
   "metadata": {},
   "outputs": [
    {
     "data": {
      "text/plain": [
       "<tf.Tensor: shape=(20,), dtype=float32, numpy=\n",
       "array([-1.        , -1.        , -1.        , -0.99999833, -0.99998784,\n",
       "       -0.99990916, -0.9993292 , -0.9950547 , -0.9640276 , -0.7615942 ,\n",
       "        0.        ,  0.7615942 ,  0.9640276 ,  0.9950547 ,  0.9993292 ,\n",
       "        0.99990916,  0.99998784,  0.99999833,  1.        ,  1.        ],\n",
       "      dtype=float32)>"
      ]
     },
     "execution_count": 3,
     "metadata": {},
     "output_type": "execute_result"
    }
   ],
   "source": [
    "outputs = tf.keras.activations.tanh(x)\n",
    "outputs"
   ]
  },
  {
   "cell_type": "markdown",
   "id": "german-lawyer",
   "metadata": {},
   "source": [
    "> Creating our `tanh` activation function.\n",
    "\n",
    "<p align=\"center\">\n",
    "    <img src=\"https://miro.medium.com/max/1288/1*WNTLbBRWFiHPoXvyZ6s9eg.png\"/>\n",
    "</p>\n"
   ]
  },
  {
   "cell_type": "code",
   "execution_count": 10,
   "id": "harmful-animal",
   "metadata": {},
   "outputs": [],
   "source": [
    "class Activations:\n",
    "    def __init__(self):\n",
    "        pass\n",
    "    \n",
    "    def tanh(self, x):\n",
    "        return 2/(1 + tf.exp(-2*x)) -1\n",
    "    \n",
    "    def tanh_(self, x):\n",
    "        return (2/(1 + np.exp(-2*x))) -1"
   ]
  },
  {
   "cell_type": "code",
   "execution_count": 11,
   "id": "arctic-customer",
   "metadata": {},
   "outputs": [
    {
     "data": {
      "text/plain": [
       "<tf.Tensor: shape=(20,), dtype=float32, numpy=\n",
       "array([-1.        , -0.99999994, -0.99999976, -0.99999833, -0.9999877 ,\n",
       "       -0.9999092 , -0.9993293 , -0.9950548 , -0.9640276 , -0.7615942 ,\n",
       "        0.        ,  0.76159406,  0.9640275 ,  0.99505484,  0.9993293 ,\n",
       "        0.99990916,  0.9999876 ,  0.99999833,  0.99999976,  1.        ],\n",
       "      dtype=float32)>"
      ]
     },
     "execution_count": 11,
     "metadata": {},
     "output_type": "execute_result"
    }
   ],
   "source": [
    "activations = Activations()\n",
    "activations.tanh(x)"
   ]
  },
  {
   "cell_type": "markdown",
   "id": "dynamic-phoenix",
   "metadata": {},
   "source": [
    "> The output we got is almost the same from the previous"
   ]
  },
  {
   "cell_type": "code",
   "execution_count": 12,
   "id": "thrown-advisory",
   "metadata": {},
   "outputs": [
    {
     "data": {
      "text/plain": [
       "array([-1.        , -0.99999994, -0.99999976, -0.99999833, -0.9999877 ,\n",
       "       -0.9999092 , -0.9993293 , -0.9950548 , -0.9640276 , -0.7615942 ,\n",
       "        0.        ,  0.76159406,  0.9640275 ,  0.99505484,  0.9993293 ,\n",
       "        0.99990916,  0.9999876 ,  0.99999833,  0.99999976,  1.        ],\n",
       "      dtype=float32)"
      ]
     },
     "execution_count": 12,
     "metadata": {},
     "output_type": "execute_result"
    }
   ],
   "source": [
    "activations = Activations()\n",
    "activations.tanh_(x)"
   ]
  },
  {
   "cell_type": "markdown",
   "id": "internal-slide",
   "metadata": {},
   "source": [
    "> The output we got is almost the same from the previous\n",
    "\n",
    "#### Ploting the `tanh` activation function"
   ]
  },
  {
   "cell_type": "code",
   "execution_count": 18,
   "id": "excellent-namibia",
   "metadata": {},
   "outputs": [
    {
     "data": {
      "image/png": "[encoded data removed]",
      "text/plain": [
       "<Figure size 432x288 with 1 Axes>"
      ]
     },
     "metadata": {
      "needs_background": "light"
     },
     "output_type": "display_data"
    }
   ],
   "source": [
    "plt.plot(x, outputs)\n",
    "plt.title =\"tanh\"\n",
    "plt.show()"
   ]
  },
  {
   "cell_type": "code",
   "execution_count": null,
   "id": "standard-graphics",
   "metadata": {},
   "outputs": [],
   "source": []
  }
 ],
 "metadata": {
  "kernelspec": {
   "display_name": "Python 3",
   "language": "python",
   "name": "python3"
  },
  "language_info": {
   "codemirror_mode": {
    "name": "ipython",
    "version": 3
   },
   "file_extension": ".py",
   "mimetype": "text/x-python",
   "name": "python",
   "nbconvert_exporter": "python",
   "pygments_lexer": "ipython3",
   "version": "3.8.5"
  }
 },
 "nbformat": 4,
 "nbformat_minor": 5
}
