{
 "cells": [
  {
   "cell_type": "markdown",
   "id": "norwegian-retailer",
   "metadata": {},
   "source": [
    "### LearningRateScheduler\n",
    "\n",
    "````tf.keras.callbacks.LearningRateScheduler(schedule, verbose=0)````\n",
    "\n",
    "\n",
    "At the beginning of every epoch, this callback gets the updated learning rate value from schedule function provided at `` __init__``, with the current epoch and current learning rate, and applies the updated learning rate on the optimizer.\n",
    "\n",
    "[Docs](https://keras.io/api/callbacks/learning_rate_scheduler/)"
   ]
  },
  {
   "cell_type": "markdown",
   "id": "rural-investing",
   "metadata": {},
   "source": [
    "### Usage Example"
   ]
  },
  {
   "cell_type": "code",
   "execution_count": 2,
   "id": "lucky-church",
   "metadata": {},
   "outputs": [],
   "source": [
    "import tensorflow as tf\n",
    "import tensorflow.keras as keras\n",
    "import numpy as np\n",
    "import matplotlib.pyplot as plt\n",
    "from sklearn.datasets import make_circles, make_classification"
   ]
  },
  {
   "cell_type": "code",
   "execution_count": 5,
   "id": "static-jefferson",
   "metadata": {},
   "outputs": [
    {
     "data": {
      "text/plain": [
       "((1000, 5), (1000,))"
      ]
     },
     "execution_count": 5,
     "metadata": {},
     "output_type": "execute_result"
    }
   ],
   "source": [
    "X, y = make_classification(n_samples = 1000, n_features=5\n",
    "                  )\n",
    "X.shape, y.shape"
   ]
  },
  {
   "cell_type": "markdown",
   "id": "ceramic-needle",
   "metadata": {},
   "source": [
    "> Split the data into training and testing"
   ]
  },
  {
   "cell_type": "code",
   "execution_count": 7,
   "id": "excited-football",
   "metadata": {},
   "outputs": [],
   "source": [
    "from sklearn.model_selection import train_test_split"
   ]
  },
  {
   "cell_type": "code",
   "execution_count": 8,
   "id": "defensive-sector",
   "metadata": {},
   "outputs": [],
   "source": [
    "X_train, X_test, y_train, y_test = train_test_split(X, y, random_state=42, test_size=.2)"
   ]
  },
  {
   "cell_type": "code",
   "execution_count": 11,
   "id": "addressed-minneapolis",
   "metadata": {},
   "outputs": [
    {
     "data": {
      "text/plain": [
       "(array([[ 1.17046646,  0.3370481 , -1.41621712,  2.08322014, -0.52590986],\n",
       "        [-0.66856995, -0.27529941,  0.89747558, -1.25400314, -2.24781014]]),\n",
       " array([1, 1]))"
      ]
     },
     "execution_count": 11,
     "metadata": {},
     "output_type": "execute_result"
    }
   ],
   "source": [
    "X_train[:2], y_test[:2]"
   ]
  },
  {
   "cell_type": "markdown",
   "id": "behind-indianapolis",
   "metadata": {},
   "source": [
    "### Let's make a binary Classification model"
   ]
  },
  {
   "cell_type": "code",
   "execution_count": 42,
   "id": "textile-worse",
   "metadata": {},
   "outputs": [
    {
     "name": "stdout",
     "output_type": "stream",
     "text": [
      "Epoch 1/100\n",
      "20/20 [==============================] - 1s 24ms/step - loss: 0.7027 - acc: 0.4586 - val_loss: 0.7055 - val_acc: 0.4375\n",
      "Epoch 2/100\n",
      "20/20 [==============================] - 0s 5ms/step - loss: 0.6905 - acc: 0.4900 - val_loss: 0.6776 - val_acc: 0.4437\n",
      "Epoch 3/100\n",
      "20/20 [==============================] - 0s 5ms/step - loss: 0.6605 - acc: 0.5177 - val_loss: 0.6474 - val_acc: 0.5312\n",
      "Epoch 4/100\n",
      "20/20 [==============================] - 0s 6ms/step - loss: 0.6407 - acc: 0.5672 - val_loss: 0.6162 - val_acc: 0.6750\n",
      "Epoch 5/100\n",
      "20/20 [==============================] - 0s 6ms/step - loss: 0.6064 - acc: 0.7064 - val_loss: 0.5809 - val_acc: 0.8562\n",
      "Epoch 6/100\n",
      "20/20 [==============================] - 0s 5ms/step - loss: 0.5812 - acc: 0.8200 - val_loss: 0.5375 - val_acc: 0.8875\n",
      "Epoch 7/100\n",
      "20/20 [==============================] - 0s 4ms/step - loss: 0.5389 - acc: 0.8557 - val_loss: 0.4881 - val_acc: 0.9000\n",
      "Epoch 8/100\n",
      "20/20 [==============================] - 0s 5ms/step - loss: 0.4843 - acc: 0.8801 - val_loss: 0.4364 - val_acc: 0.9062\n",
      "Epoch 9/100\n",
      "20/20 [==============================] - 0s 5ms/step - loss: 0.4723 - acc: 0.8452 - val_loss: 0.3891 - val_acc: 0.9125\n",
      "Epoch 10/100\n",
      "20/20 [==============================] - 0s 5ms/step - loss: 0.3970 - acc: 0.8869 - val_loss: 0.3440 - val_acc: 0.9250\n",
      "Epoch 11/100\n",
      "20/20 [==============================] - 0s 5ms/step - loss: 0.3731 - acc: 0.8934 - val_loss: 0.3064 - val_acc: 0.9250\n",
      "Epoch 12/100\n",
      "20/20 [==============================] - 0s 5ms/step - loss: 0.3379 - acc: 0.8888 - val_loss: 0.2742 - val_acc: 0.9250\n",
      "Epoch 13/100\n",
      "20/20 [==============================] - 0s 5ms/step - loss: 0.3115 - acc: 0.8887 - val_loss: 0.2473 - val_acc: 0.9312\n",
      "Epoch 14/100\n",
      "20/20 [==============================] - 0s 5ms/step - loss: 0.2583 - acc: 0.9102 - val_loss: 0.2235 - val_acc: 0.9312\n",
      "Epoch 15/100\n",
      "20/20 [==============================] - 0s 4ms/step - loss: 0.2667 - acc: 0.8992 - val_loss: 0.2031 - val_acc: 0.9312\n",
      "Epoch 16/100\n",
      "20/20 [==============================] - 0s 5ms/step - loss: 0.2346 - acc: 0.9227 - val_loss: 0.1851 - val_acc: 0.9312\n",
      "Epoch 17/100\n",
      "20/20 [==============================] - 0s 5ms/step - loss: 0.1937 - acc: 0.9296 - val_loss: 0.1715 - val_acc: 0.9312\n",
      "Epoch 18/100\n",
      "20/20 [==============================] - 0s 5ms/step - loss: 0.2000 - acc: 0.9289 - val_loss: 0.1531 - val_acc: 0.9312\n",
      "Epoch 19/100\n",
      "20/20 [==============================] - 0s 5ms/step - loss: 0.2133 - acc: 0.9102 - val_loss: 0.1397 - val_acc: 0.9375\n",
      "Epoch 20/100\n",
      "20/20 [==============================] - 0s 5ms/step - loss: 0.1570 - acc: 0.9455 - val_loss: 0.1291 - val_acc: 0.9500\n",
      "Epoch 21/100\n",
      "20/20 [==============================] - 0s 5ms/step - loss: 0.1377 - acc: 0.9695 - val_loss: 0.1138 - val_acc: 0.9563\n",
      "Epoch 22/100\n",
      "20/20 [==============================] - 0s 5ms/step - loss: 0.1323 - acc: 0.9658 - val_loss: 0.1018 - val_acc: 0.9750\n",
      "Epoch 23/100\n",
      "20/20 [==============================] - 0s 5ms/step - loss: 0.1232 - acc: 0.9656 - val_loss: 0.0918 - val_acc: 0.9750\n",
      "Epoch 24/100\n",
      "20/20 [==============================] - 0s 5ms/step - loss: 0.0927 - acc: 0.9733 - val_loss: 0.0836 - val_acc: 0.9875\n",
      "Epoch 25/100\n",
      "20/20 [==============================] - 0s 5ms/step - loss: 0.0773 - acc: 0.9785 - val_loss: 0.0809 - val_acc: 0.9875\n",
      "Epoch 26/100\n",
      "20/20 [==============================] - 0s 5ms/step - loss: 0.0900 - acc: 0.9799 - val_loss: 0.0747 - val_acc: 0.9875\n",
      "Epoch 27/100\n",
      "20/20 [==============================] - 0s 4ms/step - loss: 0.0823 - acc: 0.9739 - val_loss: 0.0746 - val_acc: 0.9875\n",
      "Epoch 28/100\n",
      "20/20 [==============================] - 0s 4ms/step - loss: 0.0914 - acc: 0.9742 - val_loss: 0.0805 - val_acc: 0.9812\n",
      "Epoch 29/100\n",
      "20/20 [==============================] - 0s 4ms/step - loss: 0.1081 - acc: 0.9674 - val_loss: 0.0762 - val_acc: 0.9875\n",
      "Epoch 30/100\n",
      "20/20 [==============================] - 0s 6ms/step - loss: 0.0743 - acc: 0.9816 - val_loss: 0.0677 - val_acc: 0.9812\n",
      "Epoch 31/100\n",
      "20/20 [==============================] - 0s 5ms/step - loss: 0.0778 - acc: 0.9769 - val_loss: 0.0809 - val_acc: 0.9750\n",
      "Epoch 32/100\n",
      "20/20 [==============================] - 0s 6ms/step - loss: 0.0698 - acc: 0.9781 - val_loss: 0.0702 - val_acc: 0.9812\n",
      "Epoch 33/100\n",
      "20/20 [==============================] - 0s 5ms/step - loss: 0.0652 - acc: 0.9862 - val_loss: 0.1350 - val_acc: 0.9500\n",
      "Epoch 34/100\n",
      "20/20 [==============================] - 0s 5ms/step - loss: 0.0999 - acc: 0.9633 - val_loss: 0.0698 - val_acc: 0.9875\n",
      "Epoch 35/100\n",
      "20/20 [==============================] - ETA: 0s - loss: 0.0178 - acc: 1.000 - 0s 5ms/step - loss: 0.0614 - acc: 0.9795 - val_loss: 0.0622 - val_acc: 0.9875\n",
      "Epoch 36/100\n",
      "20/20 [==============================] - 0s 5ms/step - loss: 0.0763 - acc: 0.9741 - val_loss: 0.0811 - val_acc: 0.9750\n",
      "Epoch 37/100\n",
      "20/20 [==============================] - 0s 5ms/step - loss: 0.0790 - acc: 0.9807 - val_loss: 0.1003 - val_acc: 0.9688\n",
      "Epoch 38/100\n",
      "20/20 [==============================] - 0s 5ms/step - loss: 0.1133 - acc: 0.9707 - val_loss: 0.0725 - val_acc: 0.9875\n",
      "Epoch 39/100\n",
      "20/20 [==============================] - 0s 5ms/step - loss: 0.0701 - acc: 0.9841 - val_loss: 0.0985 - val_acc: 0.9750\n",
      "Epoch 40/100\n",
      "20/20 [==============================] - 0s 5ms/step - loss: 0.0952 - acc: 0.9766 - val_loss: 0.0664 - val_acc: 0.9875\n",
      "Epoch 41/100\n",
      "20/20 [==============================] - 0s 5ms/step - loss: 0.1038 - acc: 0.9694 - val_loss: 0.0705 - val_acc: 0.9812\n",
      "Epoch 42/100\n",
      "20/20 [==============================] - 0s 5ms/step - loss: 0.1286 - acc: 0.9639 - val_loss: 0.0887 - val_acc: 0.9750\n",
      "Epoch 43/100\n",
      "20/20 [==============================] - 0s 5ms/step - loss: 0.1104 - acc: 0.9678 - val_loss: 0.1021 - val_acc: 0.9688\n",
      "Epoch 44/100\n",
      "20/20 [==============================] - 0s 5ms/step - loss: 0.1040 - acc: 0.9588 - val_loss: 0.0605 - val_acc: 0.9875\n",
      "Epoch 45/100\n",
      "20/20 [==============================] - 0s 5ms/step - loss: 0.0834 - acc: 0.9743 - val_loss: 0.0862 - val_acc: 0.9812\n",
      "Epoch 46/100\n",
      "20/20 [==============================] - 0s 5ms/step - loss: 0.1013 - acc: 0.9669 - val_loss: 0.0816 - val_acc: 0.9812\n",
      "Epoch 47/100\n",
      "20/20 [==============================] - 0s 5ms/step - loss: 0.1279 - acc: 0.9689 - val_loss: 0.0643 - val_acc: 0.9875\n",
      "Epoch 48/100\n",
      "20/20 [==============================] - 0s 5ms/step - loss: 0.0915 - acc: 0.9721 - val_loss: 0.0675 - val_acc: 0.9750\n",
      "Epoch 49/100\n",
      "20/20 [==============================] - 0s 5ms/step - loss: 0.0641 - acc: 0.9843 - val_loss: 0.0910 - val_acc: 0.9688\n",
      "Epoch 50/100\n",
      "20/20 [==============================] - 0s 5ms/step - loss: 0.1200 - acc: 0.9690 - val_loss: 0.1261 - val_acc: 0.9688\n",
      "Epoch 51/100\n",
      "20/20 [==============================] - 0s 5ms/step - loss: 0.1070 - acc: 0.9574 - val_loss: 0.0764 - val_acc: 0.9875\n",
      "Epoch 52/100\n",
      "20/20 [==============================] - 0s 5ms/step - loss: 0.1138 - acc: 0.9706 - val_loss: 0.0829 - val_acc: 0.9812\n",
      "Epoch 53/100\n",
      "20/20 [==============================] - 0s 5ms/step - loss: 0.1239 - acc: 0.9670 - val_loss: 0.0759 - val_acc: 0.9812\n",
      "Epoch 54/100\n",
      "20/20 [==============================] - 0s 5ms/step - loss: 0.1282 - acc: 0.9694 - val_loss: 0.1022 - val_acc: 0.9875\n",
      "Epoch 55/100\n",
      "20/20 [==============================] - 0s 5ms/step - loss: 0.1110 - acc: 0.9608 - val_loss: 0.0742 - val_acc: 0.9750\n",
      "Epoch 56/100\n",
      "20/20 [==============================] - 0s 5ms/step - loss: 0.0847 - acc: 0.9746 - val_loss: 0.0711 - val_acc: 0.9812\n",
      "Epoch 57/100\n",
      "20/20 [==============================] - 0s 5ms/step - loss: 0.1089 - acc: 0.9653 - val_loss: 0.1014 - val_acc: 0.9750\n",
      "Epoch 58/100\n",
      "20/20 [==============================] - 0s 5ms/step - loss: 0.0859 - acc: 0.9769 - val_loss: 0.0864 - val_acc: 0.9750\n",
      "Epoch 59/100\n",
      "20/20 [==============================] - 0s 5ms/step - loss: 0.0964 - acc: 0.9781 - val_loss: 0.1067 - val_acc: 0.9750\n",
      "Epoch 60/100\n",
      "20/20 [==============================] - 0s 5ms/step - loss: 0.1651 - acc: 0.9617 - val_loss: 0.2406 - val_acc: 0.9125\n",
      "Epoch 61/100\n",
      "20/20 [==============================] - 0s 5ms/step - loss: 0.1831 - acc: 0.9581 - val_loss: 0.3809 - val_acc: 0.9625\n",
      "Epoch 62/100\n",
      "20/20 [==============================] - 0s 5ms/step - loss: 0.6325 - acc: 0.9190 - val_loss: 0.8292 - val_acc: 0.7875\n"
     ]
    },
    {
     "name": "stdout",
     "output_type": "stream",
     "text": [
      "Epoch 63/100\n",
      "20/20 [==============================] - 0s 5ms/step - loss: 0.9765 - acc: 0.7946 - val_loss: 18.1336 - val_acc: 0.4437\n",
      "Epoch 64/100\n",
      "20/20 [==============================] - 0s 4ms/step - loss: 2.4231 - acc: 0.6189 - val_loss: 0.5956 - val_acc: 0.6375\n",
      "Epoch 65/100\n",
      "20/20 [==============================] - 0s 4ms/step - loss: 0.9407 - acc: 0.7106 - val_loss: 0.5445 - val_acc: 0.6687\n",
      "Epoch 66/100\n",
      "20/20 [==============================] - 0s 4ms/step - loss: 0.6763 - acc: 0.5607 - val_loss: 0.6871 - val_acc: 0.5562\n",
      "Epoch 67/100\n",
      "20/20 [==============================] - 0s 5ms/step - loss: 0.7008 - acc: 0.5043 - val_loss: 0.6878 - val_acc: 0.5562\n",
      "Epoch 68/100\n",
      "20/20 [==============================] - 0s 4ms/step - loss: 0.7031 - acc: 0.4878 - val_loss: 0.6938 - val_acc: 0.5562\n",
      "Epoch 69/100\n",
      "20/20 [==============================] - 0s 4ms/step - loss: 0.7217 - acc: 0.4796 - val_loss: 0.6894 - val_acc: 0.5562\n",
      "Epoch 70/100\n",
      "20/20 [==============================] - 0s 4ms/step - loss: 0.7023 - acc: 0.5119 - val_loss: 0.6982 - val_acc: 0.4437\n",
      "Epoch 71/100\n",
      "20/20 [==============================] - 0s 4ms/step - loss: 0.6942 - acc: 0.4823 - val_loss: 0.6912 - val_acc: 0.5562\n",
      "Epoch 72/100\n",
      "20/20 [==============================] - 0s 4ms/step - loss: 0.6950 - acc: 0.4891 - val_loss: 0.7016 - val_acc: 0.4437\n",
      "Epoch 73/100\n",
      "20/20 [==============================] - 0s 4ms/step - loss: 0.6955 - acc: 0.4809 - val_loss: 0.6925 - val_acc: 0.5562\n",
      "Epoch 74/100\n",
      "20/20 [==============================] - 0s 4ms/step - loss: 0.6943 - acc: 0.5030 - val_loss: 0.6870 - val_acc: 0.5562\n",
      "Epoch 75/100\n",
      "20/20 [==============================] - 0s 5ms/step - loss: 0.7051 - acc: 0.4495 - val_loss: 0.6917 - val_acc: 0.5562\n",
      "Epoch 76/100\n",
      "20/20 [==============================] - 0s 5ms/step - loss: 0.7004 - acc: 0.5076 - val_loss: 0.7476 - val_acc: 0.4437\n",
      "Epoch 77/100\n",
      "20/20 [==============================] - 0s 5ms/step - loss: 0.6996 - acc: 0.5141 - val_loss: 0.7239 - val_acc: 0.4437\n",
      "Epoch 78/100\n",
      "20/20 [==============================] - 0s 5ms/step - loss: 0.7044 - acc: 0.5149 - val_loss: 0.6868 - val_acc: 0.5562\n",
      "Epoch 79/100\n",
      "20/20 [==============================] - 0s 5ms/step - loss: 0.7099 - acc: 0.4694 - val_loss: 0.6884 - val_acc: 0.5562\n",
      "Epoch 80/100\n",
      "20/20 [==============================] - 0s 4ms/step - loss: 0.7025 - acc: 0.4761 - val_loss: 0.6934 - val_acc: 0.4437\n",
      "Epoch 81/100\n",
      "20/20 [==============================] - 0s 4ms/step - loss: 0.6959 - acc: 0.5302 - val_loss: 0.7092 - val_acc: 0.4437\n",
      "Epoch 82/100\n",
      "20/20 [==============================] - 0s 4ms/step - loss: 0.7064 - acc: 0.4791 - val_loss: 0.7017 - val_acc: 0.4437\n",
      "Epoch 83/100\n",
      "20/20 [==============================] - 0s 5ms/step - loss: 0.7033 - acc: 0.4620 - val_loss: 0.6942 - val_acc: 0.4437\n",
      "Epoch 84/100\n",
      "20/20 [==============================] - 0s 4ms/step - loss: 0.7335 - acc: 0.4994 - val_loss: 0.7066 - val_acc: 0.4437\n",
      "Epoch 85/100\n",
      "20/20 [==============================] - 0s 4ms/step - loss: 0.7817 - acc: 0.4874 - val_loss: 0.6995 - val_acc: 0.4437\n",
      "Epoch 86/100\n",
      "20/20 [==============================] - ETA: 0s - loss: 0.7001 - acc: 0.437 - 0s 5ms/step - loss: 0.7058 - acc: 0.4923 - val_loss: 0.7188 - val_acc: 0.5562\n",
      "Epoch 87/100\n",
      "20/20 [==============================] - 0s 4ms/step - loss: 0.7400 - acc: 0.5171 - val_loss: 0.6911 - val_acc: 0.5562\n",
      "Epoch 88/100\n",
      "20/20 [==============================] - 0s 5ms/step - loss: 0.7330 - acc: 0.4508 - val_loss: 0.6910 - val_acc: 0.5562\n",
      "Epoch 89/100\n",
      "20/20 [==============================] - 0s 4ms/step - loss: 0.7483 - acc: 0.4618 - val_loss: 0.7165 - val_acc: 0.5562\n",
      "Epoch 90/100\n",
      "20/20 [==============================] - 0s 4ms/step - loss: 0.7881 - acc: 0.5145 - val_loss: 0.6905 - val_acc: 0.5562\n",
      "Epoch 91/100\n",
      "20/20 [==============================] - 0s 4ms/step - loss: 0.7603 - acc: 0.5074 - val_loss: 0.6945 - val_acc: 0.4437\n",
      "Epoch 92/100\n",
      "20/20 [==============================] - 0s 4ms/step - loss: 0.7531 - acc: 0.4997 - val_loss: 0.7330 - val_acc: 0.5562\n",
      "Epoch 93/100\n",
      "20/20 [==============================] - 0s 4ms/step - loss: 0.9638 - acc: 0.4526 - val_loss: 1.2485 - val_acc: 0.4437\n",
      "Epoch 94/100\n",
      "20/20 [==============================] - 0s 5ms/step - loss: 0.9934 - acc: 0.4794 - val_loss: 1.1726 - val_acc: 0.4437\n",
      "Epoch 95/100\n",
      "20/20 [==============================] - 0s 5ms/step - loss: 0.9820 - acc: 0.5393 - val_loss: 0.8815 - val_acc: 0.5562\n",
      "Epoch 96/100\n",
      "20/20 [==============================] - 0s 5ms/step - loss: 0.7969 - acc: 0.5135 - val_loss: 0.7409 - val_acc: 0.4437\n",
      "Epoch 97/100\n",
      "20/20 [==============================] - 0s 5ms/step - loss: 0.8334 - acc: 0.5153 - val_loss: 0.7301 - val_acc: 0.4437\n",
      "Epoch 98/100\n",
      "20/20 [==============================] - 0s 5ms/step - loss: 0.7894 - acc: 0.4826 - val_loss: 0.8003 - val_acc: 0.5562\n",
      "Epoch 99/100\n",
      "20/20 [==============================] - 0s 8ms/step - loss: 0.9637 - acc: 0.5030 - val_loss: 0.7087 - val_acc: 0.5562\n",
      "Epoch 100/100\n",
      "20/20 [==============================] - 0s 5ms/step - loss: 0.8328 - acc: 0.5259 - val_loss: 0.7908 - val_acc: 0.4437\n"
     ]
    }
   ],
   "source": [
    "model = keras.Sequential([\n",
    "    keras.layers.Dense(64, activation='relu'),\n",
    "    keras.layers.Dense(32, activation='relu'),\n",
    "    keras.layers.Dense(16, activation='relu'),\n",
    "    keras.layers.Dense(1, activation=keras.activations.sigmoid),\n",
    "])\n",
    "model.compile(\n",
    "    loss = keras.losses.BinaryCrossentropy(),\n",
    "    metrics = ['acc'],\n",
    "    optimizer = keras.optimizers.Adam(lr=1e-3)\n",
    ")\n",
    "\n",
    "\"\"\"\n",
    "This is the leaning rate Scheduler that will update the learning rate every epoch\n",
    "\"\"\"\n",
    "LR_CALLBACK = keras.callbacks.LearningRateScheduler(lambda epoch: 1e-4 * 10**(epoch/20))\n",
    "\n",
    "EPOCHS = 100\n",
    "VAL_SPLIT = .2\n",
    "BATCH_SIZE = 32\n",
    "VERBOSE = 1\n",
    "\n",
    "history = model.fit(X_train, y_train, epochs=EPOCHS, \n",
    "                    validation_split = VAL_SPLIT, batch_size= BATCH_SIZE,\n",
    "                    verbose = VERBOSE, callbacks = [LR_CALLBACK]\n",
    "                   )"
   ]
  },
  {
   "cell_type": "markdown",
   "id": "delayed-network",
   "metadata": {},
   "source": [
    "### Visualisation"
   ]
  },
  {
   "cell_type": "code",
   "execution_count": 16,
   "id": "judicial-resort",
   "metadata": {},
   "outputs": [],
   "source": [
    "import pandas as pd"
   ]
  },
  {
   "cell_type": "code",
   "execution_count": 26,
   "id": "usual-johnston",
   "metadata": {},
   "outputs": [
    {
     "data": {
      "image/png": "[encoded data removed]",
      "text/plain": [
       "<Figure size 432x288 with 1 Axes>"
      ]
     },
     "metadata": {
      "needs_background": "light"
     },
     "output_type": "display_data"
    }
   ],
   "source": [
    "pd.DataFrame(history.history).plot(xlabel=\"epochs\")\n",
    "plt.show()"
   ]
  },
  {
   "cell_type": "markdown",
   "id": "difficult-vaccine",
   "metadata": {},
   "source": [
    "### We want to plot leaning rate aganist loss"
   ]
  },
  {
   "cell_type": "code",
   "execution_count": 28,
   "id": "numerical-settlement",
   "metadata": {},
   "outputs": [
    {
     "data": {
      "text/plain": [
       "dict_keys(['loss', 'acc', 'val_loss', 'val_acc', 'lr'])"
      ]
     },
     "execution_count": 28,
     "metadata": {},
     "output_type": "execute_result"
    }
   ],
   "source": [
    "history.history.keys()"
   ]
  },
  {
   "cell_type": "code",
   "execution_count": 43,
   "id": "frank-weekly",
   "metadata": {},
   "outputs": [
    {
     "data": {
      "image/png": "[encoded data removed]",
      "text/plain": [
       "<Figure size 432x288 with 1 Axes>"
      ]
     },
     "metadata": {
      "needs_background": "light"
     },
     "output_type": "display_data"
    }
   ],
   "source": [
    "# Plot the learning rate versus the loss\n",
    "lrs = 1e-4 * (10 ** (np.arange(EPOCHS)/20))\n",
    "plt.semilogx(lrs, history.history[\"loss\"])\n",
    "plt.xlabel(\"Learning Rate\")\n",
    "plt.ylabel(\"Loss\")\n",
    "plt.title(\"Learning rate vs. loss\");\n",
    "plt.show()"
   ]
  },
  {
   "cell_type": "markdown",
   "id": "raising-inflation",
   "metadata": {},
   "source": [
    "> To find the ideal `leaning rate` we look at the ``leaning rate`` were the loss is still descreasing, in our case `10^-3` or the `lr` that is ``10x smaller` the lowest loss point"
   ]
  },
  {
   "cell_type": "markdown",
   "id": "direct-missouri",
   "metadata": {},
   "source": [
    "> That all about the `lr-scheduler`"
   ]
  },
  {
   "cell_type": "code",
   "execution_count": null,
   "id": "anonymous-potato",
   "metadata": {},
   "outputs": [],
   "source": []
  }
 ],
 "metadata": {
  "kernelspec": {
   "display_name": "Python 3",
   "language": "python",
   "name": "python3"
  },
  "language_info": {
   "codemirror_mode": {
    "name": "ipython",
    "version": 3
   },
   "file_extension": ".py",
   "mimetype": "text/x-python",
   "name": "python",
   "nbconvert_exporter": "python",
   "pygments_lexer": "ipython3",
   "version": "3.8.5"
  }
 },
 "nbformat": 4,
 "nbformat_minor": 5
}
