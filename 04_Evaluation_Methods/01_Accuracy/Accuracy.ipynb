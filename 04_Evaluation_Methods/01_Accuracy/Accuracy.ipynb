{
 "cells": [
  {
   "cell_type": "markdown",
   "id": "appointed-smooth",
   "metadata": {},
   "source": [
    "### Accuracy"
   ]
  },
  {
   "cell_type": "code",
   "execution_count": 2,
   "id": "innovative-publisher",
   "metadata": {},
   "outputs": [],
   "source": [
    "import tensorflow as tf\n",
    "import numpy as np\n",
    "from sklearn.metrics import accuracy_score"
   ]
  },
  {
   "cell_type": "code",
   "execution_count": 3,
   "id": "medium-oasis",
   "metadata": {},
   "outputs": [],
   "source": [
    "y_true = np.array([1., 0., 1, 1, 0, 0, 1])\n",
    "y_pred = np.array([1., 1., 1., 0., 0. ,1, 0])"
   ]
  },
  {
   "cell_type": "markdown",
   "id": "united-hughes",
   "metadata": {},
   "source": [
    "### Tensorflow accuracy"
   ]
  },
  {
   "cell_type": "code",
   "execution_count": 15,
   "id": "sixth-execution",
   "metadata": {},
   "outputs": [
    {
     "data": {
      "text/plain": [
       "0.42857143"
      ]
     },
     "execution_count": 15,
     "metadata": {},
     "output_type": "execute_result"
    }
   ],
   "source": [
    "y_true_ = tf.reshape(tf.constant(y_true), shape=(-1, 1))\n",
    "y_pred_ = tf.reshape(tf.constant(y_pred), shape=(-1, 1))\n",
    "m = tf.keras.metrics.Accuracy()\n",
    "m.update_state(y_true, y_pred)\n",
    "m.result().numpy()"
   ]
  },
  {
   "cell_type": "markdown",
   "id": "outer-relation",
   "metadata": {},
   "source": [
    "> `43%` accurate using the `tensorflow.keras.metrics.Accuracy()`"
   ]
  },
  {
   "cell_type": "markdown",
   "id": "strategic-houston",
   "metadata": {},
   "source": [
    "### Using `scikit-learn`"
   ]
  },
  {
   "cell_type": "code",
   "execution_count": 16,
   "id": "viral-thanks",
   "metadata": {},
   "outputs": [
    {
     "data": {
      "text/plain": [
       "0.42857142857142855"
      ]
     },
     "execution_count": 16,
     "metadata": {},
     "output_type": "execute_result"
    }
   ],
   "source": [
    "acc = accuracy_score(y_true, y_pred)\n",
    "acc"
   ]
  },
  {
   "cell_type": "markdown",
   "id": "worth-accounting",
   "metadata": {},
   "source": [
    "> `43%` accurate using the `tensorflow.keras.metrics.Accuracy()`"
   ]
  },
  {
   "cell_type": "markdown",
   "id": "assumed-proportion",
   "metadata": {},
   "source": [
    "### Creatin our accuracy function using numpy."
   ]
  },
  {
   "cell_type": "code",
   "execution_count": 20,
   "id": "requested-sister",
   "metadata": {},
   "outputs": [],
   "source": [
    "def accuarcy(y_true, y_pred):\n",
    "    t_true = list(y_true==y_pred).count(True)\n",
    "    return t_true/y_true.shape[0]\n"
   ]
  },
  {
   "cell_type": "code",
   "execution_count": 23,
   "id": "animated-remark",
   "metadata": {},
   "outputs": [
    {
     "data": {
      "text/plain": [
       "0.42857142857142855"
      ]
     },
     "execution_count": 23,
     "metadata": {},
     "output_type": "execute_result"
    }
   ],
   "source": [
    "accuarcy(tf.constant(y_true), tf.constant(y_pred))"
   ]
  },
  {
   "cell_type": "markdown",
   "id": "isolated-peoples",
   "metadata": {},
   "source": [
    "> We are still getting `43%` which is awesome."
   ]
  },
  {
   "cell_type": "code",
   "execution_count": null,
   "id": "formed-imperial",
   "metadata": {},
   "outputs": [],
   "source": []
  }
 ],
 "metadata": {
  "kernelspec": {
   "display_name": "Python 3",
   "language": "python",
   "name": "python3"
  },
  "language_info": {
   "codemirror_mode": {
    "name": "ipython",
    "version": 3
   },
   "file_extension": ".py",
   "mimetype": "text/x-python",
   "name": "python",
   "nbconvert_exporter": "python",
   "pygments_lexer": "ipython3",
   "version": "3.8.5"
  }
 },
 "nbformat": 4,
 "nbformat_minor": 5
}
