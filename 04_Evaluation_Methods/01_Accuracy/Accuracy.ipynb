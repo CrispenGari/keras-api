{
 "cells": [
  {
   "cell_type": "markdown",
   "id": "ignored-compiler",
   "metadata": {},
   "source": [
    "### Accuracy"
   ]
  },
  {
   "cell_type": "code",
   "execution_count": 2,
   "id": "stuck-canberra",
   "metadata": {},
   "outputs": [],
   "source": [
    "import tensorflow as tf\n",
    "import numpy as np\n",
    "from sklearn.metrics import accuracy_score"
   ]
  },
  {
   "cell_type": "code",
   "execution_count": 3,
   "id": "martial-sperm",
   "metadata": {},
   "outputs": [],
   "source": [
    "y_true = np.array([1., 0., 1, 1, 0, 0, 1])\n",
    "y_pred = np.array([1., 1., 1., 0., 0. ,1, 0])"
   ]
  },
  {
   "cell_type": "markdown",
   "id": "theoretical-advance",
   "metadata": {},
   "source": [
    "### Tensorflow accuracy"
   ]
  },
  {
   "cell_type": "code",
   "execution_count": 15,
   "id": "administrative-supply",
   "metadata": {},
   "outputs": [
    {
     "data": {
      "text/plain": [
       "0.42857143"
      ]
     },
     "execution_count": 15,
     "metadata": {},
     "output_type": "execute_result"
    }
   ],
   "source": [
    "y_true_ = tf.reshape(tf.constant(y_true), shape=(-1, 1))\n",
    "y_pred_ = tf.reshape(tf.constant(y_pred), shape=(-1, 1))\n",
    "m = tf.keras.metrics.Accuracy()\n",
    "m.update_state(y_true, y_pred)\n",
    "m.result().numpy()"
   ]
  },
  {
   "cell_type": "markdown",
   "id": "anticipated-dominant",
   "metadata": {},
   "source": [
    "> `43%` accurate using the `tensorflow.keras.metrics.Accuracy()`"
   ]
  },
  {
   "cell_type": "markdown",
   "id": "perfect-gamma",
   "metadata": {},
   "source": [
    "### Using `scikit-learn`"
   ]
  },
  {
   "cell_type": "code",
   "execution_count": 16,
   "id": "classified-advantage",
   "metadata": {},
   "outputs": [
    {
     "data": {
      "text/plain": [
       "0.42857142857142855"
      ]
     },
     "execution_count": 16,
     "metadata": {},
     "output_type": "execute_result"
    }
   ],
   "source": [
    "acc = accuracy_score(y_true, y_pred)\n",
    "acc"
   ]
  },
  {
   "cell_type": "markdown",
   "id": "right-liquid",
   "metadata": {},
   "source": [
    "> `43%` accurate using the `tensorflow.keras.metrics.Accuracy()`"
   ]
  },
  {
   "cell_type": "markdown",
   "id": "occupational-maria",
   "metadata": {},
   "source": [
    "### Creatin our accuracy function using numpy."
   ]
  },
  {
   "cell_type": "code",
   "execution_count": 20,
   "id": "multiple-broadway",
   "metadata": {},
   "outputs": [],
   "source": [
    "def accuarcy(y_true, y_pred):\n",
    "    t_true = list(y_true==y_pred).count(True)\n",
    "    return t_true/y_true.shape[0]\n"
   ]
  },
  {
   "cell_type": "code",
   "execution_count": 22,
   "id": "accompanied-headset",
   "metadata": {},
   "outputs": [
    {
     "data": {
      "text/plain": [
       "0.42857142857142855"
      ]
     },
     "execution_count": 22,
     "metadata": {},
     "output_type": "execute_result"
    }
   ],
   "source": [
    "accuarcy((y_true), y_pred)"
   ]
  },
  {
   "cell_type": "code",
   "execution_count": null,
   "id": "instant-allowance",
   "metadata": {},
   "outputs": [],
   "source": [
    "> We are still getting `43%` which is awesome."
   ]
  }
 ],
 "metadata": {
  "kernelspec": {
   "display_name": "Python 3",
   "language": "python",
   "name": "python3"
  },
  "language_info": {
   "codemirror_mode": {
    "name": "ipython",
    "version": 3
   },
   "file_extension": ".py",
   "mimetype": "text/x-python",
   "name": "python",
   "nbconvert_exporter": "python",
   "pygments_lexer": "ipython3",
   "version": "3.8.5"
  }
 },
 "nbformat": 4,
 "nbformat_minor": 5
}
