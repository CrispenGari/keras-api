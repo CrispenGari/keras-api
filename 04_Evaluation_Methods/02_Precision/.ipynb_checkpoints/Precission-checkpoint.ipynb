{
 "cells": [
  {
   "cell_type": "markdown",
   "id": "outer-destruction",
   "metadata": {},
   "source": [
    "### Precision score\n",
    "\n",
    "> Proportion of true positives over total number of samples. Higher precision leads to less false positives (model predicts 1 when it should've been 0).\n",
    "\n",
    "```\n",
    "sklearn.metrics.precision_score()\n",
    "tf.keras.metrics.Precision()\n",
    "```"
   ]
  },
  {
   "cell_type": "code",
   "execution_count": 1,
   "id": "innovative-publisher",
   "metadata": {},
   "outputs": [],
   "source": [
    "import tensorflow as tf\n",
    "import numpy as np\n",
    "from sklearn.metrics import precision_score"
   ]
  },
  {
   "cell_type": "code",
   "execution_count": 2,
   "id": "medium-oasis",
   "metadata": {},
   "outputs": [],
   "source": [
    "y_true = np.array([1., 0., 1, 1, 0, 0, 1])\n",
    "y_pred = np.array([1., 1., 1., 0., 0. ,1, 0])"
   ]
  },
  {
   "cell_type": "markdown",
   "id": "prerequisite-attachment",
   "metadata": {},
   "source": [
    "### Tensorflow Precision Score"
   ]
  },
  {
   "cell_type": "code",
   "execution_count": 3,
   "id": "sixth-execution",
   "metadata": {},
   "outputs": [
    {
     "data": {
      "text/plain": [
       "0.5"
      ]
     },
     "execution_count": 3,
     "metadata": {},
     "output_type": "execute_result"
    }
   ],
   "source": [
    "m = tf.keras.metrics.Precision()\n",
    "m.update_state(y_true, y_pred)\n",
    "m.result().numpy()"
   ]
  },
  {
   "cell_type": "markdown",
   "id": "further-carol",
   "metadata": {},
   "source": [
    "> `50%` precision score. This means that when it predicts a `1` is `0`, it is correct 50% of the time."
   ]
  },
  {
   "cell_type": "markdown",
   "id": "strategic-houston",
   "metadata": {},
   "source": [
    "### Using `scikit-learn`"
   ]
  },
  {
   "cell_type": "code",
   "execution_count": 6,
   "id": "viral-thanks",
   "metadata": {},
   "outputs": [
    {
     "data": {
      "text/plain": [
       "0.5"
      ]
     },
     "execution_count": 6,
     "metadata": {},
     "output_type": "execute_result"
    }
   ],
   "source": [
    "score = precision_score(y_true, y_pred)\n",
    "score"
   ]
  },
  {
   "cell_type": "markdown",
   "id": "cross-unemployment",
   "metadata": {},
   "source": [
    "> `50%` precision score. This means that when it predicts a `1` is `0`, it is correct 50% of the time."
   ]
  },
  {
   "cell_type": "markdown",
   "id": "acute-details",
   "metadata": {},
   "source": [
    "### Creating our own `Precision` Function\n",
    "\n",
    "<p align=\"center\">\n",
    "    <img src=\"https://894532.smushcdn.com/2098219/wp-content/uploads/2019/10/Precision_1.png?lossy=0&strip=1&webp=1\"/></p>\n",
    "    "
   ]
  },
  {
   "cell_type": "code",
   "execution_count": 14,
   "id": "formed-imperial",
   "metadata": {},
   "outputs": [],
   "source": [
    "## taken from stackoverflow\n",
    "def perf_measure(y_actual, y_hat):\n",
    "    TP, FP, TN, FN  = 0, 0, 0, 0\n",
    "    for i in range(len(y_hat)): \n",
    "        if y_actual[i]==y_hat[i]==1:\n",
    "           TP += 1\n",
    "        if y_hat[i]==1 and y_actual[i]!=y_hat[i]:\n",
    "           FP += 1\n",
    "        if y_actual[i]==y_hat[i]==0:\n",
    "           TN += 1\n",
    "        if y_hat[i]==0 and y_actual[i]!=y_hat[i]:\n",
    "           FN += 1\n",
    "\n",
    "    return (TP, FP, TN, FN)\n"
   ]
  },
  {
   "cell_type": "code",
   "execution_count": 17,
   "id": "affecting-laugh",
   "metadata": {},
   "outputs": [],
   "source": [
    "def precision(y_true, y_pred):\n",
    "    TP, FP, TN, FN = perf_measure(y_true, y_pred)\n",
    "    return TP / (TP + FP)"
   ]
  },
  {
   "cell_type": "code",
   "execution_count": 18,
   "id": "bigger-favorite",
   "metadata": {},
   "outputs": [
    {
     "data": {
      "text/plain": [
       "0.5"
      ]
     },
     "execution_count": 18,
     "metadata": {},
     "output_type": "execute_result"
    }
   ],
   "source": [
    "precision(y_true, y_pred)"
   ]
  },
  {
   "cell_type": "markdown",
   "id": "african-twins",
   "metadata": {},
   "source": [
    "> We got the same `50%` precision."
   ]
  }
 ],
 "metadata": {
  "kernelspec": {
   "display_name": "Python 3",
   "language": "python",
   "name": "python3"
  },
  "language_info": {
   "codemirror_mode": {
    "name": "ipython",
    "version": 3
   },
   "file_extension": ".py",
   "mimetype": "text/x-python",
   "name": "python",
   "nbconvert_exporter": "python",
   "pygments_lexer": "ipython3",
   "version": "3.8.5"
  }
 },
 "nbformat": 4,
 "nbformat_minor": 5
}
