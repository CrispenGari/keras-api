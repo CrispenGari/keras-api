{
 "cells": [
  {
   "cell_type": "markdown",
   "id": "distant-checkout",
   "metadata": {},
   "source": [
    "### Recall\n",
    "\n",
    "> Computes the recall of the predictions with respect to the labels.\n",
    "Proportion of true positives over total number of true positives and false negatives (model predicts 0 when it should've been 1). Higher recall leads to less false negatives.\n",
    "\n",
    "```\n",
    "sklearn.metrics.recall_score()\n",
    "tf.keras.metrics.Recall()\n",
    "```"
   ]
  },
  {
   "cell_type": "code",
   "execution_count": 4,
   "id": "innovative-publisher",
   "metadata": {},
   "outputs": [],
   "source": [
    "import tensorflow as tf\n",
    "import numpy as np\n",
    "from sklearn.metrics import recall_score"
   ]
  },
  {
   "cell_type": "code",
   "execution_count": 3,
   "id": "medium-oasis",
   "metadata": {},
   "outputs": [],
   "source": [
    "y_true = np.array([1., 0., 1, 1, 0, 0, 1])\n",
    "y_pred = np.array([1., 1., 1., 0., 0. ,1, 0])"
   ]
  },
  {
   "cell_type": "markdown",
   "id": "adapted-harbor",
   "metadata": {},
   "source": [
    "### Tensorflow Recall Score"
   ]
  },
  {
   "cell_type": "code",
   "execution_count": 5,
   "id": "sixth-execution",
   "metadata": {},
   "outputs": [
    {
     "data": {
      "text/plain": [
       "0.5"
      ]
     },
     "execution_count": 5,
     "metadata": {},
     "output_type": "execute_result"
    }
   ],
   "source": [
    "m = tf.keras.metrics.Recall()\n",
    "m.update_state(y_true, y_pred)\n",
    "m.result().numpy()"
   ]
  },
  {
   "cell_type": "markdown",
   "id": "upper-voluntary",
   "metadata": {},
   "source": [
    "> `50%` recall score. This means it predicts a `1` when it is a `1` `50%` of the times."
   ]
  },
  {
   "cell_type": "markdown",
   "id": "strategic-houston",
   "metadata": {},
   "source": [
    "### Using `scikit-learn`"
   ]
  },
  {
   "cell_type": "code",
   "execution_count": 7,
   "id": "viral-thanks",
   "metadata": {},
   "outputs": [
    {
     "data": {
      "text/plain": [
       "0.5"
      ]
     },
     "execution_count": 7,
     "metadata": {},
     "output_type": "execute_result"
    }
   ],
   "source": [
    "score = recall_score(y_true, y_pred)\n",
    "score"
   ]
  },
  {
   "cell_type": "markdown",
   "id": "integral-gamma",
   "metadata": {},
   "source": [
    "> `50%` recall score. This means it predicts a `1` when it is a `1` `50%` of the times."
   ]
  },
  {
   "cell_type": "markdown",
   "id": "governmental-lucas",
   "metadata": {},
   "source": [
    "### Creating our own `Recall` Function\n",
    "\n",
    "<p align=\"center\">\n",
    "    <img src=\"https://lawtomated.com/wp-content/uploads/2019/10/Recall_1.png\"/></p>\n",
    "    "
   ]
  },
  {
   "cell_type": "code",
   "execution_count": 11,
   "id": "formed-imperial",
   "metadata": {},
   "outputs": [],
   "source": [
    "## taken from stackoverflow\n",
    "def perf_measure(y_actual, y_hat):\n",
    "    TP, FP, TN, FN  = 0, 0, 0, 0\n",
    "    for i in range(len(y_hat)): \n",
    "        if y_actual[i]==y_hat[i]==1:\n",
    "           TP += 1\n",
    "        if y_hat[i]==1 and y_actual[i]!=y_hat[i]:\n",
    "           FP += 1\n",
    "        if y_actual[i]==y_hat[i]==0:\n",
    "           TN += 1\n",
    "        if y_hat[i]==0 and y_actual[i]!=y_hat[i]:\n",
    "           FN += 1\n",
    "\n",
    "    return (TP, FP, TN, FN)\n"
   ]
  },
  {
   "cell_type": "code",
   "execution_count": 12,
   "id": "affecting-laugh",
   "metadata": {},
   "outputs": [],
   "source": [
    "def recall(y_true, y_pred):\n",
    "    TP, FP, TN, FN = perf_measure(y_true, y_pred)\n",
    "    return TP / (TP + FN)"
   ]
  },
  {
   "cell_type": "code",
   "execution_count": 13,
   "id": "bigger-favorite",
   "metadata": {},
   "outputs": [
    {
     "data": {
      "text/plain": [
       "0.5"
      ]
     },
     "execution_count": 13,
     "metadata": {},
     "output_type": "execute_result"
    }
   ],
   "source": [
    "recall(y_true, y_pred)"
   ]
  },
  {
   "cell_type": "markdown",
   "id": "linear-linux",
   "metadata": {},
   "source": [
    "> We got the same `50%` recall."
   ]
  },
  {
   "cell_type": "code",
   "execution_count": null,
   "id": "governmental-variable",
   "metadata": {},
   "outputs": [],
   "source": []
  }
 ],
 "metadata": {
  "kernelspec": {
   "display_name": "Python 3",
   "language": "python",
   "name": "python3"
  },
  "language_info": {
   "codemirror_mode": {
    "name": "ipython",
    "version": 3
   },
   "file_extension": ".py",
   "mimetype": "text/x-python",
   "name": "python",
   "nbconvert_exporter": "python",
   "pygments_lexer": "ipython3",
   "version": "3.8.5"
  }
 },
 "nbformat": 4,
 "nbformat_minor": 5
}
