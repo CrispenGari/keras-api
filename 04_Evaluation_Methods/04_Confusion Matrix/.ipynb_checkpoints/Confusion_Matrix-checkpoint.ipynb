{
 "cells": [
  {
   "cell_type": "markdown",
   "id": "vocal-frame",
   "metadata": {},
   "source": [
    "### Confusion Matrix\n",
    "* Compares the predicted values with the true values in a tabular way, if 100% correct, all values in the matrix will be top left to bottom right (diagnol line).\n",
    "> Compute confusion matrix to evaluate the accuracy of a classification.\n",
    "\n",
    "```\n",
    "sklearn.metrics.confusion_matrix()\n",
    "```"
   ]
  },
  {
   "cell_type": "code",
   "execution_count": 1,
   "id": "innovative-publisher",
   "metadata": {},
   "outputs": [],
   "source": [
    "import numpy as np\n",
    "from sklearn.metrics import confusion_matrix\n",
    "from matplotlib import pyplot as plt\n",
    "import numpy as np\n",
    "import seaborn as sns"
   ]
  },
  {
   "cell_type": "code",
   "execution_count": 5,
   "id": "medium-oasis",
   "metadata": {},
   "outputs": [],
   "source": [
    "y_true = np.array([1., 0., 1, 1, 0, 0, 1, 1., 0., 1, 1, 0, 0, 1])\n",
    "y_pred = np.array([1., 1., 1., 0., 0. ,1, 0, 1., 0., 1, 1, 0, 0, 1])"
   ]
  },
  {
   "cell_type": "markdown",
   "id": "difficult-advertiser",
   "metadata": {},
   "source": [
    "### Using `scikit-learn` to generate the confusion maxtrix.\n",
    "    "
   ]
  },
  {
   "cell_type": "code",
   "execution_count": 6,
   "id": "viral-thanks",
   "metadata": {},
   "outputs": [
    {
     "name": "stdout",
     "output_type": "stream",
     "text": [
      "[[4 2]\n",
      " [2 6]]\n"
     ]
    }
   ],
   "source": [
    "matrix = confusion_matrix(y_true, y_pred)\n",
    "print(matrix)"
   ]
  },
  {
   "cell_type": "markdown",
   "id": "embedded-indie",
   "metadata": {},
   "source": [
    "> Correct predictions appear down the diagonal **_(from top left to bottom right)_**."
   ]
  },
  {
   "cell_type": "markdown",
   "id": "marine-philip",
   "metadata": {},
   "source": [
    "### Ploting the ``classification_report``"
   ]
  },
  {
   "cell_type": "code",
   "execution_count": 22,
   "id": "becoming-hopkins",
   "metadata": {},
   "outputs": [],
   "source": [
    "import itertools\n",
    "from sklearn.metrics import confusion_matrix\n",
    "def plot_confusion_matrix(y_true, y_pred, classes=None, figsize=(5, 5), text_size=16): \n",
    "      # Create the confustion matrix\n",
    "      cm = confusion_matrix(y_true, y_pred)\n",
    "      cm_norm = cm.astype(\"float\") / cm.sum(axis=1)[:, np.newaxis] \n",
    "      n_classes = cm.shape[0]\n",
    "    \n",
    "      if n_classes == 2:\n",
    "            print(\"BINARY CLASSIFICTAION\")\n",
    "      else:\n",
    "            print(\"MULTICLASS CLASSIFICATION\")\n",
    "\n",
    "      # Plot the figure and make it pretty\n",
    "      fig, ax = plt.subplots(figsize=figsize)\n",
    "      cax = ax.matshow(cm, cmap=plt.cm.Blues) \n",
    "      fig.colorbar(cax)\n",
    "    \n",
    "      if classes:\n",
    "        labels = classes\n",
    "      else:\n",
    "        labels = np.arange(cm.shape[0])\n",
    "        \n",
    "      ax.set(title=\"Confusion Matrix\",\n",
    "             xlabel=\"Predicted label\",\n",
    "             ylabel=\"True label\",\n",
    "             xticks=np.arange(n_classes),\n",
    "             yticks=np.arange(n_classes), \n",
    "             xticklabels=labels,\n",
    "             yticklabels=labels,\n",
    "           )\n",
    "\n",
    "      ax.xaxis.set_label_position(\"bottom\")\n",
    "      ax.xaxis.tick_bottom()\n",
    "\n",
    "      threshold = (cm.max() + cm.min()) / 2.\n",
    "      # Plot the text on each cell\n",
    "      for i, j in itertools.product(range(cm.shape[0]), range(cm.shape[1])):\n",
    "        plt.text(j, i, f\"{cm[i, j]} ({cm_norm[i, j]*100:.1f}%)\",\n",
    "                 horizontalalignment=\"center\",\n",
    "                 color=\"white\" if cm[i, j] > threshold else \"black\",\n",
    "                 size=text_size)"
   ]
  },
  {
   "cell_type": "code",
   "execution_count": 23,
   "id": "nominated-qatar",
   "metadata": {},
   "outputs": [
    {
     "name": "stdout",
     "output_type": "stream",
     "text": [
      "BINARY CLASSIFICTAION\n"
     ]
    },
    {
     "data": {
      "image/png": "[encoded data removed]",
      "text/plain": [
       "<Figure size 360x360 with 2 Axes>"
      ]
     },
     "metadata": {
      "needs_background": "light"
     },
     "output_type": "display_data"
    }
   ],
   "source": [
    "plot_confusion_matrix(y_true, y_pred)"
   ]
  },
  {
   "cell_type": "code",
   "execution_count": null,
   "id": "virtual-wesley",
   "metadata": {},
   "outputs": [],
   "source": []
  }
 ],
 "metadata": {
  "kernelspec": {
   "display_name": "Python 3",
   "language": "python",
   "name": "python3"
  },
  "language_info": {
   "codemirror_mode": {
    "name": "ipython",
    "version": 3
   },
   "file_extension": ".py",
   "mimetype": "text/x-python",
   "name": "python",
   "nbconvert_exporter": "python",
   "pygments_lexer": "ipython3",
   "version": "3.8.5"
  }
 },
 "nbformat": 4,
 "nbformat_minor": 5
}
