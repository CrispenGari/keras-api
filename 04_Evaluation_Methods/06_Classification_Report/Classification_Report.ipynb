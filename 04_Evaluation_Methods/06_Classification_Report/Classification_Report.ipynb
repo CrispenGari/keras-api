{
 "cells": [
  {
   "cell_type": "markdown",
   "id": "closed-sessions",
   "metadata": {},
   "source": [
    "### Classfication report\n",
    "* A Classification report is used to measure the quality of predictions from a classification algorithm. ... The report shows the main classification metrics precision, recall and f1-score on a per-class basis. The metrics are calculated by using true and false positives, true and false negatives.\n",
    "\n",
    "```\n",
    "sklearn.metrics.classification_report()\n",
    "```"
   ]
  },
  {
   "cell_type": "code",
   "execution_count": 11,
   "id": "innovative-publisher",
   "metadata": {},
   "outputs": [],
   "source": [
    "import numpy as np\n",
    "from sklearn.metrics import classification_report\n",
    "from matplotlib import pyplot as plt"
   ]
  },
  {
   "cell_type": "code",
   "execution_count": 5,
   "id": "medium-oasis",
   "metadata": {},
   "outputs": [],
   "source": [
    "y_true = np.array([1., 0., 1, 1, 0, 0, 1])\n",
    "y_pred = np.array([1., 1., 1., 0., 0. ,1, 0])"
   ]
  },
  {
   "cell_type": "markdown",
   "id": "closed-chester",
   "metadata": {},
   "source": [
    "### Using `scikit-learn` to generate the classification report for our predictions\n",
    "    "
   ]
  },
  {
   "cell_type": "code",
   "execution_count": 9,
   "id": "viral-thanks",
   "metadata": {},
   "outputs": [
    {
     "name": "stdout",
     "output_type": "stream",
     "text": [
      "              precision    recall  f1-score   support\n",
      "\n",
      "         0.0       0.33      0.33      0.33         3\n",
      "         1.0       0.50      0.50      0.50         4\n",
      "\n",
      "    accuracy                           0.43         7\n",
      "   macro avg       0.42      0.42      0.42         7\n",
      "weighted avg       0.43      0.43      0.43         7\n",
      "\n"
     ]
    }
   ],
   "source": [
    "labels = np.array([0., 1])\n",
    "report = classification_report(y_true, y_pred, labels=labels)\n",
    "print(report)"
   ]
  },
  {
   "cell_type": "markdown",
   "id": "marine-philip",
   "metadata": {},
   "source": [
    "### Ploting the ``classification_report``"
   ]
  },
  {
   "cell_type": "code",
   "execution_count": 23,
   "id": "becoming-hopkins",
   "metadata": {},
   "outputs": [
    {
     "data": {
      "image/png": "[encoded data removed]",
      "text/plain": [
       "<Figure size 432x288 with 2 Axes>"
      ]
     },
     "metadata": {
      "needs_background": "light"
     },
     "output_type": "display_data"
    }
   ],
   "source": [
    "import numpy as np\n",
    "import seaborn as sns\n",
    "from sklearn.metrics import classification_report\n",
    "import pandas as pd\n",
    "report = classification_report(y_true, y_pred, labels=labels, output_dict=True)\n",
    "sns.heatmap(pd.DataFrame(report).iloc[:-1, :].T, annot=True)\n",
    "plt.title(\"Classification Report\")\n",
    "plt.show()"
   ]
  },
  {
   "cell_type": "code",
   "execution_count": null,
   "id": "nominated-qatar",
   "metadata": {},
   "outputs": [],
   "source": []
  }
 ],
 "metadata": {
  "kernelspec": {
   "display_name": "Python 3",
   "language": "python",
   "name": "python3"
  },
  "language_info": {
   "codemirror_mode": {
    "name": "ipython",
    "version": 3
   },
   "file_extension": ".py",
   "mimetype": "text/x-python",
   "name": "python",
   "nbconvert_exporter": "python",
   "pygments_lexer": "ipython3",
   "version": "3.8.5"
  }
 },
 "nbformat": 4,
 "nbformat_minor": 5
}
