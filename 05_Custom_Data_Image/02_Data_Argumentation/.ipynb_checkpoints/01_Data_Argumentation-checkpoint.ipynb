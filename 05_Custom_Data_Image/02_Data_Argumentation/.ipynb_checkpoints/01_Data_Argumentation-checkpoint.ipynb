{
 "cells": [
  {
   "cell_type": "markdown",
   "id": "clean-weather",
   "metadata": {},
   "source": [
    "### Data Argumentation\n",
    "To avoid overfitting and create a larger dataset from a smaller one we can use a technique called ``data augmentation``. This is simply performing random transofrmations on our images so that our model can generalize better. These transformations can be things like compressions, rotations, stretches and even color changes.\n",
    "\n",
    "```python\n",
    "\n",
    "tf.keras.preprocessing.image.ImageDataGenerator(\n",
    "    featurewise_center=False,\n",
    "    samplewise_center=False,\n",
    "    featurewise_std_normalization=False,\n",
    "    samplewise_std_normalization=False,\n",
    "    zca_whitening=False,\n",
    "    zca_epsilon=1e-06,\n",
    "    rotation_range=0,\n",
    "    width_shift_range=0.0,\n",
    "    height_shift_range=0.0,\n",
    "    brightness_range=None,\n",
    "    shear_range=0.0,\n",
    "    zoom_range=0.0,\n",
    "    channel_shift_range=0.0,\n",
    "    fill_mode=\"nearest\",\n",
    "    cval=0.0,\n",
    "    horizontal_flip=False,\n",
    "    vertical_flip=False,\n",
    "    rescale=None,\n",
    "    preprocessing_function=None,\n",
    "    data_format=None,\n",
    "    validation_split=0.0,\n",
    "    dtype=None,\n",
    ")\n",
    "```"
   ]
  },
  {
   "cell_type": "markdown",
   "id": "smart-president",
   "metadata": {},
   "source": [
    "### Imports"
   ]
  },
  {
   "cell_type": "code",
   "execution_count": 10,
   "id": "mediterranean-beach",
   "metadata": {},
   "outputs": [],
   "source": [
    "import tensorflow as tf\n",
    "import os\n",
    "import tensorflow.keras as keras\n",
    "import matplotlib.pyplot as plt"
   ]
  },
  {
   "cell_type": "markdown",
   "id": "saved-diesel",
   "metadata": {},
   "source": [
    "> Let's generate a dataset of ``10 bees`` and ``10 ants`` from the 2 images that we have in the images directory. The structure of the directories are as follows:\n",
    "\n",
    "\n",
    "**From:**\n",
    "```\n",
    "images\n",
    "    - bee17.png\n",
    "    - ant5.png\n",
    "```\n",
    "\n",
    "**To:**\n",
    "```\n",
    "data\n",
    "    - bees\n",
    "        -bee.png\n",
    "        - bee.png\n",
    "        ...\n",
    "     - ants\n",
    "         -ant.png\n",
    "         -ant.png\n",
    "         ...\n",
    "```"
   ]
  },
  {
   "cell_type": "code",
   "execution_count": 3,
   "id": "demonstrated-phenomenon",
   "metadata": {},
   "outputs": [],
   "source": [
    "bee_save_path = \"data/bees\"\n",
    "ant_save_path = \"data/ant\"\n",
    "\n",
    "ant_path = 'images/ant5.png'\n",
    "bee_path  = 'images/bee17.png'\n"
   ]
  },
  {
   "cell_type": "code",
   "execution_count": 4,
   "id": "studied-alabama",
   "metadata": {},
   "outputs": [
    {
     "name": "stdout",
     "output_type": "stream",
     "text": [
      "Done\n"
     ]
    }
   ],
   "source": [
    "if os.path.exists(bee_save_path) == False:\n",
    "    os.makedirs(bee_save_path)\n",
    "\n",
    "if os.path.exists(ant_save_path) == False:\n",
    "    os.makedirs(ant_save_path)\n",
    "    \n",
    "print(\"Done\")"
   ]
  },
  {
   "cell_type": "code",
   "execution_count": 28,
   "id": "european-japanese",
   "metadata": {},
   "outputs": [],
   "source": [
    "ant_image = keras.preprocessing.image.load_img(ant_path)\n",
    "ant = keras.preprocessing.image.img_to_array(ant_image)\n",
    "\n",
    "bee_image = keras.preprocessing.image.load_img(bee_path)\n",
    "bee = keras.preprocessing.image.img_to_array(bee_image)"
   ]
  },
  {
   "cell_type": "markdown",
   "id": "handmade-indie",
   "metadata": {},
   "source": [
    "> Now that we have `2` different images let's create a data generator that will make transforms to our images."
   ]
  },
  {
   "cell_type": "code",
   "execution_count": 29,
   "id": "paperback-defeat",
   "metadata": {},
   "outputs": [],
   "source": [
    "datagen = keras.preprocessing.image.ImageDataGenerator(\n",
    "    rotation_range=40,\n",
    "    width_shift_range=0.2,\n",
    "    height_shift_range=0.2,\n",
    "    shear_range=0.2,\n",
    "    zoom_range=0.2,\n",
    "    horizontal_flip=True,\n",
    "    fill_mode='nearest',\n",
    "#     rescale=(224, 224)\n",
    ")"
   ]
  },
  {
   "cell_type": "markdown",
   "id": "offshore-treat",
   "metadata": {},
   "source": [
    "**Note:** - When plotting an image using `plt.imshow()` function we need to divide the `pixels` by `255` so that the image will not be `white` for example:\n",
    "        \n",
    "```python\n",
    "plt.imshow(image/255)\n",
    "```\n",
    "    \n",
    "> Now let's generate images of bees and ants and save them to their respective `dirs`\n",
    "\n",
    "#### `.flow()` function:\n",
    "```python\n",
    "ImageDataGenerator.flow(\n",
    "    x,\n",
    "    y=None,\n",
    "    batch_size=32,\n",
    "    shuffle=True,\n",
    "    sample_weight=None,\n",
    "    seed=None,\n",
    "    save_to_dir=None,\n",
    "    save_prefix=\"\",\n",
    "    save_format=\"png\",\n",
    "    subset=None,\n",
    ")\n",
    "```"
   ]
  },
  {
   "cell_type": "code",
   "execution_count": 30,
   "id": "automatic-visit",
   "metadata": {},
   "outputs": [
    {
     "data": {
      "text/plain": [
       "(140, 140, 3)"
      ]
     },
     "execution_count": 30,
     "metadata": {},
     "output_type": "execute_result"
    }
   ],
   "source": [
    "bee.shape"
   ]
  },
  {
   "cell_type": "code",
   "execution_count": 31,
   "id": "immediate-auditor",
   "metadata": {},
   "outputs": [
    {
     "name": "stdout",
     "output_type": "stream",
     "text": [
      "Saved\n",
      " Total:\t 10 images\n",
      "Saved\n",
      " Total:\t 10 images\n",
      "Done\n"
     ]
    }
   ],
   "source": [
    "## Reshape the bee and an ant\n",
    "\n",
    "bee = bee.reshape((-1, ) + bee.shape)\n",
    "ant = ant.reshape((-1, ) + ant.shape)\n",
    "\n",
    "\n",
    "i = 0\n",
    "for batch in datagen.flow(bee, save_prefix='bee', save_to_dir = bee_save_path, save_format='png'):\n",
    "    i+=1\n",
    "    if i == 10:\n",
    "        break\n",
    "print(f\"Saved\\n Total:\\t {i} images\")\n",
    "\n",
    "i = 0\n",
    "for batch in datagen.flow(ant, save_prefix='ant', save_to_dir= ant_save_path, save_format='png'):\n",
    "    i+=1\n",
    "    if i == 10:\n",
    "        break\n",
    "print(f\"Saved\\n Total:\\t {i} images\")\n",
    "\n",
    "print(\"Done\")"
   ]
  },
  {
   "cell_type": "code",
   "execution_count": null,
   "id": "spanish-mayor",
   "metadata": {},
   "outputs": [],
   "source": []
  },
  {
   "cell_type": "code",
   "execution_count": null,
   "id": "guided-sunrise",
   "metadata": {},
   "outputs": [],
   "source": []
  },
  {
   "cell_type": "code",
   "execution_count": null,
   "id": "innovative-topic",
   "metadata": {},
   "outputs": [],
   "source": []
  }
 ],
 "metadata": {
  "kernelspec": {
   "display_name": "Python 3",
   "language": "python",
   "name": "python3"
  },
  "language_info": {
   "codemirror_mode": {
    "name": "ipython",
    "version": 3
   },
   "file_extension": ".py",
   "mimetype": "text/x-python",
   "name": "python",
   "nbconvert_exporter": "python",
   "pygments_lexer": "ipython3",
   "version": "3.8.5"
  }
 },
 "nbformat": 4,
 "nbformat_minor": 5
}
