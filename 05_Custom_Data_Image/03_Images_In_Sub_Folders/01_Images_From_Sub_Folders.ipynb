{
 "cells": [
  {
   "cell_type": "markdown",
   "id": "primary-faith",
   "metadata": {},
   "source": [
    "### Images from subfolders.\n",
    "Supose we have the following structure of our images where the subfolder contains images of each class. In this case it is easy to load the images with their respective labels since the folder name is the class of the images that are in that folder. Consider the following folder structure.\n",
    "\n",
    "```python\n",
    "mnist\n",
    "    - 0\n",
    "    - 1\n",
    "    - 2\n",
    "    ...\n",
    "    - 9\n",
    "```\n",
    "We can read these images with their respective labels in two ways."
   ]
  },
  {
   "cell_type": "code",
   "execution_count": 1,
   "id": "caroline-morning",
   "metadata": {},
   "outputs": [],
   "source": [
    "import tensorflow as tf\n",
    "import tensorflow.keras as keras\n",
    "import os\n",
    "from tensorflow.keras.preprocessing.image import ImageDataGenerator"
   ]
  },
  {
   "cell_type": "markdown",
   "id": "unable-begin",
   "metadata": {},
   "source": [
    "### Method 1: `.image_dataset_from_directory()`"
   ]
  },
  {
   "cell_type": "code",
   "execution_count": 5,
   "id": "afraid-composer",
   "metadata": {},
   "outputs": [
    {
     "name": "stdout",
     "output_type": "stream",
     "text": [
      "Found 50 files belonging to 10 classes.\n",
      "Using 45 files for training.\n",
      "Found 50 files belonging to 10 classes.\n",
      "Using 5 files for validation.\n"
     ]
    }
   ],
   "source": [
    "ds_train = keras.preprocessing.image_dataset_from_directory(\n",
    "    \"mnist/\",\n",
    "    label_mode=\"categorical\",\n",
    "    class_names = [str(i) for i in range(10)],\n",
    "    color_mode=\"grayscale\",\n",
    "    batch_size=2,\n",
    "    image_size=(28, 28),\n",
    "    shuffle=True,\n",
    "    seed=42,\n",
    "    validation_split=0.1,\n",
    "    subset=\"training\",\n",
    ")\n",
    "ds_validation = keras.preprocessing.image_dataset_from_directory(\n",
    "    \"mnist/\",\n",
    "    label_mode=\"categorical\",\n",
    "    color_mode=\"grayscale\",\n",
    "    class_names = [str(i) for i in range(10)],\n",
    "    batch_size=2,\n",
    "    image_size=(28, 28),\n",
    "    shuffle=True,\n",
    "    seed=42,\n",
    "    validation_split=0.1,\n",
    "    subset=\"validation\",\n",
    ")"
   ]
  },
  {
   "cell_type": "code",
   "execution_count": 11,
   "id": "technical-assessment",
   "metadata": {},
   "outputs": [],
   "source": [
    "batch  = iter(ds_validation).__next__()"
   ]
  },
  {
   "cell_type": "code",
   "execution_count": 13,
   "id": "descending-garage",
   "metadata": {},
   "outputs": [],
   "source": [
    "def data_argumentation(image, label):\n",
    "    image = tf.image.random_brightness(image, 0.05)\n",
    "    return image, label"
   ]
  },
  {
   "cell_type": "code",
   "execution_count": 14,
   "id": "intermediate-armor",
   "metadata": {},
   "outputs": [],
   "source": [
    "ds_train = ds_train.map(data_argumentation)"
   ]
  },
  {
   "cell_type": "markdown",
   "id": "adjustable-shanghai",
   "metadata": {},
   "source": [
    "> Create a simple `NN` that will train on these images."
   ]
  },
  {
   "cell_type": "code",
   "execution_count": 20,
   "id": "residential-exception",
   "metadata": {},
   "outputs": [],
   "source": [
    "model_1 = keras.Sequential([\n",
    "    keras.layers.Input(shape=(28, 28, 1)),\n",
    "    keras.layers.Flatten(),\n",
    "    keras.layers.Dense(64, activation=\"relu\"),\n",
    "    keras.layers.Dense(128, activation=\"relu\"),\n",
    "    keras.layers.Dense(10, activation='softmax')\n",
    "] ,name=\"model_1\")\n",
    "\n",
    "model_1.compile(\n",
    "    loss = \"categorical_crossentropy\",\n",
    "    optimizer = \"adam\",\n",
    "    metrics=[\"accuracy\"]\n",
    ")"
   ]
  },
  {
   "cell_type": "code",
   "execution_count": 21,
   "id": "forty-animal",
   "metadata": {},
   "outputs": [
    {
     "name": "stdout",
     "output_type": "stream",
     "text": [
      "Epoch 1/2\n",
      "23/23 [==============================] - 1s 18ms/step - loss: 72.3091 - accuracy: 0.1086 - val_loss: 20.3648 - val_accuracy: 0.6000\n",
      "Epoch 2/2\n",
      "23/23 [==============================] - 0s 7ms/step - loss: 14.2765 - accuracy: 0.4825 - val_loss: 21.8387 - val_accuracy: 0.6000\n"
     ]
    },
    {
     "data": {
      "text/plain": [
       "<tensorflow.python.keras.callbacks.History at 0x1fe3e53e130>"
      ]
     },
     "execution_count": 21,
     "metadata": {},
     "output_type": "execute_result"
    }
   ],
   "source": [
    "model_1.fit(ds_train, epochs=2, verbose=1, validation_data=ds_validation)"
   ]
  },
  {
   "cell_type": "markdown",
   "id": "genuine-tobago",
   "metadata": {},
   "source": [
    "### Method 2: ``ImageDataGenerator`` and ``flow_from_directory``"
   ]
  },
  {
   "cell_type": "code",
   "execution_count": 33,
   "id": "every-terror",
   "metadata": {},
   "outputs": [],
   "source": [
    "datagen = ImageDataGenerator(\n",
    "    rescale=1.0 / 255,\n",
    "    rotation_range=5,\n",
    "    zoom_range=(0.5, 0.5),\n",
    "    data_format=\"channels_last\",\n",
    "    dtype=tf.float32,\n",
    ")"
   ]
  },
  {
   "cell_type": "code",
   "execution_count": 34,
   "id": "sunrise-clinic",
   "metadata": {},
   "outputs": [
    {
     "name": "stdout",
     "output_type": "stream",
     "text": [
      "Found 50 images belonging to 10 classes.\n"
     ]
    }
   ],
   "source": [
    "train_generator = datagen.flow_from_directory(\n",
    "    \"mnist\",\n",
    "    target_size=(28, 28),\n",
    "    batch_size=2,\n",
    "    color_mode=\"grayscale\",\n",
    "    class_mode=\"categorical\",\n",
    "    shuffle=True,\n",
    "    subset=\"training\",\n",
    "    seed=42,\n",
    ")"
   ]
  },
  {
   "cell_type": "code",
   "execution_count": 35,
   "id": "southeast-pastor",
   "metadata": {},
   "outputs": [],
   "source": [
    "model_2 = keras.Sequential([\n",
    "    keras.layers.Input(shape=(28, 28, 1)),\n",
    "    keras.layers.Flatten(),\n",
    "    keras.layers.Dense(64, activation=\"relu\"),\n",
    "    keras.layers.Dense(128, activation=\"relu\"),\n",
    "    keras.layers.Dense(10, activation='softmax')\n",
    "] ,name=\"model_1\")\n",
    "\n",
    "model_2.compile(\n",
    "    loss = \"categorical_crossentropy\",\n",
    "    optimizer = \"adam\",\n",
    "    metrics=[\"accuracy\"]\n",
    ")"
   ]
  },
  {
   "cell_type": "code",
   "execution_count": 36,
   "id": "wired-future",
   "metadata": {},
   "outputs": [
    {
     "name": "stdout",
     "output_type": "stream",
     "text": [
      "Epoch 1/2\n",
      "23/23 [==============================] - 1s 4ms/step - loss: 100.0087 - accuracy: 0.2049\n",
      "Epoch 2/2\n",
      "23/23 [==============================] - 0s 4ms/step - loss: 6.3733 - accuracy: 0.6951\n"
     ]
    },
    {
     "data": {
      "text/plain": [
       "<tensorflow.python.keras.callbacks.History at 0x1fe0d7b4ac0>"
      ]
     },
     "execution_count": 36,
     "metadata": {},
     "output_type": "execute_result"
    }
   ],
