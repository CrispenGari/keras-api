{
 "cells": [
  {
   "cell_type": "markdown",
   "id": "nuclear-hormone",
   "metadata": {},
   "source": [
    "### Loading images with labels in a csv file.\n",
    "In this notebook we will be able to load images with their respective labels from a `csv` file. All images will be mixed in the same folder. The structures of folders will look as follows:\n",
    "```python\n",
    "mnist-\n",
    "    - 0_1.png\n",
    "    - 0_2.png\n",
    "    ...\n",
    "    train.csv\n",
    "```\n",
    "So we will load the images of this nature as follows."
   ]
  },
  {
   "cell_type": "code",
   "execution_count": 41,
   "id": "hidden-rachel",
   "metadata": {},
   "outputs": [],
   "source": [
    "import numpy as np\n",
    "import tensorflow as tf\n",
    "from tensorflow import keras\n",
    "import os\n",
    "import pandas as pd"
   ]
  },
  {
   "cell_type": "code",
   "execution_count": 42,
   "id": "alpha-passage",
   "metadata": {},
   "outputs": [],
   "source": [
    "root_path = \"mnist/\""
   ]
  },
  {
   "cell_type": "code",
   "execution_count": 43,
   "id": "dense-turning",
   "metadata": {},
   "outputs": [
    {
     "data": {
      "text/html": [
       "<div>\n",
       "<style scoped>\n",
       "    .dataframe tbody tr th:only-of-type {\n",
       "        vertical-align: middle;\n",
       "    }\n",
       "\n",
       "    .dataframe tbody tr th {\n",
       "        vertical-align: top;\n",
       "    }\n",
       "\n",
       "    .dataframe thead th {\n",
       "        text-align: right;\n",
       "    }\n",
       "</style>\n",
       "<table border=\"1\" class=\"dataframe\">\n",
       "  <thead>\n",
       "    <tr style=\"text-align: right;\">\n",
       "      <th></th>\n",
       "      <th>file_name</th>\n",
       "      <th>label</th>\n",
       "    </tr>\n",
       "  </thead>\n",
       "  <tbody>\n",
       "    <tr>\n",
       "      <th>0</th>\n",
       "      <td>0_1.jpg</td>\n",
       "      <td>0</td>\n",
       "    </tr>\n",
       "    <tr>\n",
       "      <th>1</th>\n",
       "      <td>0_2.jpg</td>\n",
       "      <td>0</td>\n",
       "    </tr>\n",
       "    <tr>\n",
       "      <th>2</th>\n",
       "      <td>0_3.jpg</td>\n",
       "      <td>0</td>\n",
       "    </tr>\n",
       "    <tr>\n",
       "      <th>3</th>\n",
       "      <td>0_4.jpg</td>\n",
       "      <td>0</td>\n",
       "    </tr>\n",
       "    <tr>\n",
       "      <th>4</th>\n",
       "      <td>0_5.jpg</td>\n",
       "      <td>0</td>\n",
       "    </tr>\n",
       "  </tbody>\n",
       "</table>\n",
       "</div>"
      ],
      "text/plain": [
       "  file_name  label\n",
       "0   0_1.jpg      0\n",
       "1   0_2.jpg      0\n",
       "2   0_3.jpg      0\n",
       "3   0_4.jpg      0\n",
       "4   0_5.jpg      0"
      ]
     },
     "execution_count": 43,
     "metadata": {},
     "output_type": "execute_result"
    }
   ],
   "source": [
    "df = pd.read_csv(os.path.join(root_path, \"train.csv\"))\n",
    "df.head()"
   ]
  },
  {
   "cell_type": "code",
   "execution_count": 44,
   "id": "twelve-channel",
   "metadata": {},
   "outputs": [],
   "source": [
    "file_names = df[\"file_name\"].values\n",
    "labels = df[\"label\"].values"
   ]
  },
  {
   "cell_type": "markdown",
   "id": "ultimate-single",
   "metadata": {},
   "source": [
    "> Reading the `data`."
   ]
  },
  {
   "cell_type": "code",
   "execution_count": 45,
   "id": "conditional-salvation",
   "metadata": {},
   "outputs": [
    {
     "data": {
      "text/plain": [
       "<TensorSliceDataset shapes: ((), ()), types: (tf.string, tf.int64)>"
      ]
     },
     "execution_count": 45,
     "metadata": {},
     "output_type": "execute_result"
    }
   ],
   "source": [
    "ds_train = tf.data.Dataset.from_tensor_slices((file_names, labels))\n",
    "ds_train"
   ]
  },
  {
   "cell_type": "markdown",
   "id": "caroline-information",
   "metadata": {},
   "source": [
    "> Define the function that will read the ``image``."
   ]
  },
  {
   "cell_type": "code",
   "execution_count": 46,
   "id": "chronic-excellence",
   "metadata": {},
   "outputs": [],
   "source": [
    "def read_image(path, label):\n",
    "    image = tf.io.read_file(root_path + path)\n",
    "    image = tf.image.decode_image(image, channels=1, dtype=tf.float32)\n",
    "    return image, label"
   ]
  },
  {
   "cell_type": "markdown",
   "id": "harmful-dancing",
   "metadata": {},
   "source": [
    "> Define a function that will perform some data `argumentation`."
   ]
  },
  {
   "cell_type": "code",
   "execution_count": 47,
   "id": "developmental-background",
   "metadata": {},
   "outputs": [],
   "source": [
    "def data_argumentation(image, label):\n",
    "    image = tf.image.random_brightness(image, 0.05)\n",
    "    return image, label"
   ]
  },
  {
   "cell_type": "code",
   "execution_count": 48,
   "id": "outdoor-compression",
   "metadata": {},
   "outputs": [],
   "source": [
    "ds_train = ds_train.map(read_image).map(data_argumentation).batch(4)"
   ]
  },
  {
   "cell_type": "markdown",
   "id": "understood-primary",
   "metadata": {},
   "source": [
    "> Creating a model that will train on our dataset."
   ]
  },
  {
   "cell_type": "code",
   "execution_count": 49,
   "id": "demonstrated-dressing",
   "metadata": {},
   "outputs": [],
   "source": [
    "model_1 = keras.Sequential([\n",
    "    keras.layers.Input(shape=(28, 28, 1)),\n",
    "    keras.layers.Flatten(),\n",
    "    keras.layers.Dense(64, activation=\"relu\"),\n",
    "    keras.layers.Dense(128, activation=\"relu\"),\n",
    "    keras.layers.Dense(10, activation='softmax')\n",
    "] ,name=\"model_1\")\n",
    "\n",
    "model_1.compile(\n",
    "    loss = keras.losses.SparseCategoricalCrossentropy(),\n",
    "    optimizer = \"adam\",\n",
    "    metrics=[\"accuracy\"]\n",
    ")"
   ]
  },
  {
   "cell_type": "code",
   "execution_count": 50,
   "id": "rapid-graph",
   "metadata": {},
   "outputs": [
    {
     "name": "stdout",
     "output_type": "stream",
     "text": [
      "Epoch 1/2\n",
      "13/13 [==============================] - 1s 6ms/step - loss: 2.3528 - accuracy: 0.0987\n",
      "Epoch 2/2\n",
      "13/13 [==============================] - 0s 6ms/step - loss: 1.9329 - accuracy: 0.6079\n"
     ]
    },
    {
     "data": {
      "text/plain": [
       "<tensorflow.python.keras.callbacks.History at 0x1bcc1e55d30>"
      ]
     },
     "execution_count": 50,
     "metadata": {},
     "output_type": "execute_result"
    }
   ],
   "source": [
    "model_1.fit(ds_train, epochs=2, verbose=1)"
   ]
  },
  {
   "cell_type": "markdown",
   "id": "behind-theology",
   "metadata": {},
   "source": [
    "That's how we can read images with labels and file names in the `csv` file."
   ]
  }
 ],
 "metadata": {
  "kernelspec": {
   "display_name": "Python 3",
   "language": "python",
   "name": "python3"
  },
  "language_info": {
   "codemirror_mode": {
    "name": "ipython",
    "version": 3
   },
   "file_extension": ".py",
   "mimetype": "text/x-python",
   "name": "python",
   "nbconvert_exporter": "python",
   "pygments_lexer": "ipython3",
   "version": "3.8.5"
  }
 },
 "nbformat": 4,
 "nbformat_minor": 5
}
