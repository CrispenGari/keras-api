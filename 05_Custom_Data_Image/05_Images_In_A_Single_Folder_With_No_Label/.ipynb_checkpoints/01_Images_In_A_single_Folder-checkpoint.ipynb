{
 "cells": [
  {
   "cell_type": "markdown",
   "id": "rural-sacrifice",
   "metadata": {},
   "source": [
    "### Reading Images in a single folder.\n",
    "This case arises when images of different classes are in the same folder and the classes are detemined by the file name for example if the prefix of the image is `dog` then that image will belong to the class of dog. In this notebook we will go through the mnist images with the following structure.\n",
    "```\n",
    "mnist\n",
    "    - 0_1.png\n",
    "    - 0_2.png\n",
    "    - 1_1.png\n",
    "    ...\n",
    "```\n",
    "\n",
    "In this case the first digit of the file name detemines the class where the image belongs to."
   ]
  },
  {
   "cell_type": "code",
   "execution_count": 50,
   "id": "equal-pizza",
   "metadata": {},
   "outputs": [],
   "source": [
    "import numpy as np\n",
    "import tensorflow as tf\n",
    "from tensorflow import keras\n",
    "import os\n",
    "import pandas as pd\n",
    "import pathlib"
   ]
  },
  {
   "cell_type": "code",
   "execution_count": 71,
   "id": "prerequisite-grain",
   "metadata": {},
   "outputs": [],
   "source": [
    "root_path = \"mnist/\""
   ]
  },
  {
   "cell_type": "code",
   "execution_count": 80,
   "id": "suspected-brake",
   "metadata": {},
   "outputs": [
    {
     "data": {
      "text/plain": [
       "<ShuffleDataset shapes: (), types: tf.string>"
      ]
     },
     "execution_count": 80,
     "metadata": {},
     "output_type": "execute_result"
    }
   ],
   "source": [
    "ds_train = tf.data.Dataset.list_files(str(pathlib.Path(root_path, '*.jpg')))\n",
    "ds_train"
   ]
  },
  {
   "cell_type": "markdown",
   "id": "everyday-contrast",
   "metadata": {},
   "source": [
    "> Processing the image paths."
   ]
  },
  {
   "cell_type": "code",
   "execution_count": 93,
   "id": "assured-magazine",
   "metadata": {},
   "outputs": [],
   "source": [
    "def process_path(path):\n",
    "    image = tf.io.read_file(path)\n",
    "    image = tf.image.decode_image(image, channels=1, dtype=\"float32\")\n",
    "    label = tf.strings.split(path, \"\\\\\")[-1]\n",
    "    label = tf.strings.substr(label, pos=0, len=1)\n",
    "    label = tf.strings.to_number(label, out_type=tf.int64)\n",
    "    return image, label"
   ]
  },
  {
   "cell_type": "code",
   "execution_count": null,
   "id": "reasonable-joshua",
   "metadata": {},
   "outputs": [],
   "source": []
  },
  {
   "cell_type": "markdown",
   "id": "fifth-motivation",
   "metadata": {},
   "source": [
    "> Data argumentation on images."
   ]
  },
  {
   "cell_type": "code",
   "execution_count": 94,
   "id": "activated-sampling",
   "metadata": {},
   "outputs": [],
   "source": [
    "def data_argumentation(image, label):\n",
    "    image = tf.image.random_brightness(image, 0.05)\n",
    "    return image, label"
   ]
  },
  {
   "cell_type": "code",
   "execution_count": 95,
   "id": "digital-power",
   "metadata": {},
   "outputs": [
    {
     "data": {
      "text/plain": [
       "<BatchDataset shapes: (<unknown>, (None,)), types: (tf.float32, tf.int64)>"
      ]
     },
     "execution_count": 95,
     "metadata": {},
     "output_type": "execute_result"
    }
   ],
   "source": [
    "ds_train = ds_train.map(process_path).batch(2)\n",
    "ds_train"
   ]
  },
  {
   "cell_type": "markdown",
   "id": "fundamental-vaccine",
   "metadata": {},
   "source": [
    "> Trainning the network on our custom image dataset."
   ]
  },
  {
   "cell_type": "code",
   "execution_count": 97,
   "id": "hundred-second",
   "metadata": {},
   "outputs": [
    {
     "name": "stdout",
     "output_type": "stream",
     "text": [
      "Epoch 1/2\n",
      "25/25 [==============================] - 1s 3ms/step - loss: 2.3127 - accuracy: 0.0413\n",
      "Epoch 2/2\n",
      "25/25 [==============================] - 0s 3ms/step - loss: 1.9155 - accuracy: 0.6309\n"
     ]
    },
    {
     "data": {
      "text/plain": [
       "<tensorflow.python.keras.callbacks.History at 0x236fefe7ca0>"
      ]
     },
     "execution_count": 97,
     "metadata": {},
     "output_type": "execute_result"
    }
   ],
   "source": [
    "model_1 = keras.Sequential([\n",
    "    keras.layers.Input(shape=(28, 28, 1)),\n",
    "    keras.layers.Flatten(),\n",
    "    keras.layers.Dense(64, activation=\"relu\"),\n",
    "    keras.layers.Dense(128, activation=\"relu\"),\n",
    "    keras.layers.Dense(10, activation='softmax')\n",
    "] ,name=\"model_1\")\n",
    "\n",
    "model_1.compile(\n",
    "    loss = keras.losses.SparseCategoricalCrossentropy(),\n",
    "    optimizer = \"adam\",\n",
    "    metrics=[\"accuracy\"]\n",
    ")\n",
    "model_1.fit(ds_train, epochs=2, verbose=1)"
   ]
  },
  {
   "cell_type": "markdown",
   "id": "peripheral-transmission",
   "metadata": {},
   "source": [
    "That's how we can load images, that has a class name depending on their file naming."
   ]
  },
  {
   "cell_type": "code",
   "execution_count": null,
   "id": "missing-cylinder",
   "metadata": {},
   "outputs": [],
   "source": []
  }
 ],
 "metadata": {
  "kernelspec": {
   "display_name": "Python 3",
   "language": "python",
   "name": "python3"
  },
  "language_info": {
   "codemirror_mode": {
    "name": "ipython",
    "version": 3
   },
   "file_extension": ".py",
   "mimetype": "text/x-python",
   "name": "python",
   "nbconvert_exporter": "python",
   "pygments_lexer": "ipython3",
   "version": "3.8.5"
  }
 },
 "nbformat": 4,
 "nbformat_minor": 5
}
