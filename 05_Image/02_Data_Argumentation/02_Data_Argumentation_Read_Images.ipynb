{
 "cells": [
  {
   "cell_type": "markdown",
   "id": "south-macintosh",
   "metadata": {},
   "source": [
    "### Data Argumentaion - Reading the images from our local folder.\n",
    "\n",
    "To avoid overfitting and create a larger dataset from a smaller one we can use a technique called ``data augmentation``. This is simply performing random transofrmations on our images so that our model can generalize better. These transformations can be things like compressions, rotations, stretches and even color changes.\n",
    "\n",
    "```python\n",
    "\n",
    "tf.keras.preprocessing.image.ImageDataGenerator(\n",
    "    featurewise_center=False,\n",
    "    samplewise_center=False,\n",
    "    featurewise_std_normalization=False,\n",
    "    samplewise_std_normalization=False,\n",
    "    zca_whitening=False,\n",
    "    zca_epsilon=1e-06,\n",
    "    rotation_range=0,\n",
    "    width_shift_range=0.0,\n",
    "    height_shift_range=0.0,\n",
    "    brightness_range=None,\n",
    "    shear_range=0.0,\n",
    "    zoom_range=0.0,\n",
    "    channel_shift_range=0.0,\n",
    "    fill_mode=\"nearest\",\n",
    "    cval=0.0,\n",
    "    horizontal_flip=False,\n",
    "    vertical_flip=False,\n",
    "    rescale=None,\n",
    "    preprocessing_function=None,\n",
    "    data_format=None,\n",
    "    validation_split=0.0,\n",
    "    dtype=None,\n",
    ")\n",
    "```"
   ]
  },
  {
   "cell_type": "markdown",
   "id": "boxed-river",
   "metadata": {},
   "source": [
    "### Imports"
   ]
  },
  {
   "cell_type": "code",
   "execution_count": 14,
   "id": "conscious-rolling",
   "metadata": {},
   "outputs": [],
   "source": [
    "import tensorflow as tf\n",
    "import os, shutil, random\n",
    "import tensorflow.keras as keras\n",
    "import matplotlib.pyplot as plt"
   ]
  },
  {
   "cell_type": "markdown",
   "id": "disciplinary-silly",
   "metadata": {},
   "source": [
    "> When dealing with this our folders has different `2` stuctures that they should have. For example, let's say we have images of bees and ant's so there are `2` classes, and we shoud come up with `3` subsets which are `training`, `testing`, and `validation`. These folders especially the `train` and `validation` must have `2` subfolders in them which are `ants` and `bees`. We can also do this to the `test` folder, but the `test` data normally dont have `labels` so it does not mater if we have subsets int it.\n",
    "\n",
    "#### Folders Structure 1 `(unlabeled test-set)`\n",
    "````\n",
    "    data\n",
    "        train\n",
    "            bees\n",
    "                - bee1.png\n",
    "                - bee2.png\n",
    "                ...\n",
    "            ants\n",
    "                - ant1.png\n",
    "                ...\n",
    "        validation\n",
    "            bees\n",
    "                - bee1.png\n",
    "                - bee2.png\n",
    "                ...\n",
    "            ants\n",
    "                - ant1.png\n",
    "                ...\n",
    "    test\n",
    "        bee1.png\n",
    "        ant1.png\n",
    "        ...\n",
    "````\n",
    "#### Folders Structure 2 `(labeled test-set)`\n",
    "````\n",
    "    data\n",
    "        train\n",
    "            bees\n",
    "                - bee1.png\n",
    "                - bee2.png\n",
    "                ...\n",
    "            ants\n",
    "                - ant1.png\n",
    "                ...\n",
    "        validation\n",
    "            bees\n",
    "                - bee1.png\n",
    "                - bee2.png\n",
    "                ...\n",
    "            ants\n",
    "                - ant1.png\n",
    "                ...\n",
    "         test\n",
    "                 bees\n",
    "                - bee1.png\n",
    "                - bee2.png\n",
    "                ...\n",
    "            ants\n",
    "                - ant1.png\n",
    "                ...\n",
    "````\n",
    "\n",
    "**Note** - The only difference is on the `test` sub-set in the event that we want our test data to have labels we use the method 2 otherwise we use method 1. And when using method 1 the test folder must be in the `root` folder and the following code will read the images of the test set.\n",
    "\n",
    "```python\n",
    "test_batches = test_gen.flow_from_directory(\n",
    "    '.', # root dir\n",
    "    target_size=(256, 256),\n",
    ")\n",
    "```"
   ]
  },
  {
   "cell_type": "markdown",
   "id": "owned-device",
   "metadata": {},
   "source": [
    "> Programatically, Grouping images."
   ]
  },
  {
   "cell_type": "code",
   "execution_count": 17,
   "id": "patent-passport",
   "metadata": {},
   "outputs": [
    {
     "name": "stdout",
     "output_type": "stream",
     "text": [
      "Done.\n"
     ]
    }
   ],
   "source": [
    "valid_path_bee = \"bees_v_ant/validation/bee\"\n",
    "test_path_bee = \"bees_v_ant/test/bee\"\n",
    "train_path_bee = \"bees_v_ant/train/bee\"\n",
    "\n",
    "valid_path_ant = \"bees_v_ant/validation/ant\"\n",
    "test_path_ant = \"bees_v_ant/test/ant\"\n",
    "train_path_ant = \"bees_v_ant/train/ant\"\n",
    "\n",
    "if not os.path.exists(valid_path_bee):\n",
    "    os.makedirs(valid_path_bee)\n",
    "if not os.path.exists(train_path_bee):\n",
    "    os.makedirs(train_path_bee)\n",
    "if not os.path.exists(test_path_bee):\n",
    "    os.makedirs(test_path_bee)\n",
    "    \n",
    "if not os.path.exists(valid_path_ant):\n",
    "    os.makedirs(valid_path_ant)\n",
    "if not os.path.exists(train_path_ant):\n",
    "    os.makedirs(train_path_ant)\n",
    "if not os.path.exists(test_path_ant):\n",
    "    os.makedirs(test_path_ant)  \n",
    "\n",
    "print(\"Done.\")"
   ]
  },
  {
   "cell_type": "markdown",
   "id": "frozen-theme",
   "metadata": {},
   "source": [
    "> Moving `images` around using `shutil`"
   ]
  },
  {
   "cell_type": "code",
   "execution_count": 18,
   "id": "faced-lloyd",
   "metadata": {},
   "outputs": [],
   "source": [
    "training_size = 10\n",
    "test_size = 4\n",
    "valid_size = 6\n",
    "\n",
    "base_dir_bees = \"data/bees\"\n",
    "base_dir_ants = 'data/ant'"
   ]
  },
  {
   "cell_type": "code",
   "execution_count": 19,
   "id": "intellectual-skiing",
   "metadata": {},
   "outputs": [],
   "source": [
    "bees_images = os.listdir(base_dir_bees)\n",
    "ants_images = os.listdir(base_dir_ants)"
   ]
  },
  {
   "cell_type": "code",
   "execution_count": 20,
   "id": "documented-jacob",
   "metadata": {},
   "outputs": [
    {
     "name": "stdout",
     "output_type": "stream",
     "text": [
      "Done\n"
     ]
    }
   ],
   "source": [
    "for _ in range(training_size):\n",
    "    ants_images = os.listdir(base_dir_ants)\n",
    "    random.shuffle(ants_images)\n",
    "    shutil.move(os.path.join(base_dir_ants, ants_images[0]) , train_path_ant)\n",
    "for ___ in range(valid_size):\n",
    "    ants_images = os.listdir(base_dir_ants)\n",
    "    random.shuffle(ants_images)\n",
    "    shutil.move(os.path.join(base_dir_ants, ants_images[0]) , valid_path_ant)\n",
    "for __ in range(test_size):\n",
    "    ants_images = os.listdir(base_dir_ants)\n",
    "    random.shuffle(ants_images)\n",
    "    shutil.move(os.path.join(base_dir_ants, ants_images[0]) , test_path_ant)\n",
    "    \n",
    "for ___i in range(training_size):\n",
    "    bees_images = os.listdir(base_dir_bees)\n",
    "    random.shuffle(bees_images)\n",
    "    shutil.move(os.path.join(base_dir_bees, bees_images[0]) , train_path_bee)\n",
    "for __i in range(valid_size):\n",
    "    bees_images = os.listdir(base_dir_bees)\n",
    "    random.shuffle(bees_images)\n",
    "    shutil.move(os.path.join(base_dir_bees, bees_images[0]) , valid_path_bee)\n",
    "for _i in range(test_size):\n",
    "    bees_images = os.listdir(base_dir_bees)\n",
    "    random.shuffle(bees_images)\n",
    "    shutil.move(os.path.join(base_dir_bees, bees_images[0]) , test_path_bee)\n",
    "\n",
    "print(\"Done\")"
   ]
  },
  {
   "cell_type": "markdown",
   "id": "killing-midwest",
   "metadata": {},
   "source": [
    "> Creating `ImageDataGenerator`'s  for each subset"
   ]
  },
  {
   "cell_type": "code",
   "execution_count": 28,
   "id": "available-syndrome",
   "metadata": {},
   "outputs": [
    {
     "name": "stdout",
     "output_type": "stream",
     "text": [
      "Done\n"
     ]
    }
   ],
   "source": [
    "train_path = \"bees_v_ant/train\"\n",
    "test_path = \"bees_v_ant/test\"\n",
    "valid_path = \"bees_v_ant/validation\"\n",
    "\n",
    "train_gen = keras.preprocessing.image.ImageDataGenerator(rescale= 1./255)\n",
    "test_gen = keras.preprocessing.image.ImageDataGenerator(rescale= 1./255)\n",
    "valid_gen = keras.preprocessing.image.ImageDataGenerator(rescale= 1./255)\n",
    "\n",
    "print(\"Done\")"
   ]
  },
  {
   "cell_type": "markdown",
   "id": "tested-computer",
   "metadata": {},
   "source": [
    "> Generating `batches` for each subset."
   ]
  },
  {
   "cell_type": "code",
   "execution_count": 24,
   "id": "roman-bullet",
   "metadata": {},
   "outputs": [],
   "source": [
    "class_names = [\"ant\", \"bee\"]"
   ]
  },
  {
   "cell_type": "code",
   "execution_count": 29,
   "id": "physical-morrison",
   "metadata": {},
   "outputs": [
    {
     "name": "stdout",
     "output_type": "stream",
     "text": [
      "Found 20 images belonging to 2 classes.\n",
      "Found 8 images belonging to 2 classes.\n",
      "Found 12 images belonging to 2 classes.\n",
      "Done\n"
     ]
    }
   ],
   "source": [
    "train_batches = train_gen.flow_from_directory(\n",
    "    train_path,\n",
    "    target_size=(224, 224),\n",
    "    class_mode='categorical',\n",
    "    batch_size=2,\n",
    "    shuffle=True,\n",
    "    color_mode=\"rgb\",\n",
    "    classes=class_names  \n",
    ")\n",
    "test_batches = test_gen.flow_from_directory(\n",
    "    test_path,\n",
    "    target_size=(224, 224),\n",
    "    class_mode='categorical',\n",
    "    batch_size=2,\n",
    "    shuffle=True,\n",
    "    color_mode=\"rgb\",\n",
    "    classes=class_names  \n",
    ")\n",
    "valid_batches = valid_gen.flow_from_directory(\n",
    "    valid_path,\n",
    "    target_size=(224, 224),\n",
    "    class_mode='categorical',\n",
    "    batch_size=2,\n",
    "    shuffle=True,\n",
    "    color_mode=\"rgb\",\n",
    "    classes=class_names  \n",
    ")\n",
    "\n",
    "print(\"Done\")"
   ]
  },
  {
   "cell_type": "code",
   "execution_count": 55,
   "id": "delayed-operations",
   "metadata": {},
   "outputs": [
    {
     "data": {
      "image/png": "[encoded data removed]",
      "text/plain": [
       "<Figure size 720x432 with 2 Axes>"
      ]
     },
     "metadata": {
      "needs_background": "light"
     },
     "output_type": "display_data"
    }
   ],
   "source": [
    "train_test = train_batches[4][0]\n",
    "def display_images(images_and_classes, labels=[], cols=5):\n",
    "    rows = 3\n",
    "    fig = plt.figure(figsize = (10,10))\n",
    "    fig.set_size_inches(cols * 2, rows * 2)\n",
    "    for i, image in enumerate(images_and_classes):\n",
    "        plt.subplot(rows, cols, i + 1)\n",
    "        plt.axis('off')\n",
    "        plt.imshow(image)\n",
    "display_images(train_test)"
   ]
  },
  {
   "cell_type": "code",
   "execution_count": 56,
   "id": "imperial-pride",
   "metadata": {},
   "outputs": [
    {
     "data": {
      "text/plain": [
       "(224, 224, 3)"
      ]
     },
     "execution_count": 56,
     "metadata": {},
     "output_type": "execute_result"
    }
   ],
   "source": [
    "train_test[0].shape"
   ]
  },
  {
   "cell_type": "markdown",
   "id": "varying-edward",
   "metadata": {},
   "source": [
    "### Create a simple model"
   ]
  },
  {
   "cell_type": "code",
   "execution_count": 62,
   "id": "distant-thousand",
   "metadata": {},
   "outputs": [
    {
     "name": "stdout",
     "output_type": "stream",
     "text": [
      "Model: \"sequential_4\"\n",
      "_________________________________________________________________\n",
      "Layer (type)                 Output Shape              Param #   \n",
      "=================================================================\n",
      "conv2d_16 (Conv2D)           (None, 223, 223, 64)      832       \n",
      "_________________________________________________________________\n",
      "max_pooling2d_12 (MaxPooling (None, 111, 111, 64)      0         \n",
      "_________________________________________________________________\n",
      "conv2d_17 (Conv2D)           (None, 110, 110, 32)      8224      \n",
      "_________________________________________________________________\n",
      "max_pooling2d_13 (MaxPooling (None, 55, 55, 32)        0         \n",
      "_________________________________________________________________\n",
      "conv2d_18 (Conv2D)           (None, 54, 54, 64)        8256      \n",
      "_________________________________________________________________\n",
      "max_pooling2d_14 (MaxPooling (None, 27, 27, 64)        0         \n",
      "_________________________________________________________________\n",
      "conv2d_19 (Conv2D)           (None, 26, 26, 32)        8224      \n",
      "_________________________________________________________________\n",
      "flatten_4 (Flatten)          (None, 21632)             0         \n",
      "_________________________________________________________________\n",
      "dense_12 (Dense)             (None, 32)                692256    \n",
      "_________________________________________________________________\n",
      "dense_13 (Dense)             (None, 16)                528       \n",
      "_________________________________________________________________\n",
      "dense_14 (Dense)             (None, 2)                 34        \n",
      "=================================================================\n",
      "Total params: 718,354\n",
      "Trainable params: 718,354\n",
      "Non-trainable params: 0\n",
      "_________________________________________________________________\n"
     ]
    }
   ],
   "source": [
    "model = keras.Sequential([\n",
    "    keras.layers.Input(shape=(224, 224, 3)),\n",
    "    keras.layers.Conv2D(64, (2,2), activation='relu'),\n",
    "    keras.layers.MaxPool2D((2,2)),\n",
    "    keras.layers.Conv2D(32, (2,2), activation='relu'),\n",
    "    keras.layers.MaxPool2D((2,2)),\n",
    "    keras.layers.Conv2D(64, (2,2), activation='relu'),\n",
    "    keras.layers.MaxPool2D((2,2)),\n",
    "    keras.layers.Conv2D(32, (2,2), activation='relu'),\n",
    "    keras.layers.Flatten(),\n",
    "    keras.layers.Dense(32, activation='relu'),\n",
    "    keras.layers.Dense(16, activation='relu'),\n",
    "    keras.layers.Dense(2, activation='softmax'),\n",
    "])\n",
    "model.compile(\n",
    "    loss = keras.losses.CategoricalCrossentropy(from_logits=False), # because we applied softmax\n",
    "    metrics = ['acc'],\n",
    "    optimizer = 'adam'\n",
    ")\n",
    "\n",
    "model.summary()"
   ]
  },
  {
   "cell_type": "code",
   "execution_count": 63,
   "id": "through-smart",
   "metadata": {},
   "outputs": [
    {
     "name": "stdout",
     "output_type": "stream",
     "text": [
      "Epoch 1/10\n",
      "10/10 [==============================] - 4s 295ms/step - loss: 0.6885 - acc: 0.4052 - val_loss: 0.5492 - val_acc: 0.5000\n",
      "Epoch 2/10\n",
      "10/10 [==============================] - 3s 260ms/step - loss: 0.3409 - acc: 0.8623 - val_loss: 0.0150 - val_acc: 1.0000\n",
      "Epoch 3/10\n",
      "10/10 [==============================] - 2s 251ms/step - loss: 0.0102 - acc: 1.0000 - val_loss: 1.7374e-04 - val_acc: 1.0000\n",
      "Epoch 4/10\n",
      "10/10 [==============================] - 2s 252ms/step - loss: 7.2228e-05 - acc: 1.0000 - val_loss: 2.7815e-06 - val_acc: 1.0000\n",
      "Epoch 5/10\n",
      "10/10 [==============================] - 3s 251ms/step - loss: 1.4889e-06 - acc: 1.0000 - val_loss: 3.7750e-07 - val_acc: 1.0000\n",
      "Epoch 6/10\n",
      "10/10 [==============================] - 3s 254ms/step - loss: 2.5991e-07 - acc: 1.0000 - val_loss: 1.5895e-07 - val_acc: 1.0000\n",
      "Epoch 7/10\n",
      "10/10 [==============================] - 3s 258ms/step - loss: 1.6796e-07 - acc: 1.0000 - val_loss: 1.2914e-07 - val_acc: 1.0000\n",
      "Epoch 8/10\n",
      "10/10 [==============================] - 3s 254ms/step - loss: 4.6540e-08 - acc: 1.0000 - val_loss: 8.9407e-08 - val_acc: 1.0000\n",
      "Epoch 9/10\n",
      "10/10 [==============================] - 2s 253ms/step - loss: 9.6877e-08 - acc: 1.0000 - val_loss: 7.9473e-08 - val_acc: 1.0000\n",
      "Epoch 10/10\n",
      "10/10 [==============================] - 3s 255ms/step - loss: 9.9358e-08 - acc: 1.0000 - val_loss: 7.9473e-08 - val_acc: 1.0000\n"
     ]
    }
   ],
   "source": [
    "history = model.fit(train_batches, validation_data=valid_batches, epochs=10)"
   ]
  },
  {
   "cell_type": "markdown",
   "id": "bored-consumer",
   "metadata": {},
   "source": [
    "> Plottin `model` history for `each` epoch"
   ]
  },
  {
   "cell_type": "code",
   "execution_count": 77,
   "id": "mysterious-legislation",
   "metadata": {},
   "outputs": [],
   "source": [
    "import pandas as pd\n",
    "import numpy as np"
   ]
  },
  {
   "cell_type": "code",
   "execution_count": 67,
   "id": "grave-sewing",
   "metadata": {},
   "outputs": [
    {
     "data": {
      "image/png": "[encoded data removed]",
      "text/plain": [
       "<Figure size 432x288 with 1 Axes>"
      ]
     },
     "metadata": {
      "needs_background": "light"
     },
     "output_type": "display_data"
    }
   ],
   "source": [
    "pd.DataFrame(history.history).plot(title=\"model history\")\n",
    "plt.show()"
   ]
  },
  {
   "cell_type": "markdown",
   "id": "transparent-alarm",
   "metadata": {},
   "source": [
    "Evaluating the ``model``"
   ]
  },
  {
   "cell_type": "code",
   "execution_count": 68,
   "id": "smooth-sample",
   "metadata": {},
   "outputs": [
    {
     "name": "stdout",
     "output_type": "stream",
     "text": [
      "4/4 [==============================] - 0s 76ms/step - loss: 8.9407e-08 - acc: 1.0000\n"
     ]
    },
    {
     "data": {
      "text/plain": [
       "[8.940696005765858e-08, 1.0]"
      ]
     },
     "execution_count": 68,
     "metadata": {},
     "output_type": "execute_result"
    }
   ],
   "source": [
    "model.evaluate(test_batches)"
   ]
  },
  {
   "cell_type": "markdown",
   "id": "underlying-appointment",
   "metadata": {},
   "source": [
    "> Making ``predictions``"
   ]
  },
  {
   "cell_type": "code",
   "execution_count": 73,
   "id": "champion-discipline",
   "metadata": {},
   "outputs": [
    {
     "data": {
      "text/plain": [
       "<tf.Tensor: shape=(8, 2), dtype=float32, numpy=\n",
       "array([[1., 0.],\n",
       "       [0., 1.],\n",
       "       [0., 1.],\n",
       "       [0., 1.],\n",
       "       [1., 0.],\n",
       "       [1., 0.],\n",
       "       [1., 0.],\n",
       "       [0., 1.]], dtype=float32)>"
      ]
     },
     "execution_count": 73,
     "metadata": {},
     "output_type": "execute_result"
    }
   ],
   "source": [
    "predictions = tf.round(model.predict(test_batches))\n",
    "predictions"
   ]
  },
  {
   "cell_type": "code",
   "execution_count": 75,
   "id": "functional-queue",
   "metadata": {},
   "outputs": [
    {
     "data": {
      "text/plain": [
       "array([[1., 0.],\n",
       "       [0., 1.]], dtype=float32)"
      ]
     },
     "execution_count": 75,
     "metadata": {},
     "output_type": "execute_result"
    }
   ],
   "source": [
    "test_batches[0][1]"
   ]
  },
  {
   "cell_type": "code",
   "execution_count": null,
   "id": "changing-alaska",
   "metadata": {},
   "outputs": [],
   "source": []
  }
 ],
 "metadata": {
  "kernelspec": {
   "display_name": "Python 3",
   "language": "python",
   "name": "python3"
  },
  "language_info": {
   "codemirror_mode": {
    "name": "ipython",
    "version": 3
   },
   "file_extension": ".py",
   "mimetype": "text/x-python",
   "name": "python",
   "nbconvert_exporter": "python",
   "pygments_lexer": "ipython3",
   "version": "3.8.5"
  }
 },
 "nbformat": 4,
 "nbformat_minor": 5
}
