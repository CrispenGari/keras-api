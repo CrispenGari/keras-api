{
  "nbformat": 4,
  "nbformat_minor": 5,
  "metadata": {
    "kernelspec": {
      "display_name": "Python 3",
      "language": "python",
      "name": "python3"
    },
    "language_info": {
      "codemirror_mode": {
        "name": "ipython",
        "version": 3
      },
      "file_extension": ".py",
      "mimetype": "text/x-python",
      "name": "python",
      "nbconvert_exporter": "python",
      "pygments_lexer": "ipython3",
      "version": "3.8.5"
    },
    "colab": {
      "name": "01_RNN_LSTM_GRU.ipynb",
      "provenance": [],
      "toc_visible": true
    },
    "accelerator": "GPU"
  },
  "cells": [
    {
      "cell_type": "markdown",
      "metadata": {
        "id": "increased-visiting"
      },
      "source": [
        "### Recurrent Neural Networks `RNN`\n",
        "Recurrent Neural Networks (RNN) are designed to work with sequential data. Sequential data(can be time-series) can be in form of text, audio, video etc.\n",
        "RNN uses the previous information in the sequence to produce the current output. Let's consider the following illustration suppose we have the sentence:\n",
        "```\n",
        "\"I love deep learning.\"\n",
        "```\n",
        "* At `t0` the input will be `I`\n",
        "* At `t1` the input will be `I love`\n",
        "* At `t2` the input will be `I love deep`\n",
        "* At `t3` the input will be `I love deep learning.`\n",
        "> At the end the `NN` will have all the infomation about the last step.\n",
        "\n",
        "<p align=\"center\"><img src=\"https://miro.medium.com/max/480/1*gEA0-LTj05xtESA5XoBxPw.gif\"/> </p>\n",
        "\n",
        "**Note**: In ``RNN`` weights and bias for all the nodes in the layer are same. The default activation function of `RNN` is `tanh`."
      ],
      "id": "increased-visiting"
    },
    {
      "cell_type": "markdown",
      "metadata": {
        "id": "binding-priority"
      },
      "source": [
        "> Let's have a look at a `RNN` unit.\n",
        "<p align=\"center\"><img src=\"https://miro.medium.com/max/332/0*eRJCRsikdGGu8ffA.png\"/></p>\n",
        "\n",
        "> ``RNN’s`` face **short-term memory** problem. It is caused due to ``vanishing gradient`` problem. As ``RNN`` processes more steps it suffers from vanishing gradient more than other neural network architectures.\n",
        "\n",
        "### The vaishing gradient problem.\n",
        "In ``RNN`` to train the network you backpropagate through time, at each step the gradient is calculated. The gradient is used to update weights in the network. If the effect of the previous layer on the current layer is small then the gradient value will be small and vice-versa. If the gradient of the previous layer is smaller, then the gradient of the current layer will be even smaller. This makes the gradients exponentially shrink down as we backpropagate. Smaller gradient means it will not affect the weight updation. Due to this, the network does not learn the effect of earlier inputs. Thus, causing the ``short-term`` memory problem.\n",
        "\n",
        "To solve the problem of Vanishing gradient we use two specialised versions of RNN.\n",
        "\n",
        "#### Gated Recurrent Units `GRU`\n",
        "In this `RNN` there are two gates namely:\n",
        "1. update gate\n",
        "2. reset gate\n",
        "\n",
        "<p align=\"center\"><img src=\"https://miro.medium.com/max/700/1*RiOzdOVaaeKrUotY7-1a2A.png\"/></p>\n",
        "\n",
        "Gates are nothing but neural networks, each gate has its own weights and biases(but don’t forget that weights and bias for all nodes in one layer are same).\n",
        "\n",
        "* **Update gate** -\n",
        "Update gate decides if the cell state should be updated with the candidate state(current activation value)or not.\n",
        "* **Reset gate** -\n",
        "The reset gate is used to decide whether the previous cell state is important or not. Sometimes the reset gate is not used in simple GRU.\n",
        "* **Candidate cell** -\n",
        "It is just simply the same as the hidden state(activation) of RNN.\n",
        "**Final cell state** -\n",
        "The final cell state is dependent on the update gate. It may or may not be updated with candidate state. Remove some content from last cell state, and write some new cell content.\n",
        "\n",
        "In GRU,\n",
        "\n",
        "\n",
        "* If reset close to 0, ignore previous hidden state (allows the model to drop information that is irrelevant in the future).\n",
        "* If gamma(update gate) close to 1, then we can copy information in that unit through many steps!\n",
        "* Gamma Controls how much of past state should matter now.\n",
        "\n",
        "#### Long Short-Term Memory `LSTM`\n",
        "LSTMs are pretty much similar to GRU’s, they are also intended to solve the vanishing gradient problem. It has the following gates\n",
        "\n",
        "1. update gate\n",
        "2. reset gate\n",
        "3. forget gate\n",
        "4. output gate\n",
        "\n",
        "<p align=\"center\"><img src=\"https://miro.medium.com/max/700/1*lSDKRennQMpJFL4xxJHloQ.png\"/></p>\n",
        "\n",
        "> All 3 gates(input gate, output gate, forget gate) use sigmoid as activation function so all gate values are between 0 and 1.\n",
        "\n",
        "* **Forget gate** -\n",
        "It controls what is kept vs forgotten, from previous cell state. In laymen terms, it will decide how much information from the previous state should be kept and forget remaining.\n",
        "* **Output gate** -\n",
        "It controls which parts of the cell are output to the hidden state. It will determine what the next hidden state will be.\n",
        "\n",
        "### Ref\n",
        "\n",
        "[Article](https://medium.com/analytics-vidhya/rnn-vs-gru-vs-lstm-863b0b7b1573)\n"
      ],
      "id": "binding-priority"
    },
    {
      "cell_type": "markdown",
      "metadata": {
        "id": "demanding-disorder"
      },
      "source": [
        "### Practical Example\n",
        "We are going to use `RNN` with the `airline-passanger` dataset which we will load from a `csv` file. The dataset provides a record of the number of people travelling in US airlines in a particular month. we will only use the `Passengers` column."
      ],
      "id": "demanding-disorder"
    },
    {
      "cell_type": "markdown",
      "metadata": {
        "id": "animated-relationship"
      },
      "source": [
        "### Imports"
      ],
      "id": "animated-relationship"
    },
    {
      "cell_type": "code",
      "metadata": {
        "id": "adult-sharing"
      },
      "source": [
        "import pandas as pd\n",
        "import matplotlib.pyplot as plt\n",
        "import seaborn as sns\n",
        "import tensorflow as tf\n",
        "import tensorflow.keras as keras\n",
        "import numpy as np\n",
        "from sklearn.model_selection import train_test_split\n",
        "from sklearn.preprocessing import MinMaxScaler\n",
        "from sklearn.compose import ColumnTransformer"
      ],
      "id": "adult-sharing",
      "execution_count": 1,
      "outputs": []
    },
    {
      "cell_type": "markdown",
      "metadata": {
        "id": "confidential-victor"
      },
      "source": [
        "### Data Prep"
      ],
      "id": "confidential-victor"
    },
    {
      "cell_type": "code",
      "metadata": {
        "id": "packed-adoption",
        "outputId": "01cffc50-b303-4cdf-c248-59093f6dad81"
      },
      "source": [
        "data = pd.read_csv(\"airline-passengers.csv\")\n",
        "data.head()"
      ],
      "id": "packed-adoption",
      "execution_count": null,
      "outputs": [
        {
          "output_type": "execute_result",
          "data": {
            "text/html": [
              "<div>\n",
              "<style scoped>\n",
              "    .dataframe tbody tr th:only-of-type {\n",
              "        vertical-align: middle;\n",
              "    }\n",
              "\n",
              "    .dataframe tbody tr th {\n",
              "        vertical-align: top;\n",
              "    }\n",
              "\n",
              "    .dataframe thead th {\n",
              "        text-align: right;\n",
              "    }\n",
              "</style>\n",
              "<table border=\"1\" class=\"dataframe\">\n",
              "  <thead>\n",
              "    <tr style=\"text-align: right;\">\n",
              "      <th></th>\n",
              "      <th>Month</th>\n",
              "      <th>Passengers</th>\n",
              "    </tr>\n",
              "  </thead>\n",
              "  <tbody>\n",
              "    <tr>\n",
              "      <th>0</th>\n",
              "      <td>1949-01</td>\n",
              "      <td>112</td>\n",
              "    </tr>\n",
              "    <tr>\n",
              "      <th>1</th>\n",
              "      <td>1949-02</td>\n",
              "      <td>118</td>\n",
              "    </tr>\n",
              "    <tr>\n",
              "      <th>2</th>\n",
              "      <td>1949-03</td>\n",
              "      <td>132</td>\n",
              "    </tr>\n",
              "    <tr>\n",
              "      <th>3</th>\n",
              "      <td>1949-04</td>\n",
              "      <td>129</td>\n",
              "    </tr>\n",
              "    <tr>\n",
              "      <th>4</th>\n",
              "      <td>1949-05</td>\n",
              "      <td>121</td>\n",
              "    </tr>\n",
              "  </tbody>\n",
              "</table>\n",
              "</div>"
            ],
            "text/plain": [
              "     Month  Passengers\n",
              "0  1949-01         112\n",
              "1  1949-02         118\n",
              "2  1949-03         132\n",
              "3  1949-04         129\n",
              "4  1949-05         121"
            ]
          },
          "metadata": {
            "tags": []
          },
          "execution_count": 2
        }
      ]
    },
    {
      "cell_type": "code",
      "metadata": {
        "id": "occupied-phenomenon",
        "outputId": "fdfc0f67-70dc-496c-f18b-86c918ed381c"
      },
      "source": [
        "data.isnull().values.any()"
      ],
      "id": "occupied-phenomenon",
      "execution_count": null,
      "outputs": [
        {
          "output_type": "execute_result",
          "data": {
            "text/plain": [
              "False"
            ]
          },
          "metadata": {
            "tags": []
          },
          "execution_count": 8
        }
      ]
    },
    {
      "cell_type": "code",
      "metadata": {
        "id": "champion-grocery"
      },
      "source": [
        "scaler = MinMaxScaler()\n",
        "dataset = scaler.fit_transform(data[\"Passengers\"].values.reshape(-1, 1))\n",
        "train_size = int(len(dataset) * 0.75)\n",
        "test_size = len(dataset) - train_size\n",
        "train=dataset[:train_size,:]\n",
        "test=dataset[train_size:142,:]\n",
        "def getdata(data,lookback):\n",
        "    X,Y=[],[]\n",
        "    for i in range(len(data)-lookback-1):\n",
        "        X.append(data[i:i+lookback,0])\n",
        "        Y.append(data[i+lookback,0])\n",
        "    return np.array(X),np.array(Y).reshape(-1,1)\n",
        "lookback=1\n",
        "\n",
        "X_train, y_train=getdata(train, lookback)\n",
        "X_test,y_test=getdata(test,lookback)\n",
        "X_train=X_train.reshape(X_train.shape[0],X_train.shape[1],1)\n",
        "X_test=X_test.reshape(X_test.shape[0],X_test.shape[1],1)"
      ],
      "id": "champion-grocery",
      "execution_count": null,
      "outputs": []
    },
    {
      "cell_type": "markdown",
      "metadata": {
        "id": "equivalent-cooler"
      },
      "source": [
        "### ``SimpleRNN``"
      ],
      "id": "equivalent-cooler"
    },
    {
      "cell_type": "code",
      "metadata": {
        "id": "ranging-sucking",
        "outputId": "72b10e7f-067b-49aa-fe15-8b2d8ac1b1a3"
      },
      "source": [
        "X_train.shape"
      ],
      "id": "ranging-sucking",
      "execution_count": null,
      "outputs": [
        {
          "output_type": "execute_result",
          "data": {
            "text/plain": [
              "(106, 1, 1)"
            ]
          },
          "metadata": {
            "tags": []
          },
          "execution_count": 31
        }
      ]
    },
    {
      "cell_type": "code",
      "metadata": {
        "id": "prescription-belly",
        "outputId": "2d54dc27-ee15-4644-a793-46e16e168b7e"
      },
      "source": [
        "model_1 = keras.Sequential([\n",
        "    keras.layers.SimpleRNN(64, input_shape=(1, 1)),\n",
        "    keras.layers.Dense(1, activation='softmax')\n",
        "], name=\"model_1\")\n",
        "\n",
        "model_1.compile(\n",
        "    loss='mean_squared_error',optimizer='adam',\n",
        "    metrics=['mse']\n",
        ")\n",
        "model_1.fit(X_train, y_train, epochs=10, batch_size=32, validation_data=(X_test, y_test), verbose=1)"
      ],
      "id": "prescription-belly",
      "execution_count": null,
      "outputs": [
        {
          "output_type": "stream",
          "text": [
            "Epoch 1/10\n",
            "4/4 [==============================] - 2s 153ms/step - loss: 0.5928 - mse: 0.5928 - val_loss: 0.1599 - val_mse: 0.1599\n",
            "Epoch 2/10\n",
            "4/4 [==============================] - 0s 23ms/step - loss: 0.6040 - mse: 0.6040 - val_loss: 0.1599 - val_mse: 0.1599\n",
            "Epoch 3/10\n",
            "4/4 [==============================] - 0s 20ms/step - loss: 0.5992 - mse: 0.5992 - val_loss: 0.1599 - val_mse: 0.1599\n",
            "Epoch 4/10\n",
            "4/4 [==============================] - 0s 20ms/step - loss: 0.5815 - mse: 0.5815 - val_loss: 0.1599 - val_mse: 0.1599\n",
            "Epoch 5/10\n",
            "4/4 [==============================] - 0s 21ms/step - loss: 0.6060 - mse: 0.6060 - val_loss: 0.1599 - val_mse: 0.1599\n",
            "Epoch 6/10\n",
            "4/4 [==============================] - 0s 23ms/step - loss: 0.6001 - mse: 0.6001 - val_loss: 0.1599 - val_mse: 0.1599\n",
            "Epoch 7/10\n",
            "4/4 [==============================] - 0s 23ms/step - loss: 0.5900 - mse: 0.5900 - val_loss: 0.1599 - val_mse: 0.1599\n",
            "Epoch 8/10\n",
            "4/4 [==============================] - 0s 22ms/step - loss: 0.6034 - mse: 0.6034 - val_loss: 0.1599 - val_mse: 0.1599\n",
            "Epoch 9/10\n",
            "4/4 [==============================] - 0s 23ms/step - loss: 0.6059 - mse: 0.6059 - val_loss: 0.1599 - val_mse: 0.1599\n",
            "Epoch 10/10\n",
            "4/4 [==============================] - 0s 25ms/step - loss: 0.6119 - mse: 0.6119 - val_loss: 0.1599 - val_mse: 0.1599\n"
          ],
          "name": "stdout"
        },
        {
          "output_type": "execute_result",
          "data": {
            "text/plain": [
              "<tensorflow.python.keras.callbacks.History at 0x287adafc670>"
            ]
          },
          "metadata": {
            "tags": []
          },
          "execution_count": 37
        }
      ]
    },
    {
      "cell_type": "markdown",
      "metadata": {
        "id": "supported-spouse"
      },
      "source": [
        "> `LSTM`"
      ],
      "id": "supported-spouse"
    },
    {
      "cell_type": "code",
      "metadata": {
        "id": "alternative-williams",
        "outputId": "07e4dda8-6ac2-48fe-9881-5762e80d1ab5"
      },
      "source": [
        "model_2 = keras.Sequential([\n",
        "    keras.layers.LSTM(64, input_shape=(1, 1)),\n",
        "    keras.layers.Dense(1, activation='softmax')\n",
        "], name=\"model_2\")\n",
        "\n",
        "model_2.compile(\n",
        "    loss='mean_squared_error',optimizer='adam',\n",
        "    metrics=['mse']\n",
        ")\n",
        "model_2.fit(X_train, y_train, epochs=10, batch_size=32, validation_data=(X_test, y_test), verbose=1)"
      ],
      "id": "alternative-williams",
      "execution_count": null,
      "outputs": [
        {
          "output_type": "stream",
          "text": [
            "Epoch 1/10\n",
            "4/4 [==============================] - 4s 318ms/step - loss: 0.5990 - mse: 0.5990 - val_loss: 0.1599 - val_mse: 0.1599\n",
            "Epoch 2/10\n",
            "4/4 [==============================] - 0s 25ms/step - loss: 0.6028 - mse: 0.6028 - val_loss: 0.1599 - val_mse: 0.1599\n",
            "Epoch 3/10\n",
            "4/4 [==============================] - 0s 23ms/step - loss: 0.5872 - mse: 0.5872 - val_loss: 0.1599 - val_mse: 0.1599\n",
            "Epoch 4/10\n",
            "4/4 [==============================] - 0s 23ms/step - loss: 0.6126 - mse: 0.6126 - val_loss: 0.1599 - val_mse: 0.1599\n",
            "Epoch 5/10\n",
            "4/4 [==============================] - 0s 22ms/step - loss: 0.5921 - mse: 0.5921 - val_loss: 0.1599 - val_mse: 0.1599\n",
            "Epoch 6/10\n",
            "4/4 [==============================] - 0s 23ms/step - loss: 0.5836 - mse: 0.5836 - val_loss: 0.1599 - val_mse: 0.1599\n",
            "Epoch 7/10\n",
            "4/4 [==============================] - 0s 23ms/step - loss: 0.5894 - mse: 0.5894 - val_loss: 0.1599 - val_mse: 0.1599\n",
            "Epoch 8/10\n",
            "4/4 [==============================] - 0s 23ms/step - loss: 0.5768 - mse: 0.5768 - val_loss: 0.1599 - val_mse: 0.1599\n",
            "Epoch 9/10\n",
            "4/4 [==============================] - 0s 25ms/step - loss: 0.5943 - mse: 0.5943 - val_loss: 0.1599 - val_mse: 0.1599\n",
            "Epoch 10/10\n",
            "4/4 [==============================] - 0s 24ms/step - loss: 0.5999 - mse: 0.5999 - val_loss: 0.1599 - val_mse: 0.1599\n"
          ],
          "name": "stdout"
        },
        {
          "output_type": "execute_result",
          "data": {
            "text/plain": [
              "<tensorflow.python.keras.callbacks.History at 0x287b3551b20>"
            ]
          },
          "metadata": {
            "tags": []
          },
          "execution_count": 39
        }
      ]
    },
    {
      "cell_type": "code",
      "metadata": {
        "id": "pursuant-marker",
        "outputId": "63fac9a6-8114-45ff-a30b-f611303a2215"
      },
      "source": [
        "model_3 = keras.Sequential([\n",
        "    keras.layers.GRU(64, input_shape=(1, 1)),\n",
        "    keras.layers.Dense(1, activation='softmax')\n",
        "], name=\"model_3\")\n",
        "\n",
        "model_3.compile(\n",
        "    loss='mean_squared_error',optimizer='adam',\n",
        "    metrics=['mse']\n",
        ")\n",
        "model_3.fit(X_train, y_train, epochs=10, batch_size=32, validation_data=(X_test, y_test), verbose=1)"
      ],
      "id": "pursuant-marker",
      "execution_count": null,
      "outputs": [
        {
          "output_type": "stream",
          "text": [
            "Epoch 1/10\n",
            "4/4 [==============================] - 6s 290ms/step - loss: 0.6069 - mse: 0.6069 - val_loss: 0.1599 - val_mse: 0.1599\n",
            "Epoch 2/10\n",
            "4/4 [==============================] - 0s 23ms/step - loss: 0.6142 - mse: 0.6142 - val_loss: 0.1599 - val_mse: 0.1599\n",
            "Epoch 3/10\n",
            "4/4 [==============================] - 0s 23ms/step - loss: 0.5986 - mse: 0.5986 - val_loss: 0.1599 - val_mse: 0.1599\n",
            "Epoch 4/10\n",
            "4/4 [==============================] - 0s 24ms/step - loss: 0.5898 - mse: 0.5898 - val_loss: 0.1599 - val_mse: 0.1599\n",
            "Epoch 5/10\n",
            "4/4 [==============================] - 0s 22ms/step - loss: 0.6033 - mse: 0.6033 - val_loss: 0.1599 - val_mse: 0.1599\n",
            "Epoch 6/10\n",
            "4/4 [==============================] - 0s 23ms/step - loss: 0.6130 - mse: 0.6130 - val_loss: 0.1599 - val_mse: 0.1599\n",
            "Epoch 7/10\n",
            "4/4 [==============================] - 0s 23ms/step - loss: 0.5835 - mse: 0.5835 - val_loss: 0.1599 - val_mse: 0.1599\n",
            "Epoch 8/10\n",
            "4/4 [==============================] - 0s 22ms/step - loss: 0.5692 - mse: 0.5692 - val_loss: 0.1599 - val_mse: 0.1599\n",
            "Epoch 9/10\n",
            "4/4 [==============================] - 0s 23ms/step - loss: 0.5967 - mse: 0.5967 - val_loss: 0.1599 - val_mse: 0.1599\n",
            "Epoch 10/10\n",
            "4/4 [==============================] - 0s 23ms/step - loss: 0.5947 - mse: 0.5947 - val_loss: 0.1599 - val_mse: 0.1599\n"
          ],
          "name": "stdout"
        },
        {
          "output_type": "execute_result",
          "data": {
            "text/plain": [
              "<tensorflow.python.keras.callbacks.History at 0x287bab97c40>"
            ]
          },
          "metadata": {
            "tags": []
          },
          "execution_count": 41
        }
      ]
    },
    {
      "cell_type": "markdown",
      "metadata": {
        "id": "minus-maximum"
      },
      "source": [
        "> This Notebook is more focusing on the theory and how to use `RNN` not about training or testing `metrics`\n",
        "\n",
        "### Nesting `RNN's`\n",
        "To nest `RNN` we should just pass `return_sequences =True` to `RNN` layers for example:\n",
        "\n",
        "> GRU\n",
        "```python\n",
        "keras.layers.Sequential([\n",
        "    keras.layers.GRU(64, input_shape=(1, 1), return_sequences=True),\n",
        "    keras.layers.GRU(64, return_sequences=True),\n",
        "    ...\n",
        "])\n",
        "```\n",
        "\n",
        "> RNN / SimpleRNN\n",
        "```python\n",
        "keras.layers.Sequential([\n",
        "    keras.layers.SimpleRNN(64, input_shape=(1, 1), return_sequences=True),\n",
        "    keras.layers.SimpleRNN(64, return_sequences=True),\n",
        "    ...\n",
        "])\n",
        "```\n",
        "\n",
        "> LSTM\n",
        "\n",
        "```python\n",
        "keras.layers.Sequential([\n",
        "    keras.layers.LSTM(64, input_shape=(1, 1), return_sequences=True),\n",
        "    keras.layers.LSTM(64, return_sequences=True),\n",
        "    ...\n",
        "])\n",
        "```\n",
        "> We can also have different `RNN` layers nested for example.\n",
        "\n",
        "```python\n",
        "keras.layers.Sequential([\n",
        "    keras.layers.GRU(64, input_shape=(1, 1), return_sequences=True),\n",
        "    keras.layers.LTSM(64, return_sequences=True),\n",
        "    ...\n",
        "])\n",
        "```"
      ],
      "id": "minus-maximum"
    },
    {
      "cell_type": "markdown",
      "metadata": {
        "id": "unknown-boundary"
      },
      "source": [
        "### Bidirectional `RNN`\n",
        "Bidirectional layer is a layer that is used to wrap such as ``keras.layers.LSTM`` or ``keras.layers.GRU.`` It can also be a `keras.layes.Layer` tha meet [these](https://keras.io/api/layers/recurrent_layers/bidirectional/) conditions.\n",
        "\n",
        "To enable straight (past) and reverse traversal of input (future), Bidirectional RNNs, or BRNNs, are used. A BRNN is a combination of two RNNs - one RNN moves forward, beginning from the start of the data sequence, and the other, moves backward, beginning from the end of the data sequence. The network blocks in a BRNN can either be simple RNNs, GRUs, or LSTMs.\n",
        "\n",
        "<p>\n",
        "<img src=\"https://lh5.googleusercontent.com/glWMVLJyG4ZSLidw9Bb0d58IvJccRdD-Hb8Luw1nHB8tsamrGXl2oeC1dk7dhIhnBnaPxbBnr2SysIjbgxOn9VbUw6EeCGNX66cYZF0EtslhRlucHYL5jSPcKLTAbnPQ79MT8A\"/>\n",
        "</p>\n",
        "\n",
        "Applications:\n",
        "\n",
        "* Handwriting Recognition\n",
        "* Speech Recognition\n",
        "* Dependency Parsing\n",
        "* Natural Language Processing\n",
        "\n",
        "* [Ref](https://blog.paperspace.com/bidirectional-rnn-keras/)\n",
        "\n",
        "##### Usage\n",
        "\n",
        "```python\n",
        "tf.keras.layers.Bidirectional(\n",
        "    layer, merge_mode=\"concat\", weights=None, backward_layer=None, **kwargs\n",
        ")\n",
        "```\n",
        "\n",
        "* [Docs](https://keras.io/api/layers/recurrent_layers/bidirectional/)"
      ],
      "id": "unknown-boundary"
    },
    {
      "cell_type": "markdown",
      "metadata": {
        "id": "communist-center"
      },
      "source": [
        "> Example."
      ],
      "id": "communist-center"
    },
    {
      "cell_type": "code",
      "metadata": {
        "id": "soviet-adelaide",
        "outputId": "e346ae6a-b693-48b4-9335-f6f73b78d785"
      },
      "source": [
        "model = keras.Sequential([\n",
        "    keras.layers.Bidirectional(\n",
        "        keras.layers.LSTM(10, return_sequences=True), input_shape=(5, 10)\n",
        "    ),\n",
        "    keras.layers.Bidirectional(keras.layers.LSTM(10)),\n",
        "    keras.layers.Dense(5)\n",
        "])\n",
        "model.summary()"
      ],
      "id": "soviet-adelaide",
      "execution_count": null,
      "outputs": [
        {
          "output_type": "stream",
          "text": [
            "Model: \"sequential\"\n",
            "_________________________________________________________________\n",
            "Layer (type)                 Output Shape              Param #   \n",
            "=================================================================\n",
            "bidirectional (Bidirectional (None, 5, 20)             1680      \n",
            "_________________________________________________________________\n",
            "bidirectional_1 (Bidirection (None, 20)                2480      \n",
            "_________________________________________________________________\n",
            "dense (Dense)                (None, 5)                 105       \n",
            "=================================================================\n",
            "Total params: 4,265\n",
            "Trainable params: 4,265\n",
            "Non-trainable params: 0\n",
            "_________________________________________________________________\n"
          ],
          "name": "stdout"
        }
      ]
    },
    {
      "cell_type": "markdown",
      "metadata": {
        "id": "large-argument"
      },
      "source": [
        "> Example With custom ``backward`` layer"
      ],
      "id": "large-argument"
    },
    {
      "cell_type": "code",
      "metadata": {
        "id": "rational-constitutional",
        "outputId": "e8de0109-a874-4763-9ff2-6c5b6a610106"
      },
      "source": [
        "\n",
        "forward_layer = keras.layers.LSTM(10, return_sequences=True)\n",
        "backward_layer = keras.layers.LSTM(10, activation='relu', return_sequences=True,\n",
        "                       go_backwards=True)\n",
        "\n",
        "model = keras.Sequential([\n",
        "     keras.layers.Bidirectional(forward_layer, backward_layer=backward_layer,\n",
        "                         input_shape=(5, 10)),\n",
        "      keras.layers.Dense(5)\n",
        "])\n",
        "model.summary()"
      ],
      "id": "rational-constitutional",
      "execution_count": null,
      "outputs": [
        {
          "output_type": "stream",
          "text": [
            "Model: \"sequential_2\"\n",
            "_________________________________________________________________\n",
            "Layer (type)                 Output Shape              Param #   \n",
            "=================================================================\n",
            "bidirectional_3 (Bidirection (None, 5, 20)             1680      \n",
            "_________________________________________________________________\n",
            "dense_2 (Dense)              (None, 5, 5)              105       \n",
            "=================================================================\n",
            "Total params: 1,785\n",
            "Trainable params: 1,785\n",
            "Non-trainable params: 0\n",
            "_________________________________________________________________\n"
          ],
          "name": "stdout"
        }
      ]
    },
    {
      "cell_type": "markdown",
      "metadata": {
        "id": "adolescent-climb"
      },
      "source": [
        " > **Practical Example**: ``imdb`` dataset."
      ],
      "id": "adolescent-climb"
    },
    {
      "cell_type": "code",
      "metadata": {
        "colab": {
          "base_uri": "https://localhost:8080/"
        },
        "id": "static-miami",
        "outputId": "d5f52b54-8352-4ac2-a67f-2de99adebdea"
      },
      "source": [
        "max_features = 20000  # Only consider the top 20k words\n",
        "maxlen = 200  # Only consider the first 200 words of each movie review\n",
        "(X_train, y_train), (X_val, y_val) = keras.datasets.imdb.load_data(\n",
        "    num_words=max_features\n",
        ")\n",
        "X_train = keras.preprocessing.sequence.pad_sequences(X_train, maxlen=maxlen)\n",
        "X_val = keras.preprocessing.sequence.pad_sequences(X_val, maxlen=maxlen)"
      ],
      "id": "static-miami",
      "execution_count": 2,
      "outputs": [
        {
          "output_type": "stream",
          "text": [
            "Downloading data from https://storage.googleapis.com/tensorflow/tf-keras-datasets/imdb.npz\n",
            "17465344/17464789 [==============================] - 0s 0us/step\n"
          ],
          "name": "stdout"
        },
        {
          "output_type": "stream",
          "text": [
            "<string>:6: VisibleDeprecationWarning: Creating an ndarray from ragged nested sequences (which is a list-or-tuple of lists-or-tuples-or ndarrays with different lengths or shapes) is deprecated. If you meant to do this, you must specify 'dtype=object' when creating the ndarray\n",
            "/usr/local/lib/python3.7/dist-packages/tensorflow/python/keras/datasets/imdb.py:155: VisibleDeprecationWarning: Creating an ndarray from ragged nested sequences (which is a list-or-tuple of lists-or-tuples-or ndarrays with different lengths or shapes) is deprecated. If you meant to do this, you must specify 'dtype=object' when creating the ndarray\n",
            "  x_train, y_train = np.array(xs[:idx]), np.array(labels[:idx])\n",
            "/usr/local/lib/python3.7/dist-packages/tensorflow/python/keras/datasets/imdb.py:156: VisibleDeprecationWarning: Creating an ndarray from ragged nested sequences (which is a list-or-tuple of lists-or-tuples-or ndarrays with different lengths or shapes) is deprecated. If you meant to do this, you must specify 'dtype=object' when creating the ndarray\n",
            "  x_test, y_test = np.array(xs[idx:]), np.array(labels[idx:])\n"
          ],
          "name": "stderr"
        }
      ]
    },
    {
      "cell_type": "markdown",
      "metadata": {
        "id": "missing-margin"
      },
      "source": [
        "> Building the model without `Bidirectional` layer."
      ],
      "id": "missing-margin"
    },
    {
      "cell_type": "code",
      "metadata": {
        "colab": {
          "base_uri": "https://localhost:8080/"
        },
        "id": "saving-label",
        "outputId": "f668fc2c-ee0e-47f6-a934-3ff948e2879a"
      },
      "source": [
        "input_layer = keras.layers.Input(shape=(None, ), dtype=\"int32\")\n",
        "x = keras.layers.Embedding(max_features, 128)(input_layer)\n",
        "x = keras.layers.LSTM(256, return_sequences=True)(x)\n",
        "x = keras.layers.LSTM(64)(x)\n",
        "output_layer = keras.layers.Dense(1, activation='sigmoid')(x)\n",
        "model_4 = keras.Model(inputs=input_layer, outputs=output_layer, name=\"model_4\")\n",
        "model_4.compile(\n",
        "\"adam\", \"binary_crossentropy\", metrics=[\"accuracy\"]\n",
        ")\n",
        "model_4.fit(X_train, y_train, epochs=5, validation_data=(X_val, y_val),verbose=1, batch_size=128 )"
      ],
      "id": "saving-label",
      "execution_count": 4,
      "outputs": [
        {
          "output_type": "stream",
          "text": [
            "Epoch 1/5\n",
            "196/196 [==============================] - 19s 86ms/step - loss: 0.4673 - accuracy: 0.7718 - val_loss: 0.3545 - val_accuracy: 0.8513\n",
            "Epoch 2/5\n",
            "196/196 [==============================] - 16s 83ms/step - loss: 0.2422 - accuracy: 0.9064 - val_loss: 0.3546 - val_accuracy: 0.8512\n",
            "Epoch 3/5\n",
            "196/196 [==============================] - 16s 82ms/step - loss: 0.1562 - accuracy: 0.9446 - val_loss: 0.3725 - val_accuracy: 0.8559\n",
            "Epoch 4/5\n",
            "196/196 [==============================] - 16s 82ms/step - loss: 0.1052 - accuracy: 0.9641 - val_loss: 0.4509 - val_accuracy: 0.8458\n",
            "Epoch 5/5\n",
            "196/196 [==============================] - 16s 82ms/step - loss: 0.0649 - accuracy: 0.9795 - val_loss: 0.5046 - val_accuracy: 0.8505\n"
          ],
          "name": "stdout"
        },
        {
          "output_type": "execute_result",
          "data": {
            "text/plain": [
              "<tensorflow.python.keras.callbacks.History at 0x7fc8d2265a90>"
            ]
          },
          "metadata": {
            "tags": []
          },
          "execution_count": 4
        }
      ]
    },
    {
      "cell_type": "markdown",
      "metadata": {
        "id": "cross-insertion"
      },
      "source": [
        "> Building the model with `Bidirectional` layer."
      ],
      "id": "cross-insertion"
    },
    {
      "cell_type": "code",
      "metadata": {
        "colab": {
          "base_uri": "https://localhost:8080/"
        },
        "id": "geological-nicaragua",
        "outputId": "04837f2e-06f0-4e52-c7fe-5b0a304302b7"
      },
      "source": [
        "input_layer = keras.layers.Input(shape=(None, ), dtype=\"int32\")\n",
        "x = keras.layers.Embedding(max_features, 128)(input_layer)\n",
        "x = keras.layers.Bidirectional(keras.layers.LSTM(256, return_sequences=True))(x)\n",
        "x = keras.layers.Bidirectional(keras.layers.LSTM(64))(x)\n",
        "output_layer = keras.layers.Dense(1, activation='sigmoid')(x)\n",
        "model_4 = keras.Model(inputs=input_layer, outputs=output_layer, name=\"model_4\")\n",
        "model_4.compile(\n",
        "\"adam\", \"binary_crossentropy\", metrics=[\"accuracy\"]\n",
        ")\n",
        "model_4.fit(X_train, y_train, epochs=5, validation_data=(X_val, y_val),verbose=1, batch_size=64 )"
      ],
      "id": "geological-nicaragua",
      "execution_count": 5,
      "outputs": [
        {
          "output_type": "stream",
          "text": [
            "Epoch 1/5\n",
            "391/391 [==============================] - 46s 106ms/step - loss: 0.4783 - accuracy: 0.7732 - val_loss: 0.4038 - val_accuracy: 0.8142\n",
            "Epoch 2/5\n",
            "391/391 [==============================] - 40s 104ms/step - loss: 0.2961 - accuracy: 0.8800 - val_loss: 0.4209 - val_accuracy: 0.8157\n",
            "Epoch 3/5\n",
            "391/391 [==============================] - 41s 104ms/step - loss: 0.2188 - accuracy: 0.9171 - val_loss: 0.3803 - val_accuracy: 0.8413\n",
            "Epoch 4/5\n",
            "391/391 [==============================] - 40s 103ms/step - loss: 0.1514 - accuracy: 0.9448 - val_loss: 0.4186 - val_accuracy: 0.8544\n",
            "Epoch 5/5\n",
            "391/391 [==============================] - 40s 103ms/step - loss: 0.0961 - accuracy: 0.9680 - val_loss: 0.4512 - val_accuracy: 0.8493\n"
          ],
          "name": "stdout"
        },
        {
          "output_type": "execute_result",
          "data": {
            "text/plain": [
              "<tensorflow.python.keras.callbacks.History at 0x7fc8d0bc29d0>"
            ]
          },
          "metadata": {
            "tags": []
          },
          "execution_count": 5
        }
      ]
    },
    {
      "cell_type": "markdown",
      "metadata": {
        "id": "annoying-interface"
      },
      "source": [
        "> **Conclusion:** \n",
        "A Bidirectional RNN is a combination of two RNNs training the network in opposite directions, one from the beginning to the end of a sequence, and the other, from the end to the beginning of a sequence. It helps in analyzing the future events by not limiting the model's learning to past and present."
      ],
      "id": "annoying-interface"
    }
  ]
}