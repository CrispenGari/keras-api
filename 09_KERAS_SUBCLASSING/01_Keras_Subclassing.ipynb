{
 "cells": [
  {
   "cell_type": "markdown",
   "id": "engaging-zambia",
   "metadata": {},
   "source": [
    "### Subclassing\n",
    "In ``Keras`` there are basically three-way we can define a neural network, namely\n",
    "1. Sequential API\n",
    "2. Functional API\n",
    "3. Model Subclassing API\n",
    "This Notebook will walk through on all these methods in creating one model of the following `achitecture`.\n",
    "\n",
    "```python\n",
    "           Input(input_shape=(32, 32, 3)\n",
    "              |\n",
    "           Conv2D(64, 3)\n",
    "              |\n",
    "           Conv2D(128, 3)\n",
    "              |\n",
    "           Conv2D(64, 3)\n",
    "              |\n",
    "           MaxPool2D()\n",
    "              |\n",
    "           Conv2D (64, 3)\n",
    "              |\n",
    "           Conv2D (128, 3)\n",
    "              |\n",
    "           Conv2D (64, 3)\n",
    "              |\n",
    "           MaxPool2D(2, 2)\n",
    "              |\n",
    "           Flatten ()\n",
    "              |\n",
    "            Dense (16)\n",
    "              |\n",
    "            Dense (output for 10 classes)\n",
    "```"
   ]
  },
  {
   "cell_type": "code",
   "execution_count": 1,
   "id": "indie-factor",
   "metadata": {},
   "outputs": [],
   "source": [
    "import tensorflow as tf\n",
    "import tensorflow.keras as keras"
   ]
  },
  {
   "cell_type": "markdown",
   "id": "spiritual-insurance",
   "metadata": {},
   "source": [
    "> **Sequential Model**"
   ]
  },
  {
   "cell_type": "code",
   "execution_count": 4,
   "id": "blond-complex",
   "metadata": {},
   "outputs": [
    {
     "name": "stdout",
     "output_type": "stream",
     "text": [
      "Model: \"seq_model\"\n",
      "_________________________________________________________________\n",
      "Layer (type)                 Output Shape              Param #   \n",
      "=================================================================\n",
      "conv_1 (Conv2D)              (None, 32, 32, 64)        1792      \n",
      "_________________________________________________________________\n",
      "conv_2 (Conv2D)              (None, 30, 30, 128)       73856     \n",
      "_________________________________________________________________\n",
      "conv_3 (Conv2D)              (None, 28, 28, 64)        73792     \n",
      "_________________________________________________________________\n",
      "pool_2d_1 (MaxPooling2D)     (None, 14, 14, 64)        0         \n",
      "_________________________________________________________________\n",
      "conv_4 (Conv2D)              (None, 12, 12, 64)        36928     \n",
      "_________________________________________________________________\n",
      "conv_5 (Conv2D)              (None, 10, 10, 128)       73856     \n",
      "_________________________________________________________________\n",
      "conv_6 (Conv2D)              (None, 8, 8, 64)          73792     \n",
      "_________________________________________________________________\n",
      "pool_2d_2 (MaxPooling2D)     (None, 4, 4, 64)          0         \n",
      "_________________________________________________________________\n",
      "flatten_layer (Flatten)      (None, 1024)              0         \n",
      "_________________________________________________________________\n",
      "dense_1 (Dense)              (None, 64)                65600     \n",
      "_________________________________________________________________\n",
      "output_layer (Dense)         (None, 10)                650       \n",
      "=================================================================\n",
      "Total params: 400,266\n",
      "Trainable params: 400,266\n",
      "Non-trainable params: 0\n",
      "_________________________________________________________________\n"
     ]
    }
   ],
   "source": [
    "seq_model = keras.Sequential([\n",
    "    keras.layers.Input(shape=(32, 32, 3), name=\"input_layer\"),\n",
    "    keras.layers.Conv2D(64, 3, activation=\"relu\", padding=\"same\", name=\"conv_1\"),\n",
    "    keras.layers.Conv2D(128, 3, activation=\"relu\", name=\"conv_2\"),\n",
    "    keras.layers.Conv2D(64, 3, activation=\"relu\", name=\"conv_3\"),\n",
    "    keras.layers.MaxPool2D(pool_size=(2, 2), name=\"pool_2d_1\"),\n",
    "    keras.layers.Conv2D(64, 3, activation=\"relu\", name=\"conv_4\"),\n",
    "    keras.layers.Conv2D(128, 3, activation=\"relu\", name=\"conv_5\"),\n",
    "    keras.layers.Conv2D(64, 3, activation=\"relu\", name=\"conv_6\"),\n",
    "    keras.layers.MaxPool2D(pool_size=(2, 2), name=\"pool_2d_2\"),\n",
    "    keras.layers.Flatten(name=\"flatten_layer\"),\n",
    "    keras.layers.Dense(64, name=\"dense_1\", activation='relu'),\n",
    "    keras.layers.Dense(10, name=\"output_layer\", activation='softmax')\n",
    "], name=\"seq_model\")\n",
    "seq_model.summary()"
   ]
  },
  {
   "cell_type": "markdown",
   "id": "quantitative-statistics",
   "metadata": {},
   "source": [
    "> The **Functional Model**"
   ]
  },
  {
   "cell_type": "code",
   "execution_count": 7,
   "id": "editorial-binary",
   "metadata": {},
   "outputs": [
    {
     "name": "stdout",
     "output_type": "stream",
     "text": [
      "Model: \"fn_model\"\n",
      "_________________________________________________________________\n",
      "Layer (type)                 Output Shape              Param #   \n",
      "=================================================================\n",
      "input_layer (InputLayer)     [(None, 32, 32, 3)]       0         \n",
      "_________________________________________________________________\n",
      "conv_1 (Conv2D)              (None, 32, 32, 64)        1792      \n",
      "_________________________________________________________________\n",
      "conv_2 (Conv2D)              (None, 30, 30, 128)       73856     \n",
      "_________________________________________________________________\n",
      "conv_3 (Conv2D)              (None, 28, 28, 64)        73792     \n",
      "_________________________________________________________________\n",
      "pool_2d_1 (MaxPooling2D)     (None, 14, 14, 64)        0         \n",
      "_________________________________________________________________\n",
      "conv_4 (Conv2D)              (None, 12, 12, 64)        36928     \n",
      "_________________________________________________________________\n",
      "conv_5 (Conv2D)              (None, 10, 10, 128)       73856     \n",
      "_________________________________________________________________\n",
      "conv_6 (Conv2D)              (None, 8, 8, 64)          73792     \n",
      "_________________________________________________________________\n",
      "pool_2d_2 (MaxPooling2D)     (None, 4, 4, 64)          0         \n",
      "_________________________________________________________________\n",
      "flatten_layer (Flatten)      (None, 1024)              0         \n",
      "_________________________________________________________________\n",
      "dense_1 (Dense)              (None, 64)                65600     \n",
      "_________________________________________________________________\n",
      "output_layer (Dense)         (None, 10)                650       \n",
      "=================================================================\n",
      "Total params: 400,266\n",
      "Trainable params: 400,266\n",
      "Non-trainable params: 0\n",
      "_________________________________________________________________\n"
     ]
    }
   ],
   "source": [
    "input_layer = keras.layers.Input(shape=(32, 32, 3), name=\"input_layer\")\n",
    "conv_1 = keras.layers.Conv2D(64, 3, activation=\"relu\", padding=\"same\", name=\"conv_1\")(input_layer)\n",
    "conv_2 = keras.layers.Conv2D(128, 3, activation=\"relu\", name=\"conv_2\")(conv_1)\n",
    "conv_3 = keras.layers.Conv2D(64, 3, activation=\"relu\", name=\"conv_3\")(conv_2)\n",
    "pool_2d_1 =  keras.layers.MaxPool2D(pool_size=(2, 2), name=\"pool_2d_1\")(conv_3)\n",
    "conv_4 = keras.layers.Conv2D(64, 3, activation=\"relu\", name=\"conv_4\")(pool_2d_1)\n",
    "conv_5 = keras.layers.Conv2D(128, 3, activation=\"relu\", name=\"conv_5\")(conv_4)\n",
    "conv_6 = keras.layers.Conv2D(64, 3, activation=\"relu\", name=\"conv_6\")(conv_5)\n",
    "pool_2d_2 = keras.layers.MaxPool2D(pool_size=(2, 2), name=\"pool_2d_2\")(conv_6)\n",
    "flatten_layer = keras.layers.Flatten(name=\"flatten_layer\")(pool_2d_2)\n",
    "dense_1 = keras.layers.Dense(64, name=\"dense_1\", activation='relu')(flatten_layer)\n",
    "output_layer = keras.layers.Dense(10, name=\"output_layer\", activation='softmax')(dense_1)\n",
    "fn_model = keras.Model(inputs=input_layer, outputs=output_layer, name=\"fn_model\")\n",
    "fn_model.summary()"
   ]
  },
  {
   "cell_type": "markdown",
   "id": "surprising-fortune",
   "metadata": {},
   "source": [
    "### The `Model Sub-Classing API`\n",
    "In `Model Sub-Classing` there are two most important functions **`__init__`** and call. Basically, we will define all the **`tf.keras layers`** or custom implemented layers inside the **`__init__`** method and **`call`** those layers based on our network design inside the call method which is used to perform a forward propagation. The **`call`** method quite the same as the **`forward`** method that is used to build the model in PyTorch anyway."
   ]
  },
  {
   "cell_type": "code",
   "execution_count": null,
   "id": "consistent-resort",
   "metadata": {},
   "outputs": [],
   "source": [
    "> The `Model` class contains the layers in it."
   ]
  },
  {
   "cell_type": "code",
   "execution_count": 48,
   "id": "consistent-laptop",
   "metadata": {},
   "outputs": [
    {
     "name": "stdout",
     "output_type": "stream",
     "text": [
      "Model: \"model_18\"\n",
      "_________________________________________________________________\n",
      "Layer (type)                 Output Shape              Param #   \n",
      "=================================================================\n",
      "conv_1 (Conv2D)              multiple                  1792      \n",
      "_________________________________________________________________\n",
      "conv_2 (Conv2D)              multiple                  73856     \n",
      "_________________________________________________________________\n",
      "conv_3 (Conv2D)              multiple                  73792     \n",
      "_________________________________________________________________\n",
      "pool_2d_1 (MaxPooling2D)     multiple                  0         \n",
      "_________________________________________________________________\n",
      "conv_4 (Conv2D)              multiple                  36928     \n",
      "_________________________________________________________________\n",
      "conv_5 (Conv2D)              multiple                  73856     \n",
      "_________________________________________________________________\n",
      "conv_6 (Conv2D)              multiple                  73792     \n",
      "_________________________________________________________________\n",
      "flatten_layer (Flatten)      multiple                  0         \n",
      "_________________________________________________________________\n",
      "dense_1 (Dense)              multiple                  65600     \n",
      "_________________________________________________________________\n",
      "output_layer (Dense)         multiple                  650       \n",
      "=================================================================\n",
      "Total params: 400,266\n",
      "Trainable params: 400,266\n",
      "Non-trainable params: 0\n",
      "_________________________________________________________________\n"
     ]
    }
   ],
   "source": [
    "class Model(keras.Model):\n",
    "    def __init__(self):\n",
    "        super(Model, self).__init__()\n",
    "        self.conv_1 = keras.layers.Conv2D(64, 3, activation=\"relu\", padding=\"same\", name=\"conv_1\")\n",
    "        self.conv_2 =keras.layers.Conv2D(128, 3, activation=\"relu\", name=\"conv_2\")\n",
    "        self.conv_3 = keras.layers.Conv2D(64, 3, activation=\"relu\", name=\"conv_3\")\n",
    "        self.pool = keras.layers.MaxPool2D(pool_size=(2, 2), name=\"pool_2d_1\")\n",
    "        self.conv_4 = keras.layers.Conv2D(64, 3, activation=\"relu\", name=\"conv_4\")\n",
    "        self.conv_5 = keras.layers.Conv2D(128, 3, activation=\"relu\", name=\"conv_5\")\n",
    "        self.conv_6  = keras.layers.Conv2D(64, 3, activation=\"relu\", name=\"conv_6\")\n",
    "        self.flatten = keras.layers.Flatten(name=\"flatten_layer\")\n",
    "        self.dense_1 = keras.layers.Dense(64, name=\"dense_1\", activation='relu')\n",
    "        self.output_layer = keras.layers.Dense(10, name=\"output_layer\", activation='softmax')\n",
    "        \n",
    "    def call(self, input_tensor):\n",
    "        # forward  pass the first block\n",
    "        x = self.conv_1(input_tensor)\n",
    "        x = self.conv_2(x)\n",
    "        x = self.conv_3(x)\n",
    "        # pool\n",
    "        x = self.pool(x)\n",
    "        # forward pass block 2\n",
    "        x = self.conv_4(x)\n",
    "        x = self.conv_5(x)\n",
    "        x = self.conv_6(x)\n",
    "        # pool block2 \n",
    "        x = self.pool(x)\n",
    "        # flatten the conv_6 layer\n",
    "        x = self.flatten(x)\n",
    "        # forward pass the output blocks\n",
    "        x = self.dense_1(x)\n",
    "        x = self.output_layer(x)\n",
    "        return x\n",
    "    \n",
    "sub_class_model = Model()\n",
    "sub_class_model.build((None, 32, 32, 3))\n",
    "sub_class_model.summary()"
   ]
  },
  {
   "cell_type": "markdown",
   "id": "twelve-greece",
   "metadata": {},
   "source": [
    "> **We still getting the same `Total params` and `Trainable params` just like the from the previous models.** But the problem is we are not able to see the output shape. Which is the problem that we are going to solve later on."
   ]
  },
  {
   "cell_type": "markdown",
   "id": "irish-correction",
   "metadata": {},
   "source": [
    "#### Trainning our `model` on the `cifar10` dataset."
   ]
  },
  {
   "cell_type": "code",
   "execution_count": 44,
   "id": "confident-service",
   "metadata": {},
   "outputs": [],
   "source": [
    "from tensorflow.keras import datasets"
   ]
  },
  {
   "cell_type": "code",
   "execution_count": 45,
   "id": "domestic-uniform",
   "metadata": {},
   "outputs": [],
   "source": [
    "(X_train, y_train), (X_test, y_test) = datasets.cifar10.load_data()\n",
    "X_test_tensors = tf.convert_to_tensor(X_test/255., dtype=tf.float32)\n",
    "X_train_tensors = tf.convert_to_tensor(X_train/255., dtype=tf.float32)\n",
    "y_test_tensors = tf.one_hot(tf.squeeze(y_test), depth=10)\n",
    "y_train_tensors = tf.one_hot(tf.squeeze(y_train), depth=10)"
   ]
  },
  {
   "cell_type": "code",
   "execution_count": 49,
   "id": "global-claim",
   "metadata": {},
   "outputs": [],
   "source": [
    "seq_model.compile(\n",
    "    loss = \"categorical_crossentropy\",\n",
    "    metrics=['acc'],\n",
    "    optimizer = 'adam'\n",
    ")\n",
    "fn_model.compile(\n",
    "    loss = \"categorical_crossentropy\",\n",
    "    metrics=['acc'],\n",
    "    optimizer = 'adam'\n",
    ")\n",
    "sub_class_model.compile(\n",
    "    loss = \"categorical_crossentropy\",\n",
    "    metrics=['acc'],\n",
    "    optimizer = 'adam'\n",
    ")"
   ]
  },
  {
   "cell_type": "code",
   "execution_count": 50,
   "id": "signal-exhaust",
   "metadata": {},
   "outputs": [
    {
     "name": "stdout",
     "output_type": "stream",
     "text": [
      "Epoch 1/3\n",
      "782/782 [==============================] - 873s 1s/step - loss: 1.7995 - acc: 0.3323 - val_loss: 1.2974 - val_acc: 0.5139\n",
      "Epoch 2/3\n",
      "318/782 [===========>..................] - ETA: 7:39 - loss: 1.2711 - acc: 0.5399"
     ]
    },
    {
     "ename": "KeyboardInterrupt",
     "evalue": "",
     "output_type": "error",
     "traceback": [
      "\u001b[1;31m---------------------------------------------------------------------------\u001b[0m",
      "\u001b[1;31mKeyboardInterrupt\u001b[0m                         Traceback (most recent call last)",
      "\u001b[1;32m<ipython-input-50-a27c87267a53>\u001b[0m in \u001b[0;36m<module>\u001b[1;34m\u001b[0m\n\u001b[1;32m----> 1\u001b[1;33m seq_model.fit(X_train_tensors, y_train_tensors, batch_size=64, epochs=3, verbose=1,\n\u001b[0m\u001b[0;32m      2\u001b[0m                   \u001b[0mvalidation_data\u001b[0m\u001b[1;33m=\u001b[0m\u001b[1;33m(\u001b[0m\u001b[0mX_test_tensors\u001b[0m\u001b[1;33m,\u001b[0m \u001b[0my_test_tensors\u001b[0m\u001b[1;33m)\u001b[0m\u001b[1;33m\u001b[0m\u001b[1;33m\u001b[0m\u001b[0m\n\u001b[0;32m      3\u001b[0m                   )\n",
      "\u001b[1;32m~\\Documents\\anaconda3\\lib\\site-packages\\tensorflow\\python\\keras\\engine\\training.py\u001b[0m in \u001b[0;36mfit\u001b[1;34m(self, x, y, batch_size, epochs, verbose, callbacks, validation_split, validation_data, shuffle, class_weight, sample_weight, initial_epoch, steps_per_epoch, validation_steps, validation_batch_size, validation_freq, max_queue_size, workers, use_multiprocessing)\u001b[0m\n\u001b[0;32m   1098\u001b[0m                 _r=1):\n\u001b[0;32m   1099\u001b[0m               \u001b[0mcallbacks\u001b[0m\u001b[1;33m.\u001b[0m\u001b[0mon_train_batch_begin\u001b[0m\u001b[1;33m(\u001b[0m\u001b[0mstep\u001b[0m\u001b[1;33m)\u001b[0m\u001b[1;33m\u001b[0m\u001b[1;33m\u001b[0m\u001b[0m\n\u001b[1;32m-> 1100\u001b[1;33m               \u001b[0mtmp_logs\u001b[0m \u001b[1;33m=\u001b[0m \u001b[0mself\u001b[0m\u001b[1;33m.\u001b[0m\u001b[0mtrain_function\u001b[0m\u001b[1;33m(\u001b[0m\u001b[0miterator\u001b[0m\u001b[1;33m)\u001b[0m\u001b[1;33m\u001b[0m\u001b[1;33m\u001b[0m\u001b[0m\n\u001b[0m\u001b[0;32m   1101\u001b[0m               \u001b[1;32mif\u001b[0m \u001b[0mdata_handler\u001b[0m\u001b[1;33m.\u001b[0m\u001b[0mshould_sync\u001b[0m\u001b[1;33m:\u001b[0m\u001b[1;33m\u001b[0m\u001b[1;33m\u001b[0m\u001b[0m\n\u001b[0;32m   1102\u001b[0m                 \u001b[0mcontext\u001b[0m\u001b[1;33m.\u001b[0m\u001b[0masync_wait\u001b[0m\u001b[1;33m(\u001b[0m\u001b[1;33m)\u001b[0m\u001b[1;33m\u001b[0m\u001b[1;33m\u001b[0m\u001b[0m\n",
      "\u001b[1;32m~\\Documents\\anaconda3\\lib\\site-packages\\tensorflow\\python\\eager\\def_function.py\u001b[0m in \u001b[0;36m__call__\u001b[1;34m(self, *args, **kwds)\u001b[0m\n\u001b[0;32m    826\u001b[0m     \u001b[0mtracing_count\u001b[0m \u001b[1;33m=\u001b[0m \u001b[0mself\u001b[0m\u001b[1;33m.\u001b[0m\u001b[0mexperimental_get_tracing_count\u001b[0m\u001b[1;33m(\u001b[0m\u001b[1;33m)\u001b[0m\u001b[1;33m\u001b[0m\u001b[1;33m\u001b[0m\u001b[0m\n\u001b[0;32m    827\u001b[0m     \u001b[1;32mwith\u001b[0m \u001b[0mtrace\u001b[0m\u001b[1;33m.\u001b[0m\u001b[0mTrace\u001b[0m\u001b[1;33m(\u001b[0m\u001b[0mself\u001b[0m\u001b[1;33m.\u001b[0m\u001b[0m_name\u001b[0m\u001b[1;33m)\u001b[0m \u001b[1;32mas\u001b[0m \u001b[0mtm\u001b[0m\u001b[1;33m:\u001b[0m\u001b[1;33m\u001b[0m\u001b[1;33m\u001b[0m\u001b[0m\n\u001b[1;32m--> 828\u001b[1;33m       \u001b[0mresult\u001b[0m \u001b[1;33m=\u001b[0m \u001b[0mself\u001b[0m\u001b[1;33m.\u001b[0m\u001b[0m_call\u001b[0m\u001b[1;33m(\u001b[0m\u001b[1;33m*\u001b[0m\u001b[0margs\u001b[0m\u001b[1;33m,\u001b[0m \u001b[1;33m**\u001b[0m\u001b[0mkwds\u001b[0m\u001b[1;33m)\u001b[0m\u001b[1;33m\u001b[0m\u001b[1;33m\u001b[0m\u001b[0m\n\u001b[0m\u001b[0;32m    829\u001b[0m       \u001b[0mcompiler\u001b[0m \u001b[1;33m=\u001b[0m \u001b[1;34m\"xla\"\u001b[0m \u001b[1;32mif\u001b[0m \u001b[0mself\u001b[0m\u001b[1;33m.\u001b[0m\u001b[0m_experimental_compile\u001b[0m \u001b[1;32melse\u001b[0m \u001b[1;34m\"nonXla\"\u001b[0m\u001b[1;33m\u001b[0m\u001b[1;33m\u001b[0m\u001b[0m\n\u001b[0;32m    830\u001b[0m       \u001b[0mnew_tracing_count\u001b[0m \u001b[1;33m=\u001b[0m \u001b[0mself\u001b[0m\u001b[1;33m.\u001b[0m\u001b[0mexperimental_get_tracing_count\u001b[0m\u001b[1;33m(\u001b[0m\u001b[1;33m)\u001b[0m\u001b[1;33m\u001b[0m\u001b[1;33m\u001b[0m\u001b[0m\n",
      "\u001b[1;32m~\\Documents\\anaconda3\\lib\\site-packages\\tensorflow\\python\\eager\\def_function.py\u001b[0m in \u001b[0;36m_call\u001b[1;34m(self, *args, **kwds)\u001b[0m\n\u001b[0;32m    853\u001b[0m       \u001b[1;31m# In this case we have created variables on the first call, so we run the\u001b[0m\u001b[1;33m\u001b[0m\u001b[1;33m\u001b[0m\u001b[1;33m\u001b[0m\u001b[0m\n\u001b[0;32m    854\u001b[0m       \u001b[1;31m# defunned version which is guaranteed to never create variables.\u001b[0m\u001b[1;33m\u001b[0m\u001b[1;33m\u001b[0m\u001b[1;33m\u001b[0m\u001b[0m\n\u001b[1;32m--> 855\u001b[1;33m       \u001b[1;32mreturn\u001b[0m \u001b[0mself\u001b[0m\u001b[1;33m.\u001b[0m\u001b[0m_stateless_fn\u001b[0m\u001b[1;33m(\u001b[0m\u001b[1;33m*\u001b[0m\u001b[0margs\u001b[0m\u001b[1;33m,\u001b[0m \u001b[1;33m**\u001b[0m\u001b[0mkwds\u001b[0m\u001b[1;33m)\u001b[0m  \u001b[1;31m# pylint: disable=not-callable\u001b[0m\u001b[1;33m\u001b[0m\u001b[1;33m\u001b[0m\u001b[0m\n\u001b[0m\u001b[0;32m    856\u001b[0m     \u001b[1;32melif\u001b[0m \u001b[0mself\u001b[0m\u001b[1;33m.\u001b[0m\u001b[0m_stateful_fn\u001b[0m \u001b[1;32mis\u001b[0m \u001b[1;32mnot\u001b[0m \u001b[1;32mNone\u001b[0m\u001b[1;33m:\u001b[0m\u001b[1;33m\u001b[0m\u001b[1;33m\u001b[0m\u001b[0m\n\u001b[0;32m    857\u001b[0m       \u001b[1;31m# Release the lock early so that multiple threads can perform the call\u001b[0m\u001b[1;33m\u001b[0m\u001b[1;33m\u001b[0m\u001b[1;33m\u001b[0m\u001b[0m\n",
      "\u001b[1;32m~\\Documents\\anaconda3\\lib\\site-packages\\tensorflow\\python\\eager\\function.py\u001b[0m in \u001b[0;36m__call__\u001b[1;34m(self, *args, **kwargs)\u001b[0m\n\u001b[0;32m   2940\u001b[0m       (graph_function,\n\u001b[0;32m   2941\u001b[0m        filtered_flat_args) = self._maybe_define_function(args, kwargs)\n\u001b[1;32m-> 2942\u001b[1;33m     return graph_function._call_flat(\n\u001b[0m\u001b[0;32m   2943\u001b[0m         filtered_flat_args, captured_inputs=graph_function.captured_inputs)  # pylint: disable=protected-access\n\u001b[0;32m   2944\u001b[0m \u001b[1;33m\u001b[0m\u001b[0m\n",
      "\u001b[1;32m~\\Documents\\anaconda3\\lib\\site-packages\\tensorflow\\python\\eager\\function.py\u001b[0m in \u001b[0;36m_call_flat\u001b[1;34m(self, args, captured_inputs, cancellation_manager)\u001b[0m\n\u001b[0;32m   1916\u001b[0m         and executing_eagerly):\n\u001b[0;32m   1917\u001b[0m       \u001b[1;31m# No tape is watching; skip to running the function.\u001b[0m\u001b[1;33m\u001b[0m\u001b[1;33m\u001b[0m\u001b[1;33m\u001b[0m\u001b[0m\n\u001b[1;32m-> 1918\u001b[1;33m       return self._build_call_outputs(self._inference_function.call(\n\u001b[0m\u001b[0;32m   1919\u001b[0m           ctx, args, cancellation_manager=cancellation_manager))\n\u001b[0;32m   1920\u001b[0m     forward_backward = self._select_forward_and_backward_functions(\n",
      "\u001b[1;32m~\\Documents\\anaconda3\\lib\\site-packages\\tensorflow\\python\\eager\\function.py\u001b[0m in \u001b[0;36mcall\u001b[1;34m(self, ctx, args, cancellation_manager)\u001b[0m\n\u001b[0;32m    553\u001b[0m       \u001b[1;32mwith\u001b[0m \u001b[0m_InterpolateFunctionError\u001b[0m\u001b[1;33m(\u001b[0m\u001b[0mself\u001b[0m\u001b[1;33m)\u001b[0m\u001b[1;33m:\u001b[0m\u001b[1;33m\u001b[0m\u001b[1;33m\u001b[0m\u001b[0m\n\u001b[0;32m    554\u001b[0m         \u001b[1;32mif\u001b[0m \u001b[0mcancellation_manager\u001b[0m \u001b[1;32mis\u001b[0m \u001b[1;32mNone\u001b[0m\u001b[1;33m:\u001b[0m\u001b[1;33m\u001b[0m\u001b[1;33m\u001b[0m\u001b[0m\n\u001b[1;32m--> 555\u001b[1;33m           outputs = execute.execute(\n\u001b[0m\u001b[0;32m    556\u001b[0m               \u001b[0mstr\u001b[0m\u001b[1;33m(\u001b[0m\u001b[0mself\u001b[0m\u001b[1;33m.\u001b[0m\u001b[0msignature\u001b[0m\u001b[1;33m.\u001b[0m\u001b[0mname\u001b[0m\u001b[1;33m)\u001b[0m\u001b[1;33m,\u001b[0m\u001b[1;33m\u001b[0m\u001b[1;33m\u001b[0m\u001b[0m\n\u001b[0;32m    557\u001b[0m               \u001b[0mnum_outputs\u001b[0m\u001b[1;33m=\u001b[0m\u001b[0mself\u001b[0m\u001b[1;33m.\u001b[0m\u001b[0m_num_outputs\u001b[0m\u001b[1;33m,\u001b[0m\u001b[1;33m\u001b[0m\u001b[1;33m\u001b[0m\u001b[0m\n",
      "\u001b[1;32m~\\Documents\\anaconda3\\lib\\site-packages\\tensorflow\\python\\eager\\execute.py\u001b[0m in \u001b[0;36mquick_execute\u001b[1;34m(op_name, num_outputs, inputs, attrs, ctx, name)\u001b[0m\n\u001b[0;32m     57\u001b[0m   \u001b[1;32mtry\u001b[0m\u001b[1;33m:\u001b[0m\u001b[1;33m\u001b[0m\u001b[1;33m\u001b[0m\u001b[0m\n\u001b[0;32m     58\u001b[0m     \u001b[0mctx\u001b[0m\u001b[1;33m.\u001b[0m\u001b[0mensure_initialized\u001b[0m\u001b[1;33m(\u001b[0m\u001b[1;33m)\u001b[0m\u001b[1;33m\u001b[0m\u001b[1;33m\u001b[0m\u001b[0m\n\u001b[1;32m---> 59\u001b[1;33m     tensors = pywrap_tfe.TFE_Py_Execute(ctx._handle, device_name, op_name,\n\u001b[0m\u001b[0;32m     60\u001b[0m                                         inputs, attrs, num_outputs)\n\u001b[0;32m     61\u001b[0m   \u001b[1;32mexcept\u001b[0m \u001b[0mcore\u001b[0m\u001b[1;33m.\u001b[0m\u001b[0m_NotOkStatusException\u001b[0m \u001b[1;32mas\u001b[0m \u001b[0me\u001b[0m\u001b[1;33m:\u001b[0m\u001b[1;33m\u001b[0m\u001b[1;33m\u001b[0m\u001b[0m\n",
      "\u001b[1;31mKeyboardInterrupt\u001b[0m: "
     ]
    }
   ],
   "source": [
    "seq_model.fit(X_train_tensors, y_train_tensors, batch_size=64, epochs=3, verbose=1,\n",
    "                  validation_data=(X_test_tensors, y_test_tensors)\n",
    "                  )"
   ]
  },
  {
   "cell_type": "code",
   "execution_count": null,
   "id": "destroyed-booking",
   "metadata": {},
   "outputs": [],
   "source": [
    "fn_model.fit(X_train_tensors, y_train_tensors, batch_size=64, epochs=3, verbose=1,\n",
    "                  validation_data=(X_test_tensors, y_test_tensors)\n",
    "                  )"
   ]
  },
  {
   "cell_type": "code",
   "execution_count": null,
   "id": "existing-ordinance",
   "metadata": {},
   "outputs": [],
   "source": [
    "sub_class_model.fit(X_train_tensors, y_train_tensors, batch_size=64, epochs=3, verbose=1,\n",
    "                  validation_data=(X_test_tensors, y_test_tensors)\n",
    "                  )"
   ]
  },
  {
   "cell_type": "markdown",
   "id": "accomplished-irish",
   "metadata": {},
   "source": [
    "> The following code was found on the blog post at [towardsdatascience.com](https://towardsdatascience.com/model-sub-classing-and-custom-training-loop-from-scratch-in-tensorflow-2-cc1d4f10fb4e)"
   ]
  },
  {
   "cell_type": "code",
   "execution_count": 40,
   "id": "developed-publication",
   "metadata": {},
   "outputs": [
    {
     "name": "stdout",
     "output_type": "stream",
     "text": [
      "Model: \"model_sub_classing_3\"\n",
      "_________________________________________________________________\n",
      "Layer (type)                 Output Shape              Param #   \n",
      "=================================================================\n",
      "conv2d_11 (Conv2D)           multiple                  896       \n",
      "_________________________________________________________________\n",
      "max_pooling2d_3 (MaxPooling2 multiple                  0         \n",
      "_________________________________________________________________\n",
      "batch_normalization_6 (Batch multiple                  128       \n",
      "_________________________________________________________________\n",
      "conv2d_12 (Conv2D)           multiple                  18496     \n",
      "_________________________________________________________________\n",
      "batch_normalization_7 (Batch multiple                  256       \n",
      "_________________________________________________________________\n",
      "dropout_3 (Dropout)          multiple                  0         \n",
      "_________________________________________________________________\n",
      "global_average_pooling2d_3 ( multiple                  0         \n",
      "_________________________________________________________________\n",
      "dense_17 (Dense)             multiple                  650       \n",
      "=================================================================\n",
      "Total params: 20,426\n",
      "Trainable params: 20,234\n",
      "Non-trainable params: 192\n",
      "_________________________________________________________________\n"
     ]
    }
   ],
   "source": [
    "class ModelSubClassing(tf.keras.Model):\n",
    "    def __init__(self, num_classes):\n",
    "        super(ModelSubClassing, self).__init__()\n",
    "        # define all layers in init\n",
    "        # Layer of Block 1\n",
    "        self.conv1 = tf.keras.layers.Conv2D(32, 3, strides=2, activation=\"relu\")\n",
    "        self.max1  = tf.keras.layers.MaxPooling2D(3)\n",
    "        self.bn1   = tf.keras.layers.BatchNormalization()\n",
    "\n",
    "        # Layer of Block 2\n",
    "        self.conv2 = tf.keras.layers.Conv2D(64, 3, activation=\"relu\")\n",
    "        self.bn2   = tf.keras.layers.BatchNormalization()\n",
    "        self.drop  = tf.keras.layers.Dropout(0.3)\n",
    "\n",
    "        # GAP, followed by Classifier\n",
    "        self.gap   = tf.keras.layers.GlobalAveragePooling2D()\n",
    "        self.dense = tf.keras.layers.Dense(num_classes)\n",
    "\n",
    "    def call(self, input_tensor, training=False):\n",
    "        # forward pass: block 1 \n",
    "        x = self.conv1(input_tensor)\n",
    "        x = self.max1(x)\n",
    "        x = self.bn1(x)\n",
    "\n",
    "        # forward pass: block 2 \n",
    "        x = self.conv2(x)\n",
    "        x = self.bn2(x)\n",
    "\n",
    "        # droput followed by gap and classifier\n",
    "        x = self.drop(x)\n",
    "        x = self.gap(x)\n",
    "        return self.dense(x)\n",
    "model = ModelSubClassing(10)\n",
    "model.build((None, 32, 32, 3))\n",
    "model.summary()"
   ]
  },
  {
   "cell_type": "code",
   "execution_count": null,
   "id": "wanted-electron",
   "metadata": {},
   "outputs": [],
   "source": []
  }
 ],
 "metadata": {
  "kernelspec": {
   "display_name": "Python 3",
   "language": "python",
   "name": "python3"
  },
  "language_info": {
   "codemirror_mode": {
    "name": "ipython",
    "version": 3
   },
   "file_extension": ".py",
   "mimetype": "text/x-python",
   "name": "python",
   "nbconvert_exporter": "python",
   "pygments_lexer": "ipython3",
   "version": "3.8.5"
  }
 },
 "nbformat": 4,
 "nbformat_minor": 5
}
