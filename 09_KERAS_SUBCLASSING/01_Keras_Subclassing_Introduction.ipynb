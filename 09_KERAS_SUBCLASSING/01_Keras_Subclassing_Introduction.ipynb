{
  "nbformat": 4,
  "nbformat_minor": 5,
  "metadata": {
    "kernelspec": {
      "display_name": "Python 3",
      "language": "python",
      "name": "python3"
    },
    "language_info": {
      "codemirror_mode": {
        "name": "ipython",
        "version": 3
      },
      "file_extension": ".py",
      "mimetype": "text/x-python",
      "name": "python",
      "nbconvert_exporter": "python",
      "pygments_lexer": "ipython3",
      "version": "3.8.5"
    },
    "colab": {
      "name": "01_Keras_Subclassing_Introduction.ipynb",
      "provenance": [],
      "collapsed_sections": [],
      "toc_visible": true
    },
    "accelerator": "GPU"
  },
  "cells": [
    {
      "cell_type": "markdown",
      "metadata": {
        "id": "fossil-robin"
      },
      "source": [
        "### Subclassing\n",
        "In ``Keras`` there are basically three-way we can define a neural network, namely\n",
        "1. Sequential API\n",
        "2. Functional API\n",
        "3. Model Subclassing API\n",
        "This Notebook will walk through on all these methods in creating one model of the following `achitecture`.\n",
        "\n",
        "```python\n",
        "           Input(input_shape=(32, 32, 3)\n",
        "              |\n",
        "           Conv2D(64, 3)\n",
        "              |\n",
        "           Conv2D(128, 3)\n",
        "              |\n",
        "           Conv2D(64, 3)\n",
        "              |\n",
        "           MaxPool2D()\n",
        "              |\n",
        "           Conv2D (64, 3)\n",
        "              |\n",
        "           Conv2D (128, 3)\n",
        "              |\n",
        "           Conv2D (64, 3)\n",
        "              |\n",
        "           MaxPool2D(2, 2)\n",
        "              |\n",
        "           Flatten ()\n",
        "              |\n",
        "            Dense (16)\n",
        "              |\n",
        "            Dense (output for 10 classes)\n",
        "```"
      ],
      "id": "fossil-robin"
    },
    {
      "cell_type": "code",
      "metadata": {
        "id": "apart-aberdeen"
      },
      "source": [
        "import tensorflow as tf\n",
        "import tensorflow.keras as keras"
      ],
      "id": "apart-aberdeen",
      "execution_count": 1,
      "outputs": []
    },
    {
      "cell_type": "markdown",
      "metadata": {
        "id": "little-template"
      },
      "source": [
        "> **Sequential Model**"
      ],
      "id": "little-template"
    },
    {
      "cell_type": "code",
      "metadata": {
        "colab": {
          "base_uri": "https://localhost:8080/"
        },
        "id": "british-restoration",
        "outputId": "fb5f33d3-88c2-4918-ef60-42616e1d6824"
      },
      "source": [
        "seq_model = keras.Sequential([\n",
        "    keras.layers.Input(shape=(32, 32, 3), name=\"input_layer\"),\n",
        "    keras.layers.Conv2D(64, 3, activation=\"relu\", padding=\"same\", name=\"conv_1\"),\n",
        "    keras.layers.Conv2D(128, 3, activation=\"relu\", name=\"conv_2\"),\n",
        "    keras.layers.Conv2D(64, 3, activation=\"relu\", name=\"conv_3\"),\n",
        "    keras.layers.MaxPool2D(pool_size=(2, 2), name=\"pool_2d_1\"),\n",
        "    keras.layers.Conv2D(64, 3, activation=\"relu\", name=\"conv_4\"),\n",
        "    keras.layers.Conv2D(128, 3, activation=\"relu\", name=\"conv_5\"),\n",
        "    keras.layers.Conv2D(64, 3, activation=\"relu\", name=\"conv_6\"),\n",
        "    keras.layers.MaxPool2D(pool_size=(2, 2), name=\"pool_2d_2\"),\n",
        "    keras.layers.Flatten(name=\"flatten_layer\"),\n",
        "    keras.layers.Dense(64, name=\"dense_1\", activation='relu'),\n",
        "    keras.layers.Dense(10, name=\"output_layer\", activation='softmax')\n",
        "], name=\"seq_model\")\n",
        "seq_model.summary()"
      ],
      "id": "british-restoration",
      "execution_count": null,
      "outputs": [
        {
          "output_type": "stream",
          "text": [
            "WARNING:tensorflow:Please add `keras.layers.InputLayer` instead of `keras.Input` to Sequential model. `keras.Input` is intended to be used by Functional model.\n",
            "Model: \"seq_model\"\n",
            "_________________________________________________________________\n",
            "Layer (type)                 Output Shape              Param #   \n",
            "=================================================================\n",
            "conv_1 (Conv2D)              (None, 32, 32, 64)        1792      \n",
            "_________________________________________________________________\n",
            "conv_2 (Conv2D)              (None, 30, 30, 128)       73856     \n",
            "_________________________________________________________________\n",
            "conv_3 (Conv2D)              (None, 28, 28, 64)        73792     \n",
            "_________________________________________________________________\n",
            "pool_2d_1 (MaxPooling2D)     (None, 14, 14, 64)        0         \n",
            "_________________________________________________________________\n",
            "conv_4 (Conv2D)              (None, 12, 12, 64)        36928     \n",
            "_________________________________________________________________\n",
            "conv_5 (Conv2D)              (None, 10, 10, 128)       73856     \n",
            "_________________________________________________________________\n",
            "conv_6 (Conv2D)              (None, 8, 8, 64)          73792     \n",
            "_________________________________________________________________\n",
            "pool_2d_2 (MaxPooling2D)     (None, 4, 4, 64)          0         \n",
            "_________________________________________________________________\n",
            "flatten_layer (Flatten)      (None, 1024)              0         \n",
            "_________________________________________________________________\n",
            "dense_1 (Dense)              (None, 64)                65600     \n",
            "_________________________________________________________________\n",
            "output_layer (Dense)         (None, 10)                650       \n",
            "=================================================================\n",
            "Total params: 400,266\n",
            "Trainable params: 400,266\n",
            "Non-trainable params: 0\n",
            "_________________________________________________________________\n"
          ],
          "name": "stdout"
        }
      ]
    },
    {
      "cell_type": "markdown",
      "metadata": {
        "id": "prostate-walter"
      },
      "source": [
        "> The **Functional Model**"
      ],
      "id": "prostate-walter"
    },
    {
      "cell_type": "code",
      "metadata": {
        "colab": {
          "base_uri": "https://localhost:8080/"
        },
        "id": "passive-bunch",
        "outputId": "6c3f9123-43bf-4dc6-b9e8-aeb62ae7e801"
      },
      "source": [
        "input_layer = keras.layers.Input(shape=(32, 32, 3), name=\"input_layer\")\n",
        "conv_1 = keras.layers.Conv2D(64, 3, activation=\"relu\", padding=\"same\", name=\"conv_1\")(input_layer)\n",
        "conv_2 = keras.layers.Conv2D(128, 3, activation=\"relu\", name=\"conv_2\")(conv_1)\n",
        "conv_3 = keras.layers.Conv2D(64, 3, activation=\"relu\", name=\"conv_3\")(conv_2)\n",
        "pool_2d_1 =  keras.layers.MaxPool2D(pool_size=(2, 2), name=\"pool_2d_1\")(conv_3)\n",
        "conv_4 = keras.layers.Conv2D(64, 3, activation=\"relu\", name=\"conv_4\")(pool_2d_1)\n",
        "conv_5 = keras.layers.Conv2D(128, 3, activation=\"relu\", name=\"conv_5\")(conv_4)\n",
        "conv_6 = keras.layers.Conv2D(64, 3, activation=\"relu\", name=\"conv_6\")(conv_5)\n",
        "pool_2d_2 = keras.layers.MaxPool2D(pool_size=(2, 2), name=\"pool_2d_2\")(conv_6)\n",
        "flatten_layer = keras.layers.Flatten(name=\"flatten_layer\")(pool_2d_2)\n",
        "dense_1 = keras.layers.Dense(64, name=\"dense_1\", activation='relu')(flatten_layer)\n",
        "output_layer = keras.layers.Dense(10, name=\"output_layer\", activation='softmax')(dense_1)\n",
        "fn_model = keras.Model(inputs=input_layer, outputs=output_layer, name=\"fn_model\")\n",
        "fn_model.summary()"
      ],
      "id": "passive-bunch",
      "execution_count": null,
      "outputs": [
        {
          "output_type": "stream",
          "text": [
            "Model: \"fn_model\"\n",
            "_________________________________________________________________\n",
            "Layer (type)                 Output Shape              Param #   \n",
            "=================================================================\n",
            "input_layer (InputLayer)     [(None, 32, 32, 3)]       0         \n",
            "_________________________________________________________________\n",
            "conv_1 (Conv2D)              (None, 32, 32, 64)        1792      \n",
            "_________________________________________________________________\n",
            "conv_2 (Conv2D)              (None, 30, 30, 128)       73856     \n",
            "_________________________________________________________________\n",
            "conv_3 (Conv2D)              (None, 28, 28, 64)        73792     \n",
            "_________________________________________________________________\n",
            "pool_2d_1 (MaxPooling2D)     (None, 14, 14, 64)        0         \n",
            "_________________________________________________________________\n",
            "conv_4 (Conv2D)              (None, 12, 12, 64)        36928     \n",
            "_________________________________________________________________\n",
            "conv_5 (Conv2D)              (None, 10, 10, 128)       73856     \n",
            "_________________________________________________________________\n",
            "conv_6 (Conv2D)              (None, 8, 8, 64)          73792     \n",
            "_________________________________________________________________\n",
            "pool_2d_2 (MaxPooling2D)     (None, 4, 4, 64)          0         \n",
            "_________________________________________________________________\n",
            "flatten_layer (Flatten)      (None, 1024)              0         \n",
            "_________________________________________________________________\n",
            "dense_1 (Dense)              (None, 64)                65600     \n",
            "_________________________________________________________________\n",
            "output_layer (Dense)         (None, 10)                650       \n",
            "=================================================================\n",
            "Total params: 400,266\n",
            "Trainable params: 400,266\n",
            "Non-trainable params: 0\n",
            "_________________________________________________________________\n"
          ],
          "name": "stdout"
        }
      ]
    },
    {
      "cell_type": "markdown",
      "metadata": {
        "id": "boxed-mileage"
      },
      "source": [
        "### The `Model Sub-Classing API`\n",
        "In `Model Sub-Classing` there are two most important functions **`__init__`** and call. Basically, we will define all the **`tf.keras layers`** or custom implemented layers inside the **`__init__`** method and **`call`** those layers based on our network design inside the call method which is used to perform a forward propagation. The **`call`** method quite the same as the **`forward`** method that is used to build the model in PyTorch anyway."
      ],
      "id": "boxed-mileage"
    },
    {
      "cell_type": "markdown",
      "metadata": {
        "id": "together-persian"
      },
      "source": [
        "> The `Model` class contains the layers in it."
      ],
      "id": "together-persian"
    },
    {
      "cell_type": "code",
      "metadata": {
        "colab": {
          "base_uri": "https://localhost:8080/"
        },
        "id": "mobile-induction",
        "outputId": "3f5e141d-62b6-4b09-89df-4bb409aabdbd"
      },
      "source": [
        "class Model(keras.Model):\n",
        "    def __init__(self):\n",
        "        super(Model, self).__init__()\n",
        "        self.conv_1 = keras.layers.Conv2D(64, 3, activation=\"relu\", padding=\"same\", name=\"conv_1\")\n",
        "        self.conv_2 =keras.layers.Conv2D(128, 3, activation=\"relu\", name=\"conv_2\")\n",
        "        self.conv_3 = keras.layers.Conv2D(64, 3, activation=\"relu\", name=\"conv_3\")\n",
        "        self.pool = keras.layers.MaxPool2D(pool_size=(2, 2), name=\"pool_2d_1\")\n",
        "        self.conv_4 = keras.layers.Conv2D(64, 3, activation=\"relu\", name=\"conv_4\")\n",
        "        self.conv_5 = keras.layers.Conv2D(128, 3, activation=\"relu\", name=\"conv_5\")\n",
        "        self.conv_6  = keras.layers.Conv2D(64, 3, activation=\"relu\", name=\"conv_6\")\n",
        "        self.flatten = keras.layers.Flatten(name=\"flatten_layer\")\n",
        "        self.dense_1 = keras.layers.Dense(64, name=\"dense_1\", activation='relu')\n",
        "        self.output_layer = keras.layers.Dense(10, name=\"output_layer\", activation='softmax')\n",
        "        \n",
        "    def call(self, input_tensor):\n",
        "        # forward  pass the first block\n",
        "        x = self.conv_1(input_tensor)\n",
        "        x = self.conv_2(x)\n",
        "        x = self.conv_3(x)\n",
        "        # pool\n",
        "        x = self.pool(x)\n",
        "        # forward pass block 2\n",
        "        x = self.conv_4(x)\n",
        "        x = self.conv_5(x)\n",
        "        x = self.conv_6(x)\n",
        "        # pool block2 \n",
        "        x = self.pool(x)\n",
        "        # flatten the conv_6 layer\n",
        "        x = self.flatten(x)\n",
        "        # forward pass the output blocks\n",
        "        x = self.dense_1(x)\n",
        "        x = self.output_layer(x)\n",
        "        return x\n",
        "    \n",
        "sub_class_model = Model()\n",
        "sub_class_model.build((None, 32, 32, 3))\n",
        "sub_class_model.summary()"
      ],
      "id": "mobile-induction",
      "execution_count": null,
      "outputs": [
        {
          "output_type": "stream",
          "text": [
            "Model: \"model\"\n",
            "_________________________________________________________________\n",
            "Layer (type)                 Output Shape              Param #   \n",
            "=================================================================\n",
            "conv_1 (Conv2D)              multiple                  1792      \n",
            "_________________________________________________________________\n",
            "conv_2 (Conv2D)              multiple                  73856     \n",
            "_________________________________________________________________\n",
            "conv_3 (Conv2D)              multiple                  73792     \n",
            "_________________________________________________________________\n",
            "pool_2d_1 (MaxPooling2D)     multiple                  0         \n",
            "_________________________________________________________________\n",
            "conv_4 (Conv2D)              multiple                  36928     \n",
            "_________________________________________________________________\n",
            "conv_5 (Conv2D)              multiple                  73856     \n",
            "_________________________________________________________________\n",
            "conv_6 (Conv2D)              multiple                  73792     \n",
            "_________________________________________________________________\n",
            "flatten_layer (Flatten)      multiple                  0         \n",
            "_________________________________________________________________\n",
            "dense_1 (Dense)              multiple                  65600     \n",
            "_________________________________________________________________\n",
            "output_layer (Dense)         multiple                  650       \n",
            "=================================================================\n",
            "Total params: 400,266\n",
            "Trainable params: 400,266\n",
            "Non-trainable params: 0\n",
            "_________________________________________________________________\n"
          ],
          "name": "stdout"
        }
      ]
    },
    {
      "cell_type": "markdown",
      "metadata": {
        "id": "alone-renaissance"
      },
      "source": [
        "> **We still getting the same `Total params` and `Trainable params` just like the from the previous models.** But the problem is we are not able to see the output shape. Which is the problem that we are going to solve later on."
      ],
      "id": "alone-renaissance"
    },
    {
      "cell_type": "markdown",
      "metadata": {
        "id": "ranking-trial"
      },
      "source": [
        "#### Trainning our `model` on the `cifar10` dataset."
      ],
      "id": "ranking-trial"
    },
    {
      "cell_type": "code",
      "metadata": {
        "id": "suspended-thomas"
      },
      "source": [
        "from tensorflow.keras import datasets"
      ],
      "id": "suspended-thomas",
      "execution_count": null,
      "outputs": []
    },
    {
      "cell_type": "code",
      "metadata": {
        "colab": {
          "base_uri": "https://localhost:8080/"
        },
        "id": "royal-uruguay",
        "outputId": "a6a9f7cd-8786-4025-da92-f9ef51e2516a"
      },
      "source": [
        "(X_train, y_train), (X_test, y_test) = datasets.cifar10.load_data()\n",
        "X_test_tensors = tf.convert_to_tensor(X_test/255., dtype=tf.float32)\n",
        "X_train_tensors = tf.convert_to_tensor(X_train/255., dtype=tf.float32)\n",
        "y_test_tensors = tf.one_hot(tf.squeeze(y_test), depth=10)\n",
        "y_train_tensors = tf.one_hot(tf.squeeze(y_train), depth=10)"
      ],
      "id": "royal-uruguay",
      "execution_count": null,
      "outputs": [
        {
          "output_type": "stream",
          "text": [
            "Downloading data from https://www.cs.toronto.edu/~kriz/cifar-10-python.tar.gz\n",
            "170500096/170498071 [==============================] - 2s 0us/step\n"
          ],
          "name": "stdout"
        }
      ]
    },
    {
      "cell_type": "code",
      "metadata": {
        "id": "transsexual-resident"
      },
      "source": [
        "seq_model.compile(\n",
        "    loss = \"categorical_crossentropy\",\n",
        "    metrics=['acc'],\n",
        "    optimizer = 'adam'\n",
        ")\n",
        "fn_model.compile(\n",
        "    loss = \"categorical_crossentropy\",\n",
        "    metrics=['acc'],\n",
        "    optimizer = 'adam'\n",
        ")\n",
        "sub_class_model.compile(\n",
        "    loss = \"categorical_crossentropy\",\n",
        "    metrics=['acc'],\n",
        "    optimizer = 'adam'\n",
        ")"
      ],
      "id": "transsexual-resident",
      "execution_count": null,
      "outputs": []
    },
    {
      "cell_type": "code",
      "metadata": {
        "colab": {
          "base_uri": "https://localhost:8080/"
        },
        "id": "colonial-minneapolis",
        "outputId": "7afd844b-64f3-46d4-ec7a-369979a0bef3"
      },
      "source": [
        "seq_model.fit(X_train_tensors, y_train_tensors, batch_size=64, epochs=3, verbose=1,\n",
        "                  validation_data=(X_test_tensors, y_test_tensors)\n",
        "                  )"
      ],
      "id": "colonial-minneapolis",
      "execution_count": null,
      "outputs": [
        {
          "output_type": "stream",
          "text": [
            "Epoch 1/3\n",
            "782/782 [==============================] - 44s 17ms/step - loss: 1.6305 - acc: 0.3980 - val_loss: 1.3665 - val_acc: 0.5069\n",
            "Epoch 2/3\n",
            "782/782 [==============================] - 13s 16ms/step - loss: 1.1784 - acc: 0.5773 - val_loss: 1.0266 - val_acc: 0.6371\n",
            "Epoch 3/3\n",
            "782/782 [==============================] - 13s 16ms/step - loss: 0.9528 - acc: 0.6603 - val_loss: 0.9293 - val_acc: 0.6754\n"
          ],
          "name": "stdout"
        },
        {
          "output_type": "execute_result",
          "data": {
            "text/plain": [
              "<tensorflow.python.keras.callbacks.History at 0x7fe482020dd0>"
            ]
          },
          "metadata": {
            "tags": []
          },
          "execution_count": 10
        }
      ]
    },
    {
      "cell_type": "code",
      "metadata": {
        "colab": {
          "base_uri": "https://localhost:8080/"
        },
        "id": "hairy-nickel",
        "outputId": "8c52e203-00c3-42e1-b423-0e76a2fb81fe"
      },
      "source": [
        "fn_model.fit(X_train_tensors, y_train_tensors, batch_size=64, epochs=3, verbose=1,\n",
        "                  validation_data=(X_test_tensors, y_test_tensors)\n",
        "                  )"
      ],
      "id": "hairy-nickel",
      "execution_count": null,
      "outputs": [
        {
          "output_type": "stream",
          "text": [
            "Epoch 1/3\n",
            "782/782 [==============================] - 14s 17ms/step - loss: 1.6268 - acc: 0.4009 - val_loss: 1.2899 - val_acc: 0.5350\n",
            "Epoch 2/3\n",
            "782/782 [==============================] - 13s 16ms/step - loss: 1.1686 - acc: 0.5809 - val_loss: 1.0746 - val_acc: 0.6167\n",
            "Epoch 3/3\n",
            "782/782 [==============================] - 13s 16ms/step - loss: 0.9456 - acc: 0.6632 - val_loss: 0.9379 - val_acc: 0.6595\n"
          ],
          "name": "stdout"
        },
        {
          "output_type": "execute_result",
          "data": {
            "text/plain": [
              "<tensorflow.python.keras.callbacks.History at 0x7fe470127450>"
            ]
          },
          "metadata": {
            "tags": []
          },
          "execution_count": 11
        }
      ]
    },
    {
      "cell_type": "code",
      "metadata": {
        "colab": {
          "base_uri": "https://localhost:8080/"
        },
        "id": "prostate-nudist",
        "outputId": "52a966a8-7377-4e65-86bc-d212459ce4d0"
      },
      "source": [
        "sub_class_model.fit(X_train_tensors, y_train_tensors, batch_size=64, epochs=3, verbose=1,\n",
        "                  validation_data=(X_test_tensors, y_test_tensors)\n",
        "                  )"
      ],
      "id": "prostate-nudist",
      "execution_count": null,
      "outputs": [
        {
          "output_type": "stream",
          "text": [
            "Epoch 1/3\n",
            "782/782 [==============================] - 14s 17ms/step - loss: 1.5955 - acc: 0.4133 - val_loss: 1.2577 - val_acc: 0.5421\n",
            "Epoch 2/3\n",
            "782/782 [==============================] - 13s 17ms/step - loss: 1.1258 - acc: 0.5970 - val_loss: 1.0217 - val_acc: 0.6364\n",
            "Epoch 3/3\n",
            "782/782 [==============================] - 13s 16ms/step - loss: 0.9336 - acc: 0.6685 - val_loss: 0.8903 - val_acc: 0.6883\n"
          ],
          "name": "stdout"
        },
        {
          "output_type": "execute_result",
          "data": {
            "text/plain": [
              "<tensorflow.python.keras.callbacks.History at 0x7fe45cdf5490>"
            ]
          },
          "metadata": {
            "tags": []
          },
          "execution_count": 12
        }
      ]
    },
    {
      "cell_type": "markdown",
      "metadata": {
        "id": "amQI1ep2fdPJ"
      },
      "source": [
        "So bassically the models are the same. The only different is how to create them using different api's."
      ],
      "id": "amQI1ep2fdPJ"
    },
    {
      "cell_type": "markdown",
      "metadata": {
        "id": "bo_ZoX7pfpJo"
      },
      "source": [
        "### Getting the **Output shapes** ``using the subclass api``\n",
        "At this point the output shape of the `sub_class_model` when we call the ``model.summary()`` there is only **`multiple`**. We want to sey if we call the summary we should also get the output shapes."
      ],
      "id": "bo_ZoX7pfpJo"
    },
    {
      "cell_type": "code",
      "metadata": {
        "colab": {
          "base_uri": "https://localhost:8080/"
        },
        "id": "16ZbHgN0gYNB",
        "outputId": "98f9de0d-ed3f-4901-f17d-71380d2dad62"
      },
      "source": [
        "sub_class_model.summary()"
      ],
      "id": "16ZbHgN0gYNB",
      "execution_count": null,
      "outputs": [
        {
          "output_type": "stream",
          "text": [
            "Model: \"model\"\n",
            "_________________________________________________________________\n",
            "Layer (type)                 Output Shape              Param #   \n",
            "=================================================================\n",
            "conv_1 (Conv2D)              multiple                  1792      \n",
            "_________________________________________________________________\n",
            "conv_2 (Conv2D)              multiple                  73856     \n",
            "_________________________________________________________________\n",
            "conv_3 (Conv2D)              multiple                  73792     \n",
            "_________________________________________________________________\n",
            "pool_2d_1 (MaxPooling2D)     multiple                  0         \n",
            "_________________________________________________________________\n",
            "conv_4 (Conv2D)              multiple                  36928     \n",
            "_________________________________________________________________\n",
            "conv_5 (Conv2D)              multiple                  73856     \n",
            "_________________________________________________________________\n",
            "conv_6 (Conv2D)              multiple                  73792     \n",
            "_________________________________________________________________\n",
            "flatten_layer (Flatten)      multiple                  0         \n",
            "_________________________________________________________________\n",
            "dense_1 (Dense)              multiple                  65600     \n",
            "_________________________________________________________________\n",
            "output_layer (Dense)         multiple                  650       \n",
            "=================================================================\n",
            "Total params: 400,266\n",
            "Trainable params: 400,266\n",
            "Non-trainable params: 0\n",
            "_________________________________________________________________\n"
          ],
          "name": "stdout"
        }
      ]
    },
    {
      "cell_type": "code",
      "metadata": {
        "colab": {
          "base_uri": "https://localhost:8080/"
        },
        "id": "Us_J1sDqgYDp",
        "outputId": "9c01afb7-c481-49ae-d9d9-7eb6fb45c825"
      },
      "source": [
        "class Model(keras.Model):\n",
        "    def __init__(self):\n",
        "        super(Model, self).__init__()\n",
        "        self.conv_1 = keras.layers.Conv2D(64, 3, activation=\"relu\", padding=\"same\", name=\"conv_1\")\n",
        "        self.conv_2 =keras.layers.Conv2D(128, 3, activation=\"relu\", name=\"conv_2\")\n",
        "        self.conv_3 = keras.layers.Conv2D(64, 3, activation=\"relu\", name=\"conv_3\")\n",
        "        self.pool = keras.layers.MaxPool2D(pool_size=(2, 2), name=\"pool_2d_1\")\n",
        "        self.conv_4 = keras.layers.Conv2D(64, 3, activation=\"relu\", name=\"conv_4\")\n",
        "        self.conv_5 = keras.layers.Conv2D(128, 3, activation=\"relu\", name=\"conv_5\")\n",
        "        self.conv_6  = keras.layers.Conv2D(64, 3, activation=\"relu\", name=\"conv_6\")\n",
        "        self.flatten = keras.layers.Flatten(name=\"flatten_layer\")\n",
        "        self.dense_1 = keras.layers.Dense(64, name=\"dense_1\", activation='relu')\n",
        "        self.output_layer = keras.layers.Dense(10, name=\"output_layer\", activation='softmax')\n",
        "        \n",
        "    def call(self, input_tensor):\n",
        "        # forward  pass the first block\n",
        "        x = self.conv_1(input_tensor)\n",
        "        x = self.conv_2(x)\n",
        "        x = self.conv_3(x)\n",
        "        # pool\n",
        "        x = self.pool(x)\n",
        "        # forward pass block 2\n",
        "        x = self.conv_4(x)\n",
        "        x = self.conv_5(x)\n",
        "        x = self.conv_6(x)\n",
        "        # pool block2 \n",
        "        x = self.pool(x)\n",
        "        # flatten the conv_6 layer\n",
        "        x = self.flatten(x)\n",
        "        # forward pass the output blocks\n",
        "        x = self.dense_1(x)\n",
        "        x = self.output_layer(x)\n",
        "        return x\n",
        "\n",
        "    def model(self):\n",
        "        x = Input(shape=( None, 32, 32, 3))\n",
        "        return Model(inputs=[x], outputs =self.call(x))\n",
        "\n",
        "sub_class_model_01 = Model()\n",
        "sub_class_model_01.build((None, 32, 32, 3))\n",
        "sub_class_model_01.summary()\n"
      ],
      "id": "Us_J1sDqgYDp",
      "execution_count": null,
      "outputs": [
        {
          "output_type": "stream",
          "text": [
            "Model: \"model_4\"\n",
            "_________________________________________________________________\n",
            "Layer (type)                 Output Shape              Param #   \n",
            "=================================================================\n",
            "conv_1 (Conv2D)              multiple                  1792      \n",
            "_________________________________________________________________\n",
            "conv_2 (Conv2D)              multiple                  73856     \n",
            "_________________________________________________________________\n",
            "conv_3 (Conv2D)              multiple                  73792     \n",
            "_________________________________________________________________\n",
            "pool_2d_1 (MaxPooling2D)     multiple                  0         \n",
            "_________________________________________________________________\n",
            "conv_4 (Conv2D)              multiple                  36928     \n",
            "_________________________________________________________________\n",
            "conv_5 (Conv2D)              multiple                  73856     \n",
            "_________________________________________________________________\n",
            "conv_6 (Conv2D)              multiple                  73792     \n",
            "_________________________________________________________________\n",
            "flatten_layer (Flatten)      multiple                  0         \n",
            "_________________________________________________________________\n",
            "dense_1 (Dense)              multiple                  65600     \n",
            "_________________________________________________________________\n",
            "output_layer (Dense)         multiple                  650       \n",
            "=================================================================\n",
            "Total params: 400,266\n",
            "Trainable params: 400,266\n",
            "Non-trainable params: 0\n",
            "_________________________________________________________________\n"
          ],
          "name": "stdout"
        }
      ]
    },
    {
      "cell_type": "markdown",
      "metadata": {
        "id": "passive-hamburg"
      },
      "source": [
        "> The following code was found on the blog post at [towardsdatascience.com](https://towardsdatascience.com/model-sub-classing-and-custom-training-loop-from-scratch-in-tensorflow-2-cc1d4f10fb4e)"
      ],
      "id": "passive-hamburg"
    },
    {
      "cell_type": "code",
      "metadata": {
        "colab": {
          "base_uri": "https://localhost:8080/"
        },
        "id": "ready-keeping",
        "outputId": "62931070-a92e-4fcb-99fb-2dadba7592af"
      },
      "source": [
        "class ModelSubClassing(tf.keras.Model):\n",
        "    def __init__(self, num_classes):\n",
        "        super(ModelSubClassing, self).__init__()\n",
        "        # define all layers in init\n",
        "        # Layer of Block 1\n",
        "        self.conv1 = tf.keras.layers.Conv2D(32, 3, strides=2, activation=\"relu\")\n",
        "        self.max1  = tf.keras.layers.MaxPooling2D(3)\n",
        "        self.bn1   = tf.keras.layers.BatchNormalization()\n",
        "\n",
        "        # Layer of Block 2\n",
        "        self.conv2 = tf.keras.layers.Conv2D(64, 3, activation=\"relu\")\n",
        "        self.bn2   = tf.keras.layers.BatchNormalization()\n",
        "        self.drop  = tf.keras.layers.Dropout(0.3)\n",
        "\n",
        "        # GAP, followed by Classifier\n",
        "        self.gap   = tf.keras.layers.GlobalAveragePooling2D()\n",
        "        self.dense = tf.keras.layers.Dense(num_classes)\n",
        "\n",
        "    def call(self, input_tensor, training=False):\n",
        "        # forward pass: block 1 \n",
        "        x = self.conv1(input_tensor)\n",
        "        x = self.max1(x)\n",
        "        x = self.bn1(x)\n",
        "\n",
        "        # forward pass: block 2 \n",
        "        x = self.conv2(x)\n",
        "        x = self.bn2(x)\n",
        "\n",
        "        # droput followed by gap and classifier\n",
        "        x = self.drop(x)\n",
        "        x = self.gap(x)\n",
        "        return self.dense(x)\n",
        "model = ModelSubClassing(10)\n",
        "model.build((None, 32, 32, 3))\n",
        "model.summary()"
      ],
      "id": "ready-keeping",
      "execution_count": null,
      "outputs": [
        {
          "output_type": "stream",
          "text": [
            "Model: \"model_sub_classing\"\n",
            "_________________________________________________________________\n",
            "Layer (type)                 Output Shape              Param #   \n",
            "=================================================================\n",
            "conv2d (Conv2D)              multiple                  896       \n",
            "_________________________________________________________________\n",
            "max_pooling2d (MaxPooling2D) multiple                  0         \n",
            "_________________________________________________________________\n",
            "batch_normalization (BatchNo multiple                  128       \n",
            "_________________________________________________________________\n",
            "conv2d_1 (Conv2D)            multiple                  18496     \n",
            "_________________________________________________________________\n",
            "batch_normalization_1 (Batch multiple                  256       \n",
            "_________________________________________________________________\n",
            "dropout (Dropout)            multiple                  0         \n",
            "_________________________________________________________________\n",
            "global_average_pooling2d (Gl multiple                  0         \n",
            "_________________________________________________________________\n",
            "dense (Dense)                multiple                  650       \n",
            "=================================================================\n",
            "Total params: 20,426\n",
            "Trainable params: 20,234\n",
            "Non-trainable params: 192\n",
            "_________________________________________________________________\n"
          ],
          "name": "stdout"
        }
      ]
    },
    {
      "cell_type": "markdown",
      "metadata": {
        "id": "sharp-mailman"
      },
      "source": [
        "### What is cool about the `Subclassing` API?\n",
        "The subclass API allows us to write our own custom blocks and then stack together. For example let's say we have the following achitecture we want to build.\n",
        "\n",
        "```python\n",
        "\n",
        "(Conv2D + BatchNorm) -> (Conv2D + BatchNorm) -> (Conv2D + BatchNorm) -> Flatten() -> [Dense(name=\"hidden\") + Dense(name=\"output\")]\n",
        "```\n",
        "We can say `(Conv2D + BatchNorm)` is a certain block and, \n",
        "``[Dense(name=\"hidden\") + Dense(name=\"output\")]`` is another block which means we can build these blocks and stack them using the `Sequantial` api as follows:\n",
        "\n",
        "```python\n",
        "model = keras.Sequential([\n",
        "  (Conv2D + BatchNorm),\n",
        "  (Conv2D + BatchNorm),\n",
        "  (Conv2D + BatchNorm),\n",
        "  [Dense(name=\"hidden\") + Dense(name=\"output\")]\n",
        "])\n",
        "```\n"
      ],
      "id": "sharp-mailman"
    },
    {
      "cell_type": "code",
      "metadata": {
        "id": "VVqYTaSdjJV4"
      },
      "source": [
        "# The convulutional Block\n",
        "class ConvBlock(keras.layers.Layer):\n",
        "  def __init__(self, in_features, kernel=3):\n",
        "    super(ConvBlock, self).__init__()\n",
        "    self.in_features = in_features\n",
        "    self.kernel = kernel\n",
        "    self.conv = keras.layers.Conv2D(self.in_features, self.kernel, 1, padding=\"same\")\n",
        "    self.bn = keras.layers.BatchNormalization()\n",
        "\n",
        "\n",
        "    def call(self, input_tensor, training=False): # the BatchNorm behaves differently for train and test\n",
        "      x = self.conv(input_tensor)\n",
        "      x = self.bn(bn, training=training)\n",
        "      return keras.activations.relu(x)\n",
        "\n"
      ],
      "id": "VVqYTaSdjJV4",
      "execution_count": 9,
      "outputs": []
    },
    {
      "cell_type": "code",
      "metadata": {
        "id": "NFITvHuFFKhF",
        "colab": {
          "base_uri": "https://localhost:8080/"
        },
        "outputId": "6650d4f3-d280-4bdb-e898-df2e86c2a76d"
      },
      "source": [
        "model = keras.Sequential([\n",
        "    # Conv block\n",
        "    ConvBlock(64),\n",
        "    ConvBlock(128),\n",
        "    ConvBlock(64),\n",
        "    # output block\n",
        "    keras.layers.Flatten(),\n",
        "    keras.layers.Dense(64, activation=keras.activations.relu),\n",
        "    keras.layers.Dense(10, activation = keras.activations.softmax),\n",
        "])\n",
        "model.build((None, 32, 32, 1))\n",
        "model.summary()\n"
      ],
      "id": "NFITvHuFFKhF",
      "execution_count": 10,
      "outputs": [
        {
          "output_type": "stream",
          "text": [
            "Model: \"sequential_1\"\n",
            "_________________________________________________________________\n",
            "Layer (type)                 Output Shape              Param #   \n",
            "=================================================================\n",
            "conv_block_9 (ConvBlock)     (None, 32, 32, 1)         0         \n",
            "_________________________________________________________________\n",
            "conv_block_10 (ConvBlock)    (None, 32, 32, 1)         0         \n",
            "_________________________________________________________________\n",
            "conv_block_11 (ConvBlock)    (None, 32, 32, 1)         0         \n",
            "_________________________________________________________________\n",
            "flatten_2 (Flatten)          (None, 1024)              0         \n",
            "_________________________________________________________________\n",
            "dense_4 (Dense)              (None, 64)                65600     \n",
            "_________________________________________________________________\n",
            "dense_5 (Dense)              (None, 10)                650       \n",
            "=================================================================\n",
            "Total params: 66,250\n",
            "Trainable params: 66,250\n",
            "Non-trainable params: 0\n",
            "_________________________________________________________________\n"
          ],
          "name": "stdout"
        }
      ]
    },
    {
      "cell_type": "markdown",
      "metadata": {
        "id": "_pREQ0JqGC7u"
      },
      "source": [
        "**The adavantage of using subclassing is that it allows us to build increadible large models with few lines of code.**"
      ],
      "id": "_pREQ0JqGC7u"
    }
  ]
}