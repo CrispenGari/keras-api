{
  "nbformat": 4,
  "nbformat_minor": 0,
  "metadata": {
    "colab": {
      "name": "03_Subclassing_Custom_Layers_Dense.ipynb",
      "provenance": [],
      "collapsed_sections": []
    },
    "kernelspec": {
      "name": "python3",
      "display_name": "Python 3"
    },
    "language_info": {
      "name": "python"
    },
    "accelerator": "GPU"
  },
  "cells": [
    {
      "cell_type": "code",
      "metadata": {
        "id": "MvGz1k529uL3"
      },
      "source": [
        ""
      ],
      "execution_count": 1,
      "outputs": []
    },
    {
      "cell_type": "code",
      "metadata": {
        "id": "_0I902-L-g_x"
      },
      "source": [
        ""
      ],
      "execution_count": 1,
      "outputs": []
    },
    {
      "cell_type": "markdown",
      "metadata": {
        "id": "ISAYBAVT98xg"
      },
      "source": [
        "### 1. Dense Layer."
      ]
    },
    {
      "cell_type": "code",
      "metadata": {
        "id": "ezNg8LTC987z"
      },
      "source": [
        "import tensorflow as tf\n",
        "from tensorflow import keras"
      ],
      "execution_count": 2,
      "outputs": []
    },
    {
      "cell_type": "markdown",
      "metadata": {
        "id": "xVInLmJV98u6"
      },
      "source": [
        "### The `mnist` dataset."
      ]
    },
    {
      "cell_type": "code",
      "metadata": {
        "colab": {
          "base_uri": "https://localhost:8080/"
        },
        "id": "wdH8P5yz98-y",
        "outputId": "7f213f9b-5345-483d-a50f-c88f8a8ee436"
      },
      "source": [
        "(X_train, y_train), (X_test, y_test) = keras.datasets.mnist.load_data()"
      ],
      "execution_count": 3,
      "outputs": [
        {
          "output_type": "stream",
          "text": [
            "Downloading data from https://storage.googleapis.com/tensorflow/tf-keras-datasets/mnist.npz\n",
            "11493376/11490434 [==============================] - 0s 0us/step\n"
          ],
          "name": "stdout"
        }
      ]
    },
    {
      "cell_type": "code",
      "metadata": {
        "colab": {
          "base_uri": "https://localhost:8080/"
        },
        "id": "3cGHpyQv99Bt",
        "outputId": "1dc2ff17-073f-4973-98bb-a148a9b92f96"
      },
      "source": [
        "X_train_tensors = tf.convert_to_tensor(X_train.reshape(-1, 28*28)/255.0, dtype='float32')\n",
        "X_test_tensors = tf.convert_to_tensor(X_test.reshape(-1, 28*28)/255.0, dtype='float32')\n",
        "\n",
        "y_test_tensors = tf.convert_to_tensor(y_test)\n",
        "y_train_tensors = tf.convert_to_tensor(y_train)\n",
        "y_train_tensors [:5]"
      ],
      "execution_count": 12,
      "outputs": [
        {
          "output_type": "execute_result",
          "data": {
            "text/plain": [
              "<tf.Tensor: shape=(5,), dtype=uint8, numpy=array([5, 0, 4, 1, 9], dtype=uint8)>"
            ]
          },
          "metadata": {
            "tags": []
          },
          "execution_count": 12
        }
      ]
    },
    {
      "cell_type": "markdown",
      "metadata": {
        "id": "j5xj9shr99Er"
      },
      "source": [
        "> Let's build a simple `FFNN` for this dataset"
      ]
    },
    {
      "cell_type": "code",
      "metadata": {
        "colab": {
          "base_uri": "https://localhost:8080/"
        },
        "id": "xNUVb7O899Ha",
        "outputId": "a3f71dbb-0d91-4b80-e819-de158a546f45"
      },
      "source": [
        "X_train_tensors[0].shape"
      ],
      "execution_count": 5,
      "outputs": [
        {
          "output_type": "execute_result",
          "data": {
            "text/plain": [
              "TensorShape([28, 28])"
            ]
          },
          "metadata": {
            "tags": []
          },
          "execution_count": 5
        }
      ]
    },
    {
      "cell_type": "code",
      "metadata": {
        "colab": {
          "base_uri": "https://localhost:8080/"
        },
        "id": "pEmmUvMG99KB",
        "outputId": "e901d168-a5c8-47ff-bc2d-ec758188f67e"
      },
      "source": [
        "model_1 = keras.Sequential([\n",
        "    keras.layers.Flatten(),\n",
        "    keras.layers.Dense(64, activation='relu'),\n",
        "    keras.layers.Dense(10, activation='softmax'),\n",
        "])\n",
        "model_1.compile(\n",
        "    loss=keras.losses.SparseCategoricalCrossentropy(from_logits=False),\n",
        "    optimizer=keras.optimizers.Adam(),\n",
        "    metrics=[\"accuracy\"],\n",
        ")\n",
        "model_1.fit(X_train_tensors, y_train_tensors, epochs=2, batch_size=64, validation_data=(X_test_tensors, y_test_tensors))\n",
        "model_1.summary()"
      ],
      "execution_count": 13,
      "outputs": [
        {
          "output_type": "stream",
          "text": [
            "Epoch 1/2\n",
            "938/938 [==============================] - 3s 3ms/step - loss: 0.3631 - accuracy: 0.8984 - val_loss: 0.2071 - val_accuracy: 0.9405\n",
            "Epoch 2/2\n",
            "938/938 [==============================] - 3s 3ms/step - loss: 0.1793 - accuracy: 0.9486 - val_loss: 0.1481 - val_accuracy: 0.9554\n",
            "Model: \"sequential_1\"\n",
            "_________________________________________________________________\n",
            "Layer (type)                 Output Shape              Param #   \n",
            "=================================================================\n",
            "flatten_1 (Flatten)          (None, 784)               0         \n",
            "_________________________________________________________________\n",
            "dense_6 (Dense)              (None, 64)                50240     \n",
            "_________________________________________________________________\n",
            "dense_7 (Dense)              (None, 10)                650       \n",
            "=================================================================\n",
            "Total params: 50,890\n",
            "Trainable params: 50,890\n",
            "Non-trainable params: 0\n",
            "_________________________________________________________________\n"
          ],
          "name": "stdout"
        }
      ]
    },
    {
      "cell_type": "markdown",
      "metadata": {
        "id": "ppghPQcKD2xt"
      },
      "source": [
        "## Creating a custom `model` using subclassing from `Keras`"
      ]
    },
    {
      "cell_type": "code",
      "metadata": {
        "id": "erYBo9yWC04_"
      },
      "source": [
        "class Net(keras.Model):\n",
        "    def __init__(self, num_classes=10):\n",
        "        super(Net, self).__init__()\n",
        "        self.dense1 = keras.layers.Dense(64)\n",
        "        self.dense2 = keras.layers.Dense(num_classes)\n",
        "    def call(self, x):\n",
        "        x = tf.nn.relu(self.dense1(x))\n",
        "        return self.dense2(x)\n",
        "    def model(self):\n",
        "      x = keras.layers.Input((784, ))\n",
        "      return keras.Model(inputs=[x], outputs=self.call(x))\n"
      ],
      "execution_count": 16,
      "outputs": []
    },
    {
      "cell_type": "code",
      "metadata": {
        "colab": {
          "base_uri": "https://localhost:8080/"
        },
        "id": "zubCxsP1DuSd",
        "outputId": "34bf2a24-f384-4215-bdb9-53005923429c"
      },
      "source": [
        "model_2 = Net()\n",
        "\n",
        "model_2.compile(\n",
        "    loss=keras.losses.SparseCategoricalCrossentropy(from_logits=True),\n",
        "    optimizer=keras.optimizers.Adam(),\n",
        "    metrics=[\"accuracy\"],\n",
        ")\n",
        "model_2.fit(X_train_tensors, y_train_tensors, epochs=2, batch_size=64, validation_data=(X_test_tensors, y_test_tensors))\n",
        "model_2.model().summary()"
      ],
      "execution_count": 17,
      "outputs": [
        {
          "output_type": "stream",
          "text": [
            "Epoch 1/2\n",
            "938/938 [==============================] - 4s 3ms/step - loss: 0.3520 - accuracy: 0.9027 - val_loss: 0.2066 - val_accuracy: 0.9402\n",
            "Epoch 2/2\n",
            "938/938 [==============================] - 3s 3ms/step - loss: 0.1740 - accuracy: 0.9508 - val_loss: 0.1482 - val_accuracy: 0.9541\n",
            "Model: \"model\"\n",
            "_________________________________________________________________\n",
            "Layer (type)                 Output Shape              Param #   \n",
            "=================================================================\n",
            "input_1 (InputLayer)         [(None, 784)]             0         \n",
            "_________________________________________________________________\n",
            "dense_10 (Dense)             (None, 64)                50240     \n",
            "_________________________________________________________________\n",
            "tf.nn.relu (TFOpLambda)      (None, 64)                0         \n",
            "_________________________________________________________________\n",
            "dense_11 (Dense)             (None, 10)                650       \n",
            "=================================================================\n",
            "Total params: 50,890\n",
            "Trainable params: 50,890\n",
            "Non-trainable params: 0\n",
            "_________________________________________________________________\n"
          ],
          "name": "stdout"
        }
      ]
    },
    {
      "cell_type": "markdown",
      "metadata": {
        "id": "2B_hPIH899NC"
      },
      "source": [
        "Now let's build our custom `Dense` Layer"
      ]
    },
    {
      "cell_type": "code",
      "metadata": {
        "id": "kF_Z4iX-99P4"
      },
      "source": [
        "class Dense(keras.layers.Layer):\n",
        "  def __init__(self, units, input_dim):\n",
        "    super().__init__()\n",
        "    self.weights_ =  self.add_weight(\n",
        "        name=\"weights_\",\n",
        "        shape=(input_dim, units),\n",
        "        initializer=\"random_normal\",\n",
        "        trainable=True,\n",
        "    )\n",
        "    self.bias_ = self.add_weight(\n",
        "        name=\"bias_\",\n",
        "        shape=(units,),\n",
        "        initializer=\"zeros\",\n",
        "        trainable=True\n",
        "    )\n",
        "\n",
        "  def call(self, inputs):\n",
        "    return tf.matmul(inputs, self.weights_) + self.bias_\n",
        "\n",
        "  \"\"\"\n",
        "  def call(self, inputs):\n",
        "    return inputs @ self.weights_ + self.bias_\n",
        "  \"\"\"\n"
      ],
      "execution_count": 18,
      "outputs": []
    },
    {
      "cell_type": "markdown",
      "metadata": {
        "id": "oK-99ciOB6GF"
      },
      "source": [
        "> Creating the model using our custom `Dense` layer."
      ]
    },
    {
      "cell_type": "code",
      "metadata": {
        "id": "waxYBBniEQT3"
      },
      "source": [
        "class Net(keras.Model):\n",
        "  def __init__(self):\n",
        "    super().__init__()\n",
        "    self.dense2 = Dense(64, 784)\n",
        "    self.dense3 = Dense(10, 64)\n",
        "\n",
        "  def call(self, x):\n",
        "    x = keras.activations.relu(self.dense2(x))\n",
        "    return keras.activations.softmax(self.dense3(x))\n",
        "\n",
        "  def model(self):\n",
        "      x = keras.layers.Input((784, ))\n",
        "      return keras.Model(inputs=[x], outputs=self.call(x))"
      ],
      "execution_count": 21,
      "outputs": []
    },
    {
      "cell_type": "code",
      "metadata": {
        "colab": {
          "base_uri": "https://localhost:8080/"
        },
        "id": "FCN5iJVkB2Tz",
        "outputId": "aefcbd60-1195-4a58-c6d7-e9b435e5a223"
      },
      "source": [
        "model_3 = Net()\n",
        "\n",
        "model_3.compile(\n",
        "    loss=keras.losses.SparseCategoricalCrossentropy(from_logits=False),\n",
        "    optimizer=keras.optimizers.Adam(),\n",
        "    metrics=[\"accuracy\"],\n",
        ")\n",
        "model_3.fit(X_train_tensors, y_train_tensors, epochs=2, batch_size=64, validation_data=(X_test_tensors, y_test_tensors))\n",
        "model_3.model().summary()"
      ],
      "execution_count": 22,
      "outputs": [
        {
          "output_type": "stream",
          "text": [
            "Epoch 1/2\n",
            "938/938 [==============================] - 3s 3ms/step - loss: 0.4117 - accuracy: 0.8885 - val_loss: 0.2307 - val_accuracy: 0.9344\n",
            "Epoch 2/2\n",
            "938/938 [==============================] - 3s 3ms/step - loss: 0.2043 - accuracy: 0.9418 - val_loss: 0.1700 - val_accuracy: 0.9497\n",
            "Model: \"model_1\"\n",
            "_________________________________________________________________\n",
            "Layer (type)                 Output Shape              Param #   \n",
            "=================================================================\n",
            "input_2 (InputLayer)         [(None, 784)]             0         \n",
            "_________________________________________________________________\n",
            "dense_14 (Dense)             (None, 64)                50240     \n",
            "_________________________________________________________________\n",
            "tf.nn.relu_1 (TFOpLambda)    (None, 64)                0         \n",
            "_________________________________________________________________\n",
            "dense_15 (Dense)             (None, 10)                650       \n",
            "_________________________________________________________________\n",
            "tf.compat.v1.nn.softmax (TFO (None, 10)                0         \n",
            "=================================================================\n",
            "Total params: 50,890\n",
            "Trainable params: 50,890\n",
            "Non-trainable params: 0\n",
            "_________________________________________________________________\n"
          ],
          "name": "stdout"
        }
      ]
    },
    {
      "cell_type": "markdown",
      "metadata": {
        "id": "6XeStyy4TfZk"
      },
      "source": [
        "Observations: As we can see in the `Dense` layer we have passed units and outputs like :\n",
        "```python\n",
        "self.dense2 = Dense(64, 784)\n",
        "```\n",
        "\n",
        "Of with in a normal dense layer from keras we just need to pass `units` like:\n",
        "\n",
        "```python\n",
        " self.dense2 = Dense(64)\n",
        "```\n",
        "\n",
        "So to solve this we will implement the ``build`` method during the creation of our layer as follows:"
      ]
    },
    {
      "cell_type": "code",
      "metadata": {
        "id": "3R_IYFDOG-_X"
      },
      "source": [
        "class Dense(keras.layers.Layer):\n",
        "  def __init__(self, units):\n",
        "    super(Dense, self).__init__()\n",
        "    self.units = units\n",
        "\n",
        "  def build(self, input_shape):\n",
        "      self.weights_ = self.add_weight(\n",
        "            name=\"weights_\",\n",
        "            shape=(input_shape[-1], self.units),\n",
        "            initializer=\"random_normal\",\n",
        "            trainable=True,\n",
        "        )\n",
        "      self.bias_ = self.add_weight(\n",
        "          name=\"bias_\",\n",
        "          shape=(self.units,),\n",
        "          initializer=\"zeros\",\n",
        "          trainable=True\n",
        "      )\n",
        "\n",
        "  def call(self, inputs):\n",
        "    return inputs @ self.weights_ + self.bias_\n"
      ],
      "execution_count": 61,
      "outputs": []
    },
    {
      "cell_type": "markdown",
      "metadata": {
        "id": "G6eNoLshU5FO"
      },
      "source": [
        "> Trainning our `model` on the new  custom ``Dense`` layer."
      ]
    },
    {
      "cell_type": "code",
      "metadata": {
        "id": "r_t2R_hTU3bV"
      },
      "source": [
        "class Net(keras.Model):\n",
        "  def __init__(self):\n",
        "    super().__init__()\n",
        "    self.dense2 = Dense(64)\n",
        "    self.dense3 = Dense(10)\n",
        "\n",
        "  def call(self, x):\n",
        "    x = keras.activations.relu(self.dense2(x))\n",
        "    return keras.activations.softmax(self.dense3(x))\n",
        "\n",
        "  def model(self):\n",
        "      x = keras.layers.Input((784, ))\n",
        "      return keras.Model(inputs=[x], outputs=self.call(x))\n"
      ],
      "execution_count": 62,
      "outputs": []
    },
    {
      "cell_type": "code",
      "metadata": {
        "colab": {
          "base_uri": "https://localhost:8080/"
        },
        "id": "698EcvDfVOKo",
        "outputId": "5ccab255-e79b-42a4-bd1f-a88d894cc152"
      },
      "source": [
        "model_4 = Net()\n",
        "\n",
        "model_4.compile(\n",
        "    loss=keras.losses.SparseCategoricalCrossentropy(from_logits=True),\n",
        "    optimizer=keras.optimizers.Adam(),\n",
        "    metrics=[\"accuracy\"],\n",
        ")\n",
        "model_4.fit(X_train_tensors, y_train_tensors, epochs=2, batch_size=64, validation_data=(X_test_tensors, y_test_tensors))\n",
        "model_4.model().summary()"
      ],
      "execution_count": 63,
      "outputs": [
        {
          "output_type": "stream",
          "text": [
            "Epoch 1/2\n"
          ],
          "name": "stdout"
        },
        {
          "output_type": "stream",
          "text": [
            "/usr/local/lib/python3.7/dist-packages/tensorflow/python/keras/backend.py:4930: UserWarning: \"`sparse_categorical_crossentropy` received `from_logits=True`, but the `output` argument was produced by a sigmoid or softmax activation and thus does not represent logits. Was this intended?\"\n",
            "  '\"`sparse_categorical_crossentropy` received `from_logits=True`, but '\n"
          ],
          "name": "stderr"
        },
        {
          "output_type": "stream",
          "text": [
            "938/938 [==============================] - 3s 3ms/step - loss: 0.3980 - accuracy: 0.8949 - val_loss: 0.2136 - val_accuracy: 0.9373\n",
            "Epoch 2/2\n",
            "938/938 [==============================] - 3s 3ms/step - loss: 0.1867 - accuracy: 0.9464 - val_loss: 0.1521 - val_accuracy: 0.9541\n",
            "Model: \"model_5\"\n",
            "_________________________________________________________________\n",
            "Layer (type)                 Output Shape              Param #   \n",
            "=================================================================\n",
            "input_6 (InputLayer)         [(None, 784)]             0         \n",
            "_________________________________________________________________\n",
            "dense_44 (Dense)             (None, 64)                50240     \n",
            "_________________________________________________________________\n",
            "tf.nn.relu_5 (TFOpLambda)    (None, 64)                0         \n",
            "_________________________________________________________________\n",
            "dense_45 (Dense)             (None, 10)                650       \n",
            "_________________________________________________________________\n",
            "tf.compat.v1.nn.softmax_4 (T (None, 10)                0         \n",
            "=================================================================\n",
            "Total params: 50,890\n",
            "Trainable params: 50,890\n",
            "Non-trainable params: 0\n",
            "_________________________________________________________________\n"
          ],
          "name": "stdout"
        }
      ]
    },
    {
      "cell_type": "markdown",
      "metadata": {
        "id": "abZ6lyH9VTTL"
      },
      "source": [
        "#### Bonus: Creating a `RelU` activation function."
      ]
    },
    {
      "cell_type": "code",
      "metadata": {
        "id": "JHArsFNGYxtg"
      },
      "source": [
        "class ReLU:\n",
        "  def __call__(self, x):\n",
        "    return tf.math.maximum(x, 0)\n",
        "\n",
        "#### OR -------------\n",
        "\n",
        "class ReLU2(keras.layers.Layer):\n",
        "  def __init__self():\n",
        "    super().__init__()\n",
        "\n",
        "  def call(self, x):\n",
        "    return tf.maximum(x, 0)\n",
        "   "
      ],
      "execution_count": 77,
      "outputs": []
    },
    {
      "cell_type": "markdown",
      "metadata": {
        "id": "tzJv7Kx8ZIYO"
      },
      "source": [
        "> Trainning the model using custom `Relu`"
      ]
    },
    {
      "cell_type": "code",
      "metadata": {
        "id": "gAWc9ZwVZQYP"
      },
      "source": [
        "class Net(keras.Model):\n",
        "  def __init__(self):\n",
        "    super().__init__()\n",
        "    self.dense2 = Dense(64)\n",
        "    self.dense3 = Dense(10)\n",
        "    self.relu = ReLU2() # or self.relu = ReLU()\n",
        "\n",
        "  def call(self, x):\n",
        "    x = self.relu(self.dense2(x))\n",
        "    return keras.activations.softmax(self.dense3(x))\n",
        "\n",
        "  def model(self):\n",
        "      x = keras.layers.Input((784, ))\n",
        "      return keras.Model(inputs=[x], outputs=self.call(x))\n"
      ],
      "execution_count": 78,
      "outputs": []
    },
    {
      "cell_type": "code",
      "metadata": {
        "colab": {
          "base_uri": "https://localhost:8080/"
        },
        "id": "F6BiW_4mZUGC",
        "outputId": "9728f082-b36d-453e-8562-07ca8d517b4d"
      },
      "source": [
        "model_5 = Net()\n",
        "\n",
        "model_5.compile(\n",
        "    loss=keras.losses.SparseCategoricalCrossentropy(from_logits=True),\n",
        "    optimizer=keras.optimizers.Adam(),\n",
        "    metrics=[\"accuracy\"],\n",
        ")\n",
        "model_5.fit(X_train_tensors, y_train_tensors, epochs=2, batch_size=64, validation_data=(X_test_tensors, y_test_tensors))\n",
        "model_5.model().summary()"
      ],
      "execution_count": 79,
      "outputs": [
        {
          "output_type": "stream",
          "text": [
            "Epoch 1/2\n"
          ],
          "name": "stdout"
        },
        {
          "output_type": "stream",
          "text": [
            "/usr/local/lib/python3.7/dist-packages/tensorflow/python/keras/backend.py:4930: UserWarning: \"`sparse_categorical_crossentropy` received `from_logits=True`, but the `output` argument was produced by a sigmoid or softmax activation and thus does not represent logits. Was this intended?\"\n",
            "  '\"`sparse_categorical_crossentropy` received `from_logits=True`, but '\n"
          ],
          "name": "stderr"
        },
        {
          "output_type": "stream",
          "text": [
            "938/938 [==============================] - 3s 3ms/step - loss: 0.4102 - accuracy: 0.8921 - val_loss: 0.2340 - val_accuracy: 0.9327\n",
            "Epoch 2/2\n",
            "938/938 [==============================] - 3s 3ms/step - loss: 0.2004 - accuracy: 0.9430 - val_loss: 0.1677 - val_accuracy: 0.9510\n",
            "Model: \"model_7\"\n",
            "_________________________________________________________________\n",
            "Layer (type)                 Output Shape              Param #   \n",
            "=================================================================\n",
            "input_8 (InputLayer)         [(None, 784)]             0         \n",
            "_________________________________________________________________\n",
            "dense_52 (Dense)             (None, 64)                50240     \n",
            "_________________________________________________________________\n",
            "re_l_u2 (ReLU2)              (None, 64)                0         \n",
            "_________________________________________________________________\n",
            "dense_53 (Dense)             (None, 10)                650       \n",
            "_________________________________________________________________\n",
            "tf.compat.v1.nn.softmax_6 (T (None, 10)                0         \n",
            "=================================================================\n",
            "Total params: 50,890\n",
            "Trainable params: 50,890\n",
            "Non-trainable params: 0\n",
            "_________________________________________________________________\n"
          ],
          "name": "stdout"
        }
      ]
    },
    {
      "cell_type": "code",
      "metadata": {
        "id": "s0GaYkJNZgkK"
      },
      "source": [
        ""
      ],
      "execution_count": null,
      "outputs": []
    }
  ]
}