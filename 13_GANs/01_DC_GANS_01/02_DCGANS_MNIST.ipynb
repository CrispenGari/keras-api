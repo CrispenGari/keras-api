{
 "cells": [
  {
   "cell_type": "markdown",
   "metadata": {
    "id": "9eq7vSkIHirZ"
   },
   "source": [
    "### Deep Convolutional Generative Adversarial Network. `MNIST` dataset.\n",
    "\n",
    "In this notebook we are going to generate fake digits using the `MNIST` dataset. We will be going throght a tensorflow tutorial found [here](https://www.tensorflow.org/tutorials/generative/dcgan)\n",
    "\n",
    "### Imports"
   ]
  },
  {
   "cell_type": "code",
   "execution_count": 1,
   "metadata": {
    "id": "8fQSKoR_HeTU"
   },
   "outputs": [],
   "source": [
    "import matplotlib.pyplot as plt\n",
    "import numpy as np\n",
    "import tensorflow as tf\n",
    "from tensorflow import keras\n",
    "from tensorflow.keras import datasets"
   ]
  },
  {
   "cell_type": "markdown",
   "metadata": {
    "id": "NBfi7RQEItKY"
   },
   "source": [
    "### Preparing and Loading the dataset"
   ]
  },
  {
   "cell_type": "code",
   "execution_count": 2,
   "metadata": {
    "id": "mkelMWn7IiMF"
   },
   "outputs": [],
   "source": [
    "(train_images, _), (_, _) = datasets.mnist.load_data()"
   ]
  },
  {
   "cell_type": "markdown",
   "metadata": {
    "id": "MNW2AhaPI3XS"
   },
   "source": [
    "The reason why im using `_` is because im not interested in the train_labels, test_images as well as test_labels"
   ]
  },
  {
   "cell_type": "code",
   "execution_count": 3,
   "metadata": {
    "colab": {
     "base_uri": "https://localhost:8080/"
    },
    "id": "zBHlgM-GI2dR",
    "outputId": "cf0e4d0c-beb0-4789-ed32-9dd0cb38fe6d"
   },
   "outputs": [
    {
     "name": "stdout",
     "output_type": "stream",
     "text": [
      "\n"
     ]
    }
   ],
   "source": [
    "train_images = train_images.reshape(train_images.shape[0], 28, 28, 1).astype('float32')\n",
    "\"\"\"\n",
    "shape of train images is now = (60000, 28, 28, 1)\n",
    "\"\"\"\n",
    "print()"
   ]
  },
  {
   "cell_type": "code",
   "execution_count": 4,
   "metadata": {
    "id": "jwspKj0XJms_"
   },
   "outputs": [],
   "source": [
    "# Normalize the images to [-1, 1]\n",
    "def normalize(image):\n",
    "  return (image - 127.5)/127.5\n",
    "train_images = np.array(list(map(normalize, train_images)))"
   ]
  },
  {
   "cell_type": "code",
   "execution_count": 5,
   "metadata": {
    "colab": {
     "base_uri": "https://localhost:8080/"
    },
    "id": "oCAj4IRVKBes",
    "outputId": "4f66ca2b-d6df-432b-dffa-e469d5e52ed1"
   },
   "outputs": [
    {
     "data": {
      "text/plain": [
       "(60000, 28, 28, 1)"
      ]
     },
     "execution_count": 5,
     "metadata": {
      "tags": []
     },
     "output_type": "execute_result"
    }
   ],
   "source": [
    "train_images.shape"
   ]
  },
  {
   "cell_type": "code",
   "execution_count": 6,
   "metadata": {
    "id": "ylgexGc_KDlt"
   },
   "outputs": [],
   "source": [
    "BUFFER_SIZE = 60000\n",
    "BATCH_SIZE = 256"
   ]
  },
  {
   "cell_type": "code",
   "execution_count": 7,
   "metadata": {
    "id": "ChP6Q_BjKXcV"
   },
   "outputs": [],
   "source": [
    "train_ds = tf.data.Dataset.from_tensor_slices(train_images).shuffle(BUFFER_SIZE).batch(BATCH_SIZE)"
   ]
  },
  {
   "cell_type": "markdown",
   "metadata": {
    "id": "pTLWX50lK1uQ"
   },
   "source": [
    "### Creating models.\n",
    "1. Discriminator\n",
    "2. Generator"
   ]
  },
  {
   "cell_type": "markdown",
   "metadata": {
    "id": "jpC00UNcLZho"
   },
   "source": [
    "### Discriminator Model.\n",
    "To detemine weather the image is fake or real."
   ]
  },
  {
   "cell_type": "code",
   "execution_count": 8,
   "metadata": {
    "colab": {
     "base_uri": "https://localhost:8080/"
    },
    "id": "-zs01MLyKqo_",
    "outputId": "1c89fa7c-1f65-4bdf-d2a8-cc96d62cc025"
   },
   "outputs": [
    {
     "name": "stdout",
     "output_type": "stream",
     "text": [
      "Model: \"discriminator\"\n",
      "_________________________________________________________________\n",
      "Layer (type)                 Output Shape              Param #   \n",
      "=================================================================\n",
      "conv2d (Conv2D)              (None, 14, 14, 64)        1664      \n",
      "_________________________________________________________________\n",
      "leaky_re_lu (LeakyReLU)      (None, 14, 14, 64)        0         \n",
      "_________________________________________________________________\n",
      "dropout (Dropout)            (None, 14, 14, 64)        0         \n",
      "_________________________________________________________________\n",
      "conv2d_1 (Conv2D)            (None, 7, 7, 128)         204928    \n",
      "_________________________________________________________________\n",
      "leaky_re_lu_1 (LeakyReLU)    (None, 7, 7, 128)         0         \n",
      "_________________________________________________________________\n",
      "dropout_1 (Dropout)          (None, 7, 7, 128)         0         \n",
      "_________________________________________________________________\n",
      "flatten (Flatten)            (None, 6272)              0         \n",
      "_________________________________________________________________\n",
      "dense (Dense)                (None, 1)                 6273      \n",
      "=================================================================\n",
      "Total params: 212,865\n",
      "Trainable params: 212,865\n",
      "Non-trainable params: 0\n",
      "_________________________________________________________________\n"
     ]
    }
   ],
   "source": [
    "discriminator = keras.Sequential([\n",
    "       keras.layers.Conv2D(64, kernel_size=(5, 5), strides=(2, 2), padding='same',\n",
    "                                     input_shape=[28, 28, 1]), \n",
    "       keras.layers.LeakyReLU(),\n",
    "       keras.layers.Dropout(0.3),\n",
    "       keras.layers.Conv2D( 128, kernel_size=(5, 5), strides=(2, 2), padding='same',\n",
    "                                     input_shape=[28, 28, 1]),\n",
    "       keras.layers.LeakyReLU(),\n",
    "       keras.layers.Dropout(.3),\n",
    "       keras.layers.Flatten(),\n",
    "       keras.layers.Dense(1)\n",
    "], name=\"discriminator\")\n",
    "discriminator.summary()"
   ]
  },
  {
   "cell_type": "markdown",
   "metadata": {
    "id": "MlnlIBzfMOE3"
   },
   "source": [
    "### Generator model.\n",
    "The model that generates fake images trying to fool the discriminator model."
   ]
  },
  {
   "cell_type": "code",
   "execution_count": 9,
   "metadata": {
    "colab": {
     "base_uri": "https://localhost:8080/"
    },
    "id": "eKTE3jqWL9Tx",
    "outputId": "e691a5b5-e57d-4733-bf1c-853e74454bda"
   },
   "outputs": [
    {
     "name": "stdout",
     "output_type": "stream",
     "text": [
      "Model: \"generator\"\n",
      "_________________________________________________________________\n",
      "Layer (type)                 Output Shape              Param #   \n",
      "=================================================================\n",
      "dense_1 (Dense)              (None, 12544)             1254400   \n",
      "_________________________________________________________________\n",
      "batch_normalization (BatchNo (None, 12544)             50176     \n",
      "_________________________________________________________________\n",
      "leaky_re_lu_2 (LeakyReLU)    (None, 12544)             0         \n",
      "_________________________________________________________________\n",
      "reshape (Reshape)            (None, 7, 7, 256)         0         \n",
      "_________________________________________________________________\n",
      "conv2d_transpose (Conv2DTran (None, 7, 7, 128)         819200    \n",
      "_________________________________________________________________\n",
      "batch_normalization_1 (Batch (None, 7, 7, 128)         512       \n",
      "_________________________________________________________________\n",
      "leaky_re_lu_3 (LeakyReLU)    (None, 7, 7, 128)         0         \n",
      "_________________________________________________________________\n",
      "conv2d_transpose_1 (Conv2DTr (None, 14, 14, 64)        204800    \n",
      "_________________________________________________________________\n",
      "batch_normalization_2 (Batch (None, 14, 14, 64)        256       \n",
      "_________________________________________________________________\n",
      "leaky_re_lu_4 (LeakyReLU)    (None, 14, 14, 64)        0         \n",
      "_________________________________________________________________\n",
      "conv2d_transpose_2 (Conv2DTr (None, 28, 28, 1)         1600      \n",
      "=================================================================\n",
      "Total params: 2,330,944\n",
      "Trainable params: 2,305,472\n",
      "Non-trainable params: 25,472\n",
      "_________________________________________________________________\n"
     ]
    }
   ],
   "source": [
    "latent_dim = 256\n",
    "\n",
    "generator = keras.Sequential([\n",
    "    keras.layers.Dense(7*7*latent_dim, use_bias=False, input_shape=(100, )),\n",
    "    keras.layers.BatchNormalization(),\n",
    "    keras.layers.LeakyReLU(),\n",
    "    keras.layers.Reshape((7, 7, latent_dim)),\n",
    "    keras.layers.Conv2DTranspose(128, (5, 5), strides=(1, 1), padding='same', use_bias=False),\n",
    "    keras.layers.BatchNormalization(),\n",
    "    keras.layers.LeakyReLU(),\n",
    "    keras.layers.Conv2DTranspose(64, (5, 5), strides=(2, 2), padding='same', use_bias=False),\n",
    "    keras.layers.BatchNormalization(),\n",
    "    keras.layers.LeakyReLU(),\n",
    "    keras.layers.Conv2DTranspose(1, (5, 5), strides=(2, 2), padding='same', use_bias=False),\n",
    "], name=\"generator\")\n",
    "\n",
    "generator.summary()"
   ]
  },
  {
   "cell_type": "markdown",
   "metadata": {
    "id": "DsxcI8IgOOUW"
   },
   "source": [
    "### Let's generate one fake image before trainning the model"
   ]
  },
  {
   "cell_type": "code",
   "execution_count": 10,
   "metadata": {
    "colab": {
     "base_uri": "https://localhost:8080/",
     "height": 265
    },
    "id": "9KXCSryNOKJm",
    "outputId": "4fd659cb-2037-431c-c916-80fa2cd599f2"
   },
   "outputs": [
    {
     "data": {
      "image/png": "[encoded data removed]",
      "text/plain": [
       "<Figure size 432x288 with 1 Axes>"
      ]
     },
     "metadata": {
      "needs_background": "light",
      "tags": []
     },
     "output_type": "display_data"
    }
   ],
   "source": [
    "image_array = generator(tf.random.normal(shape=(1, 100)))\n",
    "plt.imshow(image_array[0, :, :, 0], cmap=\"gray\")\n",
    "plt.show()"
   ]
  },
  {
   "cell_type": "markdown",
   "metadata": {
    "id": "-w8N55CIPFho"
   },
   "source": [
    "### Optimizers and Losses."
   ]
  },
  {
   "cell_type": "markdown",
   "metadata": {
    "id": "vBuC_xFzPo9X"
   },
   "source": [
    "> The loss function will work for both models."
   ]
  },
  {
   "cell_type": "code",
   "execution_count": 11,
   "metadata": {
    "id": "dPROFjK4OgqN"
   },
   "outputs": [],
   "source": [
    "criterion = keras.losses.BinaryCrossentropy(from_logits=True)"
   ]
  },
  {
   "cell_type": "markdown",
   "metadata": {
    "id": "6TlrHtR_P2Qk"
   },
   "source": [
    "### Discriminator loss\n",
    "This method quantifies how well the `discriminator` is able to distinguish `real` images from `fakes`. It compares the discriminator's `predictions` on real images to an array of `1s`, and the `discriminator's` predictions on fake (generated) images to an array of `0s`."
   ]
  },
  {
   "cell_type": "code",
   "execution_count": 12,
   "metadata": {
    "id": "22ttyy7WPuLa"
   },
   "outputs": [],
   "source": [
    "def discriminator_loss(real_output, fake_output):\n",
    "  real_loss = criterion(tf.ones_like(real_output), real_output)\n",
    "  fake_loss = criterion(tf.zeros_like(fake_output), fake_output)\n",
    "  return real_loss + fake_loss"
   ]
  },
  {
   "cell_type": "markdown",
   "metadata": {
    "id": "DBsQBNtbQvy5"
   },
   "source": [
    "### Generator loss\n",
    "The `generator's` loss quantifies how well it was able to trick the `discriminator`. Intuitively, if the generator is performing well, the discriminator will classify the fake images as real (or 1). \n",
    "\n",
    "Here, compare the discriminators decisions on the generated images to an array of `1s`."
   ]
  },
  {
   "cell_type": "code",
   "execution_count": 13,
   "metadata": {
    "id": "RYLH4VipQ6x7"
   },
   "outputs": [],
   "source": [
    "def generator_loss(fake_output):\n",
    "  return criterion(tf.ones_like(fake_output), fake_output)"
   ]
  },
  {
   "cell_type": "markdown",
   "metadata": {
    "id": "KRsv5CjCRSN-"
   },
   "source": [
    "### Creating optimizers.\n",
    "We are going to create 2 serpate optimizers."
   ]
  },
  {
   "cell_type": "code",
   "execution_count": 14,
   "metadata": {
    "id": "DG3F6-CkRRoW"
   },
   "outputs": [],
   "source": [
    "discriminator_optimizer =  generator_optimizer = keras.optimizers.Adam(1e-4)"
   ]
  },
  {
   "cell_type": "markdown",
   "metadata": {
    "id": "uwfCRIw9RzVI"
   },
   "source": [
    "### Define the training loop.\n",
    "\n",
    "The training loop begins with generator receiving a random seed as input. That seed is used to produce an image. The discriminator is then used to classify real images (drawn from the training set) and fakes images (produced by the generator). The loss is calculated for each of these models, and the gradients are used to update the generator and discriminator."
   ]
  },
  {
   "cell_type": "code",
   "execution_count": 15,
   "metadata": {
    "id": "VSF82SF1Rewq"
   },
   "outputs": [],
   "source": [
    "EPOCHS = 50\n",
    "noise_dim = 100\n",
    "num_examples_to_generate = 16\n",
    "seed = tf.random.normal([num_examples_to_generate, noise_dim])"
   ]
  },
  {
   "cell_type": "code",
   "execution_count": 16,
   "metadata": {
    "id": "yy7l1kkjRhls"
   },
   "outputs": [],
   "source": [
    "@tf.function()\n",
    "def train_step(images):\n",
    "  noise = tf.random.normal([BATCH_SIZE, noise_dim])\n",
    "\n",
    "  with tf.GradientTape() as gen_tape, tf.GradientTape() as disc_tape:\n",
    "    generated_images = generator(noise, training=True)\n",
    "\n",
    "    real_output = discriminator(images, training= True)\n",
    "    fake_output = discriminator(generated_images, training=True)\n",
    "\n",
    "    gen_loss = generator_loss(fake_output)\n",
    "    disc_loss = discriminator_loss(real_output, fake_output)\n",
    "\n",
    "  gradients_of_gen = gen_tape.gradient(gen_loss, generator.trainable_variables)\n",
    "  gradients_of_disc = disc_tape.gradient(disc_loss, discriminator.trainable_variables)\n",
    "\n",
    "  generator_optimizer.apply_gradients(zip(gradients_of_gen, generator.trainable_variables))\n",
    "  discriminator_optimizer.apply_gradients(zip(gradients_of_disc, discriminator.trainable_variables))"
   ]
  },
  {
   "cell_type": "markdown",
   "metadata": {
    "id": "NMUsCOXtYF4t"
   },
   "source": [
    "### Training loop."
   ]
  },
  {
   "cell_type": "code",
   "execution_count": 17,
   "metadata": {
    "id": "aw67sSvZYFX5"
   },
   "outputs": [],
   "source": [
    "def train(dataset, epochs):\n",
    "  for epoch in range(epochs):\n",
    "    for image_batch in dataset:\n",
    "      train_step(image_batch)\n",
    "    if epoch + 1 % 25 == 0:\n",
    "      predictions = generator(seed, training=False)\n",
    "      fig = plt.figure(figsize=(3, 4))\n",
    "      for i in range(predictions.shape[0]):\n",
    "        plt.subplot(10, 10, i+1)\n",
    "        plt.imshow(predictions[i, :, :, 0] * 127.5 + 127.5, cmap='gray')\n",
    "        plt.axis('off')\n",
    "      plt.savefig('image_at_epoch_{:04d}.png'.format(epoch))\n",
    "\n",
    "train(train_ds, 50)"
   ]
  },
  {
   "cell_type": "markdown",
   "metadata": {
    "id": "fLCZVgLEgvKy"
   },
   "source": [
    "### Generating images."
   ]
  },
  {
   "cell_type": "code",
   "execution_count": 18,
   "metadata": {
    "id": "Q9zLOiLxguvG"
   },
   "outputs": [],
   "source": [
    "prediction = generator(seed)"
   ]
  },
  {
   "cell_type": "code",
   "execution_count": 19,
   "metadata": {
    "colab": {
     "base_uri": "https://localhost:8080/"
    },
    "id": "b6mqGQ6Bg2jK",
    "outputId": "13328a37-ed0c-4960-96dc-ccd24a8e62d7"
   },
   "outputs": [
    {
     "data": {
      "text/plain": [
       "TensorShape([16, 28, 28, 1])"
      ]
     },
     "execution_count": 19,
     "metadata": {
      "tags": []
     },
     "output_type": "execute_result"
    }
   ],
   "source": [
    "prediction.shape"
   ]
  },
  {
   "cell_type": "code",
   "execution_count": 24,
   "metadata": {
    "colab": {
     "base_uri": "https://localhost:8080/",
     "height": 282
    },
    "id": "vuvgrCCBg7yb",
    "outputId": "57441d08-defa-4b97-d0c0-88e04f7caf6c"
   },
   "outputs": [
    {
     "data": {
      "text/plain": [
       "<matplotlib.image.AxesImage at 0x7ff9e3b2c350>"
      ]
     },
     "execution_count": 24,
     "metadata": {
      "tags": []
     },
     "output_type": "execute_result"
    },
    {
     "data": {
      "image/png": "[encoded data removed]",
      "text/plain": [
       "<Figure size 432x288 with 1 Axes>"
      ]
     },
     "metadata": {
      "needs_background": "light",
      "tags": []
     },
     "output_type": "display_data"
    }
   ],
   "source": [
    "plt.imshow(prediction[2, :, :, 0] * 127.5 + 127.5, cmap=\"gray\")"
   ]
  },
  {
   "cell_type": "markdown",
   "metadata": {
    "id": "I12xpf69u8P5"
   },
   "source": [
    " So if we train this model for longer we will be able to get a resanable generated image."
   ]
  }
 ],
 "metadata": {
  "accelerator": "GPU",
  "colab": {
   "collapsed_sections": [],
   "name": "02_DCGANS_MNIST.ipynb",
   "provenance": []
  },
  "kernelspec": {
   "display_name": "Python 3",
   "language": "python",
   "name": "python3"
  },
  "language_info": {
   "codemirror_mode": {
    "name": "ipython",
    "version": 3
   },
   "file_extension": ".py",
   "mimetype": "text/x-python",
   "name": "python",
   "nbconvert_exporter": "python",
   "pygments_lexer": "ipython3",
   "version": "3.8.5"
  }
 },
 "nbformat": 4,
 "nbformat_minor": 1
}
