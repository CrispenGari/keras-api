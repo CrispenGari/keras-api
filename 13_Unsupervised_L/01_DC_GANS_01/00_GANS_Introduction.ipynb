{
  "nbformat": 4,
  "nbformat_minor": 0,
  "metadata": {
    "colab": {
      "name": "00_GANS_Introduction.ipynb",
      "provenance": [],
      "toc_visible": true
    },
    "kernelspec": {
      "name": "python3",
      "display_name": "Python 3"
    },
    "language_info": {
      "name": "python"
    },
    "accelerator": "GPU"
  },
  "cells": [
    {
      "cell_type": "markdown",
      "metadata": {
        "id": "kVLp_RBk1yod"
      },
      "source": [
        "### Generative Advesarial Network (GAN)\n",
        "\n",
        "A generative adversarial network `(GAN)` is a class of machine learning systems invented by Ian Goodfellow in 2014. [Goodfellow's paper](https://papers.nips.cc/paper/2014/file/5ca3e9b122f61f8f06494c97b1afccf3-Paper.pdf).\n",
        "\n",
        "A GAN is called a generative model because it generates new data. The overall process of a GAN is given by the following diagram.\n",
        "\n",
        "<p align=\"center\">\n",
        "<img src=\"https://camo.githubusercontent.com/f6551537b3955931e35dd1b068f1ef1f1727008a/68747470733a2f2f7261772e67697468756275736572636f6e74656e742e636f6d2f6a656666686561746f6e2f7438315f3535385f646565705f6c6561726e696e672f6d61737465722f696d616765732f67616e2d312e706e67\"/>\n",
        "</p>"
      ]
    },
    {
      "cell_type": "code",
      "metadata": {
        "id": "Wpx4RRlf1qSa"
      },
      "source": [
        ""
      ],
      "execution_count": null,
      "outputs": []
    }
  ]
}