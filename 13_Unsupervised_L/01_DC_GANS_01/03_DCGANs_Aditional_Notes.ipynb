{
  "nbformat": 4,
  "nbformat_minor": 0,
  "metadata": {
    "colab": {
      "name": "04_DCGANs_Aditional_Notes.ipynb",
      "provenance": [],
      "collapsed_sections": [],
      "toc_visible": true
    },
    "kernelspec": {
      "name": "python3",
      "display_name": "Python 3"
    },
    "language_info": {
      "name": "python"
    }
  },
  "cells": [
    {
      "cell_type": "code",
      "metadata": {
        "id": "BIspo8EVDAYy"
      },
      "source": [
        ""
      ],
      "execution_count": null,
      "outputs": []
    },
    {
      "cell_type": "markdown",
      "metadata": {
        "id": "xl4GGFJcDB8v"
      },
      "source": [
        "### DCGANs\n",
        "**G** - Generator Model.\n",
        "\n",
        "**D** - Discriminator Model.\n",
        "\n",
        "\n",
        "### Problem solved by DCGANs.\n",
        "\n",
        "* **D** is created so that it basically solves a supervised image classification task. (for this case dog or no dog)\n",
        "* The filters learned by the **GAN** can be utilized to draw specific objects in the generated image.\n",
        "* **G** contains vectorized properties that can learn very complex semantic representations of objects.\n",
        "\n",
        "\n",
        "### Guidlines for creating a stable `DCGAN`\n",
        "\n",
        "1. Replace **Pooling** functions with **Strided** convolutions. (this allows *D* to learn its own spatial downsampling and *G* its respective upsampling without adding any bias to the model)\n",
        "2. **Use BatchNorm** (it stabilizes learning by normalizing the input to each unit to have zero mean and unit variance, this also helps to create more robust deep models without having the gradients diverging)\n",
        "3. Avoid using **Fully-Connected** hidden layers _(not output)_. (example for this is global average pooling which seems to hurt convergence speed)\n",
        "4. For **G** — use **ReLU** activations and **Tanh** for the output. (tanh is generally the more preffered activation when you have an image as an output as it has a range of [-1, 1])\n",
        "5. For **D** — use **LeakyReLU** activations (and a **sigmoid** function for the output probabilites). (this is tested empirically and seems to work well for modelling to a higher resolution)\n",
        "\n",
        "### Reference\n",
        "* [Tutorial](https://towardsdatascience.com/dcgans-generating-dog-images-with-tensorflow-and-keras-fb51a1071432)\n",
        "\n",
        "\n",
        "\n",
        "\n"
      ]
    },
    {
      "cell_type": "code",
      "metadata": {
        "id": "GGaZDIBJIB9W"
      },
      "source": [
        "S"
      ],
      "execution_count": null,
      "outputs": []
    }
  ]
}