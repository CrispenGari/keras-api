{
  "nbformat": 4,
  "nbformat_minor": 0,
  "metadata": {
    "colab": {
      "name": "05_MNIST_GAN_Improved.ipynb",
      "provenance": [],
      "collapsed_sections": []
    },
    "kernelspec": {
      "name": "python3",
      "display_name": "Python 3"
    },
    "language_info": {
      "name": "python"
    },
    "accelerator": "GPU"
  },
  "cells": [
    {
      "cell_type": "markdown",
      "metadata": {
        "id": "SuS9rDkUTElD"
      },
      "source": [
        "### DGAN - `MNIST` dataset\n",
        "\n",
        "In this notebook we are going to create a `DCGAN` model thatwill be able to generate mnist digit from random `latent_space` vector given.\n",
        "\n",
        "### Imports"
      ]
    },
    {
      "cell_type": "code",
      "metadata": {
        "id": "qjuLMniP7bPv"
      },
      "source": [
        "import tensorflow as tf\n",
        "from tensorflow import keras\n",
        "import numpy as np\n",
        "from tensorflow.keras import datasets\n",
        "import os\n",
        "import matplotlib.pyplot as plt"
      ],
      "execution_count": 1,
      "outputs": []
    },
    {
      "cell_type": "markdown",
      "metadata": {
        "id": "xqJ2q4C5Tj4b"
      },
      "source": [
        "### Loading the images\n",
        "* Since this is unsupervised learning we are only interested in train images with no labels."
      ]
    },
    {
      "cell_type": "code",
      "metadata": {
        "colab": {
          "base_uri": "https://localhost:8080/"
        },
        "id": "4UOjmXnc78we",
        "outputId": "802f1813-360e-4c82-944c-47142e50c2f4"
      },
      "source": [
        "(train_images, _), test_example = datasets.mnist.load_data()"
      ],
      "execution_count": 2,
      "outputs": [
        {
          "output_type": "stream",
          "text": [
            "Downloading data from https://storage.googleapis.com/tensorflow/tf-keras-datasets/mnist.npz\n",
            "11493376/11490434 [==============================] - 0s 0us/step\n"
          ],
          "name": "stdout"
        }
      ]
    },
    {
      "cell_type": "markdown",
      "metadata": {
        "id": "wxbqAahHTyNf"
      },
      "source": [
        "### Displaying one example in the train examples."
      ]
    },
    {
      "cell_type": "code",
      "metadata": {
        "colab": {
          "base_uri": "https://localhost:8080/",
          "height": 282
        },
        "id": "FGQ-j3J078KX",
        "outputId": "b9056c34-4f86-45d3-dec2-a0c3cbce35c3"
      },
      "source": [
        "plt.imshow(train_images[0])"
      ],
      "execution_count": 3,
      "outputs": [
        {
          "output_type": "execute_result",
          "data": {
            "text/plain": [
              "<matplotlib.image.AxesImage at 0x7fd9bcd63210>"
            ]
          },
          "metadata": {
            "tags": []
          },
          "execution_count": 3
        },
        {
          "output_type": "display_data",
          "data": {
            "image/png": "[encoded data removed]",
            "text/plain": [
              "<Figure size 432x288 with 1 Axes>"
            ]
          },
          "metadata": {
            "tags": [],
            "needs_background": "light"
          }
        }
      ]
    },
    {
      "cell_type": "markdown",
      "metadata": {
        "id": "gzuHZjkWT4GP"
      },
      "source": [
        "### Changing the datatype of each `pixel` to be of type `float32`."
      ]
    },
    {
      "cell_type": "code",
      "metadata": {
        "id": "XjeGN84S8U7r"
      },
      "source": [
        "train_images = train_images.astype('float32') "
      ],
      "execution_count": 4,
      "outputs": []
    },
    {
      "cell_type": "markdown",
      "metadata": {
        "id": "_WtbI4EqUApy"
      },
      "source": [
        "### Normailizing images.\n",
        "* reshape images to have an extra dim.\n",
        "* scaling pixels to be between 0 and 1."
      ]
    },
    {
      "cell_type": "code",
      "metadata": {
        "id": "hdK60nqZ_i0u"
      },
      "source": [
        "def normalize(image):\n",
        "  image = tf.reshape(image, (28, 28, 1))\n",
        "  return image/255"
      ],
      "execution_count": 5,
      "outputs": []
    },
    {
      "cell_type": "markdown",
      "metadata": {
        "id": "rEBK2trhUQ5Q"
      },
      "source": [
        "### Creating a dataset."
      ]
    },
    {
      "cell_type": "code",
      "metadata": {
        "id": "NlCnxb0Z8d5y"
      },
      "source": [
        "train_ds = tf.data.Dataset.from_tensor_slices(train_images).map(normalize).batch(128).shuffle(6000)"
      ],
      "execution_count": 6,
      "outputs": []
    },
    {
      "cell_type": "markdown",
      "metadata": {
        "id": "44UCOB61UT06"
      },
      "source": [
        "### Displaying a single Example."
      ]
    },
    {
      "cell_type": "code",
      "metadata": {
        "colab": {
          "base_uri": "https://localhost:8080/",
          "height": 248
        },
        "id": "oU_H_JGz8fTr",
        "outputId": "b2d197a3-493c-47cb-e389-52b99f3c25d6"
      },
      "source": [
        "for x in train_ds:\n",
        "    plt.axis(\"off\")\n",
        "    plt.imshow(x[0, :, :, 0], cmap=\"gray\")\n",
        "    break"
      ],
      "execution_count": 7,
      "outputs": [
        {
          "output_type": "display_data",
          "data": {
            "image/png": "[encoded data removed]",
            "text/plain": [
              "<Figure size 432x288 with 1 Axes>"
            ]
          },
          "metadata": {
            "tags": [],
            "needs_background": "light"
          }
        }
      ]
    },
    {
      "cell_type": "code",
      "metadata": {
        "colab": {
          "base_uri": "https://localhost:8080/"
        },
        "id": "XulI9DVJ8pT-",
        "outputId": "01e391a6-8a62-4918-ca5f-24821cb612a2"
      },
      "source": [
        "x.shape"
      ],
      "execution_count": 8,
      "outputs": [
        {
          "output_type": "execute_result",
          "data": {
            "text/plain": [
              "TensorShape([128, 28, 28, 1])"
            ]
          },
          "metadata": {
            "tags": []
          },
          "execution_count": 8
        }
      ]
    },
    {
      "cell_type": "markdown",
      "metadata": {
        "id": "HuUReUDsBQ81"
      },
      "source": [
        "### Discriminator"
      ]
    },
    {
      "cell_type": "code",
      "metadata": {
        "colab": {
          "base_uri": "https://localhost:8080/"
        },
        "id": "m4H0gT0lBT9c",
        "outputId": "805038d1-4d60-4c89-e05f-53ef1e75b92a"
      },
      "source": [
        "discriminator = keras.Sequential([\n",
        "    keras.layers.Input(shape=(28, 28, 1)),\n",
        "    keras.layers.Conv2D(64, kernel_size=3, padding=\"same\", strides=(2, 2)),\n",
        "    keras.layers.LeakyReLU(),\n",
        "    keras.layers.BatchNormalization(),\n",
        "    keras.layers.Conv2D(256, kernel_size=3, padding=\"same\", strides=(2, 2)),\n",
        "    keras.layers.LeakyReLU(),\n",
        "    keras.layers.BatchNormalization(),\n",
        "    keras.layers.Conv2D(512, kernel_size=3, padding=\"same\", strides=(1, 1)),\n",
        "    keras.layers.LeakyReLU(),\n",
        "    keras.layers.BatchNormalization(),\n",
        "    keras.layers.Conv2D(64, kernel_size=3, padding=\"same\", strides=(2, 2)),\n",
        "    keras.layers.LeakyReLU(),\n",
        "    keras.layers.BatchNormalization(),\n",
        "    keras.layers.Flatten(),\n",
        "    keras.layers.Dropout(.2),\n",
        "    keras.layers.Dense(1, activation='sigmoid')\n",
        "], name=\"discriminator\")\n",
        "\n",
        "discriminator.summary()"
      ],
      "execution_count": 9,
      "outputs": [
        {
          "output_type": "stream",
          "text": [
            "WARNING:tensorflow:Please add `keras.layers.InputLayer` instead of `keras.Input` to Sequential model. `keras.Input` is intended to be used by Functional model.\n",
            "Model: \"discriminator\"\n",
            "_________________________________________________________________\n",
            "Layer (type)                 Output Shape              Param #   \n",
            "=================================================================\n",
            "conv2d (Conv2D)              (None, 14, 14, 64)        640       \n",
            "_________________________________________________________________\n",
            "leaky_re_lu (LeakyReLU)      (None, 14, 14, 64)        0         \n",
            "_________________________________________________________________\n",
            "batch_normalization (BatchNo (None, 14, 14, 64)        256       \n",
            "_________________________________________________________________\n",
            "conv2d_1 (Conv2D)            (None, 7, 7, 256)         147712    \n",
            "_________________________________________________________________\n",
            "leaky_re_lu_1 (LeakyReLU)    (None, 7, 7, 256)         0         \n",
            "_________________________________________________________________\n",
            "batch_normalization_1 (Batch (None, 7, 7, 256)         1024      \n",
            "_________________________________________________________________\n",
            "conv2d_2 (Conv2D)            (None, 7, 7, 512)         1180160   \n",
            "_________________________________________________________________\n",
            "leaky_re_lu_2 (LeakyReLU)    (None, 7, 7, 512)         0         \n",
            "_________________________________________________________________\n",
            "batch_normalization_2 (Batch (None, 7, 7, 512)         2048      \n",
            "_________________________________________________________________\n",
            "conv2d_3 (Conv2D)            (None, 4, 4, 64)          294976    \n",
            "_________________________________________________________________\n",
            "leaky_re_lu_3 (LeakyReLU)    (None, 4, 4, 64)          0         \n",
            "_________________________________________________________________\n",
            "batch_normalization_3 (Batch (None, 4, 4, 64)          256       \n",
            "_________________________________________________________________\n",
            "flatten (Flatten)            (None, 1024)              0         \n",
            "_________________________________________________________________\n",
            "dropout (Dropout)            (None, 1024)              0         \n",
            "_________________________________________________________________\n",
            "dense (Dense)                (None, 1)                 1025      \n",
            "=================================================================\n",
            "Total params: 1,628,097\n",
            "Trainable params: 1,626,305\n",
            "Non-trainable params: 1,792\n",
            "_________________________________________________________________\n"
          ],
          "name": "stdout"
        }
      ]
    },
    {
      "cell_type": "markdown",
      "metadata": {
        "id": "7gbO7y8zAxid"
      },
      "source": [
        "### Generator"
      ]
    },
    {
      "cell_type": "code",
      "metadata": {
        "colab": {
          "base_uri": "https://localhost:8080/"
        },
        "id": "d7zBy3ScBT6P",
        "outputId": "604e4dd0-c2af-474c-992d-b5c2a3ed9a59"
      },
      "source": [
        "latent_dim = 128\n",
        "\n",
        "generator = keras.Sequential([\n",
        "  keras.layers.Input(shape=(latent_dim, )),\n",
        "  keras.layers.Dense(7*7*latent_dim, activation='relu'),\n",
        "  keras.layers.Reshape((7, 7, latent_dim)),\n",
        "  keras.layers.Conv2DTranspose(64, kernel_size=3, padding=\"same\", strides=2),\n",
        "  keras.layers.LeakyReLU(),\n",
        "  keras.layers.BatchNormalization(),\n",
        "  keras.layers.Conv2DTranspose(64, kernel_size=3, padding=\"same\", strides=1),\n",
        "  keras.layers.LeakyReLU(),\n",
        "  keras.layers.BatchNormalization(),\n",
        "  keras.layers.Conv2DTranspose(64, kernel_size=3, padding=\"same\", strides=2),\n",
        "  keras.layers.LeakyReLU(),\n",
        "  keras.layers.BatchNormalization(),\n",
        "  keras.layers.Conv2D(1, kernel_size=3, padding='same', activation='sigmoid')\n",
        "], name=\"generator\")\n",
        "generator.summary()"
      ],
      "execution_count": 10,
      "outputs": [
        {
          "output_type": "stream",
          "text": [
            "WARNING:tensorflow:Please add `keras.layers.InputLayer` instead of `keras.Input` to Sequential model. `keras.Input` is intended to be used by Functional model.\n",
            "Model: \"generator\"\n",
            "_________________________________________________________________\n",
            "Layer (type)                 Output Shape              Param #   \n",
            "=================================================================\n",
            "dense_1 (Dense)              (None, 6272)              809088    \n",
            "_________________________________________________________________\n",
            "reshape (Reshape)            (None, 7, 7, 128)         0         \n",
            "_________________________________________________________________\n",
            "conv2d_transpose (Conv2DTran (None, 14, 14, 64)        73792     \n",
            "_________________________________________________________________\n",
            "leaky_re_lu_4 (LeakyReLU)    (None, 14, 14, 64)        0         \n",
            "_________________________________________________________________\n",
            "batch_normalization_4 (Batch (None, 14, 14, 64)        256       \n",
            "_________________________________________________________________\n",
            "conv2d_transpose_1 (Conv2DTr (None, 14, 14, 64)        36928     \n",
            "_________________________________________________________________\n",
            "leaky_re_lu_5 (LeakyReLU)    (None, 14, 14, 64)        0         \n",
            "_________________________________________________________________\n",
            "batch_normalization_5 (Batch (None, 14, 14, 64)        256       \n",
            "_________________________________________________________________\n",
            "conv2d_transpose_2 (Conv2DTr (None, 28, 28, 64)        36928     \n",
            "_________________________________________________________________\n",
            "leaky_re_lu_6 (LeakyReLU)    (None, 28, 28, 64)        0         \n",
            "_________________________________________________________________\n",
            "batch_normalization_6 (Batch (None, 28, 28, 64)        256       \n",
            "_________________________________________________________________\n",
            "conv2d_4 (Conv2D)            (None, 28, 28, 1)         577       \n",
            "=================================================================\n",
            "Total params: 958,081\n",
            "Trainable params: 957,697\n",
            "Non-trainable params: 384\n",
            "_________________________________________________________________\n"
          ],
          "name": "stdout"
        }
      ]
    },
    {
      "cell_type": "markdown",
      "metadata": {
        "id": "wSi1UOI3EQnF"
      },
      "source": [
        "### Overiding the `train_step`."
      ]
    },
    {
      "cell_type": "code",
      "metadata": {
        "id": "ylKV_1eGBT3s"
      },
      "source": [
        "class GAN(keras.Model):\n",
        "  def __init__(self, discriminator, generator, latent_dim):\n",
        "    super(GAN, self).__init__()\n",
        "    self.generator = generator\n",
        "    self.discriminator = discriminator\n",
        "    self.latent_dim = latent_dim\n",
        "\n",
        "  # .compile()\n",
        "  def compile(self, d_optimizer, g_optimizer, criterion):\n",
        "    super(GAN, self).compile()\n",
        "    self.criterion = criterion\n",
        "    self.d_optimizer = d_optimizer\n",
        "    self.g_optimizer = g_optimizer\n",
        "    self.d_loss_metric = keras.metrics.Mean(name=\"d_loss\")\n",
        "    self.g_loss_metric = keras.metrics.Mean(name=\"g_loss\")\n",
        "\n",
        "  @property\n",
        "  def metric(self):\n",
        "    return [\n",
        "       self.d_loss_metric,\n",
        "       self.g_loss_metric     \n",
        "    ]\n",
        "\n",
        "  # .fit()\n",
        "  def train_step(self, real_images):\n",
        "    \"\"\"\n",
        "    Find the batch size of the images of each batch\n",
        "    \"\"\"\n",
        "    batch_size = tf.shape(real_images)[0]\n",
        "    \"\"\"\n",
        "    Create a latent_vector from random numbers of shape (batch_size, latent_dim)\n",
        "    \"\"\"\n",
        "    random_latent_vectors = tf.random.normal(shape=(batch_size, self.latent_dim))\n",
        "    \"\"\"\n",
        "    Generate fake images by passing random_latent_vectors to the generator model.\n",
        "    \"\"\"\n",
        "    generated_images = self.generator(random_latent_vectors)\n",
        "    \"\"\"\n",
        "    Combine the generated and real images using the tf.cat()\n",
        "    \"\"\"\n",
        "    combined_images = tf.concat([generated_images, real_images], axis=0)\n",
        "    \"\"\"\n",
        "    Generate labels generated(ones) and real(zeros) and concate them\n",
        "    \"\"\"\n",
        "    labels = tf.concat(\n",
        "            [tf.ones((batch_size, 1)), tf.zeros((batch_size, 1))], axis=0\n",
        "    )\n",
        "    \"\"\"\n",
        "    Add some noise to labels\n",
        "    \"\"\"\n",
        "    labels += 0.05 * tf.random.uniform(tf.shape(labels))\n",
        "\n",
        "    \"\"\"\n",
        "    Train the discriminator\n",
        "    \"\"\"\n",
        "    with tf.GradientTape() as tape:\n",
        "            predictions = self.discriminator(combined_images)\n",
        "            d_loss = self.criterion(labels, predictions)\n",
        "    \"\"\"\n",
        "    Calculate the gradients of the discriminator\n",
        "    \"\"\"        \n",
        "    gradients = tape.gradient(d_loss, self.discriminator.trainable_weights)\n",
        "    self.d_optimizer.apply_gradients(\n",
        "        zip(gradients, self.discriminator.trainable_weights )\n",
        "    )\n",
        "    \"\"\"\n",
        "    Regenerate the latent_vectors for the generators and create misleading \n",
        "    labels and train the generator.\n",
        "    \"\"\"\n",
        "    random_latent_vectors = tf.random.normal(shape=(batch_size, self.latent_dim))\n",
        "    misleading_labels = tf.zeros((batch_size, 1))\n",
        "    with tf.GradientTape() as tape:\n",
        "        predictions = self.discriminator(self.generator(random_latent_vectors))\n",
        "        g_loss = self.criterion(misleading_labels, predictions)\n",
        "    grads = tape.gradient(g_loss, self.generator.trainable_weights)\n",
        "    self.g_optimizer.apply_gradients(zip(grads, self.generator.trainable_weights))\n",
        "\n",
        "    # Update metrics\n",
        "    self.d_loss_metric.update_state(d_loss)\n",
        "    self.g_loss_metric.update_state(g_loss)\n",
        "    \"\"\"\n",
        "    RETURM METRICS AS A DICTIONARY.\n",
        "    \"\"\"\n",
        "    return {\n",
        "        \"d_loss\": self.d_loss_metric.result(),\n",
        "        \"g_loss\": self.g_loss_metric.result(),\n",
        "    }"
      ],
      "execution_count": 11,
      "outputs": []
    },
    {
      "cell_type": "markdown",
      "metadata": {
        "id": "2H5uJdIFXOvs"
      },
      "source": [
        "### Trainning Callbacks."
      ]
    },
    {
      "cell_type": "code",
      "metadata": {
        "id": "IrCXi_skGu3U"
      },
      "source": [
        "class GANMonitor(keras.callbacks.Callback):\n",
        "    def __init__(self, num_img=3, latent_dim=128):\n",
        "        self.num_img = num_img\n",
        "        self.latent_dim = latent_dim\n",
        "    def on_epoch_end(self, epoch, logs=None):\n",
        "        random_latent_vectors = tf.random.normal(shape=(self.num_img, self.latent_dim))\n",
        "        generated_images = self.model.generator(random_latent_vectors)\n",
        "        generated_images *= 255\n",
        "        generated_images.numpy()\n",
        "        for i in range(self.num_img):\n",
        "            img = keras.preprocessing.image.array_to_img(generated_images[i])\n",
        "            img.save(\"generated_img_%03d_%d.png\" % (epoch, i))\n",
        "model_path = \"best_model.h5\"\n",
        "checkpoint = keras.callbacks.ModelCheckpoint(model_path, \n",
        "                             monitor= \"g_loss\", \n",
        "                             verbose=1, \n",
        "                             save_best_only=True, \n",
        "                             mode= \"auto\", \n",
        "                             save_weights_only = False)\n",
        "\n",
        "early = keras.callbacks.EarlyStopping(monitor= \"g_loss\", \n",
        "                      mode= \"auto\", \n",
        "                      patience = 5)"
      ],
      "execution_count": 15,
      "outputs": []
    },
    {
      "cell_type": "markdown",
      "metadata": {
        "id": "na6pf2kmXjP3"
      },
      "source": [
        "### End to end model training"
      ]
    },
    {
      "cell_type": "code",
      "metadata": {
        "colab": {
          "base_uri": "https://localhost:8080/"
        },
        "id": "zOo8RLhsG5Fg",
        "outputId": "bd53d0f6-4c36-4919-d210-ad73b1a88c49"
      },
      "source": [
        "epochs = 100  # In practice, use ~100 epochs\n",
        "gan = GAN(discriminator, \n",
        "          generator, \n",
        "          latent_dim\n",
        "          )\n",
        "gan.compile(\n",
        "    d_optimizer=keras.optimizers.Adam(learning_rate=0.0001),\n",
        "    g_optimizer=keras.optimizers.Adam(learning_rate=0.0001),\n",
        "    criterion=keras.losses.BinaryCrossentropy(from_logits=False),\n",
        "    # metrics=[\"acc\"]\n",
        ")\n",
        "gan.fit(\n",
        "    train_ds, epochs=epochs, callbacks=[GANMonitor(num_img=4, latent_dim=latent_dim), early]\n",
        ")"
      ],
      "execution_count": 18,
      "outputs": [
        {
          "output_type": "stream",
          "text": [
            "Epoch 1/100\n",
            "469/469 [==============================] - 58s 115ms/step - d_loss: 0.5246 - g_loss: 1.4282\n",
            "Epoch 2/100\n",
            "469/469 [==============================] - 56s 116ms/step - d_loss: 0.5105 - g_loss: 1.5832\n",
            "Epoch 3/100\n",
            "469/469 [==============================] - 56s 116ms/step - d_loss: 0.4996 - g_loss: 1.4260\n",
            "Epoch 4/100\n",
            "469/469 [==============================] - 56s 116ms/step - d_loss: 0.5008 - g_loss: 1.5047\n",
            "Epoch 5/100\n",
            "469/469 [==============================] - 56s 116ms/step - d_loss: 0.5010 - g_loss: 1.4774\n",
            "Epoch 6/100\n",
            "469/469 [==============================] - 56s 116ms/step - d_loss: 0.4991 - g_loss: 1.4924\n",
            "Epoch 7/100\n",
            "469/469 [==============================] - 56s 116ms/step - d_loss: 0.4979 - g_loss: 1.5478\n",
            "Epoch 8/100\n",
            "469/469 [==============================] - 56s 115ms/step - d_loss: 0.4998 - g_loss: 1.4384\n"
          ],
          "name": "stdout"
        },
        {
          "output_type": "execute_result",
          "data": {
            "text/plain": [
              "<tensorflow.python.keras.callbacks.History at 0x7fd972bb5e50>"
            ]
          },
          "metadata": {
            "tags": []
          },
          "execution_count": 18
        }
      ]
    },
    {
      "cell_type": "markdown",
      "metadata": {
        "id": "dvaW4TRVHMir"
      },
      "source": [
        "### Generating images."
      ]
    },
    {
      "cell_type": "code",
      "metadata": {
        "id": "RHvHbKlCXr_M"
      },
      "source": [
        "generated_images_from_model = gan.generator(tf.random.normal(shape=(15, 128)))"
      ],
      "execution_count": 36,
      "outputs": []
    },
    {
      "cell_type": "code",
      "metadata": {
        "colab": {
          "base_uri": "https://localhost:8080/",
          "height": 282
        },
        "id": "JinBCY85X0TP",
        "outputId": "5112241a-57f4-4f6c-8048-e6c78febee04"
      },
      "source": [
        "plt.imshow(generated_images_from_model[0][:, :, 0], cmap='gray')"
      ],
      "execution_count": 37,
      "outputs": [
        {
          "output_type": "execute_result",
          "data": {
            "text/plain": [
              "<matplotlib.image.AxesImage at 0x7fd91175a190>"
            ]
          },
          "metadata": {
            "tags": []
          },
          "execution_count": 37
        },
        {
          "output_type": "display_data",
          "data": {
            "image/png": "[encoded data removed]",
            "text/plain": [
              "<Figure size 432x288 with 1 Axes>"
            ]
          },
          "metadata": {
            "tags": [],
            "needs_background": "light"
          }
        }
      ]
    },
    {
      "cell_type": "code",
      "metadata": {
        "colab": {
          "base_uri": "https://localhost:8080/",
          "height": 357
        },
        "id": "dEZUp4CTYYnk",
        "outputId": "6cee818a-2db1-4214-de4e-53a1047999d3"
      },
      "source": [
        "def plot_images(images, cols=5):\n",
        "  rows = 3\n",
        "  fig = plt.figure()\n",
        "  fig.set_size_inches(cols * 2, rows * 2)\n",
        "  for i, image in enumerate(images):\n",
        "    plt.subplot(rows, cols, i + 1)\n",
        "    plt.axis('off')\n",
        "    plt.imshow(image[:, :, 0], cmap=\"gray\")\n",
        "plot_images(generated_images_from_model)\n",
        "plt.show()"
      ],
      "execution_count": 38,
      "outputs": [
        {
          "output_type": "display_data",
          "data": {
            "image/png": "[encoded data removed]",
            "text/plain": [
              "<Figure size 720x432 with 15 Axes>"
            ]
          },
          "metadata": {
            "tags": [],
            "needs_background": "light"
          }
        }
      ]
    },
    {
      "cell_type": "code",
      "metadata": {
        "id": "1Ay3PYxlZUtN"
      },
      "source": [
        ""
      ],
      "execution_count": null,
      "outputs": []
    }
  ]
}