{
  "nbformat": 4,
  "nbformat_minor": 0,
  "metadata": {
    "colab": {
      "name": "07_DCGAN_MNIST_UpSampling2D.ipynb",
      "provenance": [],
      "collapsed_sections": []
    },
    "kernelspec": {
      "name": "python3",
      "display_name": "Python 3"
    },
    "language_info": {
      "name": "python"
    },
    "accelerator": "GPU"
  },
  "cells": [
    {
      "cell_type": "markdown",
      "metadata": {
        "id": "XIfC6fZ6y2is"
      },
      "source": [
        "### DCGAN - MNIST dataset\n",
        "\n",
        "In this notebook we are going to implement the DCGAN using the mnist dataset to generate images. This notebook is based on [this](https://github.com/eriklindernoren/Keras-GAN/blob/master/dcgan/dcgan.py) repository."
      ]
    },
    {
      "cell_type": "markdown",
      "metadata": {
        "id": "Nlq4TFXPzLYw"
      },
      "source": [
        "### Imports"
      ]
    },
    {
      "cell_type": "code",
      "metadata": {
        "colab": {
          "base_uri": "https://localhost:8080/"
        },
        "id": "iYiBDmToycbE",
        "outputId": "af44fb94-aa8f-405b-c26c-dbb8a5ab0fd4"
      },
      "source": [
        "import tensorflow as tf\n",
        "from tensorflow import keras\n",
        "import numpy as np\n",
        "from matplotlib import pyplot as plt\n",
        "import sys, os\n",
        "\n",
        "print(f'TensorFlow version: {tf.__version__}')"
      ],
      "execution_count": 4,
      "outputs": [
        {
          "output_type": "stream",
          "text": [
            "TensorFlow version: 2.5.0\n"
          ],
          "name": "stdout"
        }
      ]
    },
    {
      "cell_type": "markdown",
      "metadata": {
        "id": "C6m-R0Mizx22"
      },
      "source": [
        "### Generator Model.\n",
        "\n",
        "In this notebook we are going to use `upSampling2D()` in our generator model instead of `conv2DTranspose()` later on we will use the `conv2DTranspose()` to compare the two approaches.\n",
        "\n",
        "For the last layer we wil be using a `tanh` activation function and for the hidden layers we will be using the `relu` activation function."
      ]
    },
    {
      "cell_type": "code",
      "metadata": {
        "colab": {
          "base_uri": "https://localhost:8080/"
        },
        "id": "ztPd7UEOzdep",
        "outputId": "c289d4b5-0489-4d50-f9c0-09ac70590106"
      },
      "source": [
        "class GenBlock(keras.layers.Layer):\n",
        "  def __init__(self, in_features, kernel_size=3, sampling_size=None, padding=\"same\", momentum=.8):\n",
        "    super(GenBlock, self).__init__()\n",
        "    if sampling_size:\n",
        "        self.up_sampling = keras.layers.UpSampling2D(size=sampling_size)\n",
        "    else:\n",
        "      self.up_sampling = keras.layers.UpSampling2D()\n",
        "    self.conv = keras.layers.Conv2D(in_features, kernel_size=kernel_size, padding=padding)\n",
        "    self.bn = keras.layers.BatchNormalization(momentum=momentum)\n",
        "    self.relu = keras.layers.ReLU()\n",
        "\n",
        "  def call(self, x):\n",
        "    x = self.up_sampling(x)\n",
        "    x = self.conv(x)\n",
        "    x = self.bn(x)\n",
        "    return self.relu(x)\n",
        "class GenOutputBlock(keras.layers.Layer):\n",
        "  def __init__(self, channels=1,  kernel_size=3):\n",
        "    super(GenOutputBlock, self).__init__(self)\n",
        "\n",
        "    self.conv = keras.layers.Conv2D(channels, kernel_size=kernel_size, padding='same')\n",
        "    self.tanh = keras.activations.tanh\n",
        "\n",
        "  def call(self, x):\n",
        "    x = self.conv(x)\n",
        "    return self.tanh(x)\n",
        "\n",
        "latent_dim = 128\n",
        "input_dim = 100\n",
        "channels = 1\n",
        "gen_model = keras.Sequential([\n",
        "        keras.layers.Dense(latent_dim * 7 * 7, activation='relu', input_dim=input_dim),\n",
        "        keras.layers.Reshape((7, 7, latent_dim)),\n",
        "        GenBlock(128),\n",
        "        GenBlock(in_features=64),\n",
        "        GenOutputBlock(channels=channels)\n",
        "], name=\"generator_model\")\n",
        "\n",
        "gen_model.build(input_shape=(input_dim, ))\n",
        "gen_model.summary()"
      ],
      "execution_count": 29,
      "outputs": [
        {
          "output_type": "stream",
          "text": [
            "Model: \"generator_model\"\n",
            "_________________________________________________________________\n",
            "Layer (type)                 Output Shape              Param #   \n",
            "=================================================================\n",
            "dense_22 (Dense)             (None, 6272)              633472    \n",
            "_________________________________________________________________\n",
            "reshape_18 (Reshape)         (None, 7, 7, 128)         0         \n",
            "_________________________________________________________________\n",
            "gen_block_20 (GenBlock)      (None, 14, 14, 128)       148096    \n",
            "_________________________________________________________________\n",
            "gen_block_21 (GenBlock)      (None, 28, 28, 64)        74048     \n",
            "_________________________________________________________________\n",
            "gen_output_block_7 (GenOutpu (None, 28, 28, 1)         577       \n",
            "=================================================================\n",
            "Total params: 856,193\n",
            "Trainable params: 855,809\n",
            "Non-trainable params: 384\n",
            "_________________________________________________________________\n"
          ],
          "name": "stdout"
        }
      ]
    },
    {
      "cell_type": "markdown",
      "metadata": {
        "id": "6IDACLdiJgbr"
      },
      "source": [
        "### Discriminator Model.\n",
        "In this model we are going to use the `LeakyReLU` activation function for hidden layers and `sigmoid` for  the output layer."
      ]
    },
    {
      "cell_type": "code",
      "metadata": {
        "colab": {
          "base_uri": "https://localhost:8080/"
        },
        "id": "NMoCn0bdJ5T_",
        "outputId": "571d7330-0393-47c0-974d-5a5c34acec3e"
      },
      "source": [
        "class DBlock(keras.layers.Layer):\n",
        "  def __init__(self, in_features, kernel_size=3, padding=\"same\", zero_padding=False, momentum=.8,\n",
        "               alpha=.2, dropout=.25):\n",
        "    super(DBlock, self).__init__()\n",
        "\n",
        "    self.zero_padding = zero_padding\n",
        "    self.conv = keras.layers.Conv2D(in_features, kernel_size=kernel_size,\n",
        "                                    padding=padding)\n",
        "    self.zero_padding_layer = keras.layers.ZeroPadding2D(padding=((0, 1), (0, 1)))\n",
        "    self.bn = keras.layers.BatchNormalization(momentum=momentum)\n",
        "    self.leaky_relu = keras.layers.LeakyReLU(alpha=alpha)\n",
        "    self.dropout = keras.layers.Dropout(rate=dropout)\n",
        "  \n",
        "  def call(self, x):\n",
        "    x = self.dropout(x)\n",
        "    x = self.conv(x)\n",
        "    if self.zero_padding:\n",
        "      x = self.zero_padding_layer(x)\n",
        "    x = self.bn(x)\n",
        "    x = self.leaky_relu(x)\n",
        "    return x\n",
        "\n",
        "class DOutputBlock(keras.layers.Layer):\n",
        "  def __init__(self, channels=1, activation='sigmoid', dropout=.25 ):\n",
        "    super(DOutputBlock, self).__init__()\n",
        "    self.flatten = keras.layers.Flatten()\n",
        "    self.fc = keras.layers.Dense(channels, activation=activation)\n",
        "    self.dropout = keras.layers.Dropout(rate=dropout)\n",
        "\n",
        "  def call(self, x):\n",
        "    x = self.dropout(x)\n",
        "    x = self.flatten(x)\n",
        "    return self.fc(x)\n",
        "\n",
        "\n",
        "image_shape = (28, 28, 1)\n",
        "\n",
        "disc_model = keras.Sequential([\n",
        "    keras.layers.Conv2D(32, kernel_size=3, strides=2, input_shape=image_shape, padding=\"same\") ,\n",
        "    keras.layers.LeakyReLU(alpha=0.2), \n",
        "     DBlock(64, zero_padding=True),\n",
        "     DBlock(128),\n",
        "     DBlock(256),\n",
        "     DOutputBlock(1)         \n",
        "], name=\"discriminator_model\")\n",
        "\n",
        "disc_model.summary()"
      ],
      "execution_count": 32,
      "outputs": [
        {
          "output_type": "stream",
          "text": [
            "Model: \"discriminator_model\"\n",
            "_________________________________________________________________\n",
            "Layer (type)                 Output Shape              Param #   \n",
            "=================================================================\n",
            "conv2d_60 (Conv2D)           (None, 14, 14, 32)        320       \n",
            "_________________________________________________________________\n",
            "leaky_re_lu_17 (LeakyReLU)   (None, 14, 14, 32)        0         \n",
            "_________________________________________________________________\n",
            "d_block_1 (DBlock)           (None, 15, 15, 64)        18752     \n",
            "_________________________________________________________________\n",
            "d_block_2 (DBlock)           (None, 15, 15, 128)       74368     \n",
            "_________________________________________________________________\n",
            "d_block_3 (DBlock)           (None, 15, 15, 256)       296192    \n",
            "_________________________________________________________________\n",
            "d_output_block (DOutputBlock (None, 1)                 57601     \n",
            "=================================================================\n",
            "Total params: 447,233\n",
            "Trainable params: 446,337\n",
            "Non-trainable params: 896\n",
            "_________________________________________________________________\n"
          ],
          "name": "stdout"
        }
      ]
    },
    {
      "cell_type": "markdown",
      "metadata": {
        "id": "shBnZUIYPJNz"
      },
      "source": [
        "### Generating a single image before training."
      ]
    },
    {
      "cell_type": "code",
      "metadata": {
        "colab": {
          "base_uri": "https://localhost:8080/",
          "height": 265
        },
        "id": "H697zQ0w92Bd",
        "outputId": "7c0504d3-475e-4151-af76-cf60e372a315"
      },
      "source": [
        "noise = tf.random.normal([1, 100])\n",
        "generated_image = gen_model(noise, training=False)\n",
        "plt.imshow(generated_image[0, :, :, 0], cmap='gray')\n",
        "plt.show()"
      ],
      "execution_count": 37,
      "outputs": [
        {
          "output_type": "display_data",
          "data": {
            "image/png": "[encoded data removed]",
            "text/plain": [
              "<Figure size 432x288 with 1 Axes>"
            ]
          },
          "metadata": {
            "tags": [],
            "needs_background": "light"
          }
        }
      ]
    },
    {
      "cell_type": "markdown",
      "metadata": {
        "id": "ZmXJcarRP5vt"
      },
      "source": [
        "### Using the discriminator to identify the generated image before training."
      ]
    },
    {
      "cell_type": "code",
      "metadata": {
        "colab": {
          "base_uri": "https://localhost:8080/"
        },
        "id": "CVvq8Cz_PI9j",
        "outputId": "61223011-7287-4b39-b7de-7a984a9fe995"
      },
      "source": [
        "disc_model(generated_image, training=False)"
      ],
      "execution_count": 38,
      "outputs": [
        {
          "output_type": "execute_result",
          "data": {
            "text/plain": [
              "<tf.Tensor: shape=(1, 1), dtype=float32, numpy=array([[0.4998558]], dtype=float32)>"
            ]
          },
          "metadata": {
            "tags": []
          },
          "execution_count": 38
        }
      ]
    },
    {
      "cell_type": "markdown",
      "metadata": {
        "id": "eEhPbHwPQQis"
      },
      "source": [
        "### Loss Functions.\n",
        "\n",
        "If you want explanation on how things are going visit [this](https://github.com/CrispenGari/Keras-API/blob/main/13_Unsupervised_L/01_DC_GANS_01/06_GANS_FaceGeneration_Introduction.ipynb) notebook."
      ]
    },
    {
      "cell_type": "code",
      "metadata": {
        "id": "HOaghQ_CPI4Z"
      },
      "source": [
        "cross_entropy = keras.losses.BinaryCrossentropy()\n",
        "\n",
        "def discriminator_loss(real_output, fake_output):\n",
        "  real_loss = cross_entropy(tf.ones_like(real_output), real_output)\n",
        "  fake_loss = cross_entropy(tf.zeros_like(fake_output), fake_output)\n",
        "  return real_loss + fake_loss\n",
        "\n",
        "def generator_loss(fake_output):\n",
        "  fake_loss = cross_entropy(tf.ones_like(fake_output), fake_output)\n",
        "  return fake_loss"
      ],
      "execution_count": 85,
      "outputs": []
    },
    {
      "cell_type": "markdown",
      "metadata": {
        "id": "gGPidlAhRned"
      },
      "source": [
        "### Optimizers"
      ]
    },
    {
      "cell_type": "code",
      "metadata": {
        "id": "xFMlk3EnPI2p"
      },
      "source": [
        "generator_optimizer = keras.optimizers.Adam(1.5e-4, .5)\n",
        "discriminator_optimizer = keras.optimizers.Adam(1.5e-4, .5)"
      ],
      "execution_count": 86,
      "outputs": []
    },
    {
      "cell_type": "markdown",
      "metadata": {
        "id": "SRvjZBJ1R30k"
      },
      "source": [
        "### Train step function"
      ]
    },
    {
      "cell_type": "code",
      "metadata": {
        "id": "xliC4kOkSF_7"
      },
      "source": [
        "BATCH_SIZE = 32\n",
        "SEED_SIZE = 100\n",
        "BUFFER_SIZE = 60000"
      ],
      "execution_count": 87,
      "outputs": []
    },
    {
      "cell_type": "code",
      "metadata": {
        "id": "6UzsNkAvPIy2"
      },
      "source": [
        "@tf.function\n",
        "def train_step(images):\n",
        "  seed = tf.random.normal((BATCH_SIZE, SEED_SIZE))\n",
        "\n",
        "  with tf.GradientTape() as gen_tape, tf.GradientTape() as disc_tape:\n",
        "    generated_images = gen_model(seed, training=True)\n",
        "\n",
        "    real_output = disc_model(images, training= True)\n",
        "    fake_output = disc_model(generated_images, training=True)\n",
        "\n",
        "    gen_loss = generator_loss(fake_output=fake_output)\n",
        "    disc_loss = discriminator_loss(real_output=real_output, fake_output=fake_output)\n",
        "\n",
        "    gradients_of_generator = gen_tape.gradient(gen_loss, gen_model.trainable_variables)\n",
        "    gradients_of_discriminator = disc_tape.gradient(disc_loss, disc_model.trainable_variables)\n",
        "\n",
        "    # UPDATING THE WEIGHTS\n",
        "    generator_optimizer.apply_gradients(zip(\n",
        "        gradients_of_generator, gen_model.trainable_variables\n",
        "    ))\n",
        "    discriminator_optimizer.apply_gradients(zip(\n",
        "        gradients_of_discriminator, disc_model.trainable_variables\n",
        "    ))\n",
        "    return gen_loss, disc_loss"
      ],
      "execution_count": 99,
      "outputs": []
    },
    {
      "cell_type": "markdown",
      "metadata": {
        "id": "9f6WYpt-WFtK"
      },
      "source": [
        "### Train Function"
      ]
    },
    {
      "cell_type": "markdown",
      "metadata": {
        "id": "BZ0jt-nfYK3S"
      },
      "source": [
        "Saving images."
      ]
    },
    {
      "cell_type": "code",
      "metadata": {
        "id": "h9udqNJmYKUJ"
      },
      "source": [
        "import os\n",
        "from PIL import Image\n",
        "base_path = '/content/drive/MyDrive'\n",
        "saving_directory = os.path.join(base_path, 'mnist_generated')\n",
        "if os.path.exists(saving_directory):\n",
        "  pass\n",
        "else:\n",
        "  print(\"Creating a new directory...\")\n",
        "  os.mkdir(saving_directory)\n",
        "\n",
        "def save_images(epoch, fixed_seed,  total_per_epoch=3):\n",
        "  generated_images = gen_model(fixed_seed[:total_per_epoch])\n",
        "  generated_images = 0.5 * generated_images + 0.5\n",
        "  generated_images = generated_images * 255\n",
        "  for index, image_array in enumerate(generated_images):\n",
        "      filename = os.path.join(saving_directory,f\"train_{epoch}_{index}.png\")\n",
        "      im = Image.fromarray(np.array(image_array, dtype=np.uint8))\n",
        "      im.save(filename)\n",
        "  print(\"Total images saved: \", total_per_epoch)"
      ],
      "execution_count": 139,
      "outputs": []
    },
    {
      "cell_type": "markdown",
      "metadata": {
        "id": "8fJGNzLsX_gl"
      },
      "source": [
        "A function that tracks how long training is taking per epoch."
      ]
    },
    {
      "cell_type": "code",
      "metadata": {
        "id": "JGPtc4DKW30y"
      },
      "source": [
        "import time\n",
        "def hms_string(sec_elapsed):\n",
        "    h = int(sec_elapsed / (60 * 60))\n",
        "    m = int((sec_elapsed % (60 * 60)) / 60)\n",
        "    s = sec_elapsed % 60\n",
        "    return \"{}:{:>02}:{:>05.2f}\".format(h, m, s)"
      ],
      "execution_count": 140,
      "outputs": []
    },
    {
      "cell_type": "code",
      "metadata": {
        "id": "vglCONHqPIvk"
      },
      "source": [
        "def train(dataset, epochs):\n",
        "  fixed_seed = tf.random.normal([10, SEED_SIZE])\n",
        "  start = time.time()\n",
        "  for epoch in range(epochs):\n",
        "    epoch_start = time.time()\n",
        "    gen_loss_list = []\n",
        "    disc_loss_list = []\n",
        "\n",
        "    for image_batch in dataset:\n",
        "      gen_loss, disc_loss = train_step(image_batch)\n",
        "      gen_loss_list.append(gen_loss)\n",
        "      disc_loss_list.append(disc_loss)\n",
        "    g_loss = sum(gen_loss_list)/len(gen_loss_list)\n",
        "    d_loss = sum(disc_loss_list)/len(disc_loss_list)\n",
        "\n",
        "    epoch_end = time.time()\n",
        "    print (f'Epoch {epoch+1} [ gen loss: {g_loss} ] [ disc loss: {d_loss} ] ETA: {hms_string(epoch_end - epoch_start)}')\n",
        "    # save_images(epoch=epoch, fixed_seed=fixed_seed, total_per_epoch=5)\n",
        "  end = time.time()\n",
        "  print (f'Training time: {hms_string(end - start)}')"
      ],
      "execution_count": 147,
      "outputs": []
    },
    {
      "cell_type": "markdown",
      "metadata": {
        "id": "UQxa9Ff8bgSS"
      },
      "source": [
        "### Creating the dataset from the mnist digits datset"
      ]
    },
    {
      "cell_type": "code",
      "metadata": {
        "id": "vxV3nwn5WJbC"
      },
      "source": [
        "(X_train, _), (X_test, _) = keras.datasets.mnist.load_data()"
      ],
      "execution_count": 142,
      "outputs": []
    },
    {
      "cell_type": "markdown",
      "metadata": {
        "id": "5IaGeJyOb3Mr"
      },
      "source": [
        "### Plotting Real mnist Digits."
      ]
    },
    {
      "cell_type": "code",
      "metadata": {
        "colab": {
          "base_uri": "https://localhost:8080/",
          "height": 484
        },
        "id": "CVREa-aPb5Ir",
        "outputId": "bd90d31d-164e-4b2f-a380-be395cf1bc74"
      },
      "source": [
        "def plot_images(images_and_classes, cols=5):\n",
        "    rows = 4\n",
        "    fig = plt.figure()\n",
        "    fig.set_size_inches(cols * 2, rows * 2)\n",
        "    for i, (image) in enumerate(images_and_classes):\n",
        "        plt.subplot(rows, cols, i + 1)\n",
        "        plt.axis('off')\n",
        "        plt.imshow(image, cmap=\"gray\")\n",
        "        plt.title(\"Real Digit\", color ='g', fontsize=16 )\n",
        "\n",
        "plot_images(X_train[:32], cols=8)"
      ],
      "execution_count": 143,
      "outputs": [
        {
          "output_type": "display_data",
          "data": {
            "image/png": "[encoded data removed]",
            "text/plain": [
              "<Figure size 1152x576 with 32 Axes>"
            ]
          },
          "metadata": {
            "tags": [],
            "needs_background": "light"
          }
        }
      ]
    },
    {
      "cell_type": "code",
      "metadata": {
        "id": "CYP5N0DbcJTi"
      },
      "source": [
        "def reshape_normalize(image):\n",
        "  image = tf.cast(tf.reshape(image, shape=(28, 28, 1)), dtype=tf.float32)\n",
        "  image = image / 255.0\n",
        "  return image"
      ],
      "execution_count": 144,
      "outputs": []
    },
    {
      "cell_type": "code",
      "metadata": {
        "id": "-oQd7yRDcz1i"
      },
      "source": [
        "ds = tf.data.Dataset.from_tensor_slices(X_train).map(reshape_normalize).batch(BATCH_SIZE).shuffle(BUFFER_SIZE)"
      ],
      "execution_count": 145,
      "outputs": []
    },
    {
      "cell_type": "markdown",
      "metadata": {
        "id": "eeVIandUd8DZ"
      },
      "source": [
        "### Training.\n",
        "\n",
        "Now that we have our data let's train the model."
      ]
    },
    {
      "cell_type": "code",
      "metadata": {
        "colab": {
          "base_uri": "https://localhost:8080/"
        },
        "id": "zTJxA0njdvfN",
        "outputId": "6ef39f98-6ea9-45c0-c15d-32781e646b88"
      },
      "source": [
        "train(ds, 50)"
      ],
      "execution_count": 148,
      "outputs": [
        {
          "output_type": "stream",
          "text": [
            "Epoch 1 [ gen loss: 1.8462138175964355 ] [ disc loss: 1.0646671056747437 ] ETA: 0:00:44.77\n",
            "Epoch 2 [ gen loss: 1.823251724243164 ] [ disc loss: 1.0738741159439087 ] ETA: 0:00:44.82\n",
            "Epoch 3 [ gen loss: 1.7982757091522217 ] [ disc loss: 1.0763925313949585 ] ETA: 0:00:44.82\n",
            "Epoch 4 [ gen loss: 1.775403618812561 ] [ disc loss: 1.090006947517395 ] ETA: 0:00:44.79\n",
            "Epoch 5 [ gen loss: 1.7728914022445679 ] [ disc loss: 1.0846799612045288 ] ETA: 0:00:44.79\n",
            "Epoch 6 [ gen loss: 1.7497366666793823 ] [ disc loss: 1.084094524383545 ] ETA: 0:00:44.80\n",
            "Epoch 7 [ gen loss: 1.719523310661316 ] [ disc loss: 1.0873676538467407 ] ETA: 0:00:44.81\n",
            "Epoch 8 [ gen loss: 1.7194441556930542 ] [ disc loss: 1.0832035541534424 ] ETA: 0:00:44.81\n",
            "Epoch 9 [ gen loss: 1.716814637184143 ] [ disc loss: 1.0842676162719727 ] ETA: 0:00:44.78\n",
            "Epoch 10 [ gen loss: 1.7080111503601074 ] [ disc loss: 1.0814100503921509 ] ETA: 0:00:44.78\n",
            "Epoch 11 [ gen loss: 1.6985257863998413 ] [ disc loss: 1.0793031454086304 ] ETA: 0:00:44.81\n",
            "Epoch 12 [ gen loss: 1.6846753358840942 ] [ disc loss: 1.085030198097229 ] ETA: 0:00:44.83\n",
            "Epoch 13 [ gen loss: 1.6813325881958008 ] [ disc loss: 1.0766409635543823 ] ETA: 0:00:44.87\n",
            "Epoch 14 [ gen loss: 1.6649292707443237 ] [ disc loss: 1.073096513748169 ] ETA: 0:00:44.82\n",
            "Epoch 15 [ gen loss: 1.6485036611557007 ] [ disc loss: 1.0842885971069336 ] ETA: 0:00:44.79\n",
            "Epoch 16 [ gen loss: 1.6585440635681152 ] [ disc loss: 1.071149230003357 ] ETA: 0:00:44.81\n",
            "Epoch 17 [ gen loss: 1.647095799446106 ] [ disc loss: 1.0839663743972778 ] ETA: 0:00:44.81\n",
            "Epoch 18 [ gen loss: 1.6402117013931274 ] [ disc loss: 1.0689867734909058 ] ETA: 0:00:44.83\n",
            "Epoch 19 [ gen loss: 1.6474792957305908 ] [ disc loss: 1.071153998374939 ] ETA: 0:00:44.80\n",
            "Epoch 20 [ gen loss: 1.6353380680084229 ] [ disc loss: 1.074824333190918 ] ETA: 0:00:44.78\n",
            "Epoch 21 [ gen loss: 1.6447787284851074 ] [ disc loss: 1.0548901557922363 ] ETA: 0:00:44.79\n",
            "Epoch 22 [ gen loss: 1.6323472261428833 ] [ disc loss: 1.0806217193603516 ] ETA: 0:00:44.82\n",
            "Epoch 23 [ gen loss: 1.6198532581329346 ] [ disc loss: 1.0569907426834106 ] ETA: 0:00:44.78\n",
            "Epoch 24 [ gen loss: 1.6439473628997803 ] [ disc loss: 1.0661637783050537 ] ETA: 0:00:44.80\n",
            "Epoch 25 [ gen loss: 1.6173902750015259 ] [ disc loss: 1.0543292760849 ] ETA: 0:00:44.82\n",
            "Epoch 26 [ gen loss: 1.6120227575302124 ] [ disc loss: 1.0531258583068848 ] ETA: 0:00:44.77\n",
            "Epoch 27 [ gen loss: 1.6472893953323364 ] [ disc loss: 1.0589258670806885 ] ETA: 0:00:44.83\n",
            "Epoch 28 [ gen loss: 1.6194767951965332 ] [ disc loss: 1.0607398748397827 ] ETA: 0:00:44.78\n",
            "Epoch 29 [ gen loss: 1.6294752359390259 ] [ disc loss: 1.0579289197921753 ] ETA: 0:00:44.82\n",
            "Epoch 30 [ gen loss: 1.638710856437683 ] [ disc loss: 1.0488203763961792 ] ETA: 0:00:44.79\n",
            "Epoch 31 [ gen loss: 1.6262762546539307 ] [ disc loss: 1.0555803775787354 ] ETA: 0:00:44.80\n",
            "Epoch 32 [ gen loss: 1.6302958726882935 ] [ disc loss: 1.0453636646270752 ] ETA: 0:00:44.81\n",
            "Epoch 33 [ gen loss: 1.6099352836608887 ] [ disc loss: 1.039501667022705 ] ETA: 0:00:44.80\n",
            "Epoch 34 [ gen loss: 1.6203409433364868 ] [ disc loss: 1.0510905981063843 ] ETA: 0:00:44.79\n",
            "Epoch 35 [ gen loss: 1.6080904006958008 ] [ disc loss: 1.0529910326004028 ] ETA: 0:00:44.80\n",
            "Epoch 37 [ gen loss: 1.6158610582351685 ] [ disc loss: 1.0463591814041138 ] ETA: 0:00:44.77\n",
            "Epoch 38 [ gen loss: 1.588841438293457 ] [ disc loss: 1.058699369430542 ] ETA: 0:00:44.82\n",
            "Epoch 39 [ gen loss: 1.6039351224899292 ] [ disc loss: 1.0460214614868164 ] ETA: 0:00:44.92\n",
            "Epoch 40 [ gen loss: 1.5983331203460693 ] [ disc loss: 1.058578372001648 ] ETA: 0:00:44.81\n",
            "Epoch 41 [ gen loss: 1.6157571077346802 ] [ disc loss: 1.0398589372634888 ] ETA: 0:00:44.87\n",
            "Epoch 42 [ gen loss: 1.622534155845642 ] [ disc loss: 1.0413787364959717 ] ETA: 0:00:44.83\n",
            "Epoch 43 [ gen loss: 1.601493000984192 ] [ disc loss: 1.0432881116867065 ] ETA: 0:00:44.84\n",
            "Epoch 44 [ gen loss: 1.6156260967254639 ] [ disc loss: 1.0378031730651855 ] ETA: 0:00:44.87\n",
            "Epoch 45 [ gen loss: 1.6028015613555908 ] [ disc loss: 1.0421935319900513 ] ETA: 0:00:44.88\n",
            "Epoch 46 [ gen loss: 1.617337942123413 ] [ disc loss: 1.0329209566116333 ] ETA: 0:00:44.84\n",
            "Epoch 47 [ gen loss: 1.6205775737762451 ] [ disc loss: 1.0270670652389526 ] ETA: 0:00:44.86\n",
            "Epoch 48 [ gen loss: 1.620355486869812 ] [ disc loss: 1.0293464660644531 ] ETA: 0:00:44.83\n",
            "Epoch 49 [ gen loss: 1.6224324703216553 ] [ disc loss: 1.0357789993286133 ] ETA: 0:00:44.87\n",
            "Epoch 50 [ gen loss: 1.6389422416687012 ] [ disc loss: 1.0160362720489502 ] ETA: 0:00:44.85\n",
            "Training time: 0:37:20.80\n"
          ],
          "name": "stdout"
        }
      ]
    },
    {
      "cell_type": "markdown",
      "metadata": {
        "id": "1ot_0WzLmccK"
      },
      "source": [
        "### Generating images."
      ]
    },
    {
      "cell_type": "code",
      "metadata": {
        "id": "JcncTzwAeefo"
      },
      "source": [
        "seeds = tf.random.normal([32, SEED_SIZE])\n",
        "generated = gen_model(seeds)"
      ],
      "execution_count": 151,
      "outputs": []
    },
    {
      "cell_type": "code",
      "metadata": {
        "colab": {
          "base_uri": "https://localhost:8080/",
          "height": 484
        },
        "id": "ivuz6CBVm0Xt",
        "outputId": "6f1fffb8-15fa-43e2-f08b-4bec6facb798"
      },
      "source": [
        "def plot_images(images_and_classes, cols=5):\n",
        "    rows = 4\n",
        "    fig = plt.figure()\n",
        "    fig.set_size_inches(cols * 2, rows * 2)\n",
        "    for i, (image) in enumerate(images_and_classes):\n",
        "        plt.subplot(rows, cols, i + 1)\n",
        "        plt.axis('off')\n",
        "        plt.imshow(np.array(image.numpy() * 255, np.int32)[:, :, 0] , cmap=\"gray\")\n",
        "        plt.title(\"Fake Digit\", color ='r', fontsize=16 )\n",
        "\n",
        "plot_images(generated[:], cols=8)"
      ],
      "execution_count": 155,
      "outputs": [
        {
          "output_type": "display_data",
          "data": {
            "image/png": "[encoded data removed]",
            "text/plain": [
              "<Figure size 1152x576 with 32 Axes>"
            ]
          },
          "metadata": {
            "tags": [],
            "needs_background": "light"
          }
        }
      ]
    },
    {
      "cell_type": "code",
      "metadata": {
        "id": "YLmTted1mvx4"
      },
      "source": [
        ""
      ],
      "execution_count": null,
      "outputs": []
    }
  ]
}