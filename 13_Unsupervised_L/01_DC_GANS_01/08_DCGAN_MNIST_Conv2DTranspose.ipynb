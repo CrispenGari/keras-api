{
  "nbformat": 4,
  "nbformat_minor": 0,
  "metadata": {
    "colab": {
      "name": "08_DCGAN_MNIST_Conv2DTranspose.ipynb",
      "provenance": [],
      "collapsed_sections": []
    },
    "kernelspec": {
      "name": "python3",
      "display_name": "Python 3"
    },
    "language_info": {
      "name": "python"
    },
    "accelerator": "GPU"
  },
  "cells": [
    {
      "cell_type": "markdown",
      "metadata": {
        "id": "XIfC6fZ6y2is"
      },
      "source": [
        "### DCGAN - MNIST dataset\n",
        "\n",
        "Based on the previous notebook we are going to use the `Conv2DTranspose()` during generator model creation instead of the `UpSampling2D()` and see if we are going to get the same results. The rest of the code will remain the same we are only going to touch the Generator model by changing the `UpSampling2D` layer to the `Conv2DTranspose()`  layer.\n",
        "\n",
        "The `Conv2DTranspose()` is a combination of `conv2D` and `UpSampling2D()` in particular. From one of my notebooks I've explained the relationship between these layers."
      ]
    },
    {
      "cell_type": "markdown",
      "metadata": {
        "id": "Nlq4TFXPzLYw"
      },
      "source": [
        "### Imports"
      ]
    },
    {
      "cell_type": "code",
      "metadata": {
        "colab": {
          "base_uri": "https://localhost:8080/"
        },
        "id": "iYiBDmToycbE",
        "outputId": "de20d04f-f940-4686-bd50-aed463510a0d"
      },
      "source": [
        "import tensorflow as tf\n",
        "from tensorflow import keras\n",
        "import numpy as np\n",
        "from matplotlib import pyplot as plt\n",
        "import sys, os\n",
        "\n",
        "print(f'TensorFlow version: {tf.__version__}')"
      ],
      "execution_count": 1,
      "outputs": [
        {
          "output_type": "stream",
          "text": [
            "TensorFlow version: 2.5.0\n"
          ],
          "name": "stdout"
        }
      ]
    },
    {
      "cell_type": "markdown",
      "metadata": {
        "id": "C6m-R0Mizx22"
      },
      "source": [
        "### Generator Model.\n",
        "\n",
        "For the last layer we wil be using a `tanh` activation function and for the hidden layers we will be using the `relu` activation function."
      ]
    },
    {
      "cell_type": "code",
      "metadata": {
        "colab": {
          "base_uri": "https://localhost:8080/"
        },
        "id": "ztPd7UEOzdep",
        "outputId": "96785cc3-a064-41f3-c472-bc1a5f35b75c"
      },
      "source": [
        "class GenBlock(keras.layers.Layer):\n",
        "  def __init__(self, in_features, kernel_size=3, strides=(2, 2), padding=\"same\", momentum=.8):\n",
        "    super(GenBlock, self).__init__()\n",
        "    self.conv_2d_transpose = keras.layers.Conv2DTranspose(in_features, kernel_size=kernel_size, padding=padding, strides=strides)\n",
        "    self.bn = keras.layers.BatchNormalization(momentum=momentum)\n",
        "    self.relu = keras.layers.ReLU()\n",
        "\n",
        "  def call(self, x):\n",
        "    x = self.conv_2d_transpose(x)\n",
        "    x = self.bn(x)\n",
        "    return self.relu(x)\n",
        "class GenOutputBlock(keras.layers.Layer):\n",
        "  def __init__(self, channels=1,  kernel_size=3):\n",
        "    super(GenOutputBlock, self).__init__(self)\n",
        "    self.conv = keras.layers.Conv2D(channels, kernel_size=kernel_size, padding='same')\n",
        "    self.tanh = keras.activations.tanh\n",
        "  def call(self, x):\n",
        "    x = self.conv(x)\n",
        "    return self.tanh(x)\n",
        "\n",
        "latent_dim = 128\n",
        "input_dim = 100\n",
        "channels = 1\n",
        "gen_model = keras.Sequential([\n",
        "        keras.layers.Dense(latent_dim * 7 * 7, activation='relu', input_dim=input_dim),\n",
        "        keras.layers.Reshape((7, 7, latent_dim)),\n",
        "        GenBlock(128),\n",
        "        GenBlock(in_features=64),\n",
        "        GenOutputBlock(channels=channels)\n",
        "], name=\"generator_model\")\n",
        "\n",
        "gen_model.build(input_shape=(input_dim, ))\n",
        "gen_model.summary()"
      ],
      "execution_count": 2,
      "outputs": [
        {
          "output_type": "stream",
          "text": [
            "Model: \"generator_model\"\n",
            "_________________________________________________________________\n",
            "Layer (type)                 Output Shape              Param #   \n",
            "=================================================================\n",
            "dense (Dense)                (None, 6272)              633472    \n",
            "_________________________________________________________________\n",
            "reshape (Reshape)            (None, 7, 7, 128)         0         \n",
            "_________________________________________________________________\n",
            "gen_block (GenBlock)         (None, 14, 14, 128)       148096    \n",
            "_________________________________________________________________\n",
            "gen_block_1 (GenBlock)       (None, 28, 28, 64)        74048     \n",
            "_________________________________________________________________\n",
            "gen_output_block (GenOutputB (None, 28, 28, 1)         577       \n",
            "=================================================================\n",
            "Total params: 856,193\n",
            "Trainable params: 855,809\n",
            "Non-trainable params: 384\n",
            "_________________________________________________________________\n"
          ],
          "name": "stdout"
        }
      ]
    },
    {
      "cell_type": "markdown",
      "metadata": {
        "id": "6IDACLdiJgbr"
      },
      "source": [
        "### Discriminator Model.\n",
        "In this model we are going to use the `LeakyReLU` activation function for hidden layers and `sigmoid` for  the output layer."
      ]
    },
    {
      "cell_type": "code",
      "metadata": {
        "colab": {
          "base_uri": "https://localhost:8080/"
        },
        "id": "NMoCn0bdJ5T_",
        "outputId": "38aa2e50-ef39-40ea-938c-036881d03a05"
      },
      "source": [
        "class DBlock(keras.layers.Layer):\n",
        "  def __init__(self, in_features, kernel_size=3, padding=\"same\", zero_padding=False, momentum=.8,\n",
        "               alpha=.2, dropout=.25):\n",
        "    super(DBlock, self).__init__()\n",
        "\n",
        "    self.zero_padding = zero_padding\n",
        "    self.conv = keras.layers.Conv2D(in_features, kernel_size=kernel_size,\n",
        "                                    padding=padding)\n",
        "    self.zero_padding_layer = keras.layers.ZeroPadding2D(padding=((0, 1), (0, 1)))\n",
        "    self.bn = keras.layers.BatchNormalization(momentum=momentum)\n",
        "    self.leaky_relu = keras.layers.LeakyReLU(alpha=alpha)\n",
        "    self.dropout = keras.layers.Dropout(rate=dropout)\n",
        "  \n",
        "  def call(self, x):\n",
        "    x = self.dropout(x)\n",
        "    x = self.conv(x)\n",
        "    if self.zero_padding:\n",
        "      x = self.zero_padding_layer(x)\n",
        "    x = self.bn(x)\n",
        "    x = self.leaky_relu(x)\n",
        "    return x\n",
        "\n",
        "class DOutputBlock(keras.layers.Layer):\n",
        "  def __init__(self, channels=1, activation='sigmoid', dropout=.25 ):\n",
        "    super(DOutputBlock, self).__init__()\n",
        "    self.flatten = keras.layers.Flatten()\n",
        "    self.fc = keras.layers.Dense(channels, activation=activation)\n",
        "    self.dropout = keras.layers.Dropout(rate=dropout)\n",
        "\n",
        "  def call(self, x):\n",
        "    x = self.dropout(x)\n",
        "    x = self.flatten(x)\n",
        "    return self.fc(x)\n",
        "\n",
        "\n",
        "image_shape = (28, 28, 1)\n",
        "\n",
        "disc_model = keras.Sequential([\n",
        "    keras.layers.Conv2D(32, kernel_size=3, strides=2, input_shape=image_shape, padding=\"same\") ,\n",
        "    keras.layers.LeakyReLU(alpha=0.2), \n",
        "     DBlock(64, zero_padding=True),\n",
        "     DBlock(128),\n",
        "     DBlock(256),\n",
        "     DOutputBlock(1)         \n",
        "], name=\"discriminator_model\")\n",
        "\n",
        "disc_model.summary()"
      ],
      "execution_count": 3,
      "outputs": [
        {
          "output_type": "stream",
          "text": [
            "Model: \"discriminator_model\"\n",
            "_________________________________________________________________\n",
            "Layer (type)                 Output Shape              Param #   \n",
            "=================================================================\n",
            "conv2d_1 (Conv2D)            (None, 14, 14, 32)        320       \n",
            "_________________________________________________________________\n",
            "leaky_re_lu (LeakyReLU)      (None, 14, 14, 32)        0         \n",
            "_________________________________________________________________\n",
            "d_block (DBlock)             (None, 15, 15, 64)        18752     \n",
            "_________________________________________________________________\n",
            "d_block_1 (DBlock)           (None, 15, 15, 128)       74368     \n",
            "_________________________________________________________________\n",
            "d_block_2 (DBlock)           (None, 15, 15, 256)       296192    \n",
            "_________________________________________________________________\n",
            "d_output_block (DOutputBlock (None, 1)                 57601     \n",
            "=================================================================\n",
            "Total params: 447,233\n",
            "Trainable params: 446,337\n",
            "Non-trainable params: 896\n",
            "_________________________________________________________________\n"
          ],
          "name": "stdout"
        }
      ]
    },
    {
      "cell_type": "markdown",
      "metadata": {
        "id": "shBnZUIYPJNz"
      },
      "source": [
        "### Generating a single image before training."
      ]
    },
    {
      "cell_type": "code",
      "metadata": {
        "colab": {
          "base_uri": "https://localhost:8080/",
          "height": 265
        },
        "id": "H697zQ0w92Bd",
        "outputId": "371d2b44-6e4c-4571-c557-37907b222d29"
      },
      "source": [
        "noise = tf.random.normal([1, 100])\n",
        "generated_image = gen_model(noise, training=False)\n",
        "plt.imshow(generated_image[0, :, :, 0], cmap='gray')\n",
        "plt.show()"
      ],
      "execution_count": 4,
      "outputs": [
        {
          "output_type": "display_data",
          "data": {
            "image/png": "[encoded data removed]",
            "text/plain": [
              "<Figure size 432x288 with 1 Axes>"
            ]
          },
          "metadata": {
            "tags": [],
            "needs_background": "light"
          }
        }
      ]
    },
    {
      "cell_type": "markdown",
      "metadata": {
        "id": "ZmXJcarRP5vt"
      },
      "source": [
        "### Using the discriminator to identify the generated image before training."
      ]
    },
    {
      "cell_type": "code",
      "metadata": {
        "colab": {
          "base_uri": "https://localhost:8080/"
        },
        "id": "CVvq8Cz_PI9j",
        "outputId": "40431dfc-7873-4b2b-e1f0-7d10f2ff19f9"
      },
      "source": [
        "disc_model(generated_image, training=False)"
      ],
      "execution_count": 5,
      "outputs": [
        {
          "output_type": "execute_result",
          "data": {
            "text/plain": [
              "<tf.Tensor: shape=(1, 1), dtype=float32, numpy=array([[0.50032645]], dtype=float32)>"
            ]
          },
          "metadata": {
            "tags": []
          },
          "execution_count": 5
        }
      ]
    },
    {
      "cell_type": "markdown",
      "metadata": {
        "id": "eEhPbHwPQQis"
      },
      "source": [
        "### Loss Functions.\n",
        "\n",
        "If you want explanation on how things are going visit [this](https://github.com/CrispenGari/Keras-API/blob/main/13_Unsupervised_L/01_DC_GANS_01/06_GANS_FaceGeneration_Introduction.ipynb) notebook."
      ]
    },
    {
      "cell_type": "code",
      "metadata": {
        "id": "HOaghQ_CPI4Z"
      },
      "source": [
        "cross_entropy = keras.losses.BinaryCrossentropy()\n",
        "\n",
        "def discriminator_loss(real_output, fake_output):\n",
        "  real_loss = cross_entropy(tf.ones_like(real_output), real_output)\n",
        "  fake_loss = cross_entropy(tf.zeros_like(fake_output), fake_output)\n",
        "  return real_loss + fake_loss\n",
        "\n",
        "def generator_loss(fake_output):\n",
        "  fake_loss = cross_entropy(tf.ones_like(fake_output), fake_output)\n",
        "  return fake_loss"
      ],
      "execution_count": 6,
      "outputs": []
    },
    {
      "cell_type": "markdown",
      "metadata": {
        "id": "gGPidlAhRned"
      },
      "source": [
        "### Optimizers"
      ]
    },
    {
      "cell_type": "code",
      "metadata": {
        "id": "xFMlk3EnPI2p"
      },
      "source": [
        "generator_optimizer = keras.optimizers.Adam(1.5e-4, .5)\n",
        "discriminator_optimizer = keras.optimizers.Adam(1.5e-4, .5)"
      ],
      "execution_count": 7,
      "outputs": []
    },
    {
      "cell_type": "markdown",
      "metadata": {
        "id": "SRvjZBJ1R30k"
      },
      "source": [
        "### Train step function"
      ]
    },
    {
      "cell_type": "code",
      "metadata": {
        "id": "xliC4kOkSF_7"
      },
      "source": [
        "BATCH_SIZE = 32\n",
        "SEED_SIZE = 100\n",
        "BUFFER_SIZE = 60000"
      ],
      "execution_count": 8,
      "outputs": []
    },
    {
      "cell_type": "code",
      "metadata": {
        "id": "6UzsNkAvPIy2"
      },
      "source": [
        "@tf.function\n",
        "def train_step(images):\n",
        "  seed = tf.random.normal((BATCH_SIZE, SEED_SIZE))\n",
        "\n",
        "  with tf.GradientTape() as gen_tape, tf.GradientTape() as disc_tape:\n",
        "    generated_images = gen_model(seed, training=True)\n",
        "\n",
        "    real_output = disc_model(images, training= True)\n",
        "    fake_output = disc_model(generated_images, training=True)\n",
        "\n",
        "    gen_loss = generator_loss(fake_output=fake_output)\n",
        "    disc_loss = discriminator_loss(real_output=real_output, fake_output=fake_output)\n",
        "\n",
        "    gradients_of_generator = gen_tape.gradient(gen_loss, gen_model.trainable_variables)\n",
        "    gradients_of_discriminator = disc_tape.gradient(disc_loss, disc_model.trainable_variables)\n",
        "\n",
        "    # UPDATING THE WEIGHTS\n",
        "    generator_optimizer.apply_gradients(zip(\n",
        "        gradients_of_generator, gen_model.trainable_variables\n",
        "    ))\n",
        "    discriminator_optimizer.apply_gradients(zip(\n",
        "        gradients_of_discriminator, disc_model.trainable_variables\n",
        "    ))\n",
        "    return gen_loss, disc_loss"
      ],
      "execution_count": 9,
      "outputs": []
    },
    {
      "cell_type": "markdown",
      "metadata": {
        "id": "9f6WYpt-WFtK"
      },
      "source": [
        "### Train Function"
      ]
    },
    {
      "cell_type": "markdown",
      "metadata": {
        "id": "BZ0jt-nfYK3S"
      },
      "source": [
        "Saving images."
      ]
    },
    {
      "cell_type": "code",
      "metadata": {
        "colab": {
          "base_uri": "https://localhost:8080/"
        },
        "id": "rCH0PkquxjWd",
        "outputId": "f01e9c31-b222-413b-d126-158bd928ed13"
      },
      "source": [
        "from google.colab import drive\n",
        "drive.mount('/content/drive')"
      ],
      "execution_count": 11,
      "outputs": [
        {
          "output_type": "stream",
          "text": [
            "Mounted at /content/drive\n"
          ],
          "name": "stdout"
        }
      ]
    },
    {
      "cell_type": "code",
      "metadata": {
        "id": "h9udqNJmYKUJ"
      },
      "source": [
        "import os\n",
        "from PIL import Image\n",
        "base_path = '/content/drive/MyDrive'\n",
        "saving_directory = os.path.join(base_path, 'mnist_generated')\n",
        "if os.path.exists(saving_directory):\n",
        "  pass\n",
        "else:\n",
        "  print(\"Creating a new directory...\")\n",
        "  os.mkdir(saving_directory)\n",
        "def save_images(epoch, fixed_seed,  total_per_epoch=3):\n",
        "  generated_images = gen_model(fixed_seed[:total_per_epoch])\n",
        "  generated_images = 0.5 * generated_images + 0.5\n",
        "  generated_images = generated_images * 255\n",
        "  for index, image_array in enumerate(generated_images):\n",
        "      filename = os.path.join(saving_directory,f\"train_{epoch}_{index}.png\")\n",
        "      im = Image.fromarray(np.array(image_array, dtype=np.uint8))\n",
        "      im.save(filename)\n",
        "  print(\"Total images saved: \", total_per_epoch)"
      ],
      "execution_count": 12,
      "outputs": []
    },
    {
      "cell_type": "markdown",
      "metadata": {
        "id": "8fJGNzLsX_gl"
      },
      "source": [
        "A function that tracks how long training is taking per epoch."
      ]
    },
    {
      "cell_type": "code",
      "metadata": {
        "id": "JGPtc4DKW30y"
      },
      "source": [
        "import time\n",
        "def hms_string(sec_elapsed):\n",
        "    h = int(sec_elapsed / (60 * 60))\n",
        "    m = int((sec_elapsed % (60 * 60)) / 60)\n",
        "    s = sec_elapsed % 60\n",
        "    return \"{}:{:>02}:{:>05.2f}\".format(h, m, s)"
      ],
      "execution_count": 13,
      "outputs": []
    },
    {
      "cell_type": "code",
      "metadata": {
        "id": "vglCONHqPIvk"
      },
      "source": [
        "def train(dataset, epochs):\n",
        "  fixed_seed = tf.random.normal([10, SEED_SIZE])\n",
        "  start = time.time()\n",
        "  for epoch in range(epochs):\n",
        "    epoch_start = time.time()\n",
        "    gen_loss_list = []\n",
        "    disc_loss_list = []\n",
        "\n",
        "    for image_batch in dataset:\n",
        "      gen_loss, disc_loss = train_step(image_batch)\n",
        "      gen_loss_list.append(gen_loss)\n",
        "      disc_loss_list.append(disc_loss)\n",
        "    g_loss = sum(gen_loss_list)/len(gen_loss_list)\n",
        "    d_loss = sum(disc_loss_list)/len(disc_loss_list)\n",
        "\n",
        "    epoch_end = time.time()\n",
        "    print (f'Epoch {epoch+1} [ gen loss: {g_loss} ] [ disc loss: {d_loss} ] ETA: {hms_string(epoch_end - epoch_start)}')\n",
        "    # save_images(epoch=epoch, fixed_seed=fixed_seed, total_per_epoch=5)\n",
        "  end = time.time()\n",
        "  print (f'Training time: {hms_string(end - start)}')"
      ],
      "execution_count": 14,
      "outputs": []
    },
    {
      "cell_type": "markdown",
      "metadata": {
        "id": "UQxa9Ff8bgSS"
      },
      "source": [
        "### Creating the dataset from the mnist digits datset"
      ]
    },
    {
      "cell_type": "code",
      "metadata": {
        "id": "vxV3nwn5WJbC"
      },
      "source": [
        "(X_train, _), (X_test, _) = keras.datasets.mnist.load_data()"
      ],
      "execution_count": null,
      "outputs": []
    },
    {
      "cell_type": "markdown",
      "metadata": {
        "id": "5IaGeJyOb3Mr"
      },
      "source": [
        "### Plotting Real mnist Digits."
      ]
    },
    {
      "cell_type": "code",
      "metadata": {
        "colab": {
          "base_uri": "https://localhost:8080/",
          "height": 484
        },
        "id": "CVREa-aPb5Ir",
        "outputId": "11b70d38-6808-465d-a1fb-330ddce6e772"
      },
      "source": [
        "def plot_images(images_and_classes, cols=5):\n",
        "    rows = 4\n",
        "    fig = plt.figure()\n",
        "    fig.set_size_inches(cols * 2, rows * 2)\n",
        "    for i, (image) in enumerate(images_and_classes):\n",
        "        plt.subplot(rows, cols, i + 1)\n",
        "        plt.axis('off')\n",
        "        plt.imshow(image, cmap=\"gray\")\n",
        "        plt.title(\"Real Digit\", color ='g', fontsize=16 )\n",
        "\n",
        "plot_images(X_train[:32], cols=8)"
      ],
      "execution_count": 16,
      "outputs": [
        {
          "output_type": "display_data",
          "data": {
            "image/png": "[encoded data removed]",
            "text/plain": [
              "<Figure size 1152x576 with 32 Axes>"
            ]
          },
          "metadata": {
            "tags": [],
            "needs_background": "light"
          }
        }
      ]
    },
    {
      "cell_type": "code",
      "metadata": {
        "id": "CYP5N0DbcJTi"
      },
      "source": [
        "def reshape_normalize(image):\n",
        "  image = tf.cast(tf.reshape(image, shape=(28, 28, 1)), dtype=tf.float32)\n",
        "  image = image / 255.0\n",
        "  return image"
      ],
      "execution_count": 17,
      "outputs": []
    },
    {
      "cell_type": "code",
      "metadata": {
        "id": "-oQd7yRDcz1i"
      },
      "source": [
        "ds = tf.data.Dataset.from_tensor_slices(X_train).map(reshape_normalize).batch(BATCH_SIZE).shuffle(BUFFER_SIZE)"
      ],
      "execution_count": 18,
      "outputs": []
    },
    {
      "cell_type": "markdown",
      "metadata": {
        "id": "eeVIandUd8DZ"
      },
      "source": [
        "### Training.\n",
        "\n",
        "Now that we have our data let's train the model."
      ]
    },
    {
      "cell_type": "code",
      "metadata": {
        "colab": {
          "base_uri": "https://localhost:8080/"
        },
        "id": "zTJxA0njdvfN",
        "outputId": "7c51df23-57f5-415e-cacf-195397b9d6de"
      },
      "source": [
        "train(ds, 50)"
      ],
      "execution_count": 19,
      "outputs": [
        {
          "output_type": "stream",
          "text": [
            "Epoch 1 [ gen loss: 8.998454093933105 ] [ disc loss: 0.09324462711811066 ] ETA: 0:00:33.24\n",
            "Epoch 2 [ gen loss: 8.925646781921387 ] [ disc loss: 0.12566572427749634 ] ETA: 0:00:31.80\n",
            "Epoch 3 [ gen loss: 7.657073020935059 ] [ disc loss: 0.17455743253231049 ] ETA: 0:00:31.36\n",
            "Epoch 4 [ gen loss: 6.696396827697754 ] [ disc loss: 0.22165143489837646 ] ETA: 0:00:31.38\n",
            "Epoch 5 [ gen loss: 5.980472564697266 ] [ disc loss: 0.28454655408859253 ] ETA: 0:00:31.47\n",
            "Epoch 6 [ gen loss: 5.782625198364258 ] [ disc loss: 0.2860807180404663 ] ETA: 0:00:31.33\n",
            "Epoch 7 [ gen loss: 5.764192581176758 ] [ disc loss: 0.2782078683376312 ] ETA: 0:00:31.35\n",
            "Epoch 8 [ gen loss: 5.503174781799316 ] [ disc loss: 0.3310913145542145 ] ETA: 0:00:31.38\n",
            "Epoch 9 [ gen loss: 5.452436447143555 ] [ disc loss: 0.32842737436294556 ] ETA: 0:00:31.31\n",
            "Epoch 10 [ gen loss: 5.306086540222168 ] [ disc loss: 0.3481382429599762 ] ETA: 0:00:31.23\n",
            "Epoch 11 [ gen loss: 5.107616901397705 ] [ disc loss: 0.3797338902950287 ] ETA: 0:00:31.35\n",
            "Epoch 12 [ gen loss: 5.012111663818359 ] [ disc loss: 0.393453985452652 ] ETA: 0:00:31.44\n",
            "Epoch 13 [ gen loss: 4.799629211425781 ] [ disc loss: 0.4280794560909271 ] ETA: 0:00:31.27\n",
            "Epoch 14 [ gen loss: 4.612970352172852 ] [ disc loss: 0.4702012240886688 ] ETA: 0:00:31.38\n",
            "Epoch 15 [ gen loss: 4.399050235748291 ] [ disc loss: 0.4998767673969269 ] ETA: 0:00:31.38\n",
            "Epoch 16 [ gen loss: 4.2592597007751465 ] [ disc loss: 0.5157287120819092 ] ETA: 0:00:31.22\n",
            "Epoch 17 [ gen loss: 4.191850185394287 ] [ disc loss: 0.5332491397857666 ] ETA: 0:00:31.31\n",
            "Epoch 18 [ gen loss: 4.157871723175049 ] [ disc loss: 0.5132433772087097 ] ETA: 0:00:31.41\n",
            "Epoch 19 [ gen loss: 4.159811019897461 ] [ disc loss: 0.5296645760536194 ] ETA: 0:00:31.29\n",
            "Epoch 20 [ gen loss: 4.101073265075684 ] [ disc loss: 0.5393365025520325 ] ETA: 0:00:31.33\n",
            "Epoch 21 [ gen loss: 4.09713077545166 ] [ disc loss: 0.5323596000671387 ] ETA: 0:00:31.27\n",
            "Epoch 22 [ gen loss: 4.0636138916015625 ] [ disc loss: 0.5636389255523682 ] ETA: 0:00:31.40\n",
            "Epoch 23 [ gen loss: 3.9924473762512207 ] [ disc loss: 0.5511375665664673 ] ETA: 0:00:31.34\n",
            "Epoch 24 [ gen loss: 4.022780418395996 ] [ disc loss: 0.5528676509857178 ] ETA: 0:00:31.41\n",
            "Epoch 25 [ gen loss: 3.9625942707061768 ] [ disc loss: 0.5720468163490295 ] ETA: 0:00:31.37\n",
            "Epoch 26 [ gen loss: 3.9050633907318115 ] [ disc loss: 0.5659976601600647 ] ETA: 0:00:31.29\n",
            "Epoch 27 [ gen loss: 3.9363842010498047 ] [ disc loss: 0.5674816966056824 ] ETA: 0:00:31.44\n",
            "Epoch 28 [ gen loss: 3.9602279663085938 ] [ disc loss: 0.555774986743927 ] ETA: 0:00:31.26\n",
            "Epoch 29 [ gen loss: 3.8811957836151123 ] [ disc loss: 0.5751445293426514 ] ETA: 0:00:31.31\n",
            "Epoch 30 [ gen loss: 3.8710813522338867 ] [ disc loss: 0.5806790590286255 ] ETA: 0:00:41.04\n",
            "Epoch 31 [ gen loss: 3.8781914710998535 ] [ disc loss: 0.5602172613143921 ] ETA: 0:00:31.60\n",
            "Epoch 32 [ gen loss: 3.919853448867798 ] [ disc loss: 0.5874000191688538 ] ETA: 0:00:31.36\n",
            "Epoch 33 [ gen loss: 3.917454481124878 ] [ disc loss: 0.5598630905151367 ] ETA: 0:00:31.18\n",
            "Epoch 34 [ gen loss: 3.9079372882843018 ] [ disc loss: 0.574088454246521 ] ETA: 0:00:31.33\n",
            "Epoch 35 [ gen loss: 3.882622480392456 ] [ disc loss: 0.5629729628562927 ] ETA: 0:00:31.40\n",
            "Epoch 36 [ gen loss: 3.839268922805786 ] [ disc loss: 0.5766934752464294 ] ETA: 0:00:31.28\n",
            "Epoch 37 [ gen loss: 3.8501880168914795 ] [ disc loss: 0.5826671719551086 ] ETA: 0:00:31.25\n",
            "Epoch 38 [ gen loss: 3.796858787536621 ] [ disc loss: 0.5855562686920166 ] ETA: 0:00:31.22\n",
            "Epoch 39 [ gen loss: 3.7836122512817383 ] [ disc loss: 0.5978846549987793 ] ETA: 0:00:31.31\n",
            "Epoch 40 [ gen loss: 3.7636189460754395 ] [ disc loss: 0.5910768508911133 ] ETA: 0:00:31.35\n",
            "Epoch 41 [ gen loss: 3.7317185401916504 ] [ disc loss: 0.5834175944328308 ] ETA: 0:00:31.40\n",
            "Epoch 42 [ gen loss: 3.7552802562713623 ] [ disc loss: 0.5793963670730591 ] ETA: 0:00:31.32\n",
            "Epoch 43 [ gen loss: 3.734004497528076 ] [ disc loss: 0.5913578867912292 ] ETA: 0:00:31.33\n",
            "Epoch 44 [ gen loss: 3.778285264968872 ] [ disc loss: 0.5744831562042236 ] ETA: 0:00:31.24\n",
            "Epoch 45 [ gen loss: 3.736659049987793 ] [ disc loss: 0.5687041878700256 ] ETA: 0:00:31.31\n",
            "Epoch 46 [ gen loss: 3.6833624839782715 ] [ disc loss: 0.6156597137451172 ] ETA: 0:00:31.38\n",
            "Epoch 47 [ gen loss: 3.677194118499756 ] [ disc loss: 0.5892000198364258 ] ETA: 0:00:31.37\n",
            "Epoch 48 [ gen loss: 3.6663565635681152 ] [ disc loss: 0.5836299657821655 ] ETA: 0:00:31.31\n",
            "Epoch 49 [ gen loss: 3.6696598529815674 ] [ disc loss: 0.5841445922851562 ] ETA: 0:00:31.42\n",
            "Epoch 50 [ gen loss: 3.6188011169433594 ] [ disc loss: 0.5877705812454224 ] ETA: 0:00:31.39\n",
            "Training time: 0:26:19.15\n"
          ],
          "name": "stdout"
        }
      ]
    },
    {
      "cell_type": "markdown",
      "metadata": {
        "id": "oe969C-XzzdS"
      },
      "source": [
        "### Retrain the model for more epochs.\n",
        "\n",
        "Since the model loss is still decreasing we can keep on training it for some more `epochs`."
      ]
    },
    {
      "cell_type": "code",
      "metadata": {
        "colab": {
          "base_uri": "https://localhost:8080/"
        },
        "id": "LUWO9GuUzww4",
        "outputId": "2fa2f961-0423-484d-d063-14d64e3e2314"
      },
      "source": [
        "train(ds, 50)"
      ],
      "execution_count": 24,
      "outputs": [
        {
          "output_type": "stream",
          "text": [
            "Epoch 1 [ gen loss: 3.655320167541504 ] [ disc loss: 0.5895501375198364 ] ETA: 0:00:31.64\n",
            "Epoch 2 [ gen loss: 3.583796262741089 ] [ disc loss: 0.605065107345581 ] ETA: 0:00:31.59\n",
            "Epoch 3 [ gen loss: 3.6341397762298584 ] [ disc loss: 0.6142675876617432 ] ETA: 0:00:31.23\n",
            "Epoch 4 [ gen loss: 3.6495890617370605 ] [ disc loss: 0.5758626461029053 ] ETA: 0:00:31.43\n",
            "Epoch 5 [ gen loss: 3.615570545196533 ] [ disc loss: 0.579021692276001 ] ETA: 0:00:31.38\n",
            "Epoch 6 [ gen loss: 3.60137939453125 ] [ disc loss: 0.5979738831520081 ] ETA: 0:00:31.40\n",
            "Epoch 7 [ gen loss: 3.62668776512146 ] [ disc loss: 0.5995293855667114 ] ETA: 0:00:31.40\n",
            "Epoch 8 [ gen loss: 3.5781898498535156 ] [ disc loss: 0.5953206419944763 ] ETA: 0:00:31.37\n",
            "Epoch 9 [ gen loss: 3.593981981277466 ] [ disc loss: 0.5772570371627808 ] ETA: 0:00:31.29\n",
            "Epoch 10 [ gen loss: 3.5600357055664062 ] [ disc loss: 0.6112375259399414 ] ETA: 0:00:31.32\n",
            "Epoch 11 [ gen loss: 3.6106882095336914 ] [ disc loss: 0.5902129411697388 ] ETA: 0:00:31.43\n",
            "Epoch 12 [ gen loss: 3.574305772781372 ] [ disc loss: 0.5911945104598999 ] ETA: 0:00:31.41\n",
            "Epoch 13 [ gen loss: 3.512554168701172 ] [ disc loss: 0.6075116395950317 ] ETA: 0:00:31.38\n",
            "Epoch 14 [ gen loss: 3.5827436447143555 ] [ disc loss: 0.5785872340202332 ] ETA: 0:00:31.40\n",
            "Epoch 15 [ gen loss: 3.5841434001922607 ] [ disc loss: 0.597429633140564 ] ETA: 0:00:31.39\n",
            "Epoch 16 [ gen loss: 3.59698748588562 ] [ disc loss: 0.5863761901855469 ] ETA: 0:00:31.37\n",
            "Epoch 17 [ gen loss: 3.5128965377807617 ] [ disc loss: 0.6014592051506042 ] ETA: 0:00:31.46\n",
            "Epoch 18 [ gen loss: 3.483670473098755 ] [ disc loss: 0.5994183421134949 ] ETA: 0:00:31.32\n",
            "Epoch 19 [ gen loss: 3.487356185913086 ] [ disc loss: 0.5961706638336182 ] ETA: 0:00:31.40\n",
            "Epoch 20 [ gen loss: 3.468151330947876 ] [ disc loss: 0.6088491082191467 ] ETA: 0:00:31.39\n",
            "Epoch 21 [ gen loss: 3.4869019985198975 ] [ disc loss: 0.5837184190750122 ] ETA: 0:00:31.39\n",
            "Epoch 22 [ gen loss: 3.53578782081604 ] [ disc loss: 0.5952382683753967 ] ETA: 0:00:31.32\n",
            "Epoch 23 [ gen loss: 3.5073463916778564 ] [ disc loss: 0.5904958248138428 ] ETA: 0:00:31.41\n",
            "Epoch 24 [ gen loss: 3.459226131439209 ] [ disc loss: 0.599481463432312 ] ETA: 0:00:31.39\n",
            "Epoch 25 [ gen loss: 3.4675447940826416 ] [ disc loss: 0.6079862713813782 ] ETA: 0:00:31.32\n",
            "Epoch 26 [ gen loss: 3.4504241943359375 ] [ disc loss: 0.6162612438201904 ] ETA: 0:00:31.40\n",
            "Epoch 27 [ gen loss: 3.4874913692474365 ] [ disc loss: 0.5676327347755432 ] ETA: 0:00:31.39\n",
            "Epoch 28 [ gen loss: 3.420483112335205 ] [ disc loss: 0.6061715483665466 ] ETA: 0:00:31.32\n",
            "Epoch 29 [ gen loss: 3.4378931522369385 ] [ disc loss: 0.5909161567687988 ] ETA: 0:00:31.35\n",
            "Epoch 30 [ gen loss: 3.4516749382019043 ] [ disc loss: 0.5995752811431885 ] ETA: 0:00:31.34\n",
            "Epoch 31 [ gen loss: 3.420854091644287 ] [ disc loss: 0.6108574867248535 ] ETA: 0:00:31.28\n",
            "Epoch 32 [ gen loss: 3.39050555229187 ] [ disc loss: 0.600002646446228 ] ETA: 0:00:31.36\n",
            "Epoch 33 [ gen loss: 3.3949296474456787 ] [ disc loss: 0.6022514700889587 ] ETA: 0:00:31.38\n",
            "Epoch 34 [ gen loss: 3.384201765060425 ] [ disc loss: 0.620696485042572 ] ETA: 0:00:31.33\n",
            "Epoch 35 [ gen loss: 3.3662168979644775 ] [ disc loss: 0.5999596118927002 ] ETA: 0:00:31.28\n",
            "Epoch 36 [ gen loss: 3.3637006282806396 ] [ disc loss: 0.6330455541610718 ] ETA: 0:00:31.27\n",
            "Epoch 37 [ gen loss: 3.3009486198425293 ] [ disc loss: 0.6351555585861206 ] ETA: 0:00:31.28\n",
            "Epoch 38 [ gen loss: 3.3041670322418213 ] [ disc loss: 0.6160455346107483 ] ETA: 0:00:31.32\n",
            "Epoch 39 [ gen loss: 3.323200225830078 ] [ disc loss: 0.6137723922729492 ] ETA: 0:00:31.40\n",
            "Epoch 40 [ gen loss: 3.2904746532440186 ] [ disc loss: 0.6167240142822266 ] ETA: 0:00:31.30\n",
            "Epoch 41 [ gen loss: 3.2871294021606445 ] [ disc loss: 0.6250698566436768 ] ETA: 0:00:31.32\n",
            "Epoch 42 [ gen loss: 3.36181640625 ] [ disc loss: 0.6064723134040833 ] ETA: 0:00:31.37\n",
            "Epoch 43 [ gen loss: 3.27801513671875 ] [ disc loss: 0.6416486501693726 ] ETA: 0:00:31.30\n",
            "Epoch 44 [ gen loss: 3.2831544876098633 ] [ disc loss: 0.6065053939819336 ] ETA: 0:00:31.38\n",
            "Epoch 45 [ gen loss: 3.254490613937378 ] [ disc loss: 0.6302919387817383 ] ETA: 0:00:31.35\n",
            "Epoch 46 [ gen loss: 3.2543485164642334 ] [ disc loss: 0.6184092164039612 ] ETA: 0:00:31.30\n",
            "Epoch 47 [ gen loss: 3.205857276916504 ] [ disc loss: 0.6292988061904907 ] ETA: 0:00:31.40\n",
            "Epoch 48 [ gen loss: 3.201570510864258 ] [ disc loss: 0.6305392980575562 ] ETA: 0:00:31.34\n",
            "Epoch 49 [ gen loss: 3.21338152885437 ] [ disc loss: 0.6274555325508118 ] ETA: 0:00:31.31\n",
            "Epoch 50 [ gen loss: 3.19523549079895 ] [ disc loss: 0.629078209400177 ] ETA: 0:00:31.42\n",
            "Training time: 0:26:08.34\n"
          ],
          "name": "stdout"
        }
      ]
    },
    {
      "cell_type": "markdown",
      "metadata": {
        "id": "1ot_0WzLmccK"
      },
      "source": [
        "### Generating images."
      ]
    },
    {
      "cell_type": "code",
      "metadata": {
        "id": "JcncTzwAeefo"
      },
      "source": [
        "seeds = tf.random.normal([32, SEED_SIZE])\n",
        "generated = gen_model(seeds, training=False)"
      ],
      "execution_count": 27,
      "outputs": []
    },
    {
      "cell_type": "code",
      "metadata": {
        "id": "ivuz6CBVm0Xt",
        "colab": {
          "base_uri": "https://localhost:8080/",
          "height": 484
        },
        "outputId": "bbd9d9e2-fb9c-4c73-eccc-78c5004ea43d"
      },
      "source": [
        "def plot_images(images_and_classes, cols=5):\n",
        "    rows = 4\n",
        "    fig = plt.figure()\n",
        "    fig.set_size_inches(cols * 2, rows * 2)\n",
        "    for i, (image) in enumerate(images_and_classes):\n",
        "        plt.subplot(rows, cols, i + 1)\n",
        "        plt.axis('off')\n",
        "        plt.imshow(np.array(image.numpy() * 255,np.int32)[:, :, 0] , cmap=\"gray\")\n",
        "        plt.title(\"Fake Digit\", color ='r', fontsize=16 )\n",
        "\n",
        "plot_images(generated[:], cols=8)"
      ],
      "execution_count": 28,
      "outputs": [
        {
          "output_type": "display_data",
          "data": {
            "image/png": "[encoded data removed]",
            "text/plain": [
              "<Figure size 1152x576 with 32 Axes>"
            ]
          },
          "metadata": {
            "tags": [],
            "needs_background": "light"
          }
        }
      ]
    },
    {
      "cell_type": "code",
      "metadata": {
        "id": "YLmTted1mvx4"
      },
      "source": [
        ""
      ],
      "execution_count": null,
      "outputs": []
    }
  ]
}