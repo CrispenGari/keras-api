{
  "nbformat": 4,
  "nbformat_minor": 0,
  "metadata": {
    "colab": {
      "name": "10_NMT_Transformers.ipynb",
      "provenance": []
    },
    "kernelspec": {
      "name": "python3",
      "display_name": "Python 3"
    },
    "language_info": {
      "name": "python"
    },
    "accelerator": "GPU"
  },
  "cells": [
    {
      "cell_type": "markdown",
      "metadata": {
        "id": "ZrF1N_UoWCek"
      },
      "source": [
        "### Nueral Machine Translation `(NMT)` with Transformers for language understanding.\n",
        "\n",
        "This notebook is a follow up to the tensorflow [tutorial](https://www.tensorflow.org/text/tutorials/transformer) on NMT. We are going to create a model that will translate Portuguese to English using [this dataset](https://www.tensorflow.org/datasets/catalog/ted_hrlr_translate#ted_hrlr_translatept_to_en)\n",
        "\n",
        "\n",
        "### Introduction\n",
        "The cored idea behind Transformers model is  `self-attention` —the ability to attend to different positions of the input sequence to compute a representation of that sequence. Transformer creates stacks of self-attention layers and is explained below in the sections Scaled dot product attention and Multi-head attention.\n",
        "\n",
        "A transformer model handles variable-sized input using stacks of self-attention layers instead of RNNs or CNNs. This general architecture has a number of advantages:\n",
        "* It makes no assumptions about the temporal/spatial relationships across the data.\n",
        "* Distant items can affect each other's output without passing through many RNN-steps, or convolution layers (see [Scene Memory Transformer](https://arxiv.org/pdf/1903.03878.pdf) for example).\n",
        "* It can learn long-range dependencies.  This is a challenge in many sequence tasks.\n",
        "\n",
        "\n",
        "The downsides of this architecture are:\n",
        "* For a time-series, the output for a time-step is calculated from the entire history instead of only the inputs and current hidden-state. This may be less efficient.\n",
        "* If the input does have a temporal/spatial relationship, like text, some positional encoding must be added or the model will effectively see a bag of words.\n",
        "\n",
        "### Setup\n"
      ]
    },
    {
      "cell_type": "code",
      "metadata": {
        "colab": {
          "base_uri": "https://localhost:8080/"
        },
        "id": "344J2ke9VtKK",
        "outputId": "208cce20-cd44-4360-db99-f3a25ad1d2bf"
      },
      "source": [
        "!pip install tensorflow_datasets\n",
        "!pip install -U tensorflow-text"
      ],
      "execution_count": 2,
      "outputs": [
        {
          "output_type": "stream",
          "text": [
            "Installing collected packages: tensorflow-text\n",
            "Successfully installed tensorflow-text-2.6.0\n"
          ],
          "name": "stdout"
        }
      ]
    },
    {
      "cell_type": "code",
      "metadata": {
        "colab": {
          "base_uri": "https://localhost:8080/",
          "height": 35
        },
        "id": "1XvtAV7uV82J",
        "outputId": "139bcc64-7d05-4267-ae78-16b621460a3e"
      },
      "source": [
        "import tensorflow as tf\n",
        "from tensorflow import keras\n",
        "import tensorflow_datasets as tfds\n",
        "import tensorflow_text as text\n",
        "\n",
        "import string, sys, os, time, collections, pathlib, re\n",
        "\n",
        "import numpy as np\n",
        "import matplotlib.pyplot as plt\n",
        "\n",
        "tf.__version__"
      ],
      "execution_count": 4,
      "outputs": [
        {
          "output_type": "execute_result",
          "data": {
            "application/vnd.google.colaboratory.intrinsic+json": {
              "type": "string"
            },
            "text/plain": [
              "'2.6.0'"
            ]
          },
          "metadata": {},
          "execution_count": 4
        }
      ]
    },
    {
      "cell_type": "markdown",
      "metadata": {
        "id": "F4gjvn_lYF88"
      },
      "source": [
        "### Downloading the dataset using `tfds`.\n",
        "\n",
        "We are going to load the Portuguese-English translation dataset from the TED Talks Open Translation Project.\n",
        "\n",
        "This dataset contains approximately 50000 training examples, 1100 validation examples, and 2000 test examples."
      ]
    },
    {
      "cell_type": "code",
      "metadata": {
        "id": "avXXjt3OV8zJ"
      },
      "source": [
        "examples, metadata = tfds.load('ted_hrlr_translate/pt_to_en', with_info=True,\n",
        "                               as_supervised=True)\n",
        "train_examples, val_examples = examples['train'], examples['validation']"
      ],
      "execution_count": 41,
      "outputs": []
    },
    {
      "cell_type": "code",
      "metadata": {
        "colab": {
          "base_uri": "https://localhost:8080/"
        },
        "id": "7U7C19-4eQka",
        "outputId": "11ff7187-3720-431c-d682-94714de52c1f"
      },
      "source": [
        "train_examples"
      ],
      "execution_count": 42,
      "outputs": [
        {
          "output_type": "execute_result",
          "data": {
            "text/plain": [
              "<PrefetchDataset shapes: ((), ()), types: (tf.string, tf.string)>"
            ]
          },
          "metadata": {},
          "execution_count": 42
        }
      ]
    },
    {
      "cell_type": "markdown",
      "metadata": {
        "id": "sx8Oe8FPYxQY"
      },
      "source": [
        "The ``tf.data.Dataset`` object returned by TensorFlow datasets yields pairs of text examples:"
      ]
    },
    {
      "cell_type": "code",
      "metadata": {
        "id": "xtbjz0qrZxY4"
      },
      "source": [
        "from prettytable import PrettyTable\n",
        "def tabulate(column_names, data):\n",
        "  table = PrettyTable(column_names)\n",
        "  table.align[column_names[0]] = 'l'\n",
        "  table.align[column_names[1]] = 'l'\n",
        "  table._max_width = {column_names[0] :50, column_names[1]: 50}\n",
        "  for row in data:\n",
        "    table.add_row(row)\n",
        "  print(table)"
      ],
      "execution_count": 27,
      "outputs": []
    },
    {
      "cell_type": "code",
      "metadata": {
        "colab": {
          "base_uri": "https://localhost:8080/"
        },
        "id": "cXSU13e1V8v7",
        "outputId": "85229893-fd5c-4721-c1d0-15411c616b4a"
      },
      "source": [
        "pairs = []\n",
        "for pt_examples, en_examples in train_examples.batch(3).take(1):\n",
        "  for pt, en in zip(pt_example.numpy(), en_example.numpy()):\n",
        "    pairs.append((pt.decode('utf-8'), en.decode('utf-8')))\n",
        "    pairs.append((\"-\"*50, \"-\"*50 ))\n",
        "\n",
        "tabulate((\"pt\", \"eng\"), pairs)"
      ],
      "execution_count": 44,
      "outputs": [
        {
          "output_type": "stream",
          "text": [
            "+----------------------------------------------------+----------------------------------------------------+\n",
            "| pt                                                 | eng                                                |\n",
            "+----------------------------------------------------+----------------------------------------------------+\n",
            "| e quando melhoramos a procura , tiramos a única    | and when you improve searchability , you actually  |\n",
            "| vantagem da impressão , que é a serendipidade .    | take away the one advantage of print , which is    |\n",
            "|                                                    | serendipity .                                      |\n",
            "| -------------------------------------------------- | -------------------------------------------------- |\n",
            "| mas e se estes fatores fossem ativos ?             | but what if it were active ?                       |\n",
            "| -------------------------------------------------- | -------------------------------------------------- |\n",
            "| mas eles não tinham a curiosidade de me testar .   | but they did n't test for curiosity .              |\n",
            "| -------------------------------------------------- | -------------------------------------------------- |\n",
            "+----------------------------------------------------+----------------------------------------------------+\n"
          ],
          "name": "stdout"
        }
      ]
    },
    {
      "cell_type": "markdown",
      "metadata": {
        "id": "7HmS-Buwaje5"
      },
      "source": [
        "### Text Tokenization and detokenization\n",
        "We can't train a model directly on text. The text needs to be converted to some numeric representation first. Typically, we convert the text to sequences of token IDs, which are used as indices into an embedding.\n",
        "\n",
        "One popular implementation is demonstrated in the [Subword tokenizertutorial](https://www.tensorflow.org/text/guide/subwords_tokenizer)  builds subword tokenizers ([`text.BertTokenizer`](https://www.tensorflow.org/text/api_docs/python/text/BertTokenizer)) optimized for this dataset and exports them in a ``saved_model``.\n",
        "\n",
        "Download and unzip and import the ``saved_model:``\n"
      ]
    },
    {
      "cell_type": "code",
      "metadata": {
        "colab": {
          "base_uri": "https://localhost:8080/",
          "height": 35
        },
        "id": "q9oZ6nOQV8s1",
        "outputId": "0b980ab5-f1b5-4abd-a8b1-0a7a687c4e45"
      },
      "source": [
        "model_name = \"ted_hrlr_translate_pt_en_converter\"\n",
        "\n",
        "keras.utils.get_file(\n",
        "    f\"{model_name}.zip\",\n",
        "    f\"https://storage.googleapis.com/download.tensorflow.org/models/{model_name}.zip\",\n",
        "    cache_dir='.', cache_subdir='', extract=True\n",
        ")"
      ],
      "execution_count": 45,
      "outputs": [
        {
          "output_type": "execute_result",
          "data": {
            "application/vnd.google.colaboratory.intrinsic+json": {
              "type": "string"
            },
            "text/plain": [
              "'./ted_hrlr_translate_pt_en_converter.zip'"
            ]
          },
          "metadata": {},
          "execution_count": 45
        }
      ]
    },
    {
      "cell_type": "code",
      "metadata": {
        "id": "b1fJCMUKV8qY"
      },
      "source": [
        "tokenizers = tf.saved_model.load(model_name)"
      ],
      "execution_count": 46,
      "outputs": []
    },
    {
      "cell_type": "markdown",
      "metadata": {
        "id": "ONEkqxsqbnWx"
      },
      "source": [
        "The ``tf.saved_model`` contains two text tokenizers, one for English and one for Portuguese. Both have the same methods:"
      ]
    },
    {
      "cell_type": "code",
      "metadata": {
        "colab": {
          "base_uri": "https://localhost:8080/"
        },
        "id": "KcrBwYpSV8nS",
        "outputId": "370e5d90-2b6b-48ab-b5fc-6728d1171975"
      },
      "source": [
        "[item for item in dir(tokenizers.en) if not item.startswith(\"_\")]"
      ],
      "execution_count": 47,
      "outputs": [
        {
          "output_type": "execute_result",
          "data": {
            "text/plain": [
              "['detokenize',\n",
              " 'get_reserved_tokens',\n",
              " 'get_vocab_path',\n",
              " 'get_vocab_size',\n",
              " 'lookup',\n",
              " 'tokenize',\n",
              " 'tokenizer',\n",
              " 'vocab']"
            ]
          },
          "metadata": {},
          "execution_count": 47
        }
      ]
    },
    {
      "cell_type": "code",
      "metadata": {
        "colab": {
          "base_uri": "https://localhost:8080/"
        },
        "id": "DoOfv8LRV8hy",
        "outputId": "1753ef85-f1c0-4c83-f381-4768abba735e"
      },
      "source": [
        "tokenizers.en.vocab"
      ],
      "execution_count": 16,
      "outputs": [
        {
          "output_type": "execute_result",
          "data": {
            "text/plain": [
              "<tf.Variable 'Variable:0' shape=(7010,) dtype=string, numpy=\n",
              "array([b'[PAD]', b'[UNK]', b'[START]', ..., b'##\\xe2\\x80\\x99',\n",
              "       b'##\\xe2\\x99\\xaa', b'##\\xe2\\x99\\xab'], dtype=object)>"
            ]
          },
          "metadata": {},
          "execution_count": 16
        }
      ]
    },
    {
      "cell_type": "markdown",
      "metadata": {
        "id": "1O_8v4yecDnQ"
      },
      "source": [
        "The ``tokenize`` method converts a batch of strings to a padded-batch of token IDs. This method splits punctuation, lowercases and unicode-normalizes the input before tokenizing. That standardization is not visible here because the input data is already standardized."
      ]
    },
    {
      "cell_type": "code",
      "metadata": {
        "colab": {
          "base_uri": "https://localhost:8080/"
        },
        "id": "76hVySSVcDe6",
        "outputId": "489317d4-eda6-49f0-9334-f34f1a4693dc"
      },
      "source": [
        "for en in en_examples.numpy():\n",
        "  print(en.decode('utf-8'))"
      ],
      "execution_count": 48,
      "outputs": [
        {
          "output_type": "stream",
          "text": [
            "and when you improve searchability , you actually take away the one advantage of print , which is serendipity .\n",
            "but what if it were active ?\n",
            "but they did n't test for curiosity .\n"
          ],
          "name": "stdout"
        }
      ]
    },
    {
      "cell_type": "code",
      "metadata": {
        "colab": {
          "base_uri": "https://localhost:8080/"
        },
        "id": "60t_KDvAcDcP",
        "outputId": "1a7a1454-b8b3-4f0c-f8b4-e7966f1352c3"
      },
      "source": [
        "encoded = tokenizers.en.tokenize(en_examples)\n",
        "\n",
        "for row in encoded.to_list():\n",
        "  print(row)"
      ],
      "execution_count": 49,
      "outputs": [
        {
          "output_type": "stream",
          "text": [
            "[2, 72, 117, 79, 1259, 1491, 2362, 13, 79, 150, 184, 311, 71, 103, 2308, 74, 2679, 13, 148, 80, 55, 4840, 1434, 2423, 540, 15, 3]\n",
            "[2, 87, 90, 107, 76, 129, 1852, 30, 3]\n",
            "[2, 87, 83, 149, 50, 9, 56, 664, 85, 2512, 15, 3]\n"
          ],
          "name": "stdout"
        }
      ]
    },
    {
      "cell_type": "markdown",
      "metadata": {
        "id": "l1tz6HaachUY"
      },
      "source": [
        "The ``detokenize`` method attempts to convert these token IDs back to human readable text:"
      ]
    },
    {
      "cell_type": "code",
      "metadata": {
        "colab": {
          "base_uri": "https://localhost:8080/"
        },
        "id": "hYzbu2IjcDZI",
        "outputId": "5d5b6fc3-c354-4d98-d904-3ab44aafa502"
      },
      "source": [
        "round_trip = tokenizers.en.detokenize(encoded)\n",
        "for line in round_trip.numpy():\n",
        "  print(line.decode('utf-8'))"
      ],
      "execution_count": 50,
      "outputs": [
        {
          "output_type": "stream",
          "text": [
            "and when you improve searchability , you actually take away the one advantage of print , which is serendipity .\n",
            "but what if it were active ?\n",
            "but they did n ' t test for curiosity .\n"
          ],
          "name": "stdout"
        }
      ]
    },
    {
      "cell_type": "markdown",
      "metadata": {
        "id": "uEs70Sifcstx"
      },
      "source": [
        "The lower level ``lookup`` method converts from token-IDs to token text:"
      ]
    },
    {
      "cell_type": "code",
      "metadata": {
        "colab": {
          "base_uri": "https://localhost:8080/"
        },
        "id": "Sl-rrmpncDVr",
        "outputId": "57dd9cbf-fa75-41e3-d1be-51d378f957fb"
      },
      "source": [
        "tokens = tokenizers.en.lookup(encoded)\n",
        "tokens"
      ],
      "execution_count": 51,
      "outputs": [
        {
          "output_type": "execute_result",
          "data": {
            "text/plain": [
              "<tf.RaggedTensor [[b'[START]', b'and', b'when', b'you', b'improve', b'search', b'##ability', b',', b'you', b'actually', b'take', b'away', b'the', b'one', b'advantage', b'of', b'print', b',', b'which', b'is', b's', b'##ere', b'##nd', b'##ip', b'##ity', b'.', b'[END]'], [b'[START]', b'but', b'what', b'if', b'it', b'were', b'active', b'?', b'[END]'], [b'[START]', b'but', b'they', b'did', b'n', b\"'\", b't', b'test', b'for', b'curiosity', b'.', b'[END]']]>"
            ]
          },
          "metadata": {},
          "execution_count": 51
        }
      ]
    },
    {
      "cell_type": "markdown",
      "metadata": {
        "id": "3QtB5gt9c4jZ"
      },
      "source": [
        "Here you can see the \"subword\" aspect of the tokenizers. The word \"searchability\" is decomposed into \"search ##ability\" and the word \"serendipity\" into \"s ##ere ##nd ##ip ##ity\"\n",
        "\n",
        "### Input pipeline.\n",
        "To build an input pipeline suitable for training we'll apply some transformations to the dataset.\n",
        "\n",
        "This function will be used to encode the batches of raw text:"
      ]
    },
    {
      "cell_type": "code",
      "metadata": {
        "id": "HNyAOW5icDSx"
      },
      "source": [
        "def tokenize_pairs(pt, en):\n",
        "  pt = tokenizers.pt.tokenize(pt)\n",
        "  # Convert from ragged to dense, padding with zeros.\n",
        "  pt = pt.to_tensor()\n",
        "\n",
        "  en = tokenizers.en.tokenize(en)\n",
        "  # Convert from ragged to dense, padding with zeros.\n",
        "  en = en.to_tensor()\n",
        "  return pt, en"
      ],
      "execution_count": 52,
      "outputs": []
    },
    {
      "cell_type": "markdown",
      "metadata": {
        "id": "RBH9OeRVdc2o"
      },
      "source": [
        "Here's a simple input pipeline that processes, shuffles and batches the data:"
      ]
    },
    {
      "cell_type": "code",
      "metadata": {
        "id": "45eqid5GcDPp"
      },
      "source": [
        "BUFFER_SIZE = 20000\n",
        "BATCH_SIZE = 64"
      ],
      "execution_count": 23,
      "outputs": []
    },
    {
      "cell_type": "code",
      "metadata": {
        "id": "hkuMh4IdcDGi"
      },
      "source": [
        "def make_batches(ds):\n",
        "  return (\n",
        "      ds\n",
        "      .cache()\n",
        "      .shuffle(BUFFER_SIZE)\n",
        "      .batch(BATCH_SIZE)\n",
        "      .map(tokenize_pairs, num_parallel_calls=tf.data.AUTOTUNE)\n",
        "      .prefetch(tf.data.AUTOTUNE)\n",
        "      )\n",
        "\n",
        "\n",
        "train_batches = make_batches(train_examples)\n",
        "val_batches = make_batches(val_examples)"
      ],
      "execution_count": 53,
      "outputs": []
    },
    {
      "cell_type": "markdown",
      "metadata": {
        "id": "tdovhB9hhD9z"
      },
      "source": [
        "### Positional encoding.\n",
        "\n",
        "Attention layers see their input as a set of vectors, with no sequential order. This model also doesn't contain any recurrent or convolutional layers. Because of this a \"positional encoding\" is added to give the model some information about the relative position of the tokens in the sentence.\n",
        "\n",
        "The positional encoding vector is added to the embedding vector. Embeddings represent a token in a d-dimensional space where tokens with similar meaning will be closer to each other. But the embeddings do not encode the relative position of tokens in a sentence. So after adding the positional encoding, tokens will be closer to each other based on the similarity of their meaning and their position in the sentence, in the d-dimensional space.\n",
        "\n",
        "The formula for calculating the positional encoding is as follows:\n",
        "\n",
        "\n",
        "$$\\Large{PE_{(pos, 2i)} = \\sin(pos / 10000^{2i / d_{model}})} $$\n",
        "$$\\Large{PE_{(pos, 2i+1)} = \\cos(pos / 10000^{2i / d_{model}})} $$\n",
        "\n"
      ]
    },
    {
      "cell_type": "code",
      "metadata": {
        "id": "GIifuSgKV8fI"
      },
      "source": [
        "def get_angles(pos, i, d_model):\n",
        "  angle_rates = 1 / np.power(10000, (2 * (i//2)) / np.float32(d_model))\n",
        "  return pos * angle_rates"
      ],
      "execution_count": 55,
      "outputs": []
    },
    {
      "cell_type": "code",
      "metadata": {
        "id": "iUfor47hV8b6"
      },
      "source": [
        "def positional_encoding(position, d_model):\n",
        "  angle_rads = get_angles(np.arange(position)[:, np.newaxis],\n",
        "                          np.arange(d_model)[np.newaxis, :],\n",
        "                          d_model)\n",
        "\n",
        "  # apply sin to even indices in the array; 2i\n",
        "  angle_rads[:, 0::2] = np.sin(angle_rads[:, 0::2])\n",
        "\n",
        "  # apply cos to odd indices in the array; 2i+1\n",
        "  angle_rads[:, 1::2] = np.cos(angle_rads[:, 1::2])\n",
        "\n",
        "  pos_encoding = angle_rads[np.newaxis, ...]\n",
        "\n",
        "  return tf.cast(pos_encoding, dtype=tf.float32)"
      ],
      "execution_count": 56,
      "outputs": []
    },
    {
      "cell_type": "code",
      "metadata": {
        "colab": {
          "base_uri": "https://localhost:8080/",
          "height": 300
        },
        "id": "34xOPQ_Hibra",
        "outputId": "ab9d3e03-6f61-4389-a972-ad9d9e40aea8"
      },
      "source": [
        "n, d = 2048, 512\n",
        "pos_encoding = positional_encoding(n, d)\n",
        "print(pos_encoding.shape)\n",
        "pos_encoding = pos_encoding[0]\n",
        "\n",
        "# Juggle the dimensions for the plot\n",
        "pos_encoding = tf.reshape(pos_encoding, (n, d//2, 2))\n",
        "pos_encoding = tf.transpose(pos_encoding, (2, 1, 0))\n",
        "pos_encoding = tf.reshape(pos_encoding, (d, n))\n",
        "\n",
        "plt.pcolormesh(pos_encoding, cmap='RdBu')\n",
        "plt.ylabel('Depth')\n",
        "plt.xlabel('Position')\n",
        "plt.colorbar()\n",
        "plt.show()"
      ],
      "execution_count": 57,
      "outputs": [
        {
          "output_type": "stream",
          "text": [
            "(1, 2048, 512)\n"
          ],
          "name": "stdout"
        },
        {
          "output_type": "display_data",
          "data": {
            "image/png": "[encoded data removed]",
            "text/plain": [
              "<Figure size 432x288 with 2 Axes>"
            ]
          },
          "metadata": {
            "needs_background": "light"
          }
        }
      ]
    },
    {
      "cell_type": "markdown",
      "metadata": {
        "id": "SCyuwNlSig3R"
      },
      "source": [
        "### Masking\n",
        "Mask all the pad tokens in the batch of sequence. It ensures that the model does not treat padding as the input. The mask indicates where pad value ``0`` is present: it outputs a ``1`` at those locations, and a ``0`` otherwise."
      ]
    },
    {
      "cell_type": "code",
      "metadata": {
        "id": "mKKlpiKmidW0"
      },
      "source": [
        "def create_padding_mask(seq):\n",
        "  seq = tf.cast(tf.math.equal(seq, 0), tf.float32)\n",
        "  # add extra dimensions to add the padding\n",
        "  # to the attention logits.\n",
        "  return seq[:, tf.newaxis, tf.newaxis, :]  # (batch_size, 1, 1, seq_len)"
      ],
      "execution_count": 58,
      "outputs": []
    },
    {
      "cell_type": "code",
      "metadata": {
        "colab": {
          "base_uri": "https://localhost:8080/"
        },
        "id": "r6AaP7vqi5ay",
        "outputId": "78597594-5b86-49cf-bb76-c0d6d672ad12"
      },
      "source": [
        "x = tf.constant([[7, 6, 0, 0, 1], [1, 2, 3, 0, 0], [0, 0, 0, 4, 5]])\n",
        "create_padding_mask(x)"
      ],
      "execution_count": 59,
      "outputs": [
        {
          "output_type": "execute_result",
          "data": {
            "text/plain": [
              "<tf.Tensor: shape=(3, 1, 1, 5), dtype=float32, numpy=\n",
              "array([[[[0., 0., 1., 1., 0.]]],\n",
              "\n",
              "\n",
              "       [[[0., 0., 0., 1., 1.]]],\n",
              "\n",
              "\n",
              "       [[[1., 1., 1., 0., 0.]]]], dtype=float32)>"
            ]
          },
          "metadata": {},
          "execution_count": 59
        }
      ]
    },
    {
      "cell_type": "markdown",
      "metadata": {
        "id": "n3ROQsFgi-Sr"
      },
      "source": [
        "The look-ahead mask is used to mask the future tokens in a sequence. In other words, the mask indicates which entries should not be used.\n",
        "\n",
        "This means that to predict the third token, only the first and second token will be used. Similarly to predict the fourth token, only the first, second and the third tokens will be used and so on."
      ]
    },
    {
      "cell_type": "code",
      "metadata": {
        "id": "cj4DlJq5i5Wo"
      },
      "source": [
        "def create_look_ahead_mask(size):\n",
        "  mask = 1 - tf.linalg.band_part(tf.ones((size, size)), -1, 0)\n",
        "  return mask  # (seq_len, seq_len)"
      ],
      "execution_count": 60,
      "outputs": []
    },
    {
      "cell_type": "code",
      "metadata": {
        "colab": {
          "base_uri": "https://localhost:8080/"
        },
        "id": "VcSPwLMKi5UV",
        "outputId": "69abdd9b-2b8c-47ff-a897-c44a32640b26"
      },
      "source": [
        "x = tf.random.uniform((1, 3))\n",
        "temp = create_look_ahead_mask(x.shape[1])\n",
        "temp"
      ],
      "execution_count": 61,
      "outputs": [
        {
          "output_type": "execute_result",
          "data": {
            "text/plain": [
              "<tf.Tensor: shape=(3, 3), dtype=float32, numpy=\n",
              "array([[0., 1., 1.],\n",
              "       [0., 0., 1.],\n",
              "       [0., 0., 0.]], dtype=float32)>"
            ]
          },
          "metadata": {},
          "execution_count": 61
        }
      ]
    },
    {
      "cell_type": "markdown",
      "metadata": {
        "id": "mJSyDUJ9mHzp"
      },
      "source": [
        "### Scaled dot product attention\n",
        "\n",
        "![img](https://www.tensorflow.org/images/tutorials/transformer/scaled_attention.png)\n",
        "\n",
        "The attention function used by the transformer takes three inputs: Q (query), K (key), V (value). The equation used to calculate the attention weights is:\n",
        "\n",
        "$$\\Large{Attention(Q, K, V) = softmax_k\\left(\\frac{QK^T}{\\sqrt{d_k}}\\right) V} $$\n",
        "\n",
        "The dot-product attention is scaled by a factor of square root of the depth. This is done because for large values of depth, the dot product grows large in magnitude pushing the softmax function where it has small gradients resulting in a very hard softmax. \n",
        "\n",
        "For example, consider that `Q` and `K` have a mean of 0 and variance of 1. Their matrix multiplication will have a mean of 0 and variance of `dk`. So the *square root of `dk`* is used for scaling, so you get a consistent variance regardless of the value of `dk`. If the variance is too low the output may be too flat to optimize effectively. If the variance is too high the softmax may saturate at initialization making it difficult to learn.\n",
        "\n",
        "The mask is multiplied with -1e9 (close to negative infinity). This is done because the mask is summed with the scaled matrix multiplication of Q and K and is applied immediately before a softmax. The goal is to zero out these cells, and large negative inputs to softmax are near zero in the output.\n",
        "\n"
      ]
    },
    {
      "cell_type": "code",
      "metadata": {
        "id": "ls1Y_BfKi5QS"
      },
      "source": [
        "def scaled_dot_product_attention(q, k, v, mask):\n",
        "  \"\"\"Calculate the attention weights.\n",
        "  q, k, v must have matching leading dimensions.\n",
        "  k, v must have matching penultimate dimension, i.e.: seq_len_k = seq_len_v.\n",
        "  The mask has different shapes depending on its type(padding or look ahead)\n",
        "  but it must be broadcastable for addition.\n",
        "  Args:\n",
        "    q: query shape == (..., seq_len_q, depth)\n",
        "    k: key shape == (..., seq_len_k, depth)\n",
        "    v: value shape == (..., seq_len_v, depth_v)\n",
        "    mask: Float tensor with shape broadcastable\n",
        "          to (..., seq_len_q, seq_len_k). Defaults to None.\n",
        "  Returns:\n",
        "    output, attention_weights\n",
        "  \"\"\"\n",
        "  matmul_qk = tf.matmul(q, k, transpose_b=True)  # (..., seq_len_q, seq_len_k)\n",
        "  # scale matmul_qk\n",
        "  dk = tf.cast(tf.shape(k)[-1], tf.float32)\n",
        "  scaled_attention_logits = matmul_qk / tf.math.sqrt(dk)\n",
        "\n",
        "  # add the mask to the scaled tensor.\n",
        "  if mask is not None:\n",
        "    scaled_attention_logits += (mask * -1e9)\n",
        "\n",
        "  # softmax is normalized on the last axis (seq_len_k) so that the scores\n",
        "  # add up to 1.\n",
        "  attention_weights = tf.nn.softmax(scaled_attention_logits, axis=-1)  # (..., seq_len_q, seq_len_k)\n",
        "\n",
        "  output = tf.matmul(attention_weights, v)  # (..., seq_len_q, depth_v)\n",
        "\n",
        "  return output, attention_weights\n",
        "  "
      ],
      "execution_count": 62,
      "outputs": []
    },
    {
      "cell_type": "markdown",
      "metadata": {
        "id": "EgwC1781nITx"
      },
      "source": [
        "As the softmax normalization is done on ``K``, its values decide the amount of importance given to Q.\n",
        "\n",
        "The output represents the multiplication of the attention weights and the V (value) vector. This ensures that the tokens you want to focus on are kept as-is and the irrelevant tokens are flushed out."
      ]
    },
    {
      "cell_type": "code",
      "metadata": {
        "id": "C0jdbhVbi5Ni"
      },
      "source": [
        "def print_out(q, k, v):\n",
        "  temp_out, temp_attn = scaled_dot_product_attention(\n",
        "      q, k, v, None)\n",
        "  print('Attention weights are:')\n",
        "  print(temp_attn)\n",
        "  print('Output is:')\n",
        "  print(temp_out)"
      ],
      "execution_count": 63,
      "outputs": []
    },
    {
      "cell_type": "code",
      "metadata": {
        "colab": {
          "base_uri": "https://localhost:8080/"
        },
        "id": "vnNCmzzai5Lb",
        "outputId": "7c10c47a-dfea-402d-9118-9504b789128b"
      },
      "source": [
        "np.set_printoptions(suppress=True)\n",
        "\n",
        "temp_k = tf.constant([[10, 0, 0],\n",
        "                      [0, 10, 0],\n",
        "                      [0, 0, 10],\n",
        "                      [0, 0, 10]], dtype=tf.float32)  # (4, 3)\n",
        "\n",
        "temp_v = tf.constant([[1, 0],\n",
        "                      [10, 0],\n",
        "                      [100, 5],\n",
        "                      [1000, 6]], dtype=tf.float32)  # (4, 2)\n",
        "\n",
        "# This `query` aligns with the second `key`,\n",
        "# so the second `value` is returned.\n",
        "temp_q = tf.constant([[0, 10, 0]], dtype=tf.float32)  # (1, 3)\n",
        "print_out(temp_q, temp_k, temp_v)"
      ],
      "execution_count": 64,
      "outputs": [
        {
          "output_type": "stream",
          "text": [
            "Attention weights are:\n",
            "tf.Tensor([[0. 1. 0. 0.]], shape=(1, 4), dtype=float32)\n",
            "Output is:\n",
            "tf.Tensor([[10.  0.]], shape=(1, 2), dtype=float32)\n"
          ],
          "name": "stdout"
        }
      ]
    },
    {
      "cell_type": "code",
      "metadata": {
        "colab": {
          "base_uri": "https://localhost:8080/"
        },
        "id": "0pPIcBCni5Hx",
        "outputId": "b7746418-2d48-48d7-874e-d73911f3fa0d"
      },
      "source": [
        "# This query aligns with a repeated key (third and fourth),\n",
        "# so all associated values get averaged.\n",
        "temp_q = tf.constant([[0, 0, 10]], dtype=tf.float32)  # (1, 3)\n",
        "print_out(temp_q, temp_k, temp_v)"
      ],
      "execution_count": 65,
      "outputs": [
        {
          "output_type": "stream",
          "text": [
            "Attention weights are:\n",
            "tf.Tensor([[0.  0.  0.5 0.5]], shape=(1, 4), dtype=float32)\n",
            "Output is:\n",
            "tf.Tensor([[550.    5.5]], shape=(1, 2), dtype=float32)\n"
          ],
          "name": "stdout"
        }
      ]
    },
    {
      "cell_type": "code",
      "metadata": {
        "colab": {
          "base_uri": "https://localhost:8080/"
        },
        "id": "gJlsPLk8i5E1",
        "outputId": "5aa62f82-da8d-413b-fe90-b47d827454f3"
      },
      "source": [
        "# This query aligns equally with the first and second key,\n",
        "# so their values get averaged.\n",
        "temp_q = tf.constant([[10, 10, 0]], dtype=tf.float32)  # (1, 3)\n",
        "print_out(temp_q, temp_k, temp_v)"
      ],
      "execution_count": 66,
      "outputs": [
        {
          "output_type": "stream",
          "text": [
            "Attention weights are:\n",
            "tf.Tensor([[0.5 0.5 0.  0. ]], shape=(1, 4), dtype=float32)\n",
            "Output is:\n",
            "tf.Tensor([[5.5 0. ]], shape=(1, 2), dtype=float32)\n"
          ],
          "name": "stdout"
        }
      ]
    },
    {
      "cell_type": "markdown",
      "metadata": {
        "id": "rJKBOwifnXTY"
      },
      "source": [
        "Pass all the queries together."
      ]
    },
    {
      "cell_type": "code",
      "metadata": {
        "colab": {
          "base_uri": "https://localhost:8080/"
        },
        "id": "mXdnG2mVnUnJ",
        "outputId": "74bd6d7b-a2b4-4dba-ad86-c91a4f9d599c"
      },
      "source": [
        "temp_q = tf.constant([[0, 0, 10],\n",
        "                      [0, 10, 0],\n",
        "                      [10, 10, 0]], dtype=tf.float32)  # (3, 3)\n",
        "print_out(temp_q, temp_k, temp_v)"
      ],
      "execution_count": 67,
      "outputs": [
        {
          "output_type": "stream",
          "text": [
            "Attention weights are:\n",
            "tf.Tensor(\n",
            "[[0.  0.  0.5 0.5]\n",
            " [0.  1.  0.  0. ]\n",
            " [0.5 0.5 0.  0. ]], shape=(3, 4), dtype=float32)\n",
            "Output is:\n",
            "tf.Tensor(\n",
            "[[550.    5.5]\n",
            " [ 10.    0. ]\n",
            " [  5.5   0. ]], shape=(3, 2), dtype=float32)\n"
          ],
          "name": "stdout"
        }
      ]
    },
    {
      "cell_type": "markdown",
      "metadata": {
        "id": "PK8Dupv3naKx"
      },
      "source": [
        "### Multi-head attention\n",
        "\n",
        "<img src=\"https://www.tensorflow.org/images/tutorials/transformer/multi_head_attention.png\" width=\"500\" alt=\"multi-head attention\">\n",
        "\n",
        "\n",
        "Multi-head attention consists of four parts:\n",
        "*    Linear layers.\n",
        "*    Scaled dot-product attention.\n",
        "*    Final linear layer.\n",
        "\n",
        "\n",
        "Each multi-head attention block gets three inputs; Q (query), K (key), V (value). These are put through linear (Dense) layers before the multi-head attention function.\n",
        "\n",
        "In the diagram above `(K,Q,V)` are passed through sepearte linear (`Dense`) layers for each attention head. For simplicity/efficiency the code below implements this using a single dense layer with `num_heads` times as many outputs. The output is rearranged to a shape of `(batch, num_heads, ...)` before applying the attention function.\n",
        "\n",
        "The `scaled_dot_product_attention` function defined above is applied in a single call, broadcasted for efficiency. An appropriate mask must be used in the attention step.  The attention output for each head is then concatenated (using `tf.transpose`, and `tf.reshape`) and put through a final `Dense` layer.\n",
        "\n",
        "Instead of one single attention head, Q, K, and V are split into multiple heads because it allows the model to jointly attend to information from different representation subspaces at different positions. After the split each head has a reduced dimensionality, so the total computation cost is the same as a single head attention with full dimensionality."
      ]
    },
    {
      "cell_type": "code",
      "metadata": {
        "id": "XULAkG8CnY8A"
      },
      "source": [
        "class MultiHeadAttention(tf.keras.layers.Layer):\n",
        "  def __init__(self, d_model, num_heads):\n",
        "    super(MultiHeadAttention, self).__init__()\n",
        "    self.num_heads = num_heads\n",
        "    self.d_model = d_model\n",
        "\n",
        "    assert d_model % self.num_heads == 0\n",
        "\n",
        "    self.depth = d_model // self.num_heads\n",
        "\n",
        "    self.wq = tf.keras.layers.Dense(d_model)\n",
        "    self.wk = tf.keras.layers.Dense(d_model)\n",
        "    self.wv = tf.keras.layers.Dense(d_model)\n",
        "\n",
        "    self.dense = tf.keras.layers.Dense(d_model)\n",
        "\n",
        "  def split_heads(self, x, batch_size):\n",
        "    \"\"\"Split the last dimension into (num_heads, depth).\n",
        "    Transpose the result such that the shape is (batch_size, num_heads, seq_len, depth)\n",
        "    \"\"\"\n",
        "    x = tf.reshape(x, (batch_size, -1, self.num_heads, self.depth))\n",
        "    return tf.transpose(x, perm=[0, 2, 1, 3])\n",
        "\n",
        "  def call(self, v, k, q, mask):\n",
        "    batch_size = tf.shape(q)[0]\n",
        "\n",
        "    q = self.wq(q)  # (batch_size, seq_len, d_model)\n",
        "    k = self.wk(k)  # (batch_size, seq_len, d_model)\n",
        "    v = self.wv(v)  # (batch_size, seq_len, d_model)\n",
        "\n",
        "    q = self.split_heads(q, batch_size)  # (batch_size, num_heads, seq_len_q, depth)\n",
        "    k = self.split_heads(k, batch_size)  # (batch_size, num_heads, seq_len_k, depth)\n",
        "    v = self.split_heads(v, batch_size)  # (batch_size, num_heads, seq_len_v, depth)\n",
        "\n",
        "    # scaled_attention.shape == (batch_size, num_heads, seq_len_q, depth)\n",
        "    # attention_weights.shape == (batch_size, num_heads, seq_len_q, seq_len_k)\n",
        "    scaled_attention, attention_weights = scaled_dot_product_attention(\n",
        "        q, k, v, mask)\n",
        "\n",
        "    scaled_attention = tf.transpose(scaled_attention, perm=[0, 2, 1, 3])  # (batch_size, seq_len_q, num_heads, depth)\n",
        "\n",
        "    concat_attention = tf.reshape(scaled_attention,\n",
        "                                  (batch_size, -1, self.d_model))  # (batch_size, seq_len_q, d_model)\n",
        "\n",
        "    output = self.dense(concat_attention)  # (batch_size, seq_len_q, d_model)\n",
        "\n",
        "    return output, attention_weights\n",
        "    "
      ],
      "execution_count": 69,
      "outputs": []
    },
    {
      "cell_type": "markdown",
      "metadata": {
        "id": "3OVsS1LsnyFq"
      },
      "source": [
        "Create a `MultiHeadAttention` layer to try out. At each location in the sequence, `y`, the `MultiHeadAttention` runs all 8 attention heads across all other locations in the sequence, returning a new vector of the same length at each location."
      ]
    },
    {
      "cell_type": "code",
      "metadata": {
        "colab": {
          "base_uri": "https://localhost:8080/"
        },
        "id": "xGVKwW0qnvh3",
        "outputId": "5bccefd5-c30b-4328-fd07-39348ee6d87d"
      },
      "source": [
        "temp_mha = MultiHeadAttention(d_model=512, num_heads=8)\n",
        "y = tf.random.uniform((1, 60, 512))  # (batch_size, encoder_sequence, d_model)\n",
        "out, attn = temp_mha(y, k=y, q=y, mask=None)\n",
        "out.shape, attn.shape"
      ],
      "execution_count": 70,
      "outputs": [
        {
          "output_type": "execute_result",
          "data": {
            "text/plain": [
              "(TensorShape([1, 60, 512]), TensorShape([1, 8, 60, 60]))"
            ]
          },
          "metadata": {},
          "execution_count": 70
        }
      ]
    },
    {
      "cell_type": "markdown",
      "metadata": {
        "id": "j04TBTNPnx1Q"
      },
      "source": [
        "## Point wise feed forward network\"\n",
        "Point wise feed forward network consists of two fully-connected layers with a ReLU activation in between."
      ]
    },
    {
      "cell_type": "code",
      "metadata": {
        "id": "IvHVfAshnxzm"
      },
      "source": [
        "def point_wise_feed_forward_network(d_model, dff):\n",
        "  return tf.keras.Sequential([\n",
        "      tf.keras.layers.Dense(dff, activation='relu'),  # (batch_size, seq_len, dff)\n",
        "      tf.keras.layers.Dense(d_model)  # (batch_size, seq_len, d_model)\n",
        "  ])"
      ],
      "execution_count": 71,
      "outputs": []
    },
    {
      "cell_type": "code",
      "metadata": {
        "colab": {
          "base_uri": "https://localhost:8080/"
        },
        "id": "mcbp0iMgnxvR",
        "outputId": "fb5e557c-a6fe-4cf5-f2da-61e4d28bd7fa"
      },
      "source": [
        "sample_ffn = point_wise_feed_forward_network(512, 2048)\n",
        "sample_ffn(tf.random.uniform((64, 50, 512))).shape"
      ],
      "execution_count": 72,
      "outputs": [
        {
          "output_type": "execute_result",
          "data": {
            "text/plain": [
              "TensorShape([64, 50, 512])"
            ]
          },
          "metadata": {},
          "execution_count": 72
        }
      ]
    },
    {
      "cell_type": "markdown",
      "metadata": {
        "id": "CKkoytyEoBRO"
      },
      "source": [
        "###Encoder Decoder Model\n",
        "![img](https://www.tensorflow.org/images/tutorials/transformer/transformer.png)\n",
        "\n",
        "The transformer model follows the same general pattern as a standard [sequence to sequence with attention model](https://www.tensorflow.org/text/tutorials/nmt_with_attention.ipynb). \n",
        "\n",
        "* The input sentence is passed through `N` encoder layers that generates an output for each token in the sequence.\n",
        "* The decoder attends to the encoder's output and its own input (self-attention) to predict the next word. \n",
        "\n",
        "### Encoder Layer\n",
        "Each encoder layer consists of sublayers:\n",
        "\n",
        "1.   Multi-head attention (with padding mask) \n",
        "2.    Point wise feed forward networks. \n",
        "\n",
        "Each of these sublayers has a residual connection around it followed by a layer normalization. Residual connections help in avoiding the vanishing gradient problem in deep networks.\n",
        "\n",
        "The output of each sublayer is `LayerNorm(x + Sublayer(x))`. The normalization is done on the `d_model` (last) axis. There are N encoder layers in the transformer."
      ]
    },
    {
      "cell_type": "code",
      "metadata": {
        "id": "aTItri-boEcf"
      },
      "source": [
        "class EncoderLayer(keras.layers.Layer):\n",
        "  def __init__(self, d_model, num_heads, dff, rate=0.1):\n",
        "    super(EncoderLayer, self).__init__()\n",
        "\n",
        "    self.mha = MultiHeadAttention(d_model, num_heads)\n",
        "    self.ffn = point_wise_feed_forward_network(d_model, dff)\n",
        "\n",
        "    self.layernorm1 = keras.layers.LayerNormalization(epsilon=1e-6)\n",
        "    self.layernorm2 = keras.layers.LayerNormalization(epsilon=1e-6)\n",
        "\n",
        "    self.dropout1 = keras.layers.Dropout(rate)\n",
        "    self.dropout2 = tf.keras.layers.Dropout(rate)\n",
        "\n",
        "  def call(self, x, training, mask):\n",
        "\n",
        "    attn_output, _ = self.mha(x, x, x, mask)  # (batch_size, input_seq_len, d_model)\n",
        "    attn_output = self.dropout1(attn_output, training=training)\n",
        "    out1 = self.layernorm1(x + attn_output)  # (batch_size, input_seq_len, d_model)\n",
        "\n",
        "    ffn_output = self.ffn(out1)  # (batch_size, input_seq_len, d_model)\n",
        "    ffn_output = self.dropout2(ffn_output, training=training)\n",
        "    out2 = self.layernorm2(out1 + ffn_output)  # (batch_size, input_seq_len, d_model)\n",
        "\n",
        "    return out2"
      ],
      "execution_count": 73,
      "outputs": []
    },
    {
      "cell_type": "code",
      "metadata": {
        "colab": {
          "base_uri": "https://localhost:8080/"
        },
        "id": "bSEEklBFooUM",
        "outputId": "a3e37f40-d229-4900-f7cb-c58383542a49"
      },
      "source": [
        "sample_encoder_layer = EncoderLayer(512, 8, 2048)\n",
        "\n",
        "sample_encoder_layer_output = sample_encoder_layer(\n",
        "    tf.random.uniform((64, 43, 512)), False, None)\n",
        "\n",
        "sample_encoder_layer_output.shape  # (batch_size, input_seq_len, d_model)"
      ],
      "execution_count": 74,
      "outputs": [
        {
          "output_type": "execute_result",
          "data": {
            "text/plain": [
              "TensorShape([64, 43, 512])"
            ]
          },
          "metadata": {},
          "execution_count": 74
        }
      ]
    },
    {
      "cell_type": "markdown",
      "metadata": {
        "id": "iPTxuEUToBJB"
      },
      "source": [
        "### Decoder layer\n",
        "\n",
        "Each decoder layer consists of sublayers:\n",
        "\n",
        "1.   Masked multi-head attention (with look ahead mask and padding mask)\n",
        "2.   Multi-head attention (with padding mask). V (value) and K (key) receive the *encoder output* as inputs. Q (query) receives the *output from the masked multi-head attention sublayer.*\n",
        "3.   Point wise feed forward networks\n",
        "\n",
        "Each of these sublayers has a residual connection around it followed by a layer normalization. The output of each sublayer is `LayerNorm(x + Sublayer(x))`. The normalization is done on the `d_model` (last) axis.\n",
        "\n",
        "There are N decoder layers in the transformer.\n",
        "\n",
        "As Q receives the output from decoder's first attention block, and K receives the encoder output, the attention weights represent the importance given to the decoder's input based on the encoder's output. In other words, the decoder predicts the next token by looking at the encoder output and self-attending to its own output. See the demonstration above in the scaled dot product attention section."
      ]
    },
    {
      "cell_type": "code",
      "metadata": {
        "id": "9HhMBgOTnxsU"
      },
      "source": [
        "class DecoderLayer(tf.keras.layers.Layer):\n",
        "  def __init__(self, d_model, num_heads, dff, rate=0.1):\n",
        "    super(DecoderLayer, self).__init__()\n",
        "\n",
        "    self.mha1 = MultiHeadAttention(d_model, num_heads)\n",
        "    self.mha2 = MultiHeadAttention(d_model, num_heads)\n",
        "\n",
        "    self.ffn = point_wise_feed_forward_network(d_model, dff)\n",
        "\n",
        "    self.layernorm1 = tf.keras.layers.LayerNormalization(epsilon=1e-6)\n",
        "    self.layernorm2 = tf.keras.layers.LayerNormalization(epsilon=1e-6)\n",
        "    self.layernorm3 = tf.keras.layers.LayerNormalization(epsilon=1e-6)\n",
        "\n",
        "    self.dropout1 = tf.keras.layers.Dropout(rate)\n",
        "    self.dropout2 = tf.keras.layers.Dropout(rate)\n",
        "    self.dropout3 = tf.keras.layers.Dropout(rate)\n",
        "\n",
        "  def call(self, x, enc_output, training,\n",
        "           look_ahead_mask, padding_mask):\n",
        "    # enc_output.shape == (batch_size, input_seq_len, d_model)\n",
        "\n",
        "    attn1, attn_weights_block1 = self.mha1(x, x, x, look_ahead_mask)  # (batch_size, target_seq_len, d_model)\n",
        "    attn1 = self.dropout1(attn1, training=training)\n",
        "    out1 = self.layernorm1(attn1 + x)\n",
        "\n",
        "    attn2, attn_weights_block2 = self.mha2(\n",
        "        enc_output, enc_output, out1, padding_mask)  # (batch_size, target_seq_len, d_model)\n",
        "    attn2 = self.dropout2(attn2, training=training)\n",
        "    out2 = self.layernorm2(attn2 + out1)  # (batch_size, target_seq_len, d_model)\n",
        "\n",
        "    ffn_output = self.ffn(out2)  # (batch_size, target_seq_len, d_model)\n",
        "    ffn_output = self.dropout3(ffn_output, training=training)\n",
        "    out3 = self.layernorm3(ffn_output + out2)  # (batch_size, target_seq_len, d_model)\n",
        "\n",
        "    return out3, attn_weights_block1, attn_weights_block2\n",
        "    "
      ],
      "execution_count": 75,
      "outputs": []
    },
    {
      "cell_type": "code",
      "metadata": {
        "colab": {
          "base_uri": "https://localhost:8080/"
        },
        "id": "_WDfr8JBoy7h",
        "outputId": "f8246a59-da7b-446a-e9f0-d732e9650f79"
      },
      "source": [
        "sample_decoder_layer = DecoderLayer(512, 8, 2048)\n",
        "\n",
        "sample_decoder_layer_output, _, _ = sample_decoder_layer(\n",
        "    tf.random.uniform((64, 50, 512)), sample_encoder_layer_output,\n",
        "    False, None, None)\n",
        "\n",
        "sample_decoder_layer_output.shape  # (batch_size, target_seq_len, d_model)"
      ],
      "execution_count": 76,
      "outputs": [
        {
          "output_type": "execute_result",
          "data": {
            "text/plain": [
              "TensorShape([64, 50, 512])"
            ]
          },
          "metadata": {},
          "execution_count": 76
        }
      ]
    },
    {
      "cell_type": "markdown",
      "metadata": {
        "id": "Qu_xjuBto3sD"
      },
      "source": [
        "### Encoder\n",
        "\n",
        "The `Encoder` consists of:\n",
        "1.   Input Embedding\n",
        "2.   Positional Encoding\n",
        "3.   N encoder layers\n",
        "\n",
        "The input is put through an embedding which is summed with the positional encoding. The output of this summation is the input to the encoder layers. The output of the encoder is the input to the decoder."
      ]
    },
    {
      "cell_type": "code",
      "metadata": {
        "id": "sIVzxBeVo0tY"
      },
      "source": [
        "class Encoder(tf.keras.layers.Layer):\n",
        "  def __init__(self, num_layers, d_model, num_heads, dff, input_vocab_size,\n",
        "               maximum_position_encoding, rate=0.1):\n",
        "    super(Encoder, self).__init__()\n",
        "\n",
        "    self.d_model = d_model\n",
        "    self.num_layers = num_layers\n",
        "\n",
        "    self.embedding = tf.keras.layers.Embedding(input_vocab_size, d_model)\n",
        "    self.pos_encoding = positional_encoding(maximum_position_encoding,\n",
        "                                            self.d_model)\n",
        "\n",
        "    self.enc_layers = [EncoderLayer(d_model, num_heads, dff, rate)\n",
        "                       for _ in range(num_layers)]\n",
        "\n",
        "    self.dropout = tf.keras.layers.Dropout(rate)\n",
        "\n",
        "  def call(self, x, training, mask):\n",
        "\n",
        "    seq_len = tf.shape(x)[1]\n",
        "\n",
        "    # adding embedding and position encoding.\n",
        "    x = self.embedding(x)  # (batch_size, input_seq_len, d_model)\n",
        "    x *= tf.math.sqrt(tf.cast(self.d_model, tf.float32))\n",
        "    x += self.pos_encoding[:, :seq_len, :]\n",
        "\n",
        "    x = self.dropout(x, training=training)\n",
        "\n",
        "    for i in range(self.num_layers):\n",
        "      x = self.enc_layers[i](x, training, mask)\n",
        "\n",
        "    return x  # (batch_size, input_seq_len, d_model)"
      ],
      "execution_count": 77,
      "outputs": []
    },
    {
      "cell_type": "code",
      "metadata": {
        "colab": {
          "base_uri": "https://localhost:8080/"
        },
        "id": "leBGPlkoo_yt",
        "outputId": "4983814f-2c61-4700-f825-70a2cea72683"
      },
      "source": [
        "sample_encoder = Encoder(num_layers=2, d_model=512, num_heads=8,\n",
        "                         dff=2048, input_vocab_size=8500,\n",
        "                         maximum_position_encoding=10000)\n",
        "temp_input = tf.random.uniform((64, 62), dtype=tf.int64, minval=0, maxval=200)\n",
        "\n",
        "sample_encoder_output = sample_encoder(temp_input, training=False, mask=None)\n",
        "\n",
        "print(sample_encoder_output.shape)  # (batch_size, input_seq_len, d_model)\n"
      ],
      "execution_count": 78,
      "outputs": [
        {
          "output_type": "stream",
          "text": [
            "(64, 62, 512)\n"
          ],
          "name": "stdout"
        }
      ]
    },
    {
      "cell_type": "markdown",
      "metadata": {
        "id": "dAus4nBHpDcb"
      },
      "source": [
        " The `Decoder` consists of:\n",
        "1.   Output Embedding\n",
        "2.   Positional Encoding\n",
        "3.   N decoder layers\n",
        "\n",
        "The target is put through an embedding which is summed with the positional encoding. The output of this summation is the input to the decoder layers. The output of the decoder is the input to the final linear layer."
      ]
    },
    {
      "cell_type": "code",
      "metadata": {
        "id": "QItIS7TrpCKA"
      },
      "source": [
        "class Decoder(tf.keras.layers.Layer):\n",
        "  def __init__(self, num_layers, d_model, num_heads, dff, target_vocab_size,\n",
        "               maximum_position_encoding, rate=0.1):\n",
        "    super(Decoder, self).__init__()\n",
        "\n",
        "    self.d_model = d_model\n",
        "    self.num_layers = num_layers\n",
        "\n",
        "    self.embedding = tf.keras.layers.Embedding(target_vocab_size, d_model)\n",
        "    self.pos_encoding = positional_encoding(maximum_position_encoding, d_model)\n",
        "\n",
        "    self.dec_layers = [DecoderLayer(d_model, num_heads, dff, rate)\n",
        "                       for _ in range(num_layers)]\n",
        "    self.dropout = tf.keras.layers.Dropout(rate)\n",
        "\n",
        "  def call(self, x, enc_output, training,\n",
        "           look_ahead_mask, padding_mask):\n",
        "\n",
        "    seq_len = tf.shape(x)[1]\n",
        "    attention_weights = {}\n",
        "\n",
        "    x = self.embedding(x)  # (batch_size, target_seq_len, d_model)\n",
        "    x *= tf.math.sqrt(tf.cast(self.d_model, tf.float32))\n",
        "    x += self.pos_encoding[:, :seq_len, :]\n",
        "\n",
        "    x = self.dropout(x, training=training)\n",
        "\n",
        "    for i in range(self.num_layers):\n",
        "      x, block1, block2 = self.dec_layers[i](x, enc_output, training,\n",
        "                                             look_ahead_mask, padding_mask)\n",
        "\n",
        "      attention_weights[f'decoder_layer{i+1}_block1'] = block1\n",
        "      attention_weights[f'decoder_layer{i+1}_block2'] = block2\n",
        "\n",
        "    # x.shape == (batch_size, target_seq_len, d_model)\n",
        "    return x, attention_weights"
      ],
      "execution_count": 79,
      "outputs": []
    },
    {
      "cell_type": "code",
      "metadata": {
        "colab": {
          "base_uri": "https://localhost:8080/"
        },
        "id": "Szhfec_npHqW",
        "outputId": "8f81528b-9a0a-4443-c9e2-1907e6ade385"
      },
      "source": [
        "sample_decoder = Decoder(num_layers=2, d_model=512, num_heads=8,\n",
        "                         dff=2048, target_vocab_size=8000,\n",
        "                         maximum_position_encoding=5000)\n",
        "temp_input = tf.random.uniform((64, 26), dtype=tf.int64, minval=0, maxval=200)\n",
        "\n",
        "output, attn = sample_decoder(temp_input,\n",
        "                              enc_output=sample_encoder_output,\n",
        "                              training=False,\n",
        "                              look_ahead_mask=None,\n",
        "                              padding_mask=None)\n",
        "\n",
        "output.shape, attn['decoder_layer2_block2'].shape"
      ],
      "execution_count": 80,
      "outputs": [
        {
          "output_type": "execute_result",
          "data": {
            "text/plain": [
              "(TensorShape([64, 26, 512]), TensorShape([64, 8, 26, 62]))"
            ]
          },
          "metadata": {},
          "execution_count": 80
        }
      ]
    },
    {
      "cell_type": "markdown",
      "metadata": {
        "id": "_1mRPXEgpKGJ"
      },
      "source": [
        "### Creating the Transformer\n",
        "\n",
        "Transformer consists of the encoder, decoder and a final linear layer. The output of the decoder is the input to the linear layer and its output is returned."
      ]
    },
    {
      "cell_type": "code",
      "metadata": {
        "id": "UNZDHsmUpJbE"
      },
      "source": [
        "class Transformer(tf.keras.Model):\n",
        "  def __init__(self, num_layers, d_model, num_heads, dff, input_vocab_size,\n",
        "               target_vocab_size, pe_input, pe_target, rate=0.1):\n",
        "    super().__init__()\n",
        "    self.encoder = Encoder(num_layers, d_model, num_heads, dff,\n",
        "                             input_vocab_size, pe_input, rate)\n",
        "\n",
        "    self.decoder = Decoder(num_layers, d_model, num_heads, dff,\n",
        "                           target_vocab_size, pe_target, rate)\n",
        "\n",
        "    self.final_layer = tf.keras.layers.Dense(target_vocab_size)\n",
        "\n",
        "  def call(self, inputs, training):\n",
        "    # Keras models prefer if you pass all your inputs in the first argument\n",
        "    inp, tar = inputs\n",
        "\n",
        "    enc_padding_mask, look_ahead_mask, dec_padding_mask = self.create_masks(inp, tar)\n",
        "\n",
        "    enc_output = self.encoder(inp, training, enc_padding_mask)  # (batch_size, inp_seq_len, d_model)\n",
        "\n",
        "    # dec_output.shape == (batch_size, tar_seq_len, d_model)\n",
        "    dec_output, attention_weights = self.decoder(\n",
        "        tar, enc_output, training, look_ahead_mask, dec_padding_mask)\n",
        "\n",
        "    final_output = self.final_layer(dec_output)  # (batch_size, tar_seq_len, target_vocab_size)\n",
        "\n",
        "    return final_output, attention_weights\n",
        "\n",
        "  def create_masks(self, inp, tar):\n",
        "    # Encoder padding mask\n",
        "    enc_padding_mask = create_padding_mask(inp)\n",
        "\n",
        "    # Used in the 2nd attention block in the decoder.\n",
        "    # This padding mask is used to mask the encoder outputs.\n",
        "    dec_padding_mask = create_padding_mask(inp)\n",
        "\n",
        "    # Used in the 1st attention block in the decoder.\n",
        "    # It is used to pad and mask future tokens in the input received by\n",
        "    # the decoder.\n",
        "    look_ahead_mask = create_look_ahead_mask(tf.shape(tar)[1])\n",
        "    dec_target_padding_mask = create_padding_mask(tar)\n",
        "    look_ahead_mask = tf.maximum(dec_target_padding_mask, look_ahead_mask)\n",
        "\n",
        "    return enc_padding_mask, look_ahead_mask, dec_padding_mask"
      ],
      "execution_count": 81,
      "outputs": []
    },
    {
      "cell_type": "code",
      "metadata": {
        "colab": {
          "base_uri": "https://localhost:8080/"
        },
        "id": "mcuAXpv3pRBa",
        "outputId": "e8089a0b-a910-4510-a221-0d329cc7a672"
      },
      "source": [
        "sample_transformer = Transformer(\n",
        "    num_layers=2, d_model=512, num_heads=8, dff=2048,\n",
        "    input_vocab_size=8500, target_vocab_size=8000,\n",
        "    pe_input=10000, pe_target=6000)\n",
        "\n",
        "temp_input = tf.random.uniform((64, 38), dtype=tf.int64, minval=0, maxval=200)\n",
        "temp_target = tf.random.uniform((64, 36), dtype=tf.int64, minval=0, maxval=200)\n",
        "\n",
        "fn_out, _ = sample_transformer([temp_input, temp_target], training=False)\n",
        "\n",
        "fn_out.shape  # (batch_size, tar_seq_len, target_vocab_size)"
      ],
      "execution_count": 82,
      "outputs": [
        {
          "output_type": "execute_result",
          "data": {
            "text/plain": [
              "TensorShape([64, 36, 8000])"
            ]
          },
          "metadata": {},
          "execution_count": 82
        }
      ]
    },
    {
      "cell_type": "markdown",
      "metadata": {
        "id": "spSueiFopVUU"
      },
      "source": [
        "### Hyper params\n",
        "\n",
        "To keep this example small and relatively fast, the values for `num_layers, d_model, dff` have been reduced. \n",
        "\n",
        "The base model described in the [paper](https://arxiv.org/abs/1706.03762) used: `num_layers=6, d_model=512, dff=2048`."
      ]
    },
    {
      "cell_type": "code",
      "metadata": {
        "id": "wLe0nNq5pSok"
      },
      "source": [
        "num_layers = 4\n",
        "d_model = 128\n",
        "dff = 512\n",
        "num_heads = 8\n",
        "dropout_rate = 0.1"
      ],
      "execution_count": 83,
      "outputs": []
    },
    {
      "cell_type": "markdown",
      "metadata": {
        "id": "7eyIKP5QpccZ"
      },
      "source": [
        "### Optimizer\n",
        "Use the Adam optimizer with a custom learning rate scheduler according to the formula in the [paper](https://arxiv.org/abs/1706.03762).\n",
        "\n",
        "$$\\Large{lrate = d_{model}^{-0.5} * \\min(step{\\_}num^{-0.5}, step{\\_}num \\cdot warmup{\\_}steps^{-1.5})}$$"
      ]
    },
    {
      "cell_type": "code",
      "metadata": {
        "id": "UiVVh8ChpadS"
      },
      "source": [
        "class CustomSchedule(keras.optimizers.schedules.LearningRateSchedule):\n",
        "  def __init__(self, d_model, warmup_steps=4000):\n",
        "    super(CustomSchedule, self).__init__()\n",
        "\n",
        "    self.d_model = d_model\n",
        "    self.d_model = tf.cast(self.d_model, tf.float32)\n",
        "\n",
        "    self.warmup_steps = warmup_steps\n",
        "\n",
        "  def __call__(self, step):\n",
        "    arg1 = tf.math.rsqrt(step)\n",
        "    arg2 = step * (self.warmup_steps ** -1.5)\n",
        "\n",
        "    return tf.math.rsqrt(self.d_model) * tf.math.minimum(arg1, arg2)"
      ],
      "execution_count": 85,
      "outputs": []
    },
    {
      "cell_type": "code",
      "metadata": {
        "id": "3CQKn8evpjiT"
      },
      "source": [
        "learning_rate = CustomSchedule(d_model)\n",
        "\n",
        "optimizer = tf.keras.optimizers.Adam(learning_rate, beta_1=0.9, beta_2=0.98,\n",
        "                                     epsilon=1e-9)"
      ],
      "execution_count": 86,
      "outputs": []
    },
    {
      "cell_type": "code",
      "metadata": {
        "colab": {
          "base_uri": "https://localhost:8080/",
          "height": 296
        },
        "id": "nuuA9sXEpm5d",
        "outputId": "b9835191-b8da-4355-cb49-497ebdad5eaa"
      },
      "source": [
        "temp_learning_rate_schedule = CustomSchedule(d_model)\n",
        "\n",
        "plt.plot(temp_learning_rate_schedule(tf.range(40000, dtype=tf.float32)))\n",
        "plt.ylabel(\"Learning Rate\")\n",
        "plt.xlabel(\"Train Step\")"
      ],
      "execution_count": 87,
      "outputs": [
        {
          "output_type": "execute_result",
          "data": {
            "text/plain": [
              "Text(0.5, 0, 'Train Step')"
            ]
          },
          "metadata": {},
          "execution_count": 87
        },
        {
          "output_type": "display_data",
          "data": {
            "image/png": "[encoded data removed]",
            "text/plain": [
              "<Figure size 432x288 with 1 Axes>"
            ]
          },
          "metadata": {
            "needs_background": "light"
          }
        }
      ]
    },
    {
      "cell_type": "markdown",
      "metadata": {
        "id": "r5zdfaTMprZj"
      },
      "source": [
        "### Loss and metrics\n",
        "\n",
        "Since the target sequences are padded, it is important to apply a padding mask when calculating the loss."
      ]
    },
    {
      "cell_type": "code",
      "metadata": {
        "id": "ajigzXSzpol0"
      },
      "source": [
        "loss_object = tf.keras.losses.SparseCategoricalCrossentropy(\n",
        "    from_logits=True, reduction='none')"
      ],
      "execution_count": 88,
      "outputs": []
    },
    {
      "cell_type": "code",
      "metadata": {
        "id": "864DPLhtpvbg"
      },
      "source": [
        "def loss_function(real, pred):\n",
        "  mask = tf.math.logical_not(tf.math.equal(real, 0))\n",
        "  loss_ = loss_object(real, pred)\n",
        "\n",
        "  mask = tf.cast(mask, dtype=loss_.dtype)\n",
        "  loss_ *= mask\n",
        "\n",
        "  return tf.reduce_sum(loss_)/tf.reduce_sum(mask)\n",
        "\n",
        "\n",
        "def accuracy_function(real, pred):\n",
        "  accuracies = tf.equal(real, tf.argmax(pred, axis=2))\n",
        "\n",
        "  mask = tf.math.logical_not(tf.math.equal(real, 0))\n",
        "  accuracies = tf.math.logical_and(mask, accuracies)\n",
        "\n",
        "  accuracies = tf.cast(accuracies, dtype=tf.float32)\n",
        "  mask = tf.cast(mask, dtype=tf.float32)\n",
        "  return tf.reduce_sum(accuracies)/tf.reduce_sum(mask)"
      ],
      "execution_count": 89,
      "outputs": []
    },
    {
      "cell_type": "code",
      "metadata": {
        "id": "3Uy1jHHDpxJd"
      },
      "source": [
        "train_loss = tf.keras.metrics.Mean(name='train_loss')\n",
        "train_accuracy = tf.keras.metrics.Mean(name='train_accuracy')"
      ],
      "execution_count": 90,
      "outputs": []
    },
    {
      "cell_type": "markdown",
      "metadata": {
        "id": "fNUsxSIxpzy7"
      },
      "source": [
        "### Trainibg and checkpointing"
      ]
    },
    {
      "cell_type": "code",
      "metadata": {
        "id": "ZGCO9KvNpzRW"
      },
      "source": [
        "transformer = Transformer(\n",
        "    num_layers=num_layers,\n",
        "    d_model=d_model,\n",
        "    num_heads=num_heads,\n",
        "    dff=dff,\n",
        "    input_vocab_size=tokenizers.pt.get_vocab_size().numpy(),\n",
        "    target_vocab_size=tokenizers.en.get_vocab_size().numpy(),\n",
        "    pe_input=1000,\n",
        "    pe_target=1000,\n",
        "    rate=dropout_rate)"
      ],
      "execution_count": 91,
      "outputs": []
    },
    {
      "cell_type": "markdown",
      "metadata": {
        "id": "9Ge1qUaUp61N"
      },
      "source": [
        "Create the checkpoint path and the checkpoint manager. This will be used to save checkpoints every `n` epochs."
      ]
    },
    {
      "cell_type": "code",
      "metadata": {
        "id": "kGEPgsQTp4fM"
      },
      "source": [
        "checkpoint_path = \"./checkpoints/train\"\n",
        "\n",
        "ckpt = tf.train.Checkpoint(transformer=transformer,\n",
        "                           optimizer=optimizer)\n",
        "\n",
        "ckpt_manager = tf.train.CheckpointManager(ckpt, checkpoint_path, max_to_keep=5)\n",
        "\n",
        "# if a checkpoint exists, restore the latest checkpoint.\n",
        "if ckpt_manager.latest_checkpoint:\n",
        "  ckpt.restore(ckpt_manager.latest_checkpoint)\n",
        "  print('Latest checkpoint restored!!')"
      ],
      "execution_count": 93,
      "outputs": []
    },
    {
      "cell_type": "markdown",
      "metadata": {
        "id": "-Pv9L4kjp_wW"
      },
      "source": [
        "The target is divided into tar_inp and tar_real. tar_inp is passed as an input to the decoder. `tar_real` is that same input shifted by 1: At each location in `tar_input`, `tar_real` contains the  next token that should be predicted.\n",
        "\n",
        "For example, `sentence` = \"SOS A lion in the jungle is sleeping EOS\"\n",
        "\n",
        "`tar_inp` =  \"SOS A lion in the jungle is sleeping\"\n",
        "\n",
        "`tar_real` = \"A lion in the jungle is sleeping EOS\"\n",
        "\n",
        "The transformer is an auto-regressive model: it makes predictions one part at a time, and uses its output so far to decide what to do next. \n",
        "\n",
        "During training this example uses teacher-forcing (like in the [text generation tutorial](https://www.tensorflow.org/text/tutorials/text_generation)). Teacher forcing is passing the true output to the next time step regardless of what the model predicts at the current time step.\n",
        "\n",
        "As the transformer predicts each token, *self-attention* allows it to look at the previous tokens in the input sequence to better predict the next token.\n",
        "\n",
        "To prevent the model from peeking at the expected output the model uses a look-ahead mask."
      ]
    },
    {
      "cell_type": "code",
      "metadata": {
        "id": "Q82O0O-1p9rZ"
      },
      "source": [
        "EPOCHS = 20"
      ],
      "execution_count": 94,
      "outputs": []
    },
    {
      "cell_type": "code",
      "metadata": {
        "id": "qPHyq5oIqCdB"
      },
      "source": [
        "# The @tf.function trace-compiles train_step into a TF graph for faster\n",
        "# execution. The function specializes to the precise shape of the argument\n",
        "# tensors. To avoid re-tracing due to the variable sequence lengths or variable\n",
        "# batch sizes (the last batch is smaller), use input_signature to specify\n",
        "# more generic shapes.\n",
        "\n",
        "train_step_signature = [\n",
        "    tf.TensorSpec(shape=(None, None), dtype=tf.int64),\n",
        "    tf.TensorSpec(shape=(None, None), dtype=tf.int64),\n",
        "]\n",
        "\n",
        "\n",
        "@tf.function(input_signature=train_step_signature)\n",
        "def train_step(inp, tar):\n",
        "  tar_inp = tar[:, :-1]\n",
        "  tar_real = tar[:, 1:]\n",
        "\n",
        "  with tf.GradientTape() as tape:\n",
        "    predictions, _ = transformer([inp, tar_inp],\n",
        "                                 training = True)\n",
        "    loss = loss_function(tar_real, predictions)\n",
        "\n",
        "  gradients = tape.gradient(loss, transformer.trainable_variables)\n",
        "  optimizer.apply_gradients(zip(gradients, transformer.trainable_variables))\n",
        "\n",
        "  train_loss(loss)\n",
        "  train_accuracy(accuracy_function(tar_real, predictions))"
      ],
      "execution_count": 95,
      "outputs": []
    },
    {
      "cell_type": "code",
      "metadata": {
        "colab": {
          "base_uri": "https://localhost:8080/"
        },
        "id": "BwcUd73IqHQs",
        "outputId": "04b8e4e8-1324-4cb6-b6ee-656413ce2dd3"
      },
      "source": [
        "for epoch in range(EPOCHS):\n",
        "  start = time.time()\n",
        "\n",
        "  train_loss.reset_states()\n",
        "  train_accuracy.reset_states()\n",
        "\n",
        "  # inp -> portuguese, tar -> english\n",
        "  for (batch, (inp, tar)) in enumerate(train_batches):\n",
        "    train_step(inp, tar)\n",
        "\n",
        "    if batch % 50 == 0:\n",
        "      print(f'Epoch {epoch + 1} Batch {batch} Loss {train_loss.result():.4f} Accuracy {train_accuracy.result():.4f}')\n",
        "\n",
        "  if (epoch + 1) % 5 == 0:\n",
        "    ckpt_save_path = ckpt_manager.save()\n",
        "    print(f'Saving checkpoint for epoch {epoch+1} at {ckpt_save_path}')\n",
        "\n",
        "  print(f'Epoch {epoch + 1} Loss {train_loss.result():.4f} Accuracy {train_accuracy.result():.4f}')\n",
        "\n",
        "  print(f'Time taken for 1 epoch: {time.time() - start:.2f} secs\\n')"
      ],
      "execution_count": 96,
      "outputs": [
        {
          "output_type": "stream",
          "text": [
            "Epoch 1 Batch 0 Loss 8.8662 Accuracy 0.0000\n",
            "Epoch 1 Batch 50 Loss 8.8080 Accuracy 0.0019\n",
            "Epoch 1 Batch 100 Loss 8.7067 Accuracy 0.0245\n",
            "Epoch 1 Batch 150 Loss 8.5915 Accuracy 0.0335\n",
            "Epoch 1 Batch 200 Loss 8.4478 Accuracy 0.0385\n",
            "Epoch 1 Batch 250 Loss 8.2788 Accuracy 0.0428\n",
            "Epoch 1 Batch 300 Loss 8.0890 Accuracy 0.0506\n",
            "Epoch 1 Batch 350 Loss 7.8913 Accuracy 0.0595\n",
            "Epoch 1 Batch 400 Loss 7.7025 Accuracy 0.0671\n",
            "Epoch 1 Batch 450 Loss 7.5349 Accuracy 0.0738\n",
            "Epoch 1 Batch 500 Loss 7.3892 Accuracy 0.0806\n",
            "Epoch 1 Batch 550 Loss 7.2557 Accuracy 0.0871\n",
            "Epoch 1 Batch 600 Loss 7.1317 Accuracy 0.0942\n",
            "Epoch 1 Batch 650 Loss 7.0166 Accuracy 0.1011\n",
            "Epoch 1 Batch 700 Loss 6.9095 Accuracy 0.1075\n",
            "Epoch 1 Batch 750 Loss 6.8078 Accuracy 0.1136\n",
            "Epoch 1 Batch 800 Loss 6.7164 Accuracy 0.1192\n",
            "Epoch 1 Loss 6.7006 Accuracy 0.1203\n",
            "Time taken for 1 epoch: 226.71 secs\n",
            "\n",
            "Epoch 2 Batch 0 Loss 5.2901 Accuracy 0.2182\n",
            "Epoch 2 Batch 50 Loss 5.2058 Accuracy 0.2139\n",
            "Epoch 2 Batch 100 Loss 5.1799 Accuracy 0.2170\n",
            "Epoch 2 Batch 150 Loss 5.1522 Accuracy 0.2202\n",
            "Epoch 2 Batch 200 Loss 5.1245 Accuracy 0.2233\n",
            "Epoch 2 Batch 250 Loss 5.1031 Accuracy 0.2261\n",
            "Epoch 2 Batch 300 Loss 5.0818 Accuracy 0.2282\n",
            "Epoch 2 Batch 350 Loss 5.0603 Accuracy 0.2301\n",
            "Epoch 2 Batch 400 Loss 5.0395 Accuracy 0.2322\n",
            "Epoch 2 Batch 450 Loss 5.0174 Accuracy 0.2340\n",
            "Epoch 2 Batch 500 Loss 4.9976 Accuracy 0.2359\n",
            "Epoch 2 Batch 550 Loss 4.9789 Accuracy 0.2378\n",
            "Epoch 2 Batch 600 Loss 4.9609 Accuracy 0.2394\n",
            "Epoch 2 Batch 650 Loss 4.9418 Accuracy 0.2411\n",
            "Epoch 2 Batch 700 Loss 4.9262 Accuracy 0.2425\n",
            "Epoch 2 Batch 750 Loss 4.9062 Accuracy 0.2442\n",
            "Epoch 2 Batch 800 Loss 4.8903 Accuracy 0.2457\n",
            "Epoch 2 Loss 4.8883 Accuracy 0.2458\n",
            "Time taken for 1 epoch: 206.52 secs\n",
            "\n",
            "Epoch 3 Batch 0 Loss 4.4964 Accuracy 0.2742\n",
            "Epoch 3 Batch 50 Loss 4.5632 Accuracy 0.2750\n",
            "Epoch 3 Batch 100 Loss 4.5606 Accuracy 0.2743\n",
            "Epoch 3 Batch 150 Loss 4.5478 Accuracy 0.2757\n",
            "Epoch 3 Batch 200 Loss 4.5407 Accuracy 0.2762\n",
            "Epoch 3 Batch 250 Loss 4.5367 Accuracy 0.2760\n",
            "Epoch 3 Batch 300 Loss 4.5248 Accuracy 0.2774\n",
            "Epoch 3 Batch 350 Loss 4.5148 Accuracy 0.2785\n",
            "Epoch 3 Batch 400 Loss 4.5041 Accuracy 0.2799\n",
            "Epoch 3 Batch 450 Loss 4.4902 Accuracy 0.2813\n",
            "Epoch 3 Batch 500 Loss 4.4778 Accuracy 0.2828\n",
            "Epoch 3 Batch 550 Loss 4.4640 Accuracy 0.2843\n",
            "Epoch 3 Batch 600 Loss 4.4505 Accuracy 0.2858\n",
            "Epoch 3 Batch 650 Loss 4.4399 Accuracy 0.2871\n",
            "Epoch 3 Batch 700 Loss 4.4268 Accuracy 0.2885\n",
            "Epoch 3 Batch 750 Loss 4.4134 Accuracy 0.2899\n",
            "Epoch 3 Batch 800 Loss 4.3971 Accuracy 0.2919\n",
            "Epoch 3 Loss 4.3939 Accuracy 0.2924\n",
            "Time taken for 1 epoch: 207.51 secs\n",
            "\n",
            "Epoch 4 Batch 0 Loss 4.3504 Accuracy 0.2967\n",
            "Epoch 4 Batch 50 Loss 4.0840 Accuracy 0.3259\n",
            "Epoch 4 Batch 100 Loss 4.0605 Accuracy 0.3289\n",
            "Epoch 4 Batch 150 Loss 4.0408 Accuracy 0.3313\n",
            "Epoch 4 Batch 200 Loss 4.0214 Accuracy 0.3338\n",
            "Epoch 4 Batch 250 Loss 4.0046 Accuracy 0.3360\n",
            "Epoch 4 Batch 300 Loss 3.9959 Accuracy 0.3374\n",
            "Epoch 4 Batch 350 Loss 3.9792 Accuracy 0.3395\n",
            "Epoch 4 Batch 400 Loss 3.9605 Accuracy 0.3420\n",
            "Epoch 4 Batch 450 Loss 3.9455 Accuracy 0.3439\n",
            "Epoch 4 Batch 500 Loss 3.9314 Accuracy 0.3459\n",
            "Epoch 4 Batch 550 Loss 3.9189 Accuracy 0.3476\n",
            "Epoch 4 Batch 600 Loss 3.9059 Accuracy 0.3495\n",
            "Epoch 4 Batch 650 Loss 3.8913 Accuracy 0.3515\n",
            "Epoch 4 Batch 700 Loss 3.8778 Accuracy 0.3533\n",
            "Epoch 4 Batch 750 Loss 3.8651 Accuracy 0.3552\n",
            "Epoch 4 Batch 800 Loss 3.8522 Accuracy 0.3569\n",
            "Epoch 4 Loss 3.8490 Accuracy 0.3573\n",
            "Time taken for 1 epoch: 207.37 secs\n",
            "\n",
            "Epoch 5 Batch 0 Loss 3.4898 Accuracy 0.3993\n",
            "Epoch 5 Batch 50 Loss 3.5521 Accuracy 0.3923\n",
            "Epoch 5 Batch 100 Loss 3.5343 Accuracy 0.3953\n",
            "Epoch 5 Batch 150 Loss 3.5207 Accuracy 0.3968\n",
            "Epoch 5 Batch 200 Loss 3.5001 Accuracy 0.3995\n",
            "Epoch 5 Batch 250 Loss 3.4936 Accuracy 0.4001\n",
            "Epoch 5 Batch 300 Loss 3.4828 Accuracy 0.4014\n",
            "Epoch 5 Batch 350 Loss 3.4712 Accuracy 0.4030\n",
            "Epoch 5 Batch 400 Loss 3.4610 Accuracy 0.4046\n",
            "Epoch 5 Batch 450 Loss 3.4492 Accuracy 0.4062\n",
            "Epoch 5 Batch 500 Loss 3.4363 Accuracy 0.4080\n",
            "Epoch 5 Batch 550 Loss 3.4295 Accuracy 0.4087\n",
            "Epoch 5 Batch 600 Loss 3.4215 Accuracy 0.4096\n",
            "Epoch 5 Batch 650 Loss 3.4114 Accuracy 0.4109\n",
            "Epoch 5 Batch 700 Loss 3.4026 Accuracy 0.4122\n",
            "Epoch 5 Batch 750 Loss 3.3938 Accuracy 0.4135\n",
            "Epoch 5 Batch 800 Loss 3.3868 Accuracy 0.4145\n",
            "Saving checkpoint for epoch 5 at ./checkpoints/train/ckpt-1\n",
            "Epoch 5 Loss 3.3856 Accuracy 0.4147\n",
            "Time taken for 1 epoch: 207.64 secs\n",
            "\n",
            "Epoch 6 Batch 0 Loss 3.1801 Accuracy 0.4419\n",
            "Epoch 6 Batch 50 Loss 3.1051 Accuracy 0.4468\n",
            "Epoch 6 Batch 100 Loss 3.0855 Accuracy 0.4494\n",
            "Epoch 6 Batch 150 Loss 3.0881 Accuracy 0.4494\n",
            "Epoch 6 Batch 200 Loss 3.0895 Accuracy 0.4491\n",
            "Epoch 6 Batch 250 Loss 3.0837 Accuracy 0.4495\n",
            "Epoch 6 Batch 300 Loss 3.0751 Accuracy 0.4510\n",
            "Epoch 6 Batch 350 Loss 3.0671 Accuracy 0.4522\n",
            "Epoch 6 Batch 400 Loss 3.0549 Accuracy 0.4540\n",
            "Epoch 6 Batch 450 Loss 3.0450 Accuracy 0.4554\n",
            "Epoch 6 Batch 500 Loss 3.0372 Accuracy 0.4565\n",
            "Epoch 6 Batch 550 Loss 3.0291 Accuracy 0.4577\n",
            "Epoch 6 Batch 600 Loss 3.0213 Accuracy 0.4587\n",
            "Epoch 6 Batch 650 Loss 3.0125 Accuracy 0.4600\n",
            "Epoch 6 Batch 700 Loss 3.0045 Accuracy 0.4613\n",
            "Epoch 6 Batch 750 Loss 2.9977 Accuracy 0.4624\n",
            "Epoch 6 Batch 800 Loss 2.9922 Accuracy 0.4633\n",
            "Epoch 6 Loss 2.9908 Accuracy 0.4636\n",
            "Time taken for 1 epoch: 206.19 secs\n",
            "\n",
            "Epoch 7 Batch 0 Loss 2.6701 Accuracy 0.5048\n",
            "Epoch 7 Batch 50 Loss 2.7289 Accuracy 0.4945\n",
            "Epoch 7 Batch 100 Loss 2.7129 Accuracy 0.4971\n",
            "Epoch 7 Batch 150 Loss 2.7056 Accuracy 0.4980\n",
            "Epoch 7 Batch 200 Loss 2.7024 Accuracy 0.4993\n",
            "Epoch 7 Batch 250 Loss 2.7025 Accuracy 0.4993\n",
            "Epoch 7 Batch 300 Loss 2.6967 Accuracy 0.5003\n",
            "Epoch 7 Batch 350 Loss 2.6948 Accuracy 0.5005\n",
            "Epoch 7 Batch 400 Loss 2.6892 Accuracy 0.5018\n",
            "Epoch 7 Batch 450 Loss 2.6842 Accuracy 0.5029\n",
            "Epoch 7 Batch 500 Loss 2.6758 Accuracy 0.5042\n",
            "Epoch 7 Batch 550 Loss 2.6752 Accuracy 0.5043\n",
            "Epoch 7 Batch 600 Loss 2.6726 Accuracy 0.5046\n",
            "Epoch 7 Batch 650 Loss 2.6676 Accuracy 0.5054\n",
            "Epoch 7 Batch 700 Loss 2.6634 Accuracy 0.5061\n",
            "Epoch 7 Batch 750 Loss 2.6587 Accuracy 0.5068\n",
            "Epoch 7 Batch 800 Loss 2.6541 Accuracy 0.5076\n",
            "Epoch 7 Loss 2.6542 Accuracy 0.5076\n",
            "Time taken for 1 epoch: 206.54 secs\n",
            "\n",
            "Epoch 8 Batch 0 Loss 2.6669 Accuracy 0.5045\n",
            "Epoch 8 Batch 50 Loss 2.4417 Accuracy 0.5359\n",
            "Epoch 8 Batch 100 Loss 2.4251 Accuracy 0.5378\n",
            "Epoch 8 Batch 150 Loss 2.4222 Accuracy 0.5380\n",
            "Epoch 8 Batch 200 Loss 2.4349 Accuracy 0.5363\n",
            "Epoch 8 Batch 250 Loss 2.4265 Accuracy 0.5369\n",
            "Epoch 8 Batch 300 Loss 2.4198 Accuracy 0.5381\n",
            "Epoch 8 Batch 350 Loss 2.4195 Accuracy 0.5385\n",
            "Epoch 8 Batch 400 Loss 2.4201 Accuracy 0.5384\n",
            "Epoch 8 Batch 450 Loss 2.4197 Accuracy 0.5383\n",
            "Epoch 8 Batch 500 Loss 2.4205 Accuracy 0.5381\n",
            "Epoch 8 Batch 550 Loss 2.4217 Accuracy 0.5382\n",
            "Epoch 8 Batch 600 Loss 2.4205 Accuracy 0.5384\n",
            "Epoch 8 Batch 650 Loss 2.4189 Accuracy 0.5387\n",
            "Epoch 8 Batch 700 Loss 2.4160 Accuracy 0.5392\n",
            "Epoch 8 Batch 750 Loss 2.4133 Accuracy 0.5398\n",
            "Epoch 8 Batch 800 Loss 2.4120 Accuracy 0.5400\n",
            "Epoch 8 Loss 2.4108 Accuracy 0.5403\n",
            "Time taken for 1 epoch: 205.74 secs\n",
            "\n",
            "Epoch 9 Batch 0 Loss 2.0902 Accuracy 0.5780\n",
            "Epoch 9 Batch 50 Loss 2.2357 Accuracy 0.5610\n",
            "Epoch 9 Batch 100 Loss 2.2303 Accuracy 0.5617\n",
            "Epoch 9 Batch 150 Loss 2.2194 Accuracy 0.5647\n",
            "Epoch 9 Batch 200 Loss 2.2294 Accuracy 0.5637\n",
            "Epoch 9 Batch 250 Loss 2.2290 Accuracy 0.5640\n",
            "Epoch 9 Batch 300 Loss 2.2307 Accuracy 0.5643\n",
            "Epoch 9 Batch 350 Loss 2.2270 Accuracy 0.5650\n",
            "Epoch 9 Batch 400 Loss 2.2279 Accuracy 0.5648\n",
            "Epoch 9 Batch 450 Loss 2.2301 Accuracy 0.5646\n",
            "Epoch 9 Batch 500 Loss 2.2300 Accuracy 0.5647\n",
            "Epoch 9 Batch 550 Loss 2.2288 Accuracy 0.5649\n",
            "Epoch 9 Batch 600 Loss 2.2287 Accuracy 0.5650\n",
            "Epoch 9 Batch 650 Loss 2.2285 Accuracy 0.5649\n",
            "Epoch 9 Batch 700 Loss 2.2279 Accuracy 0.5652\n",
            "Epoch 9 Batch 750 Loss 2.2277 Accuracy 0.5654\n",
            "Epoch 9 Batch 800 Loss 2.2271 Accuracy 0.5657\n",
            "Epoch 9 Loss 2.2276 Accuracy 0.5657\n",
            "Time taken for 1 epoch: 206.52 secs\n",
            "\n",
            "Epoch 10 Batch 0 Loss 2.1428 Accuracy 0.5763\n",
            "Epoch 10 Batch 50 Loss 2.0359 Accuracy 0.5903\n",
            "Epoch 10 Batch 100 Loss 2.0571 Accuracy 0.5879\n",
            "Epoch 10 Batch 150 Loss 2.0611 Accuracy 0.5881\n",
            "Epoch 10 Batch 200 Loss 2.0607 Accuracy 0.5881\n",
            "Epoch 10 Batch 250 Loss 2.0726 Accuracy 0.5865\n",
            "Epoch 10 Batch 300 Loss 2.0731 Accuracy 0.5865\n",
            "Epoch 10 Batch 350 Loss 2.0766 Accuracy 0.5863\n",
            "Epoch 10 Batch 400 Loss 2.0757 Accuracy 0.5865\n",
            "Epoch 10 Batch 450 Loss 2.0823 Accuracy 0.5855\n",
            "Epoch 10 Batch 500 Loss 2.0828 Accuracy 0.5855\n",
            "Epoch 10 Batch 550 Loss 2.0841 Accuracy 0.5854\n",
            "Epoch 10 Batch 600 Loss 2.0841 Accuracy 0.5854\n",
            "Epoch 10 Batch 650 Loss 2.0835 Accuracy 0.5857\n",
            "Epoch 10 Batch 700 Loss 2.0834 Accuracy 0.5857\n",
            "Epoch 10 Batch 750 Loss 2.0849 Accuracy 0.5858\n",
            "Epoch 10 Batch 800 Loss 2.0866 Accuracy 0.5855\n",
            "Saving checkpoint for epoch 10 at ./checkpoints/train/ckpt-2\n",
            "Epoch 10 Loss 2.0875 Accuracy 0.5854\n",
            "Time taken for 1 epoch: 207.90 secs\n",
            "\n",
            "Epoch 11 Batch 0 Loss 1.7680 Accuracy 0.6174\n",
            "Epoch 11 Batch 50 Loss 1.9391 Accuracy 0.6045\n",
            "Epoch 11 Batch 100 Loss 1.9419 Accuracy 0.6044\n",
            "Epoch 11 Batch 150 Loss 1.9479 Accuracy 0.6038\n",
            "Epoch 11 Batch 200 Loss 1.9518 Accuracy 0.6030\n",
            "Epoch 11 Batch 250 Loss 1.9541 Accuracy 0.6029\n",
            "Epoch 11 Batch 300 Loss 1.9601 Accuracy 0.6023\n",
            "Epoch 11 Batch 350 Loss 1.9604 Accuracy 0.6021\n",
            "Epoch 11 Batch 400 Loss 1.9600 Accuracy 0.6024\n",
            "Epoch 11 Batch 450 Loss 1.9583 Accuracy 0.6027\n",
            "Epoch 11 Batch 500 Loss 1.9636 Accuracy 0.6021\n",
            "Epoch 11 Batch 550 Loss 1.9635 Accuracy 0.6021\n",
            "Epoch 11 Batch 600 Loss 1.9645 Accuracy 0.6019\n",
            "Epoch 11 Batch 650 Loss 1.9649 Accuracy 0.6020\n",
            "Epoch 11 Batch 700 Loss 1.9688 Accuracy 0.6016\n",
            "Epoch 11 Batch 750 Loss 1.9719 Accuracy 0.6014\n",
            "Epoch 11 Batch 800 Loss 1.9722 Accuracy 0.6015\n",
            "Epoch 11 Loss 1.9722 Accuracy 0.6015\n",
            "Time taken for 1 epoch: 206.30 secs\n",
            "\n",
            "Epoch 12 Batch 0 Loss 1.8141 Accuracy 0.6314\n",
            "Epoch 12 Batch 50 Loss 1.8340 Accuracy 0.6181\n",
            "Epoch 12 Batch 100 Loss 1.8445 Accuracy 0.6188\n",
            "Epoch 12 Batch 150 Loss 1.8509 Accuracy 0.6182\n",
            "Epoch 12 Batch 200 Loss 1.8488 Accuracy 0.6188\n",
            "Epoch 12 Batch 250 Loss 1.8598 Accuracy 0.6170\n",
            "Epoch 12 Batch 300 Loss 1.8594 Accuracy 0.6173\n",
            "Epoch 12 Batch 350 Loss 1.8589 Accuracy 0.6175\n",
            "Epoch 12 Batch 400 Loss 1.8594 Accuracy 0.6174\n",
            "Epoch 12 Batch 450 Loss 1.8622 Accuracy 0.6174\n",
            "Epoch 12 Batch 500 Loss 1.8626 Accuracy 0.6173\n",
            "Epoch 12 Batch 550 Loss 1.8650 Accuracy 0.6171\n",
            "Epoch 12 Batch 600 Loss 1.8672 Accuracy 0.6169\n",
            "Epoch 12 Batch 650 Loss 1.8701 Accuracy 0.6163\n",
            "Epoch 12 Batch 700 Loss 1.8717 Accuracy 0.6161\n",
            "Epoch 12 Batch 750 Loss 1.8742 Accuracy 0.6158\n",
            "Epoch 12 Batch 800 Loss 1.8764 Accuracy 0.6157\n",
            "Epoch 12 Loss 1.8768 Accuracy 0.6157\n",
            "Time taken for 1 epoch: 205.73 secs\n",
            "\n",
            "Epoch 13 Batch 0 Loss 1.8503 Accuracy 0.6132\n",
            "Epoch 13 Batch 50 Loss 1.7613 Accuracy 0.6316\n",
            "Epoch 13 Batch 100 Loss 1.7719 Accuracy 0.6295\n",
            "Epoch 13 Batch 150 Loss 1.7690 Accuracy 0.6299\n",
            "Epoch 13 Batch 200 Loss 1.7737 Accuracy 0.6291\n",
            "Epoch 13 Batch 250 Loss 1.7828 Accuracy 0.6277\n",
            "Epoch 13 Batch 300 Loss 1.7829 Accuracy 0.6279\n",
            "Epoch 13 Batch 350 Loss 1.7880 Accuracy 0.6272\n",
            "Epoch 13 Batch 400 Loss 1.7844 Accuracy 0.6278\n",
            "Epoch 13 Batch 450 Loss 1.7853 Accuracy 0.6278\n",
            "Epoch 13 Batch 500 Loss 1.7846 Accuracy 0.6282\n",
            "Epoch 13 Batch 550 Loss 1.7835 Accuracy 0.6285\n",
            "Epoch 13 Batch 600 Loss 1.7865 Accuracy 0.6283\n",
            "Epoch 13 Batch 650 Loss 1.7893 Accuracy 0.6278\n",
            "Epoch 13 Batch 700 Loss 1.7920 Accuracy 0.6277\n",
            "Epoch 13 Batch 750 Loss 1.7937 Accuracy 0.6276\n",
            "Epoch 13 Batch 800 Loss 1.7960 Accuracy 0.6272\n",
            "Epoch 13 Loss 1.7970 Accuracy 0.6271\n",
            "Time taken for 1 epoch: 208.60 secs\n",
            "\n",
            "Epoch 14 Batch 0 Loss 1.6524 Accuracy 0.6425\n",
            "Epoch 14 Batch 50 Loss 1.6788 Accuracy 0.6449\n",
            "Epoch 14 Batch 100 Loss 1.6897 Accuracy 0.6424\n",
            "Epoch 14 Batch 150 Loss 1.6875 Accuracy 0.6427\n",
            "Epoch 14 Batch 200 Loss 1.6939 Accuracy 0.6412\n",
            "Epoch 14 Batch 250 Loss 1.6990 Accuracy 0.6405\n",
            "Epoch 14 Batch 300 Loss 1.7001 Accuracy 0.6407\n",
            "Epoch 14 Batch 350 Loss 1.7016 Accuracy 0.6406\n",
            "Epoch 14 Batch 400 Loss 1.7056 Accuracy 0.6399\n",
            "Epoch 14 Batch 450 Loss 1.7101 Accuracy 0.6394\n",
            "Epoch 14 Batch 500 Loss 1.7110 Accuracy 0.6395\n",
            "Epoch 14 Batch 550 Loss 1.7115 Accuracy 0.6395\n",
            "Epoch 14 Batch 600 Loss 1.7142 Accuracy 0.6391\n",
            "Epoch 14 Batch 650 Loss 1.7172 Accuracy 0.6386\n",
            "Epoch 14 Batch 700 Loss 1.7194 Accuracy 0.6385\n",
            "Epoch 14 Batch 750 Loss 1.7224 Accuracy 0.6381\n",
            "Epoch 14 Batch 800 Loss 1.7255 Accuracy 0.6377\n",
            "Epoch 14 Loss 1.7255 Accuracy 0.6377\n",
            "Time taken for 1 epoch: 206.97 secs\n",
            "\n",
            "Epoch 15 Batch 0 Loss 1.7539 Accuracy 0.6324\n",
            "Epoch 15 Batch 50 Loss 1.6600 Accuracy 0.6454\n",
            "Epoch 15 Batch 100 Loss 1.6404 Accuracy 0.6495\n",
            "Epoch 15 Batch 150 Loss 1.6351 Accuracy 0.6499\n",
            "Epoch 15 Batch 200 Loss 1.6297 Accuracy 0.6511\n",
            "Epoch 15 Batch 250 Loss 1.6306 Accuracy 0.6510\n",
            "Epoch 15 Batch 300 Loss 1.6366 Accuracy 0.6502\n",
            "Epoch 15 Batch 350 Loss 1.6373 Accuracy 0.6503\n",
            "Epoch 15 Batch 400 Loss 1.6426 Accuracy 0.6493\n",
            "Epoch 15 Batch 450 Loss 1.6422 Accuracy 0.6495\n",
            "Epoch 15 Batch 500 Loss 1.6450 Accuracy 0.6494\n",
            "Epoch 15 Batch 550 Loss 1.6473 Accuracy 0.6490\n",
            "Epoch 15 Batch 600 Loss 1.6499 Accuracy 0.6486\n",
            "Epoch 15 Batch 650 Loss 1.6536 Accuracy 0.6480\n",
            "Epoch 15 Batch 700 Loss 1.6582 Accuracy 0.6474\n",
            "Epoch 15 Batch 750 Loss 1.6613 Accuracy 0.6470\n",
            "Epoch 15 Batch 800 Loss 1.6655 Accuracy 0.6464\n",
            "Saving checkpoint for epoch 15 at ./checkpoints/train/ckpt-3\n",
            "Epoch 15 Loss 1.6662 Accuracy 0.6463\n",
            "Time taken for 1 epoch: 208.12 secs\n",
            "\n",
            "Epoch 16 Batch 0 Loss 1.5921 Accuracy 0.6470\n",
            "Epoch 16 Batch 50 Loss 1.5694 Accuracy 0.6586\n",
            "Epoch 16 Batch 100 Loss 1.5729 Accuracy 0.6602\n",
            "Epoch 16 Batch 150 Loss 1.5738 Accuracy 0.6603\n",
            "Epoch 16 Batch 200 Loss 1.5717 Accuracy 0.6605\n",
            "Epoch 16 Batch 250 Loss 1.5748 Accuracy 0.6600\n",
            "Epoch 16 Batch 300 Loss 1.5808 Accuracy 0.6594\n",
            "Epoch 16 Batch 350 Loss 1.5833 Accuracy 0.6587\n",
            "Epoch 16 Batch 400 Loss 1.5840 Accuracy 0.6588\n",
            "Epoch 16 Batch 450 Loss 1.5883 Accuracy 0.6582\n",
            "Epoch 16 Batch 500 Loss 1.5877 Accuracy 0.6584\n",
            "Epoch 16 Batch 550 Loss 1.5927 Accuracy 0.6577\n",
            "Epoch 16 Batch 600 Loss 1.5957 Accuracy 0.6574\n",
            "Epoch 16 Batch 650 Loss 1.5996 Accuracy 0.6568\n",
            "Epoch 16 Batch 700 Loss 1.6025 Accuracy 0.6565\n",
            "Epoch 16 Batch 750 Loss 1.6076 Accuracy 0.6556\n",
            "Epoch 16 Batch 800 Loss 1.6115 Accuracy 0.6550\n",
            "Epoch 16 Loss 1.6114 Accuracy 0.6550\n",
            "Time taken for 1 epoch: 207.98 secs\n",
            "\n",
            "Epoch 17 Batch 0 Loss 1.3335 Accuracy 0.6995\n",
            "Epoch 17 Batch 50 Loss 1.5169 Accuracy 0.6678\n",
            "Epoch 17 Batch 100 Loss 1.5337 Accuracy 0.6664\n",
            "Epoch 17 Batch 150 Loss 1.5319 Accuracy 0.6668\n",
            "Epoch 17 Batch 200 Loss 1.5334 Accuracy 0.6663\n",
            "Epoch 17 Batch 250 Loss 1.5345 Accuracy 0.6664\n",
            "Epoch 17 Batch 300 Loss 1.5390 Accuracy 0.6658\n",
            "Epoch 17 Batch 350 Loss 1.5424 Accuracy 0.6652\n",
            "Epoch 17 Batch 400 Loss 1.5440 Accuracy 0.6649\n",
            "Epoch 17 Batch 450 Loss 1.5474 Accuracy 0.6641\n",
            "Epoch 17 Batch 500 Loss 1.5486 Accuracy 0.6639\n",
            "Epoch 17 Batch 550 Loss 1.5512 Accuracy 0.6635\n",
            "Epoch 17 Batch 600 Loss 1.5550 Accuracy 0.6630\n",
            "Epoch 17 Batch 650 Loss 1.5556 Accuracy 0.6630\n",
            "Epoch 17 Batch 700 Loss 1.5567 Accuracy 0.6630\n",
            "Epoch 17 Batch 750 Loss 1.5584 Accuracy 0.6630\n",
            "Epoch 17 Batch 800 Loss 1.5624 Accuracy 0.6625\n",
            "Epoch 17 Loss 1.5621 Accuracy 0.6626\n",
            "Time taken for 1 epoch: 206.92 secs\n",
            "\n",
            "Epoch 18 Batch 0 Loss 1.3777 Accuracy 0.7014\n",
            "Epoch 18 Batch 50 Loss 1.4706 Accuracy 0.6755\n",
            "Epoch 18 Batch 100 Loss 1.4712 Accuracy 0.6757\n",
            "Epoch 18 Batch 150 Loss 1.4768 Accuracy 0.6754\n",
            "Epoch 18 Batch 200 Loss 1.4837 Accuracy 0.6749\n",
            "Epoch 18 Batch 250 Loss 1.4921 Accuracy 0.6733\n",
            "Epoch 18 Batch 300 Loss 1.4905 Accuracy 0.6737\n",
            "Epoch 18 Batch 350 Loss 1.4978 Accuracy 0.6726\n",
            "Epoch 18 Batch 400 Loss 1.5009 Accuracy 0.6720\n",
            "Epoch 18 Batch 450 Loss 1.5034 Accuracy 0.6716\n",
            "Epoch 18 Batch 500 Loss 1.5056 Accuracy 0.6712\n",
            "Epoch 18 Batch 550 Loss 1.5060 Accuracy 0.6712\n",
            "Epoch 18 Batch 600 Loss 1.5072 Accuracy 0.6710\n",
            "Epoch 18 Batch 650 Loss 1.5087 Accuracy 0.6708\n",
            "Epoch 18 Batch 700 Loss 1.5126 Accuracy 0.6704\n",
            "Epoch 18 Batch 750 Loss 1.5139 Accuracy 0.6703\n",
            "Epoch 18 Batch 800 Loss 1.5186 Accuracy 0.6695\n",
            "Epoch 18 Loss 1.5193 Accuracy 0.6693\n",
            "Time taken for 1 epoch: 206.46 secs\n",
            "\n",
            "Epoch 19 Batch 0 Loss 1.6287 Accuracy 0.6506\n",
            "Epoch 19 Batch 50 Loss 1.4184 Accuracy 0.6849\n",
            "Epoch 19 Batch 100 Loss 1.4254 Accuracy 0.6847\n",
            "Epoch 19 Batch 150 Loss 1.4313 Accuracy 0.6832\n",
            "Epoch 19 Batch 200 Loss 1.4359 Accuracy 0.6826\n",
            "Epoch 19 Batch 250 Loss 1.4423 Accuracy 0.6814\n",
            "Epoch 19 Batch 300 Loss 1.4510 Accuracy 0.6800\n",
            "Epoch 19 Batch 350 Loss 1.4549 Accuracy 0.6793\n",
            "Epoch 19 Batch 400 Loss 1.4559 Accuracy 0.6792\n",
            "Epoch 19 Batch 450 Loss 1.4604 Accuracy 0.6785\n",
            "Epoch 19 Batch 500 Loss 1.4632 Accuracy 0.6780\n",
            "Epoch 19 Batch 550 Loss 1.4674 Accuracy 0.6774\n",
            "Epoch 19 Batch 600 Loss 1.4676 Accuracy 0.6774\n",
            "Epoch 19 Batch 650 Loss 1.4682 Accuracy 0.6774\n",
            "Epoch 19 Batch 700 Loss 1.4712 Accuracy 0.6769\n",
            "Epoch 19 Batch 750 Loss 1.4759 Accuracy 0.6762\n",
            "Epoch 19 Batch 800 Loss 1.4788 Accuracy 0.6758\n",
            "Epoch 19 Loss 1.4793 Accuracy 0.6756\n",
            "Time taken for 1 epoch: 208.16 secs\n",
            "\n",
            "Epoch 20 Batch 0 Loss 1.3348 Accuracy 0.6975\n",
            "Epoch 20 Batch 50 Loss 1.3952 Accuracy 0.6888\n",
            "Epoch 20 Batch 100 Loss 1.3919 Accuracy 0.6892\n",
            "Epoch 20 Batch 150 Loss 1.3991 Accuracy 0.6883\n",
            "Epoch 20 Batch 200 Loss 1.4075 Accuracy 0.6867\n",
            "Epoch 20 Batch 250 Loss 1.4136 Accuracy 0.6859\n",
            "Epoch 20 Batch 300 Loss 1.4127 Accuracy 0.6865\n",
            "Epoch 20 Batch 350 Loss 1.4200 Accuracy 0.6851\n",
            "Epoch 20 Batch 400 Loss 1.4201 Accuracy 0.6852\n",
            "Epoch 20 Batch 450 Loss 1.4238 Accuracy 0.6846\n",
            "Epoch 20 Batch 500 Loss 1.4261 Accuracy 0.6843\n",
            "Epoch 20 Batch 550 Loss 1.4283 Accuracy 0.6838\n",
            "Epoch 20 Batch 600 Loss 1.4309 Accuracy 0.6834\n",
            "Epoch 20 Batch 650 Loss 1.4325 Accuracy 0.6830\n",
            "Epoch 20 Batch 700 Loss 1.4365 Accuracy 0.6823\n",
            "Epoch 20 Batch 750 Loss 1.4387 Accuracy 0.6819\n",
            "Epoch 20 Batch 800 Loss 1.4422 Accuracy 0.6813\n",
            "Saving checkpoint for epoch 20 at ./checkpoints/train/ckpt-4\n",
            "Epoch 20 Loss 1.4431 Accuracy 0.6812\n",
            "Time taken for 1 epoch: 209.10 secs\n",
            "\n"
          ],
          "name": "stdout"
        }
      ]
    },
    {
      "cell_type": "markdown",
      "metadata": {
        "id": "fk1gsZbrqM6S"
      },
      "source": [
        "### Mode Inference\n",
        "\n",
        "The following steps are used for inference:\n",
        "\n",
        "* Encode the input sentence using the Portuguese tokenizer (`tokenizers.pt`). This is the encoder input.\n",
        "* The decoder input is initialized to the `[START]` token.\n",
        "* Calculate the padding masks and the look ahead masks.\n",
        "* The `decoder` then outputs the predictions by looking at the `encoder output` and its own output (self-attention).\n",
        "* Concatenate the predicted token to the decoder input and pass it to the decoder.\n",
        "* In this approach, the decoder predicts the next token based on the previous tokens it predicted.\n",
        "\n"
      ]
    },
    {
      "cell_type": "markdown",
      "metadata": {
        "id": "FLos50dUqK8v"
      },
      "source": [
        "Note: The model is optimized for _efficient training_ and makes a next-token prediction for each token in the output simultaneously. This is redundant during inference, and only the last prediction is used.  This model can be made more efficient for inference if you only calculate the last prediction when running in inference mode (`training=False`)."
      ]
    },
    {
      "cell_type": "code",
      "metadata": {
        "id": "fpp0b5vUqahr"
      },
      "source": [
        "class Translator(tf.Module):\n",
        "  def __init__(self, tokenizers, transformer):\n",
        "    self.tokenizers = tokenizers\n",
        "    self.transformer = transformer\n",
        "\n",
        "  def __call__(self, sentence, max_length=20):\n",
        "    # input sentence is portuguese, hence adding the start and end token\n",
        "    assert isinstance(sentence, tf.Tensor)\n",
        "    if len(sentence.shape) == 0:\n",
        "      sentence = sentence[tf.newaxis]\n",
        "\n",
        "    sentence = self.tokenizers.pt.tokenize(sentence).to_tensor()\n",
        "    \n",
        "    encoder_input = sentence\n",
        "\n",
        "    # as the target is english, the first token to the transformer should be the\n",
        "    # english start token.\n",
        "    start_end = self.tokenizers.en.tokenize([''])[0]\n",
        "    start = start_end[0][tf.newaxis]\n",
        "    end = start_end[1][tf.newaxis]\n",
        "\n",
        "    # `tf.TensorArray` is required here (instead of a python list) so that the\n",
        "    # dynamic-loop can be traced by `tf.function`.\n",
        "    output_array = tf.TensorArray(dtype=tf.int64, size=0, dynamic_size=True)\n",
        "    output_array = output_array.write(0, start)\n",
        "    \n",
        "    for i in tf.range(max_length):\n",
        "      output = tf.transpose(output_array.stack())\n",
        "      predictions, _ = self.transformer([encoder_input, output], training=False)\n",
        "      \n",
        "      # select the last token from the seq_len dimension\n",
        "      predictions = predictions[:, -1:, :]  # (batch_size, 1, vocab_size)\n",
        "\n",
        "      predicted_id = tf.argmax(predictions, axis=-1)\n",
        "\n",
        "      # concatentate the predicted_id to the output which is given to the decoder\n",
        "      # as its input.\n",
        "      output_array = output_array.write(i+1, predicted_id[0])\n",
        "\n",
        "      if predicted_id == end:\n",
        "        break\n",
        "\n",
        "    output = tf.transpose(output_array.stack())\n",
        "    # output.shape (1, tokens)\n",
        "    text = tokenizers.en.detokenize(output)[0]  # shape: ()\n",
        "\n",
        "    tokens = tokenizers.en.lookup(output)[0]\n",
        "\n",
        "    # `tf.function` prevents us from using the attention_weights that were\n",
        "    # calculated on the last iteration of the loop. So recalculate them outside\n",
        "    # the loop.\n",
        "    _, attention_weights = self.transformer([encoder_input, output[:,:-1]], training=False)\n",
        "\n",
        "    return text, tokens, attention_weights"
      ],
      "execution_count": 97,
      "outputs": []
    },
    {
      "cell_type": "code",
      "metadata": {
        "id": "qOPEHE9pqab4"
      },
      "source": [
        "translator = Translator(tokenizers, transformer)"
      ],
      "execution_count": 98,
      "outputs": []
    },
    {
      "cell_type": "code",
      "metadata": {
        "id": "iISHWREAqaWC"
      },
      "source": [
        "def print_translation(sentence, tokens, ground_truth):\n",
        "  print(f'{\"Input:\":15s}: {sentence}')\n",
        "  print(f'{\"Prediction\":15s}: {tokens.numpy().decode(\"utf-8\")}')\n",
        "  print(f'{\"Ground truth\":15s}: {ground_truth}')"
      ],
      "execution_count": 99,
      "outputs": []
    },
    {
      "cell_type": "code",
      "metadata": {
        "colab": {
          "base_uri": "https://localhost:8080/"
        },
        "id": "PBO1ie7uqaTH",
        "outputId": "0f7bfb6d-cab4-4141-9baa-ab42241b0a9d"
      },
      "source": [
        "sentence = \"este é um problema que temos que resolver.\"\n",
        "ground_truth = \"this is a problem we have to solve .\"\n",
        "\n",
        "translated_text, translated_tokens, attention_weights = translator(\n",
        "    tf.constant(sentence))\n",
        "print_translation(sentence, translated_text, ground_truth)"
      ],
      "execution_count": 100,
      "outputs": [
        {
          "output_type": "stream",
          "text": [
            "Input:         : este é um problema que temos que resolver.\n",
            "Prediction     : this is a problem that we have to solve .\n",
            "Ground truth   : this is a problem we have to solve .\n"
          ],
          "name": "stdout"
        }
      ]
    },
    {
      "cell_type": "code",
      "metadata": {
        "colab": {
          "base_uri": "https://localhost:8080/"
        },
        "id": "oghQLLdUqjpr",
        "outputId": "393a1d16-959d-496b-d906-d7219f4e0cd1"
      },
      "source": [
        "sentence = \"os meus vizinhos ouviram sobre esta ideia.\"\n",
        "ground_truth = \"and my neighboring homes heard about this idea .\"\n",
        "\n",
        "translated_text, translated_tokens, attention_weights = translator(\n",
        "    tf.constant(sentence))\n",
        "print_translation(sentence, translated_text, ground_truth)"
      ],
      "execution_count": 101,
      "outputs": [
        {
          "output_type": "stream",
          "text": [
            "Input:         : os meus vizinhos ouviram sobre esta ideia.\n",
            "Prediction     : my neighbors heard about this idea .\n",
            "Ground truth   : and my neighboring homes heard about this idea .\n"
          ],
          "name": "stdout"
        }
      ]
    },
    {
      "cell_type": "code",
      "metadata": {
        "colab": {
          "base_uri": "https://localhost:8080/"
        },
        "id": "_S3SyyoIqk5j",
        "outputId": "fc55b457-e7e5-493f-ec18-bf1522072df3"
      },
      "source": [
        "sentence = \"vou então muito rapidamente partilhar convosco algumas histórias de algumas coisas mágicas que aconteceram.\"\n",
        "ground_truth = \"so i \\'ll just share with you some stories very quickly of some magical things that have happened .\"\n",
        "\n",
        "translated_text, translated_tokens, attention_weights = translator(\n",
        "    tf.constant(sentence))\n",
        "print_translation(sentence, translated_text, ground_truth)"
      ],
      "execution_count": 102,
      "outputs": [
        {
          "output_type": "stream",
          "text": [
            "Input:         : vou então muito rapidamente partilhar convosco algumas histórias de algumas coisas mágicas que aconteceram.\n",
            "Prediction     : so i ' m going to be very quickly going to share with you some stories from some magic stories\n",
            "Ground truth   : so i 'll just share with you some stories very quickly of some magical things that have happened .\n"
          ],
          "name": "stdout"
        }
      ]
    },
    {
      "cell_type": "markdown",
      "metadata": {
        "id": "7LpD-BcLqm4I"
      },
      "source": [
        "## Attention plots\n",
        "The `Translator` class returns a dictionary of attention maps you can use to visualize the internal working of the model:"
      ]
    },
    {
      "cell_type": "code",
      "metadata": {
        "colab": {
          "base_uri": "https://localhost:8080/"
        },
        "id": "1eEbDCC6qnki",
        "outputId": "169c7b47-3586-4436-a77e-cd7046330dee"
      },
      "source": [
        "sentence = \"este é o primeiro livro que eu fiz.\"\n",
        "ground_truth = \"this is the first book i've ever done.\"\n",
        "\n",
        "translated_text, translated_tokens, attention_weights = translator(\n",
        "    tf.constant(sentence))\n",
        "print_translation(sentence, translated_text, ground_truth)"
      ],
      "execution_count": 103,
      "outputs": [
        {
          "output_type": "stream",
          "text": [
            "Input:         : este é o primeiro livro que eu fiz.\n",
            "Prediction     : this is the first book i did .\n",
            "Ground truth   : this is the first book i've ever done.\n"
          ],
          "name": "stdout"
        }
      ]
    },
    {
      "cell_type": "code",
      "metadata": {
        "id": "GncETAxSqtTi"
      },
      "source": [
        "def plot_attention_head(in_tokens, translated_tokens, attention):\n",
        "  # The plot is of the attention when a token was generated.\n",
        "  # The model didn't generate `<START>` in the output. Skip it.\n",
        "  translated_tokens = translated_tokens[1:]\n",
        "\n",
        "  ax = plt.gca()\n",
        "  ax.matshow(attention)\n",
        "  ax.set_xticks(range(len(in_tokens)))\n",
        "  ax.set_yticks(range(len(translated_tokens)))\n",
        "\n",
        "  labels = [label.decode('utf-8') for label in in_tokens.numpy()]\n",
        "  ax.set_xticklabels(\n",
        "      labels, rotation=90)\n",
        "\n",
        "  labels = [label.decode('utf-8') for label in translated_tokens.numpy()]\n",
        "  ax.set_yticklabels(labels)"
      ],
      "execution_count": 105,
      "outputs": []
    },
    {
      "cell_type": "code",
      "metadata": {
        "colab": {
          "base_uri": "https://localhost:8080/"
        },
        "id": "u15CW7zKqvDM",
        "outputId": "e906523d-2b4d-463d-d163-d0d236c88cc2"
      },
      "source": [
        "head = 0\n",
        "# shape: (batch=1, num_heads, seq_len_q, seq_len_k)\n",
        "attention_heads = tf.squeeze(\n",
        "  attention_weights['decoder_layer4_block2'], 0)\n",
        "attention = attention_heads[head]\n",
        "attention.shape"
      ],
      "execution_count": 104,
      "outputs": [
        {
          "output_type": "execute_result",
          "data": {
            "text/plain": [
              "TensorShape([9, 11])"
            ]
          },
          "metadata": {},
          "execution_count": 104
        }
      ]
    },
    {
      "cell_type": "code",
      "metadata": {
        "colab": {
          "base_uri": "https://localhost:8080/"
        },
        "id": "dCLebdXdqwPk",
        "outputId": "2b87cc12-bb64-45a9-e726-b9438a7e97bd"
      },
      "source": [
        "in_tokens = tf.convert_to_tensor([sentence])\n",
        "in_tokens = tokenizers.pt.tokenize(in_tokens).to_tensor()\n",
        "in_tokens = tokenizers.pt.lookup(in_tokens)[0]\n",
        "in_tokens"
      ],
      "execution_count": 106,
      "outputs": [
        {
          "output_type": "execute_result",
          "data": {
            "text/plain": [
              "<tf.Tensor: shape=(11,), dtype=string, numpy=\n",
              "array([b'[START]', b'este', b'e', b'o', b'primeiro', b'livro', b'que',\n",
              "       b'eu', b'fiz', b'.', b'[END]'], dtype=object)>"
            ]
          },
          "metadata": {},
          "execution_count": 106
        }
      ]
    },
    {
      "cell_type": "code",
      "metadata": {
        "colab": {
          "base_uri": "https://localhost:8080/"
        },
        "id": "LTRivI3Kqxqk",
        "outputId": "1e1ba7dd-8510-4277-9da6-cae4e54b9589"
      },
      "source": [
        "translated_tokens"
      ],
      "execution_count": 107,
      "outputs": [
        {
          "output_type": "execute_result",
          "data": {
            "text/plain": [
              "<tf.Tensor: shape=(10,), dtype=string, numpy=\n",
              "array([b'[START]', b'this', b'is', b'the', b'first', b'book', b'i',\n",
              "       b'did', b'.', b'[END]'], dtype=object)>"
            ]
          },
          "metadata": {},
          "execution_count": 107
        }
      ]
    },
    {
      "cell_type": "code",
      "metadata": {
        "colab": {
          "base_uri": "https://localhost:8080/",
          "height": 301
        },
        "id": "Ayx_SzzPqy_J",
        "outputId": "ebeca5c0-c243-42c1-e173-e8d2824fb9fd"
      },
      "source": [
        "plot_attention_head(in_tokens, translated_tokens, attention)"
      ],
      "execution_count": 108,
      "outputs": [
        {
          "output_type": "display_data",
          "data": {
            "image/png": "[encoded data removed]",
            "text/plain": [
              "<Figure size 432x288 with 1 Axes>"
            ]
          },
          "metadata": {
            "needs_background": "light"
          }
        }
      ]
    },
    {
      "cell_type": "code",
      "metadata": {
        "id": "gTrwsmwRq05P"
      },
      "source": [
        "def plot_attention_weights(sentence, translated_tokens, attention_heads):\n",
        "  in_tokens = tf.convert_to_tensor([sentence])\n",
        "  in_tokens = tokenizers.pt.tokenize(in_tokens).to_tensor()\n",
        "  in_tokens = tokenizers.pt.lookup(in_tokens)[0]\n",
        "  in_tokens\n",
        "\n",
        "  fig = plt.figure(figsize=(16, 8))\n",
        "\n",
        "  for h, head in enumerate(attention_heads):\n",
        "    ax = fig.add_subplot(2, 4, h+1)\n",
        "\n",
        "    plot_attention_head(in_tokens, translated_tokens, head)\n",
        "\n",
        "    ax.set_xlabel(f'Head {h+1}')\n",
        "\n",
        "  plt.tight_layout()\n",
        "  plt.show()"
      ],
      "execution_count": 110,
      "outputs": []
    },
    {
      "cell_type": "code",
      "metadata": {
        "colab": {
          "base_uri": "https://localhost:8080/",
          "height": 568
        },
        "id": "lg9s1QiFq2cU",
        "outputId": "acef9e92-013b-4f90-9c3f-cc67d9503335"
      },
      "source": [
        "plot_attention_weights(sentence, translated_tokens,\n",
        "                       attention_weights['decoder_layer4_block2'][0])"
      ],
      "execution_count": 111,
      "outputs": [
        {
          "output_type": "display_data",
          "data": {
            "image/png": "[encoded data removed]",
            "text/plain": [
              "<Figure size 1152x576 with 8 Axes>"
            ]
          },
          "metadata": {
            "needs_background": "light"
          }
        }
      ]
    },
    {
      "cell_type": "markdown",
      "metadata": {
        "id": "IqZsajmaq4sQ"
      },
      "source": [
        "The model does okay on unfamiliar words. Neither \"triceratops\" or \"encyclopedia\" are in the input dataset and the model almost learns to transliterate them, even without a shared vocabulary:"
      ]
    },
    {
      "cell_type": "code",
      "metadata": {
        "colab": {
          "base_uri": "https://localhost:8080/",
          "height": 615
        },
        "id": "POxTxt_lq5DA",
        "outputId": "081d6aad-dac7-475a-f4f4-4fdb735c3f64"
      },
      "source": [
        "sentence = \"Eu li sobre triceratops na enciclopédia.\"\n",
        "ground_truth = \"I read about triceratops in the encyclopedia.\"\n",
        "\n",
        "translated_text, translated_tokens, attention_weights = translator(\n",
        "    tf.constant(sentence))\n",
        "print_translation(sentence, translated_text, ground_truth)\n",
        "\n",
        "plot_attention_weights(sentence, translated_tokens,\n",
        "                       attention_weights['decoder_layer4_block2'][0])"
      ],
      "execution_count": 112,
      "outputs": [
        {
          "output_type": "stream",
          "text": [
            "Input:         : Eu li sobre triceratops na enciclopédia.\n",
            "Prediction     : i read about triumpra and conject hate mail .\n",
            "Ground truth   : I read about triceratops in the encyclopedia.\n"
          ],
          "name": "stdout"
        },
        {
          "output_type": "display_data",
          "data": {
            "image/png": "[encoded data removed]",
            "text/plain": [
              "<Figure size 1152x576 with 8 Axes>"
            ]
          },
          "metadata": {
            "needs_background": "light"
          }
        }
      ]
    },
    {
      "cell_type": "markdown",
      "metadata": {
        "id": "7NswXgybq-h5"
      },
      "source": [
        "### Conclusion\n",
        "\n",
        "All thanks to [this](https://colab.research.google.com/github/tensorflow/text/blob/master/docs/tutorials/transformer.ipynb#scrollTo=9cxysY7uh3jg) tensorflow tutorial, next we are going to load and create our own dataset insead of using the ``tfds`` dataset and perform the same task."
      ]
    },
    {
      "cell_type": "code",
      "metadata": {
        "id": "aD4hFzXdrQPf"
      },
      "source": [
        ""
      ],
      "execution_count": null,
      "outputs": []
    }
  ]
}