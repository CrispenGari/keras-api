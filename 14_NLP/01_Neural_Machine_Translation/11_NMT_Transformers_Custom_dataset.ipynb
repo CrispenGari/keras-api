{
  "nbformat": 4,
  "nbformat_minor": 0,
  "metadata": {
    "colab": {
      "name": "11_NMT_Transformers_Custom_dataset.ipynb",
      "provenance": [],
      "collapsed_sections": []
    },
    "kernelspec": {
      "name": "python3",
      "display_name": "Python 3"
    },
    "language_info": {
      "name": "python"
    },
    "accelerator": "GPU"
  },
  "cells": [
    {
      "cell_type": "markdown",
      "metadata": {
        "id": "ZrF1N_UoWCek"
      },
      "source": [
        "### Nueral Machine Translation `(NMT)` with Transformers for language understanding.\n",
        "\n",
        "We are going to use the prevoious notebook as the base to load our own custom dataset to do NMT with transformers. We are foing to perform fench to english translation, so were are going to load the dataset from our google drive\n",
        "\n",
        "### Setup\n"
      ]
    },
    {
      "cell_type": "code",
      "metadata": {
        "colab": {
          "base_uri": "https://localhost:8080/"
        },
        "id": "344J2ke9VtKK",
        "outputId": "0e938c2d-5b26-4ed0-bc95-704d51e700a9"
      },
      "source": [
        "from google.colab import drive\n",
        "drive.mount('/content/drive')"
      ],
      "execution_count": 1,
      "outputs": [
        {
          "output_type": "stream",
          "name": "stdout",
          "text": [
            "Drive already mounted at /content/drive; to attempt to forcibly remount, call drive.mount(\"/content/drive\", force_remount=True).\n"
          ]
        }
      ]
    },
    {
      "cell_type": "code",
      "metadata": {
        "colab": {
          "base_uri": "https://localhost:8080/",
          "height": 35
        },
        "id": "1XvtAV7uV82J",
        "outputId": "d889d056-c82e-4207-faf4-3d88b8524922"
      },
      "source": [
        "import tensorflow as tf\n",
        "from tensorflow import keras\n",
        "import string, sys, os, time, collections, pathlib, re\n",
        "import tensorflow_datasets as tfds\n",
        "\n",
        "import numpy as np\n",
        "import matplotlib.pyplot as plt\n",
        "\n",
        "tf.__version__"
      ],
      "execution_count": 2,
      "outputs": [
        {
          "output_type": "execute_result",
          "data": {
            "application/vnd.google.colaboratory.intrinsic+json": {
              "type": "string"
            },
            "text/plain": [
              "'2.6.0'"
            ]
          },
          "metadata": {},
          "execution_count": 2
        }
      ]
    },
    {
      "cell_type": "markdown",
      "metadata": {
        "id": "DwqY3gylM4KZ"
      },
      "source": [
        "### Loading the data"
      ]
    },
    {
      "cell_type": "code",
      "metadata": {
        "colab": {
          "base_uri": "https://localhost:8080/"
        },
        "id": "3NjV_lBbMqDb",
        "outputId": "d9a33fc1-4ba5-42da-da4e-93896d4bbe81"
      },
      "source": [
        "base_path = \"/content/drive/My Drive/NLP Data/seq2seq/data/eng-fra.txt\"\n",
        "os.path.exists(base_path)"
      ],
      "execution_count": 3,
      "outputs": [
        {
          "output_type": "execute_result",
          "data": {
            "text/plain": [
              "True"
            ]
          },
          "metadata": {},
          "execution_count": 3
        }
      ]
    },
    {
      "cell_type": "code",
      "metadata": {
        "colab": {
          "base_uri": "https://localhost:8080/",
          "height": 35
        },
        "id": "jaO1Jh3KM3XE",
        "outputId": "d5c31484-7de0-47ac-ffae-ee56b88bcd4d"
      },
      "source": [
        "lines = open(base_path, encoding=\"utf8\").read().split('\\n')\n",
        "lines[0]"
      ],
      "execution_count": 4,
      "outputs": [
        {
          "output_type": "execute_result",
          "data": {
            "application/vnd.google.colaboratory.intrinsic+json": {
              "type": "string"
            },
            "text/plain": [
              "'Go.\\tVa !'"
            ]
          },
          "metadata": {},
          "execution_count": 4
        }
      ]
    },
    {
      "cell_type": "markdown",
      "metadata": {
        "id": "tZTb_XaiNI4O"
      },
      "source": [
        "We are going to normalize our corpus so for that we are going to use the following functions."
      ]
    },
    {
      "cell_type": "code",
      "metadata": {
        "id": "_IfoNVZPNIZX"
      },
      "source": [
        "import unicodedata, re\n",
        "\n",
        "def unicodeToAscii(s):\n",
        "  return \"\".join(c for c in unicodedata.normalize(\"NFD\", s) \\\n",
        "                  if unicodedata.category(c) != \"Mn\")\n",
        "    \n",
        "def normalizeString(s):\n",
        "  s = unicodeToAscii(s.lower().strip())\n",
        "  s = re.sub(r\"([!.?])\", r\" \\1\", s)\n",
        "  s = re.sub(r\"[^a-zA-Z?.!]+\", \" \", s)\n",
        "  return s"
      ],
      "execution_count": 5,
      "outputs": []
    },
    {
      "cell_type": "code",
      "metadata": {
        "id": "q1cEowGgNIRZ"
      },
      "source": [
        "en = []\n",
        "fr = []\n",
        "for line in lines:\n",
        "  try:\n",
        "    e, f = line.split(\"\\t\")\n",
        "    en.append(normalizeString(e))\n",
        "    fr.append(normalizeString(f))\n",
        "  except:\n",
        "    pass"
      ],
      "execution_count": 6,
      "outputs": []
    },
    {
      "cell_type": "code",
      "metadata": {
        "colab": {
          "base_uri": "https://localhost:8080/"
        },
        "id": "JnNjXXmWNIO2",
        "outputId": "e3bffefb-c677-44c0-c25d-fca6bdbe6b26"
      },
      "source": [
        "len(en), len(fr)"
      ],
      "execution_count": 7,
      "outputs": [
        {
          "output_type": "execute_result",
          "data": {
            "text/plain": [
              "(135842, 135842)"
            ]
          },
          "metadata": {},
          "execution_count": 7
        }
      ]
    },
    {
      "cell_type": "code",
      "metadata": {
        "colab": {
          "base_uri": "https://localhost:8080/"
        },
        "id": "lNOKLyDDeLkb",
        "outputId": "94f6de58-37b6-42e2-fb1c-288da233b8c3"
      },
      "source": [
        "input_data = fr\n",
        "target_data = en\n",
        "print(en[:5])\n",
        "print(fr[:5])"
      ],
      "execution_count": 8,
      "outputs": [
        {
          "output_type": "stream",
          "name": "stdout",
          "text": [
            "['go .', 'run !', 'run !', 'wow !', 'fire !']\n",
            "['va !', 'cours !', 'courez !', 'ca alors !', 'au feu !']\n"
          ]
        }
      ]
    },
    {
      "cell_type": "markdown",
      "metadata": {
        "id": "VLtAqJqUecTZ"
      },
      "source": [
        "#### Tokenizing the data.\n",
        "Next, let's see how to prepare the data for our model. It is very simple and the steps are the following:\n",
        "\n",
        "* Create the vocabulary from the corpus using Subword tokenization, breaking words into “subword units” - strings of characters like ing or eau - that allow the downstream model to make intelligent decisions on words it doesn’t recognize.\n",
        "* Calculate the maximum length of the input and output sequences.\n",
        "* Tokenize the data, convert the raw text into a sequence of integers. Once we define the vocabulary, we use the encode method to get the token for every word in the corpus.\n",
        "* Remove sentences longer that the max length defined.\n",
        "* Padding the sentences: we need to pad zeros at the end of the sequences so that all sequences have the same length. Otherwise, we won't be able train the model on batches"
      ]
    },
    {
      "cell_type": "code",
      "metadata": {
        "id": "SvF0WW8jg8Ac"
      },
      "source": [
        "# Parameters for our model\n",
        "INPUT_COLUMN = 'input'\n",
        "TARGET_COLUMN = 'target'\n",
        "NUM_SAMPLES = 80000 #40000\n",
        "MAX_VOCAB_SIZE = 2**14\n",
        "\n",
        "BATCH_SIZE = 64  # Batch size for training.\n",
        "EPOCHS = 10  # Number of epochs to train for.\n",
        "MAX_LENGTH = 15"
      ],
      "execution_count": 9,
      "outputs": []
    },
    {
      "cell_type": "code",
      "metadata": {
        "id": "a2cjGijheLfC"
      },
      "source": [
        "def subword_tokenize(corpus, vocab_size, max_length):\n",
        "  # Create the vocabulary using Subword tokenization\n",
        "  tokenizer_corpus = tfds.deprecated.text.SubwordTextEncoder.build_from_corpus(\n",
        "    corpus, target_vocab_size=vocab_size  \n",
        "  )\n",
        "  # Get the final vocab size, adding the eos and sos tokens\n",
        "  num_words = tokenizer_corpus.vocab_size + 2\n",
        "  # Set eos and sos token\n",
        "  sos_token = [num_words-2]\n",
        "  eos_token = [num_words-1]\n",
        "  # Tokenize the corpus\n",
        "  sentences = [sos_token + tokenizer_corpus.encode(sentence) + eos_token\n",
        "          for sentence in corpus ]\n",
        "  # Identify the index of the sentences longer than max length\n",
        "  idx_to_remove = [count for count, sent in enumerate(sentences)\n",
        "                 if len(sent) > max_length]\n",
        "  \n",
        "  #  Pad the sentences\n",
        "  sentences = keras.preprocessing.sequence.pad_sequences(\n",
        "      sentences, value=0, padding=\"post\", maxlen=max_length\n",
        "  )\n",
        "  return sentences, tokenizer_corpus, num_words, sos_token, eos_token, idx_to_remove\n"
      ],
      "execution_count": 10,
      "outputs": []
    },
    {
      "cell_type": "code",
      "metadata": {
        "id": "AifzyxAoeLZ2"
      },
      "source": [
        "# Tokenize and pad the input sequences\n",
        "encoder_inputs, tokenizer_inputs, num_words_inputs, sos_token_input, eos_token_input, del_idx_inputs= subword_tokenize(input_data, \n",
        "                                                                                                        MAX_VOCAB_SIZE, MAX_LENGTH)\n",
        "# Tokenize and pad the outputs sequences\n",
        "decoder_outputs, tokenizer_outputs, num_words_output, sos_token_output, eos_token_output, del_idx_outputs = subword_tokenize(target_data, \n",
        "                                                                                                        MAX_VOCAB_SIZE, MAX_LENGTH)"
      ],
      "execution_count": 11,
      "outputs": []
    },
    {
      "cell_type": "markdown",
      "metadata": {
        "id": "KM0JKDuDhJGg"
      },
      "source": [
        "\n",
        "### Check the tokenize function"
      ]
    },
    {
      "cell_type": "code",
      "metadata": {
        "colab": {
          "base_uri": "https://localhost:8080/"
        },
        "id": "B0834Du3eLXZ",
        "outputId": "ecd80082-bd82-47aa-8364-1bae0169c6a3"
      },
      "source": [
        "# Check the tokenize function\n",
        "print(\"*************** encoder inputs **************\")\n",
        "print(encoder_inputs[:5], sos_token_input, eos_token_input)\n",
        "print(\"*************** decoder inputs **************\")\n",
        "print(decoder_outputs[:5], sos_token_output, eos_token_output)"
      ],
      "execution_count": 12,
      "outputs": [
        {
          "output_type": "stream",
          "name": "stdout",
          "text": [
            "*************** encoder inputs **************\n",
            "[[16167  2197    34 16168     0     0     0     0     0     0     0     0\n",
            "      0     0     0]\n",
            " [16167  2006    34 16168     0     0     0     0     0     0     0     0\n",
            "      0     0     0]\n",
            " [16167 15168 16033    34 16168     0     0     0     0     0     0     0\n",
            "      0     0     0]\n",
            " [16167    63  2584    34 16168     0     0     0     0     0     0     0\n",
            "      0     0     0]\n",
            " [16167    49   754    34 16168     0     0     0     0     0     0     0\n",
            "      0     0     0]] [16167] [16168]\n",
            "*************** decoder inputs **************\n",
            "[[18677   148     1 18678     0     0     0     0     0     0     0     0\n",
            "      0     0     0]\n",
            " [18677  1264   115 18678     0     0     0     0     0     0     0     0\n",
            "      0     0     0]\n",
            " [18677  1264   115 18678     0     0     0     0     0     0     0     0\n",
            "      0     0     0]\n",
            " [18677  4501   115 18678     0     0     0     0     0     0     0     0\n",
            "      0     0     0]\n",
            " [18677   925   115 18678     0     0     0     0     0     0     0     0\n",
            "      0     0     0]] [18677] [18678]\n"
          ]
        }
      ]
    },
    {
      "cell_type": "markdown",
      "metadata": {
        "id": "GV-liE7JhSBE"
      },
      "source": [
        "### Checking the vocabularies sizes"
      ]
    },
    {
      "cell_type": "code",
      "metadata": {
        "colab": {
          "base_uri": "https://localhost:8080/"
        },
        "id": "iLJQduAseLTD",
        "outputId": "b98b9a74-432b-4e1b-fff6-877a2e9358e9"
      },
      "source": [
        "print('Size of Input Vocabulary: ', num_words_inputs)\n",
        "print('Size of Output Vocabulary: ', num_words_output)"
      ],
      "execution_count": 13,
      "outputs": [
        {
          "output_type": "stream",
          "name": "stdout",
          "text": [
            "Size of Input Vocabulary:  16169\n",
            "Size of Output Vocabulary:  18679\n"
          ]
        }
      ]
    },
    {
      "cell_type": "markdown",
      "metadata": {
        "id": "3PDA4HxvhXL-"
      },
      "source": [
        "### Creating batch data generator\n",
        "Create a batch data generator:\n",
        "\n",
        "We want to train the model on batches, group of sentences, so we need to create a Dataset using the ``tf.data`` library and the function ``batch_on_slices`` on the input and output sequences."
      ]
    },
    {
      "cell_type": "code",
      "metadata": {
        "id": "ArXQovVfhzYM"
      },
      "source": [
        "dataset = tf.data.Dataset.from_tensor_slices(\n",
        "    (encoder_inputs, decoder_outputs)\n",
        ").shuffle(len(input_data), reshuffle_each_iteration=True).batch(\n",
        "    BATCH_SIZE, drop_remainder=True).prefetch(\n",
        "        tf.data.experimental.AUTOTUNE)"
      ],
      "execution_count": 14,
      "outputs": []
    },
    {
      "cell_type": "markdown",
      "metadata": {
        "id": "GcQVXup7hyvv"
      },
      "source": [
        "### Building a Transformer.\n",
        "\n",
        "What is a transformer?\n",
        "\n",
        "> _\"In this work we propose the Transformer, a model architecture eschewing recurrence and instead relying entirely on an attention mechanism to draw global dependencies between input and output. The Transformer allows for significantly more parallelization … the Transformer is the first transduction model relying entirely on self-attention to compute representations of its input and output without using sequence-aligned RNNs or convolution.\"_ - **\"Attention is all you need\"** paper.\n",
        "\n",
        "The Transformer model extract features for each word using a self-attention mechanism to figure out how important all the other words in the sentence are w.r.t. to the aforementioned word. And no recurrent units are used to obtain this features, they are just weighted sum and activations, so they can be very parallelizable and efficient.\n",
        "\n",
        "\n",
        "### Self-attention: The Fundermentals operations.\n",
        "\n",
        "_\"Self-attention is a sequence-to-sequence operation: a sequence of vectors goes in, and a sequence of vectors comes out. Let's call the input vectors 𝐱1,𝐱2,…𝐱t and the corresponding output vectors 𝐲1,𝐲2,…,𝐲t. The vectors all have dimension k. To produce output vector 𝐲i, the self attention operation simply takes a weighted average over all the input vectors, the simplest option is the dot product.\"_\n",
        "\n",
        "#### Transformers from scratch by Peter Bloem\n",
        "\n",
        "In the self-attention mechanism of our model we need to introduce three elements: Queries, Values and Keys.\n",
        "\n",
        "Queries, Keys and Values\n",
        "\n",
        "Every input vector is used in three different ways in the self-attention mechanism: the Query, the Key and the Value. In every role, it is compared to the others vectors to get its own output yi (Query), to get the j-th output yj (Key) and to compute each output vector once the weights have been established (Value).\n",
        "\n",
        "To obtain this roles, we need three weight matrices of dimensions k x k and compute three linear transformation for each xi:\n",
        "\n",
        "![img](https://github.com/edumunozsala/Transformer-NMT/raw/d08ad5c2a251cc7e8521d278b2819551667c67a4/images/query_key_value.png)\n",
        "\n",
        "These three matrices are usually known as K, Q and V, three learnable weight layers that are applied to the same encoded input. Consequently, as each of these three matrices come from the same input, we can apply the attention mechanism of the input vector with itself, a **\"self-attention\"**.\n",
        "\n",
        "### Scale dot-product Attention\n",
        "> _The input consists of queries and keys of dimension dk, and values of dimension dv. We compute the dot products of the query with all keys, divide each by the square root of dk, and apply a softmax function to obtain the weights on the values._- **\"Attention is all you need\"** paper\n",
        "\n",
        "Then we use the Q, K and V matrices to calculate the attention scores. **The scores measure how much focus to place on other places or words of the input sequence w.r.t a word at a certain position.** That is, the dot product of the query vector with the key vector of the respective word we're scoring. So, for position 1 we calculate the dot product (.) of q1 and k1, then q1 . k2, q1 . k3,… \n",
        "\n",
        "Next we apply the \"scaled\" factor to have more stable gradients. The softmax function can not work properly with large values, resulting in vanishing the gradient and slow down the learning. After \"softmaxing\" we multiply by the Value matrix to keep the values of the words we want to focus on and minimizing or removing the values for the irrelevant words (its value in V matrix should be very small).\n",
        "\n",
        "The formula for these operations is:\n",
        "![img](https://render.githubusercontent.com/render/math?math=Attention%28Q%2C%20K%2C%20V%20%29%20%3D%20%5Ctext%7Bsoftmax%7D%5Cleft%28%5Cdfrac%7BQK%5ET%7D%7B%5Csqrt%7Bd_k%7D%7D%5Cright%29V&mode=inline)\n",
        "\n",
        "\n",
        "\n"
      ]
    },
    {
      "cell_type": "code",
      "metadata": {
        "id": "F1ZzX39DlWZT"
      },
      "source": [
        "def scaled_dot_product_attention(queries, keys, values, mask):\n",
        "  # Calculate the dot product, QK_transpose\n",
        "  product = tf.matmul(queries, keys, transpose_b=True)\n",
        "  # Get the scale factor\n",
        "  keys_dim = tf.cast(tf.shape(keys)[-1], tf.float32)\n",
        "  # Apply the scale factor to the dot product\n",
        "  scaled_product = product/tf.math.sqrt(keys_dim)\n",
        "  # Apply mask when it is required\n",
        "  if mask is not None:\n",
        "    scaled_product += (mask * -1e9)\n",
        "  # dot product with values\n",
        "  attention = tf.matmul(tf.nn.softmax(scaled_product, axis=-1), values)\n",
        "  return attention"
      ],
      "execution_count": 15,
      "outputs": []
    },
    {
      "cell_type": "markdown",
      "metadata": {
        "id": "YNwvjBoYmaCj"
      },
      "source": [
        "### Multi-Head Attention\n",
        "In the previous description the attention scores are focused on the whole sentence at a time, this would produce the same result even if two sentences contain the same words in different order. Instead we would like to attent to different segments of the words. We can give the self attention greater power of discrimination, **by combining serveral self attention heads**, dividing the words vectors into a fixed number (h, number of heads) of chunks and then self-attention is applied on the corresponding chinks using the Q, K and V sub-matrices.\n",
        "\n",
        "This produce h different output matrices of scores.\n",
        "\n",
        "![img](https://github.com/edumunozsala/Transformer-NMT/raw/d08ad5c2a251cc7e8521d278b2819551667c67a4/images/dor_product_multihead.PNG)\n",
        "\n",
        "But the next layer (the Feed-Forward layer) is expecting just one matrix, a vector for each word, so after calculating the dot product of every head, we concat the output matrices and multiply them by an additional weights matrix $W_O$. This final matrix captures information from all the attention heads.\n",
        "\n",
        "$MultihHead(Q, K, V ) = \\text{Concat}(head_1,...,head_n)W^O$\n",
        "\n",
        "where $head_i=Attention(QW_i^Q,QW_i^K,QW_i^V)$ and $i$ is the head index.\n"
      ]
    },
    {
      "cell_type": "code",
      "metadata": {
        "id": "Pq4wDNjnlWVD"
      },
      "source": [
        "class MultiHeadAttention(keras.layers.Layer):\n",
        "  def __init__(self, n_heads):\n",
        "    super(MultiHeadAttention, self).__init__()\n",
        "    self.n_heads = n_heads\n",
        "\n",
        "  def build(self, input_shape):\n",
        "    self.d_model = input_shape[-1]\n",
        "    assert self.d_model % self.n_heads == 0\n",
        "    # Calculate the dimension of every head or projection\n",
        "    self.d_head = self.d_model // self.n_heads\n",
        "    # Set the weight matrices for Q, K and V\n",
        "    self.query_lin = keras.layers.Dense(units=self.d_model)\n",
        "    self.key_lin = keras.layers.Dense(units=self.d_model)\n",
        "    self.value_lin = keras.layers.Dense(units=self.d_model)\n",
        "    # Set the weight matrix for the output of the multi-head attention W0\n",
        "    self.final_lin = keras.layers.Dense(units=self.d_model)\n",
        "\n",
        "  def split_proj(self, inputs, batch_size):\n",
        "    # inputs: (batch_size, seq_length, d_model)\n",
        "    # Set the dimension of the projections\n",
        "    shape = (batch_size,\n",
        "                 -1,\n",
        "                 self.n_heads,\n",
        "                 self.d_head)\n",
        "    splited_inputs = tf.reshape(inputs, shape=shape) # (batch_size, seq_length, nb_proj, d_proj)\n",
        "    return tf.transpose(splited_inputs, perm=[0, 2, 1, 3]) # (batch_size, nb_proj, seq_length, d_proj)\n",
        "\n",
        "  def call(self, queries, keys, values, mask):\n",
        "    # Get the batch size\n",
        "    batch_size = tf.shape(queries)[0]\n",
        "    # Set the Query, Key and Value matrices\n",
        "    queries = self.query_lin(queries)\n",
        "    keys = self.key_lin(keys)\n",
        "    values = self.value_lin(values)\n",
        "    # Split Q, K y V between the heads or projections\n",
        "    queries = self.split_proj(queries, batch_size)\n",
        "    keys = self.split_proj(keys, batch_size)\n",
        "    values = self.split_proj(values, batch_size)\n",
        "    # Apply the scaled dot product\n",
        "    attention = scaled_dot_product_attention(queries, keys, values, mask)\n",
        "    # Get the attention scores\n",
        "    attention = tf.transpose(attention, perm=[0, 2, 1, 3])\n",
        "    # Concat the h heads or projections\n",
        "    concat_attention = tf.reshape(attention,\n",
        "                                  shape=(batch_size, -1, self.d_model))\n",
        "    # Apply W0 to get the output of the multi-head attention\n",
        "    outputs = self.final_lin(concat_attention)\n",
        "    return outputs\n"
      ],
      "execution_count": 16,
      "outputs": []
    },
    {
      "cell_type": "markdown",
      "metadata": {
        "id": "O-fCTKbTqeju"
      },
      "source": [
        "### Positional Encoding\n",
        "\n",
        "We mentioned briefly that the order of the words in the sentence is an issue to solve in this model, because the network and the self-attention mechanism is permutation invariant. If we shuffle up the words in the input sentence, we get the same solutions. We need to create a representation of the position of the word in the sentence and add it to the word embedding.\n",
        "\n",
        "> _To this end, we add \"positional encodings\" to the input embeddings at the bottoms of the encoder and decoder stacks. The positional encodings have the same dimension as the embeddings, so that the two can be summed. There are many choices of positional encodings._ - **\"Attention is all you need** paper\n",
        "\n",
        "So, we apply a function to map the position in the sentence to real valued vector. The network will learn how to use this information. Another approach would be to use a position embedding, similar to word embedding, coding every known position with a vector. It would requiere sentences of all accepted positions during training but positional encoding allow the model to extrapolate to sequence lengths longer than the ones encountered.\n",
        "\n",
        "In the paper a sinusoidal function is applied:\n",
        "\n",
        "$PE_{(pos,2i)} =\\sin(pos/10000^{2i/dmodel})$\n",
        "$PE_{(pos,2i+1)} =\\cos(pos/10000^{2i/dmodel})$\n"
      ]
    },
    {
      "cell_type": "code",
      "metadata": {
        "id": "KvBHfmgIlWSh"
      },
      "source": [
        "class PositionalEncoding(keras.layers.Layer):\n",
        "  def __init__(self):\n",
        "    super(PositionalEncoding, self).__init__()\n",
        "    def get_angles(self, pos, i, d_model):\n",
        "      # pos: (seq_length, 1) i: (1, d_model)\n",
        "      angles = 1 / np.power(10000., (2*(i//2)) / np.float32(d_model))\n",
        "      return pos * angles # (seq_length, d_model)\n",
        "\n",
        "    def call(self, inputs):\n",
        "      # input shape batch_size, seq_length, d_model\n",
        "      seq_length = inputs.shape.as_list()[-2]\n",
        "      d_model = inputs.shape.as_list()[-1]\n",
        "      # Calculate the angles given the input\n",
        "      angles = self.get_angles(np.arange(seq_length)[:, np.newaxis],\n",
        "                                 np.arange(d_model)[np.newaxis, :],\n",
        "                                 d_model)\n",
        "      # Calculate the positional encodings\n",
        "      angles[:, 0::2] = np.sin(angles[:, 0::2])\n",
        "      angles[:, 1::2] = np.cos(angles[:, 1::2])\n",
        "      # Expand the encodings with a new dimension\n",
        "      pos_encoding = angles[np.newaxis, ...]\n",
        "      \n",
        "      return inputs + tf.cast(pos_encoding, tf.float32)"
      ],
      "execution_count": 17,
      "outputs": []
    },
    {
      "cell_type": "markdown",
      "metadata": {
        "id": "Uo7oWyS4rqlS"
      },
      "source": [
        "### The Encoder\n",
        "Now that all the main pieces of the model have been described we can introduce the encoder components\n",
        "* Positional encoding: Add the position encoding to the input embedding (our input words are transformed to embedding vectors). _\"The same weight matrix is shared between the two embedding layers (encoder and decoder) and the pre-softmax linear transformation. In the embedding layers, we multiply those weights by square root of the model dimension\"_ [1], ${\\sqrt{d_{model}}}$.\n",
        "\n",
        "* N = 6, identical layers, containing two sub-layers: a multi-head self-attention mechanism, and a fully connected feed-forward network. This FC layer is applied to each position separately and identically and consists of two linear transformations with a ReLU activation in between. But it is applied position-wise to the input, which means that the same neural network is applied to every single \"token\" vector belonging to the sentence sequence.\n",
        "\n",
        "$$FFN(x)= max(0,xW_1+b_1)W_2+b_2$$\n",
        "* There is a residual connection around each sub-layer (attention and FC network) followed by a layer normalization.\n",
        "\n",
        "\n",
        "_Normalization and residual connections are standard tricks used to help deep neural networks train faster and more accurately. The layer normalization is applied over the embedding dimension only_. - Peter Bloem, **\"Transformers from scratch\"**\n",
        "\n",
        "The next figure will show the components detailed:\n",
        "\n",
        "![img](https://github.com/edumunozsala/Transformer-NMT/raw/d08ad5c2a251cc7e8521d278b2819551667c67a4/images/encoder.PNG)\n",
        "\n",
        "Keep in mind that **only the vector from the last layer (6-th) is sent to the decoder**.\n"
      ]
    },
    {
      "cell_type": "code",
      "metadata": {
        "id": "HIdnVVzjlWQZ"
      },
      "source": [
        "class EncoderLayer(keras.layers.Layer):\n",
        "    def __init__(self, FFN_units, n_heads, dropout_rate):\n",
        "        super(EncoderLayer, self).__init__()\n",
        "        # Hidden units of the feed forward component\n",
        "        self.FFN_units = FFN_units\n",
        "        # Set the number of projectios or heads\n",
        "        self.n_heads = n_heads\n",
        "        # Dropout rate\n",
        "        self.dropout_rate = dropout_rate\n",
        "    \n",
        "    def build(self, input_shape):\n",
        "        self.d_model = input_shape[-1]\n",
        "        # Build the multihead layer\n",
        "        self.multi_head_attention = MultiHeadAttention(self.n_heads)\n",
        "        self.dropout_1 = keras.layers.Dropout(rate=self.dropout_rate)\n",
        "        # Layer Normalization\n",
        "        self.norm_1 = keras.layers.LayerNormalization(epsilon=1e-6)\n",
        "        # Fully connected feed forward layer\n",
        "        self.ffn1_relu = keras.layers.Dense(units=self.FFN_units, activation=\"relu\")\n",
        "        self.ffn2 = keras.layers.Dense(units=self.d_model)\n",
        "        self.dropout_2 = keras.layers.Dropout(rate=self.dropout_rate)\n",
        "        # Layer normalization\n",
        "        self.norm_2 = keras.layers.LayerNormalization(epsilon=1e-6)\n",
        "        \n",
        "    def call(self, inputs, mask, training):\n",
        "        # Forward pass of the multi-head attention\n",
        "        attention = self.multi_head_attention(inputs,\n",
        "                                              inputs,\n",
        "                                              inputs,\n",
        "                                              mask)\n",
        "        attention = self.dropout_1(attention, training=training)\n",
        "        # Call to the residual connection and layer normalization\n",
        "        attention = self.norm_1(attention + inputs)\n",
        "        # Call to the FC layer\n",
        "        outputs = self.ffn1_relu(attention)\n",
        "        outputs = self.ffn2(outputs)\n",
        "        outputs = self.dropout_2(outputs, training=training)\n",
        "        # Call to residual connection and the layer normalization\n",
        "        outputs = self.norm_2(outputs + attention)\n",
        "        \n",
        "        return outputs\n"
      ],
      "execution_count": 18,
      "outputs": []
    },
    {
      "cell_type": "code",
      "metadata": {
        "id": "3QQ3Qgp2lWMU"
      },
      "source": [
        "class Encoder(keras.layers.Layer):\n",
        "    \n",
        "    def __init__(self,\n",
        "                 n_layers,\n",
        "                 FFN_units,\n",
        "                 n_heads,\n",
        "                 dropout_rate,\n",
        "                 vocab_size,\n",
        "                 d_model,\n",
        "                 name=\"encoder\"):\n",
        "        super(Encoder, self).__init__(name=name)\n",
        "        self.n_layers = n_layers\n",
        "        self.d_model = d_model\n",
        "        # The embedding layer\n",
        "        self.embedding = keras.layers.Embedding(vocab_size, d_model)\n",
        "        # Positional encoding layer\n",
        "        self.pos_encoding = PositionalEncoding()\n",
        "        self.dropout = keras.layers.Dropout(rate=dropout_rate)\n",
        "        # Stack of n layers of multi-head attention and FC\n",
        "        self.enc_layers = [EncoderLayer(FFN_units,\n",
        "                                        n_heads,\n",
        "                                        dropout_rate) \n",
        "                           for _ in range(n_layers)]\n",
        "    \n",
        "    def call(self, inputs, mask, training):\n",
        "        # Get the embedding vectors\n",
        "        outputs = self.embedding(inputs)\n",
        "        # Scale the embeddings by sqrt of d_model\n",
        "        outputs *= tf.math.sqrt(tf.cast(self.d_model, tf.float32))\n",
        "        # Positional encodding\n",
        "        outputs = self.pos_encoding(outputs)\n",
        "        outputs = self.dropout(outputs, training)\n",
        "        # Call the stacked layers\n",
        "        for i in range(self.n_layers):\n",
        "            outputs = self.enc_layers[i](outputs, mask, training)\n",
        "\n",
        "        return outputs"
      ],
      "execution_count": 19,
      "outputs": []
    },
    {
      "cell_type": "markdown",
      "metadata": {
        "id": "-JtxllL6s-P6"
      },
      "source": [
        "### The Decoder\n",
        "\n",
        "The decoder share some components with the encoder but they are used in a different way to take into account the encoder output.\n",
        "\n",
        "* Positional encoding: Similar that the one in the encoder\n",
        "* N=6 identical layers, containing 3 three sublayers. First, the Masked Multi-head attention or masked causal attention to prevent positions from attending to subsequent positions, hiding those features that belong to future states of the sequence. \"This masking, combined with fact that the output embeddings are offset by one position, ensures that the predictions for position i can depend only on the known outputs at positions less than i\" [1]. It is implemented setting to −∞ the values corresponding to the forbidden states in the softmax layer of the dot-product attention modules. The second component or \"encoder-decoder attention\" performs multi-head attention over the output of the decoder, the Key and Value vectors come from the output of the encoder but the queries come from the previous decoder layer. This allows every position in the decoder to attend over all positions in the input sequence [1]. And finally the fully-connected network.\n",
        "\n",
        "* The residual connection and layer normalization around each sub-layer, similar to the encoder.\n",
        "\n",
        "![img](https://github.com/edumunozsala/Transformer-NMT/raw/d08ad5c2a251cc7e8521d278b2819551667c67a4/images/decoder.PNG)\n",
        "\n",
        "At the end of the N stacked decoders, the linear layer, a fully-connected network, transforms the stacked outputs to a much larger vector, the logits. The softmax layer then turns those scores (logits) into probabilities (all positive, all add up to 1.0). The cell with the highest probability is chosen, and the word associated with it is produced as the output for this time step.\n",
        "\n"
      ]
    },
    {
      "cell_type": "code",
      "metadata": {
        "id": "Tuaj3DmMlWJE"
      },
      "source": [
        "class DecoderLayer(keras.layers.Layer):\n",
        "    \n",
        "    def __init__(self, FFN_units, n_heads, dropout_rate):\n",
        "        super(DecoderLayer, self).__init__()\n",
        "        self.FFN_units = FFN_units\n",
        "        self.n_heads = n_heads\n",
        "        self.dropout_rate = dropout_rate\n",
        "    \n",
        "    def build(self, input_shape):\n",
        "        self.d_model = input_shape[-1]\n",
        "        \n",
        "        # Self multi head attention, causal attention\n",
        "        self.multi_head_causal_attention = MultiHeadAttention(self.n_heads)\n",
        "        self.dropout_1 = keras.layers.Dropout(rate=self.dropout_rate)\n",
        "        self.norm_1 = keras.layers.LayerNormalization(epsilon=1e-6)\n",
        "        \n",
        "        # Multi head attention, encoder-decoder attention \n",
        "        self.multi_head_enc_dec_attention = MultiHeadAttention(self.n_heads)\n",
        "        self.dropout_2 = keras.layers.Dropout(rate=self.dropout_rate)\n",
        "        self.norm_2 = keras.layers.LayerNormalization(epsilon=1e-6)\n",
        "        \n",
        "        # Feed foward\n",
        "        self.ffn1_relu = keras.layers.Dense(units=self.FFN_units,\n",
        "                                    activation=\"relu\")\n",
        "        self.ffn2 = keras.layers.Dense(units=self.d_model)\n",
        "        self.dropout_3 = keras.layers.Dropout(rate=self.dropout_rate)\n",
        "        self.norm_3 = keras.layers.LayerNormalization(epsilon=1e-6)\n",
        "        \n",
        "    def call(self, inputs, enc_outputs, mask_1, mask_2, training):\n",
        "        # Call the masked causal attention\n",
        "        attention = self.multi_head_causal_attention(inputs,\n",
        "                                                inputs,\n",
        "                                                inputs,\n",
        "                                                mask_1)\n",
        "        attention = self.dropout_1(attention, training)\n",
        "        # Residual connection and layer normalization\n",
        "        attention = self.norm_1(attention + inputs)\n",
        "        # Call the encoder-decoder attention\n",
        "        attention_2 = self.multi_head_enc_dec_attention(attention,\n",
        "                                                  enc_outputs,\n",
        "                                                  enc_outputs,\n",
        "                                                  mask_2)\n",
        "        attention_2 = self.dropout_2(attention_2, training)\n",
        "        # Residual connection and layer normalization\n",
        "        attention_2 = self.norm_2(attention_2 + attention)\n",
        "        # Call the Feed forward\n",
        "        outputs = self.ffn1_relu(attention_2)\n",
        "        outputs = self.ffn2(outputs)\n",
        "        outputs = self.dropout_3(outputs, training)\n",
        "        # Residual connection and layer normalization\n",
        "        outputs = self.norm_3(outputs + attention_2)\n",
        "        \n",
        "        return outputs\n"
      ],
      "execution_count": 20,
      "outputs": []
    },
    {
      "cell_type": "code",
      "metadata": {
        "id": "6t9c-Cu4lWGN"
      },
      "source": [
        "class Decoder(keras.layers.Layer):\n",
        "    \n",
        "    def __init__(self,\n",
        "                 n_layers,\n",
        "                 FFN_units,\n",
        "                 n_heads,\n",
        "                 dropout_rate,\n",
        "                 vocab_size,\n",
        "                 d_model,\n",
        "                 name=\"decoder\"):\n",
        "        super(Decoder, self).__init__(name=name)\n",
        "        self.d_model = d_model\n",
        "        self.n_layers = n_layers\n",
        "        # Embedding layer\n",
        "        self.embedding = keras.layers.Embedding(vocab_size, d_model)\n",
        "        # Positional encoding layer\n",
        "        self.pos_encoding = PositionalEncoding()\n",
        "        self.dropout = keras.layers.Dropout(rate=dropout_rate)\n",
        "        # Stacked layers of multi-head attention and feed forward\n",
        "        self.dec_layers = [DecoderLayer(FFN_units,\n",
        "                                        n_heads,\n",
        "                                        dropout_rate) \n",
        "                           for _ in range(n_layers)]\n",
        "    \n",
        "    def call(self, inputs, enc_outputs, mask_1, mask_2, training):\n",
        "        # Get the embedding vectors\n",
        "        outputs = self.embedding(inputs)\n",
        "        # Scale by sqrt of d_model\n",
        "        outputs *= tf.math.sqrt(tf.cast(self.d_model, tf.float32))\n",
        "        # Positional encodding\n",
        "        outputs = self.pos_encoding(outputs)\n",
        "        outputs = self.dropout(outputs, training)\n",
        "        # Call the stacked layers\n",
        "        for i in range(self.n_layers):\n",
        "            outputs = self.dec_layers[i](outputs,\n",
        "                                         enc_outputs,\n",
        "                                         mask_1,\n",
        "                                         mask_2,\n",
        "                                         training)\n",
        "\n",
        "        return outputs"
      ],
      "execution_count": 21,
      "outputs": []
    },
    {
      "cell_type": "markdown",
      "metadata": {
        "id": "gQHVNUI2tpS0"
      },
      "source": [
        "### Transformer Model\n",
        "Once we have defined our components and created the encoder, the decoder and the linear-softmax final layer, we join the pieces to form our model, the Transformer.\n",
        "\n",
        "![img](https://github.com/edumunozsala/Transformer-NMT/raw/d08ad5c2a251cc7e8521d278b2819551667c67a4/images/transformer_architecture.PNG)\n"
      ]
    },
    {
      "cell_type": "code",
      "metadata": {
        "id": "ZXg0s8IrlWEb"
      },
      "source": [
        "class Transformer(keras.Model):\n",
        "    def __init__(self,\n",
        "                 vocab_size_enc,\n",
        "                 vocab_size_dec,\n",
        "                 d_model,\n",
        "                 n_layers,\n",
        "                 FFN_units,\n",
        "                 n_heads,\n",
        "                 dropout_rate,\n",
        "                 name=\"transformer\"):\n",
        "        super(Transformer, self).__init__(name=name)\n",
        "        # Build the encoder\n",
        "        self.encoder = Encoder(n_layers,\n",
        "                               FFN_units,\n",
        "                               n_heads,\n",
        "                               dropout_rate,\n",
        "                               vocab_size_enc,\n",
        "                               d_model)\n",
        "        # Build the decoder\n",
        "        self.decoder = Decoder(n_layers,\n",
        "                               FFN_units,\n",
        "                               n_heads,\n",
        "                               dropout_rate,\n",
        "                               vocab_size_dec,\n",
        "                               d_model)\n",
        "        # build the linear transformation and softmax function\n",
        "        self.last_linear = keras.layers.Dense(units=vocab_size_dec, name=\"lin_ouput\")\n",
        "    \n",
        "    def create_padding_mask(self, seq): #seq: (batch_size, seq_length)\n",
        "        # Create the mask for padding\n",
        "        mask = tf.cast(tf.math.equal(seq, 0), tf.float32)\n",
        "        return mask[:, tf.newaxis, tf.newaxis, :]\n",
        "\n",
        "    def create_look_ahead_mask(self, seq):\n",
        "        # Create the mask for the causal attention\n",
        "        seq_len = tf.shape(seq)[1]\n",
        "        look_ahead_mask = 1 - tf.linalg.band_part(tf.ones((seq_len, seq_len)), -1, 0)\n",
        "        return look_ahead_mask\n",
        "    \n",
        "    def call(self, enc_inputs, dec_inputs, training):\n",
        "        # Create the padding mask for the encoder\n",
        "        enc_mask = self.create_padding_mask(enc_inputs)\n",
        "        # Create the mask for the causal attention\n",
        "        dec_mask_1 = tf.maximum(\n",
        "            self.create_padding_mask(dec_inputs),\n",
        "            self.create_look_ahead_mask(dec_inputs)\n",
        "        )\n",
        "        # Create the mask for the encoder-decoder attention\n",
        "        dec_mask_2 = self.create_padding_mask(enc_inputs)\n",
        "        # Call the encoder\n",
        "        enc_outputs = self.encoder(enc_inputs, enc_mask, training)\n",
        "        # Call the decoder\n",
        "        dec_outputs = self.decoder(dec_inputs,\n",
        "                                   enc_outputs,\n",
        "                                   dec_mask_1,\n",
        "                                   dec_mask_2,\n",
        "                                   training)\n",
        "        # Call the Linear and Softmax functions\n",
        "        outputs = self.last_linear(dec_outputs)\n",
        "        \n",
        "        return outputs"
      ],
      "execution_count": 22,
      "outputs": []
    },
    {
      "cell_type": "markdown",
      "metadata": {
        "id": "FDIyEml-uKO6"
      },
      "source": [
        "It is worth mentioning that we create 3 masks, each of which will allow us:\n",
        "\n",
        "* Encoder mask: It is a padding mask to discard the pad tokens from the attention calculation.\n",
        "* Decoder mask 1: this mask is a union of the padding mask and the look ahead mask which will help the causal attention to discard the tokens \"in the future\". We take the maximum value between the padding mask and the look ahead one.\n",
        "* Decoder mask 2: it is the padding mask and is applied in the encoder-decoder attention layer.\n",
        "As you can see then we call the encoder, the decoder and the final linear-softmax layer to get the predicted output from our Transformer model.\n",
        "\n",
        "### Training the Transformer model\n",
        "Now that we have described in detail the components in the paper we are ready to implement them and train a transformer model on a NMT problem. It is a toy problem for educational purposes.\n",
        "\n",
        "We need to create a custom loss function to mask the padding tokens and we define the Adam optimizer described in the paper, with beta1 = 0.9, beta2 = 0.98 and epsilon= 10e-9. And then we create a scheduler to vary the learning rate over the training process according to:\n",
        "\n",
        "$lrate = d_{model}^{-0.5}*min(step\\_num^{-0.5}, step\\_num*warmup\\_steps^{-1.5})$"
      ]
    },
    {
      "cell_type": "code",
      "metadata": {
        "id": "gEIV5TFNlWB7"
      },
      "source": [
        "def loss_function(target, pred):\n",
        "    mask = tf.math.logical_not(tf.math.equal(target, 0))\n",
        "    loss_ = loss_object(target, pred)\n",
        "    \n",
        "    mask = tf.cast(mask, dtype=loss_.dtype)\n",
        "    loss_ *= mask\n",
        "    \n",
        "    return tf.reduce_mean(loss_)\n",
        "\n",
        "class CustomSchedule(tf.keras.optimizers.schedules.LearningRateSchedule):\n",
        "    \n",
        "    def __init__(self, d_model, warmup_steps=4000):\n",
        "        super(CustomSchedule, self).__init__()\n",
        "        \n",
        "        self.d_model = tf.cast(d_model, tf.float32)\n",
        "        self.warmup_steps = warmup_steps\n",
        "    \n",
        "    def __call__(self, step):\n",
        "        arg1 = tf.math.rsqrt(step)\n",
        "        arg2 = step * (self.warmup_steps**-1.5)\n",
        "        \n",
        "        return tf.math.rsqrt(self.d_model) * tf.math.minimum(arg1, arg2)"
      ],
      "execution_count": 23,
      "outputs": []
    },
    {
      "cell_type": "markdown",
      "metadata": {
        "id": "SQI_SpJ7uWxt"
      },
      "source": [
        "And that's all, we have all the necessary elements to train our model using an usual loop for sequence-to-sequence tasks:\n",
        "\n",
        "* For every iteration on the batch generator that produce batch size inputs and outputs\n",
        "* Get the input sequence from 0 to length-1 and the actual outputs from 1 to length, the next word expected at every sequence step.\n",
        "* Call the transformer to get the predictions\n",
        "* Calculate the loss function between the real outputs and the predictions\n",
        "* Apply the gradients to update the weights in the model\n",
        "* Calculate the mean loss and the accuracy for the batch data\n",
        "* Show some results and save the model in every epoch\n"
      ]
    },
    {
      "cell_type": "code",
      "metadata": {
        "id": "aiZ2wLf5lV9g"
      },
      "source": [
        "def fit(dataset, transformer, n_epochs, print_every=50):\n",
        "  ''' Train the transformer model for n_epochs using the data generator dataset'''\n",
        "  losses = []\n",
        "  accuracies = []\n",
        "  # In every epoch\n",
        "  for epoch in range(n_epochs):\n",
        "    print(\"Starting epoch {}\".format(epoch+1))\n",
        "    start = time.time()\n",
        "    # Reset the losss and accuracy calculations\n",
        "    train_loss.reset_states()\n",
        "    train_accuracy.reset_states()\n",
        "    # Get a batch of inputs and targets\n",
        "    for (batch, (enc_inputs, targets)) in enumerate(dataset):\n",
        "        # Set the decoder inputs\n",
        "        dec_inputs = targets[:, :-1]\n",
        "        # Set the target outputs, right shifted\n",
        "        dec_outputs_real = targets[:, 1:]\n",
        "        with tf.GradientTape() as tape:\n",
        "            # Call the transformer and get the predicted output\n",
        "            predictions = transformer(enc_inputs, dec_inputs, True)\n",
        "            # Calculate the loss\n",
        "            loss = loss_function(dec_outputs_real, predictions)\n",
        "        # Update the weights and optimizer\n",
        "        gradients = tape.gradient(loss, transformer.trainable_variables)\n",
        "        optimizer.apply_gradients(zip(gradients, transformer.trainable_variables))\n",
        "        # Save and store the metrics\n",
        "        train_loss(loss)\n",
        "        train_accuracy(dec_outputs_real, predictions)\n",
        "        \n",
        "        if batch % print_every == 0:\n",
        "            losses.append(train_loss.result())\n",
        "            accuracies.append(train_accuracy.result())\n",
        "            print(\"Epoch {} Batch {} Loss {:.4f} Accuracy {:.4f}\".format(\n",
        "                epoch+1, batch, train_loss.result(), train_accuracy.result()))\n",
        "            \n",
        "    # Checkpoint the model on every epoch        \n",
        "    ckpt_save_path = ckpt_manager.save()\n",
        "    print(\"Saving checkpoint for epoch {} in {}\".format(epoch+1,\n",
        "                                                        ckpt_save_path))\n",
        "    print(\"Time for 1 epoch: {} secs\\n\".format(time.time() - start))\n",
        "\n",
        "  return losses, accuracies\n",
        "  "
      ],
      "execution_count": 24,
      "outputs": []
    },
    {
      "cell_type": "markdown",
      "metadata": {
        "id": "LcUxBay7umEa"
      },
      "source": [
        "\n",
        "Setting the hyperparameters and parameters of the model and training process:"
      ]
    },
    {
      "cell_type": "code",
      "metadata": {
        "id": "aHnWQTOUlV57"
      },
      "source": [
        "# Set hyperparamters for the model\n",
        "D_MODEL = 512 # 512\n",
        "N_LAYERS = 4 # 6\n",
        "FFN_UNITS = 512 # 2048\n",
        "N_HEADS = 8 # 8\n",
        "DROPOUT_RATE = 0.1 # 0.1"
      ],
      "execution_count": 25,
      "outputs": []
    },
    {
      "cell_type": "markdown",
      "metadata": {
        "id": "6k2eJgjduqTJ"
      },
      "source": [
        "Now we define and create all the elements to train the model and evaluate it."
      ]
    },
    {
      "cell_type": "code",
      "metadata": {
        "id": "VYfjVUT0ure-"
      },
      "source": [
        "# Clean the session\n",
        "tf.keras.backend.clear_session()\n",
        "# Create the Transformer model\n",
        "transformer = Transformer(vocab_size_enc=num_words_inputs,\n",
        "                          vocab_size_dec=num_words_output,\n",
        "                          d_model=D_MODEL,\n",
        "                          n_layers=N_LAYERS,\n",
        "                          FFN_units=FFN_UNITS,\n",
        "                          n_heads=N_HEADS,\n",
        "                          dropout_rate=DROPOUT_RATE)\n",
        "\n",
        "# Define a categorical cross entropy loss\n",
        "loss_object = tf.keras.losses.SparseCategoricalCrossentropy(from_logits=True,\n",
        "                                                            reduction=\"none\")\n",
        "# Define a metric to store the mean loss of every epoch\n",
        "train_loss = tf.keras.metrics.Mean(name=\"train_loss\")\n",
        "# Define a matric to save the accuracy in every epoch\n",
        "train_accuracy = tf.keras.metrics.SparseCategoricalAccuracy(name=\"train_accuracy\")\n",
        "# Create the scheduler for learning rate decay\n",
        "leaning_rate = CustomSchedule(D_MODEL)\n",
        "# Create the Adam optimizer\n",
        "optimizer = tf.keras.optimizers.Adam(leaning_rate,\n",
        "                                     beta_1=0.9,\n",
        "                                     beta_2=0.98,\n",
        "                                     epsilon=1e-9)\n"
      ],
      "execution_count": 26,
      "outputs": []
    },
    {
      "cell_type": "markdown",
      "metadata": {
        "id": "tY4F0Tqouvte"
      },
      "source": [
        "It is very useful to checkpoint and save our model during training. Training can take a lot of time and we can restore the model for future training or use."
      ]
    },
    {
      "cell_type": "code",
      "metadata": {
        "id": "Odo-yL4VurcG"
      },
      "source": [
        "#Create the Checkpoint \n",
        "ckpt = tf.train.Checkpoint(transformer=transformer,\n",
        "                           optimizer=optimizer)\n",
        "\n",
        "ckpt_manager = tf.train.CheckpointManager(ckpt, 'ckpt/', max_to_keep=5)\n",
        "\n",
        "if ckpt_manager.latest_checkpoint:\n",
        "    ckpt.restore(ckpt_manager.latest_checkpoint)\n",
        "    print(\"Last checkpoint restored.\")"
      ],
      "execution_count": 28,
      "outputs": []
    },
    {
      "cell_type": "code",
      "metadata": {
        "colab": {
          "base_uri": "https://localhost:8080/"
        },
        "id": "VxrYk0vQurZ1",
        "outputId": "a9e50888-567a-4442-9a74-d5cea6ff5c87"
      },
      "source": [
        "losses, accuracies = fit(dataset, transformer, EPOCHS, 100)"
      ],
      "execution_count": 29,
      "outputs": [
        {
          "output_type": "stream",
          "name": "stdout",
          "text": [
            "Starting epoch 1\n",
            "Epoch 1 Batch 0 Loss 5.8194 Accuracy 0.0000\n",
            "Epoch 1 Batch 100 Loss 5.6208 Accuracy 0.0538\n",
            "Epoch 1 Batch 200 Loss 5.1831 Accuracy 0.0699\n",
            "Epoch 1 Batch 300 Loss 4.6925 Accuracy 0.0933\n",
            "Epoch 1 Batch 400 Loss 4.2875 Accuracy 0.1158\n",
            "Epoch 1 Batch 500 Loss 3.9896 Accuracy 0.1353\n",
            "Epoch 1 Batch 600 Loss 3.7547 Accuracy 0.1519\n",
            "Epoch 1 Batch 700 Loss 3.5670 Accuracy 0.1656\n",
            "Epoch 1 Batch 800 Loss 3.4112 Accuracy 0.1772\n",
            "Epoch 1 Batch 900 Loss 3.2785 Accuracy 0.1877\n",
            "Epoch 1 Batch 1000 Loss 3.1635 Accuracy 0.1970\n",
            "Epoch 1 Batch 1100 Loss 3.0617 Accuracy 0.2051\n",
            "Epoch 1 Batch 1200 Loss 2.9733 Accuracy 0.2126\n",
            "Epoch 1 Batch 1300 Loss 2.8938 Accuracy 0.2196\n",
            "Epoch 1 Batch 1400 Loss 2.8210 Accuracy 0.2258\n",
            "Epoch 1 Batch 1500 Loss 2.7554 Accuracy 0.2315\n",
            "Epoch 1 Batch 1600 Loss 2.6955 Accuracy 0.2369\n",
            "Epoch 1 Batch 1700 Loss 2.6404 Accuracy 0.2420\n",
            "Epoch 1 Batch 1800 Loss 2.5864 Accuracy 0.2467\n",
            "Epoch 1 Batch 1900 Loss 2.5391 Accuracy 0.2510\n",
            "Epoch 1 Batch 2000 Loss 2.4951 Accuracy 0.2550\n",
            "Epoch 1 Batch 2100 Loss 2.4541 Accuracy 0.2588\n",
            "Saving checkpoint for epoch 1 in ckpt/ckpt-1\n",
            "Time for 1 epoch: 1082.4298751354218 secs\n",
            "\n",
            "Starting epoch 2\n",
            "Epoch 2 Batch 0 Loss 1.5677 Accuracy 0.3214\n",
            "Epoch 2 Batch 100 Loss 1.5040 Accuracy 0.3454\n",
            "Epoch 2 Batch 200 Loss 1.4969 Accuracy 0.3484\n",
            "Epoch 2 Batch 300 Loss 1.4905 Accuracy 0.3505\n",
            "Epoch 2 Batch 400 Loss 1.4728 Accuracy 0.3530\n",
            "Epoch 2 Batch 500 Loss 1.4636 Accuracy 0.3544\n",
            "Epoch 2 Batch 600 Loss 1.4598 Accuracy 0.3562\n",
            "Epoch 2 Batch 700 Loss 1.4466 Accuracy 0.3579\n",
            "Epoch 2 Batch 800 Loss 1.4377 Accuracy 0.3592\n",
            "Epoch 2 Batch 900 Loss 1.4295 Accuracy 0.3602\n",
            "Epoch 2 Batch 1000 Loss 1.4202 Accuracy 0.3617\n",
            "Epoch 2 Batch 1100 Loss 1.4114 Accuracy 0.3630\n",
            "Epoch 2 Batch 1200 Loss 1.4034 Accuracy 0.3640\n",
            "Epoch 2 Batch 1300 Loss 1.3974 Accuracy 0.3650\n",
            "Epoch 2 Batch 1400 Loss 1.3924 Accuracy 0.3660\n",
            "Epoch 2 Batch 1500 Loss 1.3864 Accuracy 0.3669\n",
            "Epoch 2 Batch 1600 Loss 1.3811 Accuracy 0.3678\n",
            "Epoch 2 Batch 1700 Loss 1.3766 Accuracy 0.3685\n",
            "Epoch 2 Batch 1800 Loss 1.3719 Accuracy 0.3692\n",
            "Epoch 2 Batch 1900 Loss 1.3673 Accuracy 0.3699\n",
            "Epoch 2 Batch 2000 Loss 1.3633 Accuracy 0.3704\n",
            "Epoch 2 Batch 2100 Loss 1.3598 Accuracy 0.3708\n",
            "Saving checkpoint for epoch 2 in ckpt/ckpt-2\n",
            "Time for 1 epoch: 953.6725041866302 secs\n",
            "\n",
            "Starting epoch 3\n",
            "Epoch 3 Batch 0 Loss 1.0270 Accuracy 0.3761\n",
            "Epoch 3 Batch 100 Loss 1.1647 Accuracy 0.3926\n",
            "Epoch 3 Batch 200 Loss 1.1669 Accuracy 0.3926\n",
            "Epoch 3 Batch 300 Loss 1.1725 Accuracy 0.3917\n",
            "Epoch 3 Batch 400 Loss 1.1734 Accuracy 0.3930\n",
            "Epoch 3 Batch 500 Loss 1.1740 Accuracy 0.3930\n",
            "Epoch 3 Batch 600 Loss 1.1692 Accuracy 0.3939\n",
            "Epoch 3 Batch 700 Loss 1.1649 Accuracy 0.3944\n",
            "Epoch 3 Batch 800 Loss 1.1647 Accuracy 0.3950\n",
            "Epoch 3 Batch 900 Loss 1.1603 Accuracy 0.3957\n",
            "Epoch 3 Batch 1000 Loss 1.1589 Accuracy 0.3962\n",
            "Epoch 3 Batch 1100 Loss 1.1553 Accuracy 0.3967\n",
            "Epoch 3 Batch 1200 Loss 1.1530 Accuracy 0.3973\n",
            "Epoch 3 Batch 1300 Loss 1.1495 Accuracy 0.3977\n",
            "Epoch 3 Batch 1400 Loss 1.1474 Accuracy 0.3981\n",
            "Epoch 3 Batch 1500 Loss 1.1441 Accuracy 0.3986\n",
            "Epoch 3 Batch 1600 Loss 1.1409 Accuracy 0.3992\n",
            "Epoch 3 Batch 1700 Loss 1.1369 Accuracy 0.3997\n",
            "Epoch 3 Batch 1800 Loss 1.1339 Accuracy 0.4002\n",
            "Epoch 3 Batch 1900 Loss 1.1302 Accuracy 0.4007\n",
            "Epoch 3 Batch 2000 Loss 1.1271 Accuracy 0.4010\n",
            "Epoch 3 Batch 2100 Loss 1.1238 Accuracy 0.4014\n",
            "Saving checkpoint for epoch 3 in ckpt/ckpt-3\n",
            "Time for 1 epoch: 932.2165117263794 secs\n",
            "\n",
            "Starting epoch 4\n",
            "Epoch 4 Batch 0 Loss 0.9817 Accuracy 0.4107\n",
            "Epoch 4 Batch 100 Loss 0.9840 Accuracy 0.4183\n",
            "Epoch 4 Batch 200 Loss 0.9712 Accuracy 0.4198\n",
            "Epoch 4 Batch 300 Loss 0.9708 Accuracy 0.4202\n",
            "Epoch 4 Batch 400 Loss 0.9752 Accuracy 0.4209\n",
            "Epoch 4 Batch 500 Loss 0.9742 Accuracy 0.4208\n",
            "Epoch 4 Batch 600 Loss 0.9776 Accuracy 0.4204\n",
            "Epoch 4 Batch 700 Loss 0.9774 Accuracy 0.4203\n",
            "Epoch 4 Batch 800 Loss 0.9809 Accuracy 0.4205\n",
            "Epoch 4 Batch 900 Loss 0.9816 Accuracy 0.4206\n",
            "Epoch 4 Batch 1000 Loss 0.9818 Accuracy 0.4210\n",
            "Epoch 4 Batch 1100 Loss 0.9805 Accuracy 0.4214\n",
            "Epoch 4 Batch 1200 Loss 0.9798 Accuracy 0.4215\n",
            "Epoch 4 Batch 1300 Loss 0.9797 Accuracy 0.4216\n",
            "Epoch 4 Batch 1400 Loss 0.9790 Accuracy 0.4218\n",
            "Epoch 4 Batch 1500 Loss 0.9787 Accuracy 0.4221\n",
            "Epoch 4 Batch 1600 Loss 0.9787 Accuracy 0.4222\n",
            "Epoch 4 Batch 1700 Loss 0.9780 Accuracy 0.4221\n",
            "Epoch 4 Batch 1800 Loss 0.9771 Accuracy 0.4220\n",
            "Epoch 4 Batch 1900 Loss 0.9771 Accuracy 0.4223\n",
            "Epoch 4 Batch 2000 Loss 0.9759 Accuracy 0.4226\n",
            "Epoch 4 Batch 2100 Loss 0.9749 Accuracy 0.4227\n",
            "Saving checkpoint for epoch 4 in ckpt/ckpt-4\n",
            "Time for 1 epoch: 916.8218710422516 secs\n",
            "\n",
            "Starting epoch 5\n",
            "Epoch 5 Batch 0 Loss 0.7335 Accuracy 0.4710\n",
            "Epoch 5 Batch 100 Loss 0.8700 Accuracy 0.4362\n",
            "Epoch 5 Batch 200 Loss 0.8712 Accuracy 0.4364\n",
            "Epoch 5 Batch 300 Loss 0.8716 Accuracy 0.4362\n",
            "Epoch 5 Batch 400 Loss 0.8758 Accuracy 0.4364\n",
            "Epoch 5 Batch 500 Loss 0.8776 Accuracy 0.4362\n",
            "Epoch 5 Batch 600 Loss 0.8803 Accuracy 0.4359\n",
            "Epoch 5 Batch 700 Loss 0.8820 Accuracy 0.4361\n",
            "Epoch 5 Batch 800 Loss 0.8880 Accuracy 0.4360\n",
            "Epoch 5 Batch 900 Loss 0.8888 Accuracy 0.4356\n",
            "Epoch 5 Batch 1000 Loss 0.8891 Accuracy 0.4358\n",
            "Epoch 5 Batch 1100 Loss 0.8886 Accuracy 0.4358\n",
            "Epoch 5 Batch 1200 Loss 0.8880 Accuracy 0.4359\n",
            "Epoch 5 Batch 1300 Loss 0.8889 Accuracy 0.4360\n",
            "Epoch 5 Batch 1400 Loss 0.8884 Accuracy 0.4360\n",
            "Epoch 5 Batch 1500 Loss 0.8879 Accuracy 0.4362\n",
            "Epoch 5 Batch 1600 Loss 0.8871 Accuracy 0.4362\n",
            "Epoch 5 Batch 1700 Loss 0.8883 Accuracy 0.4362\n",
            "Epoch 5 Batch 1800 Loss 0.8892 Accuracy 0.4363\n",
            "Epoch 5 Batch 1900 Loss 0.8882 Accuracy 0.4363\n",
            "Epoch 5 Batch 2000 Loss 0.8886 Accuracy 0.4364\n",
            "Epoch 5 Batch 2100 Loss 0.8893 Accuracy 0.4364\n",
            "Saving checkpoint for epoch 5 in ckpt/ckpt-5\n",
            "Time for 1 epoch: 983.9613447189331 secs\n",
            "\n",
            "Starting epoch 6\n",
            "Epoch 6 Batch 0 Loss 0.8287 Accuracy 0.4743\n",
            "Epoch 6 Batch 100 Loss 0.7838 Accuracy 0.4518\n",
            "Epoch 6 Batch 200 Loss 0.7935 Accuracy 0.4499\n",
            "Epoch 6 Batch 300 Loss 0.7922 Accuracy 0.4501\n",
            "Epoch 6 Batch 400 Loss 0.7961 Accuracy 0.4496\n",
            "Epoch 6 Batch 500 Loss 0.7967 Accuracy 0.4497\n",
            "Epoch 6 Batch 600 Loss 0.8040 Accuracy 0.4495\n",
            "Epoch 6 Batch 700 Loss 0.8066 Accuracy 0.4492\n",
            "Epoch 6 Batch 800 Loss 0.8084 Accuracy 0.4489\n",
            "Epoch 6 Batch 900 Loss 0.8120 Accuracy 0.4489\n",
            "Epoch 6 Batch 1000 Loss 0.8148 Accuracy 0.4486\n",
            "Epoch 6 Batch 1100 Loss 0.8173 Accuracy 0.4482\n",
            "Epoch 6 Batch 1200 Loss 0.8187 Accuracy 0.4480\n",
            "Epoch 6 Batch 1300 Loss 0.8194 Accuracy 0.4480\n",
            "Epoch 6 Batch 1400 Loss 0.8199 Accuracy 0.4478\n",
            "Epoch 6 Batch 1500 Loss 0.8210 Accuracy 0.4477\n",
            "Epoch 6 Batch 1600 Loss 0.8220 Accuracy 0.4477\n",
            "Epoch 6 Batch 1700 Loss 0.8234 Accuracy 0.4477\n",
            "Epoch 6 Batch 1800 Loss 0.8232 Accuracy 0.4478\n",
            "Epoch 6 Batch 1900 Loss 0.8225 Accuracy 0.4479\n",
            "Epoch 6 Batch 2000 Loss 0.8219 Accuracy 0.4478\n",
            "Epoch 6 Batch 2100 Loss 0.8225 Accuracy 0.4478\n",
            "Saving checkpoint for epoch 6 in ckpt/ckpt-6\n",
            "Time for 1 epoch: 915.140415430069 secs\n",
            "\n",
            "Starting epoch 7\n",
            "Epoch 7 Batch 0 Loss 0.7953 Accuracy 0.4565\n",
            "Epoch 7 Batch 100 Loss 0.7300 Accuracy 0.4608\n",
            "Epoch 7 Batch 200 Loss 0.7443 Accuracy 0.4596\n",
            "Epoch 7 Batch 300 Loss 0.7439 Accuracy 0.4597\n",
            "Epoch 7 Batch 400 Loss 0.7448 Accuracy 0.4594\n",
            "Epoch 7 Batch 500 Loss 0.7497 Accuracy 0.4590\n",
            "Epoch 7 Batch 600 Loss 0.7491 Accuracy 0.4591\n",
            "Epoch 7 Batch 700 Loss 0.7551 Accuracy 0.4584\n",
            "Epoch 7 Batch 800 Loss 0.7575 Accuracy 0.4586\n",
            "Epoch 7 Batch 900 Loss 0.7589 Accuracy 0.4582\n",
            "Epoch 7 Batch 1000 Loss 0.7580 Accuracy 0.4585\n",
            "Epoch 7 Batch 1100 Loss 0.7592 Accuracy 0.4583\n",
            "Epoch 7 Batch 1200 Loss 0.7599 Accuracy 0.4584\n",
            "Epoch 7 Batch 1300 Loss 0.7621 Accuracy 0.4581\n",
            "Epoch 7 Batch 1400 Loss 0.7641 Accuracy 0.4579\n",
            "Epoch 7 Batch 1500 Loss 0.7646 Accuracy 0.4577\n",
            "Epoch 7 Batch 1600 Loss 0.7652 Accuracy 0.4575\n",
            "Epoch 7 Batch 1700 Loss 0.7660 Accuracy 0.4574\n",
            "Epoch 7 Batch 1800 Loss 0.7675 Accuracy 0.4576\n",
            "Epoch 7 Batch 1900 Loss 0.7681 Accuracy 0.4575\n",
            "Epoch 7 Batch 2000 Loss 0.7695 Accuracy 0.4574\n",
            "Epoch 7 Batch 2100 Loss 0.7714 Accuracy 0.4572\n",
            "Saving checkpoint for epoch 7 in ckpt/ckpt-7\n",
            "Time for 1 epoch: 922.2866609096527 secs\n",
            "\n",
            "Starting epoch 8\n",
            "Epoch 8 Batch 0 Loss 0.6597 Accuracy 0.4665\n",
            "Epoch 8 Batch 100 Loss 0.6910 Accuracy 0.4705\n",
            "Epoch 8 Batch 200 Loss 0.6881 Accuracy 0.4711\n",
            "Epoch 8 Batch 300 Loss 0.6894 Accuracy 0.4699\n",
            "Epoch 8 Batch 400 Loss 0.6988 Accuracy 0.4693\n",
            "Epoch 8 Batch 500 Loss 0.7012 Accuracy 0.4684\n",
            "Epoch 8 Batch 600 Loss 0.7045 Accuracy 0.4682\n",
            "Epoch 8 Batch 700 Loss 0.7094 Accuracy 0.4678\n",
            "Epoch 8 Batch 800 Loss 0.7116 Accuracy 0.4670\n",
            "Epoch 8 Batch 900 Loss 0.7117 Accuracy 0.4673\n",
            "Epoch 8 Batch 1000 Loss 0.7143 Accuracy 0.4670\n",
            "Epoch 8 Batch 1100 Loss 0.7160 Accuracy 0.4669\n",
            "Epoch 8 Batch 1200 Loss 0.7181 Accuracy 0.4664\n",
            "Epoch 8 Batch 1300 Loss 0.7196 Accuracy 0.4660\n",
            "Epoch 8 Batch 1400 Loss 0.7217 Accuracy 0.4659\n",
            "Epoch 8 Batch 1500 Loss 0.7227 Accuracy 0.4657\n",
            "Epoch 8 Batch 1600 Loss 0.7230 Accuracy 0.4655\n",
            "Epoch 8 Batch 1700 Loss 0.7258 Accuracy 0.4653\n",
            "Epoch 8 Batch 1800 Loss 0.7273 Accuracy 0.4652\n",
            "Epoch 8 Batch 1900 Loss 0.7288 Accuracy 0.4650\n",
            "Epoch 8 Batch 2000 Loss 0.7293 Accuracy 0.4649\n",
            "Epoch 8 Batch 2100 Loss 0.7300 Accuracy 0.4648\n",
            "Saving checkpoint for epoch 8 in ckpt/ckpt-8\n",
            "Time for 1 epoch: 878.410551071167 secs\n",
            "\n",
            "Starting epoch 9\n",
            "Epoch 9 Batch 0 Loss 0.7484 Accuracy 0.4676\n",
            "Epoch 9 Batch 100 Loss 0.6511 Accuracy 0.4753\n",
            "Epoch 9 Batch 200 Loss 0.6489 Accuracy 0.4747\n",
            "Epoch 9 Batch 300 Loss 0.6594 Accuracy 0.4749\n",
            "Epoch 9 Batch 400 Loss 0.6655 Accuracy 0.4736\n",
            "Epoch 9 Batch 500 Loss 0.6728 Accuracy 0.4726\n",
            "Epoch 9 Batch 600 Loss 0.6757 Accuracy 0.4723\n",
            "Epoch 9 Batch 700 Loss 0.6780 Accuracy 0.4722\n",
            "Epoch 9 Batch 800 Loss 0.6799 Accuracy 0.4721\n",
            "Epoch 9 Batch 900 Loss 0.6807 Accuracy 0.4719\n",
            "Epoch 9 Batch 1000 Loss 0.6830 Accuracy 0.4722\n",
            "Epoch 9 Batch 1100 Loss 0.6841 Accuracy 0.4719\n",
            "Epoch 9 Batch 1200 Loss 0.6851 Accuracy 0.4720\n",
            "Epoch 9 Batch 1300 Loss 0.6863 Accuracy 0.4717\n",
            "Epoch 9 Batch 1400 Loss 0.6884 Accuracy 0.4715\n",
            "Epoch 9 Batch 1500 Loss 0.6895 Accuracy 0.4716\n",
            "Epoch 9 Batch 1600 Loss 0.6911 Accuracy 0.4713\n",
            "Epoch 9 Batch 1700 Loss 0.6929 Accuracy 0.4712\n",
            "Epoch 9 Batch 1800 Loss 0.6938 Accuracy 0.4712\n",
            "Epoch 9 Batch 1900 Loss 0.6957 Accuracy 0.4711\n",
            "Epoch 9 Batch 2000 Loss 0.6969 Accuracy 0.4709\n",
            "Epoch 9 Batch 2100 Loss 0.6983 Accuracy 0.4708\n",
            "Saving checkpoint for epoch 9 in ckpt/ckpt-9\n",
            "Time for 1 epoch: 946.9391837120056 secs\n",
            "\n",
            "Starting epoch 10\n",
            "Epoch 10 Batch 0 Loss 0.7627 Accuracy 0.4710\n",
            "Epoch 10 Batch 100 Loss 0.6267 Accuracy 0.4840\n",
            "Epoch 10 Batch 200 Loss 0.6228 Accuracy 0.4831\n",
            "Epoch 10 Batch 300 Loss 0.6316 Accuracy 0.4817\n",
            "Epoch 10 Batch 400 Loss 0.6381 Accuracy 0.4814\n",
            "Epoch 10 Batch 500 Loss 0.6446 Accuracy 0.4801\n",
            "Epoch 10 Batch 600 Loss 0.6502 Accuracy 0.4795\n",
            "Epoch 10 Batch 700 Loss 0.6536 Accuracy 0.4786\n",
            "Epoch 10 Batch 800 Loss 0.6528 Accuracy 0.4782\n",
            "Epoch 10 Batch 900 Loss 0.6540 Accuracy 0.4781\n",
            "Epoch 10 Batch 1000 Loss 0.6559 Accuracy 0.4775\n",
            "Epoch 10 Batch 1100 Loss 0.6585 Accuracy 0.4769\n",
            "Epoch 10 Batch 1200 Loss 0.6590 Accuracy 0.4770\n",
            "Epoch 10 Batch 1300 Loss 0.6605 Accuracy 0.4768\n",
            "Epoch 10 Batch 1400 Loss 0.6636 Accuracy 0.4766\n",
            "Epoch 10 Batch 1500 Loss 0.6650 Accuracy 0.4766\n",
            "Epoch 10 Batch 1600 Loss 0.6665 Accuracy 0.4763\n",
            "Epoch 10 Batch 1700 Loss 0.6672 Accuracy 0.4763\n",
            "Epoch 10 Batch 1800 Loss 0.6675 Accuracy 0.4763\n",
            "Epoch 10 Batch 1900 Loss 0.6686 Accuracy 0.4761\n",
            "Epoch 10 Batch 2000 Loss 0.6698 Accuracy 0.4761\n",
            "Epoch 10 Batch 2100 Loss 0.6714 Accuracy 0.4759\n",
            "Saving checkpoint for epoch 10 in ckpt/ckpt-10\n",
            "Time for 1 epoch: 971.6906070709229 secs\n",
            "\n"
          ]
        }
      ]
    },
    {
      "cell_type": "markdown",
      "metadata": {
        "id": "NjgZlZomvpCq"
      },
      "source": [
        "### Visualizing training.\n"
      ]
    },
    {
      "cell_type": "code",
      "metadata": {
        "colab": {
          "base_uri": "https://localhost:8080/",
          "height": 336
        },
        "id": "TiNHfdsjurXm",
        "outputId": "b7cb4ff2-0ef1-4e5f-bd08-2df8d4787afc"
      },
      "source": [
        "fig, (ax1, ax2) = plt.subplots(1, 2, figsize=(15,5))\n",
        "# plot some data\n",
        "ax1.plot(losses, label='loss')\n",
        "#plt.plot(results.history['val_loss'], label='val_loss')\n",
        "ax1.set_title('Training Loss')\n",
        "ax1.legend()\n",
        "# accuracies\n",
        "ax2.plot(accuracies, label='acc')\n",
        "#plt.plot(results.history['val_accuracy_fn'], label='val_acc')\n",
        "ax2.set_title('Training Accuracy')\n",
        "ax2.legend()\n",
        "plt.show()"
      ],
      "execution_count": 30,
      "outputs": [
        {
          "output_type": "display_data",
          "data": {
            "image/png": "[encoded data removed]",
            "text/plain": [
              "<Figure size 1080x360 with 2 Axes>"
            ]
          },
          "metadata": {
            "needs_background": "light"
          }
        }
      ]
    },
    {
      "cell_type": "markdown",
      "metadata": {
        "id": "noRn0gicvwDt"
      },
      "source": [
        "### Model Inference\n",
        "\n",
        "We have seen the scores obtained after training but what we are interested in making predictions and see how the model works with new sentences. The predict function will input a tokenize sentence to the model and return the predicted new sentence, in our example, a translation from english to spanish.\n",
        "\n",
        "* Tokenize the input sentence to a sequence of tokens\n",
        "* Set the initial output sequence to the SOS token\n",
        "* Until we reach the max length or the eos token is returned by the model\n",
        "* Get the next word predicted. The model returns the logits, remember that the softmax function is applied in the loss calculation.\n",
        "* Get the index in the vocabulary of the word with the highest probability\n",
        "* Concat the next word predicted to the output sequence\n",
        "\n"
      ]
    },
    {
      "cell_type": "code",
      "metadata": {
        "id": "q33I7OpCurT7"
      },
      "source": [
        "def predict(inp_sentence, tokenizer_in, tokenizer_out, target_max_len):\n",
        "    # Tokenize the input sequence using the tokenizer_in\n",
        "    inp_sentence = sos_token_input + tokenizer_in.encode(inp_sentence) + eos_token_input\n",
        "    enc_input = tf.expand_dims(inp_sentence, axis=0)\n",
        "\n",
        "    # Set the initial output sentence to sos\n",
        "    out_sentence = sos_token_output\n",
        "    # Reshape the output\n",
        "    output = tf.expand_dims(out_sentence, axis=0)\n",
        "\n",
        "    # For max target len tokens\n",
        "    for _ in range(target_max_len):\n",
        "        # Call the transformer and get the logits \n",
        "        predictions = transformer(enc_input, output, False) #(1, seq_length, VOCAB_SIZE_ES)\n",
        "        # Extract the logists of the next word\n",
        "        prediction = predictions[:, -1:, :]\n",
        "        # The highest probability is taken\n",
        "        predicted_id = tf.cast(tf.argmax(prediction, axis=-1), tf.int32)\n",
        "        # Check if it is the eos token\n",
        "        if predicted_id == eos_token_output:\n",
        "            return tf.squeeze(output, axis=0)\n",
        "        # Concat the predicted word to the output sequence\n",
        "        output = tf.concat([output, predicted_id], axis=-1)\n",
        "\n",
        "    return tf.squeeze(output, axis=0)\n",
        "    "
      ],
      "execution_count": 31,
      "outputs": []
    },
    {
      "cell_type": "markdown",
      "metadata": {
        "id": "v_W9Kge8wA96"
      },
      "source": [
        "And finally our last function receives a sentence in english, calls the transformer to translate it to spanish and shows the result"
      ]
    },
    {
      "cell_type": "code",
      "metadata": {
        "id": "mlxug7y4urQl"
      },
      "source": [
        "def translate(sentence):\n",
        "  # Get the predicted sequence for the input sentence\n",
        "  output = predict(sentence, tokenizer_inputs, tokenizer_outputs, MAX_LENGTH).numpy()\n",
        "  # Transform the sequence of tokens to a sentence\n",
        "  predicted_sentence = tokenizer_outputs.decode(\n",
        "      [i for i in output if i < sos_token_output]\n",
        "  )\n",
        "  return predicted_sentence\n",
        "  "
      ],
      "execution_count": 32,
      "outputs": []
    },
    {
      "cell_type": "code",
      "metadata": {
        "colab": {
          "base_uri": "https://localhost:8080/"
        },
        "id": "UsyFsYGEurNi",
        "outputId": "118a0b55-b169-46c4-e9c5-400c774e4811"
      },
      "source": [
        "\n",
        "for e, f in zip(en[200: 210], fr[200: 210]):\n",
        "  print(\"Input sentence: {}\".format(f))\n",
        "  predicted_sentence = translate(f)\n",
        "  print(\"Predicted sentence: {}\".format(predicted_sentence))\n",
        "  print(\"Real sentence: {}\".format(e))\n",
        "  print()\n",
        "  print(\"*\"*100)\n",
        "  print()\n"
      ],
      "execution_count": 34,
      "outputs": [
        {
          "output_type": "stream",
          "name": "stdout",
          "text": [
            "Input sentence: appelle tom .\n",
            "Predicted sentence: call tom .\n",
            "Real sentence: call tom .\n",
            "\n",
            "****************************************************************************************************\n",
            "\n",
            "Input sentence: appelez tom .\n",
            "Predicted sentence: call tom .\n",
            "Real sentence: call tom .\n",
            "\n",
            "****************************************************************************************************\n",
            "\n",
            "Input sentence: courage !\n",
            "Predicted sentence: have a nerve !\n",
            "Real sentence: cheer up !\n",
            "\n",
            "****************************************************************************************************\n",
            "\n",
            "Input sentence: detends toi !\n",
            "Predicted sentence: loosen up .\n",
            "Real sentence: cool off !\n",
            "\n",
            "****************************************************************************************************\n",
            "\n",
            "Input sentence: menottez le .\n",
            "Predicted sentence: put it up .\n",
            "Real sentence: cuff him .\n",
            "\n",
            "****************************************************************************************************\n",
            "\n",
            "Input sentence: avance !\n",
            "Predicted sentence: get early .\n",
            "Real sentence: drive on .\n",
            "\n",
            "****************************************************************************************************\n",
            "\n",
            "Input sentence: avancez !\n",
            "Predicted sentence: drive on .\n",
            "Real sentence: drive on .\n",
            "\n",
            "****************************************************************************************************\n",
            "\n",
            "Input sentence: continue a rouler !\n",
            "Predicted sentence: keep driving .\n",
            "Real sentence: drive on .\n",
            "\n",
            "****************************************************************************************************\n",
            "\n",
            "Input sentence: continuez a rouler !\n",
            "Predicted sentence: keep driving .\n",
            "Real sentence: drive on .\n",
            "\n",
            "****************************************************************************************************\n",
            "\n",
            "Input sentence: lache toi !\n",
            "Predicted sentence: get away  .\n",
            "Real sentence: get down !\n",
            "\n",
            "****************************************************************************************************\n",
            "\n"
          ]
        }
      ]
    },
    {
      "cell_type": "code",
      "metadata": {
        "colab": {
          "base_uri": "https://localhost:8080/"
        },
        "id": "JU8fKSxbVUPZ",
        "outputId": "dbc7660f-1ebe-4fb2-abae-e87004dcb569"
      },
      "source": [
        "for e, f in zip(en[1000: 1010], fr[1000: 1010]):\n",
        "  print(\"Input sentence: {}\".format(f))\n",
        "  predicted_sentence = translate(f)\n",
        "  print(\"Predicted sentence: {}\".format(predicted_sentence))\n",
        "  print(\"Real sentence: {}\".format(e))\n",
        "  print()\n",
        "  print(\"*\"*100)\n",
        "  print()\n"
      ],
      "execution_count": 35,
      "outputs": [
        {
          "output_type": "stream",
          "name": "stdout",
          "text": [
            "Input sentence: je le suppose .\n",
            "Predicted sentence: i suppose so .\n",
            "Real sentence: i guess so .\n",
            "\n",
            "****************************************************************************************************\n",
            "\n",
            "Input sentence: j imagine .\n",
            "Predicted sentence: i m being lazy .\n",
            "Real sentence: i guess so .\n",
            "\n",
            "****************************************************************************************************\n",
            "\n",
            "Input sentence: j ai recu de l aide .\n",
            "Predicted sentence: i got help .\n",
            "Real sentence: i had help .\n",
            "\n",
            "****************************************************************************************************\n",
            "\n",
            "Input sentence: je te deteste .\n",
            "Predicted sentence: i hate you .\n",
            "Real sentence: i hate you .\n",
            "\n",
            "****************************************************************************************************\n",
            "\n",
            "Input sentence: je te hais .\n",
            "Predicted sentence: i hate you .\n",
            "Real sentence: i hate you .\n",
            "\n",
            "****************************************************************************************************\n",
            "\n",
            "Input sentence: j en ai un .\n",
            "Predicted sentence: i have one .\n",
            "Real sentence: i have one .\n",
            "\n",
            "****************************************************************************************************\n",
            "\n",
            "Input sentence: j en ai une .\n",
            "Predicted sentence: i have one .\n",
            "Real sentence: i have one .\n",
            "\n",
            "****************************************************************************************************\n",
            "\n",
            "Input sentence: j ai gagne .\n",
            "Predicted sentence: i won .\n",
            "Real sentence: i have won .\n",
            "\n",
            "****************************************************************************************************\n",
            "\n",
            "Input sentence: je l ai emporte .\n",
            "Predicted sentence: i won .\n",
            "Real sentence: i have won .\n",
            "\n",
            "****************************************************************************************************\n",
            "\n",
            "Input sentence: je l aide .\n",
            "Predicted sentence: i m asking him .\n",
            "Real sentence: i help him .\n",
            "\n",
            "****************************************************************************************************\n",
            "\n"
          ]
        }
      ]
    },
    {
      "cell_type": "code",
      "metadata": {
        "colab": {
          "base_uri": "https://localhost:8080/"
        },
        "id": "T-rIGl5fVYxy",
        "outputId": "a13c23c4-4be1-48ad-d7ed-68d61bbf12c2"
      },
      "source": [
        "for e, f in zip(en[3000: 3010], fr[3000: 3010]):\n",
        "  print(\"Input sentence: {}\".format(f))\n",
        "  predicted_sentence = translate(f)\n",
        "  print(\"Predicted sentence: {}\".format(predicted_sentence))\n",
        "  print(\"Real sentence: {}\".format(e))\n",
        "  print()\n",
        "  print(\"*\"*100)\n",
        "  print()\n"
      ],
      "execution_count": 36,
      "outputs": [
        {
          "output_type": "stream",
          "name": "stdout",
          "text": [
            "Input sentence: il me faut partir .\n",
            "Predicted sentence: i need to go .\n",
            "Real sentence: i have to go .\n",
            "\n",
            "****************************************************************************************************\n",
            "\n",
            "Input sentence: il me faut m en aller .\n",
            "Predicted sentence: i need to go .\n",
            "Real sentence: i have to go .\n",
            "\n",
            "****************************************************************************************************\n",
            "\n",
            "Input sentence: je dois partir .\n",
            "Predicted sentence: i must go .\n",
            "Real sentence: i have to go .\n",
            "\n",
            "****************************************************************************************************\n",
            "\n",
            "Input sentence: je dois m en aller .\n",
            "Predicted sentence: i must go .\n",
            "Real sentence: i have to go .\n",
            "\n",
            "****************************************************************************************************\n",
            "\n",
            "Input sentence: j entends de la musique .\n",
            "Predicted sentence: i m hearing music .\n",
            "Real sentence: i hear music .\n",
            "\n",
            "****************************************************************************************************\n",
            "\n",
            "Input sentence: j ai entendu ca .\n",
            "Predicted sentence: i heard that .\n",
            "Real sentence: i heard that .\n",
            "\n",
            "****************************************************************************************************\n",
            "\n",
            "Input sentence: j ai donne un coup de main .\n",
            "Predicted sentence: i gave a hand .\n",
            "Real sentence: i helped out .\n",
            "\n",
            "****************************************************************************************************\n",
            "\n",
            "Input sentence: j honore cela .\n",
            "Predicted sentence: i m dying about that .\n",
            "Real sentence: i honor that .\n",
            "\n",
            "****************************************************************************************************\n",
            "\n",
            "Input sentence: je l etreignis .\n",
            "Predicted sentence: i hugged her .\n",
            "Real sentence: i hugged her .\n",
            "\n",
            "****************************************************************************************************\n",
            "\n",
            "Input sentence: j ai improvise .\n",
            "Predicted sentence: i m coming away .\n",
            "Real sentence: i improvised .\n",
            "\n",
            "****************************************************************************************************\n",
            "\n"
          ]
        }
      ]
    },
    {
      "cell_type": "code",
      "metadata": {
        "colab": {
          "base_uri": "https://localhost:8080/"
        },
        "id": "NA1P6pmsVhMR",
        "outputId": "f8eb21ec-c641-4980-ebe7-25c8db6c736c"
      },
      "source": [
        "for e, f in zip(en[4000: 4010], fr[4000: 4010]):\n",
        "  print(\"Input sentence: {}\".format(f))\n",
        "  predicted_sentence = translate(f)\n",
        "  print(\"Predicted sentence: {}\".format(predicted_sentence))\n",
        "  print(\"Real sentence: {}\".format(e))\n",
        "  print()\n",
        "  print(\"*\"*100)\n",
        "  print()\n"
      ],
      "execution_count": 37,
      "outputs": [
        {
          "output_type": "stream",
          "name": "stdout",
          "text": [
            "Input sentence: ai je du talent ?\n",
            "Predicted sentence: did i have talented ?\n",
            "Real sentence: am i talented ?\n",
            "\n",
            "****************************************************************************************************\n",
            "\n",
            "Input sentence: des questions ?\n",
            "Predicted sentence: are any questions ?\n",
            "Real sentence: any questions ?\n",
            "\n",
            "****************************************************************************************************\n",
            "\n",
            "Input sentence: de quelconques questions ?\n",
            "Predicted sentence: any questions ?\n",
            "Real sentence: any questions ?\n",
            "\n",
            "****************************************************************************************************\n",
            "\n",
            "Input sentence: autre chose ?\n",
            "Predicted sentence: is something else ?\n",
            "Real sentence: anything else ?\n",
            "\n",
            "****************************************************************************************************\n",
            "\n",
            "Input sentence: sont elles occupees ?\n",
            "Predicted sentence: are they busy ?\n",
            "Real sentence: are they busy ?\n",
            "\n",
            "****************************************************************************************************\n",
            "\n",
            "Input sentence: sont ils occupees ?\n",
            "Predicted sentence: are they busy ?\n",
            "Real sentence: are they busy ?\n",
            "\n",
            "****************************************************************************************************\n",
            "\n",
            "Input sentence: c est des flics ?\n",
            "Predicted sentence: is this cops ?\n",
            "Real sentence: are they cops ?\n",
            "\n",
            "****************************************************************************************************\n",
            "\n",
            "Input sentence: sont ils flics ?\n",
            "Predicted sentence: are they cops ?\n",
            "Real sentence: are they cops ?\n",
            "\n",
            "****************************************************************************************************\n",
            "\n",
            "Input sentence: sont ils des flics ?\n",
            "Predicted sentence: are they cops ?\n",
            "Real sentence: are they cops ?\n",
            "\n",
            "****************************************************************************************************\n",
            "\n",
            "Input sentence: etes vous flic ?\n",
            "Predicted sentence: are you a cop ?\n",
            "Real sentence: are you a cop ?\n",
            "\n",
            "****************************************************************************************************\n",
            "\n"
          ]
        }
      ]
    },
    {
      "cell_type": "code",
      "metadata": {
        "id": "EQoXJbf3VqC6"
      },
      "source": [
        ""
      ],
      "execution_count": null,
      "outputs": []
    }
  ]
}