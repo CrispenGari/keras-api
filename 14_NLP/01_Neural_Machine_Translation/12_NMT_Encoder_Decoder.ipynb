{
  "nbformat": 4,
  "nbformat_minor": 0,
  "metadata": {
    "colab": {
      "name": "12_NMT_Encoder_Decoder.ipynb",
      "provenance": []
    },
    "kernelspec": {
      "name": "python3",
      "display_name": "Python 3"
    },
    "language_info": {
      "name": "python"
    },
    "accelerator": "GPU"
  },
  "cells": [
    {
      "cell_type": "markdown",
      "metadata": {
        "id": "cNqu7pFKchNr"
      },
      "source": [
        "### 12. Encoder Decoder Model - ``NMT``\n",
        "\n",
        "We are going to create a simple NMT model that will translate from spaniszh to english using the encoder decoder achitecture.\n",
        "\n",
        "In this notebook we are going to look at the basics of NMT in tensorflow 2. We will then have a look on a step futher in by adding the `Attention` mechanism so that we get better results. The basic Encoder Decoder model looks as follows:\n",
        "\n",
        "![img](https://github.com/edumunozsala/NMT-encoder-decoder-Attention/raw/ca7d7f969a17ddf390f707fceb22d5881d33b1c3/images/encoder_decoder_basic.png)\n",
        "\n",
        "The seq2seq model consists of two sub-networks, the encoder and the decoder. The encoder, on the left hand, receives sequences from the source language as inputs and produces as a result a compact representation of the input sequence, trying to summarize or condense all its information. Then that output becomes an input or initial state of the decoder, which can also receive another external input. At each time step, the decoder generates an element of its output sequence based on the input received and its current state, as well as updating its own state for the next time step. \n",
        "\n",
        "Mention that the input and output sequences are of fixed size but they do not have to match, the length of the input sequence may differ from that of the output sequence.\n",
        "\n",
        "The critical point of this model is how to get the encoder to provide the most complete and meaningful representation of its input sequence in a single output element to the decoder. Because this vector or state is the only information the decoder will receive from the input to generate the corresponding output. The longer the input, the harder to compress in a single vector.\n",
        "\n",
        "\n",
        "### Imports"
      ]
    },
    {
      "cell_type": "code",
      "metadata": {
        "colab": {
          "base_uri": "https://localhost:8080/",
          "height": 35
        },
        "id": "I00tsWmRbxmL",
        "outputId": "8de8fef3-4471-4948-cb4d-d454327c8924"
      },
      "source": [
        "import numpy as np\n",
        "import typing\n",
        "import pandas as pd\n",
        "\n",
        "import tensorflow as tf\n",
        "from tensorflow.keras.layers.experimental import preprocessing\n",
        "from tensorflow.keras.preprocessing.text import Tokenizer\n",
        "from tensorflow.keras.preprocessing.sequence import pad_sequences\n",
        "\n",
        "from tensorflow import keras\n",
        "\n",
        "import matplotlib.pyplot as plt\n",
        "import matplotlib.ticker as ticker\n",
        "\n",
        "\n",
        "import re, os, time, unicodedata\n",
        "\n",
        "tf.__version__"
      ],
      "execution_count": 1,
      "outputs": [
        {
          "output_type": "execute_result",
          "data": {
            "application/vnd.google.colaboratory.intrinsic+json": {
              "type": "string"
            },
            "text/plain": [
              "'2.6.0'"
            ]
          },
          "metadata": {},
          "execution_count": 1
        }
      ]
    },
    {
      "cell_type": "markdown",
      "metadata": {
        "id": "8qv-N1-Mg_1O"
      },
      "source": [
        "### Mounting the drive"
      ]
    },
    {
      "cell_type": "code",
      "metadata": {
        "colab": {
          "base_uri": "https://localhost:8080/"
        },
        "id": "_Vbu4Gv8b4cY",
        "outputId": "02af45db-fc23-4428-b625-2dac28ecc95b"
      },
      "source": [
        "from google.colab import drive\n",
        "drive.mount('/content/drive')"
      ],
      "execution_count": 2,
      "outputs": [
        {
          "output_type": "stream",
          "name": "stdout",
          "text": [
            "Drive already mounted at /content/drive; to attempt to forcibly remount, call drive.mount(\"/content/drive\", force_remount=True).\n"
          ]
        }
      ]
    },
    {
      "cell_type": "code",
      "metadata": {
        "colab": {
          "base_uri": "https://localhost:8080/"
        },
        "id": "mKh1Onbdb4Zr",
        "outputId": "bfa29917-858d-4b5c-a140-cbd487a90db3"
      },
      "source": [
        "file_path = \"/content/drive/My Drive/NLP Data/seq2seq/spa-en/spa.txt\"\n",
        "os.path.exists(file_path)"
      ],
      "execution_count": 3,
      "outputs": [
        {
          "output_type": "execute_result",
          "data": {
            "text/plain": [
              "True"
            ]
          },
          "metadata": {},
          "execution_count": 3
        }
      ]
    },
    {
      "cell_type": "markdown",
      "metadata": {
        "id": "AvtnHUHxiYkG"
      },
      "source": [
        "We will use spainish as our source language and english as our target language in this example."
      ]
    },
    {
      "cell_type": "code",
      "metadata": {
        "id": "iSj--AajiXw6"
      },
      "source": [
        "def unicode_to_ascii(s):\n",
        "  return ''.join(c for c in unicodedata.normalize('NFD', s)\n",
        "        if unicodedata.category(c) != 'Mn')"
      ],
      "execution_count": 4,
      "outputs": []
    },
    {
      "cell_type": "code",
      "metadata": {
        "id": "QvIrHBQ8iXn4"
      },
      "source": [
        "def preprocess_sentence(w):\n",
        "    w = unicode_to_ascii(w.lower().strip())\n",
        "    w = re.sub(r\"([?.!,¿])\", r\" \\1 \", w)\n",
        "    w = re.sub(r'[\" \"]+', \" \", w)\n",
        "    w = re.sub(r\"[^a-zA-Z?.!,¿]+\", \" \", w)\n",
        "    w = w.strip()\n",
        "    # Adding the start and end of sequences tokens \n",
        "    # w = '<sos> ' + w + ' <eos>'\n",
        "    return w"
      ],
      "execution_count": 5,
      "outputs": []
    },
    {
      "cell_type": "markdown",
      "metadata": {
        "id": "5-WtkAejhssT"
      },
      "source": [
        "### Data and text processing.\n",
        "\n",
        "We need to remove accents, lower case the sentences and replace everything with space except (a-z, A-Z, \".\", \"?\", \"!\", \",\")."
      ]
    },
    {
      "cell_type": "code",
      "metadata": {
        "id": "gQeZnEDfNE01"
      },
      "source": [
        "INPUT_COLUMN = 'input'\n",
        "TARGET_COLUMN = 'target'\n",
        "\n",
        "TARGET_FOR_INPUT = 'target_for_input'\n",
        "NUM_SAMPLES = 20000 #40000\n",
        "MAX_VOCAB_SIZE = 20000\n",
        "EMBEDDING_DIM = 128\n",
        "HIDDEN_DIM= 1024\n",
        "\n",
        "BATCH_SIZE = 64  # Batch size for training.\n",
        "EPOCHS = 10  # Number of epochs to train for.\n"
      ],
      "execution_count": 6,
      "outputs": []
    },
    {
      "cell_type": "code",
      "metadata": {
        "colab": {
          "base_uri": "https://localhost:8080/"
        },
        "id": "06fs8uIfMf0M",
        "outputId": "48112433-a071-4e4d-bcb6-71cea23f07e7"
      },
      "source": [
        "# Load the dataset: sentence in english, sentence in spanish \n",
        "df=pd.read_csv(file_path, sep=\"\\t\", header=None, names=[TARGET_COLUMN, INPUT_COLUMN], usecols=[0,1], \n",
        "               nrows=NUM_SAMPLES)\n",
        "\n",
        "# Preprocess the input data\n",
        "input_data=df[INPUT_COLUMN].apply(lambda x : preprocess_sentence(x)).tolist()\n",
        "# Preprocess and include the end of sentence token to the target text\n",
        "target_data=df[TARGET_COLUMN].apply(lambda x : preprocess_sentence(x)+ ' <eos>').tolist()\n",
        "# Preprocess and include a start of setence token to the input text to the decoder, it is rigth shifted\n",
        "target_input_data=df[TARGET_COLUMN].apply(lambda x : '<sos> '+ preprocess_sentence(x)).tolist()\n",
        "\n",
        "print(input_data[:5])\n",
        "print(target_data[:5])\n",
        "print(target_input_data[:5])"
      ],
      "execution_count": 7,
      "outputs": [
        {
          "output_type": "stream",
          "name": "stdout",
          "text": [
            "['ve .', 'vete .', 'vaya .', 'vayase .', 'hola .']\n",
            "['go . <eos>', 'go . <eos>', 'go . <eos>', 'go . <eos>', 'hi . <eos>']\n",
            "['<sos> go .', '<sos> go .', '<sos> go .', '<sos> go .', '<sos> hi .']\n"
          ]
        }
      ]
    },
    {
      "cell_type": "markdown",
      "metadata": {
        "id": "l3wBerjHlezP"
      },
      "source": [
        "### Tokenization\n",
        "\n",
        "* Tokenize the data, to convert the raw text into a sequence of integers. First, we create a Tokenizer object from the keras library and fit it to our text (one tokenizer for the input and another one for the output).\n",
        "* Extract sequence of integers from the text: we call the ``text_to_sequence`` method of the tokenizer for every input and output text.\n",
        "* Calculate the maximum length of the input and output sequences."
      ]
    },
    {
      "cell_type": "code",
      "metadata": {
        "colab": {
          "base_uri": "https://localhost:8080/"
        },
        "id": "NtVRfcb0b4RY",
        "outputId": "f6845cb2-1ee4-4593-8f2b-c43bb535d14f"
      },
      "source": [
        "tokenizer_inputs = Tokenizer(\n",
        "    num_words = MAX_VOCAB_SIZE, filters=\"\"\n",
        ")\n",
        "tokenizer_inputs.fit_on_texts(input_data)\n",
        "input_sequences = tokenizer_inputs.texts_to_sequences(input_data)\n",
        "\n",
        "input_max_len = max(len(s) for s in input_sequences)\n",
        "print('max input length: ', input_max_len)\n",
        "\n",
        "# Show some example of tokenize sentences, useful to check the tokenization\n",
        "print(input_data[1000])\n",
        "print(input_sequences[1000])\n"
      ],
      "execution_count": 8,
      "outputs": [
        {
          "output_type": "stream",
          "name": "stdout",
          "text": [
            "max input length:  17\n",
            "tomas lo intento .\n",
            "[60, 15, 765, 1]\n"
          ]
        }
      ]
    },
    {
      "cell_type": "markdown",
      "metadata": {
        "id": "pExrjo17neVm"
      },
      "source": [
        "We can do the same thing to the output sequences."
      ]
    },
    {
      "cell_type": "code",
      "metadata": {
        "colab": {
          "base_uri": "https://localhost:8080/"
        },
        "id": "leFgqUS7b4N1",
        "outputId": "47cc2ed7-d9df-4b80-f6ed-811e6147bc87"
      },
      "source": [
        "\n",
        "# Create a tokenizer for the output texts and fit it to them \n",
        "tokenizer_outputs = Tokenizer(num_words=MAX_VOCAB_SIZE, filters='')\n",
        "tokenizer_outputs.fit_on_texts(target_data)\n",
        "tokenizer_outputs.fit_on_texts(target_input_data)\n",
        "\n",
        "# Tokenize and transform output texts to sequence of integers\n",
        "target_sequences = tokenizer_outputs.texts_to_sequences(target_data)\n",
        "target_sequences_inputs = tokenizer_outputs.texts_to_sequences(target_input_data)\n",
        "\n",
        "# determine maximum length output sequence\n",
        "target_max_len = max(len(s) for s in target_sequences)\n",
        "print('max target length: ', target_max_len)\n",
        "\n",
        "print(target_data[1000])\n",
        "print(target_sequences[1000])\n",
        "print(target_input_data[1000])\n"
      ],
      "execution_count": 9,
      "outputs": [
        {
          "output_type": "stream",
          "name": "stdout",
          "text": [
            "max target length:  9\n",
            "tom tried . <eos>\n",
            "[7, 414, 1, 2]\n",
            "<sos> tom tried .\n"
          ]
        }
      ]
    },
    {
      "cell_type": "markdown",
      "metadata": {
        "id": "dQj3S3HNoH-_"
      },
      "source": [
        "### Creating vocabularies\n",
        "\n",
        "Using the tokenizer we have created previously we can retrieve the vocabularies, one to match word to integer (word2idx) and a second one to match the integer to the corresponding word (idx2word).\n"
      ]
    },
    {
      "cell_type": "code",
      "metadata": {
        "colab": {
          "base_uri": "https://localhost:8080/"
        },
        "id": "GjqBg7-vb4K8",
        "outputId": "58e37863-8744-4e42-8e70-4aa04c9bd2ae"
      },
      "source": [
        "# get the word to index mapping for input language\n",
        "word2idx_inputs = tokenizer_inputs.word_index\n",
        "print('Found %s unique input tokens.' % len(word2idx_inputs))\n",
        "\n",
        "# get the word to index mapping for output language\n",
        "word2idx_outputs = tokenizer_outputs.word_index\n",
        "print('Found %s unique output tokens.' % len(word2idx_outputs))\n",
        "\n",
        "# store number of output and input words for later\n",
        "# remember to add 1 since indexing starts at 1\n",
        "num_words_output = len(word2idx_outputs) + 1\n",
        "num_words_inputs = len(word2idx_inputs) + 1\n",
        "\n",
        "# map indexes back into real words\n",
        "# so we can view the results\n",
        "idx2word_inputs = {v:k for k, v in word2idx_inputs.items()}\n",
        "idx2word_outputs = {v:k for k, v in word2idx_outputs.items()}"
      ],
      "execution_count": 10,
      "outputs": [
        {
          "output_type": "stream",
          "name": "stdout",
          "text": [
            "Found 7183 unique input tokens.\n",
            "Found 3669 unique output tokens.\n"
          ]
        }
      ]
    },
    {
      "cell_type": "markdown",
      "metadata": {
        "id": "fvJFF6hjovy5"
      },
      "source": [
        "### Padding Sequences\n",
        "Padding the sentences: we need to pad zeros at the end of the sequences so that all sequences have the same length. Otherwise, we won't be able train the model on batches."
      ]
    },
    {
      "cell_type": "code",
      "metadata": {
        "colab": {
          "base_uri": "https://localhost:8080/"
        },
        "id": "qQrBk3Z_b4Hp",
        "outputId": "34682c7b-f60d-4143-9ac8-2dfc55b3dd8e"
      },
      "source": [
        "# pad the input sequences\n",
        "encoder_inputs = pad_sequences(input_sequences,\n",
        "                               maxlen=input_max_len, padding='post')\n",
        "print(\"encoder_inputs.shape:\", encoder_inputs.shape)\n",
        "\n",
        "\n",
        "# pad the decoder input sequences\n",
        "decoder_inputs = pad_sequences(target_sequences_inputs, maxlen=target_max_len, padding='post')\n",
        "print(\"decoder_inputs[0]:\", decoder_inputs[0])\n",
        "print(\"decoder_inputs.shape:\", decoder_inputs.shape)\n",
        "\n",
        "# pad the target output sequences\n",
        "decoder_targets = pad_sequences(target_sequences, maxlen=target_max_len, padding='post')\n",
        "print(\"decoder_targets.shape:\", decoder_targets.shape)\n"
      ],
      "execution_count": 11,
      "outputs": [
        {
          "output_type": "stream",
          "name": "stdout",
          "text": [
            "encoder_inputs.shape: (20000, 17)\n",
            "decoder_inputs[0]: [ 3 31  1  0  0  0  0  0  0]\n",
            "decoder_inputs.shape: (20000, 9)\n",
            "decoder_targets.shape: (20000, 9)\n"
          ]
        }
      ]
    },
    {
      "cell_type": "markdown",
      "metadata": {
        "id": "4A3y_CaXrsre"
      },
      "source": [
        "### Creating a Batch Data Generator\n",
        "\n",
        "* Create a batch data generator: we want to train the model on batches, group of sentences, so we need to create a Dataset using the tf.data library and the function ``batch_on_slices`` on the input and output sequences."
      ]
    },
    {
      "cell_type": "code",
      "metadata": {
        "id": "-fyoKhylb4FE"
      },
      "source": [
        "BUFFER_SIZE = len(input_data)\n",
        "dataset = tf.data.Dataset.from_tensor_slices(\n",
        "    (encoder_inputs, decoder_inputs, decoder_targets)\n",
        ").shuffle(BUFFER_SIZE).batch(BATCH_SIZE, drop_remainder=True)"
      ],
      "execution_count": 12,
      "outputs": []
    },
    {
      "cell_type": "markdown",
      "metadata": {
        "id": "VxLluMo0sSjf"
      },
      "source": [
        "### Encoder Decoder Model.\n",
        "For a better understanding, we can divide the model in three basic components:\n",
        "\n",
        "![img](https://github.com/edumunozsala/NMT-encoder-decoder-Attention/raw/ca7d7f969a17ddf390f707fceb22d5881d33b1c3/images/encoder_decoder_RNN.jpeg)\n",
        "\n",
        "*  **The encoder:** Layers of recurrent units where in each time step, receive a an input token, collects relevant information and produce a hidden state. Depends on the type of RNN, in our example a LSTM, the unit \"mixes\" the current hidden state and the input and return an output, discarded, and a new hidden state. \n",
        "\n",
        "* **The encoder vector:** it is the last hidden state of the encoder and it tries to contain as much of the useful input information as possible to help the decoder get the best results. It is only information from the input that the decoder will get.\n",
        "\n",
        "* **The decoder:** Layers of recurrent units, i.e. LSTMs, where each unit produces an output at a time step t. The hidden state of the first unit is the encoder vector and the rest of units accept the hidden state from the previous unit. The output is calculated using a **``_softmax_``** function to obtain a probability for every token in the output vocabulary.\n",
        "\n",
        "\n",
        "\n",
        "\n",
        "### Encoder Class\n"
      ]
    },
    {
      "cell_type": "code",
      "metadata": {
        "id": "V-J_Ho3lb4Cl"
      },
      "source": [
        "class Encoder(keras.Model):\n",
        "  def __init__(self, vocab_size, embedding_dim, hidden_dim):\n",
        "    super(Encoder, self).__init__()\n",
        "    self.hidden_dim = hidden_dim\n",
        "\n",
        "    self.embedding = keras.layers.Embedding(\n",
        "        vocab_size, embedding_dim\n",
        "    )\n",
        "    self.lstm = keras.layers.LSTM(hidden_dim,\n",
        "                                  return_sequences=True,\n",
        "                                  return_state=True\n",
        "                                  )\n",
        "    \n",
        "  def call(self, input_sequence, states):\n",
        "    embedded  = self.embedding(input_sequence)\n",
        "    output, h_0, c_0 = self.lstm(embedded, initial_state= states)\n",
        "    return output, h_0, c_0 \n",
        "\n",
        "  def init_states(self, batch_size):\n",
        "    return(\n",
        "        tf.zeros([batch_size, self.hidden_dim]),\n",
        "        tf.zeros([batch_size, self.hidden_dim]),\n",
        "    )\n"
      ],
      "execution_count": 13,
      "outputs": []
    },
    {
      "cell_type": "markdown",
      "metadata": {
        "id": "GCt4dFwSulYv"
      },
      "source": [
        "### Decoder Class"
      ]
    },
    {
      "cell_type": "code",
      "metadata": {
        "id": "tdoT9kcxb3_H"
      },
      "source": [
        "class Decoder(keras.Model):\n",
        "  def __init__(self, vocab_size, embedding_dim, hidden_dim):\n",
        "    super(Decoder, self).__init__()\n",
        "    self.hidden_dim = hidden_dim\n",
        "    self.embedding = keras.layers.Embedding(\n",
        "        vocab_size, embedding_dim\n",
        "    )\n",
        "    self.lstm = keras.layers.LSTM(\n",
        "         hidden_dim, return_sequences=True, return_state=True\n",
        "    )\n",
        "    self.out = keras.layers.Dense(vocab_size)\n",
        "\n",
        "  def call(self, input_sequence, state):\n",
        "    embedded = self.embedding(input_sequence)\n",
        "    output, h_0, c_0 = self.lstm(embedded, initial_state=state)\n",
        "    logits = self.out(output)\n",
        "    return logits, h_0, c_0"
      ],
      "execution_count": 14,
      "outputs": []
    },
    {
      "cell_type": "markdown",
      "metadata": {
        "id": "N_SjwivHvtt-"
      },
      "source": [
        "Once our encoder and decoder are defined we can init them and set the initial hidden state. We have included a simple test, calling the encoder and decoder to check they works fine."
      ]
    },
    {
      "cell_type": "code",
      "metadata": {
        "colab": {
          "base_uri": "https://localhost:8080/"
        },
        "id": "hrv3WeKkb38d",
        "outputId": "9d5b356e-d9fc-4b7b-898e-c08bb0094052"
      },
      "source": [
        "#Set the length of the input and output vocabulary\n",
        "num_words_inputs = len(word2idx_inputs) + 1\n",
        "num_words_output = len(word2idx_outputs) + 1\n",
        "\n",
        "#Create the encoder\n",
        "encoder = Encoder(num_words_inputs, EMBEDDING_DIM, HIDDEN_DIM)\n",
        "# Get the initial states\n",
        "initial_state = encoder.init_states(1)\n",
        "# Call the encoder for testing\n",
        "test_encoder_output = encoder(tf.constant(\n",
        "    [[1, 23, 4, 5, 0, 0]]), initial_state)\n",
        "print(test_encoder_output[0].shape)\n",
        "\n",
        "\n",
        "\n",
        "\n",
        "# Create the decoder\n",
        "decoder = Decoder(num_words_output, EMBEDDING_DIM, HIDDEN_DIM)\n",
        "# Get the initial states\n",
        "de_initial_state = test_encoder_output[1:]\n",
        "# Call the decoder for testing\n",
        "test_decoder_output = decoder(tf.constant(\n",
        "    [[1, 3, 5, 7, 9, 0, 0, 0]]), de_initial_state)\n",
        "print(test_decoder_output[0].shape)"
      ],
      "execution_count": 15,
      "outputs": [
        {
          "output_type": "stream",
          "name": "stdout",
          "text": [
            "(1, 6, 1024)\n",
            "(1, 8, 3670)\n"
          ]
        }
      ]
    },
    {
      "cell_type": "markdown",
      "metadata": {
        "id": "ifUkP0AswI-H"
      },
      "source": [
        "### Loss function and metrics\n",
        "\n",
        "Now we need to define a custom loss function to avoid taking into account the 0 values, padding values, when calculating the loss. And also we have to define a custom accuracy function.\n"
      ]
    },
    {
      "cell_type": "code",
      "metadata": {
        "id": "qB3JtQs9b35T"
      },
      "source": [
        "def loss_func(targets, logits):\n",
        "  crossentropy = keras.losses.SparseCategoricalCrossentropy(\n",
        "    from_logits=True)\n",
        "  # Mask padding values, they do not have to compute for loss\n",
        "  mask = tf.math.logical_not(tf.math.equal(targets, 0))\n",
        "  mask = tf.cast(mask, dtype=tf.int64) \n",
        "  loss = crossentropy(targets, logits, sample_weight=mask)\n",
        "  return loss\n",
        "     "
      ],
      "execution_count": 16,
      "outputs": []
    },
    {
      "cell_type": "code",
      "metadata": {
        "id": "tN2HT0xZb32W"
      },
      "source": [
        "def accuracy_fn(y_true, y_pred):\n",
        "  # y_pred shape is batch_size, seq length, vocab size\n",
        "  # y_true shape is batch_size, seq length\n",
        "  pred_values = keras.backend.cast(keras.backend.argmax(y_pred, axis=-1), dtype='int32')\n",
        "  correct = keras.backend.cast(keras.backend.equal(y_true, pred_values), dtype='float32')\n",
        "\n",
        "  # 0 is padding, don't include those\n",
        "  mask = keras.backend.cast(keras.backend.greater(y_true, 0),\n",
        "                            dtype='float32')\n",
        "  n_correct = keras.backend.sum(mask * correct)\n",
        "  n_total = keras.backend.sum(mask)\n",
        "  return n_correct / n_total\n"
      ],
      "execution_count": 17,
      "outputs": []
    },
    {
      "cell_type": "markdown",
      "metadata": {
        "id": "nSxaF6g9xMNH"
      },
      "source": [
        "### Training\n",
        "\n",
        "As we mentioned before, we are interested in training the network in batches, therefore, we create a function that carries out the training of a batch of the data:\n",
        "\n",
        "* Call the encoder for the batch input sequence, the output is the encoded vector.\n",
        "* Set the decoder initial states to the encoded vector\n",
        "* Call the decoder, taking the right shifted target sequence as input. The output are the logits (the softmax function is applied in the loss function)\n",
        "* Calculate the loss and accuracy of the batch data\n",
        "* Update the learnable parameters of the encoder and the decoder\n",
        "update the optimizer\n"
      ]
    },
    {
      "cell_type": "code",
      "metadata": {
        "id": "2uABOj_7b3zS"
      },
      "source": [
        "@tf.function\n",
        "def train_step(\n",
        "     input_seq, target_seq_in, target_seq_out,\n",
        "     en_initial_states, optimizer\n",
        "  ):\n",
        "  with tf.GradientTape() as tape:\n",
        "    # Get the encoder outputs\n",
        "    en_outputs = encoder(input_seq, en_initial_states)\n",
        "    # Set the encoder and decoder states\n",
        "    en_states = de_states = en_outputs[1:]\n",
        "\n",
        "    # Get the decoder outputs\n",
        "    de_outputs = decoder(target_seq_in, de_states)\n",
        "    # Take the actual output\n",
        "    logits = de_outputs[0]\n",
        "    # Calculate the loss function\n",
        "    loss = loss_func(target_seq_out, logits)\n",
        "    acc = accuracy_fn(target_seq_out, logits)\n",
        "  \n",
        "  variables = encoder.trainable_variables + decoder.trainable_variables\n",
        "  gradients = tape.gradient(loss, variables)\n",
        "  optimizer.apply_gradients(zip(gradients, variables))\n",
        "  return loss, acc"
      ],
      "execution_count": 18,
      "outputs": []
    },
    {
      "cell_type": "markdown",
      "metadata": {
        "id": "E3KOGX3oyrbi"
      },
      "source": [
        "Our train function receives three sequences:\n",
        "\n",
        "**Input sequence:** array of integers of shape [batch_size, max_seq_len, embedding dim]. It is the input sequence to the encoder.\n",
        "\n",
        "**target sequence:** array of integers of shape [batch_size, max_seq_len, embedding dim]. It is the target of our model, the output that we want for our model.\n",
        "\n",
        "**Target input sequence:** array of integers of shape [batch_size, max_seq_len, embedding dim]. It is the input sequence to the decoder because we use Teacher Forcing.\n",
        "\n",
        "\n",
        "### Oh Teacher Forcing\n",
        "Teacher forcing is a training method critical to the development of deep learning models in NLP. It is a way for quickly and efficiently training recurrent neural network models that use the ground truth from a prior time step as input.\n",
        "\n",
        "In a recurrent network usually the input to a RNN at the time step t is the output of the RNN in the previous time step, t-1. But with teacher forcing we can use the actual output to improve the learning capabilities of the model.\n",
        "\n",
        "_\"Teacher forcing works by using the actual or expected output from the training dataset at the current time step y(t) as input in the next time step X(t+1), rather than the output generated by the network. So, in our example, the input to the decoder is the target sequence right-shifted, the target output at time step t is the decoder input at time step t+1.\"_\n",
        "\n",
        "When our model output do not vary from what was seen by the model during training, teacher forcing is very effective. But if we need a more \"creative\" model, where given an input sequence there can be several possible outputs, we should avoid this technique or apply it randomly (only in some random time steps).\n",
        "\n",
        "Now, we can code the whole training process:\n"
      ]
    },
    {
      "cell_type": "code",
      "metadata": {
        "id": "pmrvv4ehb3wQ"
      },
      "source": [
        "def fit(encoder, decoder, dataset, n_epochs, batch_size,\n",
        "        optimizer, checkpoint, checkpoint_prefix\n",
        "        ):\n",
        "  losses =[]\n",
        "  accuracies = []\n",
        "  for e in range(n_epochs):\n",
        "    start = time.time()\n",
        "    en_initial_states = encoder.init_states(batch_size)\n",
        "    for batch, (input_seq, target_seq_in, target_seq_out) in enumerate(dataset.take(-1)):\n",
        "      loss, accuracy = train_step(input_seq, target_seq_in,\n",
        "                                  target_seq_out, \n",
        "                                  en_initial_states, optimizer)\n",
        "      if batch % 100 == 0:\n",
        "        losses.append(loss)\n",
        "        accuracies.append(accuracy)\n",
        "        print('Epoch {} Batch {} Loss {:.4f} Acc:{:.4f}'.format(e + 1, batch, loss.numpy(), accuracy.numpy()))\n",
        "      \n",
        "    if (e + 1) % 2 == 0:\n",
        "      checkpoint.save(file_prefix = checkpoint_prefix)\n",
        "    print('Time taken for 1 epoch {:.4f} sec\\n'.format(time.time() - start))\n",
        "  return losses, accuracies\n"
      ],
      "execution_count": 19,
      "outputs": []
    },
    {
      "cell_type": "markdown",
      "metadata": {
        "id": "uawlTlLI0mrP"
      },
      "source": [
        "We are almost ready, our last step include a call to the main train function and we create a checkpoint object to save our model. Because the training process require a long time to run, every two epochs we save it. Later we can restore it and use it to make predictions."
      ]
    },
    {
      "cell_type": "code",
      "metadata": {
        "colab": {
          "base_uri": "https://localhost:8080/"
        },
        "id": "skD0n1Edb3tC",
        "outputId": "6e35a16b-01ed-4a8e-ed44-88fd8edd1aaf"
      },
      "source": [
        "# Create an Adam optimizer and clips gradients by norm\n",
        "optimizer = tf.keras.optimizers.Adam(clipnorm=5.0)\n",
        "# Create a checkpoint object to save the model\n",
        "checkpoint_dir = './training_ckpt_seq2seq'\n",
        "checkpoint_prefix = os.path.join(checkpoint_dir, \"ckpt\")\n",
        "checkpoint = tf.train.Checkpoint(optimizer=optimizer,\n",
        "                                 encoder=encoder,\n",
        "                                 decoder=decoder)\n",
        "\n",
        "losses, accuracies = fit(encoder, decoder,\n",
        "                         dataset, EPOCHS,\n",
        "                         BATCH_SIZE, optimizer,\n",
        "                         checkpoint, checkpoint_prefix)"
      ],
      "execution_count": 20,
      "outputs": [
        {
          "output_type": "stream",
          "name": "stdout",
          "text": [
            "Epoch 1 Batch 0 Loss 5.0020 Acc:0.0028\n",
            "Epoch 1 Batch 100 Loss 2.2268 Acc:0.4426\n",
            "Epoch 1 Batch 200 Loss 2.1717 Acc:0.4169\n",
            "Epoch 1 Batch 300 Loss 1.9904 Acc:0.4750\n",
            "Time taken for 1 epoch 27.0743 sec\n",
            "\n",
            "Epoch 2 Batch 0 Loss 1.9182 Acc:0.4870\n",
            "Epoch 2 Batch 100 Loss 1.7908 Acc:0.4915\n",
            "Epoch 2 Batch 200 Loss 1.6309 Acc:0.5101\n",
            "Epoch 2 Batch 300 Loss 1.6136 Acc:0.5000\n",
            "Time taken for 1 epoch 19.8295 sec\n",
            "\n",
            "Epoch 3 Batch 0 Loss 1.5434 Acc:0.4986\n",
            "Epoch 3 Batch 100 Loss 1.5970 Acc:0.5153\n",
            "Epoch 3 Batch 200 Loss 1.5433 Acc:0.5225\n",
            "Epoch 3 Batch 300 Loss 1.4621 Acc:0.5568\n",
            "Time taken for 1 epoch 19.3780 sec\n",
            "\n",
            "Epoch 4 Batch 0 Loss 1.3678 Acc:0.5739\n",
            "Epoch 4 Batch 100 Loss 1.3188 Acc:0.5734\n",
            "Epoch 4 Batch 200 Loss 1.3486 Acc:0.5534\n",
            "Epoch 4 Batch 300 Loss 1.3807 Acc:0.5706\n",
            "Time taken for 1 epoch 19.7670 sec\n",
            "\n",
            "Epoch 5 Batch 0 Loss 1.2021 Acc:0.6124\n",
            "Epoch 5 Batch 100 Loss 1.2623 Acc:0.5881\n",
            "Epoch 5 Batch 200 Loss 1.1275 Acc:0.6246\n",
            "Epoch 5 Batch 300 Loss 1.1339 Acc:0.6023\n",
            "Time taken for 1 epoch 19.4327 sec\n",
            "\n",
            "Epoch 6 Batch 0 Loss 1.0212 Acc:0.6610\n",
            "Epoch 6 Batch 100 Loss 1.0912 Acc:0.6006\n",
            "Epoch 6 Batch 200 Loss 1.1712 Acc:0.5782\n",
            "Epoch 6 Batch 300 Loss 1.1041 Acc:0.6246\n",
            "Time taken for 1 epoch 19.7434 sec\n",
            "\n",
            "Epoch 7 Batch 0 Loss 1.0376 Acc:0.6230\n",
            "Epoch 7 Batch 100 Loss 1.0152 Acc:0.6490\n",
            "Epoch 7 Batch 200 Loss 1.0546 Acc:0.6326\n",
            "Epoch 7 Batch 300 Loss 1.0381 Acc:0.6177\n",
            "Time taken for 1 epoch 19.3963 sec\n",
            "\n",
            "Epoch 8 Batch 0 Loss 0.9287 Acc:0.6685\n",
            "Epoch 8 Batch 100 Loss 0.9316 Acc:0.6734\n",
            "Epoch 8 Batch 200 Loss 0.9418 Acc:0.6630\n",
            "Epoch 8 Batch 300 Loss 0.9487 Acc:0.6584\n",
            "Time taken for 1 epoch 19.7010 sec\n",
            "\n",
            "Epoch 9 Batch 0 Loss 0.8464 Acc:0.6816\n",
            "Epoch 9 Batch 100 Loss 0.8852 Acc:0.6818\n",
            "Epoch 9 Batch 200 Loss 0.8345 Acc:0.6816\n",
            "Epoch 9 Batch 300 Loss 0.8744 Acc:0.6620\n",
            "Time taken for 1 epoch 19.3873 sec\n",
            "\n",
            "Epoch 10 Batch 0 Loss 0.7738 Acc:0.7225\n",
            "Epoch 10 Batch 100 Loss 0.7132 Acc:0.7437\n",
            "Epoch 10 Batch 200 Loss 0.8567 Acc:0.6546\n",
            "Epoch 10 Batch 300 Loss 0.8130 Acc:0.7151\n",
            "Time taken for 1 epoch 19.7031 sec\n",
            "\n"
          ]
        }
      ]
    },
    {
      "cell_type": "markdown",
      "metadata": {
        "id": "0HR9d8ea08vv"
      },
      "source": [
        "### Model Evaulation"
      ]
    },
    {
      "cell_type": "code",
      "metadata": {
        "colab": {
          "base_uri": "https://localhost:8080/",
          "height": 336
        },
        "id": "gCh6uXGhb3oH",
        "outputId": "5676e751-416e-4a8e-ecc7-8b8930841071"
      },
      "source": [
        "fig, (ax1, ax2) = plt.subplots(1, 2, figsize=(15,5))\n",
        "\n",
        "ax1.plot(losses, label='loss')\n",
        "#plt.plot(results.history['val_loss'], label='val_loss')\n",
        "ax1.set_title('Training Loss')\n",
        "ax1.legend()\n",
        "# accuracies\n",
        "ax2.plot(accuracies, label='acc')\n",
        "#plt.plot(results.history['val_accuracy_fn'], label='val_acc')\n",
        "ax2.set_title('Training Accuracy')\n",
        "ax2.legend()\n",
        "plt.show()"
      ],
      "execution_count": 21,
      "outputs": [
        {
          "output_type": "display_data",
          "data": {
            "image/png": "[encoded data removed]",
            "text/plain": [
              "<Figure size 1080x360 with 2 Axes>"
            ]
          },
          "metadata": {
            "needs_background": "light"
          }
        }
      ]
    },
    {
      "cell_type": "markdown",
      "metadata": {
        "id": "3iojOKHp1I4c"
      },
      "source": [
        "### Inference\n",
        "To restore the lastest checkpoint, saved model, you can run the following cell:"
      ]
    },
    {
      "cell_type": "code",
      "metadata": {
        "colab": {
          "base_uri": "https://localhost:8080/"
        },
        "id": "TDwXcqIwb3k5",
        "outputId": "d0d2eb89-c917-4e8d-b0c6-20e98b477eef"
      },
      "source": [
        "\n",
        "# restoring the latest checkpoint in checkpoint_dir\n",
        "checkpoint_dir = './training_ckpt_seq2seq'\n",
        "checkpoint_prefix = os.path.join(checkpoint_dir, \"ckpt\")\n",
        "checkpoint.restore(tf.train.latest_checkpoint(checkpoint_dir))"
      ],
      "execution_count": 22,
      "outputs": [
        {
          "output_type": "execute_result",
          "data": {
            "text/plain": [
              "<tensorflow.python.training.tracking.util.CheckpointLoadStatus at 0x7f543c06e310>"
            ]
          },
          "metadata": {},
          "execution_count": 22
        }
      ]
    },
    {
      "cell_type": "markdown",
      "metadata": {
        "id": "To67sEZr1RdX"
      },
      "source": [
        "In the prediction step, our input is a sequence of length one, the ``sos`` token, then we call the encoder and ``decoder`` repeatedly until we get the eos token or reach the maximum length defined."
      ]
    },
    {
      "cell_type": "code",
      "metadata": {
        "id": "hYg6__z0b3iG"
      },
      "source": [
        "def predict(\n",
        "    input_text, encoder, \n",
        "    input_max_len, tokenizer_inputs, \n",
        "    word2idx_outputs, idx2word_outputs\n",
        "  ):\n",
        "  if input_text is None:\n",
        "    input_text = input_data[np.random.choice(len(input_data))]\n",
        "    # Tokenize the input text  \n",
        "  input_seq = tokenizer_inputs.texts_to_sequences([input_text])\n",
        "  # Pad the input sentence\n",
        "  input_seq = pad_sequences(input_seq, maxlen=input_max_len,\n",
        "                            padding='post')         \n",
        "  en_initial_states = encoder.init_states(1)      \n",
        "  en_outputs = encoder(tf.constant(input_seq), en_initial_states)\n",
        "  de_input = tf.constant([[word2idx_outputs['<sos>']]]) \n",
        "  de_state_h, de_state_c = en_outputs[1:]\n",
        "  out_words = []\n",
        "  while True:\n",
        "    de_output, de_state_h, de_state_c = decoder(\n",
        "          de_input, (de_state_h, de_state_c))    \n",
        "    de_input = tf.argmax(de_output, -1)\n",
        "    out_words.append(idx2word_outputs[de_input.numpy()[0][0]])\n",
        "\n",
        "    if out_words[-1] == '<eos>' or len(out_words) >= 80:\n",
        "        break     \n",
        "  return ' '.join(out_words)"
      ],
      "execution_count": 23,
      "outputs": []
    },
    {
      "cell_type": "code",
      "metadata": {
        "colab": {
          "base_uri": "https://localhost:8080/"
        },
        "id": "QyuUvqSfb3fG",
        "outputId": "7d25f7a9-f339-4d6d-da86-606f8c1c39f3"
      },
      "source": [
        "\n",
        "for inp, trg in zip(input_data[1200: 1210], target_data[1200: 1210]):\n",
        "  predicted = predict(inp, encoder, input_max_len, tokenizer_inputs,\n",
        "                      word2idx_outputs, idx2word_outputs)\n",
        "  print(\"> input: \", inp)\n",
        "  print(\"< predicted:\", predicted)\n",
        "  print(\"< real trg:\", trg)\n",
        "  print()\n",
        "  print('*' * 100)\n",
        "  print() "
      ],
      "execution_count": 24,
      "outputs": [
        {
          "output_type": "stream",
          "name": "stdout",
          "text": [
            "> input:  el salio a comer .\n",
            "< predicted: he went to bed . <eos>\n",
            "< real trg: he ate out . <eos>\n",
            "\n",
            "****************************************************************************************************\n",
            "\n",
            "> input:  el se rindio .\n",
            "< predicted: he seems hungry . <eos>\n",
            "< real trg: he gave in . <eos>\n",
            "\n",
            "****************************************************************************************************\n",
            "\n",
            "> input:  se rindio .\n",
            "< predicted: i ll be glad to . <eos>\n",
            "< real trg: he gave up . <eos>\n",
            "\n",
            "****************************************************************************************************\n",
            "\n",
            "> input:  lo dejo .\n",
            "< predicted: i ll reward you . <eos>\n",
            "< real trg: he gave up . <eos>\n",
            "\n",
            "****************************************************************************************************\n",
            "\n",
            "> input:  cedio .\n",
            "< predicted: it gets better . <eos>\n",
            "< real trg: he gave up . <eos>\n",
            "\n",
            "****************************************************************************************************\n",
            "\n",
            "> input:  tiro la toalla .\n",
            "< predicted: he seems hungry . <eos>\n",
            "< real trg: he gave up . <eos>\n",
            "\n",
            "****************************************************************************************************\n",
            "\n",
            "> input:  descolgo .\n",
            "< predicted: it gets better . <eos>\n",
            "< real trg: he hung up . <eos>\n",
            "\n",
            "****************************************************************************************************\n",
            "\n",
            "> input:  el corto .\n",
            "< predicted: he was getting old . <eos>\n",
            "< real trg: he hung up . <eos>\n",
            "\n",
            "****************************************************************************************************\n",
            "\n",
            "> input:  el es dj .\n",
            "< predicted: he s a bit naive . <eos>\n",
            "< real trg: he is a dj . <eos>\n",
            "\n",
            "****************************************************************************************************\n",
            "\n",
            "> input:  el esta aqui !\n",
            "< predicted: he s in danger . <eos>\n",
            "< real trg: he is here ! <eos>\n",
            "\n",
            "****************************************************************************************************\n",
            "\n"
          ]
        }
      ]
    },
    {
      "cell_type": "markdown",
      "metadata": {
        "id": "fnjaSpMz4XjP"
      },
      "source": [
        "### Conclusion\n",
        "In the next Notebook we are going to clone this notebook and have a look at the Encoder Decoder Model with attention. The data processing and preparation will remain the same, We are only going to change the model achitecture.\n"
      ]
    }
  ]
}