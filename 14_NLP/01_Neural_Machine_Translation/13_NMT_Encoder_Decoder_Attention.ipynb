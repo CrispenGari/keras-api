{
  "nbformat": 4,
  "nbformat_minor": 0,
  "metadata": {
    "colab": {
      "name": "13_NMT_Encoder_Decoder_Attention.ipynb",
      "provenance": [],
      "collapsed_sections": []
    },
    "kernelspec": {
      "name": "python3",
      "display_name": "Python 3"
    },
    "language_info": {
      "name": "python"
    },
    "accelerator": "GPU"
  },
  "cells": [
    {
      "cell_type": "markdown",
      "metadata": {
        "id": "cNqu7pFKchNr"
      },
      "source": [
        "### 13. Encoder Decoder Model With Attention- ``NMT``\n",
        "\n",
        "This notebook is just an exansion from what we did in the previous notebook. We are going to create an Encoder Decoder model with attention. The rest of the notebook will remain the same as in the previous notebook, we are going to tweek few things.\n",
        "\n",
        "\n",
        "### Imports"
      ]
    },
    {
      "cell_type": "code",
      "metadata": {
        "colab": {
          "base_uri": "https://localhost:8080/",
          "height": 35
        },
        "id": "I00tsWmRbxmL",
        "outputId": "86aff097-ef02-44a3-d93e-a7f5f45aebe2"
      },
      "source": [
        "import numpy as np\n",
        "import pandas as pd\n",
        "\n",
        "import tensorflow as tf\n",
        "from tensorflow.keras.layers.experimental import preprocessing\n",
        "from tensorflow.keras.preprocessing.text import Tokenizer\n",
        "from tensorflow.keras.preprocessing.sequence import pad_sequences\n",
        "\n",
        "from tensorflow import keras\n",
        "\n",
        "import matplotlib.pyplot as plt\n",
        "import matplotlib.ticker as ticker\n",
        "\n",
        "\n",
        "import re, os, time, unicodedata\n",
        "\n",
        "tf.__version__"
      ],
      "execution_count": 1,
      "outputs": [
        {
          "output_type": "execute_result",
          "data": {
            "application/vnd.google.colaboratory.intrinsic+json": {
              "type": "string"
            },
            "text/plain": [
              "'2.6.0'"
            ]
          },
          "metadata": {},
          "execution_count": 1
        }
      ]
    },
    {
      "cell_type": "markdown",
      "metadata": {
        "id": "8qv-N1-Mg_1O"
      },
      "source": [
        "### Mounting the drive"
      ]
    },
    {
      "cell_type": "code",
      "metadata": {
        "colab": {
          "base_uri": "https://localhost:8080/"
        },
        "id": "_Vbu4Gv8b4cY",
        "outputId": "120035f1-a7a6-40bb-8436-23196df6c1dd"
      },
      "source": [
        "\n",
        "from google.colab import drive\n",
        "drive.mount('/content/drive')"
      ],
      "execution_count": 2,
      "outputs": [
        {
          "output_type": "stream",
          "name": "stdout",
          "text": [
            "Drive already mounted at /content/drive; to attempt to forcibly remount, call drive.mount(\"/content/drive\", force_remount=True).\n"
          ]
        }
      ]
    },
    {
      "cell_type": "code",
      "metadata": {
        "colab": {
          "base_uri": "https://localhost:8080/"
        },
        "id": "mKh1Onbdb4Zr",
        "outputId": "2dd07ff5-ca93-4f23-a630-e64cb48f8e07"
      },
      "source": [
        "file_path = \"/content/drive/My Drive/NLP Data/seq2seq/spa-en/spa.txt\"\n",
        "os.path.exists(file_path)"
      ],
      "execution_count": 3,
      "outputs": [
        {
          "output_type": "execute_result",
          "data": {
            "text/plain": [
              "True"
            ]
          },
          "metadata": {},
          "execution_count": 3
        }
      ]
    },
    {
      "cell_type": "markdown",
      "metadata": {
        "id": "AvtnHUHxiYkG"
      },
      "source": [
        "We will use spainish as our source language and english as our target language in this example."
      ]
    },
    {
      "cell_type": "code",
      "metadata": {
        "id": "iSj--AajiXw6"
      },
      "source": [
        "def unicode_to_ascii(s):\n",
        "  return ''.join(c for c in unicodedata.normalize('NFD', s)\n",
        "        if unicodedata.category(c) != 'Mn')"
      ],
      "execution_count": 4,
      "outputs": []
    },
    {
      "cell_type": "code",
      "metadata": {
        "id": "QvIrHBQ8iXn4"
      },
      "source": [
        "def preprocess_sentence(w):\n",
        "    w = unicode_to_ascii(w.lower().strip())\n",
        "    w = re.sub(r\"([?.!,¿])\", r\" \\1 \", w)\n",
        "    w = re.sub(r'[\" \"]+', \" \", w)\n",
        "    w = re.sub(r\"[^a-zA-Z?.!,¿]+\", \" \", w)\n",
        "    w = w.strip()\n",
        "    # Adding the start and end of sequences tokens \n",
        "    # w = '<sos> ' + w + ' <eos>'\n",
        "    return w"
      ],
      "execution_count": 5,
      "outputs": []
    },
    {
      "cell_type": "markdown",
      "metadata": {
        "id": "5-WtkAejhssT"
      },
      "source": [
        "### Data and text processing.\n",
        "\n",
        "We need to remove accents, lower case the sentences and replace everything with space except (a-z, A-Z, \".\", \"?\", \"!\", \",\")."
      ]
    },
    {
      "cell_type": "code",
      "metadata": {
        "id": "7w3ZgSewN9TJ"
      },
      "source": [
        "INPUT_COLUMN = 'input'\n",
        "TARGET_COLUMN = 'target'\n",
        "\n",
        "TARGET_FOR_INPUT = 'target_for_input'\n",
        "NUM_SAMPLES = 20000 #40000\n",
        "MAX_VOCAB_SIZE = 20000\n",
        "EMBEDDING_DIM = 128\n",
        "HIDDEN_DIM= 1024\n",
        "\n",
        "BATCH_SIZE = 64  # Batch size for training.\n",
        "EPOCHS = 10  # Number of epochs to train for."
      ],
      "execution_count": 6,
      "outputs": []
    },
    {
      "cell_type": "code",
      "metadata": {
        "colab": {
          "base_uri": "https://localhost:8080/"
        },
        "id": "T5BELCFLb4W9",
        "outputId": "b3113901-599d-4c8c-fc94-72c83486491a"
      },
      "source": [
        "# Load the dataset: sentence in english, sentence in spanish \n",
        "df=pd.read_csv(file_path, sep=\"\\t\", header=None, names=[TARGET_COLUMN, INPUT_COLUMN], usecols=[0,1], \n",
        "               nrows=NUM_SAMPLES)\n",
        "\n",
        "# Preprocess the input data\n",
        "input_data=df[INPUT_COLUMN].apply(lambda x : preprocess_sentence(x)).tolist()\n",
        "# Preprocess and include the end of sentence token to the target text\n",
        "target_data=df[TARGET_COLUMN].apply(lambda x : preprocess_sentence(x)+ ' <eos>').tolist()\n",
        "# Preprocess and include a start of setence token to the input text to the decoder, it is rigth shifted\n",
        "target_input_data=df[TARGET_COLUMN].apply(lambda x : '<sos> '+ preprocess_sentence(x)).tolist()\n",
        "\n",
        "print(input_data[:5])\n",
        "print(target_data[:5])\n",
        "print(target_input_data[:5])"
      ],
      "execution_count": 7,
      "outputs": [
        {
          "output_type": "stream",
          "name": "stdout",
          "text": [
            "['ve .', 'vete .', 'vaya .', 'vayase .', 'hola .']\n",
            "['go . <eos>', 'go . <eos>', 'go . <eos>', 'go . <eos>', 'hi . <eos>']\n",
            "['<sos> go .', '<sos> go .', '<sos> go .', '<sos> go .', '<sos> hi .']\n"
          ]
        }
      ]
    },
    {
      "cell_type": "markdown",
      "metadata": {
        "id": "l3wBerjHlezP"
      },
      "source": [
        "### Tokenization\n",
        "\n",
        "* Tokenize the data, to convert the raw text into a sequence of integers. First, we create a Tokenizer object from the keras library and fit it to our text (one tokenizer for the input and another one for the output).\n",
        "* Extract sequence of integers from the text: we call the ``text_to_sequence`` method of the tokenizer for every input and output text.\n",
        "* Calculate the maximum length of the input and output sequences."
      ]
    },
    {
      "cell_type": "code",
      "metadata": {
        "colab": {
          "base_uri": "https://localhost:8080/"
        },
        "id": "NtVRfcb0b4RY",
        "outputId": "4745632b-0cf2-451e-a7aa-b1e7b02fa074"
      },
      "source": [
        "tokenizer_inputs = Tokenizer(\n",
        "    num_words = MAX_VOCAB_SIZE, filters=\"\"\n",
        ")\n",
        "tokenizer_inputs.fit_on_texts(input_data)\n",
        "input_sequences = tokenizer_inputs.texts_to_sequences(input_data)\n",
        "\n",
        "input_max_len = max(len(s) for s in input_sequences)\n",
        "print('max input length: ', input_max_len)\n",
        "\n",
        "# Show some example of tokenize sentences, useful to check the tokenization\n",
        "print(input_data[1000])\n",
        "print(input_sequences[1000])\n"
      ],
      "execution_count": 8,
      "outputs": [
        {
          "output_type": "stream",
          "name": "stdout",
          "text": [
            "max input length:  17\n",
            "tomas lo intento .\n",
            "[60, 15, 765, 1]\n"
          ]
        }
      ]
    },
    {
      "cell_type": "markdown",
      "metadata": {
        "id": "pExrjo17neVm"
      },
      "source": [
        "We can do the same thing to the output sequences."
      ]
    },
    {
      "cell_type": "code",
      "metadata": {
        "colab": {
          "base_uri": "https://localhost:8080/"
        },
        "id": "leFgqUS7b4N1",
        "outputId": "499cfacb-48ce-44f3-e56e-3a51ee51fd9f"
      },
      "source": [
        "\n",
        "# Create a tokenizer for the output texts and fit it to them \n",
        "tokenizer_outputs = Tokenizer(num_words=MAX_VOCAB_SIZE, filters='')\n",
        "tokenizer_outputs.fit_on_texts(target_data)\n",
        "tokenizer_outputs.fit_on_texts(target_input_data)\n",
        "\n",
        "# Tokenize and transform output texts to sequence of integers\n",
        "target_sequences = tokenizer_outputs.texts_to_sequences(target_data)\n",
        "target_sequences_inputs = tokenizer_outputs.texts_to_sequences(target_input_data)\n",
        "\n",
        "# determine maximum length output sequence\n",
        "target_max_len = max(len(s) for s in target_sequences)\n",
        "print('max target length: ', target_max_len)\n",
        "\n",
        "print(target_data[1000])\n",
        "print(target_sequences[1000])\n",
        "print(target_input_data[1000])\n"
      ],
      "execution_count": 9,
      "outputs": [
        {
          "output_type": "stream",
          "name": "stdout",
          "text": [
            "max target length:  9\n",
            "tom tried . <eos>\n",
            "[7, 414, 1, 2]\n",
            "<sos> tom tried .\n"
          ]
        }
      ]
    },
    {
      "cell_type": "markdown",
      "metadata": {
        "id": "dQj3S3HNoH-_"
      },
      "source": [
        "### Creating vocabularies\n",
        "\n",
        "Using the tokenizer we have created previously we can retrieve the vocabularies, one to match word to integer (word2idx) and a second one to match the integer to the corresponding word (idx2word).\n"
      ]
    },
    {
      "cell_type": "code",
      "metadata": {
        "colab": {
          "base_uri": "https://localhost:8080/"
        },
        "id": "GjqBg7-vb4K8",
        "outputId": "474f5639-4870-45bf-8245-3f9d87066520"
      },
      "source": [
        "# get the word to index mapping for input language\n",
        "word2idx_inputs = tokenizer_inputs.word_index\n",
        "print('Found %s unique input tokens.' % len(word2idx_inputs))\n",
        "\n",
        "# get the word to index mapping for output language\n",
        "word2idx_outputs = tokenizer_outputs.word_index\n",
        "print('Found %s unique output tokens.' % len(word2idx_outputs))\n",
        "\n",
        "# store number of output and input words for later\n",
        "# remember to add 1 since indexing starts at 1\n",
        "num_words_output = len(word2idx_outputs) + 1\n",
        "num_words_inputs = len(word2idx_inputs) + 1\n",
        "\n",
        "# map indexes back into real words\n",
        "# so we can view the results\n",
        "idx2word_inputs = {v:k for k, v in word2idx_inputs.items()}\n",
        "idx2word_outputs = {v:k for k, v in word2idx_outputs.items()}"
      ],
      "execution_count": 10,
      "outputs": [
        {
          "output_type": "stream",
          "name": "stdout",
          "text": [
            "Found 7183 unique input tokens.\n",
            "Found 3669 unique output tokens.\n"
          ]
        }
      ]
    },
    {
      "cell_type": "markdown",
      "metadata": {
        "id": "fvJFF6hjovy5"
      },
      "source": [
        "### Padding Sequences\n",
        "Padding the sentences: we need to pad zeros at the end of the sequences so that all sequences have the same length. Otherwise, we won't be able train the model on batches."
      ]
    },
    {
      "cell_type": "code",
      "metadata": {
        "colab": {
          "base_uri": "https://localhost:8080/"
        },
        "id": "qQrBk3Z_b4Hp",
        "outputId": "cdbc5425-eedd-4e5f-a98f-738063ce5425"
      },
      "source": [
        "\n",
        "# pad the input sequences\n",
        "encoder_inputs = pad_sequences(input_sequences,\n",
        "                               maxlen=input_max_len, padding='post', truncating=\"post\")\n",
        "print(\"encoder_inputs.shape:\", encoder_inputs.shape)\n",
        "\n",
        "\n",
        "# pad the decoder input sequences\n",
        "decoder_inputs = pad_sequences(target_sequences_inputs, maxlen=target_max_len, padding='post')\n",
        "print(\"decoder_inputs[0]:\", decoder_inputs[0])\n",
        "print(\"decoder_inputs.shape:\", decoder_inputs.shape)\n",
        "\n",
        "# pad the target output sequences\n",
        "decoder_targets = pad_sequences(target_sequences, maxlen=target_max_len, padding='post')\n",
        "print(\"decoder_targets.shape:\", decoder_targets.shape)\n"
      ],
      "execution_count": 11,
      "outputs": [
        {
          "output_type": "stream",
          "name": "stdout",
          "text": [
            "encoder_inputs.shape: (20000, 17)\n",
            "decoder_inputs[0]: [ 3 31  1  0  0  0  0  0  0]\n",
            "decoder_inputs.shape: (20000, 9)\n",
            "decoder_targets.shape: (20000, 9)\n"
          ]
        }
      ]
    },
    {
      "cell_type": "markdown",
      "metadata": {
        "id": "4A3y_CaXrsre"
      },
      "source": [
        "### Creating a Batch Data Generator\n",
        "\n",
        "* Create a batch data generator: we want to train the model on batches, group of sentences, so we need to create a Dataset using the tf.data library and the function ``batch_on_slices`` on the input and output sequences."
      ]
    },
    {
      "cell_type": "code",
      "metadata": {
        "id": "-fyoKhylb4FE"
      },
      "source": [
        "BUFFER_SIZE = len(input_data)\n",
        "dataset = tf.data.Dataset.from_tensor_slices(\n",
        "    (encoder_inputs, decoder_inputs, decoder_targets)\n",
        ").shuffle(BUFFER_SIZE).batch(BATCH_SIZE, drop_remainder=True)"
      ],
      "execution_count": 12,
      "outputs": []
    },
    {
      "cell_type": "markdown",
      "metadata": {
        "id": "VxLluMo0sSjf"
      },
      "source": [
        "### Encoder Decoder Model. (This will remain the same as from the prevoius notebook)\n",
        "\n",
        "For a better understanding, we can divide the model in three basic components:\n",
        "\n",
        "![img](https://github.com/edumunozsala/NMT-encoder-decoder-Attention/raw/ca7d7f969a17ddf390f707fceb22d5881d33b1c3/images/encoder_decoder_RNN.jpeg)\n",
        "\n",
        "*  **The encoder:** Layers of recurrent units where in each time step, receive a an input token, collects relevant information and produce a hidden state. Depends on the type of RNN, in our example a LSTM, the unit \"mixes\" the current hidden state and the input and return an output, discarded, and a new hidden state. \n",
        "\n",
        "* **The encoder vector:** it is the last hidden state of the encoder and it tries to contain as much of the useful input information as possible to help the decoder get the best results. It is only information from the input that the decoder will get.\n",
        "\n",
        "* **The decoder:** Layers of recurrent units, i.e. LSTMs, where each unit produces an output at a time step t. The hidden state of the first unit is the encoder vector and the rest of units accept the hidden state from the previous unit. The output is calculated using a **``_softmax_``** function to obtain a probability for every token in the output vocabulary.\n",
        "\n",
        "\n",
        "\n",
        "\n",
        "### Encoder Class\n"
      ]
    },
    {
      "cell_type": "code",
      "metadata": {
        "id": "V-J_Ho3lb4Cl"
      },
      "source": [
        "class Encoder(keras.Model):\n",
        "  def __init__(self, vocab_size, embedding_dim, hidden_dim):\n",
        "    super(Encoder, self).__init__()\n",
        "    self.hidden_dim = hidden_dim\n",
        "\n",
        "    self.embedding = keras.layers.Embedding(\n",
        "        vocab_size, embedding_dim\n",
        "    )\n",
        "    self.lstm = keras.layers.LSTM(hidden_dim,\n",
        "                                  return_sequences=True,\n",
        "                                  return_state=True\n",
        "                                  )\n",
        "    \n",
        "  def call(self, input_sequence, states):\n",
        "    embedded  = self.embedding(input_sequence)\n",
        "    output, h_0, c_0 = self.lstm(embedded, initial_state= states)\n",
        "    return output, h_0, c_0 \n",
        "\n",
        "  def init_states(self, batch_size):\n",
        "    return(\n",
        "        tf.zeros([batch_size, self.hidden_dim]),\n",
        "        tf.zeros([batch_size, self.hidden_dim]),\n",
        "    )\n"
      ],
      "execution_count": 13,
      "outputs": []
    },
    {
      "cell_type": "markdown",
      "metadata": {
        "id": "p0z3R4Js7ikS"
      },
      "source": [
        "### The Attention Mechanism\n",
        "The previously described model based on RNNs has a serious problem when working with long sequences, because the information of the first tokens is lost or diluted as more tokens are processed. The context vector has been given the responsibility of encoding all the information in a given source sentence in to a vector of few hundred elements. it made it challenging for the models to deal with long sentences. A solution was proposed in Bahdanau et al., 2014 [4] and Luong et al., 2015,[5].\n",
        "\n",
        "They introduce a technique called **_\"Attention\"_**, which highly improved the quality of machine translation systems. Attention allows the model to focus on the relevant parts of the input sequence as needed, accessing to all the past hidden states of the encoder, instead of just the last one. At each decoding step, the decoder gets to look at any particular state of the encoder and can selectively pick out specific elements from that sequence to produce the output. We will focus on the Luong perspective.\n",
        "\n",
        "### Loung Attention layer\n",
        "![img](https://github.com/edumunozsala/NMT-encoder-decoder-Attention/raw/ca7d7f969a17ddf390f707fceb22d5881d33b1c3/images/luong_attention.PNG)\n",
        "\n",
        "There are two relevant points to focus on:\n",
        "\n",
        "* **The alignment vector:** is a vector with the same length that the input or source sequence and is computed at every time step of the decoder. Each of its values is the score (or the probability) of the corresponding word within the source sequence, they tell the decoder what to focus on at each time step.\n",
        "\n",
        "     There are three ways to calculate the alingment scores:\n",
        "\n",
        "  * **Dot product:** we only need to take the hidden states of the encoder and multiply them by the hidden state of the decoder\n",
        "  * **General:** very similar to dot product but a weight matrix is included.\n",
        "  * **Concat:** the decoder hidden state and encoder hidden states are added together first before being passed through a Linear layer with an tanh activation function and finally multiply by a weight matrix.\n",
        "\n",
        "  ![img](https://github.com/edumunozsala/NMT-encoder-decoder-Attention/raw/ca7d7f969a17ddf390f707fceb22d5881d33b1c3/images/formula_luong_attention.PNG)\n",
        "\n",
        "  The alignment scores are softmaxed so that the weights will be between 0 to 1.\n",
        "\n",
        "* **The context vector:** It's the weighted average sum of the encoder's output, the dot product of the alignment vector and the encoder's output.\n",
        "\n"
      ]
    },
    {
      "cell_type": "code",
      "metadata": {
        "id": "o5xcuLb58wP_"
      },
      "source": [
        "class LuongAttention(keras.Model):\n",
        "  def __init__(self, rnn_size, attention_func):\n",
        "    super(LuongAttention, self).__init__()\n",
        "    self.attention_func = attention_func\n",
        "    if attention_func not in ['dot', 'general', 'concat']:\n",
        "      raise ValueError(\n",
        "        'Attention score must be either dot, general or concat but got %s.' % attention_func  \n",
        "      )\n",
        "    if attention_func == 'general':\n",
        "      # General score function\n",
        "      self.wa = keras.layers.Dense(rnn_size)\n",
        "    elif attention_func == 'concat':\n",
        "      self.wa = keras.layers.Dense(rnn_size, activation='tanh')\n",
        "      self.va = keras.layers.Dense(1)\n",
        "\n",
        "  def call(self, decoder_output, encoder_output):\n",
        "    if self.attention_func == 'dot':\n",
        "      score = tf.matmul(decoder_output, encoder_output, transpose_b=True) # (batch_size, 1, max_len)\n",
        "    elif self.attention_func == 'general':\n",
        "      score = tf.matmul(decoder_output, self.wa(\n",
        "                encoder_output), transpose_b=True) #(batch_size, 1, max_len)\n",
        "    elif self.attention_func == 'concat':\n",
        "      decoder_output = tf.tile(\n",
        "                decoder_output, [1, encoder_output.shape[1], 1]) #shape (batch size, max len,hidden_dim)\n",
        "      score = self.va(\n",
        "                self.wa(tf.concat((decoder_output, encoder_output), axis=-1))) # (batch_size, max len, 1)\n",
        "      score = tf.transpose(score, [0, 2, 1]) #(batch_size, 1, max_len)\n",
        "    \n",
        "    alignment = tf.keras.activations.softmax(score, axis=-1) #(batch_size, 1, max_len)\n",
        "    context = tf.matmul(alignment, encoder_output) # (batch_size, 1, hidden_dim)\n",
        "    return context, alignment\n"
      ],
      "execution_count": 14,
      "outputs": []
    },
    {
      "cell_type": "markdown",
      "metadata": {
        "id": "GCt4dFwSulYv"
      },
      "source": [
        "### Decoder With Attention\n",
        "Once our Attention Class has been defined, we can create the decoder. The complete sequence of steps when calling the decoder are:\n",
        "\n",
        "* Generate the encoder hidden states as usual, one for every input token\n",
        "* Apply a RNN to produce a new hidden state, taking its previous hidden state and the target output from the previous time step\n",
        "* Calculate the alignment scores as described previously\n",
        "* Calculate the context vector\n",
        "* In the last operation, the context vector is concatenated with the decoder hidden state we generated previously, then it is passed through a linear layer which acts as a classifier for us to obtain the probability scores of the next predicted word\n",
        "\n"
      ]
    },
    {
      "cell_type": "code",
      "metadata": {
        "id": "tdoT9kcxb3_H"
      },
      "source": [
        "class Decoder(keras.Model):\n",
        "  def __init__(self, vocab_size, embedding_dim,\n",
        "               hidden_dim, attention_func):\n",
        "    super(Decoder, self).__init__()\n",
        "\n",
        "    self.attention = LuongAttention(hidden_dim, attention_func)\n",
        "    \n",
        "    self.hidden_dim = hidden_dim\n",
        "    self.embedding = keras.layers.Embedding(\n",
        "        vocab_size, embedding_dim\n",
        "    )\n",
        "    self.lstm = keras.layers.LSTM(\n",
        "         hidden_dim, return_sequences=True, return_state=True\n",
        "    )\n",
        "\n",
        "    self.wc = keras.layers.Dense(hidden_dim, activation='tanh')\n",
        "    self.out = keras.layers.Dense(vocab_size)\n",
        "\n",
        "  def call(self, input_sequence, state, encoder_output):\n",
        "    # Remember that the input to the decoder\n",
        "    # is now a batch of one-word sequences,\n",
        "    # which means that its shape is (batch_size, 1)\n",
        "    embedded = self.embedding(input_sequence)\n",
        "    output, h_0, c_0 = self.lstm(embedded, initial_state=state)\n",
        "    # Use self.attention to compute the context and alignment vectors\n",
        "    # context vector's shape: (batch_size, 1, hidden_dim)\n",
        "    # alignment vector's shape: (batch_size, 1, source_length)\n",
        "    context, alignment = self.attention(output, encoder_output)\n",
        "    # Combine the context vector and the LSTM output\n",
        "    # Before combined, both have shape of (batch_size, 1, hidden_dim),\n",
        "    # so let's squeeze the axis 1 first\n",
        "    # After combined, it will have shape of (batch_size, 2 * hidden_dim)\n",
        "    output =  tf.concat(\n",
        "            [tf.squeeze(context, 1), tf.squeeze(output, 1)], 1)\n",
        "    # output now has shape (batch_size, hidden_dim)\n",
        "    output = self.wc(output)\n",
        "    # Finally, it is converted back to vocabulary space: (batch_size, vocab_size\n",
        "\n",
        "    logits = self.out(output)\n",
        "    return logits, h_0, c_0, alignment\n"
      ],
      "execution_count": 15,
      "outputs": []
    },
    {
      "cell_type": "markdown",
      "metadata": {
        "id": "N_SjwivHvtt-"
      },
      "source": [
        "For testing purposes, we create a decoder and call it to check the output shapes:"
      ]
    },
    {
      "cell_type": "code",
      "metadata": {
        "id": "hrv3WeKkb38d"
      },
      "source": [
        "#Set the length of the input and output vocabulary\n",
        "num_words_inputs = len(word2idx_inputs) + 1\n",
        "num_words_output = len(word2idx_outputs) + 1\n",
        "\n",
        "ATTENTION_FUNC = \"general\"\n",
        "\n",
        "#Create the encoder\n",
        "encoder = Encoder(num_words_inputs, EMBEDDING_DIM, HIDDEN_DIM)\n",
        "decoder = Decoder(num_words_output, EMBEDDING_DIM, HIDDEN_DIM, ATTENTION_FUNC)\n",
        "\n",
        "# Call the encoder and then the decoder\n",
        "initial_state = encoder.init_states(1)\n",
        "encoder_outputs = encoder(tf.constant([[1]]), initial_state)\n",
        "decoder_outputs = decoder(tf.constant(\n",
        "    [[1]]), encoder_outputs[1:], encoder_outputs[0])\n"
      ],
      "execution_count": 16,
      "outputs": []
    },
    {
      "cell_type": "markdown",
      "metadata": {
        "id": "ifUkP0AswI-H"
      },
      "source": [
        "### Loss function and metrics\n",
        "\n",
        "The loss functions and metrics will remain unchanged from the previous notebook.\n",
        "\n"
      ]
    },
    {
      "cell_type": "code",
      "metadata": {
        "id": "qB3JtQs9b35T"
      },
      "source": [
        "def loss_func(targets, logits):\n",
        "  crossentropy = keras.losses.SparseCategoricalCrossentropy(\n",
        "    from_logits=True)\n",
        "  # Mask padding values, they do not have to compute for loss\n",
        "  mask = tf.math.logical_not(tf.math.equal(targets, 0))\n",
        "  mask = tf.cast(mask, dtype=tf.int64) \n",
        "  loss = crossentropy(targets, logits, sample_weight=mask)\n",
        "  return loss\n",
        "     "
      ],
      "execution_count": 17,
      "outputs": []
    },
    {
      "cell_type": "code",
      "metadata": {
        "id": "tN2HT0xZb32W"
      },
      "source": [
        "def accuracy_fn(y_true, y_pred):\n",
        "  # y_pred shape is batch_size, seq length, vocab size\n",
        "  # y_true shape is batch_size, seq length\n",
        "  pred_values = keras.backend.cast(keras.backend.argmax(y_pred, axis=-1), dtype='int32')\n",
        "  correct = keras.backend.cast(keras.backend.equal(y_true, pred_values), dtype='float32')\n",
        "\n",
        "  # 0 is padding, don't include those\n",
        "  mask = keras.backend.cast(keras.backend.greater(y_true, 0),\n",
        "                            dtype='float32')\n",
        "  n_correct = keras.backend.sum(mask * correct)\n",
        "  n_total = keras.backend.sum(mask)\n",
        "  return n_correct / n_total\n"
      ],
      "execution_count": 18,
      "outputs": []
    },
    {
      "cell_type": "markdown",
      "metadata": {
        "id": "nSxaF6g9xMNH"
      },
      "source": [
        "### Training\n",
        "\n",
        "Now we can define our step train function, to train a batch data. It is very similar to the one we coded for the previous notebook model without attention but this time we pass all the hidden states returned by the encoder to the decoder. And we need to create a loop to iterate through the target sequences, calling the decoder for each one and calculating the loss function comparing the decoder output to the expected target."
      ]
    },
    {
      "cell_type": "code",
      "metadata": {
        "id": "2uABOj_7b3zS"
      },
      "source": [
        "@tf.function\n",
        "def train_step(input_seq, target_seq_in, target_seq_out, en_initial_states, optimizer):\n",
        "    loss = 0.\n",
        "    acc = 0.\n",
        "    logits = None\n",
        "    \n",
        "    with tf.GradientTape() as tape:\n",
        "        en_outputs = encoder(input_seq, en_initial_states)\n",
        "        en_states = en_outputs[1:]\n",
        "        de_state_h, de_state_c = en_states\n",
        "\n",
        "        # We need to create a loop to iterate through the target sequences\n",
        "        for i in range(target_seq_out.shape[1]):\n",
        "            # Input to the decoder must have shape of (batch_size, length)\n",
        "            # so we need to expand one dimension\n",
        "            decoder_in = tf.expand_dims(target_seq_in[:, i], 1)\n",
        "            logit, de_state_h, de_state_c, _ = decoder(\n",
        "                decoder_in, (de_state_h, de_state_c), en_outputs[0])\n",
        "\n",
        "            # The loss is now accumulated through the whole batch\n",
        "            loss += loss_func(target_seq_out[:, i], logit)\n",
        "            # Store the logits to calculate the accuracy\n",
        "            logit = keras.backend.expand_dims(logit, axis=1)\n",
        "            if logits is None:\n",
        "                logits = logit\n",
        "            else:\n",
        "                logits = keras.backend.concatenate((logits,logit), axis=1)\n",
        "        # Calculate the accuracy for the batch data        \n",
        "        acc = accuracy_fn(target_seq_out, logits)\n",
        "    # Update the parameters and the optimizer\n",
        "    variables = encoder.trainable_variables + decoder.trainable_variables\n",
        "    gradients = tape.gradient(loss, variables)\n",
        "    optimizer.apply_gradients(zip(gradients, variables))\n",
        "\n",
        "    return loss / target_seq_out.shape[1], acc\n"
      ],
      "execution_count": 19,
      "outputs": []
    },
    {
      "cell_type": "markdown",
      "metadata": {
        "id": "E3KOGX3oyrbi"
      },
      "source": [
        "Our train function receives three sequences:\n",
        "\n",
        "**Input sequence:** array of integers of shape [batch_size, max_seq_len, embedding dim]. It is the input sequence to the encoder.\n",
        "\n",
        "**target sequence:** array of integers of shape [batch_size, max_seq_len, embedding dim]. It is the target of our model, the output that we want for our model.\n",
        "\n",
        "**Target input sequence:** array of integers of shape [batch_size, max_seq_len, embedding dim]. It is the input sequence to the decoder because we use Teacher Forcing.\n",
        "\n",
        "\n",
        "### Oh Teacher Forcing\n",
        "Teacher forcing is a training method critical to the development of deep learning models in NLP. It is a way for quickly and efficiently training recurrent neural network models that use the ground truth from a prior time step as input.\n",
        "\n",
        "In a recurrent network usually the input to a RNN at the time step t is the output of the RNN in the previous time step, t-1. But with teacher forcing we can use the actual output to improve the learning capabilities of the model.\n",
        "\n",
        "_\"Teacher forcing works by using the actual or expected output from the training dataset at the current time step y(t) as input in the next time step X(t+1), rather than the output generated by the network. So, in our example, the input to the decoder is the target sequence right-shifted, the target output at time step t is the decoder input at time step t+1.\"_\n",
        "\n",
        "When our model output do not vary from what was seen by the model during training, teacher forcing is very effective. But if we need a more \"creative\" model, where given an input sequence there can be several possible outputs, we should avoid this technique or apply it randomly (only in some random time steps).\n",
        "\n",
        "Now, we can code the whole training process:\n"
      ]
    },
    {
      "cell_type": "code",
      "metadata": {
        "id": "pmrvv4ehb3wQ"
      },
      "source": [
        "def fit(encoder, decoder, dataset, n_epochs, batch_size, optimizer, checkpoint, checkpoint_prefix):\n",
        "    \n",
        "    losses = []\n",
        "    accuracies = []\n",
        "\n",
        "    for e in range(n_epochs):\n",
        "        # Get the initial time\n",
        "        start = time.time()\n",
        "        # Get the initial state for the encoder\n",
        "        en_initial_states = encoder.init_states(batch_size)\n",
        "        # For every batch data\n",
        "        for batch, (input_seq, target_seq_in, target_seq_out) in enumerate(dataset.take(-1)):\n",
        "            # Train and get the loss value \n",
        "            loss, accuracy = train_step(input_seq, target_seq_in, target_seq_out, en_initial_states, optimizer)\n",
        "        \n",
        "            if batch % 100 == 0:\n",
        "                # Store the loss and accuracy values\n",
        "                losses.append(loss)\n",
        "                accuracies.append(accuracy)\n",
        "                print('Epoch {} Batch {} Loss {:.4f} Acc:{:.4f}'.format(e + 1, batch, loss.numpy(), accuracy.numpy()))\n",
        "                \n",
        "        # saving (checkpoint) the model every 2 epochs\n",
        "        if (e + 1) % 2 == 0:\n",
        "            checkpoint.save(file_prefix = checkpoint_prefix)\n",
        "    \n",
        "        print('Time taken for 1 epoch {:.4f} sec\\n'.format(time.time() - start))\n",
        "        \n",
        "    return losses, accuracies"
      ],
      "execution_count": 20,
      "outputs": []
    },
    {
      "cell_type": "markdown",
      "metadata": {
        "id": "uawlTlLI0mrP"
      },
      "source": [
        "We are almost ready, our last step include a call to the main train function and we create a checkpoint object to save our model. Because the training process require a long time to run, every two epochs we save it. Later we can restore it and use it to make predictions."
      ]
    },
    {
      "cell_type": "code",
      "metadata": {
        "colab": {
          "base_uri": "https://localhost:8080/"
        },
        "id": "skD0n1Edb3tC",
        "outputId": "620b85c2-0e55-4fd7-84a7-c8eaef69b39c"
      },
      "source": [
        "# Create an Adam optimizer and clips gradients by norm\n",
        "optimizer = tf.keras.optimizers.Adam(clipnorm=5.0)\n",
        "# Create a checkpoint object to save the model\n",
        "checkpoint_dir = './training_ckpt_seq2seq_att'\n",
        "checkpoint_prefix = os.path.join(checkpoint_dir, \"ckpt\")\n",
        "checkpoint = tf.train.Checkpoint(optimizer=optimizer,\n",
        "                                 encoder=encoder,\n",
        "                                 decoder=decoder)\n",
        "\n",
        "losses, accuracies = fit(encoder, decoder, dataset, \n",
        "                                EPOCHS, BATCH_SIZE, \n",
        "                         optimizer, checkpoint, checkpoint_prefix)"
      ],
      "execution_count": 21,
      "outputs": [
        {
          "output_type": "stream",
          "name": "stdout",
          "text": [
            "Epoch 1 Batch 0 Loss 5.1443 Acc:0.0000\n",
            "Epoch 1 Batch 100 Loss 2.1913 Acc:0.4190\n",
            "Epoch 1 Batch 200 Loss 1.9849 Acc:0.4504\n",
            "Epoch 1 Batch 300 Loss 1.6921 Acc:0.5179\n",
            "Time taken for 1 epoch 79.6839 sec\n",
            "\n",
            "Epoch 2 Batch 0 Loss 1.6905 Acc:0.5432\n",
            "Epoch 2 Batch 100 Loss 1.5678 Acc:0.5571\n",
            "Epoch 2 Batch 200 Loss 1.5056 Acc:0.5577\n",
            "Epoch 2 Batch 300 Loss 1.4290 Acc:0.6108\n",
            "Time taken for 1 epoch 48.3789 sec\n",
            "\n",
            "Epoch 3 Batch 0 Loss 1.3067 Acc:0.6029\n",
            "Epoch 3 Batch 100 Loss 1.2139 Acc:0.6575\n",
            "Epoch 3 Batch 200 Loss 1.1159 Acc:0.6800\n",
            "Epoch 3 Batch 300 Loss 1.0038 Acc:0.6474\n",
            "Time taken for 1 epoch 47.6628 sec\n",
            "\n",
            "Epoch 4 Batch 0 Loss 0.8628 Acc:0.6962\n",
            "Epoch 4 Batch 100 Loss 0.8903 Acc:0.7151\n",
            "Epoch 4 Batch 200 Loss 0.8578 Acc:0.7083\n",
            "Epoch 4 Batch 300 Loss 0.7999 Acc:0.7598\n",
            "Time taken for 1 epoch 48.1545 sec\n",
            "\n",
            "Epoch 5 Batch 0 Loss 0.5670 Acc:0.7879\n",
            "Epoch 5 Batch 100 Loss 0.5863 Acc:0.7626\n",
            "Epoch 5 Batch 200 Loss 0.4846 Acc:0.8319\n",
            "Epoch 5 Batch 300 Loss 0.5071 Acc:0.8147\n",
            "Time taken for 1 epoch 47.6263 sec\n",
            "\n",
            "Epoch 6 Batch 0 Loss 0.4061 Acc:0.8481\n",
            "Epoch 6 Batch 100 Loss 0.3999 Acc:0.8431\n",
            "Epoch 6 Batch 200 Loss 0.4162 Acc:0.8237\n",
            "Epoch 6 Batch 300 Loss 0.3642 Acc:0.8567\n",
            "Time taken for 1 epoch 48.0286 sec\n",
            "\n",
            "Epoch 7 Batch 0 Loss 0.3198 Acc:0.8587\n",
            "Epoch 7 Batch 100 Loss 0.2745 Acc:0.8920\n",
            "Epoch 7 Batch 200 Loss 0.2847 Acc:0.8746\n",
            "Epoch 7 Batch 300 Loss 0.2298 Acc:0.9034\n",
            "Time taken for 1 epoch 47.6693 sec\n",
            "\n",
            "Epoch 8 Batch 0 Loss 0.2072 Acc:0.9037\n",
            "Epoch 8 Batch 100 Loss 0.2304 Acc:0.8968\n",
            "Epoch 8 Batch 200 Loss 0.3117 Acc:0.8959\n",
            "Epoch 8 Batch 300 Loss 0.2697 Acc:0.8857\n",
            "Time taken for 1 epoch 48.0860 sec\n",
            "\n",
            "Epoch 9 Batch 0 Loss 0.1852 Acc:0.9239\n",
            "Epoch 9 Batch 100 Loss 0.1961 Acc:0.9155\n",
            "Epoch 9 Batch 200 Loss 0.1546 Acc:0.9270\n",
            "Epoch 9 Batch 300 Loss 0.2769 Acc:0.8839\n",
            "Time taken for 1 epoch 47.5320 sec\n",
            "\n",
            "Epoch 10 Batch 0 Loss 0.1293 Acc:0.9298\n",
            "Epoch 10 Batch 100 Loss 0.1324 Acc:0.9460\n",
            "Epoch 10 Batch 200 Loss 0.1247 Acc:0.9605\n",
            "Epoch 10 Batch 300 Loss 0.1803 Acc:0.9136\n",
            "Time taken for 1 epoch 47.9130 sec\n",
            "\n"
          ]
        }
      ]
    },
    {
      "cell_type": "markdown",
      "metadata": {
        "id": "0HR9d8ea08vv"
      },
      "source": [
        "### Model Evaulation"
      ]
    },
    {
      "cell_type": "code",
      "metadata": {
        "id": "gCh6uXGhb3oH",
        "colab": {
          "base_uri": "https://localhost:8080/",
          "height": 336
        },
        "outputId": "4ac0e7f5-2293-4bde-9b46-ebd2bcdc9b2f"
      },
      "source": [
        "fig, (ax1, ax2) = plt.subplots(1, 2, figsize=(15,5))\n",
        "\n",
        "ax1.plot(losses, label='loss')\n",
        "#plt.plot(results.history['val_loss'], label='val_loss')\n",
        "ax1.set_title('Training Loss')\n",
        "ax1.legend()\n",
        "# accuracies\n",
        "ax2.plot(accuracies, label='acc')\n",
        "#plt.plot(results.history['val_accuracy_fn'], label='val_acc')\n",
        "ax2.set_title('Training Accuracy')\n",
        "ax2.legend()\n",
        "plt.show()"
      ],
      "execution_count": 22,
      "outputs": [
        {
          "output_type": "display_data",
          "data": {
            "image/png": "[encoded data removed]",
            "text/plain": [
              "<Figure size 1080x360 with 2 Axes>"
            ]
          },
          "metadata": {
            "needs_background": "light"
          }
        }
      ]
    },
    {
      "cell_type": "markdown",
      "metadata": {
        "id": "3iojOKHp1I4c"
      },
      "source": [
        "### Inference\n",
        "To restore the lastest checkpoint, saved model, you can run the following cell:"
      ]
    },
    {
      "cell_type": "code",
      "metadata": {
        "id": "TDwXcqIwb3k5",
        "colab": {
          "base_uri": "https://localhost:8080/"
        },
        "outputId": "323d8c7a-cd1d-47b8-e24c-4296e6437e25"
      },
      "source": [
        "# Create an Adam optimizer and clips gradients by norm\n",
        "optimizer = tf.keras.optimizers.Adam(clipnorm=5.0)\n",
        "# Create a checkpoint object to save the model\n",
        "checkpoint_dir = './training_ckpt_seq2seq_att'\n",
        "checkpoint_prefix = os.path.join(checkpoint_dir, \"ckpt\")\n",
        "checkpoint = tf.train.Checkpoint(optimizer=optimizer,\n",
        "                                 encoder=encoder,\n",
        "                                 decoder=decoder)\n",
        "\n",
        "checkpoint.restore(tf.train.latest_checkpoint(checkpoint_dir))"
      ],
      "execution_count": 23,
      "outputs": [
        {
          "output_type": "execute_result",
          "data": {
            "text/plain": [
              "<tensorflow.python.training.tracking.util.CheckpointLoadStatus at 0x7f3efde46250>"
            ]
          },
          "metadata": {},
          "execution_count": 23
        }
      ]
    },
    {
      "cell_type": "markdown",
      "metadata": {
        "id": "To67sEZr1RdX"
      },
      "source": [
        "In the prediction step, our input is a sequence of length one, the ``sos`` token, then we call the encoder and ``decoder`` repeatedly until we get the eos token or reach the maximum length defined."
      ]
    },
    {
      "cell_type": "code",
      "metadata": {
        "id": "hYg6__z0b3iG"
      },
      "source": [
        "def predict(input_text, input_max_len, tokenizer_inputs, word2idx_outputs, idx2word_outputs):\n",
        "    if input_text is None:\n",
        "        input_text = input_data[np.random.choice(len(input_data))]\n",
        "    print(input_text)\n",
        "    # Tokenize the input text\n",
        "    input_seq = tokenizer_inputs.texts_to_sequences([input_text])\n",
        "    # Pad the sentence\n",
        "    input_seq = pad_sequences(input_seq, maxlen=input_max_len, padding='post')\n",
        "    # Get the encoder initial states\n",
        "    en_initial_states = encoder.init_states(1)\n",
        "    # Get the encoder outputs or hidden states\n",
        "    en_outputs = encoder(tf.constant(input_seq), en_initial_states)\n",
        "    # Set the decoder input to the sos token\n",
        "    de_input = tf.constant([[word2idx_outputs['<sos>']]])\n",
        "    # Set the initial hidden states of the decoder to the hidden states of the encoder\n",
        "    de_state_h, de_state_c = en_outputs[1:]\n",
        "    \n",
        "    out_words = []\n",
        "    alignments = []\n",
        "\n",
        "    while True:\n",
        "        # Get the decoder with attention output\n",
        "        de_output, de_state_h, de_state_c, alignment = decoder(\n",
        "            de_input, (de_state_h, de_state_c), en_outputs[0])\n",
        "        de_input = tf.expand_dims(tf.argmax(de_output, -1), 0)\n",
        "        # Detokenize the output\n",
        "        out_words.append(idx2word_outputs[de_input.numpy()[0][0]])\n",
        "        # Save the aligment matrix\n",
        "        alignments.append(alignment.numpy())\n",
        "\n",
        "        if out_words[-1] == '<eos>' or len(out_words) >= 20:\n",
        "            break\n",
        "    # Join the output words\n",
        "    # print(' '.join(out_words))\n",
        "    return np.array(alignments), input_text.split(' '), out_words\n"
      ],
      "execution_count": 26,
      "outputs": []
    },
    {
      "cell_type": "code",
      "metadata": {
        "id": "QyuUvqSfb3fG",
        "colab": {
          "base_uri": "https://localhost:8080/",
          "height": 665
        },
        "outputId": "0c5ccce4-c4ee-4796-830c-b3a17718ac7d"
      },
      "source": [
        "\n",
        "n_predictions=1\n",
        "test_sents = input_data[1200:(1200+n_predictions)]\n",
        "print(target_data[1200])\n",
        "\n",
        "# Create the figure to plot in\n",
        "fig = plt.figure(figsize=(10, 20))\n",
        "for i, test_sent in enumerate(test_sents):\n",
        "  # Call the predict function to get the translation\n",
        "  alignments, source, prediction = predict(test_sent, input_max_len, tokenizer_inputs, \n",
        "                                                    word2idx_outputs, idx2word_outputs)\n",
        "  attention = np.squeeze(alignments, (1, 2))\n",
        "  # Create a subplot\n",
        "  ax = fig.add_subplot(1, n_predictions, i+1)\n",
        "  ax.matshow(attention[:len(prediction), :len(source)], cmap='viridis')\n",
        "  ax.set_xticklabels([''] + source, rotation=90)\n",
        "  ax.set_yticklabels([''] + prediction)\n",
        "plt.show()"
      ],
      "execution_count": 29,
      "outputs": [
        {
          "output_type": "stream",
          "name": "stdout",
          "text": [
            "he ate out . <eos>\n",
            "el salio a comer .\n"
          ]
        },
        {
          "output_type": "display_data",
          "data": {
            "image/png": "[encoded data removed]",
            "text/plain": [
              "<Figure size 720x1440 with 1 Axes>"
            ]
          },
          "metadata": {
            "needs_background": "light"
          }
        }
      ]
    },
    {
      "cell_type": "code",
      "metadata": {
        "colab": {
          "base_uri": "https://localhost:8080/"
        },
        "id": "EZTCZsLLSARA",
        "outputId": "596b0b54-3dd4-41e9-bb6a-5edf1485e8b7"
      },
      "source": [
        "\n",
        "for inp, trg in zip(input_data[:10], target_data[:10]):\n",
        "  alignments, source, prediction = predict(inp, input_max_len, tokenizer_inputs, \n",
        "                                                      word2idx_outputs, idx2word_outputs)\n",
        "  print(\"input: > \", inp)\n",
        "  print(\"target: > \", trg.replace(\"<eos>\", \"\"))\n",
        "  print(\"predicted: = \", \" \".join(prediction).replace(\"<eos>\", \"\"))\n",
        "  print()\n",
        "  print(\"*\"*100)\n",
        "  print()"
      ],
      "execution_count": 33,
      "outputs": [
        {
          "output_type": "stream",
          "name": "stdout",
          "text": [
            "ve .\n",
            "input: >  ve .\n",
            "target: >  go . \n",
            "predicted: =  that s amazing . \n",
            "\n",
            "****************************************************************************************************\n",
            "\n",
            "vete .\n",
            "input: >  vete .\n",
            "target: >  go . \n",
            "predicted: =  go . \n",
            "\n",
            "****************************************************************************************************\n",
            "\n",
            "vaya .\n",
            "input: >  vaya .\n",
            "target: >  go . \n",
            "predicted: =  go . \n",
            "\n",
            "****************************************************************************************************\n",
            "\n",
            "vayase .\n",
            "input: >  vayase .\n",
            "target: >  go . \n",
            "predicted: =  go on . \n",
            "\n",
            "****************************************************************************************************\n",
            "\n",
            "hola .\n",
            "input: >  hola .\n",
            "target: >  hi . \n",
            "predicted: =  hi . \n",
            "\n",
            "****************************************************************************************************\n",
            "\n",
            "corre !\n",
            "input: >  corre !\n",
            "target: >  run ! \n",
            "predicted: =  run ! \n",
            "\n",
            "****************************************************************************************************\n",
            "\n",
            "corran !\n",
            "input: >  corran !\n",
            "target: >  run ! \n",
            "predicted: =  run ! \n",
            "\n",
            "****************************************************************************************************\n",
            "\n",
            "corra !\n",
            "input: >  corra !\n",
            "target: >  run ! \n",
            "predicted: =  run ! \n",
            "\n",
            "****************************************************************************************************\n",
            "\n",
            "corred !\n",
            "input: >  corred !\n",
            "target: >  run ! \n",
            "predicted: =  run ! \n",
            "\n",
            "****************************************************************************************************\n",
            "\n",
            "corred .\n",
            "input: >  corred .\n",
            "target: >  run . \n",
            "predicted: =  run . \n",
            "\n",
            "****************************************************************************************************\n",
            "\n"
          ]
        }
      ]
    },
    {
      "cell_type": "code",
      "metadata": {
        "colab": {
          "base_uri": "https://localhost:8080/"
        },
        "id": "6y5eLX_2S4B_",
        "outputId": "508257a8-ab12-465b-c450-ac897e7e2661"
      },
      "source": [
        "for inp, trg in zip(input_data[2210:2220], target_data[2210:2220]):\n",
        "  alignments, source, prediction = predict(inp, input_max_len, tokenizer_inputs, \n",
        "                                                      word2idx_outputs, idx2word_outputs)\n",
        "  print(\"input: > \", inp)\n",
        "  print(\"target: > \", trg.replace(\"<eos>\", \"\"))\n",
        "  print(\"predicted: = \", \" \".join(prediction).replace(\"<eos>\", \"\"))\n",
        "  print()\n",
        "  print(\"*\"*100)\n",
        "  print()"
      ],
      "execution_count": 34,
      "outputs": [
        {
          "output_type": "stream",
          "name": "stdout",
          "text": [
            "dije que pararas .\n",
            "input: >  dije que pararas .\n",
            "target: >  i said stop . \n",
            "predicted: =  i said stop . \n",
            "\n",
            "****************************************************************************************************\n",
            "\n",
            "dije que te detuvieras .\n",
            "input: >  dije que te detuvieras .\n",
            "target: >  i said stop . \n",
            "predicted: =  i said stop . \n",
            "\n",
            "****************************************************************************************************\n",
            "\n",
            "yo dije eso .\n",
            "input: >  yo dije eso .\n",
            "target: >  i said that . \n",
            "predicted: =  i said that . \n",
            "\n",
            "****************************************************************************************************\n",
            "\n",
            "yo vi un ovni .\n",
            "input: >  yo vi un ovni .\n",
            "target: >  i saw a ufo . \n",
            "predicted: =  i saw a ufo . \n",
            "\n",
            "****************************************************************************************************\n",
            "\n",
            "vi a un perro .\n",
            "input: >  vi a un perro .\n",
            "target: >  i saw a dog . \n",
            "predicted: =  i saw a dog . \n",
            "\n",
            "****************************************************************************************************\n",
            "\n",
            "vi un perro .\n",
            "input: >  vi un perro .\n",
            "target: >  i saw a dog . \n",
            "predicted: =  i saw a dog . \n",
            "\n",
            "****************************************************************************************************\n",
            "\n",
            "yo vi un perro .\n",
            "input: >  yo vi un perro .\n",
            "target: >  i saw a dog . \n",
            "predicted: =  i saw a dog . \n",
            "\n",
            "****************************************************************************************************\n",
            "\n",
            "vendo autos .\n",
            "input: >  vendo autos .\n",
            "target: >  i sell cars . \n",
            "predicted: =  i m selling . \n",
            "\n",
            "****************************************************************************************************\n",
            "\n",
            "me deberia ir .\n",
            "input: >  me deberia ir .\n",
            "target: >  i should go . \n",
            "predicted: =  i should go out . \n",
            "\n",
            "****************************************************************************************************\n",
            "\n",
            "huelo a gas .\n",
            "input: >  huelo a gas .\n",
            "target: >  i smell gas . \n",
            "predicted: =  i smell gas . \n",
            "\n",
            "****************************************************************************************************\n",
            "\n"
          ]
        }
      ]
    },
    {
      "cell_type": "markdown",
      "metadata": {
        "id": "fnjaSpMz4XjP"
      },
      "source": [
        "### Credits\n",
        "\n",
        "As we can see the encoder decoder model with Attention mechanisim performs better.\n",
        "\n",
        "* [edumunozsala](https://github.com/edumunozsala/NMT-encoder-decoder-Attention/blob/main/Intro-seq2seq-Encoder-Decoder-ENG-SPA-translator-tf2.ipynb)\n"
      ]
    },
    {
      "cell_type": "code",
      "metadata": {
        "id": "tYDD5lxyTH2_"
      },
      "source": [
        ""
      ],
      "execution_count": null,
      "outputs": []
    }
  ]
}