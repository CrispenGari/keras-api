{
  "nbformat": 4,
  "nbformat_minor": 0,
  "metadata": {
    "colab": {
      "name": "14_NMT- English-Danish.ipynb",
      "provenance": [],
      "collapsed_sections": []
    },
    "kernelspec": {
      "name": "python3",
      "display_name": "Python 3"
    },
    "language_info": {
      "name": "python"
    },
    "accelerator": "GPU"
  },
  "cells": [
    {
      "cell_type": "markdown",
      "metadata": {
        "id": "2TGE5nAimUVn"
      },
      "source": [
        "### Nueral Machine Translation (NMT)\n",
        "\n",
        "\n",
        "We are going to use the `Encoder` - `Decoder` achitecture. Think of it as an achitecture where an enocder maps the source-text to a \"thought vector\" that summarizes the text's contents, which is then input to the second part of the neural network that decodes the \"thought vector\" to the destination-text.\n",
        "\n",
        "### Steps\n",
        "\n",
        "* Consider the Danish text \"der var engang\" which translate to \"once upon a time\". \n",
        "* We first convert the entire data-set to integer-tokens so the text \"der var engang\" becomes [12, 54, 1097]. \n",
        "* Each of these integer-tokens is then mapped to an embedding-vector with e.g. 128 elements, so the integer-token 12 could for example become [0.12, -0.56, ..., 1.19] \n",
        "* These embedding vectoctors will be passed into a GRu with three layers.\n",
        "The last GRU layer will output a single vector known as the \"thought vector\" that summarizes the contents of the source-text which is uses as the initial state of the GRU of the decoder.\n",
        "\n",
        "* The destination-text \"once upon a time\" is padded with special markers \"<sos>\" and \"<eos>\" to indicate its beginning and end, so the sequence of integer-tokens becomes [2, 337, 640, 9, 79, 3].\n",
        "* During training, the decoder will be given this entire sequence as input and the desired output sequence is [337, 640, 9, 79, 3] which is the same sequence but time-shifted one step.\n",
        "\n",
        "* We are trying to teach the decoder to map the \"thought vector\" and the start-token \"sos\" (integer 2) to the next word \"once\" (integer 337), and then map the word \"once\" to the word \"upon\" (integer 640), and so forth.\n",
        "\n",
        "\n",
        "### Imports\n",
        "\n"
      ]
    },
    {
      "cell_type": "code",
      "metadata": {
        "colab": {
          "base_uri": "https://localhost:8080/",
          "height": 35
        },
        "id": "J92ifn6gl4EM",
        "outputId": "05f3c41f-445f-4a40-ae7c-f325e2a91e54"
      },
      "source": [
        "import os, math\n",
        "\n",
        "import tensorflow as tf\n",
        "import matplotlib.pyplot as plt\n",
        "import numpy as np\n",
        "\n",
        "from tensorflow import keras\n",
        "from tensorflow.keras.preprocessing.text import Tokenizer\n",
        "from tensorflow.keras.preprocessing.sequence import pad_sequences\n",
        "\n",
        "tf.__version__"
      ],
      "execution_count": 1,
      "outputs": [
        {
          "output_type": "execute_result",
          "data": {
            "application/vnd.google.colaboratory.intrinsic+json": {
              "type": "string"
            },
            "text/plain": [
              "'2.6.0'"
            ]
          },
          "metadata": {},
          "execution_count": 1
        }
      ]
    },
    {
      "cell_type": "markdown",
      "metadata": {
        "id": "FANjKiuypCcd"
      },
      "source": [
        "### Data\n",
        "\n",
        "We will be using the [Europarl dataset](http://www.statmt.org/europarl/) which contains pairs of most European laugauges. We are going to load the data as using the following helper function that was found [here](https://github.com/Hvass-Labs/TensorFlow-Tutorials/blob/master/europarl.py)."
      ]
    },
    {
      "cell_type": "code",
      "metadata": {
        "id": "RDUidKLBputN"
      },
      "source": [
        "import urllib.request\n",
        "import tarfile, zipfile, sys\n",
        "\n",
        "\n",
        "class Download:\n",
        "  def __init__(self):\n",
        "    pass\n",
        "  def _print_download_progress(self, count, block_size, total_size):\n",
        "      # Percentage completion.\n",
        "      pct_complete = float(count * block_size) / total_size\n",
        "\n",
        "      # Limit it because rounding errors may cause it to exceed 100%.\n",
        "      pct_complete = min(1.0, pct_complete)\n",
        "\n",
        "      # Status-message. Note the \\r which means the line should overwrite itself.\n",
        "      msg = \"\\r- Download progress: {0:.1%}\".format(pct_complete)\n",
        "\n",
        "      # Print it.\n",
        "      sys.stdout.write(msg)\n",
        "      sys.stdout.flush()\n",
        "\n",
        "  def download(self, base_url, filename, download_dir):\n",
        "      save_path = os.path.join(download_dir, filename)\n",
        "\n",
        "      # Check if the file already exists, otherwise we need to download it now.\n",
        "      if not os.path.exists(save_path):\n",
        "          # Check if the download directory exists, otherwise create it.\n",
        "          if not os.path.exists(download_dir):\n",
        "              os.makedirs(download_dir)\n",
        "\n",
        "          print(\"Downloading\", filename, \"...\")\n",
        "\n",
        "          # Download the file from the internet.\n",
        "          url = base_url + filename\n",
        "          file_path, _ = urllib.request.urlretrieve(url=url,\n",
        "                                                    filename=save_path,\n",
        "                                                    reporthook=self._print_download_progress)\n",
        "\n",
        "          print(\" Done!\")\n",
        "\n",
        "\n",
        "  def maybe_download_and_extract(self, url, download_dir):\n",
        "      filename = url.split('/')[-1]\n",
        "      file_path = os.path.join(download_dir, filename)\n",
        "      if not os.path.exists(file_path):\n",
        "          if not os.path.exists(download_dir):\n",
        "              os.makedirs(download_dir)\n",
        "\n",
        "          # Download the file from the internet.\n",
        "          file_path, _ = urllib.request.urlretrieve(url=url,\n",
        "                                                    filename=file_path,\n",
        "                                                    reporthook=self._print_download_progress)\n",
        "\n",
        "          print()\n",
        "          print(\"Download finished. Extracting files.\")\n",
        "\n",
        "          if file_path.endswith(\".zip\"):\n",
        "              # Unpack the zip-file.\n",
        "              zipfile.ZipFile(file=file_path, mode=\"r\").extractall(download_dir)\n",
        "          elif file_path.endswith((\".tar.gz\", \".tgz\")):\n",
        "              # Unpack the tar-ball.\n",
        "              tarfile.open(name=file_path, mode=\"r:gz\").extractall(download_dir)\n",
        "\n",
        "          print(\"Done.\")\n",
        "      else:\n",
        "          print(\"Data has apparently already been downloaded and unpacked.\")\n",
        "\n",
        "download = Download()"
      ],
      "execution_count": 14,
      "outputs": []
    },
    {
      "cell_type": "code",
      "metadata": {
        "id": "y2bZia5TsMH1"
      },
      "source": [
        ""
      ],
      "execution_count": 14,
      "outputs": []
    },
    {
      "cell_type": "code",
      "metadata": {
        "id": "KnFYFM9AmRaT"
      },
      "source": [
        "class Europal:\n",
        "  data_dir = \"data/europarl/\"\n",
        "  data_url = \"http://www.statmt.org/europarl/v7/\"\n",
        "\n",
        "  def __init__(self):\n",
        "    pass\n",
        "\n",
        "  def maybe_download_and_extract(self, language_code=\"da\"):\n",
        "    url = self.data_url + language_code + \"-en.tgz\"\n",
        "    download.maybe_download_and_extract(url=url, download_dir=self.data_dir)\n",
        "  \n",
        "  def load_data(self, english=True, language_code=\"da\", start=\"\", end=\"\"):\n",
        "    if english:\n",
        "        # Load the English data.\n",
        "        filename = \"europarl-v7.{0}-en.en\".format(language_code)\n",
        "    else:\n",
        "        # Load the other language.\n",
        "        filename = \"europarl-v7.{0}-en.{0}\".format(language_code)\n",
        "\n",
        "    path = os.path.join(self.data_dir, filename)\n",
        "\n",
        "    with open(path, encoding=\"utf-8\") as file:\n",
        "      texts = [start + line.strip() + end for line in file]\n",
        "    return texts\n",
        "\n",
        "\n",
        "  "
      ],
      "execution_count": 21,
      "outputs": []
    },
    {
      "cell_type": "code",
      "metadata": {
        "id": "jJksOCIEmRXF"
      },
      "source": [
        "europal = Europal()"
      ],
      "execution_count": 22,
      "outputs": []
    },
    {
      "cell_type": "code",
      "metadata": {
        "id": "DK4XFP9BmRUG"
      },
      "source": [
        "language_code='da'\n",
        "mark_start = 'sos '\n",
        "mark_end = ' eos'"
      ],
      "execution_count": 47,
      "outputs": []
    },
    {
      "cell_type": "code",
      "metadata": {
        "colab": {
          "base_uri": "https://localhost:8080/"
        },
        "id": "3izn34d5mRQ_",
        "outputId": "da46de80-0cdc-4971-bffa-fccc29f35eec"
      },
      "source": [
        "europal.maybe_download_and_extract(language_code=language_code)"
      ],
      "execution_count": 24,
      "outputs": [
        {
          "output_type": "stream",
          "name": "stdout",
          "text": [
            "Data has apparently already been downloaded and unpacked.\n"
          ]
        }
      ]
    },
    {
      "cell_type": "markdown",
      "metadata": {
        "id": "62LYPWv5sXz3"
      },
      "source": [
        "### Now we can load the Sourc and the Target text from the dataset."
      ]
    },
    {
      "cell_type": "code",
      "metadata": {
        "id": "ym6t2xnNmRN-"
      },
      "source": [
        "data_src = europal.load_data(english=False,\n",
        "                              language_code=language_code)\n",
        "\n",
        "data_trg = europal.load_data(english=True,\n",
        "                              language_code=language_code,\n",
        "                              start=mark_start,\n",
        "                              end=mark_end\n",
        "                              )"
      ],
      "execution_count": 25,
      "outputs": []
    },
    {
      "cell_type": "markdown",
      "metadata": {
        "id": "htNlMG9OstWw"
      },
      "source": [
        "> We will be building a model that translate text from `danish` to `english`.\n",
        "\n",
        "\n",
        "### Checking examples"
      ]
    },
    {
      "cell_type": "code",
      "metadata": {
        "colab": {
          "base_uri": "https://localhost:8080/",
          "height": 35
        },
        "id": "JMH55G9LmRLR",
        "outputId": "0d9cceec-75b0-4d72-c5a5-582af71e0662"
      },
      "source": [
        "data_src[0]"
      ],
      "execution_count": 26,
      "outputs": [
        {
          "output_type": "execute_result",
          "data": {
            "application/vnd.google.colaboratory.intrinsic+json": {
              "type": "string"
            },
            "text/plain": [
              "'Genoptagelse af sessionen'"
            ]
          },
          "metadata": {},
          "execution_count": 26
        }
      ]
    },
    {
      "cell_type": "code",
      "metadata": {
        "colab": {
          "base_uri": "https://localhost:8080/",
          "height": 35
        },
        "id": "JEP-Ix5omRIo",
        "outputId": "931ca2f3-c94c-4e25-fad4-ac1b04cbad61"
      },
      "source": [
        "data_trg[0]"
      ],
      "execution_count": 27,
      "outputs": [
        {
          "output_type": "execute_result",
          "data": {
            "application/vnd.google.colaboratory.intrinsic+json": {
              "type": "string"
            },
            "text/plain": [
              "'<sos> Resumption of the session <eos>'"
            ]
          },
          "metadata": {},
          "execution_count": 27
        }
      ]
    },
    {
      "cell_type": "markdown",
      "metadata": {
        "id": "6W2ivxrStJVE"
      },
      "source": [
        "### Error in Data\n",
        "\n",
        "The data-set contains about 2 million sentence-pairs. Some of the data is incorrect. "
      ]
    },
    {
      "cell_type": "code",
      "metadata": {
        "id": "c-IIMsOpmRFz"
      },
      "source": [
        "idx = 8002\n"
      ],
      "execution_count": 28,
      "outputs": []
    },
    {
      "cell_type": "code",
      "metadata": {
        "colab": {
          "base_uri": "https://localhost:8080/",
          "height": 222
        },
        "id": "NQcSk1P1mRCw",
        "outputId": "a0565eb8-f7ea-4683-c59b-ea0a58fa7bd3"
      },
      "source": [
        "data_src[idx]"
      ],
      "execution_count": 29,
      "outputs": [
        {
          "output_type": "execute_result",
          "data": {
            "application/vnd.google.colaboratory.intrinsic+json": {
              "type": "string"
            },
            "text/plain": [
              "'\"Car il savait ce que cette foule en joie ignorait, et qu\\'on peut lire dans les livres, que le bacille de la peste ne meurt ni ne disparaît jamais, qu\\'il peut rester pendant des dizaines d\\'années endormi dans les meubles et le linge, qu\\'il attend patiemment dans les chambres, les caves, les malles, les mouchoirs et les paperasses, et que, peut-être, le jour viendrait où, pour le malheur et l\\'enseignement des hommes, la peste réveillerait ses rats et les enverrait mourir dans une cité heureuse.\" (Thi han vidste det, som denne glade forsamling ikke vidste, og som man kan læse i bøger, at pestens bacille aldrig dør og aldrig forsvinder, at den kan sove i mange år i møbler og linned, at den venter tålmodigt i kamre, kældre, kufferter, lommetørklæder og papirer, og at den dag måske kommer, hvor pesten til menneskenes skade og oplysning vågner sine rotter og sender dem ud for at dø i en lykkelig by.)'"
            ]
          },
          "metadata": {},
          "execution_count": 29
        }
      ]
    },
    {
      "cell_type": "code",
      "metadata": {
        "colab": {
          "base_uri": "https://localhost:8080/",
          "height": 120
        },
        "id": "vJh-grZvmRAM",
        "outputId": "79623342-986c-4531-d6aa-6e7b7423056c"
      },
      "source": [
        "data_trg[idx]"
      ],
      "execution_count": 31,
      "outputs": [
        {
          "output_type": "execute_result",
          "data": {
            "application/vnd.google.colaboratory.intrinsic+json": {
              "type": "string"
            },
            "text/plain": [
              "'<sos> \"He knew what those jubilant crowds did not know but could have learned from books: that the plague bacillus never dies or disappears for good; that it can lie dormant for years and years in furniture and linen-chests; that it bides its time in bedrooms, cellars, trunks, and bookshelves; and that perhaps the day would come when, for the bane and the enlightening of men, it would rouse up its rats again and send them forth to die in a happy city.\" <eos>'"
            ]
          },
          "metadata": {},
          "execution_count": 31
        }
      ]
    },
    {
      "cell_type": "markdown",
      "metadata": {
        "id": "707mf_pPuyHv"
      },
      "source": [
        "### Tokenizer\n",
        "\n",
        "We need to converts text into numbers. We are going to do the following:\n",
        "\n",
        "1. convert text-words into so-called integer-tokens\n",
        "2. we are going to padd the tokens so that they will have the same length.\n",
        "3. convert integer-tokens into vectors of floating-point numbers using a so-called embedding-layer.\n",
        "\n",
        "> _We are going to set the maximum number of words in the vocabulary to `10_000`. which means any word that lies outside the top `10_000` will be automatically conveted to unknown_. This is very important because some of the words just apppeared once in the corpus so they may not be that important.\n",
        "\n"
      ]
    },
    {
      "cell_type": "code",
      "metadata": {
        "id": "hR6ppGlKmQ9l"
      },
      "source": [
        "num_words = 10_000"
      ],
      "execution_count": 19,
      "outputs": []
    },
    {
      "cell_type": "code",
      "metadata": {
        "id": "oYFziyh7mQ6s"
      },
      "source": [
        "class TokenizerWrap(Tokenizer):\n",
        "\n",
        "  def __init__(self, texts, padding, reverse=False, num_words =None):\n",
        "\n",
        "    Tokenizer.__init__(self, num_words= num_words)\n",
        "    self.fit_on_texts(texts)\n",
        "    self.index_to_word = dict(zip(self.word_index.values(),\n",
        "                                      self.word_index.keys()))\n",
        "    self.tokens = self.texts_to_sequences(texts)\n",
        "\n",
        "    if reverse:\n",
        "       self.tokens = [list(reversed(x)) for x in self.tokens]\n",
        "       truncating = 'pre'\n",
        "    else:\n",
        "      truncating = 'post'\n",
        "\n",
        "    self.num_tokens = [len(x) for x in self.tokens]\n",
        "    self.max_tokens = np.mean(self.num_tokens)  + 2 * np.std(self.num_tokens)\n",
        "    self.max_tokens = int(self.max_tokens)\n",
        "    self.tokens_padded = pad_sequences(self.tokens,\n",
        "                                           maxlen=self.max_tokens,\n",
        "                                           padding=padding,\n",
        "                                           truncating=truncating)\n",
        "    \n",
        "  def token_to_word(self, token):\n",
        "    return \" \" if token == 0 else self.index_to_word[token]\n",
        "\n",
        "  def tokens_to_string(self, tokens):\n",
        "    words = [self.index_to_word[token]\n",
        "                 for token in tokens\n",
        "                 if token != 0]\n",
        "    return  \" \".join(words)\n",
        "\n",
        "  def text_to_tokens(self, text, reverse=False, padding=False):\n",
        "      tokens = self.texts_to_sequences([text])\n",
        "      tokens = np.array(tokens) \n",
        "      if reverse:\n",
        "        tokens = np.flip(tokens, axis=1)\n",
        "        truncating = 'pre'\n",
        "      else:\n",
        "        truncating = 'post'\n",
        "\n",
        "      if padding:\n",
        "        return pad_sequences(tokens,\n",
        "                                    maxlen=self.max_tokens,\n",
        "                                    padding='pre',\n",
        "                                    truncating=truncating)\n",
        "      "
      ],
      "execution_count": 40,
      "outputs": []
    },
    {
      "cell_type": "markdown",
      "metadata": {
        "id": "OP90-u4nxwSl"
      },
      "source": [
        "### SRC language tokenizer\n",
        "\n",
        "Now we are going to create the tokenizer of the `src` language.\n",
        "\n",
        "> Note that we pad zeros at the beginning ``('pre')`` of the sequences. We also reverse the sequences of tokens because the research literature suggests that this might improve performance, because the last words seen by the encoder match the first words produced by the decoder, so short-term dependencies are supposedly modelled more accurately."
      ]
    },
    {
      "cell_type": "code",
      "metadata": {
        "id": "PVyKbZd9mQ3_"
      },
      "source": [
        "tokenizer_src = TokenizerWrap(texts=data_src,\n",
        "                              padding='pre',\n",
        "                              reverse=True,\n",
        "                              num_words=num_words)"
      ],
      "execution_count": 41,
      "outputs": []
    },
    {
      "cell_type": "markdown",
      "metadata": {
        "id": "lBRp9VVhyJMy"
      },
      "source": [
        "### TRG tokenizer for the destination language.\n",
        "> Note that this tokenizer does not reverse the sequences and it pads zeros at the end ``('post')`` of the arrays."
      ]
    },
    {
      "cell_type": "code",
      "metadata": {
        "id": "ab8OHT-pmQyY"
      },
      "source": [
        "tokenizer_trg = TokenizerWrap(texts=data_trg,\n",
        "                               padding='post',\n",
        "                               reverse=False,\n",
        "                               num_words=num_words)"
      ],
      "execution_count": 42,
      "outputs": []
    },
    {
      "cell_type": "markdown",
      "metadata": {
        "id": "FQo6lXwBykYP"
      },
      "source": [
        "> Note that the sequence-lengths are different for the source and destination languages. This is because texts with the same meaning may have different numbers of words in the two languages.\n",
        "\n",
        "> Furthermore, we have made a compromise when tokenizing the original texts in order to save a lot of memory. This means we only truncate about 5% of the texts."
      ]
    },
    {
      "cell_type": "code",
      "metadata": {
        "colab": {
          "base_uri": "https://localhost:8080/"
        },
        "id": "Jgwh9ObPmQvX",
        "outputId": "b636cfa6-be99-4f0d-fa21-263a8f1e2ac4"
      },
      "source": [
        "tokens_src = tokenizer_src.tokens_padded\n",
        "tokens_trg = tokenizer_trg.tokens_padded\n",
        "print(tokens_src.shape)\n",
        "print(tokens_trg.shape)"
      ],
      "execution_count": 44,
      "outputs": [
        {
          "output_type": "stream",
          "name": "stdout",
          "text": [
            "(1968800, 47)\n",
            "(1968800, 55)\n"
          ]
        }
      ]
    },
    {
      "cell_type": "markdown",
      "metadata": {
        "id": "JD1SrEcGyyTF"
      },
      "source": [
        "### Start and end tokens"
      ]
    },
    {
      "cell_type": "code",
      "metadata": {
        "colab": {
          "base_uri": "https://localhost:8080/"
        },
        "id": "uEDM9m4Vyz1Q",
        "outputId": "f98737d2-09c6-4700-8d61-b443dd977aa4"
      },
      "source": [
        "token_start = tokenizer_trg.word_index[mark_start.strip()]\n",
        "token_end = tokenizer_trg.word_index[mark_end.strip()]\n",
        "\n",
        "token_start, token_end"
      ],
      "execution_count": 49,
      "outputs": [
        {
          "output_type": "execute_result",
          "data": {
            "text/plain": [
              "(2, 3)"
            ]
          },
          "metadata": {},
          "execution_count": 49
        }
      ]
    },
    {
      "cell_type": "markdown",
      "metadata": {
        "id": "2cElpqPzzAbI"
      },
      "source": [
        "### Example of Token Sequences"
      ]
    },
    {
      "cell_type": "code",
      "metadata": {
        "colab": {
          "base_uri": "https://localhost:8080/"
        },
        "id": "PbzARfE5zBne",
        "outputId": "336aa8d8-4537-4955-d651-d5c8ac0b4f54"
      },
      "source": [
        "tokens_src[0]"
      ],
      "execution_count": 50,
      "outputs": [
        {
          "output_type": "execute_result",
          "data": {
            "text/plain": [
              "array([   0,    0,    0,    0,    0,    0,    0,    0,    0,    0,    0,\n",
              "          0,    0,    0,    0,    0,    0,    0,    0,    0,    0,    0,\n",
              "          0,    0,    0,    0,    0,    0,    0,    0,    0,    0,    0,\n",
              "          0,    0,    0,    0,    0,    0,    0,    0,    0,    0,    0,\n",
              "       6108,    7, 5243], dtype=int32)"
            ]
          },
          "metadata": {},
          "execution_count": 50
        }
      ]
    },
    {
      "cell_type": "code",
      "metadata": {
        "colab": {
          "base_uri": "https://localhost:8080/",
          "height": 35
        },
        "id": "kP7OzUmEzJX-",
        "outputId": "222195d1-3396-46c4-b0f9-77a58a35808e"
      },
      "source": [
        "tokenizer_src.tokens_to_string(tokens_src[0])"
      ],
      "execution_count": 51,
      "outputs": [
        {
          "output_type": "execute_result",
          "data": {
            "application/vnd.google.colaboratory.intrinsic+json": {
              "type": "string"
            },
            "text/plain": [
              "'sessionen af genoptagelse'"
            ]
          },
          "metadata": {},
          "execution_count": 51
        }
      ]
    },
    {
      "cell_type": "code",
      "metadata": {
        "colab": {
          "base_uri": "https://localhost:8080/"
        },
        "id": "y7BqcCb1z_eC",
        "outputId": "8b8c3456-feed-431b-a259-cf97a25b99ca"
      },
      "source": [
        "tokens_trg[0]"
      ],
      "execution_count": 53,
      "outputs": [
        {
          "output_type": "execute_result",
          "data": {
            "text/plain": [
              "array([   2, 4825,    4,    1, 1122,    3,    0,    0,    0,    0,    0,\n",
              "          0,    0,    0,    0,    0,    0,    0,    0,    0,    0,    0,\n",
              "          0,    0,    0,    0,    0,    0,    0,    0,    0,    0,    0,\n",
              "          0,    0,    0,    0,    0,    0,    0,    0,    0,    0,    0,\n",
              "          0,    0,    0,    0,    0,    0,    0,    0,    0,    0,    0],\n",
              "      dtype=int32)"
            ]
          },
          "metadata": {},
          "execution_count": 53
        }
      ]
    },
    {
      "cell_type": "code",
      "metadata": {
        "colab": {
          "base_uri": "https://localhost:8080/",
          "height": 35
        },
        "id": "3Dc8V65sz_XX",
        "outputId": "1ef016cd-cde2-45cb-82a4-6e3b48817d56"
      },
      "source": [
        "tokenizer_trg.tokens_to_string(tokens_trg[0])"
      ],
      "execution_count": 56,
      "outputs": [
        {
          "output_type": "execute_result",
          "data": {
            "application/vnd.google.colaboratory.intrinsic+json": {
              "type": "string"
            },
            "text/plain": [
              "'sos resumption of the session eos'"
            ]
          },
          "metadata": {},
          "execution_count": 56
        }
      ]
    },
    {
      "cell_type": "markdown",
      "metadata": {
        "id": "dXdKJLQ80P37"
      },
      "source": [
        "the original sentence in the dataset."
      ]
    },
    {
      "cell_type": "code",
      "metadata": {
        "colab": {
          "base_uri": "https://localhost:8080/",
          "height": 35
        },
        "id": "ZsSyHokz0Pe0",
        "outputId": "92f4c8d8-1665-4947-c1a6-6c5d1be61020"
      },
      "source": [
        "data_trg[0]"
      ],
      "execution_count": 55,
      "outputs": [
        {
          "output_type": "execute_result",
          "data": {
            "application/vnd.google.colaboratory.intrinsic+json": {
              "type": "string"
            },
            "text/plain": [
              "'<sos> Resumption of the session <eos>'"
            ]
          },
          "metadata": {},
          "execution_count": 55
        }
      ]
    },
    {
      "cell_type": "markdown",
      "metadata": {
        "id": "YqCA1mbJ0Vos"
      },
      "source": [
        "### Training data.\n",
        "\n",
        "Now that the data-set has been converted to sequences of integer-tokens that are padded and truncated and saved in numpy arrays, we can easily prepare the data for use in training the neural network.\n",
        "\n",
        "### Encoder inputs\n",
        "\n",
        "The input to the encoder is merely the numpy array for the padded and truncated sequences of integer-tokens produced by the tokenizer:"
      ]
    },
    {
      "cell_type": "code",
      "metadata": {
        "id": "XJIVa1lp0huR"
      },
      "source": [
        "encoder_input_data = tokens_src"
      ],
      "execution_count": 57,
      "outputs": []
    },
    {
      "cell_type": "markdown",
      "metadata": {
        "id": "VNRjmvOe0sdm"
      },
      "source": [
        "### Decoder Inputs and Outputs\n",
        "\n",
        "The input and output data for the decoder is identical, except shifted one time-step. We can use the same numpy array to save memory by slicing it, which merely creates different 'views' of the same data in memory."
      ]
    },
    {
      "cell_type": "code",
      "metadata": {
        "colab": {
          "base_uri": "https://localhost:8080/"
        },
        "id": "rgzpJfEt1xSN",
        "outputId": "4c4034af-914d-4c11-dc55-26fe47563d08"
      },
      "source": [
        "tokens_trg"
      ],
      "execution_count": 58,
      "outputs": [
        {
          "output_type": "execute_result",
          "data": {
            "text/plain": [
              "array([[   2, 4825,    4, ...,    0,    0,    0],\n",
              "       [   2,   13, 2721, ...,    0,    0,    0],\n",
              "       [   2,  404,   19, ...,    0,    0,    0],\n",
              "       ...,\n",
              "       [   2, 7773,    4, ...,    0,    0,    0],\n",
              "       [   2,   13, 2721, ...,    0,    0,    0],\n",
              "       [   2,    1,  954, ...,    0,    0,    0]], dtype=int32)"
            ]
          },
          "metadata": {},
          "execution_count": 58
        }
      ]
    },
    {
      "cell_type": "code",
      "metadata": {
        "colab": {
          "base_uri": "https://localhost:8080/"
        },
        "id": "8ndlu2ed2GBY",
        "outputId": "bf2f1377-83cf-4921-9c25-57d98845a0ea"
      },
      "source": [
        "tokens_trg.shape"
      ],
      "execution_count": 61,
      "outputs": [
        {
          "output_type": "execute_result",
          "data": {
            "text/plain": [
              "(1968800, 55)"
            ]
          },
          "metadata": {},
          "execution_count": 61
        }
      ]
    },
    {
      "cell_type": "code",
      "metadata": {
        "colab": {
          "base_uri": "https://localhost:8080/"
        },
        "id": "aMZ8XiNoz_SQ",
        "outputId": "e0d22827-830a-46b7-a8ad-2458fb476eb7"
      },
      "source": [
        "decoder_input_data = tokens_trg[:, :-1]\n",
        "decoder_input_data.shape"
      ],
      "execution_count": 62,
      "outputs": [
        {
          "output_type": "execute_result",
          "data": {
            "text/plain": [
              "(1968800, 54)"
            ]
          },
          "metadata": {},
          "execution_count": 62
        }
      ]
    },
    {
      "cell_type": "code",
      "metadata": {
        "colab": {
          "base_uri": "https://localhost:8080/"
        },
        "id": "1nue6gD-2Reu",
        "outputId": "2cd4b3ef-9c95-423b-8bd2-75b9e352df4c"
      },
      "source": [
        "decoder_output_data  = tokens_trg[:, 1: ]\n",
        "decoder_output_data.shape"
      ],
      "execution_count": 64,
      "outputs": [
        {
          "output_type": "execute_result",
          "data": {
            "text/plain": [
              "(1968800, 54)"
            ]
          },
          "metadata": {},
          "execution_count": 64
        }
      ]
    },
    {
      "cell_type": "markdown",
      "metadata": {
        "id": "K_yjQHJY2ago"
      },
      "source": [
        "> _These token-sequences are identical except they are shifted one time-step_."
      ]
    },
    {
      "cell_type": "code",
      "metadata": {
        "colab": {
          "base_uri": "https://localhost:8080/"
        },
        "id": "TzjkzngZ2aVu",
        "outputId": "1a36500b-fc6a-4e93-ebb7-f2e566244895"
      },
      "source": [
        "decoder_input_data[0]"
      ],
      "execution_count": 65,
      "outputs": [
        {
          "output_type": "execute_result",
          "data": {
            "text/plain": [
              "array([   2, 4825,    4,    1, 1122,    3,    0,    0,    0,    0,    0,\n",
              "          0,    0,    0,    0,    0,    0,    0,    0,    0,    0,    0,\n",
              "          0,    0,    0,    0,    0,    0,    0,    0,    0,    0,    0,\n",
              "          0,    0,    0,    0,    0,    0,    0,    0,    0,    0,    0,\n",
              "          0,    0,    0,    0,    0,    0,    0,    0,    0,    0],\n",
              "      dtype=int32)"
            ]
          },
          "metadata": {},
          "execution_count": 65
        }
      ]
    },
    {
      "cell_type": "code",
      "metadata": {
        "colab": {
          "base_uri": "https://localhost:8080/"
        },
        "id": "4gXb63M7z_Pe",
        "outputId": "4e4b7c3d-a022-4115-e40a-8eaf8ed3e959"
      },
      "source": [
        "decoder_output_data[0]"
      ],
      "execution_count": 66,
      "outputs": [
        {
          "output_type": "execute_result",
          "data": {
            "text/plain": [
              "array([4825,    4,    1, 1122,    3,    0,    0,    0,    0,    0,    0,\n",
              "          0,    0,    0,    0,    0,    0,    0,    0,    0,    0,    0,\n",
              "          0,    0,    0,    0,    0,    0,    0,    0,    0,    0,    0,\n",
              "          0,    0,    0,    0,    0,    0,    0,    0,    0,    0,    0,\n",
              "          0,    0,    0,    0,    0,    0,    0,    0,    0,    0],\n",
              "      dtype=int32)"
            ]
          },
          "metadata": {},
          "execution_count": 66
        }
      ]
    },
    {
      "cell_type": "markdown",
      "metadata": {
        "id": "m9sTmspN2mWd"
      },
      "source": [
        "If we use the tokenizer to convert these sequences back into text, we see that they are identical except for the first word which is 'sos' that marks the beginning of a text."
      ]
    },
    {
      "cell_type": "code",
      "metadata": {
        "colab": {
          "base_uri": "https://localhost:8080/",
          "height": 86
        },
        "id": "6ce0fKNYz_M4",
        "outputId": "735d523b-ed2e-448e-b7d0-cad8c92d16e6"
      },
      "source": [
        "tokenizer_trg.tokens_to_string(decoder_input_data[idx])"
      ],
      "execution_count": 67,
      "outputs": [
        {
          "output_type": "execute_result",
          "data": {
            "application/vnd.google.colaboratory.intrinsic+json": {
              "type": "string"
            },
            "text/plain": [
              "'sos he knew what those did not know but could have learned from books that the never or for good that it can lie for years and years in and that it its time in and and that perhaps the day would come when for the and the of men it would up its'"
            ]
          },
          "metadata": {},
          "execution_count": 67
        }
      ]
    },
    {
      "cell_type": "code",
      "metadata": {
        "colab": {
          "base_uri": "https://localhost:8080/",
          "height": 86
        },
        "id": "u412CRXQ2sQ2",
        "outputId": "cdac371b-5959-47a5-97b7-eef91c0c83c6"
      },
      "source": [
        "tokenizer_trg.tokens_to_string(decoder_output_data[idx])"
      ],
      "execution_count": 68,
      "outputs": [
        {
          "output_type": "execute_result",
          "data": {
            "application/vnd.google.colaboratory.intrinsic+json": {
              "type": "string"
            },
            "text/plain": [
              "'he knew what those did not know but could have learned from books that the never or for good that it can lie for years and years in and that it its time in and and that perhaps the day would come when for the and the of men it would up its again'"
            ]
          },
          "metadata": {},
          "execution_count": 68
        }
      ]
    },
    {
      "cell_type": "markdown",
      "metadata": {
        "id": "TbCTJECF2yyv"
      },
      "source": [
        "### Creating a NN\n",
        "\n",
        "### Encoder\n",
        "First we will create an encoder, it maps sequence of integers to a thought vector. We are going to use the functional API from keras which is more flexible than the sequential api."
      ]
    },
    {
      "cell_type": "code",
      "metadata": {
        "id": "oIUK0BP72yIX"
      },
      "source": [
        "encoder_input = keras.layers.Input(shape=(None, ), name='encoder_input')"
      ],
      "execution_count": 70,
      "outputs": []
    },
    {
      "cell_type": "code",
      "metadata": {
        "id": "UpLdhgf42yFy"
      },
      "source": [
        "embedding_size = 128\n",
        "\n",
        "encoder_embedding = keras.layers.Embedding(input_dim=num_words,\n",
        "                              output_dim=embedding_size,\n",
        "                              name='encoder_embedding')"
      ],
      "execution_count": 71,
      "outputs": []
    },
    {
      "cell_type": "markdown",
      "metadata": {
        "id": "JRzlxgnd3vUm"
      },
      "source": [
        "Next we are going to create 3 GRU's. Note that on the last GRU we are not returning `sequences` and the state size of all these GRU's will be 512."
      ]
    },
    {
      "cell_type": "code",
      "metadata": {
        "id": "44JoKz9x2yCR"
      },
      "source": [
        "state_size = 512\n",
        "encoder_gru1 = keras.layers.GRU(state_size, name='encoder_gru1',\n",
        "                   return_sequences=True)\n",
        "encoder_gru2 = keras.layers.GRU(state_size, name='encoder_gru2',\n",
        "                   return_sequences=True)\n",
        "encoder_gru3 = keras.layers.GRU(state_size, name='encoder_gru3',\n",
        "                   return_sequences=False)"
      ],
      "execution_count": 73,
      "outputs": []
    },
    {
      "cell_type": "markdown",
      "metadata": {
        "id": "R9xIzxIZ4Pzs"
      },
      "source": [
        "Connecting te encoder layers.\n",
        "\n",
        "... we are going to create a helper function that will connect the layers of the encoder using the Functional API approach."
      ]
    },
    {
      "cell_type": "code",
      "metadata": {
        "id": "eKTXNvNt2x_l"
      },
      "source": [
        "def connect_encoder():\n",
        "  net = encoder_input\n",
        "  net = encoder_embedding(net)\n",
        "  net = encoder_gru1(net)\n",
        "  net = encoder_gru2(net)\n",
        "  net = encoder_gru3(net)\n",
        "  return net # encoder outputs"
      ],
      "execution_count": 74,
      "outputs": []
    },
    {
      "cell_type": "markdown",
      "metadata": {
        "id": "5r8zPh664y_-"
      },
      "source": [
        "> _Note how the encoder uses the normal output from its last GRU-layer as the \"thought vector\". Research papers often use the internal state of the encoder's last recurrent layer as the \"thought vector\". But this makes the implementation more complicated and is not necessary when using the GRU. But if you were using the LSTM instead then it is necessary to use the LSTM's internal states as the \"thought vector\" because it actually has two internal vectors, which we would need to initialize the two internal states of the decoder's LSTM units._"
      ]
    },
    {
      "cell_type": "code",
      "metadata": {
        "id": "CUtpmthX2x8m"
      },
      "source": [
        "encoder_output = connect_encoder()"
      ],
      "execution_count": 75,
      "outputs": []
    },
    {
      "cell_type": "markdown",
      "metadata": {
        "id": "jDOMfKwm44xl"
      },
      "source": [
        "### Decoder\n",
        "\n",
        "Create the decoder-part which maps the \"thought vector\" to a sequence of integer-tokens.\n",
        "\n",
        "The decoder takes two inputs. First it needs the \"thought vector\" produced by the encoder which summarizes the contents of the input-text."
      ]
    },
    {
      "cell_type": "code",
      "metadata": {
        "id": "euEC21Zs2x6P"
      },
      "source": [
        "decoder_initial_state = keras.layers.Input(shape=(state_size,),\n",
        "                              name='decoder_initial_state')"
      ],
      "execution_count": 76,
      "outputs": []
    },
    {
      "cell_type": "markdown",
      "metadata": {
        "id": "Og2wR7bc5I3m"
      },
      "source": [
        "The decoder also needs a sequence of integer-tokens as inputs. During training we will supply this with a full sequence of integer-tokens e.g. corresponding to the text \"sos once upon a time eos\"\n",
        "\n",
        "During inference when we are translating new input-texts, we will start by feeding a sequence with just one integer-token for \"esos\" which marks the beginning of a text, and combined with the \"thought vector\" from the encoder, the decoder will hopefully be able to produce the correct next word e.g. \"once\"."
      ]
    },
    {
      "cell_type": "code",
      "metadata": {
        "id": "SwXOM2_42x2r"
      },
      "source": [
        "decoder_input = keras.layers.Input(shape=(None, ), name='decoder_input')"
      ],
      "execution_count": 78,
      "outputs": []
    },
    {
      "cell_type": "markdown",
      "metadata": {
        "id": "co5Vir3q5kS-"
      },
      "source": [
        "... the decoder embedding layer convers integer tokens to floating values between -1 and 1."
      ]
    },
    {
      "cell_type": "code",
      "metadata": {
        "id": "N20vxrJ02x0C"
      },
      "source": [
        "decoder_embedding = keras.layers.Embedding(input_dim=num_words,\n",
        "                              output_dim=embedding_size,\n",
        "                              name='decoder_embedding')"
      ],
      "execution_count": 79,
      "outputs": []
    },
    {
      "cell_type": "markdown",
      "metadata": {
        "id": "y3udQAy-55Xh"
      },
      "source": [
        "We will then create 3 GRU layers of the decoder that will both return sequences.\n",
        "\n",
        "> _Note that they all return sequences because we ultimately want to output a sequence of integer-tokens that can be converted into a text-sequence._"
      ]
    },
    {
      "cell_type": "code",
      "metadata": {
        "id": "WJYqVJFk2xws"
      },
      "source": [
        "decoder_gru1 = keras.layers.GRU(state_size, name='decoder_gru1',\n",
        "                   return_sequences=True)\n",
        "decoder_gru2 = keras.layers.GRU(state_size, name='decoder_gru2',\n",
        "                   return_sequences=True)\n",
        "decoder_gru3 = keras.layers.GRU(state_size, name='decoder_gru3',\n",
        "                   return_sequences=True)"
      ],
      "execution_count": 80,
      "outputs": []
    },
    {
      "cell_type": "markdown",
      "metadata": {
        "id": "xNLlZKh16S_-"
      },
      "source": [
        "The GRU layers output a tensor with shape ``[batch_size, sequence_length, state_size]``, where each \"word\" is encoded as a vector of length ``state_size``. We need to convert this into sequences of integer-tokens that can be interpreted as words from our vocabulary."
      ]
    },
    {
      "cell_type": "code",
      "metadata": {
        "id": "Lk552yvA2xty"
      },
      "source": [
        "decoder_dense = keras.layers.Dense(num_words,\n",
        "                      activation='softmax',\n",
        "                      name='decoder_output')"
      ],
      "execution_count": 81,
      "outputs": []
    },
    {
      "cell_type": "markdown",
      "metadata": {
        "id": "Cm09pD_K6mer"
      },
      "source": [
        "The decoder is built using the functional API of Keras, which allows more flexibility in connecting the layers e.g. to route different inputs to the decoder. This is useful because we have to connect the decoder directly to the encoder, but we will also connect the decoder to another input so we can run it separately."
      ]
    },
    {
      "cell_type": "code",
      "metadata": {
        "id": "mp8fXUpz2xql"
      },
      "source": [
        "def connect_decoder(initial_state):\n",
        "  net = decoder_input\n",
        "  net = decoder_embedding(net)\n",
        "  net = decoder_gru1(net, initial_state=initial_state)\n",
        "  net = decoder_gru2(net, initial_state=initial_state)\n",
        "  net = decoder_gru3(net, initial_state=initial_state)\n",
        "\n",
        "  out = decoder_dense(net)\n",
        "  return out"
      ],
      "execution_count": 82,
      "outputs": []
    },
    {
      "cell_type": "markdown",
      "metadata": {
        "id": "yzm-YuWh68w1"
      },
      "source": [
        "### Connecting and creating a models\n",
        "\n",
        "_First we connect the encoder directly to the decoder so it is one whole model that can be trained end-to-end. This means the initial-state of the decoder's GRU units are set to the output of the encoder_\n",
        "\n"
      ]
    },
    {
      "cell_type": "code",
      "metadata": {
        "id": "95tvX9nj2xnv"
      },
      "source": [
        "decoder_output = connect_decoder(initial_state=encoder_output)\n",
        "\n",
        "model_train = keras.Model(inputs=[encoder_input, decoder_input],\n",
        "                    outputs=[decoder_output])"
      ],
      "execution_count": 84,
      "outputs": []
    },
    {
      "cell_type": "markdown",
      "metadata": {
        "id": "VKVbr9Nx7m-R"
      },
      "source": [
        "... then we create the encoder model serperately."
      ]
    },
    {
      "cell_type": "code",
      "metadata": {
        "id": "RaC6kmr72xlD"
      },
      "source": [
        "model_encoder = keras.Model(inputs=[encoder_input],\n",
        "                            outputs=[encoder_output])\n"
      ],
      "execution_count": 87,
      "outputs": []
    },
    {
      "cell_type": "markdown",
      "metadata": {
        "id": "w0G4a6kN73hI"
      },
      "source": [
        "... then we create the model decoder alone as well."
      ]
    },
    {
      "cell_type": "code",
      "metadata": {
        "id": "jneC5i9W723O"
      },
      "source": [
        "decoder_output = connect_decoder(initial_state=decoder_initial_state)\n",
        "\n",
        "model_decoder = keras.Model(inputs=[decoder_input, decoder_initial_state],\n",
        "                      outputs=[decoder_output])"
      ],
      "execution_count": 88,
      "outputs": []
    },
    {
      "cell_type": "markdown",
      "metadata": {
        "id": "M16MKc1d8XXW"
      },
      "source": [
        "### Plotting the models"
      ]
    },
    {
      "cell_type": "markdown",
      "metadata": {
        "id": "cTspfq1O8mlV"
      },
      "source": [
        "... train model"
      ]
    },
    {
      "cell_type": "code",
      "metadata": {
        "colab": {
          "base_uri": "https://localhost:8080/",
          "height": 600
        },
        "id": "3HJYS_Ku2xhm",
        "outputId": "1fdc5d0c-3e86-4c83-a1bc-d9aaf08c71a4"
      },
      "source": [
        "keras.utils.plot_model(model_train, dpi=64, show_shapes=True)"
      ],
      "execution_count": 89,
      "outputs": [
        {
          "output_type": "execute_result",
          "data": {
            "image/png": "[encoded data removed]",
            "text/plain": [
              "<IPython.core.display.Image object>"
            ]
          },
          "metadata": {},
          "execution_count": 89
        }
      ]
    },
    {
      "cell_type": "markdown",
      "metadata": {
        "id": "K9IFoVXe8qoc"
      },
      "source": [
        "...encoder model"
      ]
    },
    {
      "cell_type": "code",
      "metadata": {
        "colab": {
          "base_uri": "https://localhost:8080/",
          "height": 361
        },
        "id": "fR7pkTJs2xX0",
        "outputId": "77fe2a8f-0882-47d7-cf63-a55f903f3935"
      },
      "source": [
        "keras.utils.plot_model(model_encoder, dpi=64, show_shapes=True)"
      ],
      "execution_count": 90,
      "outputs": [
        {
          "output_type": "execute_result",
          "data": {
            "image/png": "[encoded data removed]",
            "text/plain": [
              "<IPython.core.display.Image object>"
            ]
          },
          "metadata": {},
          "execution_count": 90
        }
      ]
    },
    {
      "cell_type": "markdown",
      "metadata": {
        "id": "ZIoEX11R8xxG"
      },
      "source": [
        "...decoder model"
      ]
    },
    {
      "cell_type": "code",
      "metadata": {
        "colab": {
          "base_uri": "https://localhost:8080/",
          "height": 397
        },
        "id": "ekTr51dZ2xU3",
        "outputId": "ee6c1fda-9cfa-43b4-e1da-c12abfccf825"
      },
      "source": [
        "keras.utils.plot_model(model_decoder, dpi=64, show_shapes=True)"
      ],
      "execution_count": 91,
      "outputs": [
        {
          "output_type": "execute_result",
          "data": {
            "image/png": "[encoded data removed]",
            "text/plain": [
              "<IPython.core.display.Image object>"
            ]
          },
          "metadata": {},
          "execution_count": 91
        }
      ]
    },
    {
      "cell_type": "markdown",
      "metadata": {
        "id": "X6dcUtOX88du"
      },
      "source": [
        "### Compile the Model\n",
        "\n",
        "The output of the decoder is a sequence of one-hot encoded arrays. In order to train the decoder we need to supply the one-hot encoded arrays that we desire to see on the decoder's output, and then use a loss-function like cross-entropy to train the decoder to produce this desired output.\n",
        "\n",
        "\n",
        "However, our data-set contains integer-tokens instead of one-hot encoded arrays. Each one-hot encoded array has 10000 elements so it would be extremely wasteful to convert the entire data-set to one-hot encoded arrays.\n",
        "\n",
        "A better way is to use a so-called sparse cross-entropy loss-function, which does the conversion internally from integers to one-hot encoded arrays.\n",
        "\n"
      ]
    },
    {
      "cell_type": "code",
      "metadata": {
        "id": "RZkG8ilz8o_d"
      },
      "source": [
        "model_train.compile(optimizer=keras.optimizers.RMSprop(learning_rate=1e-3),\n",
        "                    loss='sparse_categorical_crossentropy')"
      ],
      "execution_count": 94,
      "outputs": []
    },
    {
      "cell_type": "markdown",
      "metadata": {
        "id": "xWB-bbg49Vsy"
      },
      "source": [
        "### Callback functions\n",
        "\n",
        "\n",
        "1. checkpoint\n"
      ]
    },
    {
      "cell_type": "code",
      "metadata": {
        "id": "MSRa67T12xSa"
      },
      "source": [
        "path_checkpoint = 'best-model-checkpoint.keras'\n",
        "callback_checkpoint = keras.callbacks.ModelCheckpoint(filepath=path_checkpoint,\n",
        "                                      monitor='val_loss',\n",
        "                                      verbose=1,\n",
        "                                      save_weights_only=True,\n",
        "                                      save_best_only=True\n",
        "                                      )"
      ],
      "execution_count": 96,
      "outputs": []
    },
    {
      "cell_type": "markdown",
      "metadata": {
        "id": "YVW3gTP09v8w"
      },
      "source": [
        "2. early stopping"
      ]
    },
    {
      "cell_type": "code",
      "metadata": {
        "id": "EX6Yr_Tj2xPm"
      },
      "source": [
        "callback_early_stopping = keras.callbacks.EarlyStopping(monitor='val_loss',\n",
        "                                        patience=3, verbose=1)"
      ],
      "execution_count": 97,
      "outputs": []
    },
    {
      "cell_type": "code",
      "metadata": {
        "id": "1HE_dyMy2xNe"
      },
      "source": [
        "callbacks = [\n",
        "      callback_checkpoint,\n",
        "      callback_early_stopping\n",
        "]"
      ],
      "execution_count": 98,
      "outputs": []
    },
    {
      "cell_type": "markdown",
      "metadata": {
        "id": "3J_VsIvS-CkN"
      },
      "source": [
        "### Trainning the model.\n",
        "\n",
        "We wrap the data in named dicts so we are sure the data is assigned correctly to the inputs and outputs of the model."
      ]
    },
    {
      "cell_type": "code",
      "metadata": {
        "id": "mUOOWBv-2xKA"
      },
      "source": [
        "x_data = {\n",
        "    'encoder_input': encoder_input_data,\n",
        "    'decoder_input': decoder_input_data\n",
        "}\n",
        "\n",
        "y_data = {\n",
        "    'decoder_output': decoder_output_data\n",
        "}"
      ],
      "execution_count": 99,
      "outputs": []
    },
    {
      "cell_type": "markdown",
      "metadata": {
        "id": "pjwWPzud-uLJ"
      },
      "source": [
        "Training this model, as single epoch will take aproximately an hour."
      ]
    },
    {
      "cell_type": "code",
      "metadata": {
        "id": "CcJQ6yUX2xHH"
      },
      "source": [
        "model_train.fit(x=x_data,\n",
        "                y=y_data,\n",
        "                batch_size=128,\n",
        "                epochs=10,\n",
        "                validation_split=.005,\n",
        "                callbacks=callbacks)"
      ],
      "execution_count": null,
      "outputs": []
    },
    {
      "cell_type": "markdown",
      "metadata": {
        "id": "Ti3cIBy6z97W"
      },
      "source": [
        "### Model inference"
      ]
    },
    {
      "cell_type": "code",
      "metadata": {
        "id": "GOYrtPMN-9EE"
      },
      "source": [
        "def translate(input_text, true_output_text=None):\n",
        "  input_tokens = tokenizer_src.text_to_tokens(text=input_text,\n",
        "                                                reverse=True,\n",
        "                                                padding=True)\n",
        "  initial_state = model_encoder.predict(input_tokens)\n",
        "  max_tokens = tokenizer_trg.max_tokens\n",
        "\n",
        "  decoder_input_data = np.zeros(shape=(1, max_tokens), dtype=np.int)\n",
        "  token_int = token_start\n",
        "  output_text = ''\n",
        "  count_tokens = 0\n",
        "  while token_int != token_end and count_tokens < max_tokens:\n",
        "     decoder_input_data[0, count_tokens] = token_int\n",
        "     x_data = {\n",
        "            'decoder_initial_state': initial_state,\n",
        "            'decoder_input': decoder_input_data\n",
        "     }\n",
        "     decoder_output = model_decoder.predict(x_data)\n",
        "     token_onehot = decoder_output[0, count_tokens, :]\n",
        "     token_int = np.argmax(token_onehot)\n",
        "     sampled_word = tokenizer_trg.token_to_word(token_int)\n",
        "     output_text += \" \" + sampled_word\n",
        "     count_tokens += 1\n",
        "  output_tokens = decoder_input_data[0]\n",
        "  print(\"Input text:\")\n",
        "  print(input_text)\n",
        "  print()\n",
        "\n",
        "  print(\"Translated text:\")\n",
        "  print(output_text)\n",
        "  print()\n",
        "\n",
        "  if true_output_text is not None:\n",
        "    print(\"True output text:\")\n",
        "    print(true_output_text)\n",
        "    print()"
      ],
      "execution_count": 103,
      "outputs": []
    },
    {
      "cell_type": "markdown",
      "metadata": {
        "id": "tQx0qoEQAXUn"
      },
      "source": [
        "### Examples\n",
        "\n",
        "We are going to use our train data."
      ]
    },
    {
      "cell_type": "code",
      "metadata": {
        "colab": {
          "base_uri": "https://localhost:8080/"
        },
        "id": "vGzfJUqIAWlw",
        "outputId": "1d70f505-216b-4e35-c738-a59166d8af46"
      },
      "source": [
        "idx = 3\n",
        "translate(input_text=data_src[idx],\n",
        "          true_output_text=data_trg[idx])"
      ],
      "execution_count": 104,
      "outputs": [
        {
          "output_type": "stream",
          "name": "stdout",
          "text": [
            "Input text:\n",
            "De har udtrykt ønske om en debat om dette emne i løbet af mødeperioden.\n",
            "\n",
            "Translated text:\n",
            " you have expressed a debate on this subject in the debate eos\n",
            "\n",
            "True output text:\n",
            "<sos> You have requested a debate on this subject in the course of the next few days, during this part-session. <eos>\n",
            "\n"
          ]
        }
      ]
    },
    {
      "cell_type": "code",
      "metadata": {
        "colab": {
          "base_uri": "https://localhost:8080/"
        },
        "id": "WYLagdrVA3ch",
        "outputId": "92753b92-ffb9-47ce-ccdc-5d1abc6513a7"
      },
      "source": [
        "idx = 4\n",
        "translate(input_text=data_src[idx],\n",
        "          true_output_text=data_trg[idx])"
      ],
      "execution_count": 105,
      "outputs": [
        {
          "output_type": "stream",
          "name": "stdout",
          "text": [
            "Input text:\n",
            "I mellemtiden ønsker jeg - som også en del kolleger har anmodet om - at vi iagttager et minuts stilhed til minde om ofrene for bl.a. stormene i de medlemslande, der blev ramt.\n",
            "\n",
            "Translated text:\n",
            " in the end of the day i would also like to ask you to remember the fact that we are talking about a number of member states including the victims of the disaster eos\n",
            "\n",
            "True output text:\n",
            "<sos> In the meantime, I should like to observe a minute' s silence, as a number of Members have requested, on behalf of all the victims concerned, particularly those of the terrible storms, in the various countries of the European Union. <eos>\n",
            "\n"
          ]
        }
      ]
    },
    {
      "cell_type": "markdown",
      "metadata": {
        "id": "0RNshSOkBB8-"
      },
      "source": [
        "from the user"
      ]
    },
    {
      "cell_type": "code",
      "metadata": {
        "colab": {
          "base_uri": "https://localhost:8080/"
        },
        "id": "W3ewsmzOBEW5",
        "outputId": "99ee0fc8-6a01-4b21-bf30-f7d4093b64ff"
      },
      "source": [
        "translate(input_text=\"der var engang et land der hed Danmark\",\n",
        "          true_output_text='Once there was a country named Denmark')"
      ],
      "execution_count": 106,
      "outputs": [
        {
          "output_type": "stream",
          "name": "stdout",
          "text": [
            "Input text:\n",
            "der var engang et land der hed Danmark\n",
            "\n",
            "Translated text:\n",
            " there was a country which was even eos\n",
            "\n",
            "True output text:\n",
            "Once there was a country named Denmark\n",
            "\n"
          ]
        }
      ]
    },
    {
      "cell_type": "code",
      "metadata": {
        "colab": {
          "base_uri": "https://localhost:8080/"
        },
        "id": "_gWEZnrHBGwv",
        "outputId": "598866e4-6902-4df1-d067-3fd9729e2d6d"
      },
      "source": [
        "translate(input_text=\"Hvem spæner ud af en butik og tygger de stærkeste bolcher?\",\n",
        "          true_output_text=\"Who runs out of a shop and chews the strongest bon-bons?\")"
      ],
      "execution_count": 107,
      "outputs": [
        {
          "output_type": "stream",
          "name": "stdout",
          "text": [
            "Input text:\n",
            "Hvem spæner ud af en butik og tygger de stærkeste bolcher?\n",
            "\n",
            "Translated text:\n",
            " who is a of the and the eos\n",
            "\n",
            "True output text:\n",
            "Who runs out of a shop and chews the strongest bon-bons?\n",
            "\n"
          ]
        }
      ]
    },
    {
      "cell_type": "markdown",
      "metadata": {
        "id": "svtEBWUKBVsQ"
      },
      "source": [
        "### Conclusion\n",
        "\n",
        "I did not train the model for even a single epoch, the model only train for aproximately 30 min but was able to pick up some words. To improve the model performance we may want to train the model for more than 10 epochs to get accurate results.\n",
        "\n",
        "#### Credits.\n",
        "\n",
        "* [Hvass-Labs](https://github.com/Hvass-Labs/TensorFlow-Tutorials/blob/master/21_Machine_Translation.ipynb)"
      ]
    },
    {
      "cell_type": "code",
      "metadata": {
        "id": "zmsOWUvQBbHB"
      },
      "source": [
        ""
      ],
      "execution_count": null,
      "outputs": []
    }
  ]
}