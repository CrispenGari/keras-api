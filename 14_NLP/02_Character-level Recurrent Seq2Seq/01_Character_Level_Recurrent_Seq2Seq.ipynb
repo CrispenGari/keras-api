{
  "nbformat": 4,
  "nbformat_minor": 0,
  "metadata": {
    "colab": {
      "name": "01_Character_Level_Recurrent_Seq2Seq.ipynb",
      "provenance": [],
      "collapsed_sections": []
    },
    "kernelspec": {
      "name": "python3",
      "display_name": "Python 3"
    },
    "language_info": {
      "name": "python"
    },
    "accelerator": "GPU"
  },
  "cells": [
    {
      "cell_type": "markdown",
      "metadata": {
        "id": "QuCf2g3NTJ99"
      },
      "source": [
        "### Character-level recurrent sequence-to-sequence model\n",
        "\n",
        "In this notebook we are going to learn ho to perform Character-level recurrent sequence-to-sequence translation using the short english and short french sentences. This model will translate text from french to english character by character. \n",
        "\n",
        "### Imports"
      ]
    },
    {
      "cell_type": "code",
      "metadata": {
        "id": "Gw-pcmfRRkmZ"
      },
      "source": [
        "import numpy as np\n",
        "import tensorflow as tf\n",
        "from tensorflow import keras"
      ],
      "execution_count": 1,
      "outputs": []
    },
    {
      "cell_type": "markdown",
      "metadata": {
        "id": "aSvCXjmTVVzj"
      },
      "source": [
        "### Mounting the Google Drive"
      ]
    },
    {
      "cell_type": "code",
      "metadata": {
        "colab": {
          "base_uri": "https://localhost:8080/"
        },
        "id": "HFmkOPN3VZEI",
        "outputId": "d661612e-31ff-423f-a73e-71958d55342e"
      },
      "source": [
        "from google.colab import drive\n",
        "drive.mount('/content/drive')"
      ],
      "execution_count": 2,
      "outputs": [
        {
          "output_type": "stream",
          "text": [
            "Drive already mounted at /content/drive; to attempt to forcibly remount, call drive.mount(\"/content/drive\", force_remount=True).\n"
          ],
          "name": "stdout"
        }
      ]
    },
    {
      "cell_type": "code",
      "metadata": {
        "id": "futdMZQ1VwIH"
      },
      "source": [
        "import os, time, random, math"
      ],
      "execution_count": 3,
      "outputs": []
    },
    {
      "cell_type": "markdown",
      "metadata": {
        "id": "9x8TrHaqT2W2"
      },
      "source": [
        "### Data\n",
        "I've uploaded the data on my google drive as usaual so that i can easly load it here in google colab. Go ahead and download the data and unzip it using the following commands:\n",
        "```\n",
        "!!curl -O http://www.manythings.org/anki/fra-eng.zip\n",
        "!!unzip fra-eng.zip\n",
        "```\n",
        "\n",
        "### Hyper Params"
      ]
    },
    {
      "cell_type": "code",
      "metadata": {
        "id": "YV6IytIzT18Q"
      },
      "source": [
        "BATCH_SIZE = 65\n",
        "EPOCHS  = 100\n",
        "LATENT_DIM = 256\n",
        "NUM_SAMPLES = 100_000\n",
        "\n",
        "data_path = \"fra.txt\"\n",
        "base_path = '/content/drive/My Drive/NLP Data/seq2seq/en-fr'"
      ],
      "execution_count": 4,
      "outputs": []
    },
    {
      "cell_type": "markdown",
      "metadata": {
        "id": "OrKeHdh1WMWg"
      },
      "source": [
        "### Data Preparation.\n",
        "\n",
        "The code cell bellow was grabed from the tutorial that i was following. I only changed few things.\n",
        "1. NUM_SAMPLES variable\n",
        "2. Our target is english."
      ]
    },
    {
      "cell_type": "code",
      "metadata": {
        "colab": {
          "base_uri": "https://localhost:8080/"
        },
        "id": "Z6fSb3uGWObK",
        "outputId": "d3c960c3-d6f6-4ca1-cdf8-5851b7285118"
      },
      "source": [
        "\n",
        "input_texts = []\n",
        "target_texts = []\n",
        "input_characters = set()\n",
        "target_characters = set()\n",
        "with open(os.path.join(base_path, data_path), \"r\", encoding=\"utf-8\") as f:\n",
        "    lines = f.read().split(\"\\n\")\n",
        "for line in lines[: min(NUM_SAMPLES, len(lines) - 1)]:\n",
        "    target_text, input_text, _ = line.split(\"\\t\")\n",
        "    # We use \"tab\" as the \"start sequence\" character\n",
        "    # for the targets, and \"\\n\" as \"end sequence\" character.\n",
        "    target_text = \"\\t\" + target_text + \"\\n\"\n",
        "    input_texts.append(input_text)\n",
        "    target_texts.append(target_text)\n",
        "    for char in input_text:\n",
        "        if char not in input_characters:\n",
        "            input_characters.add(char)\n",
        "    for char in target_text:\n",
        "        if char not in target_characters:\n",
        "            target_characters.add(char)\n",
        "\n",
        "input_characters = sorted(list(input_characters))\n",
        "target_characters = sorted(list(target_characters))\n",
        "num_encoder_tokens = len(input_characters)\n",
        "num_decoder_tokens = len(target_characters)\n",
        "max_encoder_seq_length = max([len(txt) for txt in input_texts])\n",
        "max_decoder_seq_length = max([len(txt) for txt in target_texts])\n",
        "\n",
        "print(\"Number of samples:\", len(input_texts))\n",
        "print(\"Number of unique input tokens:\", num_encoder_tokens)\n",
        "print(\"Number of unique output tokens:\", num_decoder_tokens)\n",
        "print(\"Max sequence length for inputs:\", max_encoder_seq_length)\n",
        "print(\"Max sequence length for outputs:\", max_decoder_seq_length)\n",
        "\n",
        "input_token_index = dict([(char, i) for i, char in enumerate(input_characters)])\n",
        "target_token_index = dict([(char, i) for i, char in enumerate(target_characters)])\n",
        "\n",
        "encoder_input_data = np.zeros(\n",
        "    (len(input_texts), max_encoder_seq_length, num_encoder_tokens), dtype=\"float32\"\n",
        ")\n",
        "decoder_input_data = np.zeros(\n",
        "    (len(input_texts), max_decoder_seq_length, num_decoder_tokens), dtype=\"float32\"\n",
        ")\n",
        "decoder_target_data = np.zeros(\n",
        "    (len(input_texts), max_decoder_seq_length, num_decoder_tokens), dtype=\"float32\"\n",
        ")\n",
        "\n",
        "for i, (input_text, target_text) in enumerate(zip(input_texts, target_texts)):\n",
        "    for t, char in enumerate(input_text):\n",
        "        encoder_input_data[i, t, input_token_index[char]] = 1.0\n",
        "    encoder_input_data[i, t + 1 :, input_token_index[\" \"]] = 1.0\n",
        "    for t, char in enumerate(target_text):\n",
        "        # decoder_target_data is ahead of decoder_input_data by one timestep\n",
        "        decoder_input_data[i, t, target_token_index[char]] = 1.0\n",
        "        if t > 0:\n",
        "            # decoder_target_data will be ahead by one timestep\n",
        "            # and will not include the start character.\n",
        "            decoder_target_data[i, t - 1, target_token_index[char]] = 1.0\n",
        "    decoder_input_data[i, t + 1 :, target_token_index[\" \"]] = 1.0\n",
        "    decoder_target_data[i, t:, target_token_index[\" \"]] = 1.0\n"
      ],
      "execution_count": 5,
      "outputs": [
        {
          "output_type": "stream",
          "text": [
            "Number of samples: 100000\n",
            "Number of unique input tokens: 104\n",
            "Number of unique output tokens: 80\n",
            "Max sequence length for inputs: 76\n",
            "Max sequence length for outputs: 31\n"
          ],
          "name": "stdout"
        }
      ]
    },
    {
      "cell_type": "markdown",
      "metadata": {
        "id": "cV4WaQeXhRMF"
      },
      "source": [
        "### Building the model."
      ]
    },
    {
      "cell_type": "code",
      "metadata": {
        "colab": {
          "base_uri": "https://localhost:8080/"
        },
        "id": "gYvS9hz1dHNt",
        "outputId": "3561959d-989d-440c-8825-e8f4985998d3"
      },
      "source": [
        "encoder_inputs = keras.Input(shape=(None, num_encoder_tokens), name=\"encoder_inputs\")\n",
        "encoder = keras.layers.LSTM(LATENT_DIM, return_state=True, name=\"encoder_lstm\")\n",
        "encoder_outputs, state_h, state_c = encoder(encoder_inputs)\n",
        "\n",
        "encoder_states = [state_h, state_c]\n",
        "\n",
        "\n",
        "decoder_inputs = keras.Input(shape=(None, num_decoder_tokens), name=\"decoder_inputs\")\n",
        "\n",
        "\"\"\"\n",
        "We set up our decoder to return full output sequences,\n",
        "and to return internal states as well. We don't use the\n",
        "return states in the training model, but we will use them in inference.\n",
        "\"\"\"\n",
        "decoder_lstm = keras.layers.LSTM(LATENT_DIM, return_sequences=True,\n",
        "                                 return_state=True, name=\"decoder_lstm\")\n",
        "decoder_outputs, _, _ = decoder_lstm(decoder_inputs, initial_state=encoder_states)\n",
        "decoder_dense = keras.layers.Dense(num_decoder_tokens, activation=\"softmax\", name=\"decoder_outputs\")\n",
        "decoder_outputs = decoder_dense(decoder_outputs)\n",
        "\n",
        "# MODEL\n",
        "\n",
        "model = keras.Model([encoder_inputs, decoder_inputs], decoder_outputs, name=\"model\")\n",
        "model.summary()\n"
      ],
      "execution_count": 6,
      "outputs": [
        {
          "output_type": "stream",
          "text": [
            "Model: \"model\"\n",
            "__________________________________________________________________________________________________\n",
            "Layer (type)                    Output Shape         Param #     Connected to                     \n",
            "==================================================================================================\n",
            "encoder_inputs (InputLayer)     [(None, None, 104)]  0                                            \n",
            "__________________________________________________________________________________________________\n",
            "decoder_inputs (InputLayer)     [(None, None, 80)]   0                                            \n",
            "__________________________________________________________________________________________________\n",
            "encoder_lstm (LSTM)             [(None, 256), (None, 369664      encoder_inputs[0][0]             \n",
            "__________________________________________________________________________________________________\n",
            "decoder_lstm (LSTM)             [(None, None, 256),  345088      decoder_inputs[0][0]             \n",
            "                                                                 encoder_lstm[0][1]               \n",
            "                                                                 encoder_lstm[0][2]               \n",
            "__________________________________________________________________________________________________\n",
            "decoder_outputs (Dense)         (None, None, 80)     20560       decoder_lstm[0][0]               \n",
            "==================================================================================================\n",
            "Total params: 735,312\n",
            "Trainable params: 735,312\n",
            "Non-trainable params: 0\n",
            "__________________________________________________________________________________________________\n"
          ],
          "name": "stdout"
        }
      ]
    },
    {
      "cell_type": "markdown",
      "metadata": {
        "id": "sRIuF7HpjUg3"
      },
      "source": [
        "### Let's plot the model so that we can visually see it."
      ]
    },
    {
      "cell_type": "code",
      "metadata": {
        "colab": {
          "base_uri": "https://localhost:8080/",
          "height": 296
        },
        "id": "ZzEC8pa-hXxZ",
        "outputId": "cfccfefc-519b-4078-c74c-91dab78fc568"
      },
      "source": [
        "keras.utils.plot_model(model, dpi=66, show_shapes=True)"
      ],
      "execution_count": 7,
      "outputs": [
        {
          "output_type": "execute_result",
          "data": {
            "image/png": "[encoded data removed]",
            "text/plain": [
              "<IPython.core.display.Image object>"
            ]
          },
          "metadata": {
            "tags": []
          },
          "execution_count": 7
        }
      ]
    },
    {
      "cell_type": "markdown",
      "metadata": {
        "id": "hSiVo1myjsXZ"
      },
      "source": [
        "### Now let's train the model."
      ]
    },
    {
      "cell_type": "code",
      "metadata": {
        "colab": {
          "base_uri": "https://localhost:8080/"
        },
        "id": "GuKHw9qjjnJd",
        "outputId": "5d073bc5-5249-4a11-e89b-cc815a0f2040"
      },
      "source": [
        "model.compile(\n",
        "    optimizer=\"adam\", loss=\"categorical_crossentropy\", metrics=[\"accuracy\"]\n",
        ")\n",
        "model.fit(\n",
        "    [encoder_input_data, decoder_input_data],\n",
        "    decoder_target_data,\n",
        "    batch_size=BATCH_SIZE,\n",
        "    epochs=EPOCHS,\n",
        "    validation_split=0.2,\n",
        ")\n"
      ],
      "execution_count": 8,
      "outputs": [
        {
          "output_type": "stream",
          "text": [
            "Epoch 1/100\n",
            "1231/1231 [==============================] - 30s 17ms/step - loss: 1.4471 - accuracy: 0.5891 - val_loss: 1.6505 - val_accuracy: 0.5066\n",
            "Epoch 2/100\n",
            "1231/1231 [==============================] - 20s 16ms/step - loss: 1.0426 - accuracy: 0.6870 - val_loss: 1.4152 - val_accuracy: 0.5732\n",
            "Epoch 3/100\n",
            "1231/1231 [==============================] - 20s 16ms/step - loss: 0.9138 - accuracy: 0.7224 - val_loss: 1.2634 - val_accuracy: 0.6139\n",
            "Epoch 4/100\n",
            "1231/1231 [==============================] - 20s 16ms/step - loss: 0.8464 - accuracy: 0.7418 - val_loss: 1.1822 - val_accuracy: 0.6389\n",
            "Epoch 5/100\n",
            "1231/1231 [==============================] - 21s 17ms/step - loss: 0.7782 - accuracy: 0.7627 - val_loss: 1.1102 - val_accuracy: 0.6615\n",
            "Epoch 6/100\n",
            "1231/1231 [==============================] - 21s 17ms/step - loss: 0.7224 - accuracy: 0.7786 - val_loss: 1.0736 - val_accuracy: 0.6726\n",
            "Epoch 7/100\n",
            "1231/1231 [==============================] - 21s 17ms/step - loss: 0.6818 - accuracy: 0.7908 - val_loss: 1.0125 - val_accuracy: 0.6922\n",
            "Epoch 8/100\n",
            "1231/1231 [==============================] - 21s 17ms/step - loss: 0.6508 - accuracy: 0.8004 - val_loss: 1.0098 - val_accuracy: 0.6955\n",
            "Epoch 9/100\n",
            "1231/1231 [==============================] - 21s 17ms/step - loss: 0.6251 - accuracy: 0.8079 - val_loss: 0.9716 - val_accuracy: 0.7063\n",
            "Epoch 10/100\n",
            "1231/1231 [==============================] - 20s 16ms/step - loss: 0.6026 - accuracy: 0.8147 - val_loss: 0.9810 - val_accuracy: 0.7043\n",
            "Epoch 11/100\n",
            "1231/1231 [==============================] - 21s 17ms/step - loss: 0.5835 - accuracy: 0.8205 - val_loss: 0.9749 - val_accuracy: 0.7083\n",
            "Epoch 12/100\n",
            "1231/1231 [==============================] - 20s 17ms/step - loss: 0.5666 - accuracy: 0.8256 - val_loss: 0.9815 - val_accuracy: 0.7054\n",
            "Epoch 13/100\n",
            "1231/1231 [==============================] - 20s 16ms/step - loss: 0.5522 - accuracy: 0.8297 - val_loss: 0.9608 - val_accuracy: 0.7128\n",
            "Epoch 14/100\n",
            "1231/1231 [==============================] - 20s 17ms/step - loss: 0.5391 - accuracy: 0.8336 - val_loss: 0.9563 - val_accuracy: 0.7155\n",
            "Epoch 15/100\n",
            "1231/1231 [==============================] - 20s 17ms/step - loss: 0.5274 - accuracy: 0.8371 - val_loss: 0.9504 - val_accuracy: 0.7184\n",
            "Epoch 16/100\n",
            "1231/1231 [==============================] - 21s 17ms/step - loss: 0.5166 - accuracy: 0.8405 - val_loss: 0.9323 - val_accuracy: 0.7229\n",
            "Epoch 17/100\n",
            "1231/1231 [==============================] - 21s 17ms/step - loss: 0.5062 - accuracy: 0.8437 - val_loss: 0.9785 - val_accuracy: 0.7151\n",
            "Epoch 18/100\n",
            "1231/1231 [==============================] - 21s 17ms/step - loss: 0.4970 - accuracy: 0.8466 - val_loss: 0.9674 - val_accuracy: 0.7193\n",
            "Epoch 19/100\n",
            "1231/1231 [==============================] - 21s 17ms/step - loss: 0.4882 - accuracy: 0.8493 - val_loss: 0.9536 - val_accuracy: 0.7216\n",
            "Epoch 20/100\n",
            "1231/1231 [==============================] - 21s 17ms/step - loss: 0.4799 - accuracy: 0.8519 - val_loss: 0.9479 - val_accuracy: 0.7248\n",
            "Epoch 21/100\n",
            "1231/1231 [==============================] - 21s 17ms/step - loss: 0.4718 - accuracy: 0.8544 - val_loss: 0.9731 - val_accuracy: 0.7211\n",
            "Epoch 22/100\n",
            "1231/1231 [==============================] - 21s 17ms/step - loss: 0.4645 - accuracy: 0.8568 - val_loss: 0.9800 - val_accuracy: 0.7199\n",
            "Epoch 23/100\n",
            "1231/1231 [==============================] - 21s 17ms/step - loss: 0.4578 - accuracy: 0.8589 - val_loss: 0.9849 - val_accuracy: 0.7211\n",
            "Epoch 24/100\n",
            "1231/1231 [==============================] - 21s 17ms/step - loss: 0.4509 - accuracy: 0.8610 - val_loss: 0.9633 - val_accuracy: 0.7273\n",
            "Epoch 25/100\n",
            "1231/1231 [==============================] - 21s 17ms/step - loss: 0.4444 - accuracy: 0.8631 - val_loss: 0.9878 - val_accuracy: 0.7230\n",
            "Epoch 26/100\n",
            "1231/1231 [==============================] - 21s 17ms/step - loss: 0.4381 - accuracy: 0.8650 - val_loss: 0.9534 - val_accuracy: 0.7319\n",
            "Epoch 27/100\n",
            "1231/1231 [==============================] - 21s 17ms/step - loss: 0.4325 - accuracy: 0.8668 - val_loss: 0.9821 - val_accuracy: 0.7268\n",
            "Epoch 28/100\n",
            "1231/1231 [==============================] - 21s 17ms/step - loss: 0.4276 - accuracy: 0.8683 - val_loss: 1.0078 - val_accuracy: 0.7231\n",
            "Epoch 29/100\n",
            "1231/1231 [==============================] - 21s 17ms/step - loss: 0.4215 - accuracy: 0.8702 - val_loss: 0.9830 - val_accuracy: 0.7293\n",
            "Epoch 30/100\n",
            "1231/1231 [==============================] - 21s 17ms/step - loss: 0.4166 - accuracy: 0.8718 - val_loss: 0.9936 - val_accuracy: 0.7285\n",
            "Epoch 31/100\n",
            "1231/1231 [==============================] - 21s 17ms/step - loss: 0.4116 - accuracy: 0.8732 - val_loss: 1.0287 - val_accuracy: 0.7237\n",
            "Epoch 32/100\n",
            "1231/1231 [==============================] - 21s 17ms/step - loss: 0.4074 - accuracy: 0.8745 - val_loss: 1.0077 - val_accuracy: 0.7269\n",
            "Epoch 33/100\n",
            "1231/1231 [==============================] - 21s 17ms/step - loss: 0.4026 - accuracy: 0.8762 - val_loss: 1.0222 - val_accuracy: 0.7255\n",
            "Epoch 34/100\n",
            "1231/1231 [==============================] - 21s 17ms/step - loss: 0.3984 - accuracy: 0.8774 - val_loss: 1.0156 - val_accuracy: 0.7277\n",
            "Epoch 35/100\n",
            "1231/1231 [==============================] - 21s 17ms/step - loss: 0.3943 - accuracy: 0.8786 - val_loss: 1.0349 - val_accuracy: 0.7240\n",
            "Epoch 36/100\n",
            "1231/1231 [==============================] - 21s 17ms/step - loss: 0.3897 - accuracy: 0.8801 - val_loss: 1.0466 - val_accuracy: 0.7247\n",
            "Epoch 37/100\n",
            "1231/1231 [==============================] - 21s 17ms/step - loss: 0.3860 - accuracy: 0.8811 - val_loss: 1.0319 - val_accuracy: 0.7280\n",
            "Epoch 38/100\n",
            "1231/1231 [==============================] - 21s 17ms/step - loss: 0.3822 - accuracy: 0.8823 - val_loss: 1.0364 - val_accuracy: 0.7270\n",
            "Epoch 39/100\n",
            "1231/1231 [==============================] - 21s 17ms/step - loss: 0.3787 - accuracy: 0.8836 - val_loss: 1.0297 - val_accuracy: 0.7299\n",
            "Epoch 40/100\n",
            "1231/1231 [==============================] - 21s 17ms/step - loss: 0.3752 - accuracy: 0.8845 - val_loss: 1.0490 - val_accuracy: 0.7277\n",
            "Epoch 41/100\n",
            "1231/1231 [==============================] - 21s 17ms/step - loss: 0.3716 - accuracy: 0.8855 - val_loss: 1.0636 - val_accuracy: 0.7265\n",
            "Epoch 42/100\n",
            "1231/1231 [==============================] - 21s 17ms/step - loss: 0.3685 - accuracy: 0.8867 - val_loss: 1.0736 - val_accuracy: 0.7244\n",
            "Epoch 43/100\n",
            "1231/1231 [==============================] - 21s 17ms/step - loss: 0.3652 - accuracy: 0.8876 - val_loss: 1.0773 - val_accuracy: 0.7252\n",
            "Epoch 44/100\n",
            "1231/1231 [==============================] - 20s 17ms/step - loss: 0.3634 - accuracy: 0.8882 - val_loss: 1.0910 - val_accuracy: 0.7234\n",
            "Epoch 45/100\n",
            "1231/1231 [==============================] - 20s 17ms/step - loss: 0.3649 - accuracy: 0.8878 - val_loss: 1.0480 - val_accuracy: 0.7304\n",
            "Epoch 46/100\n",
            "1231/1231 [==============================] - 21s 17ms/step - loss: 0.3597 - accuracy: 0.8892 - val_loss: 1.0649 - val_accuracy: 0.7276\n",
            "Epoch 47/100\n",
            "1231/1231 [==============================] - 21s 17ms/step - loss: 0.3564 - accuracy: 0.8900 - val_loss: 1.0969 - val_accuracy: 0.7242\n",
            "Epoch 48/100\n",
            "1231/1231 [==============================] - 21s 17ms/step - loss: 0.3529 - accuracy: 0.8914 - val_loss: 1.0917 - val_accuracy: 0.7266\n",
            "Epoch 49/100\n",
            "1231/1231 [==============================] - 21s 17ms/step - loss: 0.3503 - accuracy: 0.8922 - val_loss: 1.0730 - val_accuracy: 0.7298\n",
            "Epoch 50/100\n",
            "1231/1231 [==============================] - 21s 17ms/step - loss: 0.3472 - accuracy: 0.8932 - val_loss: 1.1032 - val_accuracy: 0.7256\n",
            "Epoch 51/100\n",
            "1231/1231 [==============================] - 21s 17ms/step - loss: 0.3447 - accuracy: 0.8937 - val_loss: 1.1138 - val_accuracy: 0.7248\n",
            "Epoch 52/100\n",
            "1231/1231 [==============================] - 21s 17ms/step - loss: 0.3417 - accuracy: 0.8948 - val_loss: 1.1214 - val_accuracy: 0.7254\n",
            "Epoch 53/100\n",
            "1231/1231 [==============================] - 21s 17ms/step - loss: 0.3391 - accuracy: 0.8955 - val_loss: 1.1216 - val_accuracy: 0.7249\n",
            "Epoch 54/100\n",
            "1231/1231 [==============================] - 21s 17ms/step - loss: 0.3369 - accuracy: 0.8962 - val_loss: 1.1383 - val_accuracy: 0.7234\n",
            "Epoch 55/100\n",
            "1231/1231 [==============================] - 21s 17ms/step - loss: 0.3345 - accuracy: 0.8969 - val_loss: 1.1213 - val_accuracy: 0.7260\n",
            "Epoch 56/100\n",
            "1231/1231 [==============================] - 20s 16ms/step - loss: 0.3324 - accuracy: 0.8975 - val_loss: 1.1301 - val_accuracy: 0.7256\n",
            "Epoch 57/100\n",
            "1231/1231 [==============================] - 21s 17ms/step - loss: 0.3296 - accuracy: 0.8983 - val_loss: 1.1795 - val_accuracy: 0.7190\n",
            "Epoch 58/100\n",
            "1231/1231 [==============================] - 21s 17ms/step - loss: 0.3274 - accuracy: 0.8990 - val_loss: 1.1248 - val_accuracy: 0.7281\n",
            "Epoch 59/100\n",
            "1231/1231 [==============================] - 21s 17ms/step - loss: 0.3257 - accuracy: 0.8995 - val_loss: 1.1554 - val_accuracy: 0.7246\n",
            "Epoch 60/100\n",
            "1231/1231 [==============================] - 21s 17ms/step - loss: 0.3235 - accuracy: 0.9001 - val_loss: 1.1644 - val_accuracy: 0.7228\n",
            "Epoch 61/100\n",
            "1231/1231 [==============================] - 21s 17ms/step - loss: 0.3211 - accuracy: 0.9009 - val_loss: 1.1543 - val_accuracy: 0.7258\n",
            "Epoch 62/100\n",
            "1231/1231 [==============================] - 21s 17ms/step - loss: 0.3190 - accuracy: 0.9017 - val_loss: 1.1592 - val_accuracy: 0.7252\n",
            "Epoch 63/100\n",
            "1231/1231 [==============================] - 21s 17ms/step - loss: 0.3175 - accuracy: 0.9020 - val_loss: 1.2141 - val_accuracy: 0.7189\n",
            "Epoch 64/100\n",
            "1231/1231 [==============================] - 20s 17ms/step - loss: 0.3157 - accuracy: 0.9025 - val_loss: 1.1756 - val_accuracy: 0.7230\n",
            "Epoch 65/100\n",
            "1231/1231 [==============================] - 21s 17ms/step - loss: 0.3138 - accuracy: 0.9031 - val_loss: 1.1707 - val_accuracy: 0.7247\n",
            "Epoch 66/100\n",
            "1231/1231 [==============================] - 20s 17ms/step - loss: 0.3115 - accuracy: 0.9039 - val_loss: 1.1540 - val_accuracy: 0.7280\n",
            "Epoch 67/100\n",
            "1231/1231 [==============================] - 20s 16ms/step - loss: 0.3101 - accuracy: 0.9043 - val_loss: 1.2067 - val_accuracy: 0.7206\n",
            "Epoch 68/100\n",
            "1231/1231 [==============================] - 21s 17ms/step - loss: 0.3084 - accuracy: 0.9048 - val_loss: 1.1988 - val_accuracy: 0.7224\n",
            "Epoch 69/100\n",
            "1231/1231 [==============================] - 21s 17ms/step - loss: 0.3087 - accuracy: 0.9046 - val_loss: 1.1759 - val_accuracy: 0.7251\n",
            "Epoch 70/100\n",
            "1231/1231 [==============================] - 20s 16ms/step - loss: 0.3050 - accuracy: 0.9058 - val_loss: 1.2344 - val_accuracy: 0.7186\n",
            "Epoch 71/100\n",
            "1231/1231 [==============================] - 21s 17ms/step - loss: 0.3039 - accuracy: 0.9061 - val_loss: 1.2282 - val_accuracy: 0.7195\n",
            "Epoch 72/100\n",
            "1231/1231 [==============================] - 21s 17ms/step - loss: 0.3021 - accuracy: 0.9066 - val_loss: 1.1952 - val_accuracy: 0.7241\n",
            "Epoch 73/100\n",
            "1231/1231 [==============================] - 20s 16ms/step - loss: 0.3012 - accuracy: 0.9069 - val_loss: 1.2169 - val_accuracy: 0.7224\n",
            "Epoch 74/100\n",
            "1231/1231 [==============================] - 20s 17ms/step - loss: 0.2989 - accuracy: 0.9077 - val_loss: 1.2401 - val_accuracy: 0.7192\n",
            "Epoch 75/100\n",
            "1231/1231 [==============================] - 21s 17ms/step - loss: 0.2978 - accuracy: 0.9079 - val_loss: 1.2258 - val_accuracy: 0.7221\n",
            "Epoch 76/100\n",
            "1231/1231 [==============================] - 20s 16ms/step - loss: 0.2963 - accuracy: 0.9083 - val_loss: 1.1949 - val_accuracy: 0.7260\n",
            "Epoch 77/100\n",
            "1231/1231 [==============================] - 20s 16ms/step - loss: 0.2950 - accuracy: 0.9087 - val_loss: 1.1731 - val_accuracy: 0.7295\n",
            "Epoch 78/100\n",
            "1231/1231 [==============================] - 21s 17ms/step - loss: 0.2932 - accuracy: 0.9094 - val_loss: 1.2323 - val_accuracy: 0.7226\n",
            "Epoch 79/100\n",
            "1231/1231 [==============================] - 20s 17ms/step - loss: 0.2922 - accuracy: 0.9096 - val_loss: 1.2561 - val_accuracy: 0.7194\n",
            "Epoch 80/100\n",
            "1231/1231 [==============================] - 21s 17ms/step - loss: 0.2908 - accuracy: 0.9100 - val_loss: 1.2548 - val_accuracy: 0.7203\n",
            "Epoch 81/100\n",
            "1231/1231 [==============================] - 20s 16ms/step - loss: 0.2899 - accuracy: 0.9103 - val_loss: 1.2301 - val_accuracy: 0.7234\n",
            "Epoch 82/100\n",
            "1231/1231 [==============================] - 20s 17ms/step - loss: 0.2894 - accuracy: 0.9103 - val_loss: 1.2252 - val_accuracy: 0.7248\n",
            "Epoch 83/100\n",
            "1231/1231 [==============================] - 21s 17ms/step - loss: 0.2872 - accuracy: 0.9110 - val_loss: 1.2566 - val_accuracy: 0.7215\n",
            "Epoch 84/100\n",
            "1231/1231 [==============================] - 20s 16ms/step - loss: 0.2855 - accuracy: 0.9117 - val_loss: 1.2293 - val_accuracy: 0.7237\n",
            "Epoch 85/100\n",
            "1231/1231 [==============================] - 20s 16ms/step - loss: 0.2851 - accuracy: 0.9116 - val_loss: 1.2448 - val_accuracy: 0.7229\n",
            "Epoch 86/100\n",
            "1231/1231 [==============================] - 21s 17ms/step - loss: 0.2845 - accuracy: 0.9118 - val_loss: 1.2412 - val_accuracy: 0.7238\n",
            "Epoch 87/100\n",
            "1231/1231 [==============================] - 20s 17ms/step - loss: 0.2822 - accuracy: 0.9125 - val_loss: 1.2674 - val_accuracy: 0.7216\n",
            "Epoch 88/100\n",
            "1231/1231 [==============================] - 20s 16ms/step - loss: 0.2813 - accuracy: 0.9127 - val_loss: 1.2437 - val_accuracy: 0.7253\n",
            "Epoch 89/100\n",
            "1231/1231 [==============================] - 21s 17ms/step - loss: 0.2806 - accuracy: 0.9130 - val_loss: 1.2752 - val_accuracy: 0.7200\n",
            "Epoch 90/100\n",
            "1231/1231 [==============================] - 21s 17ms/step - loss: 0.2784 - accuracy: 0.9136 - val_loss: 1.2991 - val_accuracy: 0.7177\n",
            "Epoch 91/100\n",
            "1231/1231 [==============================] - 20s 16ms/step - loss: 0.2787 - accuracy: 0.9134 - val_loss: 1.2806 - val_accuracy: 0.7210\n",
            "Epoch 92/100\n",
            "1231/1231 [==============================] - 20s 17ms/step - loss: 0.2769 - accuracy: 0.9141 - val_loss: 1.2733 - val_accuracy: 0.7217\n",
            "Epoch 93/100\n",
            "1231/1231 [==============================] - 21s 17ms/step - loss: 0.2759 - accuracy: 0.9144 - val_loss: 1.2766 - val_accuracy: 0.7215\n",
            "Epoch 94/100\n",
            "1231/1231 [==============================] - 21s 17ms/step - loss: 0.2748 - accuracy: 0.9146 - val_loss: 1.3023 - val_accuracy: 0.7189\n",
            "Epoch 95/100\n",
            "1231/1231 [==============================] - 20s 17ms/step - loss: 0.2735 - accuracy: 0.9151 - val_loss: 1.3000 - val_accuracy: 0.7201\n",
            "Epoch 96/100\n",
            "1231/1231 [==============================] - 20s 16ms/step - loss: 0.2736 - accuracy: 0.9150 - val_loss: 1.2636 - val_accuracy: 0.7247\n",
            "Epoch 97/100\n",
            "1231/1231 [==============================] - 21s 17ms/step - loss: 0.2721 - accuracy: 0.9155 - val_loss: 1.2641 - val_accuracy: 0.7245\n",
            "Epoch 98/100\n",
            "1231/1231 [==============================] - 21s 17ms/step - loss: 0.2711 - accuracy: 0.9158 - val_loss: 1.2788 - val_accuracy: 0.7238\n",
            "Epoch 99/100\n",
            "1231/1231 [==============================] - 20s 16ms/step - loss: 0.2704 - accuracy: 0.9159 - val_loss: 1.2947 - val_accuracy: 0.7220\n",
            "Epoch 100/100\n",
            "1231/1231 [==============================] - 20s 17ms/step - loss: 0.2696 - accuracy: 0.9161 - val_loss: 1.3249 - val_accuracy: 0.7186\n"
          ],
          "name": "stdout"
        },
        {
          "output_type": "execute_result",
          "data": {
            "text/plain": [
              "<tensorflow.python.keras.callbacks.History at 0x7f80a4165f90>"
            ]
          },
          "metadata": {
            "tags": []
          },
          "execution_count": 8
        }
      ]
    },
    {
      "cell_type": "markdown",
      "metadata": {
        "id": "4aRPkJsVkK41"
      },
      "source": [
        "### Model Inference\n",
        "\n",
        "Again the code cell bellow was copied from the referenced tutorial."
      ]
    },
    {
      "cell_type": "code",
      "metadata": {
        "id": "0C24uEtAj4Ee"
      },
      "source": [
        "encoder_inputs = model.input[0]  \n",
        "encoder_outputs, state_h_enc, state_c_enc = model.layers[2].output  # lstm_1\n",
        "encoder_states = [state_h_enc, state_c_enc]\n",
        "encoder_model = keras.Model(encoder_inputs, encoder_states)\n",
        "\n",
        "decoder_inputs = model.input[1]\n",
        "decoder_state_input_h = keras.Input(shape=(LATENT_DIM,), name=\"input_3\")\n",
        "decoder_state_input_c = keras.Input(shape=(LATENT_DIM,), name=\"input_4\")\n",
        "decoder_states_inputs = [decoder_state_input_h, decoder_state_input_c]\n",
        "decoder_lstm = model.layers[3]\n",
        "decoder_outputs, state_h_dec, state_c_dec = decoder_lstm(\n",
        "    decoder_inputs, initial_state=decoder_states_inputs\n",
        ")\n",
        "decoder_states = [state_h_dec, state_c_dec]\n",
        "decoder_dense = model.layers[4]\n",
        "decoder_outputs = decoder_dense(decoder_outputs)\n",
        "decoder_model = keras.Model(\n",
        "    [decoder_inputs] + decoder_states_inputs, [decoder_outputs] + decoder_states\n",
        ")\n",
        "\n",
        "# Reverse-lookup token index to decode sequences back to\n",
        "# something readable.\n",
        "reverse_input_char_index = dict((i, char) for char, i in input_token_index.items())\n",
        "reverse_target_char_index = dict((i, char) for char, i in target_token_index.items())\n",
        "\n",
        "def decode_sequence(input_seq):\n",
        "    # Encode the input as state vectors.\n",
        "    states_value = encoder_model.predict(input_seq)\n",
        "    # Generate empty target sequence of length 1.\n",
        "    target_seq = np.zeros((1, 1, num_decoder_tokens))\n",
        "    # Populate the first character of target sequence with the start character.\n",
        "    target_seq[0, 0, target_token_index[\"\\t\"]] = 1.0\n",
        "\n",
        "    # Sampling loop for a batch of sequences\n",
        "    # (to simplify, here we assume a batch of size 1).\n",
        "    stop_condition = False\n",
        "    decoded_sentence = \"\"\n",
        "    while not stop_condition:\n",
        "        output_tokens, h, c = decoder_model.predict([target_seq] + states_value)\n",
        "\n",
        "        # Sample a token\n",
        "        sampled_token_index = np.argmax(output_tokens[0, -1, :])\n",
        "        sampled_char = reverse_target_char_index[sampled_token_index]\n",
        "        decoded_sentence += sampled_char\n",
        "\n",
        "        # Exit condition: either hit max length\n",
        "        # or find stop character.\n",
        "        if sampled_char == \"\\n\" or len(decoded_sentence) > max_decoder_seq_length:\n",
        "            stop_condition = True\n",
        "\n",
        "        # Update the target sequence (of length 1).\n",
        "        target_seq = np.zeros((1, 1, num_decoder_tokens))\n",
        "        target_seq[0, 0, sampled_token_index] = 1.0\n",
        "\n",
        "        # Update states\n",
        "        states_value = [h, c]\n",
        "    return decoded_sentence"
      ],
      "execution_count": 11,
      "outputs": []
    },
    {
      "cell_type": "code",
      "metadata": {
        "colab": {
          "base_uri": "https://localhost:8080/"
        },
        "id": "wtodeALDli2m",
        "outputId": "d96da6c7-bf56-41cb-ae91-e186d89fbfdc"
      },
      "source": [
        "for seq_index in range(20):\n",
        "    # Take one sequence (part of the training set)\n",
        "    # for trying out decoding.\n",
        "    input_seq = encoder_input_data[seq_index : seq_index + 1]\n",
        "    decoded_sentence = decode_sequence(input_seq)\n",
        "    print(\"-\")\n",
        "    print(\"Input sentence:\", input_texts[seq_index])\n",
        "    print(\"Decoded sentence:\", decoded_sentence)"
      ],
      "execution_count": 12,
      "outputs": [
        {
          "output_type": "stream",
          "text": [
            "-\n",
            "Input sentence: Va !\n",
            "Decoded sentence: Go ahead.\n",
            "\n",
            "-\n",
            "Input sentence: Marche.\n",
            "Decoded sentence: That's a for stupid.\n",
            "\n",
            "-\n",
            "Input sentence: Bouge !\n",
            "Decoded sentence: Get out.\n",
            "\n",
            "-\n",
            "Input sentence: Salut !\n",
            "Decoded sentence: In this back.\n",
            "\n",
            "-\n",
            "Input sentence: Salut.\n",
            "Decoded sentence: Well our teach.\n",
            "\n",
            "-\n",
            "Input sentence: Cours !\n",
            "Decoded sentence: Run!\n",
            "\n",
            "-\n",
            "Input sentence: Courez !\n",
            "Decoded sentence: Run.\n",
            "\n",
            "-\n",
            "Input sentence: Prenez vos jambes à vos cous !\n",
            "Decoded sentence: Take what you should do.\n",
            "\n",
            "-\n",
            "Input sentence: File !\n",
            "Decoded sentence: Run away.\n",
            "\n",
            "-\n",
            "Input sentence: Filez !\n",
            "Decoded sentence: Run for it!\n",
            "\n",
            "-\n",
            "Input sentence: Cours !\n",
            "Decoded sentence: Run.\n",
            "\n",
            "-\n",
            "Input sentence: Fuyez !\n",
            "Decoded sentence: Go ahead!\n",
            "\n",
            "-\n",
            "Input sentence: Fuyons !\n",
            "Decoded sentence: Run.\n",
            "\n",
            "-\n",
            "Input sentence: Cours !\n",
            "Decoded sentence: Run!\n",
            "\n",
            "-\n",
            "Input sentence: Courez !\n",
            "Decoded sentence: Run.\n",
            "\n",
            "-\n",
            "Input sentence: Prenez vos jambes à vos cous !\n",
            "Decoded sentence: Take what you should do.\n",
            "\n",
            "-\n",
            "Input sentence: File !\n",
            "Decoded sentence: Run away.\n",
            "\n",
            "-\n",
            "Input sentence: Filez !\n",
            "Decoded sentence: Run for it!\n",
            "\n",
            "-\n",
            "Input sentence: Cours !\n",
            "Decoded sentence: Run.\n",
            "\n",
            "-\n",
            "Input sentence: Fuyez !\n",
            "Decoded sentence: Go ahead!\n",
            "\n"
          ],
          "name": "stdout"
        }
      ]
    },
    {
      "cell_type": "markdown",
      "metadata": {
        "id": "jC81_q_Clyxm"
      },
      "source": [
        "### Refrences\n",
        "1. [Keras Example New](https://keras.io/examples/nlp/lstm_seq2seq/)\n",
        "2. [Keras Example Old](https://blog.keras.io/a-ten-minute-introduction-to-sequence-to-sequence-learning-in-keras.html)"
      ]
    },
    {
      "cell_type": "code",
      "metadata": {
        "id": "30PFprbFlpbL"
      },
      "source": [
        ""
      ],
      "execution_count": 10,
      "outputs": []
    }
  ]
}