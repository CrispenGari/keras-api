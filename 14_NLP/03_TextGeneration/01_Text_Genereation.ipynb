{
  "nbformat": 4,
  "nbformat_minor": 0,
  "metadata": {
    "colab": {
      "name": "01_Text_Genereation.ipynb",
      "provenance": [],
      "collapsed_sections": []
    },
    "kernelspec": {
      "name": "python3",
      "display_name": "Python 3"
    },
    "language_info": {
      "name": "python"
    },
    "accelerator": "GPU"
  },
  "cells": [
    {
      "cell_type": "markdown",
      "metadata": {
        "id": "tcsSRWh3bH3K"
      },
      "source": [
        "### Text Generation RNN\n",
        "This notebook is a follow up for text generation using a character based RNN. We will be working on the dataset of Shakespeare's writting from Andrej Karpathy.[The Unreasonable Effectiveness of Recurrent Neural Networks](http://karpathy.github.io/2015/05/21/rnn-effectiveness/)\n",
        "\n",
        "### Model\n",
        "\n",
        "* The model is character-based. When training started, the model did not know how to spell an English word, or that words were even a unit of text.\n",
        "\n",
        "* The structure of the output resembles a play—blocks of text generally begin with a speaker name, in all capital letters similar to the dataset.\n",
        "\n",
        "* As demonstrated below, the model is trained on small batches of text (100 characters each), and is still able to generate a longer sequence of text with coherent structure.\n",
        "\n",
        "\n",
        "### Imports"
      ]
    },
    {
      "cell_type": "code",
      "metadata": {
        "colab": {
          "base_uri": "https://localhost:8080/",
          "height": 35
        },
        "id": "FxU9lq-ebGZs",
        "outputId": "f28418fc-f1fd-45ff-9038-0a34a2c2b099"
      },
      "source": [
        "import tensorflow as tf\n",
        "from tensorflow.keras.layers.experimental import preprocessing\n",
        "from tensorflow import keras\n",
        "\n",
        "import numpy as np\n",
        "import os, time\n",
        "\n",
        "tf.__version__"
      ],
      "execution_count": 1,
      "outputs": [
        {
          "output_type": "execute_result",
          "data": {
            "application/vnd.google.colaboratory.intrinsic+json": {
              "type": "string"
            },
            "text/plain": [
              "'2.5.0'"
            ]
          },
          "metadata": {
            "tags": []
          },
          "execution_count": 1
        }
      ]
    },
    {
      "cell_type": "markdown",
      "metadata": {
        "id": "Dw0WHzKSdR-r"
      },
      "source": [
        "### Data.\n",
        "I've already downloaded the `shakespeare.txt` file and uploaded it on my google colab. Next I've to mount the drives and declare the paths.\n",
        "\n",
        "You can load the data directy from an online url by doing this:\n",
        "\n",
        "```py\n",
        "path_to_file = tf.keras.utils.get_file('shakespeare.txt', 'https://storage.googleapis.com/download.tensorflow.org/data/shakespeare.txt')\n",
        "\n",
        "```"
      ]
    },
    {
      "cell_type": "code",
      "metadata": {
        "colab": {
          "base_uri": "https://localhost:8080/"
        },
        "id": "Pl_k3FsibGWF",
        "outputId": "fc088b40-6145-4b57-c524-b0d0ed0b1172"
      },
      "source": [
        "from google.colab import drive\n",
        "drive.mount('/content/drive')"
      ],
      "execution_count": 2,
      "outputs": [
        {
          "output_type": "stream",
          "text": [
            "Mounted at /content/drive\n"
          ],
          "name": "stdout"
        }
      ]
    },
    {
      "cell_type": "code",
      "metadata": {
        "colab": {
          "base_uri": "https://localhost:8080/"
        },
        "id": "4-Ml3sHPbGTZ",
        "outputId": "6dc60e12-f779-4448-d595-0d7a3b512074"
      },
      "source": [
        "file_path = '/content/drive/My Drive/NLP Data/text-gen/shakespeare.txt'\n",
        "os.path.exists(file_path)"
      ],
      "execution_count": 3,
      "outputs": [
        {
          "output_type": "execute_result",
          "data": {
            "text/plain": [
              "True"
            ]
          },
          "metadata": {
            "tags": []
          },
          "execution_count": 3
        }
      ]
    },
    {
      "cell_type": "markdown",
      "metadata": {
        "id": "O_L8q4x4exBC"
      },
      "source": [
        "### Reading the data."
      ]
    },
    {
      "cell_type": "code",
      "metadata": {
        "colab": {
          "base_uri": "https://localhost:8080/"
        },
        "id": "KfCoQEjDbGQN",
        "outputId": "181e2004-520d-456f-b57a-e2130076cae0"
      },
      "source": [
        "text = open(file_path, 'rb').read().decode(encoding=\"utf-8\")\n",
        "print(f'Length of text: {len(text)} characters')"
      ],
      "execution_count": 4,
      "outputs": [
        {
          "output_type": "stream",
          "text": [
            "Length of text: 1115394 characters\n"
          ],
          "name": "stdout"
        }
      ]
    },
    {
      "cell_type": "markdown",
      "metadata": {
        "id": "0i4M_jeEfAk7"
      },
      "source": [
        "### Checking some examples"
      ]
    },
    {
      "cell_type": "code",
      "metadata": {
        "colab": {
          "base_uri": "https://localhost:8080/"
        },
        "id": "wc9mNPl7bGM6",
        "outputId": "27b45fcb-3ee8-4ea6-967f-cc49e5acbe7c"
      },
      "source": [
        "print(text[:250])"
      ],
      "execution_count": 5,
      "outputs": [
        {
          "output_type": "stream",
          "text": [
            "First Citizen:\n",
            "Before we proceed any further, hear me speak.\n",
            "\n",
            "All:\n",
            "Speak, speak.\n",
            "\n",
            "First Citizen:\n",
            "You are all resolved rather to die than to famish?\n",
            "\n",
            "All:\n",
            "Resolved. resolved.\n",
            "\n",
            "First Citizen:\n",
            "First, you know Caius Marcius is chief enemy to the people.\n",
            "\n"
          ],
          "name": "stdout"
        }
      ]
    },
    {
      "cell_type": "markdown",
      "metadata": {
        "id": "9JO8MsIsfGgM"
      },
      "source": [
        "### Character vocab size."
      ]
    },
    {
      "cell_type": "code",
      "metadata": {
        "colab": {
          "base_uri": "https://localhost:8080/"
        },
        "id": "DAHjhbffbGKU",
        "outputId": "b759e92e-500c-43e8-e1d3-90e4cd3cfe83"
      },
      "source": [
        "vocab = sorted(set(text))\n",
        "print(f'{len(vocab)} unique characters')"
      ],
      "execution_count": 6,
      "outputs": [
        {
          "output_type": "stream",
          "text": [
            "65 unique characters\n"
          ],
          "name": "stdout"
        }
      ]
    },
    {
      "cell_type": "markdown",
      "metadata": {
        "id": "kNS_38HtfQU6"
      },
      "source": [
        "### Text Processing\n",
        "\n",
        "1. Vectorizing the text.\n",
        "\n",
        "Before training, you need to convert the strings to a numerical representation.\n",
        "\n",
        "The `preprocessing.StringLookup` layer can convert each character into a numeric ID. It just needs the text to be split into tokens first."
      ]
    },
    {
      "cell_type": "code",
      "metadata": {
        "colab": {
          "base_uri": "https://localhost:8080/"
        },
        "id": "yBBJcBXgbGHF",
        "outputId": "e5e52d40-83c4-46a4-8bac-fc86b064db70"
      },
      "source": [
        "example_texts = ['abcdefg', 'xyz']\n",
        "\n",
        "chars = tf.strings.unicode_split(example_texts, input_encoding='UTF-8')\n",
        "chars"
      ],
      "execution_count": 7,
      "outputs": [
        {
          "output_type": "execute_result",
          "data": {
            "text/plain": [
              "<tf.RaggedTensor [[b'a', b'b', b'c', b'd', b'e', b'f', b'g'], [b'x', b'y', b'z']]>"
            ]
          },
          "metadata": {
            "tags": []
          },
          "execution_count": 7
        }
      ]
    },
    {
      "cell_type": "markdown",
      "metadata": {
        "id": "TeAdhxgkfuvi"
      },
      "source": [
        "### Creating the ` preprocessing.StringLookup` layer.\n",
        "The `StringLookup` maps strings from a vocabulary to integer indices."
      ]
    },
    {
      "cell_type": "code",
      "metadata": {
        "id": "AuOgj6nZbGEF"
      },
      "source": [
        "ids_from_chars = preprocessing.StringLookup(\n",
        "    vocabulary=list(vocab), mask_token=None\n",
        ")"
      ],
      "execution_count": 9,
      "outputs": []
    },
    {
      "cell_type": "markdown",
      "metadata": {
        "id": "r_348pppgmm8"
      },
      "source": [
        "It converts form tokens to character IDs:"
      ]
    },
    {
      "cell_type": "code",
      "metadata": {
        "colab": {
          "base_uri": "https://localhost:8080/"
        },
        "id": "axMu1lg1bGBl",
        "outputId": "c64843bd-3430-4d5c-81e0-236210f65f7e"
      },
      "source": [
        "ids = ids_from_chars(chars)\n",
        "ids"
      ],
      "execution_count": 14,
      "outputs": [
        {
          "output_type": "execute_result",
          "data": {
            "text/plain": [
              "<tf.RaggedTensor [[40, 41, 42, 43, 44, 45, 46], [63, 64, 65]]>"
            ]
          },
          "metadata": {
            "tags": []
          },
          "execution_count": 14
        }
      ]
    },
    {
      "cell_type": "markdown",
      "metadata": {
        "id": "zxZVKooAgyr6"
      },
      "source": [
        "Since the goal is to generate text, it will also be important to invert this representation and recover human-readable strings from it. For this you can use `preprocessing.StringLookup(..., invert=True)`."
      ]
    },
    {
      "cell_type": "code",
      "metadata": {
        "id": "NpXCPuNGbF-0"
      },
      "source": [
        "chars_from_ids = preprocessing.StringLookup(\n",
        "  vocabulary=ids_from_chars.get_vocabulary(), invert=True, mask_token=None  \n",
        ")\n"
      ],
      "execution_count": 17,
      "outputs": []
    },
    {
      "cell_type": "markdown",
      "metadata": {
        "id": "HBXRYolqhQhy"
      },
      "source": [
        "This layer recovers the characters from the vectors of IDs, and returns them as a `tf.RaggedTensor` of characters:"
      ]
    },
    {
      "cell_type": "code",
      "metadata": {
        "colab": {
          "base_uri": "https://localhost:8080/"
        },
        "id": "MKHHj3T3hM7r",
        "outputId": "04d8e5ad-42fa-4738-8d82-5072a900b378"
      },
      "source": [
        "chars = chars_from_ids(ids)\n",
        "chars"
      ],
      "execution_count": 18,
      "outputs": [
        {
          "output_type": "execute_result",
          "data": {
            "text/plain": [
              "<tf.RaggedTensor [[b'a', b'b', b'c', b'd', b'e', b'f', b'g'], [b'x', b'y', b'z']]>"
            ]
          },
          "metadata": {
            "tags": []
          },
          "execution_count": 18
        }
      ]
    },
    {
      "cell_type": "markdown",
      "metadata": {
        "id": "zDsEqQ6Chl5Z"
      },
      "source": [
        "### We can join the strings by using the `tf.strins.reduce_join` function.\n",
        "\n",
        "Example:"
      ]
    },
    {
      "cell_type": "code",
      "metadata": {
        "colab": {
          "base_uri": "https://localhost:8080/"
        },
        "id": "GS59AMglhMxm",
        "outputId": "413f1f28-87dc-474a-8664-126360fad016"
      },
      "source": [
        "tf.strings.reduce_join(chars[0], axis=-1)"
      ],
      "execution_count": 21,
      "outputs": [
        {
          "output_type": "execute_result",
          "data": {
            "text/plain": [
              "<tf.Tensor: shape=(), dtype=string, numpy=b'abcdefg'>"
            ]
          },
          "metadata": {
            "tags": []
          },
          "execution_count": 21
        }
      ]
    },
    {
      "cell_type": "markdown",
      "metadata": {
        "id": "3GMjFu6Ph7Jj"
      },
      "source": [
        "So let's create a helper function that will join the characters by taking id's and returns us a word."
      ]
    },
    {
      "cell_type": "code",
      "metadata": {
        "id": "kLxTwzXBbF8K"
      },
      "source": [
        "def text_from_ids(ids):\n",
        "  return tf.strings.reduce_join(\n",
        "      chars_from_ids(ids), axis=-1\n",
        "  ).numpy()"
      ],
      "execution_count": 25,
      "outputs": []
    },
    {
      "cell_type": "code",
      "metadata": {
        "colab": {
          "base_uri": "https://localhost:8080/"
        },
        "id": "uzBqcsKebF5L",
        "outputId": "68f181aa-9c4b-47ba-ec89-c8da7f4f01ef"
      },
      "source": [
        "text_from_ids(ids)"
      ],
      "execution_count": 26,
      "outputs": [
        {
          "output_type": "execute_result",
          "data": {
            "text/plain": [
              "array([b'abcdefg', b'xyz'], dtype=object)"
            ]
          },
          "metadata": {
            "tags": []
          },
          "execution_count": 26
        }
      ]
    },
    {
      "cell_type": "markdown",
      "metadata": {
        "id": "GHmPyN3riYUj"
      },
      "source": [
        "### The prediction task.\n",
        "We are trying to train a model that will learn, given a character or a sequence of character what is the most probable next character to occur in the sequence.\n",
        "\n",
        "The input to the model will be a sequence of characters, and you train the model to predict the output—the following character at each time step.\n",
        "\n",
        "Since RNNs maintain an internal state that depends on the previously seen elements, given all the characters computed until this moment, what is the next character?\n",
        "\n",
        "### Creating training examples targets.\n",
        "\n",
        "Next divide the text into example sequences. Each input sequence will contain `seq_length` characters from the text.\n",
        "\n",
        "For each input sequence, the corresponding targets contain the same length of text, except shifted one character to the right.\n",
        "\n",
        "So break the text into chunks of `seq_length+1`. For example, say `seq_length` is 4 and our text is \"Hello\". The input sequence would be \"Hell\", and the target sequence \"ello\".\n",
        "\n",
        "To do this first use the `tf.data.Dataset.from_tensor_slices` function to convert the text vector into a stream of character indices."
      ]
    },
    {
      "cell_type": "code",
      "metadata": {
        "colab": {
          "base_uri": "https://localhost:8080/"
        },
        "id": "pvuJaZCHa7d5",
        "outputId": "9c00db1a-14cf-4f7d-8ce0-6735038f323d"
      },
      "source": [
        "all_ids = ids_from_chars(tf.strings.unicode_split(text, 'UTF-8'))\n",
        "all_ids"
      ],
      "execution_count": 27,
      "outputs": [
        {
          "output_type": "execute_result",
          "data": {
            "text/plain": [
              "<tf.Tensor: shape=(1115394,), dtype=int64, numpy=array([19, 48, 57, ..., 46,  9,  1])>"
            ]
          },
          "metadata": {
            "tags": []
          },
          "execution_count": 27
        }
      ]
    },
    {
      "cell_type": "code",
      "metadata": {
        "colab": {
          "base_uri": "https://localhost:8080/"
        },
        "id": "5xM9eMb1hjBx",
        "outputId": "0b37e28a-a8c5-4a9a-8119-e70ed5085c7f"
      },
      "source": [
        "text_from_ids(all_ids[:10])"
      ],
      "execution_count": 28,
      "outputs": [
        {
          "output_type": "execute_result",
          "data": {
            "text/plain": [
              "b'First Citi'"
            ]
          },
          "metadata": {
            "tags": []
          },
          "execution_count": 28
        }
      ]
    },
    {
      "cell_type": "markdown",
      "metadata": {
        "id": "5jd5D1AtjtU1"
      },
      "source": [
        "### Create the dataset."
      ]
    },
    {
      "cell_type": "code",
      "metadata": {
        "id": "q1O-kCNDhi_J"
      },
      "source": [
        "ids_dataset = tf.data.Dataset.from_tensor_slices(\n",
        "    all_ids\n",
        ")"
      ],
      "execution_count": 29,
      "outputs": []
    },
    {
      "cell_type": "markdown",
      "metadata": {
        "id": "GOKRVzVqj3k3"
      },
      "source": [
        "### Checking if it worsk"
      ]
    },
    {
      "cell_type": "code",
      "metadata": {
        "colab": {
          "base_uri": "https://localhost:8080/"
        },
        "id": "RkE9nWxihi73",
        "outputId": "3393cef9-ff25-4172-f471-2d40b771ceaf"
      },
      "source": [
        "for ids in ids_dataset.take(10):\n",
        "  print(chars_from_ids(ids).numpy().decode('utf-8'))"
      ],
      "execution_count": 32,
      "outputs": [
        {
          "output_type": "stream",
          "text": [
            "F\n",
            "i\n",
            "r\n",
            "s\n",
            "t\n",
            " \n",
            "C\n",
            "i\n",
            "t\n",
            "i\n"
          ],
          "name": "stdout"
        }
      ]
    },
    {
      "cell_type": "code",
      "metadata": {
        "id": "vx5D1e1ahi5C"
      },
      "source": [
        "seq_length = 100\n",
        "examples_per_epoch = len(text) "
      ],
      "execution_count": 34,
      "outputs": []
    },
    {
      "cell_type": "markdown",
      "metadata": {
        "id": "sipYRJLShizY"
      },
      "source": [
        "### Batching our dataset\n",
        "The `batch` method lets you easily convert these individual characters to sequences of the desired size."
      ]
    },
    {
      "cell_type": "code",
      "metadata": {
        "colab": {
          "base_uri": "https://localhost:8080/"
        },
        "id": "58IExy9pkubH",
        "outputId": "e236b81b-20cb-449e-d060-c34c565de3e7"
      },
      "source": [
        "sequences = ids_dataset.batch(seq_length+1, drop_remainder=True)\n",
        "for seq in sequences.take(1):\n",
        "  print(chars_from_ids(seq))"
      ],
      "execution_count": 36,
      "outputs": [
        {
          "output_type": "stream",
          "text": [
            "tf.Tensor(\n",
            "[b'F' b'i' b'r' b's' b't' b' ' b'C' b'i' b't' b'i' b'z' b'e' b'n' b':'\n",
            " b'\\n' b'B' b'e' b'f' b'o' b'r' b'e' b' ' b'w' b'e' b' ' b'p' b'r' b'o'\n",
            " b'c' b'e' b'e' b'd' b' ' b'a' b'n' b'y' b' ' b'f' b'u' b'r' b't' b'h'\n",
            " b'e' b'r' b',' b' ' b'h' b'e' b'a' b'r' b' ' b'm' b'e' b' ' b's' b'p'\n",
            " b'e' b'a' b'k' b'.' b'\\n' b'\\n' b'A' b'l' b'l' b':' b'\\n' b'S' b'p' b'e'\n",
            " b'a' b'k' b',' b' ' b's' b'p' b'e' b'a' b'k' b'.' b'\\n' b'\\n' b'F' b'i'\n",
            " b'r' b's' b't' b' ' b'C' b'i' b't' b'i' b'z' b'e' b'n' b':' b'\\n' b'Y'\n",
            " b'o' b'u' b' '], shape=(101,), dtype=string)\n"
          ],
          "name": "stdout"
        }
      ]
    },
    {
      "cell_type": "markdown",
      "metadata": {
        "id": "zbZRE6lckm-H"
      },
      "source": [
        "It's easier to see what this is doing if you join the tokens back into strings:"
      ]
    },
    {
      "cell_type": "code",
      "metadata": {
        "colab": {
          "base_uri": "https://localhost:8080/"
        },
        "id": "CsYGSx9Hhiwo",
        "outputId": "beed21fb-0d36-40c2-dc45-6e99c4f34d46"
      },
      "source": [
        "for seq in sequences.take(5):\n",
        "  print(text_from_ids(seq))"
      ],
      "execution_count": 37,
      "outputs": [
        {
          "output_type": "stream",
          "text": [
            "b'First Citizen:\\nBefore we proceed any further, hear me speak.\\n\\nAll:\\nSpeak, speak.\\n\\nFirst Citizen:\\nYou '\n",
            "b'are all resolved rather to die than to famish?\\n\\nAll:\\nResolved. resolved.\\n\\nFirst Citizen:\\nFirst, you k'\n",
            "b\"now Caius Marcius is chief enemy to the people.\\n\\nAll:\\nWe know't, we know't.\\n\\nFirst Citizen:\\nLet us ki\"\n",
            "b\"ll him, and we'll have corn at our own price.\\nIs't a verdict?\\n\\nAll:\\nNo more talking on't; let it be d\"\n",
            "b'one: away, away!\\n\\nSecond Citizen:\\nOne word, good citizens.\\n\\nFirst Citizen:\\nWe are accounted poor citi'\n"
          ],
          "name": "stdout"
        }
      ]
    },
    {
      "cell_type": "markdown",
      "metadata": {
        "id": "8DVvWxpLlPpc"
      },
      "source": [
        "For training you'll need a dataset of (`input`, `label`) pairs. Where input and `label` are sequences. At each time step the input is the current character and the `label` is the next character.\n",
        "\n",
        "Here's a function that takes a sequence as input, duplicates, and shifts it to align the input and label for each timestep:"
      ]
    },
    {
      "cell_type": "code",
      "metadata": {
        "id": "-J2hc1FMhiuS"
      },
      "source": [
        "def split_input_target(sequence):\n",
        "  input_text = sequence[:-1]\n",
        "  target_text = sequence[1:]\n",
        "  return input_text, target_text"
      ],
      "execution_count": 40,
      "outputs": []
    },
    {
      "cell_type": "code",
      "metadata": {
        "colab": {
          "base_uri": "https://localhost:8080/"
        },
        "id": "8RDbPmZfhiq6",
        "outputId": "ed190a08-3992-4c78-b9ea-cd843abf364b"
      },
      "source": [
        "split_input_target(list(\"Tensorflow\"))"
      ],
      "execution_count": 41,
      "outputs": [
        {
          "output_type": "execute_result",
          "data": {
            "text/plain": [
              "(['T', 'e', 'n', 's', 'o', 'r', 'f', 'l', 'o'],\n",
              " ['e', 'n', 's', 'o', 'r', 'f', 'l', 'o', 'w'])"
            ]
          },
          "metadata": {
            "tags": []
          },
          "execution_count": 41
        }
      ]
    },
    {
      "cell_type": "markdown",
      "metadata": {
        "id": "RyxLBBWYmBYd"
      },
      "source": [
        "### Now we should create our new dataset"
      ]
    },
    {
      "cell_type": "code",
      "metadata": {
        "id": "0pxSFtcBhiny"
      },
      "source": [
        "dataset = sequences.map(split_input_target)"
      ],
      "execution_count": 42,
      "outputs": []
    },
    {
      "cell_type": "code",
      "metadata": {
        "colab": {
          "base_uri": "https://localhost:8080/"
        },
        "id": "v_e8lXqfmIKk",
        "outputId": "2a65f92b-3c24-49ae-fb15-7a252cf0ca96"
      },
      "source": [
        "for input_example, target_example in dataset.take(1):\n",
        "  print(\"Input :\", text_from_ids(input_example))\n",
        "  print(\"Target:\", text_from_ids(target_example))"
      ],
      "execution_count": 44,
      "outputs": [
        {
          "output_type": "stream",
          "text": [
            "Input : b'First Citizen:\\nBefore we proceed any further, hear me speak.\\n\\nAll:\\nSpeak, speak.\\n\\nFirst Citizen:\\nYou'\n",
            "Target: b'irst Citizen:\\nBefore we proceed any further, hear me speak.\\n\\nAll:\\nSpeak, speak.\\n\\nFirst Citizen:\\nYou '\n"
          ],
          "name": "stdout"
        }
      ]
    },
    {
      "cell_type": "markdown",
      "metadata": {
        "id": "bIFhCOqHmSw_"
      },
      "source": [
        "### Creating batches."
      ]
    },
    {
      "cell_type": "markdown",
      "metadata": {
        "id": "2oph4xHHmMKg"
      },
      "source": [
        "We used `tf.data` to split the text into manageable sequences. But before feeding this data into the model, we need to shuffle the data and pack it into batches."
      ]
    },
    {
      "cell_type": "code",
      "metadata": {
        "colab": {
          "base_uri": "https://localhost:8080/"
        },
        "id": "IG50wxFWmlrb",
        "outputId": "24e6c869-c0da-4b59-99bc-fbd8f5a94141"
      },
      "source": [
        "BATCH_SIZE = 64\n",
        "BUFFER_SIZE = 10000\n",
        "\n",
        "dataset = dataset.shuffle(\n",
        "    BUFFER_SIZE\n",
        ").batch(BATCH_SIZE,\n",
        "        drop_remainder=True).prefetch(tf.data.experimental.AUTOTUNE)\n",
        "\n",
        "dataset"
      ],
      "execution_count": 46,
      "outputs": [
        {
          "output_type": "execute_result",
          "data": {
            "text/plain": [
              "<PrefetchDataset shapes: ((64, 100), (64, 100)), types: (tf.int64, tf.int64)>"
            ]
          },
          "metadata": {
            "tags": []
          },
          "execution_count": 46
        }
      ]
    },
    {
      "cell_type": "markdown",
      "metadata": {
        "id": "S2GQNFnDm7NV"
      },
      "source": [
        "### Building the Model.\n",
        "\n",
        "We are going to use the `Keras Subclassing` to create our model this is because of flexebility. This model has three layers:\n",
        "1. The Embedding layer \n",
        "  * The input layer. A trainable lookup table that will map each character-ID to a vector with `embedding_dim` dimensions;\n",
        "\n",
        "2. The GRU\n",
        "  * A type of RNN with size units=rnn_units (You can also use an LSTM layer here.)\n",
        "3. THe Dense \n",
        "  * The output layer, with vocab_size outputs. It outputs one logit for each character in the vocabulary. These are the log-likelihood of each character according to the model."
      ]
    },
    {
      "cell_type": "code",
      "metadata": {
        "colab": {
          "base_uri": "https://localhost:8080/"
        },
        "id": "f7ZYB72Emz5o",
        "outputId": "cd1db20f-12ab-49e9-b4a1-69ad9b0030da"
      },
      "source": [
        "vocab_size = len(vocab)\n",
        "embedding_dim = 256\n",
        "rnn_units = 1024\n",
        "\n",
        "vocab_size"
      ],
      "execution_count": 47,
      "outputs": [
        {
          "output_type": "execute_result",
          "data": {
            "text/plain": [
              "65"
            ]
          },
          "metadata": {
            "tags": []
          },
          "execution_count": 47
        }
      ]
    },
    {
      "cell_type": "code",
      "metadata": {
        "id": "foQ7JMRsrFjT"
      },
      "source": [
        "class Model(tf.keras.Model):\n",
        "  def __init__(self,\n",
        "               vocab_size,\n",
        "               embedding_dim,\n",
        "               rnn_units\n",
        "               ):\n",
        "    super(Model, self).__init__()\n",
        "    self.embedding = keras.layers.Embedding(\n",
        "        vocab_size, embedding_dim\n",
        "    )\n",
        "    self.gru = keras.layers.GRU(rnn_units,\n",
        "                                return_sequences=True,\n",
        "                                return_state=True\n",
        "                                )\n",
        "    self.dense = keras.layers.Dense(vocab_size)\n",
        "\n",
        "  def call(self, inputs, states=None,return_state=False, training=False):\n",
        "    x = self.embedding(inputs, training=training)\n",
        "    if states is None:\n",
        "      states = self.gru.get_initial_state(x)\n",
        "    x, states = self.gru(x, initial_state=states, training=training)\n",
        "    x = self.dense(x, training=training)\n",
        "\n",
        "    if return_state:\n",
        "      return x, states\n",
        "    else:\n",
        "      return x\n"
      ],
      "execution_count": 55,
      "outputs": []
    },
    {
      "cell_type": "markdown",
      "metadata": {
        "id": "V53IyJFzsSDH"
      },
      "source": [
        "### Creating the model instance"
      ]
    },
    {
      "cell_type": "code",
      "metadata": {
        "id": "7EHPNBDHsRbX"
      },
      "source": [
        "model = Model(\n",
        "    vocab_size=len(ids_from_chars.get_vocabulary()),\n",
        "    embedding_dim=embedding_dim,\n",
        "    rnn_units=rnn_units\n",
        ")"
      ],
      "execution_count": 56,
      "outputs": []
    },
    {
      "cell_type": "markdown",
      "metadata": {
        "id": "CueT7Qw6snK2"
      },
      "source": [
        "### Visualization\n",
        "For each character the model looks up the embedding, runs the GRU one timestep with the embedding as input, and applies the dense layer to generate logits predicting the `log-likelihood` of the next character:\n",
        "\n",
        "![img](https://www.tensorflow.org/text/tutorials/images/text_generation_training.png)\n",
        "\n",
        "### Trying the model\n",
        "Now run the model to see that it behaves as expected.\n",
        "\n",
        "First check the shape of the output:\n",
        "\n"
      ]
    },
    {
      "cell_type": "code",
      "metadata": {
        "colab": {
          "base_uri": "https://localhost:8080/"
        },
        "id": "e8waN3GTsYT-",
        "outputId": "5c8e1eef-62d0-4e70-c949-7e2cacbdb841"
      },
      "source": [
        "for input_example_batch, target_example_batch in dataset.take(1):\n",
        "  example_batch_predictions = model(input_example_batch)\n",
        "  print(example_batch_predictions.shape, \"# (batch_size, sequence_length, vocab_size)\")\n"
      ],
      "execution_count": 57,
      "outputs": [
        {
          "output_type": "stream",
          "text": [
            "(64, 100, 66) # (batch_size, sequence_length, vocab_size)\n"
          ],
          "name": "stdout"
        }
      ]
    },
    {
      "cell_type": "markdown",
      "metadata": {
        "id": "CgVDKHBntoNG"
      },
      "source": [
        "In the above example the sequence length of the input is `100` but the model can be run on inputs of any length:"
      ]
    },
    {
      "cell_type": "code",
      "metadata": {
        "colab": {
          "base_uri": "https://localhost:8080/"
        },
        "id": "uCe5AMxpsYtR",
        "outputId": "5a3edcd4-a35b-433b-8e30-ea40fe78a400"
      },
      "source": [
        "model.summary()"
      ],
      "execution_count": 58,
      "outputs": [
        {
          "output_type": "stream",
          "text": [
            "Model: \"model_2\"\n",
            "_________________________________________________________________\n",
            "Layer (type)                 Output Shape              Param #   \n",
            "=================================================================\n",
            "embedding_2 (Embedding)      multiple                  16896     \n",
            "_________________________________________________________________\n",
            "gru_2 (GRU)                  multiple                  3938304   \n",
            "_________________________________________________________________\n",
            "dense_2 (Dense)              multiple                  67650     \n",
            "=================================================================\n",
            "Total params: 4,022,850\n",
            "Trainable params: 4,022,850\n",
            "Non-trainable params: 0\n",
            "_________________________________________________________________\n"
          ],
          "name": "stdout"
        }
      ]
    },
    {
      "cell_type": "markdown",
      "metadata": {
        "id": "pqvDYSkAuCGa"
      },
      "source": [
        "To get actual predictions from the model you need to sample from the output distribution, to get actual character indices. This distribution is defined by the logits over the character vocabulary."
      ]
    },
    {
      "cell_type": "markdown",
      "metadata": {
        "id": "ECNI_SeYuNE5"
      },
      "source": [
        "### Model training\n",
        "\n",
        "At this point the problem can be treated as a classification problem, predicting the next character.\n",
        "\n",
        "### Optimizer and Loss function\n",
        "The standard `tf.keras.losses.sparse_categorical_crossentropy` loss function works in this case because it is applied across the last dimension of the predictions.\n",
        "\n",
        "For the optimizer we are going to use the `Adam` with defaults params"
      ]
    },
    {
      "cell_type": "code",
      "metadata": {
        "id": "0iiXhL0ft3Rq"
      },
      "source": [
        "criterion = keras.losses.SparseCategoricalCrossentropy(from_logits=True)"
      ],
      "execution_count": 60,
      "outputs": []
    },
    {
      "cell_type": "code",
      "metadata": {
        "id": "u7zl8H1wvIT9"
      },
      "source": [
        "model.compile(optimizer=\"adam\", loss=criterion, metrics=[\"acc\"])"
      ],
      "execution_count": 61,
      "outputs": []
    },
    {
      "cell_type": "markdown",
      "metadata": {
        "id": "zwABDpa1vVoC"
      },
      "source": [
        "### Configuring checkpoints"
      ]
    },
    {
      "cell_type": "code",
      "metadata": {
        "id": "PNQVYN1yvUnu"
      },
      "source": [
        "# Directory where the checkpoints will be saved\n",
        "checkpoint_dir = './training_checkpoints'\n",
        "# Name of the checkpoint files\n",
        "checkpoint_prefix = os.path.join(checkpoint_dir, \"ckpt_{epoch}\")\n",
        "\n",
        "checkpoint_callback = keras.callbacks.ModelCheckpoint(\n",
        "    filepath=checkpoint_prefix,\n",
        "    save_weights_only=True)"
      ],
      "execution_count": 63,
      "outputs": []
    },
    {
      "cell_type": "code",
      "metadata": {
        "colab": {
          "base_uri": "https://localhost:8080/"
        },
        "id": "kE9MUgy-vcM6",
        "outputId": "c16bfafa-e2a5-4e1b-d650-61b6a9925fcd"
      },
      "source": [
        "EPOCHS = 30\n",
        "history = model.fit(dataset, epochs=EPOCHS, \n",
        "                    callbacks=[checkpoint_callback])"
      ],
      "execution_count": 64,
      "outputs": [
        {
          "output_type": "stream",
          "text": [
            "Epoch 1/30\n",
            "172/172 [==============================] - 27s 139ms/step - loss: 2.7272 - acc: 0.2777\n",
            "Epoch 2/30\n",
            "172/172 [==============================] - 25s 138ms/step - loss: 1.9897 - acc: 0.4179\n",
            "Epoch 3/30\n",
            "172/172 [==============================] - 25s 137ms/step - loss: 1.7141 - acc: 0.4914\n",
            "Epoch 4/30\n",
            "172/172 [==============================] - 25s 138ms/step - loss: 1.5519 - acc: 0.5344\n",
            "Epoch 5/30\n",
            "172/172 [==============================] - 25s 137ms/step - loss: 1.4525 - acc: 0.5599\n",
            "Epoch 6/30\n",
            "172/172 [==============================] - 25s 138ms/step - loss: 1.3843 - acc: 0.5765\n",
            "Epoch 7/30\n",
            "172/172 [==============================] - 25s 138ms/step - loss: 1.3318 - acc: 0.5897\n",
            "Epoch 8/30\n",
            "172/172 [==============================] - 25s 138ms/step - loss: 1.2875 - acc: 0.6008\n",
            "Epoch 9/30\n",
            "172/172 [==============================] - 25s 137ms/step - loss: 1.2465 - acc: 0.6113\n",
            "Epoch 10/30\n",
            "172/172 [==============================] - 25s 137ms/step - loss: 1.2067 - acc: 0.6222\n",
            "Epoch 11/30\n",
            "172/172 [==============================] - 25s 138ms/step - loss: 1.1673 - acc: 0.6330\n",
            "Epoch 12/30\n",
            "172/172 [==============================] - 25s 139ms/step - loss: 1.1263 - acc: 0.6443\n",
            "Epoch 13/30\n",
            "172/172 [==============================] - 25s 139ms/step - loss: 1.0834 - acc: 0.6566\n",
            "Epoch 14/30\n",
            "172/172 [==============================] - 25s 138ms/step - loss: 1.0374 - acc: 0.6706\n",
            "Epoch 15/30\n",
            "172/172 [==============================] - 25s 139ms/step - loss: 0.9889 - acc: 0.6855\n",
            "Epoch 16/30\n",
            "172/172 [==============================] - 25s 138ms/step - loss: 0.9378 - acc: 0.7019\n",
            "Epoch 17/30\n",
            "172/172 [==============================] - 25s 138ms/step - loss: 0.8848 - acc: 0.7185\n",
            "Epoch 18/30\n",
            "172/172 [==============================] - 25s 139ms/step - loss: 0.8313 - acc: 0.7358\n",
            "Epoch 19/30\n",
            "172/172 [==============================] - 25s 138ms/step - loss: 0.7782 - acc: 0.7535\n",
            "Epoch 20/30\n",
            "172/172 [==============================] - 25s 139ms/step - loss: 0.7291 - acc: 0.7696\n",
            "Epoch 21/30\n",
            "172/172 [==============================] - 25s 139ms/step - loss: 0.6844 - acc: 0.7836\n",
            "Epoch 22/30\n",
            "172/172 [==============================] - 25s 138ms/step - loss: 0.6437 - acc: 0.7964\n",
            "Epoch 23/30\n",
            "172/172 [==============================] - 25s 138ms/step - loss: 0.6086 - acc: 0.8074\n",
            "Epoch 24/30\n",
            "172/172 [==============================] - 25s 138ms/step - loss: 0.5770 - acc: 0.8174\n",
            "Epoch 25/30\n",
            "172/172 [==============================] - 25s 139ms/step - loss: 0.5518 - acc: 0.8247\n",
            "Epoch 26/30\n",
            "172/172 [==============================] - 25s 138ms/step - loss: 0.5309 - acc: 0.8312\n",
            "Epoch 27/30\n",
            "172/172 [==============================] - 25s 137ms/step - loss: 0.5134 - acc: 0.8358\n",
            "Epoch 28/30\n",
            "172/172 [==============================] - 25s 138ms/step - loss: 0.4967 - acc: 0.8406\n",
            "Epoch 29/30\n",
            "172/172 [==============================] - 25s 138ms/step - loss: 0.4852 - acc: 0.8435\n",
            "Epoch 30/30\n",
            "172/172 [==============================] - 25s 138ms/step - loss: 0.4731 - acc: 0.8471\n"
          ],
          "name": "stdout"
        }
      ]
    },
    {
      "cell_type": "markdown",
      "metadata": {
        "id": "353XzOguvuX2"
      },
      "source": [
        "### Visualizing the model training history."
      ]
    },
    {
      "cell_type": "code",
      "metadata": {
        "colab": {
          "base_uri": "https://localhost:8080/",
          "height": 281
        },
        "id": "Dc8rzZCRvt9G",
        "outputId": "18e92296-d26a-4b5b-e272-bd23be834fbe"
      },
      "source": [
        "import pandas as pd\n",
        "from matplotlib import pyplot as plt\n",
        "\n",
        "pd.DataFrame(history.history).plot(title=\"model training history\")\n",
        "plt.show()"
      ],
      "execution_count": 67,
      "outputs": [
        {
          "output_type": "display_data",
          "data": {
            "image/png": "[encoded data removed]",
            "text/plain": [
              "<Figure size 432x288 with 1 Axes>"
            ]
          },
          "metadata": {
            "tags": [],
            "needs_background": "light"
          }
        }
      ]
    },
    {
      "cell_type": "markdown",
      "metadata": {
        "id": "TuIOmTbAwIga"
      },
      "source": [
        "### Generating text\n",
        "The simplest way to generate text with this model is to run it in a loop, and keep track of the model's internal state as we execute it.\n",
        "\n",
        "![img](https://www.tensorflow.org/text/tutorials/images/text_generation_sampling.png)\n",
        "\n",
        "Each time you call the model you pass in some text and an internal state. The model returns a prediction for the next character and its new state. Pass the prediction and state back in to continue generating text.\n",
        "\n",
        "The following makes a single step prediction:\n"
      ]
    },
    {
      "cell_type": "code",
      "metadata": {
        "id": "7LkS72AtweFT"
      },
      "source": [
        "class OneStep(keras.Model):\n",
        "  def __init__(self,\n",
        "               model,\n",
        "               chars_from_ids, \n",
        "               ids_from_chars,\n",
        "               temperature=1.0\n",
        "               ):\n",
        "    super(OneStep, self).__init__()\n",
        "    self.temperature = temperature\n",
        "    self.model = model\n",
        "    self.chars_from_ids = chars_from_ids\n",
        "    self.ids_from_chars = ids_from_chars\n",
        "\n",
        "    ## Create a mask to prevent \"[UNK]\" from being generated.\n",
        "    skip_ids = self.ids_from_chars(['[UNK]'])[:, None]\n",
        "\n",
        "    sparse_mask = tf.SparseTensor(\n",
        "        # Put a -inf at each bad index.\n",
        "        values=[-float('inf')]*len(skip_ids),\n",
        "        indices=skip_ids,\n",
        "        # Match the shape to the vocabulary\n",
        "        dense_shape=[len(ids_from_chars.get_vocabulary())]\n",
        "    )\n",
        "    self.prediction_mask = tf.sparse.to_dense(sparse_mask)\n",
        "  \n",
        "  @tf.function\n",
        "  def generate_one_step(self, inputs, states=None):\n",
        "    # Convert strings to token IDs.\n",
        "    input_chars = tf.strings.unicode_split(inputs, 'UTF-8')\n",
        "    input_ids = self.ids_from_chars(input_chars).to_tensor()\n",
        "\n",
        "    # Run the model.\n",
        "    # predicted_logits.shape is [batch, char, next_char_logits]\n",
        "    predicted_logits, states = self.model(inputs=input_ids, states=states,\n",
        "                                          return_state=True)\n",
        "    # Only use the last prediction.\n",
        "    predicted_logits = predicted_logits[:, -1, :]\n",
        "    predicted_logits = predicted_logits/self.temperature\n",
        "    # Apply the prediction mask: prevent \"[UNK]\" from being generated.\n",
        "    predicted_logits = predicted_logits + self.prediction_mask\n",
        "\n",
        "    # Sample the output logits to generate token IDs.\n",
        "    predicted_ids = tf.random.categorical(predicted_logits, num_samples=1)\n",
        "    predicted_ids = tf.squeeze(predicted_ids, axis=-1)\n",
        "\n",
        "    # Convert from token ids to characters\n",
        "    predicted_chars = self.chars_from_ids(predicted_ids)\n",
        "\n",
        "    # Return the characters and model state.\n",
        "    return predicted_chars, states\n"
      ],
      "execution_count": 68,
      "outputs": []
    },
    {
      "cell_type": "code",
      "metadata": {
        "id": "uYvCLc0ByX1o"
      },
      "source": [
        "one_step_model = OneStep(model, chars_from_ids, ids_from_chars)"
      ],
      "execution_count": 69,
      "outputs": []
    },
    {
      "cell_type": "markdown",
      "metadata": {
        "id": "Xl1iKjExyhAC"
      },
      "source": [
        "Let's run it in a loop to generate some text. Looking at the generated text, we'll see the model knows when to capitalize, make paragraphs and imitates a Shakespeare-like writing vocabulary. With the small number of training epochs, it has not yet learned to form coherent sentences."
      ]
    },
    {
      "cell_type": "code",
      "metadata": {
        "colab": {
          "base_uri": "https://localhost:8080/"
        },
        "id": "ifiULZN6y60K",
        "outputId": "cee08569-9c5f-4d8b-a6ce-c3eb33629c80"
      },
      "source": [
        "start = time.time()\n",
        "states = None\n",
        "next_char = tf.constant(['VOLUMNIA:'])\n",
        "result = [next_char]\n",
        "\n",
        "for n in range(1000):\n",
        "  next_char, states = one_step_model.generate_one_step(next_char, states=states)\n",
        "  result.append(next_char)\n",
        "\n",
        "result = tf.strings.join(result)\n",
        "end = time.time()\n",
        "print(result[0].numpy().decode('utf-8'), '\\n\\n' + '_'*80)\n",
        "print('\\nRun time:', end - start)\n"
      ],
      "execution_count": 71,
      "outputs": [
        {
          "output_type": "stream",
          "text": [
            "VOLUMNIA:\n",
            "I would thou hear's.\n",
            "\n",
            "YORK:\n",
            "I thank you, gentlemen, what say'st\n",
            "thou, and by me with your servant?\n",
            "\n",
            "VINCENTIO:\n",
            "Carrior, let us see't.\n",
            "\n",
            "FROTH:\n",
            "Be petition; yea, and me, better, Biondello,\n",
            "But did return for my son Lucentio his\n",
            "wandering and-dance. Where Merbridou\n",
            "Must help them, and not to question; you\n",
            "will not be aged banish'd. Let him be grain'd:\n",
            "Therefore be made and herbson that was much, in piercing steps,\n",
            "Be telling of thy long-seding arms: her face,\n",
            "Came to the bill that way home to thee;\n",
            "But what o' that?\n",
            "\n",
            "FLORIZEL:\n",
            "And he, my soul seen had my father's son:\n",
            "Peace, I have set my life and like to do\n",
            "this thichey and the wheeling of that. Who's thee,\n",
            "Very fool.\n",
            "\n",
            "Second Henry:\n",
            "Be pit on 't: then, I say, I come:\n",
            "And now forthwith never were as fair and loat,\n",
            "'Twixt six and now believe them.'\n",
            "But what learning is the tempest there?\n",
            "\n",
            "LADY ANNE:\n",
            "I hope, shall stop what you most along;\n",
            "Our general homes gone,\n",
            "And had her noble house; why Hast thou move our\n",
            "extermaid to England;\n",
            "Add war \n",
            "\n",
            "________________________________________________________________________________\n",
            "\n",
            "Run time: 3.5746331214904785\n"
          ],
          "name": "stdout"
        }
      ]
    },
    {
      "cell_type": "markdown",
      "metadata": {
        "id": "RJQTI8nL0rT8"
      },
      "source": [
        "To improve the model perfomance we may want to train for more epochs. Adding new layers, Maybe try to use LSTM.\n",
        "\n",
        "If we want the model to generate text faster the easiest thing we can do is batch the text generation. In the example below the model generates 5 outputs in about the same time it took to generate 1 above."
      ]
    },
    {
      "cell_type": "code",
      "metadata": {
        "colab": {
          "base_uri": "https://localhost:8080/"
        },
        "id": "mGf7r-vK0Re_",
        "outputId": "143a0db4-eb64-4f3e-e80a-8549f948ed30"
      },
      "source": [
        "start = time.time()\n",
        "states = None\n",
        "next_char = tf.constant(['ROMEO:', 'ROMEO:', 'ROMEO:', 'ROMEO:', 'ROMEO:'])\n",
        "result = [next_char]\n",
        "\n",
        "for n in range(1000):\n",
        "  next_char, states = one_step_model.generate_one_step(next_char, states=states)\n",
        "  result.append(next_char)\n",
        "\n",
        "result = tf.strings.join(result)\n",
        "end = time.time()\n",
        "\n",
        "for res in result:\n",
        "  print(res.numpy().decode('utf-8'))\n",
        "\n",
        "print('\\n\\n' + '_'*80)\n",
        "print('\\nRun time:', end - start)\n"
      ],
      "execution_count": 74,
      "outputs": [
        {
          "output_type": "stream",
          "text": [
            "ROMEO:\n",
            "My lord, I make a surpate none of your cousin\n",
            "Men drudge alas, alarums! Who's there, ho?\n",
            "\n",
            "VINCENTIO:\n",
            "But what's his transfor natures?\n",
            "\n",
            "CORIOLANUS:\n",
            "My guilt be done! Then, as I am inward.\n",
            "\n",
            "BIANCA:\n",
            "And live, my lord,\n",
            "We shall be mercy, and I enter'd in my\n",
            "tomend on' that hath made a shame.\n",
            "\n",
            "ANGELO:\n",
            "Well; the very risor of your adversary\n",
            "As you the man that have my woes told;\n",
            "You that my heart as I. Ajove are you in words?\n",
            "\n",
            "GREMIO:\n",
            "But freeder,\n",
            "That, by ghass fly to his mouth, 'shall,\n",
            "And, for thou forgest what I be still and make him\n",
            "do what I wish for Rome! the prince your father\n",
            "To make a hurdy Kater his easily's royal,\n",
            "And grans many axe until we thought these fairest chairful seas:\n",
            "What I have said, Brakening battle strive,\n",
            "In this o' the Aufiance in the malmsey'd\n",
            "With heaven unwilling tongue.\n",
            "\n",
            "SLY:\n",
            "Welcome, Kate; for I have put meet be.\n",
            "\n",
            "PETRUCHIO:\n",
            "Be patient. What's the matter,\n",
            "The life to close a sisterhood of his.\n",
            "\n",
            "KATHARINA:\n",
            "Minion tapest in thy honey would\n",
            "I were a quarter'll \n",
            "ROMEO:\n",
            "More affections, inferior to resign\n",
            "Her body is banish'd, for ne'er against him:\n",
            "I had rather close by my order.\n",
            "\n",
            "Provost:\n",
            "Away, your fur, and made them both.\n",
            "\n",
            "JULIET:\n",
            "God-den, thou hast a child, whose good citizens\n",
            "Would prove hourly supper in his throne:\n",
            "He hath berew them both they blood, all dream'd\n",
            "Which will muster seize how he should produce\n",
            "With love, and rear in Hermione;\n",
            "And triburly Hedwards hath made by the\n",
            "next debt on us.\n",
            "\n",
            "First Citizen:\n",
            "Ye're lack oppose you: let him all have disparl'd me.\n",
            "\n",
            "VIRGILIA:\n",
            "Beseech your mercy, what would you hear\n",
            "Themselves hold the narrow seas;\n",
            "The angry bear for from the book of life,\n",
            "And he no more i' the villain: I have heard\n",
            "one oun one, he is a last ring. Doth my honest not\n",
            "come unto my noble feed I have hound,\n",
            "Or else the austereness of my faith of Jusais unto\n",
            "Oxford, which I do disinherit.\n",
            "\n",
            "DUKE VINCENTIO:\n",
            "Measurely unpersolute to my side,\n",
            "And be a parlous malf a place dangerous\n",
            "To wife for Edward weeps much once restore\n",
            "To knock him f\n",
            "ROMEO:\n",
            "My lord, I like it well, my lord,\n",
            "And one that would disorder him to him:\n",
            "An ear o'erposier, they are proud confess,\n",
            "Because my poor beak to do it, hastily\n",
            "gets be. We sweet my rage.\n",
            "\n",
            "GLOUCESTER:\n",
            "Well, give me the master, hull a merry man to turn.\n",
            "\n",
            "JULIET:\n",
            "O sound!--I can. I sit in him\n",
            "throng: alan! wouldst thou go together!\n",
            "\n",
            "KING EDWARD IV:\n",
            "Nay, he is. I have no less than never Warwick\n",
            "As he is beauty men, you should not broke his\n",
            "true, unlawfully moved withal.\n",
            "\n",
            "BONA:\n",
            "My husband--God be in health command,\n",
            "Which eyes of one may drink a thousand leave\n",
            "To have him high me granted lend the bowels of their hearts.\n",
            "\n",
            "WARWICK:\n",
            "O, you be not, but Marcius coming home?\n",
            "\n",
            "VOLUMNIA:\n",
            "At enmity's mess: yes, you have been a noble and\n",
            "another, as ourselves, our house, whose heart\n",
            "think out of such a sovereign and the enryay's boldness,\n",
            "And we disdain them going.\n",
            "\n",
            "ANTIGONUS:\n",
            "And he's admarence,\n",
            "Colverse power in her son, and hase't to do\n",
            "What conduct times for thee to her:\n",
            "I'll in blood, they know what\n",
            "ROMEO:\n",
            "Sir, are you mock'd to do unprovided.\n",
            "\n",
            "Second Citizen:\n",
            "Correction, stand you wot: 'tis an inquire yet the injury\n",
            "I thank you, consorted to the entom.\n",
            "\n",
            "VIRLINIUS:\n",
            "I am out.\n",
            "\n",
            "VINCENTIO:\n",
            "Lucentio is it were true.\n",
            "\n",
            "PROSPERO:\n",
            "Mock redeed,\n",
            "but, I say, well haughty I entreat me hanged.\n",
            "Dinst thou move too much affection,\n",
            "Like too lambs intiged, and barl traitors in my love.\n",
            "Shief most accuse; I mean to us or latue.\n",
            "\n",
            "PETRUCHIO:\n",
            "Nay, I thank God all this world, I would make him\n",
            "To righ above before his enemies.\n",
            "Mock morning the never former lies;\n",
            "and, as he is a quit out of thy country's breast,\n",
            "Which face to have leisuned, usurp'd,\n",
            "Her father only not to quench it.\n",
            "\n",
            "GLOUCESTER:\n",
            "I cannot, sir, in a sweet floods, 'tis the fistiembo\n",
            "A' offects his rock.\n",
            "\n",
            "CAPULET:\n",
            "O heavens' lost for ever.\n",
            "\n",
            "HERMIONE:\n",
            "Signior Harry, until thou must be long.\n",
            "May it please you, sir. By that leasons\n",
            "To grat me in? another, my dear hard,\n",
            "That ever made grossly done to her,\n",
            "With cares sound: whither the Lord Stateou?\n",
            "\n",
            "\n",
            "ROMEO:\n",
            "Signior Baptista, who comest thou hast\n",
            "Dissolute all things swoil'd in him\n",
            "that hold itself plained head and heard-belock,\n",
            "Which let it be more retire.\n",
            "\n",
            "HENRY BOLINGBROKE:\n",
            "In God's name, take anointed ill. What, is't not war?\n",
            "\n",
            "MENENIUS:\n",
            "A bloody time well enough to us.\n",
            "Your best of York he is but boon, and yet the general lives,\n",
            "Strikes thy bashadies' malicianally began,\n",
            "For in your breast wish'd to behold him toward.\n",
            "\n",
            "YORK:\n",
            "I hope he will be talking; and make them no opecline,\n",
            "How do I from your victoriest:\n",
            "'Romeo is banished!' Thursday, tell me,\n",
            "For I will summer a tay as young so dealt?\n",
            "O place where on eive mans, stand be a wife\n",
            "To him and pound our services, to each content\n",
            "To win the friendly brothers in Ludue.\n",
            "Cousin Angoly comes to hear it; I\n",
            "whither it be persiace the kingdoms.\n",
            "\n",
            "GRUMIO:\n",
            "I would they be tentellest of your means?\n",
            "I am no little both in this sea-stoo,\n",
            "And brought to light thee with anon. Lady:\n",
            "Allas for the fair soul--\n",
            "\n",
            "Nurse:\n",
            "\n",
            "JULIENCE:\n",
            "\n",
            "HENRY BOLINGBROKE:\n",
            "What\n",
            "\n",
            "\n",
            "________________________________________________________________________________\n",
            "\n",
            "Run time: 4.358760595321655\n"
          ],
          "name": "stdout"
        }
      ]
    },
    {
      "cell_type": "markdown",
      "metadata": {
        "id": "la8Y4UJh1yl2"
      },
      "source": [
        "### Export the generator model.\n",
        "This single-step model can easily be saved and restored, allowing you to use it anywhere a `tf.saved_model` is accepted."
      ]
    },
    {
      "cell_type": "code",
      "metadata": {
        "colab": {
          "base_uri": "https://localhost:8080/"
        },
        "id": "l_jXkUbE1Mc0",
        "outputId": "55a34ce7-53c5-425b-9fab-4d4ece0c48b1"
      },
      "source": [
        "tf.saved_model.save(one_step_model, 'one_step')\n",
        "one_step_reloaded = tf.saved_model.load('one_step')"
      ],
      "execution_count": 75,
      "outputs": [
        {
          "output_type": "stream",
          "text": [
            "WARNING:tensorflow:Skipping full serialization of Keras layer <__main__.OneStep object at 0x7fd37ad00810>, because it is not built.\n"
          ],
          "name": "stdout"
        },
        {
          "output_type": "stream",
          "text": [
            "WARNING:absl:Found untraced functions such as gru_cell_2_layer_call_fn, gru_cell_2_layer_call_and_return_conditional_losses, gru_cell_2_layer_call_fn, gru_cell_2_layer_call_and_return_conditional_losses, gru_cell_2_layer_call_and_return_conditional_losses while saving (showing 5 of 5). These functions will not be directly callable after loading.\n"
          ],
          "name": "stderr"
        },
        {
          "output_type": "stream",
          "text": [
            "WARNING:tensorflow:FOR KERAS USERS: The object that you are saving contains one or more Keras models or layers. If you are loading the SavedModel with `tf.keras.models.load_model`, continue reading (otherwise, you may ignore the following instructions). Please change your code to save with `tf.keras.models.save_model` or `model.save`, and confirm that the file \"keras.metadata\" exists in the export directory. In the future, Keras will only load the SavedModels that have this file. In other words, `tf.saved_model.save` will no longer write SavedModels that can be recovered as Keras models (this will apply in TF 2.5).\n",
            "\n",
            "FOR DEVS: If you are overwriting _tracking_metadata in your class, this property has been used to save metadata in the SavedModel. The metadta field will be deprecated soon, so please move the metadata to a different file.\n"
          ],
          "name": "stdout"
        },
        {
          "output_type": "stream",
          "text": [
            "WARNING:tensorflow:FOR KERAS USERS: The object that you are saving contains one or more Keras models or layers. If you are loading the SavedModel with `tf.keras.models.load_model`, continue reading (otherwise, you may ignore the following instructions). Please change your code to save with `tf.keras.models.save_model` or `model.save`, and confirm that the file \"keras.metadata\" exists in the export directory. In the future, Keras will only load the SavedModels that have this file. In other words, `tf.saved_model.save` will no longer write SavedModels that can be recovered as Keras models (this will apply in TF 2.5).\n",
            "\n",
            "FOR DEVS: If you are overwriting _tracking_metadata in your class, this property has been used to save metadata in the SavedModel. The metadta field will be deprecated soon, so please move the metadata to a different file.\n"
          ],
          "name": "stderr"
        },
        {
          "output_type": "stream",
          "text": [
            "INFO:tensorflow:Assets written to: one_step/assets\n"
          ],
          "name": "stdout"
        },
        {
          "output_type": "stream",
          "text": [
            "INFO:tensorflow:Assets written to: one_step/assets\n"
          ],
          "name": "stderr"
        }
      ]
    },
    {
      "cell_type": "markdown",
      "metadata": {
        "id": "LDMXfOWk1-aj"
      },
      "source": [
        "### Testing the saved model"
      ]
    },
    {
      "cell_type": "code",
      "metadata": {
        "colab": {
          "base_uri": "https://localhost:8080/"
        },
        "id": "LSxMrPdM14x6",
        "outputId": "496cb60d-5abc-4946-ab7d-c6672c8be92f"
      },
      "source": [
        "states = None\n",
        "next_char = tf.constant(['ROMEO:'])\n",
        "result = [next_char]\n",
        "\n",
        "for n in range(100):\n",
        "  next_char, states = one_step_reloaded.generate_one_step(next_char, states=states)\n",
        "  result.append(next_char)\n",
        "\n",
        "print(tf.strings.join(result)[0].numpy().decode(\"utf-8\"))\n"
      ],
      "execution_count": 76,
      "outputs": [
        {
          "output_type": "stream",
          "text": [
            "ROMEO:\n",
            "There is no grain as prestrable to my soul.\n",
            "Go, fall another, I must have stain'd with rebits\n",
            "And i\n"
          ],
          "name": "stdout"
        }
      ]
    },
    {
      "cell_type": "markdown",
      "metadata": {
        "id": "nA_0byzZ2VFA"
      },
      "source": [
        "### Advanced Custom training\n",
        "\n",
        "The above training procedure is simple, but does not give we much control. It uses teacher-forcing which prevents bad predictions from being fed back to the model, so the model never learns to recover from mistakes.\n",
        "\n",
        "So now that we've seen how to run the model manually next we'll implement the training loop. This gives a starting point if, for example, we want to implement curriculum learning to help stabilize the model's open-loop output.\n",
        "\n",
        "The most important part of a custom training loop is the train step function.\n",
        "\n",
        "Use `tf.GradientTape` to track the gradients. we can learn more about this approach by reading the eager execution guide.\n",
        "\n",
        "The basic procedure is:\n",
        "\n",
        "Execute the model and calculate the loss under a `tf.GradientTape`.\n",
        "Calculate the updates and apply them to the model using the optimizer.\n",
        "The basic procedure is:\n",
        "\n",
        "* Execute the model and calculate the loss under a `tf.GradientTape`.\n",
        "* Calculate the updates and apply them to the model using the optimizer"
      ]
    },
    {
      "cell_type": "code",
      "metadata": {
        "id": "o1tCxkKx2AOg"
      },
      "source": [
        "class CustomTraining(Model):\n",
        "  @tf.function\n",
        "  def train_step(self, inputs):\n",
        "      inputs, labels = inputs\n",
        "      with tf.GradientTape() as tape:\n",
        "          predictions = self(inputs, training=True)\n",
        "          loss = self.loss(labels, predictions)\n",
        "      grads = tape.gradient(loss, model.trainable_variables)\n",
        "      self.optimizer.apply_gradients(zip(grads, model.trainable_variables))\n",
        "\n",
        "      return {'loss': loss}"
      ],
      "execution_count": 78,
      "outputs": []
    },
    {
      "cell_type": "markdown",
      "metadata": {
        "id": "_lbQSnEM2yOz"
      },
      "source": [
        "The above implementation of the `train_step` method follows Keras' `train_step` conventions. This is optional, but it allows you to change the behavior of the train step and still use keras' Model.compile and `Model.fit` methods."
      ]
    },
    {
      "cell_type": "code",
      "metadata": {
        "id": "Eq8LqvGh2p4h"
      },
      "source": [
        "model = CustomTraining(\n",
        "    vocab_size=len(ids_from_chars.get_vocabulary()),\n",
        "    embedding_dim=embedding_dim,\n",
        "    rnn_units=rnn_units)"
      ],
      "execution_count": 79,
      "outputs": []
    },
    {
      "cell_type": "code",
      "metadata": {
        "id": "spVKOU5x22wY"
      },
      "source": [
        "model.compile(optimizer = tf.keras.optimizers.Adam(),\n",
        "              loss=tf.keras.losses.SparseCategoricalCrossentropy(from_logits=True))\n",
        "\n"
      ],
      "execution_count": 80,
      "outputs": []
    },
    {
      "cell_type": "code",
      "metadata": {
        "colab": {
          "base_uri": "https://localhost:8080/"
        },
        "id": "v8Hmwrnq24q1",
        "outputId": "54049c07-363d-45db-ed00-fcd1282f9488"
      },
      "source": [
        "model.fit(dataset, epochs=1)"
      ],
      "execution_count": 81,
      "outputs": [
        {
          "output_type": "stream",
          "text": [
            "172/172 [==============================] - 27s 136ms/step - loss: 2.7101\n"
          ],
          "name": "stdout"
        },
        {
          "output_type": "execute_result",
          "data": {
            "text/plain": [
              "<tensorflow.python.keras.callbacks.History at 0x7fd379bb3410>"
            ]
          },
          "metadata": {
            "tags": []
          },
          "execution_count": 81
        }
      ]
    },
    {
      "cell_type": "markdown",
      "metadata": {
        "id": "tg03CiKV2-YQ"
      },
      "source": [
        "Or if you need more control, you can write your own complete custom training loop:"
      ]
    },
    {
      "cell_type": "code",
      "metadata": {
        "id": "amlsZ6qo2566"
      },
      "source": [
        "EPOCHS = 10\n",
        "\n",
        "mean = tf.metrics.Mean()\n",
        "\n",
        "for epoch in range(EPOCHS):\n",
        "    start = time.time()\n",
        "\n",
        "    mean.reset_states()\n",
        "    for (batch_n, (inp, target)) in enumerate(dataset):\n",
        "        logs = model.train_step([inp, target])\n",
        "        mean.update_state(logs['loss'])\n",
        "\n",
        "        if batch_n % 50 == 0:\n",
        "            template = f\"Epoch {epoch+1} Batch {batch_n} Loss {logs['loss']:.4f}\"\n",
        "            print(template)\n",
        "\n",
        "    # saving (checkpoint) the model every 5 epochs\n",
        "    if (epoch + 1) % 5 == 0:\n",
        "        model.save_weights(checkpoint_prefix.format(epoch=epoch))\n",
        "\n",
        "    print()\n",
        "    print(f'Epoch {epoch+1} Loss: {mean.result().numpy():.4f}')\n",
        "    print(f'Time taken for 1 epoch {time.time() - start:.2f} sec')\n",
        "    print(\"_\"*80)\n",
        "\n",
        "model.save_weights(checkpoint_prefix.format(epoch=epoch))\n"
      ],
      "execution_count": null,
      "outputs": []
    },
    {
      "cell_type": "markdown",
      "metadata": {
        "id": "Kkjy7tLS3E3u"
      },
      "source": [
        "### Credits\n",
        "* [this tutorial](https://www.tensorflow.org/text/tutorials/text_generation)\n",
        "* [tensorflow docs](https://www.tensorflow.org/api_docs/)"
      ]
    },
    {
      "cell_type": "code",
      "metadata": {
        "id": "aQ7Nvemy3A7a"
      },
      "source": [
        ""
      ],
      "execution_count": null,
      "outputs": []
    }
  ]
}