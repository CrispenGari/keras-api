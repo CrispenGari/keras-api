{
  "nbformat": 4,
  "nbformat_minor": 0,
  "metadata": {
    "colab": {
      "name": "01_text_classification_CONV1D.ipynb",
      "provenance": [],
      "collapsed_sections": []
    },
    "kernelspec": {
      "name": "python3",
      "display_name": "Python 3"
    },
    "language_info": {
      "name": "python"
    },
    "accelerator": "GPU"
  },
  "cells": [
    {
      "cell_type": "markdown",
      "metadata": {
        "id": "hwAlHYTX4JIa"
      },
      "source": [
        "### Text Classification\n",
        "In this series of notebooks we are going to have a closer look on Natural Language Processing in Keras.\n",
        "\n",
        "### About this one!\n",
        "In this notebook we are going to create a model that will do sentiment classification and we will learn the following:\n",
        "\n",
        "1. Load the data from disk for text classification task.\n",
        "2. We will use the `TextVectorization` layer for word spliting and indexing.\n",
        "\n",
        "### Imports"
      ]
    },
    {
      "cell_type": "code",
      "metadata": {
        "colab": {
          "base_uri": "https://localhost:8080/",
          "height": 35
        },
        "id": "lZOOLOeX36du",
        "outputId": "f84f6eb1-8737-49ad-c784-cfbd7f0ea18f"
      },
      "source": [
        "import tensorflow as tf\n",
        "import numpy as np\n",
        "\n",
        "import os, random, string, re\n",
        "\n",
        "from tensorflow.keras.layers import TextVectorization\n",
        "\n",
        "np.__version__"
      ],
      "execution_count": 1,
      "outputs": [
        {
          "output_type": "execute_result",
          "data": {
            "application/vnd.google.colaboratory.intrinsic+json": {
              "type": "string"
            },
            "text/plain": [
              "'1.19.5'"
            ]
          },
          "metadata": {},
          "execution_count": 1
        }
      ]
    },
    {
      "cell_type": "markdown",
      "metadata": {
        "id": "3qjJVHJP5aOh"
      },
      "source": [
        "### Data\n",
        "We are going to download the data (IMDB) dataset and load in google colab."
      ]
    },
    {
      "cell_type": "markdown",
      "metadata": {
        "id": "NlBjIoOs544Z"
      },
      "source": [
        "To download the data we are going to use the following command:\n",
        "\n",
        "```shell\n",
        "!curl -O https://ai.stanford.edu/~amaas/data/sentiment/aclImdb_v1.tar.gz\n",
        "\n",
        "# extracting\n",
        "!tar -xf aclImdb_v1.tar.gz\n",
        "```"
      ]
    },
    {
      "cell_type": "code",
      "metadata": {
        "colab": {
          "base_uri": "https://localhost:8080/"
        },
        "id": "prr3wuRK5zsT",
        "outputId": "50f42694-4589-4527-bcaf-356c6a5d9ea5"
      },
      "source": [
        "!curl -O https://ai.stanford.edu/~amaas/data/sentiment/aclImdb_v1.tar.gz\n",
        "!tar -xf aclImdb_v1.tar.gz"
      ],
      "execution_count": 2,
      "outputs": [
        {
          "output_type": "stream",
          "name": "stdout",
          "text": [
            "  % Total    % Received % Xferd  Average Speed   Time    Time     Time  Current\n",
            "                                 Dload  Upload   Total   Spent    Left  Speed\n",
            "100 80.2M  100 80.2M    0     0  13.2M      0  0:00:06  0:00:06 --:--:-- 17.5M\n"
          ]
        }
      ]
    },
    {
      "cell_type": "markdown",
      "metadata": {
        "id": "C2CMttvB7ISz"
      },
      "source": [
        "The `aclImdb/train/pos` and `aclImdb/train/neg` folders contain text files, each of which represents one review (either `positive` or `negative`):\n",
        "\n",
        "Let's check a single example of a positive review using the shell command `cat`."
      ]
    },
    {
      "cell_type": "code",
      "metadata": {
        "colab": {
          "base_uri": "https://localhost:8080/"
        },
        "id": "6PUWhyvH6k2a",
        "outputId": "34eca290-7c91-456c-8db9-e7f17a4671c3"
      },
      "source": [
        "!cat aclImdb/train/pos/6248_7.txt"
      ],
      "execution_count": 3,
      "outputs": [
        {
          "output_type": "stream",
          "name": "stdout",
          "text": [
            "Being an Austrian myself this has been a straight knock in my face. Fortunately I don't live nowhere near the place where this movie takes place but unfortunately it portrays everything that the rest of Austria hates about Viennese people (or people close to that region). And it is very easy to read that this is exactly the directors intention: to let your head sink into your hands and say \"Oh my god, how can THAT be possible!\". No, not with me, the (in my opinion) totally exaggerated uncensored swinger club scene is not necessary, I watch porn, sure, but in this context I was rather disgusted than put in the right context.<br /><br />This movie tells a story about how misled people who suffer from lack of education or bad company try to survive and live in a world of redundancy and boring horizons. A girl who is treated like a whore by her super-jealous boyfriend (and still keeps coming back), a female teacher who discovers her masochism by putting the life of her super-cruel \"lover\" on the line, an old couple who has an almost mathematical daily cycle (she is the \"official replacement\" of his ex wife), a couple that has just divorced and has the ex husband suffer under the acts of his former wife obviously having a relationship with her masseuse and finally a crazy hitchhiker who asks her drivers the most unusual questions and stretches their nerves by just being super-annoying.<br /><br />After having seen it you feel almost nothing. You're not even shocked, sad, depressed or feel like doing anything... Maybe that's why I gave it 7 points, it made me react in a way I never reacted before. If that's good or bad is up to you!"
          ]
        }
      ]
    },
    {
      "cell_type": "markdown",
      "metadata": {
        "id": "8tn4XI1671hQ"
      },
      "source": [
        "We are only interested in the `pos` and `neg` folders, so let's delete the other files"
      ]
    },
    {
      "cell_type": "code",
      "metadata": {
        "colab": {
          "base_uri": "https://localhost:8080/"
        },
        "id": "X9GJxjbQ7dXq",
        "outputId": "1a98d3e1-6465-4bf0-94f0-703b8941df2c"
      },
      "source": [
        "!rm -r aclImdb/train/unsup\n",
        "!rm -r aclImdb/test/unsup"
      ],
      "execution_count": 4,
      "outputs": [
        {
          "output_type": "stream",
          "name": "stdout",
          "text": [
            "rm: cannot remove 'aclImdb/test/unsup': No such file or directory\n"
          ]
        }
      ]
    },
    {
      "cell_type": "markdown",
      "metadata": {
        "id": "iq8fAxxN8WBY"
      },
      "source": [
        "Now our folder and file structures looks as follows:\n",
        "\n",
        "```\n",
        "📁 acllmdb\n",
        "  📁 test\n",
        "    📁 neg\n",
        "      🗄...txt\n",
        "    📁 pos\n",
        "     🗄...txt\n",
        "  📁 train\n",
        "    📁 neg\n",
        "     🗄...txt\n",
        "    📁 pos\n",
        "     🗄...txt\n",
        "```\n",
        "\n",
        "We are going to use the [`tf.keras.preprocessing.text_dataset_from_directory`](https://keras.io/api/preprocessing/text#textdatasetfromdirectory-function) to generate a labeled [`tf.data.Dataset`](https://www.tensorflow.org/api_docs/python/tf/data/Dataset) object from text files that are in our disk.\n",
        "\n",
        "We are then going to generate three sets of data. The train, validation and test. The validation set will come as a fraction of `20%` from the train set.\n",
        "\n",
        "### Loading the data using the `tf.keras.preprocessing.text_dataset_from_directory()`"
      ]
    },
    {
      "cell_type": "code",
      "metadata": {
        "colab": {
          "base_uri": "https://localhost:8080/"
        },
        "id": "clup1SOI_RMA",
        "outputId": "a7989a3f-7c30-4dd7-a040-13c1187f8f43"
      },
      "source": [
        "!rm -r aclImdb/train/.ipynb_checkpoints\n",
        "!rm -r aclImdb/test/.ipynb_checkpoints"
      ],
      "execution_count": 5,
      "outputs": [
        {
          "output_type": "stream",
          "name": "stdout",
          "text": [
            "rm: cannot remove 'aclImdb/train/.ipynb_checkpoints': No such file or directory\n",
            "rm: cannot remove 'aclImdb/test/.ipynb_checkpoints': No such file or directory\n"
          ]
        }
      ]
    },
    {
      "cell_type": "code",
      "metadata": {
        "colab": {
          "base_uri": "https://localhost:8080/"
        },
        "id": "LoQWeNMZ7-5k",
        "outputId": "5f7119dc-1f53-403d-b651-0c2d84e831b0"
      },
      "source": [
        "BATCH_SIZE = 32\n",
        "SEED = 42\n",
        "\n",
        "raw_train_ds = tf.keras.preprocessing.text_dataset_from_directory(\n",
        "    \"aclImdb/train\",\n",
        "    batch_size = BATCH_SIZE,\n",
        "    validation_split = .2,\n",
        "    subset = \"training\",\n",
        "    seed = SEED\n",
        ")\n",
        "raw_valid_ds = tf.keras.preprocessing.text_dataset_from_directory(\n",
        "    \"aclImdb/train\",\n",
        "    batch_size = BATCH_SIZE,\n",
        "    validation_split = .2,\n",
        "    subset = \"validation\",\n",
        "    seed = SEED\n",
        ")\n",
        "raw_test_ds = tf.keras.preprocessing.text_dataset_from_directory(\n",
        "    \"aclImdb/test\",\n",
        "    batch_size = BATCH_SIZE\n",
        ")"
      ],
      "execution_count": 6,
      "outputs": [
        {
          "output_type": "stream",
          "name": "stdout",
          "text": [
            "Found 25000 files belonging to 2 classes.\n",
            "Using 20000 files for training.\n",
            "Found 25000 files belonging to 2 classes.\n",
            "Using 5000 files for validation.\n",
            "Found 25000 files belonging to 2 classes.\n"
          ]
        }
      ]
    },
    {
      "cell_type": "markdown",
      "metadata": {
        "id": "jGVA2tjQ_hG4"
      },
      "source": [
        "Getting the classname"
      ]
    },
    {
      "cell_type": "code",
      "metadata": {
        "colab": {
          "base_uri": "https://localhost:8080/"
        },
        "id": "SAW940q2-5dG",
        "outputId": "3bc02c15-99db-4665-cf40-571c4a9f8b76"
      },
      "source": [
        "raw_train_ds.class_names"
      ],
      "execution_count": 7,
      "outputs": [
        {
          "output_type": "execute_result",
          "data": {
            "text/plain": [
              "['neg', 'pos']"
            ]
          },
          "metadata": {},
          "execution_count": 7
        }
      ]
    },
    {
      "cell_type": "markdown",
      "metadata": {
        "id": "HnysEWaA_wMx"
      },
      "source": [
        "Counting examples..."
      ]
    },
    {
      "cell_type": "code",
      "metadata": {
        "colab": {
          "base_uri": "https://localhost:8080/"
        },
        "id": "nc1cJ6ZJ_L3H",
        "outputId": "26d53471-35fd-45a6-f95e-4938d43dddbf"
      },
      "source": [
        "print(\"train examples: %d\"\n",
        " % tf.data.experimental.cardinality(raw_train_ds))\n",
        "print(\"test examples: %d\"\n",
        " % tf.data.experimental.cardinality(raw_test_ds))\n",
        "print(\"valid examples: %d\"\n",
        " % tf.data.experimental.cardinality(raw_valid_ds))"
      ],
      "execution_count": 8,
      "outputs": [
        {
          "output_type": "stream",
          "name": "stdout",
          "text": [
            "train examples: 625\n",
            "test examples: 782\n",
            "valid examples: 157\n"
          ]
        }
      ]
    },
    {
      "cell_type": "markdown",
      "metadata": {
        "id": "WaLbTCxOAJbC"
      },
      "source": [
        "Let's check a some examples in a single batch."
      ]
    },
    {
      "cell_type": "code",
      "metadata": {
        "colab": {
          "base_uri": "https://localhost:8080/"
        },
        "id": "Qp_JksS1AE4z",
        "outputId": "5f8378b9-ea13-4749-9da1-7471229b8667"
      },
      "source": [
        "for text_batch, label_batch in raw_train_ds.take(1):\n",
        "  for text, label in zip(text_batch, label_batch[:5]):\n",
        "    print(f\"text: {text}\\nlabel: {label}\\nn\")"
      ],
      "execution_count": 9,
      "outputs": [
        {
          "output_type": "stream",
          "name": "stdout",
          "text": [
            "text: b'\"Pandemonium\" is a horror movie spoof that comes off more stupid than funny. Believe me when I tell you, I love comedies. Especially comedy spoofs. \"Airplane\", \"The Naked Gun\" trilogy, \"Blazing Saddles\", \"High Anxiety\", and \"Spaceballs\" are some of my favorite comedies that spoof a particular genre. \"Pandemonium\" is not up there with those films. Most of the scenes in this movie had me sitting there in stunned silence because the movie wasn\\'t all that funny. There are a few laughs in the film, but when you watch a comedy, you expect to laugh a lot more than a few times and that\\'s all this film has going for it. Geez, \"Scream\" had more laughs than this film and that was more of a horror film. How bizarre is that?<br /><br />*1/2 (out of four)'\n",
            "label: 0\n",
            "n\n",
            "text: b\"David Mamet is a very interesting and a very un-equal director. His first movie 'House of Games' was the one I liked best, and it set a series of films with characters whose perspective of life changes as they get into complicated situations, and so does the perspective of the viewer.<br /><br />So is 'Homicide' which from the title tries to set the mind of the viewer to the usual crime drama. The principal characters are two cops, one Jewish and one Irish who deal with a racially charged area. The murder of an old Jewish shop owner who proves to be an ancient veteran of the Israeli Independence war triggers the Jewish identity in the mind and heart of the Jewish detective.<br /><br />This is were the flaws of the film are the more obvious. The process of awakening is theatrical and hard to believe, the group of Jewish militants is operatic, and the way the detective eventually walks to the final violent confrontation is pathetic. The end of the film itself is Mamet-like smart, but disappoints from a human emotional perspective.<br /><br />Joe Mantegna and William Macy give strong performances, but the flaws of the story are too evident to be easily compensated.\"\n",
            "label: 0\n",
            "n\n",
            "text: b'Great documentary about the lives of NY firefighters during the worst terrorist attack of all time.. That reason alone is why this should be a must see collectors item.. What shocked me was not only the attacks, but the\"High Fat Diet\" and physical appearance of some of these firefighters. I think a lot of Doctors would agree with me that,in the physical shape they were in, some of these firefighters would NOT of made it to the 79th floor carrying over 60 lbs of gear. Having said that i now have a greater respect for firefighters and i realize becoming a firefighter is a life altering job. The French have a history of making great documentary\\'s and that is what this is, a Great Documentary.....'\n",
            "label: 1\n",
            "n\n",
            "text: b\"It's boggles the mind how this movie was nominated for seven Oscars and won one. Not because it's abysmal or because given the collective credentials of the creative team behind it really ought to deserve them but because in every category it was nominated Prizzi's Honor disappoints. Some would argue that old Hollywood pioneer John Huston had lost it by this point in his career but I don't buy it. Only the previous year he signed the superb UNDER THE VOLCANO, a dark character study set in Mexico, that ranks among the finest he ever did. Prizzi's Honor on the other hand, a film loaded with star power, good intentions and a decent script, proves to be a major letdown.<br /><br />The overall tone and plot of a gangster falling in love with a female hit-man prefigures the quirky crimedies that caught Hollywood by storm in the early 90's but the script is too convoluted for its own sake, the motivations are off and on the whole the story seems unsure of what exactly it's trying to be: a romantic comedy, a crime drama, a gangster saga etc. Jack Nicholson (doing a Brooklyn accent that works perfectly for De Niro but sounds unconvincing coming from Jack) and Kathleen Turner in the leading roles seem to be in paycheck mode, just going through the motions almost sleepwalking their way through some parts. Anjelica Huston on the other hand fares better but her performance is sabotaged by her character's motivations: she starts out the victim of her bigot father's disdain, she proves to be supportive to her ex-husband, then becomes a vindictive bitch that wants his head on a plate.<br /><br />The colours of the movie have a washed-up quality like it was made in the early 70's and Huston's direction is as uninteresting as everything else. There's promise behind the story and perhaps in the hands of a director hungry to be recognized it could've been morphed to something better but what's left looks like a film nobody was really interested in making.\"\n",
            "label: 0\n",
            "n\n",
            "text: b'The concept of the legal gray area in Love Crimes contributes to about 10% of the movie\\'s appeal; the other 90% can be attributed to it\\'s flagrant bad-ness. To say that Sean Young\\'s performance as a so-called district attorney is wooden is a gross understatement. With her bland suits and superfluous hair gel, Young does a decent job at convincing the audience of her devout hatred for men. Why else would she ask her only friend to pose as a prostitute just so she can arrest cops who try to pick up on them? This hatred is also the only reason why she relentlessly pursues a perverted photographer who gives women a consensual thrill and the driving force behind this crappy movie. Watching Young go from frigid to full-frontal nudity does little to raise interest, but the temper tantrum she throws standing next to a fire by a lake does. Watching her rant and rave about her self-loathing and sexual frustration makes Love Crimes worth the rental fee, but it\\'s all downhill to and from there. Despite her urge to bring Patrick Bergin\\'s character to justice, her policing skills completely escape her in the throes of her own tired lust and passion. Patrick Bergin does a decent enough job as a slimy sociopath; if it worked in Sleeping With the Enemy it sure as hell can work in this. But I can\\'t help but wonder if the noticeable lack of energy Young brings to the film conflicts with his sliminess. I\\'m guessing it does and the result is a \"thriller\" with thrills that are thoroughly bad and yet comedic.'\n",
            "label: 0\n",
            "n\n"
          ]
        }
      ]
    },
    {
      "cell_type": "markdown",
      "metadata": {
        "id": "QQ6N82akA3cN"
      },
      "source": [
        "### Data cleaning\n",
        "We are going to clean our data. By cleaning I mean removing unnessesarry text for example ``html`` tags. We are goiing to create a `standardization` function which will do the following:\n",
        "\n",
        "1. lower case the text\n",
        "2. remove html tags\n"
      ]
    },
    {
      "cell_type": "code",
      "metadata": {
        "id": "Jcyrz2f2As-l"
      },
      "source": [
        "def standardization(input_data):\n",
        "  input_data = tf.strings.lower(input_data)\n",
        "  input_data = tf.strings.regex_replace(input_data, \"<br/>\", \" \")\n",
        "  return tf.strings.regex_replace(\n",
        "      input_data, re.escape(string.punctuation), \"\"\n",
        "  )"
      ],
      "execution_count": 10,
      "outputs": []
    },
    {
      "cell_type": "markdown",
      "metadata": {
        "id": "ugx4RlUqCU4D"
      },
      "source": [
        "### Model Hyper Params"
      ]
    },
    {
      "cell_type": "code",
      "metadata": {
        "id": "98zckl_LCS4x"
      },
      "source": [
        "MAX_FEATURES = 20000\n",
        "EMBEDDING_DIM = 128\n",
        "SEQUENCE_LENGTH = 500"
      ],
      "execution_count": 11,
      "outputs": []
    },
    {
      "cell_type": "markdown",
      "metadata": {
        "id": "r_ju7JaTDElz"
      },
      "source": [
        "### Text Vectorization\n",
        "Now that we have our function that standadize text, we can then create a vectorization layer. WE are using this layer to:\n",
        "1. split strings\n",
        "2. map them to integer representations\n"
      ]
    },
    {
      "cell_type": "code",
      "metadata": {
        "id": "bCDuUQPdC8nr"
      },
      "source": [
        "vectorize_layer = TextVectorization(\n",
        "    standardize=standardization,\n",
        "    max_tokens=MAX_FEATURES,\n",
        "    output_mode=\"int\",\n",
        "    output_sequence_length=SEQUENCE_LENGTH\n",
        ")"
      ],
      "execution_count": 12,
      "outputs": []
    },
    {
      "cell_type": "code",
      "metadata": {
        "colab": {
          "base_uri": "https://localhost:8080/"
        },
        "id": "e3M8jwMNDr4I",
        "outputId": "72b78f9b-6947-446c-b954-ee8086aedb56"
      },
      "source": [
        "vectorize_layer.get_vocabulary()"
      ],
      "execution_count": 13,
      "outputs": [
        {
          "output_type": "execute_result",
          "data": {
            "text/plain": [
              "['', '[UNK]']"
            ]
          },
          "metadata": {},
          "execution_count": 13
        }
      ]
    },
    {
      "cell_type": "markdown",
      "metadata": {
        "id": "MGVmXmNTD7Dw"
      },
      "source": [
        "As you can see that we only have the ``''`` and ``[UNK]`` as our vocabulary, we need to to make our `vectorize_layer` to adapt to our train features. So to do that we need to extract text features first from our `train_dataset` and the we call the `adapt`method to create the vocabulary."
      ]
    },
    {
      "cell_type": "code",
      "metadata": {
        "id": "H3bh8oxHDzol"
      },
      "source": [
        "text_ds = raw_train_ds.map(lambda x, y: x)"
      ],
      "execution_count": 14,
      "outputs": []
    },
    {
      "cell_type": "code",
      "metadata": {
        "id": "IapOGKfJE1Fh"
      },
      "source": [
        "vectorize_layer.adapt(text_ds)"
      ],
      "execution_count": 15,
      "outputs": []
    },
    {
      "cell_type": "markdown",
      "metadata": {
        "id": "lmcs86PtFJa1"
      },
      "source": [
        "### Text vectorization layer.\n",
        "\n",
        "There are two options we can use to vectorize our data.\n",
        "\n",
        "1. **Make it part of the model**\n",
        "\n",
        "This method allows us to pass the raw text strings to the model and the model will take care of the rest for us: The following example shows how we can use this method:\n",
        "\n",
        "```py\n",
        "input = tf.keras.Input(shape=(1,), dtype=tf.string, name='text')\n",
        "x = vectorized_layer(input)\n",
        "x = keras.layers.Embedding(MAX_FEATURES + 1, EMBEDDING_DIM)(x)\n",
        "\n",
        "....\n",
        "```\n",
        "\n",
        "2. **Apply it to the text dataset**.\n",
        "\n",
        "This method will obtain a dataset of word indices then feed those to the network.\n",
        "\n",
        "> An important difference between the two is that option 2 enables you to do **asynchronous CPU processing and buffering** of your data when training on GPU. So if you're training the model on GPU, you probably want to go with this option to get the best performance\n",
        "\n"
      ]
    },
    {
      "cell_type": "code",
      "metadata": {
        "id": "BjmTegOEDziN"
      },
      "source": [
        "def vectorize(text, label):\n",
        "  text= tf.expand_dims(text, -1)\n",
        "  return vectorize_layer(text), label"
      ],
      "execution_count": 16,
      "outputs": []
    },
    {
      "cell_type": "markdown",
      "metadata": {
        "id": "9azWaQ-sHArr"
      },
      "source": [
        "Vectorizing the data"
      ]
    },
    {
      "cell_type": "code",
      "metadata": {
        "id": "2g02r506DwKd"
      },
      "source": [
        "train_ds = raw_train_ds.map(vectorize)\n",
        "valid_ds = raw_valid_ds.map(vectorize)\n",
        "test_ds = raw_test_ds.map(vectorize)"
      ],
      "execution_count": 17,
      "outputs": []
    },
    {
      "cell_type": "markdown",
      "metadata": {
        "id": "Xuqh_QqeHQXk"
      },
      "source": [
        "### Async prefetching / buffering of the data "
      ]
    },
    {
      "cell_type": "code",
      "metadata": {
        "id": "wuqGsA7UHY1F"
      },
      "source": [
        "BUFFER_SIZE =  100\n",
        "train_ds = train_ds.cache().prefetch(buffer_size=BUFFER_SIZE)\n",
        "test_ds = test_ds.cache().prefetch(buffer_size=BUFFER_SIZE)\n",
        "valid_ds = valid_ds.cache().prefetch(buffer_size=BUFFER_SIZE)"
      ],
      "execution_count": 18,
      "outputs": []
    },
    {
      "cell_type": "markdown",
      "metadata": {
        "id": "dLwFYH9ZHsqs"
      },
      "source": [
        "### Building the model\n",
        "\n",
        "Our model will be using Conv1D layers with an embedding layer as well as the GlobalMaxPooling1D, Dropout and Dense layers. We are going to make use of the functional API model."
      ]
    },
    {
      "cell_type": "code",
      "metadata": {
        "colab": {
          "base_uri": "https://localhost:8080/"
        },
        "id": "yDBqA71gICui",
        "outputId": "d1ab9861-e4ef-4810-b3ad-01a53689fcb6"
      },
      "source": [
        "inputs = tf.keras.layers.Input(shape=(None, ), dtype=\"int64\")\n",
        "x = tf.keras.layers.Embedding(MAX_FEATURES,EMBEDDING_DIM)(inputs)\n",
        "x = tf.keras.layers.Dropout(rate=.5)(x)\n",
        "\n",
        "x = tf.keras.layers.Conv1D(128, 5, padding=\"valid\", \n",
        "                           activation=\"relu\", strides=3)(x)\n",
        "x = tf.keras.layers.Conv1D(128, 5, padding=\"valid\", \n",
        "                           activation=\"relu\", strides=3)(x)\n",
        "x = tf.keras.layers.GlobalAveragePooling1D()(x)\n",
        "\n",
        "\n",
        "x = tf.keras.layers.Dense(128, activation=\"relu\")(x)\n",
        "x = tf.keras.layers.Dropout(rate=.5)(x)\n",
        "\n",
        "outputs = tf.keras.layers.Dense(1, activation=\"sigmoid\")(x)\n",
        "\n",
        "model = tf.keras.Model(inputs, outputs)\n",
        "\n",
        "model.summary()\n"
      ],
      "execution_count": 19,
      "outputs": [
        {
          "output_type": "stream",
          "name": "stdout",
          "text": [
            "Model: \"model\"\n",
            "_________________________________________________________________\n",
            "Layer (type)                 Output Shape              Param #   \n",
            "=================================================================\n",
            "input_1 (InputLayer)         [(None, None)]            0         \n",
            "_________________________________________________________________\n",
            "embedding (Embedding)        (None, None, 128)         2560000   \n",
            "_________________________________________________________________\n",
            "dropout (Dropout)            (None, None, 128)         0         \n",
            "_________________________________________________________________\n",
            "conv1d (Conv1D)              (None, None, 128)         82048     \n",
            "_________________________________________________________________\n",
            "conv1d_1 (Conv1D)            (None, None, 128)         82048     \n",
            "_________________________________________________________________\n",
            "global_average_pooling1d (Gl (None, 128)               0         \n",
            "_________________________________________________________________\n",
            "dense (Dense)                (None, 128)               16512     \n",
            "_________________________________________________________________\n",
            "dropout_1 (Dropout)          (None, 128)               0         \n",
            "_________________________________________________________________\n",
            "dense_1 (Dense)              (None, 1)                 129       \n",
            "=================================================================\n",
            "Total params: 2,740,737\n",
            "Trainable params: 2,740,737\n",
            "Non-trainable params: 0\n",
            "_________________________________________________________________\n"
          ]
        }
      ]
    },
    {
      "cell_type": "markdown",
      "metadata": {
        "id": "PRVirsozJV2u"
      },
      "source": [
        "### Compiling the model"
      ]
    },
    {
      "cell_type": "code",
      "metadata": {
        "id": "wjz5ZdTlIEzN"
      },
      "source": [
        "model.compile(loss=\"binary_crossentropy\",\n",
        "              optimizer=\"adam\", \n",
        "              metrics=[\"accuracy\"])"
      ],
      "execution_count": 20,
      "outputs": []
    },
    {
      "cell_type": "markdown",
      "metadata": {
        "id": "oYEn1XD6Je2A"
      },
      "source": [
        "### Training the model"
      ]
    },
    {
      "cell_type": "code",
      "metadata": {
        "colab": {
          "base_uri": "https://localhost:8080/"
        },
        "id": "CKmpDZz1J4Z7",
        "outputId": "b730f7d4-1ff9-42ad-bf11-d391d6cff117"
      },
      "source": [
        "EPOCHS = 3\n",
        "\n",
        "model.fit(train_ds, validation_data=valid_ds, epochs=EPOCHS)"
      ],
      "execution_count": 21,
      "outputs": [
        {
          "output_type": "stream",
          "name": "stdout",
          "text": [
            "Epoch 1/3\n",
            "625/625 [==============================] - 39s 18ms/step - loss: 0.4491 - accuracy: 0.7664 - val_loss: 0.3050 - val_accuracy: 0.8702\n",
            "Epoch 2/3\n",
            "625/625 [==============================] - 9s 14ms/step - loss: 0.1824 - accuracy: 0.9341 - val_loss: 0.2982 - val_accuracy: 0.8868\n",
            "Epoch 3/3\n",
            "625/625 [==============================] - 9s 14ms/step - loss: 0.0862 - accuracy: 0.9721 - val_loss: 0.4003 - val_accuracy: 0.8830\n"
          ]
        },
        {
          "output_type": "execute_result",
          "data": {
            "text/plain": [
              "<keras.callbacks.History at 0x7f50604ebed0>"
            ]
          },
          "metadata": {},
          "execution_count": 21
        }
      ]
    },
    {
      "cell_type": "markdown",
      "metadata": {
        "id": "81VyWoPEJjw7"
      },
      "source": [
        "### Evaluating the model"
      ]
    },
    {
      "cell_type": "code",
      "metadata": {
        "colab": {
          "base_uri": "https://localhost:8080/"
        },
        "id": "iNLW5ZeWJmRT",
        "outputId": "3f937241-075c-47cc-85c4-25d31d737f28"
      },
      "source": [
        "model.evaluate(test_ds,verbose=1)"
      ],
      "execution_count": 22,
      "outputs": [
        {
          "output_type": "stream",
          "name": "stdout",
          "text": [
            "782/782 [==============================] - 8s 11ms/step - loss: 0.4241 - accuracy: 0.8716\n"
          ]
        },
        {
          "output_type": "execute_result",
          "data": {
            "text/plain": [
              "[0.4240582287311554, 0.8715999722480774]"
            ]
          },
          "metadata": {},
          "execution_count": 22
        }
      ]
    },
    {
      "cell_type": "markdown",
      "metadata": {
        "id": "j52Cpwc4Jm9y"
      },
      "source": [
        "### Model inference\n",
        "\n",
        "In the predict we are going to vectorize the text, then we are going to call the model.predict so that it will returns a prediction label to us."
      ]
    },
    {
      "cell_type": "code",
      "metadata": {
        "id": "5b9_oKFSKnrR"
      },
      "source": [
        "data = []\n",
        "for text_batch, label_batch in raw_test_ds.take(1):\n",
        "  for text, label in zip(text_batch, label_batch[:5]):\n",
        "    data.append({\"text\":text, \"label\": label})"
      ],
      "execution_count": 23,
      "outputs": []
    },
    {
      "cell_type": "code",
      "metadata": {
        "id": "wZS4EoQjIEw3"
      },
      "source": [
        "def vectorize_text(text):\n",
        "  text= tf.expand_dims(text, -1)\n",
        "  return vectorize_layer(text)\n",
        "\n",
        "vectorize_text(\"this movie sucks!\")"
      ],
      "execution_count": null,
      "outputs": []
    },
    {
      "cell_type": "code",
      "metadata": {
        "id": "ZdRb87JBLWd9"
      },
      "source": [
        "def make_prediction(text):\n",
        "  vectors = vectorize_text(text)\n",
        "  pred = tf.round(tf.squeeze(model(vectors)))\n",
        "  return pred.numpy().astype(\"int32\")"
      ],
      "execution_count": 32,
      "outputs": []
    },
    {
      "cell_type": "code",
      "metadata": {
        "id": "zpY8Ok8hMT9s",
        "outputId": "1c15eaf4-f957-4066-b17e-b414bd7b2c23",
        "colab": {
          "base_uri": "https://localhost:8080/"
        }
      },
      "source": [
        "print(\"real label\\tpredicted label\\tpredicted class\")\n",
        "for ele in data:\n",
        "  predicted = make_prediction(ele[\"text\"])\n",
        "  print(f\"{predicted}\\t\\t{ele['label']}\\t\\t{raw_train_ds.class_names[predicted]}\")"
      ],
      "execution_count": 36,
      "outputs": [
        {
          "output_type": "stream",
          "name": "stdout",
          "text": [
            "real label\tpredicted label\tpredicted class\n",
            "0\t\t1\t\tneg\n",
            "1\t\t1\t\tpos\n",
            "1\t\t1\t\tpos\n",
            "1\t\t1\t\tpos\n",
            "1\t\t1\t\tpos\n"
          ]
        }
      ]
    },
    {
      "cell_type": "markdown",
      "metadata": {
        "id": "ziMHni4YJpgz"
      },
      "source": [
        "### Making an End-End Model.\n",
        "\n",
        "If you want to obtain a model capable of processing raw strings, you can simply create a new model (using the weights we just trained) as follows:\n",
        "\n",
        "\n",
        "```py\n",
        "# A string input\n",
        "inputs = tf.keras.Input(shape=(1,), dtype=\"string\")\n",
        "# Turn strings into vocab indices\n",
        "indices = vectorize_layer(inputs)\n",
        "# Turn vocab indices into predictions\n",
        "outputs = model(indices)\n",
        "\n",
        "# Our end to end model\n",
        "end_to_end_model = tf.keras.Model(inputs, outputs)\n",
        "end_to_end_model.compile(\n",
        "    loss=\"binary_crossentropy\", optimizer=\"adam\", metrics=[\"accuracy\"]\n",
        ")\n",
        "\n",
        "# Test it with `raw_test_ds`, which yields raw strings\n",
        "end_to_end_model.evaluate(raw_test_ds)\n",
        "```\n",
        "\n",
        "We are going to create this model from scratch in this notbook."
      ]
    },
    {
      "cell_type": "code",
      "metadata": {
        "colab": {
          "base_uri": "https://localhost:8080/"
        },
        "id": "Hh8cSeGzIEvI",
        "outputId": "417e67e1-c7f7-4a62-8578-9e5e5b38674e"
      },
      "source": [
        "inputs = tf.keras.layers.Input(shape=(1, ), dtype=\"string\")\n",
        "indeces = vectorize_layer(inputs)\n",
        "x = tf.keras.layers.Embedding(MAX_FEATURES,EMBEDDING_DIM)(indeces)\n",
        "x = tf.keras.layers.Dropout(rate=.5)(x)\n",
        "\n",
        "x = tf.keras.layers.Conv1D(128, 5, padding=\"valid\", \n",
        "                           activation=\"relu\", strides=3)(x)\n",
        "x = tf.keras.layers.Conv1D(128, 5, padding=\"valid\", \n",
        "                           activation=\"relu\", strides=3)(x)\n",
        "x = tf.keras.layers.GlobalAveragePooling1D()(x)\n",
        "\n",
        "\n",
        "x = tf.keras.layers.Dense(128, activation=\"relu\")(x)\n",
        "x = tf.keras.layers.Dropout(rate=.5)(x)\n",
        "\n",
        "outputs = tf.keras.layers.Dense(1, activation=\"sigmoid\")(x)\n",
        "\n",
        "model = tf.keras.Model(inputs, outputs)\n",
        "\n",
        "model.summary()"
      ],
      "execution_count": 37,
      "outputs": [
        {
          "output_type": "stream",
          "name": "stdout",
          "text": [
            "Model: \"model_1\"\n",
            "_________________________________________________________________\n",
            "Layer (type)                 Output Shape              Param #   \n",
            "=================================================================\n",
            "input_2 (InputLayer)         [(None, 1)]               0         \n",
            "_________________________________________________________________\n",
            "text_vectorization (TextVect (None, 500)               0         \n",
            "_________________________________________________________________\n",
            "embedding_1 (Embedding)      (None, 500, 128)          2560000   \n",
            "_________________________________________________________________\n",
            "dropout_2 (Dropout)          (None, 500, 128)          0         \n",
            "_________________________________________________________________\n",
            "conv1d_2 (Conv1D)            (None, 166, 128)          82048     \n",
            "_________________________________________________________________\n",
            "conv1d_3 (Conv1D)            (None, 54, 128)           82048     \n",
            "_________________________________________________________________\n",
            "global_average_pooling1d_1 ( (None, 128)               0         \n",
            "_________________________________________________________________\n",
            "dense_2 (Dense)              (None, 128)               16512     \n",
            "_________________________________________________________________\n",
            "dropout_3 (Dropout)          (None, 128)               0         \n",
            "_________________________________________________________________\n",
            "dense_3 (Dense)              (None, 1)                 129       \n",
            "=================================================================\n",
            "Total params: 2,740,737\n",
            "Trainable params: 2,740,737\n",
            "Non-trainable params: 0\n",
            "_________________________________________________________________\n"
          ]
        }
      ]
    },
    {
      "cell_type": "markdown",
      "metadata": {
        "id": "ugOLxKWIOEdt"
      },
      "source": [
        "### Training the end-to-end model"
      ]
    },
    {
      "cell_type": "code",
      "metadata": {
        "colab": {
          "base_uri": "https://localhost:8080/"
        },
        "id": "8_6AvFjVIEqb",
        "outputId": "98dc5596-7028-4e07-ded2-4633e8b9bf95"
      },
      "source": [
        "model.compile(\n",
        "    loss=\"binary_crossentropy\", optimizer=\"adam\", metrics=[\"accuracy\"]\n",
        ")\n",
        "\n",
        "EPOCHS = 3\n",
        "\n",
        "model.fit(raw_train_ds, validation_data=raw_valid_ds, epochs=EPOCHS)"
      ],
      "execution_count": 39,
      "outputs": [
        {
          "output_type": "stream",
          "name": "stdout",
          "text": [
            "Epoch 1/3\n",
            "625/625 [==============================] - 16s 24ms/step - loss: 0.4511 - accuracy: 0.7599 - val_loss: 0.2938 - val_accuracy: 0.8746\n",
            "Epoch 2/3\n",
            "625/625 [==============================] - 14s 23ms/step - loss: 0.1873 - accuracy: 0.9315 - val_loss: 0.3093 - val_accuracy: 0.8776\n",
            "Epoch 3/3\n",
            "625/625 [==============================] - 14s 22ms/step - loss: 0.0815 - accuracy: 0.9717 - val_loss: 0.4898 - val_accuracy: 0.8712\n"
          ]
        },
        {
          "output_type": "execute_result",
          "data": {
            "text/plain": [
              "<keras.callbacks.History at 0x7f4fcb979650>"
            ]
          },
          "metadata": {},
          "execution_count": 39
        }
      ]
    },
    {
      "cell_type": "markdown",
      "metadata": {
        "id": "HZ3QpwPfOg_P"
      },
      "source": [
        "### Evalutaing the model"
      ]
    },
    {
      "cell_type": "code",
      "metadata": {
        "colab": {
          "base_uri": "https://localhost:8080/"
        },
        "id": "itNXy5RBIEns",
        "outputId": "2cb8c9bc-d937-4df6-c017-025a5e357fc2"
      },
      "source": [
        "model.evaluate(raw_test_ds,verbose=1)"
      ],
      "execution_count": 40,
      "outputs": [
        {
          "output_type": "stream",
          "name": "stdout",
          "text": [
            "782/782 [==============================] - 10s 12ms/step - loss: 0.5002 - accuracy: 0.8664\n"
          ]
        },
        {
          "output_type": "execute_result",
          "data": {
            "text/plain": [
              "[0.5001795887947083, 0.8663600087165833]"
            ]
          },
          "metadata": {},
          "execution_count": 40
        }
      ]
    },
    {
      "cell_type": "markdown",
      "metadata": {
        "id": "ntwGRBb4Or_e"
      },
      "source": [
        "### Model Inference"
      ]
    },
    {
      "cell_type": "code",
      "metadata": {
        "id": "3q3JQu73OqBa"
      },
      "source": [
        "def make_prediction(text):\n",
        "  text = tf.constant(text, dtype=\"string\")\n",
        "  text= tf.expand_dims(text, -1)\n",
        "  pred = tf.round(tf.squeeze(model(text)))\n",
        "  return pred.numpy().astype(\"int32\")"
      ],
      "execution_count": 49,
      "outputs": []
    },
    {
      "cell_type": "code",
      "metadata": {
        "id": "xL5XXf1wO-FG",
        "outputId": "60892ed1-701c-4469-ba32-325e1c4ceafd",
        "colab": {
          "base_uri": "https://localhost:8080/"
        }
      },
      "source": [
        "print(\"real label\\tpredicted label\\tpredicted class\")\n",
        "for ele in data:\n",
        "  predicted = make_prediction(ele[\"text\"])\n",
        "  print(f\"{predicted}\\t\\t{ele['label']}\\t\\t{raw_train_ds.class_names[predicted]}\")"
      ],
      "execution_count": 50,
      "outputs": [
        {
          "output_type": "stream",
          "name": "stdout",
          "text": [
            "real label\tpredicted label\tpredicted class\n",
            "0\t\t1\t\tneg\n",
            "1\t\t1\t\tpos\n",
            "1\t\t1\t\tpos\n",
            "1\t\t1\t\tpos\n",
            "1\t\t1\t\tpos\n"
          ]
        }
      ]
    },
    {
      "cell_type": "markdown",
      "metadata": {
        "id": "1ddMpjn-PoDz"
      },
      "source": [
        "### Conclusion \n",
        "\n",
        "In this notebook we have leant how we can load the dataset using the `text_dataset_from_directory` and train a model to perform sentiment analysis using CONV1D. In the next notebook we are going to perform the same task using a RNN. "
      ]
    },
    {
      "cell_type": "code",
      "metadata": {
        "id": "YRzgcZz4PDGs"
      },
      "source": [
        ""
      ],
      "execution_count": null,
      "outputs": []
    }
  ]
}