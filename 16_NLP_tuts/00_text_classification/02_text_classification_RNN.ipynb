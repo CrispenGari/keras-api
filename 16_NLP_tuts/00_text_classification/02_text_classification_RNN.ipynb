{
  "nbformat": 4,
  "nbformat_minor": 0,
  "metadata": {
    "colab": {
      "name": "02_text_classification_RNN.ipynb",
      "provenance": [],
      "collapsed_sections": []
    },
    "kernelspec": {
      "name": "python3",
      "display_name": "Python 3"
    },
    "language_info": {
      "name": "python"
    },
    "accelerator": "GPU"
  },
  "cells": [
    {
      "cell_type": "markdown",
      "metadata": {
        "id": "hwAlHYTX4JIa"
      },
      "source": [
        "### Text Classification using `BiRNN`\n",
        "This notebook is just an expantion of the previous notebook. In this notebook we are going to apply `RNN` layers instead of `Conv1D` layers as we did in the last notebook. The reason being that RNN are better in processing sequencial data which is our case.\n",
        "\n",
        "The reast of the notebook will remain the same as the previous notebook, where there's, we are only going to change few things.\n",
        "\n",
        "### Imports"
      ]
    },
    {
      "cell_type": "code",
      "metadata": {
        "colab": {
          "base_uri": "https://localhost:8080/",
          "height": 35
        },
        "id": "lZOOLOeX36du",
        "outputId": "99abc4bf-0396-41c4-cb1f-d4a3f7176676"
      },
      "source": [
        "import tensorflow as tf\n",
        "from tensorflow import keras\n",
        "import numpy as np\n",
        "\n",
        "import os, random, string, re\n",
        "\n",
        "from tensorflow.keras.layers import TextVectorization\n",
        "\n",
        "np.__version__"
      ],
      "execution_count": 1,
      "outputs": [
        {
          "output_type": "execute_result",
          "data": {
            "application/vnd.google.colaboratory.intrinsic+json": {
              "type": "string"
            },
            "text/plain": [
              "'1.19.5'"
            ]
          },
          "metadata": {},
          "execution_count": 1
        }
      ]
    },
    {
      "cell_type": "markdown",
      "metadata": {
        "id": "3qjJVHJP5aOh"
      },
      "source": [
        "### Data\n",
        "We are going to download the data (IMDB) dataset and load in google colab."
      ]
    },
    {
      "cell_type": "markdown",
      "metadata": {
        "id": "NlBjIoOs544Z"
      },
      "source": [
        "To download the data we are going to use the following command:\n",
        "\n",
        "```shell\n",
        "!curl -O https://ai.stanford.edu/~amaas/data/sentiment/aclImdb_v1.tar.gz\n",
        "\n",
        "# extracting\n",
        "!tar -xf aclImdb_v1.tar.gz\n",
        "```"
      ]
    },
    {
      "cell_type": "code",
      "metadata": {
        "colab": {
          "base_uri": "https://localhost:8080/"
        },
        "id": "prr3wuRK5zsT",
        "outputId": "2f0605e5-fd38-4654-b223-a350f15bd8c5"
      },
      "source": [
        "!curl -O https://ai.stanford.edu/~amaas/data/sentiment/aclImdb_v1.tar.gz\n",
        "!tar -xf aclImdb_v1.tar.gz"
      ],
      "execution_count": 2,
      "outputs": [
        {
          "output_type": "stream",
          "name": "stdout",
          "text": [
            "  % Total    % Received % Xferd  Average Speed   Time    Time     Time  Current\n",
            "                                 Dload  Upload   Total   Spent    Left  Speed\n",
            "100 80.2M  100 80.2M    0     0  13.6M      0  0:00:05  0:00:05 --:--:-- 18.3M\n"
          ]
        }
      ]
    },
    {
      "cell_type": "markdown",
      "metadata": {
        "id": "C2CMttvB7ISz"
      },
      "source": [
        "The `aclImdb/train/pos` and `aclImdb/train/neg` folders contain text files, each of which represents one review (either `positive` or `negative`):\n",
        "\n",
        "Let's check a single example of a positive review using the shell command `cat`."
      ]
    },
    {
      "cell_type": "code",
      "metadata": {
        "colab": {
          "base_uri": "https://localhost:8080/"
        },
        "id": "6PUWhyvH6k2a",
        "outputId": "9e30382f-722e-43eb-a94e-989fe3b4c4ef"
      },
      "source": [
        "!cat aclImdb/train/pos/6248_7.txt"
      ],
      "execution_count": 3,
      "outputs": [
        {
          "output_type": "stream",
          "name": "stdout",
          "text": [
            "Being an Austrian myself this has been a straight knock in my face. Fortunately I don't live nowhere near the place where this movie takes place but unfortunately it portrays everything that the rest of Austria hates about Viennese people (or people close to that region). And it is very easy to read that this is exactly the directors intention: to let your head sink into your hands and say \"Oh my god, how can THAT be possible!\". No, not with me, the (in my opinion) totally exaggerated uncensored swinger club scene is not necessary, I watch porn, sure, but in this context I was rather disgusted than put in the right context.<br /><br />This movie tells a story about how misled people who suffer from lack of education or bad company try to survive and live in a world of redundancy and boring horizons. A girl who is treated like a whore by her super-jealous boyfriend (and still keeps coming back), a female teacher who discovers her masochism by putting the life of her super-cruel \"lover\" on the line, an old couple who has an almost mathematical daily cycle (she is the \"official replacement\" of his ex wife), a couple that has just divorced and has the ex husband suffer under the acts of his former wife obviously having a relationship with her masseuse and finally a crazy hitchhiker who asks her drivers the most unusual questions and stretches their nerves by just being super-annoying.<br /><br />After having seen it you feel almost nothing. You're not even shocked, sad, depressed or feel like doing anything... Maybe that's why I gave it 7 points, it made me react in a way I never reacted before. If that's good or bad is up to you!"
          ]
        }
      ]
    },
    {
      "cell_type": "markdown",
      "metadata": {
        "id": "8tn4XI1671hQ"
      },
      "source": [
        "We are only interested in the `pos` and `neg` folders, so let's delete the other files"
      ]
    },
    {
      "cell_type": "code",
      "metadata": {
        "colab": {
          "base_uri": "https://localhost:8080/"
        },
        "id": "X9GJxjbQ7dXq",
        "outputId": "c68a4981-7f94-4f2e-9e8e-b67295d2948e"
      },
      "source": [
        "!rm -r aclImdb/train/unsup\n",
        "!rm -r aclImdb/test/unsup"
      ],
      "execution_count": 4,
      "outputs": [
        {
          "output_type": "stream",
          "name": "stdout",
          "text": [
            "rm: cannot remove 'aclImdb/test/unsup': No such file or directory\n"
          ]
        }
      ]
    },
    {
      "cell_type": "markdown",
      "metadata": {
        "id": "iq8fAxxN8WBY"
      },
      "source": [
        "Now our folder and file structures looks as follows:\n",
        "\n",
        "```\n",
        "📁 acllmdb\n",
        "  📁 test\n",
        "    📁 neg\n",
        "      🗄...txt\n",
        "    📁 pos\n",
        "     🗄...txt\n",
        "  📁 train\n",
        "    📁 neg\n",
        "     🗄...txt\n",
        "    📁 pos\n",
        "     🗄...txt\n",
        "```\n",
        "\n",
        "We are going to use the [`tf.keras.preprocessing.text_dataset_from_directory`](https://keras.io/api/preprocessing/text#textdatasetfromdirectory-function) to generate a labeled [`tf.data.Dataset`](https://www.tensorflow.org/api_docs/python/tf/data/Dataset) object from text files that are in our disk.\n",
        "\n",
        "We are then going to generate three sets of data. The train, validation and test. The validation set will come as a fraction of `20%` from the train set.\n",
        "\n",
        "### Loading the data using the `tf.keras.preprocessing.text_dataset_from_directory()`"
      ]
    },
    {
      "cell_type": "code",
      "metadata": {
        "colab": {
          "base_uri": "https://localhost:8080/"
        },
        "id": "clup1SOI_RMA",
        "outputId": "1d449f01-a11b-415d-83ed-3be832592755"
      },
      "source": [
        "!rm -r aclImdb/train/.ipynb_checkpoints\n",
        "!rm -r aclImdb/test/.ipynb_checkpoints"
      ],
      "execution_count": 5,
      "outputs": [
        {
          "output_type": "stream",
          "name": "stdout",
          "text": [
            "rm: cannot remove 'aclImdb/train/.ipynb_checkpoints': No such file or directory\n",
            "rm: cannot remove 'aclImdb/test/.ipynb_checkpoints': No such file or directory\n"
          ]
        }
      ]
    },
    {
      "cell_type": "code",
      "metadata": {
        "colab": {
          "base_uri": "https://localhost:8080/"
        },
        "id": "LoQWeNMZ7-5k",
        "outputId": "6e47ee3a-a511-42ff-848c-9f5aa53e21e0"
      },
      "source": [
        "BATCH_SIZE = 128 # we are going to increase the batchsize this time around to 128 from 32\n",
        "SEED = 42\n",
        "\n",
        "raw_train_ds = tf.keras.preprocessing.text_dataset_from_directory(\n",
        "    \"aclImdb/train\",\n",
        "    batch_size = BATCH_SIZE,\n",
        "    validation_split = .2,\n",
        "    subset = \"training\",\n",
        "    seed = SEED\n",
        ")\n",
        "raw_valid_ds = tf.keras.preprocessing.text_dataset_from_directory(\n",
        "    \"aclImdb/train\",\n",
        "    batch_size = BATCH_SIZE,\n",
        "    validation_split = .2,\n",
        "    subset = \"validation\",\n",
        "    seed = SEED\n",
        ")\n",
        "raw_test_ds = tf.keras.preprocessing.text_dataset_from_directory(\n",
        "    \"aclImdb/test\",\n",
        "    batch_size = BATCH_SIZE\n",
        ")"
      ],
      "execution_count": 6,
      "outputs": [
        {
          "output_type": "stream",
          "name": "stdout",
          "text": [
            "Found 25000 files belonging to 2 classes.\n",
            "Using 20000 files for training.\n",
            "Found 25000 files belonging to 2 classes.\n",
            "Using 5000 files for validation.\n",
            "Found 25000 files belonging to 2 classes.\n"
          ]
        }
      ]
    },
    {
      "cell_type": "markdown",
      "metadata": {
        "id": "HnysEWaA_wMx"
      },
      "source": [
        "Counting examples..."
      ]
    },
    {
      "cell_type": "code",
      "metadata": {
        "colab": {
          "base_uri": "https://localhost:8080/"
        },
        "id": "nc1cJ6ZJ_L3H",
        "outputId": "b8d2c48d-7e0d-4f14-d31a-aa9a304d37f2"
      },
      "source": [
        "print(\"train examples: %d\"\n",
        " % tf.data.experimental.cardinality(raw_train_ds))\n",
        "print(\"test examples: %d\"\n",
        " % tf.data.experimental.cardinality(raw_test_ds))\n",
        "print(\"valid examples: %d\"\n",
        " % tf.data.experimental.cardinality(raw_valid_ds))"
      ],
      "execution_count": 7,
      "outputs": [
        {
          "output_type": "stream",
          "name": "stdout",
          "text": [
            "train examples: 157\n",
            "test examples: 196\n",
            "valid examples: 40\n"
          ]
        }
      ]
    },
    {
      "cell_type": "markdown",
      "metadata": {
        "id": "WaLbTCxOAJbC"
      },
      "source": [
        "Let's check a some examples in a single batch."
      ]
    },
    {
      "cell_type": "code",
      "metadata": {
        "colab": {
          "base_uri": "https://localhost:8080/"
        },
        "id": "Qp_JksS1AE4z",
        "outputId": "541382fd-1792-4b74-b67d-a38cbca4fe8a"
      },
      "source": [
        "for text_batch, label_batch in raw_train_ds.take(1):\n",
        "  for text, label in zip(text_batch, label_batch[:5]):\n",
        "    print(f\"text: {text}\\nlabel: {label}\\nn\")"
      ],
      "execution_count": 8,
      "outputs": [
        {
          "output_type": "stream",
          "name": "stdout",
          "text": [
            "text: b\"CAROL'S JOURNEY is a pleasure to watch for so many reasons. The acting of Clara Lago is simply amazing for someone so young, and she is one of those special actors who can say say much with facial expressions. Director Imanol Urbibe presents a tight and controlled film with no break in continuity, thereby propelling the plot at a steady pace with just enough suspense to keep one wondering what the nest scene will bring. The screenplay of Angel Garcia Roldan is story telling at its best, which, it seems, if the major purpose for films after all. The plot is unpredictable, yet the events as they unravel are completely logical. Perhaps the best feature of this film if to tell a story of the Spanish Civil War as it affected the people. It was a major event of the 20th century, yet hardly any Americans know of it. In fact, in 40 years of university teaching, I averaged about one student a semester who had even heard of it, much less any who could say anything comprehensive about it--and the overwhelming number of students were merit scholars, all of which speaks to the enormous amount of censorship in American education. So, in one way, this film is a good way to begin a study of that event, keeping in mind that when one thread is pulled a great deal of history is unraveled. The appreciation of this film is, therefore, in direct relation to the amount of one's knowledge. To view this film as another coming of age movie is the miss the movie completely. The Left Elbow Index considers seven aspects of film-- acting, production sets, character development, plot, dialogue, film continuity, and artistry--on a scale for 10 for very good, 5 for average, and 1 for needs help. CAROL'S JOURNEY is above average on all counts, excepting dialogue which is rated as average. The LEI average for this film is 9.3, raised to a 10 when equated to the IMDb scale. I highly recommend this film for all ages.\"\n",
            "label: 1\n",
            "n\n",
            "text: b\"David Mamet is a very interesting and a very un-equal director. His first movie 'House of Games' was the one I liked best, and it set a series of films with characters whose perspective of life changes as they get into complicated situations, and so does the perspective of the viewer.<br /><br />So is 'Homicide' which from the title tries to set the mind of the viewer to the usual crime drama. The principal characters are two cops, one Jewish and one Irish who deal with a racially charged area. The murder of an old Jewish shop owner who proves to be an ancient veteran of the Israeli Independence war triggers the Jewish identity in the mind and heart of the Jewish detective.<br /><br />This is were the flaws of the film are the more obvious. The process of awakening is theatrical and hard to believe, the group of Jewish militants is operatic, and the way the detective eventually walks to the final violent confrontation is pathetic. The end of the film itself is Mamet-like smart, but disappoints from a human emotional perspective.<br /><br />Joe Mantegna and William Macy give strong performances, but the flaws of the story are too evident to be easily compensated.\"\n",
            "label: 0\n",
            "n\n",
            "text: b'After Harry Reems\\' teenage girlfriend is raped by Zebbedy Colt (The Night-Walker), Reems becomes despondent and consoles himself by having sex with some lesbians. Meanwhile, Colt, who carries a cane and dresses like a magician, rapes some more women. Eventually, Reems decides to track him down and end his crime spree. Despite being shot on film and marginally nasty, it looks like any other 70\\'s porno and is ineptly executed. The rape/abuse scenes are surprisingly restrained and the attempt to cash in on \"Death Wish\" is laughable. R. Bolla (\"Cannibal Holocaust\") plays a cop. Colt, who is usually over-the-top, wigs out in a couple of scenes, but he\\'s too well behaved for my money. This roughie could have been much rougher.'\n",
            "label: 0\n",
            "n\n",
            "text: b\"It's boggles the mind how this movie was nominated for seven Oscars and won one. Not because it's abysmal or because given the collective credentials of the creative team behind it really ought to deserve them but because in every category it was nominated Prizzi's Honor disappoints. Some would argue that old Hollywood pioneer John Huston had lost it by this point in his career but I don't buy it. Only the previous year he signed the superb UNDER THE VOLCANO, a dark character study set in Mexico, that ranks among the finest he ever did. Prizzi's Honor on the other hand, a film loaded with star power, good intentions and a decent script, proves to be a major letdown.<br /><br />The overall tone and plot of a gangster falling in love with a female hit-man prefigures the quirky crimedies that caught Hollywood by storm in the early 90's but the script is too convoluted for its own sake, the motivations are off and on the whole the story seems unsure of what exactly it's trying to be: a romantic comedy, a crime drama, a gangster saga etc. Jack Nicholson (doing a Brooklyn accent that works perfectly for De Niro but sounds unconvincing coming from Jack) and Kathleen Turner in the leading roles seem to be in paycheck mode, just going through the motions almost sleepwalking their way through some parts. Anjelica Huston on the other hand fares better but her performance is sabotaged by her character's motivations: she starts out the victim of her bigot father's disdain, she proves to be supportive to her ex-husband, then becomes a vindictive bitch that wants his head on a plate.<br /><br />The colours of the movie have a washed-up quality like it was made in the early 70's and Huston's direction is as uninteresting as everything else. There's promise behind the story and perhaps in the hands of a director hungry to be recognized it could've been morphed to something better but what's left looks like a film nobody was really interested in making.\"\n",
            "label: 0\n",
            "n\n",
            "text: b'This movie is pretty awful but I have some interesting information about it:<br /><br />It was filmed in 1976 at Northern Arizona University in Flagstaff, AZ, as well as at Oak Creek Canyon near Sedona, AZ. A good bulk of the extras in the film are then-drama students from NAU. I was a freshman there that year, minoring in theatre, but for some reason I didn\\'t get involved with the production. I did however know several people who did and can supply this rather odd fact:<br /><br />There is a scene in this movie where two of the principals, as part of their hazing ritual, have to run naked into the woods. They are seen from behind in the movie, doing just that. The thing is, those aren\\'t the actors at all but two guys I knew from the theatre department. The identity of these \"stunt posteriors\" will remain anonymous, at least to this website, unless they decide to, um, \"reveal\" themselves!'\n",
            "label: 0\n",
            "n\n"
          ]
        }
      ]
    },
    {
      "cell_type": "markdown",
      "metadata": {
        "id": "QQ6N82akA3cN"
      },
      "source": [
        "### Data cleaning\n",
        "We are going to clean our data. By cleaning I mean removing unnessesarry text for example ``html`` tags. We are goiing to create a `standardization` function which will do the following:\n",
        "\n",
        "1. lower case the text\n",
        "2. remove html tags\n"
      ]
    },
    {
      "cell_type": "code",
      "metadata": {
        "id": "Jcyrz2f2As-l"
      },
      "source": [
        "def standardization(input_data):\n",
        "  input_data = tf.strings.lower(input_data)\n",
        "  input_data = tf.strings.regex_replace(input_data, \"<br/>\", \" \")\n",
        "  return tf.strings.regex_replace(\n",
        "      input_data, re.escape(string.punctuation), \"\"\n",
        "  )"
      ],
      "execution_count": 9,
      "outputs": []
    },
    {
      "cell_type": "markdown",
      "metadata": {
        "id": "ugx4RlUqCU4D"
      },
      "source": [
        "### Model Hyper Params"
      ]
    },
    {
      "cell_type": "code",
      "metadata": {
        "id": "98zckl_LCS4x"
      },
      "source": [
        "MAX_FEATURES = 20000\n",
        "EMBEDDING_DIM = 100\n",
        "SEQUENCE_LENGTH = 500"
      ],
      "execution_count": 10,
      "outputs": []
    },
    {
      "cell_type": "markdown",
      "metadata": {
        "id": "r_ju7JaTDElz"
      },
      "source": [
        "### Text Vectorization\n",
        "Now that we have our function that standadize text, we can then create a vectorization layer. WE are using this layer to:\n",
        "1. split strings\n",
        "2. map them to integer representations\n"
      ]
    },
    {
      "cell_type": "code",
      "metadata": {
        "id": "bCDuUQPdC8nr"
      },
      "source": [
        "vectorize_layer = TextVectorization(\n",
        "    standardize=standardization,\n",
        "    max_tokens=MAX_FEATURES,\n",
        "    output_mode=\"int\",\n",
        "    output_sequence_length=SEQUENCE_LENGTH\n",
        ")"
      ],
      "execution_count": 11,
      "outputs": []
    },
    {
      "cell_type": "code",
      "metadata": {
        "colab": {
          "base_uri": "https://localhost:8080/"
        },
        "id": "e3M8jwMNDr4I",
        "outputId": "9ab2aaad-e303-4bf3-ae13-6d36ec1b87d8"
      },
      "source": [
        "vectorize_layer.get_vocabulary()"
      ],
      "execution_count": 12,
      "outputs": [
        {
          "output_type": "execute_result",
          "data": {
            "text/plain": [
              "['', '[UNK]']"
            ]
          },
          "metadata": {},
          "execution_count": 12
        }
      ]
    },
    {
      "cell_type": "markdown",
      "metadata": {
        "id": "MGVmXmNTD7Dw"
      },
      "source": [
        "As you can see that we only have the ``''`` and ``[UNK]`` as our vocabulary, we need to to make our `vectorize_layer` to adapt to our train features. So to do that we need to extract text features first from our `train_dataset` and the we call the `adapt`method to create the vocabulary."
      ]
    },
    {
      "cell_type": "code",
      "metadata": {
        "id": "H3bh8oxHDzol"
      },
      "source": [
        "text_ds = raw_train_ds.map(lambda x, y: x)"
      ],
      "execution_count": 13,
      "outputs": []
    },
    {
      "cell_type": "code",
      "metadata": {
        "id": "IapOGKfJE1Fh"
      },
      "source": [
        "vectorize_layer.adapt(text_ds)"
      ],
      "execution_count": 14,
      "outputs": []
    },
    {
      "cell_type": "markdown",
      "metadata": {
        "id": "lmcs86PtFJa1"
      },
      "source": [
        "### Text vectorization layer.\n",
        "\n",
        "There are two options we can use to vectorize our data.\n",
        "\n",
        "1. **Make it part of the model**\n",
        "\n",
        "This method allows us to pass the raw text strings to the model and the model will take care of the rest for us: The following example shows how we can use this method:\n",
        "\n",
        "```py\n",
        "input = tf.keras.Input(shape=(1,), dtype=tf.string, name='text')\n",
        "x = vectorized_layer(input)\n",
        "x = keras.layers.Embedding(MAX_FEATURES + 1, EMBEDDING_DIM)(x)\n",
        "\n",
        "....\n",
        "```\n",
        "\n",
        "2. **Apply it to the text dataset**.\n",
        "\n",
        "This method will obtain a dataset of word indices then feed those to the network.\n",
        "\n",
        "> An important difference between the two is that option 2 enables you to do **asynchronous CPU processing and buffering** of your data when training on GPU. So if you're training the model on GPU, you probably want to go with this option to get the best performance\n",
        "\n"
      ]
    },
    {
      "cell_type": "code",
      "metadata": {
        "id": "BjmTegOEDziN"
      },
      "source": [
        "def vectorize(text, label):\n",
        "  text= tf.expand_dims(text, -1)\n",
        "  return vectorize_layer(text), label"
      ],
      "execution_count": 15,
      "outputs": []
    },
    {
      "cell_type": "markdown",
      "metadata": {
        "id": "9azWaQ-sHArr"
      },
      "source": [
        "Vectorizing the data"
      ]
    },
    {
      "cell_type": "code",
      "metadata": {
        "id": "2g02r506DwKd"
      },
      "source": [
        "train_ds = raw_train_ds.map(vectorize)\n",
        "valid_ds = raw_valid_ds.map(vectorize)\n",
        "test_ds = raw_test_ds.map(vectorize)"
      ],
      "execution_count": 16,
      "outputs": []
    },
    {
      "cell_type": "markdown",
      "metadata": {
        "id": "Xuqh_QqeHQXk"
      },
      "source": [
        "### Async prefetching / buffering of the data "
      ]
    },
    {
      "cell_type": "code",
      "metadata": {
        "id": "wuqGsA7UHY1F"
      },
      "source": [
        "BUFFER_SIZE =  100\n",
        "train_ds = train_ds.cache().prefetch(buffer_size=BUFFER_SIZE)\n",
        "test_ds = test_ds.cache().prefetch(buffer_size=BUFFER_SIZE)\n",
        "valid_ds = valid_ds.cache().prefetch(buffer_size=BUFFER_SIZE)"
      ],
      "execution_count": 17,
      "outputs": []
    },
    {
      "cell_type": "markdown",
      "metadata": {
        "id": "dLwFYH9ZHsqs"
      },
      "source": [
        "### Building the model\n",
        "\n",
        "\n",
        "We are still going to make use of the functional API but this time around we will use the Bi-Direction RNN with LSTM layer as the forward layer and GRU as the backward layer.\n"
      ]
    },
    {
      "cell_type": "code",
      "metadata": {
        "colab": {
          "base_uri": "https://localhost:8080/"
        },
        "id": "yDBqA71gICui",
        "outputId": "e1de10f4-ee01-4313-eacd-0e8c94cf0622"
      },
      "source": [
        "forward_layer = keras.layers.GRU(128, return_sequences=True, dropout=.5)\n",
        "backward_layer = keras.layers.LSTM(128, activation='tanh', return_sequences=True,\n",
        "                       go_backwards=True, dropout=.5)\n",
        "inputs = keras.layers.Input(shape=(None, ), dtype=\"int64\")\n",
        "\n",
        "x = keras.layers.Embedding(MAX_FEATURES,EMBEDDING_DIM)(inputs)\n",
        "x = keras.layers.Dropout(rate=.5)(x)\n",
        "\n",
        "x = keras.layers.Bidirectional(\n",
        "    forward_layer,\n",
        "    backward_layer = backward_layer\n",
        ")(x)\n",
        "\n",
        "x = keras.layers.GRU(\n",
        "    128, return_sequences=True\n",
        ")(x)\n",
        "x = keras.layers.LSTM(\n",
        "    128, return_sequences=True,\n",
        "   dropout=.5\n",
        ")(x)\n",
        "# flatten_layer = keras.layers.Flatten(name=\"flatten_layer\")(lstm_layer)\n",
        "x = keras.layers.GlobalAveragePooling1D()(x)\n",
        "x = keras.layers.Dense(128, activation=\"relu\")(x)\n",
        "x = keras.layers.Dropout(rate=.5)(x)\n",
        "\n",
        "outputs = keras.layers.Dense(1, activation=\"sigmoid\")(x)\n",
        "\n",
        "model = keras.Model(inputs, outputs, name=\"rnn_model\")\n",
        "\n",
        "model.summary()\n"
      ],
      "execution_count": 18,
      "outputs": [
        {
          "output_type": "stream",
          "name": "stdout",
          "text": [
            "Model: \"rnn_model\"\n",
            "_________________________________________________________________\n",
            "Layer (type)                 Output Shape              Param #   \n",
            "=================================================================\n",
            "input_1 (InputLayer)         [(None, None)]            0         \n",
            "_________________________________________________________________\n",
            "embedding (Embedding)        (None, None, 100)         2000000   \n",
            "_________________________________________________________________\n",
            "dropout (Dropout)            (None, None, 100)         0         \n",
            "_________________________________________________________________\n",
            "bidirectional (Bidirectional (None, None, 256)         205568    \n",
            "_________________________________________________________________\n",
            "gru_1 (GRU)                  (None, None, 128)         148224    \n",
            "_________________________________________________________________\n",
            "lstm_1 (LSTM)                (None, None, 128)         131584    \n",
            "_________________________________________________________________\n",
            "global_average_pooling1d (Gl (None, 128)               0         \n",
            "_________________________________________________________________\n",
            "dense (Dense)                (None, 128)               16512     \n",
            "_________________________________________________________________\n",
            "dropout_1 (Dropout)          (None, 128)               0         \n",
            "_________________________________________________________________\n",
            "dense_1 (Dense)              (None, 1)                 129       \n",
            "=================================================================\n",
            "Total params: 2,502,017\n",
            "Trainable params: 2,502,017\n",
            "Non-trainable params: 0\n",
            "_________________________________________________________________\n"
          ]
        }
      ]
    },
    {
      "cell_type": "markdown",
      "metadata": {
        "id": "JXNN35nHTOwK"
      },
      "source": [
        "### Ploting the mode'l"
      ]
    },
    {
      "cell_type": "code",
      "metadata": {
        "colab": {
          "base_uri": "https://localhost:8080/",
          "height": 730
        },
        "id": "vLElXcQXTSkW",
        "outputId": "aac5d1b2-42aa-4545-d13c-df222d5479a0"
      },
      "source": [
        "keras.utils.plot_model(model, dpi=64, show_shapes=True)"
      ],
      "execution_count": 19,
      "outputs": [
        {
          "output_type": "execute_result",
          "data": {
            "image/png": "[encoded data removed]",
            "text/plain": [
              "<IPython.core.display.Image object>"
            ]
          },
          "metadata": {},
          "execution_count": 19
        }
      ]
    },
    {
      "cell_type": "markdown",
      "metadata": {
        "id": "PRVirsozJV2u"
      },
      "source": [
        "### Compiling the model"
      ]
    },
    {
      "cell_type": "code",
      "metadata": {
        "id": "wjz5ZdTlIEzN"
      },
      "source": [
        "model.compile(loss=\"binary_crossentropy\",\n",
        "              optimizer=\"adam\", \n",
        "              metrics=[\"accuracy\"])"
      ],
      "execution_count": 20,
      "outputs": []
    },
    {
      "cell_type": "markdown",
      "metadata": {
        "id": "oYEn1XD6Je2A"
      },
      "source": [
        "### Training the model"
      ]
    },
    {
      "cell_type": "code",
      "metadata": {
        "colab": {
          "base_uri": "https://localhost:8080/"
        },
        "id": "CKmpDZz1J4Z7",
        "outputId": "ad0f3fdf-0ba2-4a12-b46b-ee58e308bacc"
      },
      "source": [
        "EPOCHS = 3\n",
        "\n",
        "model.fit(train_ds, validation_data=valid_ds, epochs=EPOCHS)"
      ],
      "execution_count": 21,
      "outputs": [
        {
          "output_type": "stream",
          "name": "stdout",
          "text": [
            "Epoch 1/3\n",
            "157/157 [==============================] - 88s 511ms/step - loss: 0.6072 - accuracy: 0.6284 - val_loss: 0.4197 - val_accuracy: 0.8170\n",
            "Epoch 2/3\n",
            "157/157 [==============================] - 78s 499ms/step - loss: 0.2953 - accuracy: 0.8816 - val_loss: 0.2995 - val_accuracy: 0.8798\n",
            "Epoch 3/3\n",
            "157/157 [==============================] - 79s 501ms/step - loss: 0.1971 - accuracy: 0.9255 - val_loss: 0.3866 - val_accuracy: 0.8652\n"
          ]
        },
        {
          "output_type": "execute_result",
          "data": {
            "text/plain": [
              "<keras.callbacks.History at 0x7f775a37d390>"
            ]
          },
          "metadata": {},
          "execution_count": 21
        }
      ]
    },
    {
      "cell_type": "markdown",
      "metadata": {
        "id": "81VyWoPEJjw7"
      },
      "source": [
        "### Evaluating the model"
      ]
    },
    {
      "cell_type": "code",
      "metadata": {
        "colab": {
          "base_uri": "https://localhost:8080/"
        },
        "id": "iNLW5ZeWJmRT",
        "outputId": "4b840786-f13e-4cf0-c572-d21da3ea76e5"
      },
      "source": [
        "model.evaluate(test_ds,verbose=1)"
      ],
      "execution_count": 22,
      "outputs": [
        {
          "output_type": "stream",
          "name": "stdout",
          "text": [
            "196/196 [==============================] - 32s 160ms/step - loss: 0.3958 - accuracy: 0.8587\n"
          ]
        },
        {
          "output_type": "execute_result",
          "data": {
            "text/plain": [
              "[0.3958146870136261, 0.858680009841919]"
            ]
          },
          "metadata": {},
          "execution_count": 22
        }
      ]
    },
    {
      "cell_type": "markdown",
      "metadata": {
        "id": "j52Cpwc4Jm9y"
      },
      "source": [
        "### Model inference\n",
        "\n",
        "In the predict we are going to vectorize the text, then we are going to call the model.predict so that it will returns a prediction label to us."
      ]
    },
    {
      "cell_type": "code",
      "metadata": {
        "id": "5b9_oKFSKnrR"
      },
      "source": [
        "data = []\n",
        "for text_batch, label_batch in raw_test_ds.take(1):\n",
        "  for text, label in zip(text_batch, label_batch[:5]):\n",
        "    data.append({\"text\":text, \"label\": label})"
      ],
      "execution_count": 23,
      "outputs": []
    },
    {
      "cell_type": "code",
      "metadata": {
        "colab": {
          "base_uri": "https://localhost:8080/"
        },
        "id": "wZS4EoQjIEw3",
        "outputId": "edbf2040-f614-472c-8bf3-409378e05547"
      },
      "source": [
        "def vectorize_text(text):\n",
        "  text= tf.expand_dims(text, -1)\n",
        "  return vectorize_layer(text)\n",
        "\n",
        "vectorize_text(\"this movie sucks!\")"
      ],
      "execution_count": 24,
      "outputs": [
        {
          "output_type": "execute_result",
          "data": {
            "text/plain": [
              "<tf.Tensor: shape=(1, 500), dtype=int64, numpy=\n",
              "array([[   10,    20, 18031,     0,     0,     0,     0,     0,     0,\n",
              "            0,     0,     0,     0,     0,     0,     0,     0,     0,\n",
              "            0,     0,     0,     0,     0,     0,     0,     0,     0,\n",
              "            0,     0,     0,     0,     0,     0,     0,     0,     0,\n",
              "            0,     0,     0,     0,     0,     0,     0,     0,     0,\n",
              "            0,     0,     0,     0,     0,     0,     0,     0,     0,\n",
              "            0,     0,     0,     0,     0,     0,     0,     0,     0,\n",
              "            0,     0,     0,     0,     0,     0,     0,     0,     0,\n",
              "            0,     0,     0,     0,     0,     0,     0,     0,     0,\n",
              "            0,     0,     0,     0,     0,     0,     0,     0,     0,\n",
              "            0,     0,     0,     0,     0,     0,     0,     0,     0,\n",
              "            0,     0,     0,     0,     0,     0,     0,     0,     0,\n",
              "            0,     0,     0,     0,     0,     0,     0,     0,     0,\n",
              "            0,     0,     0,     0,     0,     0,     0,     0,     0,\n",
              "            0,     0,     0,     0,     0,     0,     0,     0,     0,\n",
              "            0,     0,     0,     0,     0,     0,     0,     0,     0,\n",
              "            0,     0,     0,     0,     0,     0,     0,     0,     0,\n",
              "            0,     0,     0,     0,     0,     0,     0,     0,     0,\n",
              "            0,     0,     0,     0,     0,     0,     0,     0,     0,\n",
              "            0,     0,     0,     0,     0,     0,     0,     0,     0,\n",
              "            0,     0,     0,     0,     0,     0,     0,     0,     0,\n",
              "            0,     0,     0,     0,     0,     0,     0,     0,     0,\n",
              "            0,     0,     0,     0,     0,     0,     0,     0,     0,\n",
              "            0,     0,     0,     0,     0,     0,     0,     0,     0,\n",
              "            0,     0,     0,     0,     0,     0,     0,     0,     0,\n",
              "            0,     0,     0,     0,     0,     0,     0,     0,     0,\n",
              "            0,     0,     0,     0,     0,     0,     0,     0,     0,\n",
              "            0,     0,     0,     0,     0,     0,     0,     0,     0,\n",
              "            0,     0,     0,     0,     0,     0,     0,     0,     0,\n",
              "            0,     0,     0,     0,     0,     0,     0,     0,     0,\n",
              "            0,     0,     0,     0,     0,     0,     0,     0,     0,\n",
              "            0,     0,     0,     0,     0,     0,     0,     0,     0,\n",
              "            0,     0,     0,     0,     0,     0,     0,     0,     0,\n",
              "            0,     0,     0,     0,     0,     0,     0,     0,     0,\n",
              "            0,     0,     0,     0,     0,     0,     0,     0,     0,\n",
              "            0,     0,     0,     0,     0,     0,     0,     0,     0,\n",
              "            0,     0,     0,     0,     0,     0,     0,     0,     0,\n",
              "            0,     0,     0,     0,     0,     0,     0,     0,     0,\n",
              "            0,     0,     0,     0,     0,     0,     0,     0,     0,\n",
              "            0,     0,     0,     0,     0,     0,     0,     0,     0,\n",
              "            0,     0,     0,     0,     0,     0,     0,     0,     0,\n",
              "            0,     0,     0,     0,     0,     0,     0,     0,     0,\n",
              "            0,     0,     0,     0,     0,     0,     0,     0,     0,\n",
              "            0,     0,     0,     0,     0,     0,     0,     0,     0,\n",
              "            0,     0,     0,     0,     0,     0,     0,     0,     0,\n",
              "            0,     0,     0,     0,     0,     0,     0,     0,     0,\n",
              "            0,     0,     0,     0,     0,     0,     0,     0,     0,\n",
              "            0,     0,     0,     0,     0,     0,     0,     0,     0,\n",
              "            0,     0,     0,     0,     0,     0,     0,     0,     0,\n",
              "            0,     0,     0,     0,     0,     0,     0,     0,     0,\n",
              "            0,     0,     0,     0,     0,     0,     0,     0,     0,\n",
              "            0,     0,     0,     0,     0,     0,     0,     0,     0,\n",
              "            0,     0,     0,     0,     0,     0,     0,     0,     0,\n",
              "            0,     0,     0,     0,     0,     0,     0,     0,     0,\n",
              "            0,     0,     0,     0,     0,     0,     0,     0,     0,\n",
              "            0,     0,     0,     0,     0]])>"
            ]
          },
          "metadata": {},
          "execution_count": 24
        }
      ]
    },
    {
      "cell_type": "code",
      "metadata": {
        "id": "ZdRb87JBLWd9"
      },
      "source": [
        "def make_prediction(text):\n",
        "  vectors = vectorize_text(text)\n",
        "  pred = tf.round(tf.squeeze(model(vectors)))\n",
        "  return pred.numpy().astype(\"int32\")"
      ],
      "execution_count": 25,
      "outputs": []
    },
    {
      "cell_type": "code",
      "metadata": {
        "colab": {
          "base_uri": "https://localhost:8080/"
        },
        "id": "zpY8Ok8hMT9s",
        "outputId": "24a5ce52-cd77-4270-ad9c-7ecf9723930e"
      },
      "source": [
        "print(\"real label\\tpredicted label\\tpredicted class\")\n",
        "for ele in data:\n",
        "  predicted = make_prediction(ele[\"text\"])\n",
        "  print(f\"{predicted}\\t\\t{ele['label']}\\t\\t{raw_train_ds.class_names[predicted]}\")"
      ],
      "execution_count": 26,
      "outputs": [
        {
          "output_type": "stream",
          "name": "stdout",
          "text": [
            "real label\tpredicted label\tpredicted class\n",
            "0\t\t0\t\tneg\n",
            "1\t\t1\t\tpos\n",
            "0\t\t0\t\tneg\n",
            "0\t\t0\t\tneg\n",
            "1\t\t1\t\tpos\n"
          ]
        }
      ]
    },
    {
      "cell_type": "markdown",
      "metadata": {
        "id": "ziMHni4YJpgz"
      },
      "source": [
        "### Making an End-End Model.\n",
        "\n",
        "We are going to then make an end to end RNN model that will be able to process strings."
      ]
    },
    {
      "cell_type": "code",
      "metadata": {
        "colab": {
          "base_uri": "https://localhost:8080/"
        },
        "id": "Hh8cSeGzIEvI",
        "outputId": "4c53b0a4-e62b-41cb-abbe-1f0b65554524"
      },
      "source": [
        "forward_layer = keras.layers.GRU(128, return_sequences=True, dropout=.5)\n",
        "backward_layer = keras.layers.LSTM(128, activation='tanh', return_sequences=True,\n",
        "                       go_backwards=True, dropout=.5)\n",
        "inputs = keras.layers.Input(shape=(1, ), dtype=\"string\")\n",
        "x = vectorize_layer(inputs)\n",
        "\n",
        "x = keras.layers.Embedding(MAX_FEATURES,EMBEDDING_DIM)(x)\n",
        "x = keras.layers.Dropout(rate=.5)(x)\n",
        "\n",
        "x = keras.layers.Bidirectional(\n",
        "    forward_layer,\n",
        "    backward_layer = backward_layer\n",
        ")(x)\n",
        "\n",
        "x = keras.layers.GRU(\n",
        "    128, return_sequences=True\n",
        ")(x)\n",
        "x = keras.layers.LSTM(\n",
        "    128, return_sequences=True,\n",
        "   dropout=.5\n",
        ")(x)\n",
        "# flatten_layer = keras.layers.Flatten(name=\"flatten_layer\")(lstm_layer)\n",
        "x = keras.layers.GlobalAveragePooling1D()(x)\n",
        "x = keras.layers.Dense(128, activation=\"relu\")(x)\n",
        "x = keras.layers.Dropout(rate=.5)(x)\n",
        "\n",
        "outputs = keras.layers.Dense(1, activation=\"sigmoid\")(x)\n",
        "\n",
        "model = keras.Model(inputs, outputs, name=\"rnn_model\")\n",
        "\n",
        "model.summary()"
      ],
      "execution_count": 27,
      "outputs": [
        {
          "output_type": "stream",
          "name": "stdout",
          "text": [
            "Model: \"rnn_model\"\n",
            "_________________________________________________________________\n",
            "Layer (type)                 Output Shape              Param #   \n",
            "=================================================================\n",
            "input_2 (InputLayer)         [(None, 1)]               0         \n",
            "_________________________________________________________________\n",
            "text_vectorization (TextVect (None, 500)               0         \n",
            "_________________________________________________________________\n",
            "embedding_1 (Embedding)      (None, 500, 100)          2000000   \n",
            "_________________________________________________________________\n",
            "dropout_2 (Dropout)          (None, 500, 100)          0         \n",
            "_________________________________________________________________\n",
            "bidirectional_1 (Bidirection (None, 500, 256)          205568    \n",
            "_________________________________________________________________\n",
            "gru_3 (GRU)                  (None, 500, 128)          148224    \n",
            "_________________________________________________________________\n",
            "lstm_3 (LSTM)                (None, 500, 128)          131584    \n",
            "_________________________________________________________________\n",
            "global_average_pooling1d_1 ( (None, 128)               0         \n",
            "_________________________________________________________________\n",
            "dense_2 (Dense)              (None, 128)               16512     \n",
            "_________________________________________________________________\n",
            "dropout_3 (Dropout)          (None, 128)               0         \n",
            "_________________________________________________________________\n",
            "dense_3 (Dense)              (None, 1)                 129       \n",
            "=================================================================\n",
            "Total params: 2,502,017\n",
            "Trainable params: 2,502,017\n",
            "Non-trainable params: 0\n",
            "_________________________________________________________________\n"
          ]
        }
      ]
    },
    {
      "cell_type": "markdown",
      "metadata": {
        "id": "ugOLxKWIOEdt"
      },
      "source": [
        "### Training the end-to-end model"
      ]
    },
    {
      "cell_type": "code",
      "metadata": {
        "colab": {
          "base_uri": "https://localhost:8080/"
        },
        "id": "8_6AvFjVIEqb",
        "outputId": "4b305d5b-0d24-4e47-c3f7-0b1435eb81cd"
      },
      "source": [
        "model.compile(\n",
        "    loss=\"binary_crossentropy\", optimizer=\"adam\", metrics=[\"accuracy\"]\n",
        ")\n",
        "\n",
        "EPOCHS = 3\n",
        "\n",
        "model.fit(raw_train_ds, validation_data=raw_valid_ds, epochs=EPOCHS)"
      ],
      "execution_count": 28,
      "outputs": [
        {
          "output_type": "stream",
          "name": "stdout",
          "text": [
            "Epoch 1/3\n",
            "157/157 [==============================] - 89s 520ms/step - loss: 0.5962 - accuracy: 0.6336 - val_loss: 0.3420 - val_accuracy: 0.8600\n",
            "Epoch 2/3\n",
            "157/157 [==============================] - 81s 514ms/step - loss: 0.2742 - accuracy: 0.8887 - val_loss: 0.2984 - val_accuracy: 0.8854\n",
            "Epoch 3/3\n",
            "157/157 [==============================] - 80s 508ms/step - loss: 0.1986 - accuracy: 0.9247 - val_loss: 0.3189 - val_accuracy: 0.8814\n"
          ]
        },
        {
          "output_type": "execute_result",
          "data": {
            "text/plain": [
              "<keras.callbacks.History at 0x7f771128ec90>"
            ]
          },
          "metadata": {},
          "execution_count": 28
        }
      ]
    },
    {
      "cell_type": "markdown",
      "metadata": {
        "id": "HZ3QpwPfOg_P"
      },
      "source": [
        "### Evalutaing the model"
      ]
    },
    {
      "cell_type": "code",
      "metadata": {
        "colab": {
          "base_uri": "https://localhost:8080/"
        },
        "id": "itNXy5RBIEns",
        "outputId": "59aadf9a-7e5d-4378-e6c5-359be3d64f34"
      },
      "source": [
        "model.evaluate(raw_test_ds,verbose=1)"
      ],
      "execution_count": 29,
      "outputs": [
        {
          "output_type": "stream",
          "name": "stdout",
          "text": [
            "196/196 [==============================] - 33s 169ms/step - loss: 0.3462 - accuracy: 0.8740\n"
          ]
        },
        {
          "output_type": "execute_result",
          "data": {
            "text/plain": [
              "[0.346204936504364, 0.8740000128746033]"
            ]
          },
          "metadata": {},
          "execution_count": 29
        }
      ]
    },
    {
      "cell_type": "markdown",
      "metadata": {
        "id": "ntwGRBb4Or_e"
      },
      "source": [
        "### Model Inference"
      ]
    },
    {
      "cell_type": "code",
      "metadata": {
        "id": "3q3JQu73OqBa"
      },
      "source": [
        "def make_prediction(text):\n",
        "  text = tf.constant(text, dtype=\"string\")\n",
        "  text= tf.expand_dims(text, -1)\n",
        "  pred = tf.round(tf.squeeze(model(text)))\n",
        "  return pred.numpy().astype(\"int32\")"
      ],
      "execution_count": 30,
      "outputs": []
    },
    {
      "cell_type": "code",
      "metadata": {
        "colab": {
          "base_uri": "https://localhost:8080/"
        },
        "id": "xL5XXf1wO-FG",
        "outputId": "ac1a419d-9bcc-4ad5-95e0-32d7c4f4c8c3"
      },
      "source": [
        "print(\"real label\\tpredicted label\\tpredicted class\")\n",
        "for ele in data:\n",
        "  predicted = make_prediction(ele[\"text\"])\n",
        "  print(f\"{predicted}\\t\\t{ele['label']}\\t\\t{raw_train_ds.class_names[predicted]}\")"
      ],
      "execution_count": 31,
      "outputs": [
        {
          "output_type": "stream",
          "name": "stdout",
          "text": [
            "real label\tpredicted label\tpredicted class\n",
            "0\t\t0\t\tneg\n",
            "1\t\t1\t\tpos\n",
            "0\t\t0\t\tneg\n",
            "0\t\t0\t\tneg\n",
            "1\t\t1\t\tpos\n"
          ]
        }
      ]
    },
    {
      "cell_type": "code",
      "metadata": {
        "id": "YRzgcZz4PDGs"
      },
      "source": [
        ""
      ],
      "execution_count": null,
      "outputs": []
    }
  ]
}