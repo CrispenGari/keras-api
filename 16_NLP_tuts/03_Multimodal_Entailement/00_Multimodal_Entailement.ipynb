{
  "nbformat": 4,
  "nbformat_minor": 0,
  "metadata": {
    "colab": {
      "name": "00_Multimodal_Entailement.ipynb",
      "provenance": []
    },
    "kernelspec": {
      "name": "python3",
      "display_name": "Python 3"
    },
    "language_info": {
      "name": "python"
    },
    "accelerator": "GPU"
  },
  "cells": [
    {
      "cell_type": "markdown",
      "metadata": {
        "id": "kYbqcV7sSRLX"
      },
      "source": [
        "---\n",
        "\n",
        "Author: **`Crispen Gari`**\n",
        "\n",
        "Topic: **`\"Multimodal entailment\" (NER)`**\n",
        "\n",
        "Main: **`Natural Language Processing NLP`**\n",
        "\n",
        "Library: **`TensorFlow (2.x)`**\n",
        "\n",
        "Programing Language: **`Python`**\n",
        "\n",
        "Date: **`2021-09-21`**\n",
        "\n",
        "---"
      ]
    },
    {
      "cell_type": "markdown",
      "metadata": {
        "id": "3KVVgzx9S3fy"
      },
      "source": [
        "### Multimodal entailment\n",
        "\n",
        "In this notebooke we are going to follow up the [keras](https://keras.io/examples/nlp/multimodal_entailment/) and create a model for predicting multimodal entailment suing the [ multimodal entailment dataset](https://github.com/google-research-datasets/recognizing-multimodal-entailment) by Google.\n",
        "\n",
        "\n",
        "### Definition\n",
        "\n",
        "On social media platforms, to audit and moderate content we may want to find answers to the following questions in near real-time:\n",
        "\n",
        "1. **_Does a given piece of information contradict the other?_**\n",
        "2. **_Does a given piece of information imply the other?_**\n",
        "\n",
        "This is the art of analysing _textual entailment_, however this is the case when the ifomation is comming from text only.\n",
        "\n",
        "In real word information can come from different sources for example from images, videos, audios not just text. **Multimodal entailment** will come into play in this senario because it is the extension of text entailment.\n",
        "\n",
        "### Textual Entailment\n",
        "This is the art of analying textual content.\n",
        "\n",
        "### Requirements\n",
        "\n",
        "* `tensorflow_text`\n"
      ]
    },
    {
      "cell_type": "code",
      "metadata": {
        "colab": {
          "base_uri": "https://localhost:8080/"
        },
        "id": "XC30iYJKR632",
        "outputId": "65443b5f-2b1b-489a-bc88-44854d1b0eb4"
      },
      "source": [
        "!pip install -q tensorflow_text"
      ],
      "execution_count": 1,
      "outputs": [
        {
          "output_type": "stream",
          "name": "stdout",
          "text": [
            "\u001b[K     |████████████████████████████████| 4.4 MB 5.5 MB/s \n",
            "\u001b[?25h"
          ]
        }
      ]
    },
    {
      "cell_type": "markdown",
      "metadata": {
        "id": "du0ubh1-U5Mo"
      },
      "source": [
        "\n",
        "2. `tensorflow_hub`"
      ]
    },
    {
      "cell_type": "code",
      "metadata": {
        "id": "smMwdXbuU43g"
      },
      "source": [
        "!pip install -q tensorflow_hub"
      ],
      "execution_count": 2,
      "outputs": []
    },
    {
      "cell_type": "markdown",
      "metadata": {
        "id": "anUteCr7UpF7"
      },
      "source": [
        "### Imports"
      ]
    },
    {
      "cell_type": "code",
      "metadata": {
        "colab": {
          "base_uri": "https://localhost:8080/",
          "height": 35
        },
        "id": "wdi5OqQ5SEic",
        "outputId": "472fd28d-0a35-4996-8799-aae79312b607"
      },
      "source": [
        "import tensorflow as tf\n",
        "from tensorflow import keras\n",
        "import tensorflow_text as text\n",
        "import tensorflow_hub as hub\n",
        "\n",
        "import numpy as np\n",
        "import os\n",
        "import pandas as pd\n",
        "from sklearn.model_selection import train_test_split\n",
        "\n",
        "import matplotlib.pyplot as plt\n",
        "\n",
        "tf.__version__"
      ],
      "execution_count": 3,
      "outputs": [
        {
          "output_type": "execute_result",
          "data": {
            "application/vnd.google.colaboratory.intrinsic+json": {
              "type": "string"
            },
            "text/plain": [
              "'2.6.0'"
            ]
          },
          "metadata": {},
          "execution_count": 3
        }
      ]
    },
    {
      "cell_type": "markdown",
      "metadata": {
        "id": "RIbDPDadVWx7"
      },
      "source": [
        "### Data\n",
        "\n",
        "The original dataset is available [here](https://github.com/google-research-datasets/recognizing-multimodal-entailment). It comes with URLs of images which are hosted on Twitter's photo storage system called the [Photo Blob Storage (PBS for short)](https://blog.twitter.com/engineering/en_us/a/2012/blobstore-twitter-s-in-house-photo-storage-system). We will be working with the downloaded images along with additional data that comes with the original dataset."
      ]
    },
    {
      "cell_type": "code",
      "metadata": {
        "id": "6pBdDf5fSEfQ"
      },
      "source": [
        "image_base_path = keras.utils.get_file(\n",
        "    \"tweet_images\",\n",
        "    \"https://github.com/sayakpaul/Multimodal-Entailment-Baseline/releases/download/v1.0.0/tweet_images.tar.gz\",\n",
        "    untar=True,\n",
        ")"
      ],
      "execution_count": null,
      "outputs": []
    },
    {
      "cell_type": "markdown",
      "metadata": {
        "id": "T4lRN4ZhWLz6"
      },
      "source": [
        "### Reading the data."
      ]
    },
    {
      "cell_type": "code",
      "metadata": {
        "colab": {
          "base_uri": "https://localhost:8080/",
          "height": 462
        },
        "id": "fTWT9cgwSEcZ",
        "outputId": "e22cb75d-4d19-4166-8cb0-db6d3eafda30"
      },
      "source": [
        "df = pd.read_csv(\n",
        "    \"https://github.com/sayakpaul/Multimodal-Entailment-Baseline/raw/main/csvs/tweets.csv\"\n",
        ")\n",
        "df.head()"
      ],
      "execution_count": 5,
      "outputs": [
        {
          "output_type": "execute_result",
          "data": {
            "text/html": [
              "<div>\n",
              "<style scoped>\n",
              "    .dataframe tbody tr th:only-of-type {\n",
              "        vertical-align: middle;\n",
              "    }\n",
              "\n",
              "    .dataframe tbody tr th {\n",
              "        vertical-align: top;\n",
              "    }\n",
              "\n",
              "    .dataframe thead th {\n",
              "        text-align: right;\n",
              "    }\n",
              "</style>\n",
              "<table border=\"1\" class=\"dataframe\">\n",
              "  <thead>\n",
              "    <tr style=\"text-align: right;\">\n",
              "      <th></th>\n",
              "      <th>id_1</th>\n",
              "      <th>text_1</th>\n",
              "      <th>image_1</th>\n",
              "      <th>id_2</th>\n",
              "      <th>text_2</th>\n",
              "      <th>image_2</th>\n",
              "      <th>label</th>\n",
              "    </tr>\n",
              "  </thead>\n",
              "  <tbody>\n",
              "    <tr>\n",
              "      <th>0</th>\n",
              "      <td>1375936088968200205</td>\n",
              "      <td>150 years after its inauguration, the strategi...</td>\n",
              "      <td>http://pbs.twimg.com/media/ExeIVRBWYAAwizQ.jpg</td>\n",
              "      <td>1376653595144241155</td>\n",
              "      <td>Look how only 190 km #suezcanel carries 12% of...</td>\n",
              "      <td>http://pbs.twimg.com/media/ExrbJffWgAoBaxO.jpg</td>\n",
              "      <td>NoEntailment</td>\n",
              "    </tr>\n",
              "    <tr>\n",
              "      <th>1</th>\n",
              "      <td>1360981123388436489</td>\n",
              "      <td>Fall Guys is celebrating Valentine's Day with ...</td>\n",
              "      <td>http://pbs.twimg.com/media/EuMowPiXYAEylR8.jpg</td>\n",
              "      <td>1361075903606910976</td>\n",
              "      <td>Fall Guys Red Panda costume available for limi...</td>\n",
              "      <td>http://pbs.twimg.com/media/EuODUixWYAMRukK.jpg</td>\n",
              "      <td>NoEntailment</td>\n",
              "    </tr>\n",
              "    <tr>\n",
              "      <th>2</th>\n",
              "      <td>1336637206899945472</td>\n",
              "      <td>Impressive Batting Display From Shoaib Malik 🏏...</td>\n",
              "      <td>http://pbs.twimg.com/media/EoywcVGXMAE5FZK.jpg</td>\n",
              "      <td>1339243901799030785</td>\n",
              "      <td>A Half century of King\\n\\n    🔥\"Shoaib Malik\" ...</td>\n",
              "      <td>http://pbs.twimg.com/media/EpXzOwRXYAYLaCB.jpg</td>\n",
              "      <td>NoEntailment</td>\n",
              "    </tr>\n",
              "    <tr>\n",
              "      <th>3</th>\n",
              "      <td>1336490796279742464</td>\n",
              "      <td>How #confident are you today? https://t.co/5ay...</td>\n",
              "      <td>http://pbs.twimg.com/media/EowrS9aVEAAMhsF.jpg</td>\n",
              "      <td>1341081069248868353</td>\n",
              "      <td>How #confident are you today? https://t.co/KqZ...</td>\n",
              "      <td>http://pbs.twimg.com/media/Epx6IA-UwAA8pqN.jpg</td>\n",
              "      <td>Implies</td>\n",
              "    </tr>\n",
              "    <tr>\n",
              "      <th>4</th>\n",
              "      <td>1358934899256877059</td>\n",
              "      <td>The Peacocks finish out the first quarter trai...</td>\n",
              "      <td>http://pbs.twimg.com/media/EtvoCsuWQAALmyP.jpg</td>\n",
              "      <td>1361131487077228546</td>\n",
              "      <td>10 minutes gone here at home as the Peacocks l...</td>\n",
              "      <td>http://pbs.twimg.com/media/EuO1xf2XIAAOIGb.jpg</td>\n",
              "      <td>NoEntailment</td>\n",
              "    </tr>\n",
              "  </tbody>\n",
              "</table>\n",
              "</div>"
            ],
            "text/plain": [
              "                  id_1  ...         label\n",
              "0  1375936088968200205  ...  NoEntailment\n",
              "1  1360981123388436489  ...  NoEntailment\n",
              "2  1336637206899945472  ...  NoEntailment\n",
              "3  1336490796279742464  ...       Implies\n",
              "4  1358934899256877059  ...  NoEntailment\n",
              "\n",
              "[5 rows x 7 columns]"
            ]
          },
          "metadata": {},
          "execution_count": 5
        }
      ]
    },
    {
      "cell_type": "markdown",
      "metadata": {
        "id": "0oxIJFvEWn7K"
      },
      "source": [
        "The columns that we are interested in in this dataframe are:\n",
        "\n",
        "1. text_1\n",
        "2. image_1\n",
        "3. text_2\n",
        "4. image_2\n",
        "5. label\n",
        "\n",
        "\n",
        "### Custom labels\n"
      ]
    },
    {
      "cell_type": "code",
      "metadata": {
        "id": "4Qe4nbrySEZQ"
      },
      "source": [
        "label_map = {\"Contradictory\": 0, \"Implies\": 1, \"NoEntailment\": 2}"
      ],
      "execution_count": 6,
      "outputs": []
    },
    {
      "cell_type": "markdown",
      "metadata": {
        "id": "zt6tgc1bXKPR"
      },
      "source": [
        "### Vocabulary\n",
        "\n",
        "> **entail**- _involve (something) as a necessary or inevitable part or consequence._\n",
        "\n",
        "### The formular for the task is as follows:\n",
        "\n",
        "```\n",
        "Given the pairs of (text_1, image_1) and (text_2, image_2) do they entail (or not entail or contradict) each other?\n",
        "```\n",
        "\n",
        "We have the images already downloaded. `image_1` is downloaded as id1 as its filename and `image2` is downloaded as id2 as its filename. In the next step, we will add two more columns to df - filepaths of `image_1s` and `image_2s`."
      ]
    },
    {
      "cell_type": "code",
      "metadata": {
        "colab": {
          "base_uri": "https://localhost:8080/",
          "height": 462
        },
        "id": "-PXvUH3HSEWp",
        "outputId": "c7c6455d-7ccd-4954-a0af-6a7cfb007d7b"
      },
      "source": [
        "images_one_paths = []\n",
        "images_two_paths = []\n",
        "\n",
        "for index in range(len(df)):\n",
        "  current_row = df.iloc[index]\n",
        "  id_1 = current_row[\"id_1\"]\n",
        "  id_2 = current_row[\"id_2\"]\n",
        "  extentsion_one = current_row.image_1.split(\".\")[-1]\n",
        "  extentsion_two = current_row.image_2.split(\".\")[-1]\n",
        "\n",
        "  image_one_path = os.path.join(\n",
        "      image_base_path, f\"{str(id_1)}.{extentsion_one}\"\n",
        "  )\n",
        "  image_two_path = os.path.join(\n",
        "      image_base_path, f\"{str(id_2)}.{extentsion_two}\"\n",
        "  )\n",
        "\n",
        "  images_one_paths.append(image_one_path)\n",
        "  images_two_paths.append(image_two_path)\n",
        "\n",
        "\n",
        "df[\"image_1_path\"] = images_one_paths\n",
        "df[\"image_2_path\"] = images_two_paths\n",
        "\n",
        "df[\"label_index\"] = df.label.apply(lambda x: label_map[x])\n",
        "\n",
        "df.head()"
      ],
      "execution_count": 10,
      "outputs": [
        {
          "output_type": "execute_result",
          "data": {
            "text/html": [
              "<div>\n",
              "<style scoped>\n",
              "    .dataframe tbody tr th:only-of-type {\n",
              "        vertical-align: middle;\n",
              "    }\n",
              "\n",
              "    .dataframe tbody tr th {\n",
              "        vertical-align: top;\n",
              "    }\n",
              "\n",
              "    .dataframe thead th {\n",
              "        text-align: right;\n",
              "    }\n",
              "</style>\n",
              "<table border=\"1\" class=\"dataframe\">\n",
              "  <thead>\n",
              "    <tr style=\"text-align: right;\">\n",
              "      <th></th>\n",
              "      <th>id_1</th>\n",
              "      <th>text_1</th>\n",
              "      <th>image_1</th>\n",
              "      <th>id_2</th>\n",
              "      <th>text_2</th>\n",
              "      <th>image_2</th>\n",
              "      <th>label</th>\n",
              "      <th>image_1_path</th>\n",
              "      <th>image_2_path</th>\n",
              "      <th>label_index</th>\n",
              "    </tr>\n",
              "  </thead>\n",
              "  <tbody>\n",
              "    <tr>\n",
              "      <th>0</th>\n",
              "      <td>1375936088968200205</td>\n",
              "      <td>150 years after its inauguration, the strategi...</td>\n",
              "      <td>http://pbs.twimg.com/media/ExeIVRBWYAAwizQ.jpg</td>\n",
              "      <td>1376653595144241155</td>\n",
              "      <td>Look how only 190 km #suezcanel carries 12% of...</td>\n",
              "      <td>http://pbs.twimg.com/media/ExrbJffWgAoBaxO.jpg</td>\n",
              "      <td>NoEntailment</td>\n",
              "      <td>/root/.keras/datasets/tweet_images/13759360889...</td>\n",
              "      <td>/root/.keras/datasets/tweet_images/13766535951...</td>\n",
              "      <td>2</td>\n",
              "    </tr>\n",
              "    <tr>\n",
              "      <th>1</th>\n",
              "      <td>1360981123388436489</td>\n",
              "      <td>Fall Guys is celebrating Valentine's Day with ...</td>\n",
              "      <td>http://pbs.twimg.com/media/EuMowPiXYAEylR8.jpg</td>\n",
              "      <td>1361075903606910976</td>\n",
              "      <td>Fall Guys Red Panda costume available for limi...</td>\n",
              "      <td>http://pbs.twimg.com/media/EuODUixWYAMRukK.jpg</td>\n",
              "      <td>NoEntailment</td>\n",
              "      <td>/root/.keras/datasets/tweet_images/13609811233...</td>\n",
              "      <td>/root/.keras/datasets/tweet_images/13610759036...</td>\n",
              "      <td>2</td>\n",
              "    </tr>\n",
              "    <tr>\n",
              "      <th>2</th>\n",
              "      <td>1336637206899945472</td>\n",
              "      <td>Impressive Batting Display From Shoaib Malik 🏏...</td>\n",
              "      <td>http://pbs.twimg.com/media/EoywcVGXMAE5FZK.jpg</td>\n",
              "      <td>1339243901799030785</td>\n",
              "      <td>A Half century of King\\n\\n    🔥\"Shoaib Malik\" ...</td>\n",
              "      <td>http://pbs.twimg.com/media/EpXzOwRXYAYLaCB.jpg</td>\n",
              "      <td>NoEntailment</td>\n",
              "      <td>/root/.keras/datasets/tweet_images/13366372068...</td>\n",
              "      <td>/root/.keras/datasets/tweet_images/13392439017...</td>\n",
              "      <td>2</td>\n",
              "    </tr>\n",
              "    <tr>\n",
              "      <th>3</th>\n",
              "      <td>1336490796279742464</td>\n",
              "      <td>How #confident are you today? https://t.co/5ay...</td>\n",
              "      <td>http://pbs.twimg.com/media/EowrS9aVEAAMhsF.jpg</td>\n",
              "      <td>1341081069248868353</td>\n",
              "      <td>How #confident are you today? https://t.co/KqZ...</td>\n",
              "      <td>http://pbs.twimg.com/media/Epx6IA-UwAA8pqN.jpg</td>\n",
              "      <td>Implies</td>\n",
              "      <td>/root/.keras/datasets/tweet_images/13364907962...</td>\n",
              "      <td>/root/.keras/datasets/tweet_images/13410810692...</td>\n",
              "      <td>1</td>\n",
              "    </tr>\n",
              "    <tr>\n",
              "      <th>4</th>\n",
              "      <td>1358934899256877059</td>\n",
              "      <td>The Peacocks finish out the first quarter trai...</td>\n",
              "      <td>http://pbs.twimg.com/media/EtvoCsuWQAALmyP.jpg</td>\n",
              "      <td>1361131487077228546</td>\n",
              "      <td>10 minutes gone here at home as the Peacocks l...</td>\n",
              "      <td>http://pbs.twimg.com/media/EuO1xf2XIAAOIGb.jpg</td>\n",
              "      <td>NoEntailment</td>\n",
              "      <td>/root/.keras/datasets/tweet_images/13589348992...</td>\n",
              "      <td>/root/.keras/datasets/tweet_images/13611314870...</td>\n",
              "      <td>2</td>\n",
              "    </tr>\n",
              "  </tbody>\n",
              "</table>\n",
              "</div>"
            ],
            "text/plain": [
              "                  id_1  ... label_index\n",
              "0  1375936088968200205  ...           2\n",
              "1  1360981123388436489  ...           2\n",
              "2  1336637206899945472  ...           2\n",
              "3  1336490796279742464  ...           1\n",
              "4  1358934899256877059  ...           2\n",
              "\n",
              "[5 rows x 10 columns]"
            ]
          },
          "metadata": {},
          "execution_count": 10
        }
      ]
    },
    {
      "cell_type": "markdown",
      "metadata": {
        "id": "SU66HQmSZPlC"
      },
      "source": [
        "### Dataset visualization"
      ]
    },
    {
      "cell_type": "code",
      "metadata": {
        "id": "Ic-prBfxSEUE"
      },
      "source": [
        "def visualize(idx):\n",
        "    current_row = df.iloc[idx]\n",
        "    image_1 = plt.imread(current_row[\"image_1_path\"])\n",
        "    image_2 = plt.imread(current_row[\"image_2_path\"])\n",
        "    text_1 = current_row[\"text_1\"]\n",
        "    text_2 = current_row[\"text_2\"]\n",
        "    label = current_row[\"label\"]\n",
        "\n",
        "    plt.subplot(1, 2, 1)\n",
        "    plt.imshow(image_1)\n",
        "    plt.axis(\"off\")\n",
        "    plt.title(\"Image One\")\n",
        "    plt.subplot(1, 2, 2)\n",
        "    plt.imshow(image_1)\n",
        "    plt.axis(\"off\")\n",
        "    plt.title(\"Image Two\")\n",
        "    plt.show()\n",
        "\n",
        "    print(f\"Text one: {text_1}\")\n",
        "    print(f\"Text two: {text_2}\")\n",
        "    print(f\"Label: {label}\")\n"
      ],
      "execution_count": 11,
      "outputs": []
    },
    {
      "cell_type": "code",
      "metadata": {
        "colab": {
          "base_uri": "https://localhost:8080/",
          "height": 316
        },
        "id": "vcWMI-d2SERQ",
        "outputId": "35e53466-9826-4f6c-81a6-9cb4010e21cd"
      },
      "source": [
        "random_idx = np.random.choice(len(df))\n",
        "visualize(random_idx)"
      ],
      "execution_count": 14,
      "outputs": [
        {
          "output_type": "display_data",
          "data": {
            "image/png": "[encoded data removed]",
            "text/plain": [
              "<Figure size 432x288 with 2 Axes>"
            ]
          },
          "metadata": {
            "needs_background": "light"
          }
        },
        {
          "output_type": "stream",
          "name": "stdout",
          "text": [
            "Text one: Environmental risks have become unneglectable risks for financial institutions. \n",
            "\n",
            "Watch SSE presentation at the Environmental Risk Management and Climate Exposure Reporting Webinar \n",
            "\n",
            "👉https://t.co/54D3njX8iT https://t.co/VQC3uLX0CS\n",
            "Text two: Environmental risks have become unneglectable risks for financial institutions. \n",
            "\n",
            "Watch SSE presentation at the Environmental Risk Management and Climate Exposure Reporting Webinar \n",
            "\n",
            "👉https://t.co/54D3njFwUj https://t.co/J6DKKwv36v\n",
            "Label: NoEntailment\n"
          ]
        }
      ]
    },
    {
      "cell_type": "code",
      "metadata": {
        "colab": {
          "base_uri": "https://localhost:8080/",
          "height": 379
        },
        "id": "jn0caE17SEOO",
        "outputId": "01109402-a764-4f33-aa6f-9c3325b33024"
      },
      "source": [
        "random_idx = np.random.choice(len(df))\n",
        "visualize(random_idx)"
      ],
      "execution_count": 13,
      "outputs": [
        {
          "output_type": "display_data",
          "data": {
            "image/png": "[encoded data removed]",
            "text/plain": [
              "<Figure size 432x288 with 2 Axes>"
            ]
          },
          "metadata": {
            "needs_background": "light"
          }
        },
        {
          "output_type": "stream",
          "name": "stdout",
          "text": [
            "Text one: 210219 COMMENT\n",
            "💬 Have you ever imagined about being questioned by MC Jihan?\n",
            "\n",
            "#Zoa\n",
            "I'm already excited to get a question from MC Jjyan❤️ !! 😆\n",
            "Jjyan unnie you can do it💕\n",
            "\n",
            "#Weeekly #위클리 #조아 @_Weeekly https://t.co/wwy8pzREZ6\n",
            "Text two: 210219 COMMENT\n",
            "💬 I want to see Jihan introducing Weeekly on The Show and the appearance of Leader Puppy (Soojin) when doing the interview\n",
            "\n",
            "#LeeSoojin\n",
            "Thinking about how Jihan would introducing Weeekly already make me overwhelmed (of joy)..💦 \n",
            "So cool... 👍 Our jjyanie...🍒 https://t.co/v2yBsNhGXp\n",
            "Label: NoEntailment\n"
          ]
        }
      ]
    },
    {
      "cell_type": "markdown",
      "metadata": {
        "id": "6YxSBpP-ZxUc"
      },
      "source": [
        "### Splitting the sets\n",
        "\n",
        "There's a class inbalance problem in our dataset. Let's chech how many examples do we have for each label."
      ]
    },
    {
      "cell_type": "code",
      "metadata": {
        "colab": {
          "base_uri": "https://localhost:8080/"
        },
        "id": "ez-f16I_SELR",
        "outputId": "addbc7c4-3b98-4682-f9f7-f34a84f72b34"
      },
      "source": [
        "df.label.value_counts()"
      ],
      "execution_count": 15,
      "outputs": [
        {
          "output_type": "execute_result",
          "data": {
            "text/plain": [
              "NoEntailment     1182\n",
              "Contradictory     109\n",
              "Implies           109\n",
              "Name: label, dtype: int64"
            ]
          },
          "metadata": {},
          "execution_count": 15
        }
      ]
    },
    {
      "cell_type": "markdown",
      "metadata": {
        "id": "myiE_18-aG4m"
      },
      "source": [
        "To solve this issue we are going to use the **stratified split**."
      ]
    },
    {
      "cell_type": "code",
      "metadata": {
        "colab": {
          "base_uri": "https://localhost:8080/"
        },
        "id": "1vd_jC98SEIu",
        "outputId": "7e64986e-2910-4602-b1f1-7b1559e50722"
      },
      "source": [
        "# 10% for test\n",
        "train_df, test_df = train_test_split(\n",
        "    df, test_size=0.1, stratify=df[\"label\"].values, random_state=42\n",
        ")\n",
        "# 5% for validation\n",
        "train_df, val_df = train_test_split(\n",
        "    train_df, test_size=0.05, stratify=train_df[\"label\"].values, random_state=42\n",
        ")\n",
        "\n",
        "print(f\"Total training examples: {len(train_df)}\")\n",
        "print(f\"Total validation examples: {len(val_df)}\")\n",
        "print(f\"Total test examples: {len(test_df)}\")\n"
      ],
      "execution_count": 20,
      "outputs": [
        {
          "output_type": "stream",
          "name": "stdout",
          "text": [
            "Total training examples: 1197\n",
            "Total validation examples: 63\n",
            "Total test examples: 140\n"
          ]
        }
      ]
    },
    {
      "cell_type": "markdown",
      "metadata": {
        "id": "43DequF2bC8T"
      },
      "source": [
        "### Data input pipeline\n",
        "We are going to ues the [BERT](https://www.tensorflow.org/text/tutorials/bert_glue#loading_models_from_tensorflow_hub) model provided by tensorflow hub.\n",
        "\n",
        "To keep the runtime of this example relatively short, we will use a smaller variant of the original BERT model."
      ]
    },
    {
      "cell_type": "code",
      "metadata": {
        "id": "CbYx_KoJSEFh"
      },
      "source": [
        "bert_model_path = (\n",
        "    \"https://tfhub.dev/tensorflow/small_bert/bert_en_uncased_L-2_H-256_A-4/1\"\n",
        ")\n",
        "bert_preprocess_path = \"https://tfhub.dev/tensorflow/bert_en_uncased_preprocess/3\"\n"
      ],
      "execution_count": 21,
      "outputs": []
    },
    {
      "cell_type": "markdown",
      "metadata": {
        "id": "aFUL1Qncbh1i"
      },
      "source": [
        "The most of the text preprocessing code comes from [this](https://www.tensorflow.org/text/tutorials/bert_glue) tutorial."
      ]
    },
    {
      "cell_type": "code",
      "metadata": {
        "id": "r9zXW0UKSECz"
      },
      "source": [
        "def make_bert_preprocessing_model(sentence_features, seq_length=128):\n",
        "  \"\"\"Returns Model mapping string features to BERT inputs.\n",
        "\n",
        "    Args:\n",
        "      sentence_features: A list with the names of string-valued features.\n",
        "      seq_length: An integer that defines the sequence length of BERT inputs.\n",
        "\n",
        "    Returns:\n",
        "      A Keras Model that can be called on a list or dict of string Tensors\n",
        "      (with the order or names, resp., given by sentence_features) and\n",
        "      returns a dict of tensors for input to BERT.\n",
        "  \"\"\"\n",
        "\n",
        "  input_segments = [\n",
        "      tf.keras.layers.Input(shape=(), dtype=tf.string, \n",
        "                            name=ft) for ft in sentence_features \n",
        "  ]\n",
        "\n",
        "  # Tokenization\n",
        "  bert_preprocess = hub.load(bert_preprocess_path)\n",
        "  tokenizer = hub.KerasLayer(bert_preprocess.tokenize, name=\"tokenizer\")\n",
        "  segments = [tokenizer(s) for s in input_segments]\n",
        "  # Optional: Trim segments in a smart way to fit seq_length.\n",
        "  # Simple cases (like this example) can skip this step and let\n",
        "  # the next step apply a default truncation to approximately equal lengths.\n",
        "  truncated_segments = segments\n",
        "  # Pack inputs. The details (start/end token ids, dict of output tensors)\n",
        "  # are model-dependent, so this gets loaded from the SavedModel.\n",
        "  packer = hub.KerasLayer(\n",
        "      bert_preprocess.bert_pack_inputs,\n",
        "      arguments=dict(seq_length=seq_length),\n",
        "      name=\"packer\",\n",
        "  )\n",
        "  model_inputs = packer(truncated_segments)\n",
        "  return keras.Model(input_segments, model_inputs)\n",
        "\n"
      ],
      "execution_count": 23,
      "outputs": []
    },
    {
      "cell_type": "code",
      "metadata": {
        "colab": {
          "base_uri": "https://localhost:8080/",
          "height": 197
        },
        "id": "CUxbZf9FSD_8",
        "outputId": "44b67a71-45a8-4bfe-cc59-496b13bb9778"
      },
      "source": [
        "bert_preprocess_model = make_bert_preprocessing_model([\"text_1\",\n",
        "                                                       \"text_2\"])\n",
        "keras.utils.plot_model(bert_preprocess_model, \n",
        "                       show_shapes=True, show_dtype=True)"
      ],
      "execution_count": 24,
      "outputs": [
        {
          "output_type": "execute_result",
          "data": {
            "image/png": "[encoded data removed]",
            "text/plain": [
              "<IPython.core.display.Image object>"
            ]
          },
          "metadata": {},
          "execution_count": 24
        }
      ]
    },
    {
      "cell_type": "markdown",
      "metadata": {
        "id": "PIxmjUCAczg7"
      },
      "source": [
        "### Run the preprocessor on a sample input"
      ]
    },
    {
      "cell_type": "code",
      "metadata": {
        "colab": {
          "base_uri": "https://localhost:8080/"
        },
        "id": "NJum8TGrSD9E",
        "outputId": "fc7a7959-d345-4f04-dc23-80d3da6702cb"
      },
      "source": [
        "idx = np.random.choice(len(train_df))\n",
        "row = train_df.iloc[idx]\n",
        "sample_text_1, sample_text_2 = row[\"text_1\"], row[\"text_2\"]\n",
        "print(f\"Text 1: {sample_text_1}\")\n",
        "print(f\"Text 2: {sample_text_2}\")\n",
        "\n",
        "test_text = [np.array([sample_text_1]), np.array([sample_text_2])]\n",
        "text_preprocessed = bert_preprocess_model(test_text)\n",
        "\n",
        "print(\"Keys           : \", list(text_preprocessed.keys()))\n",
        "print(\"Shape Word Ids : \", text_preprocessed[\"input_word_ids\"].shape)\n",
        "print(\"Word Ids       : \", text_preprocessed[\"input_word_ids\"][0, :16])\n",
        "print(\"Shape Mask     : \", text_preprocessed[\"input_mask\"].shape)\n",
        "print(\"Input Mask     : \", text_preprocessed[\"input_mask\"][0, :16])\n",
        "print(\"Shape Type Ids : \", text_preprocessed[\"input_type_ids\"].shape)\n",
        "print(\"Type Ids       : \", text_preprocessed[\"input_type_ids\"][0, :16])"
      ],
      "execution_count": 25,
      "outputs": [
        {
          "output_type": "stream",
          "name": "stdout",
          "text": [
            "Text 1: Good night! Dream about Saimaki! https://t.co/fK4bPoPLPn\n",
            "Text 2: I won't leave you too long without something Saimaki https://t.co/mkJ5drlOxJ\n",
            "Keys           :  ['input_mask', 'input_type_ids', 'input_word_ids']\n",
            "Shape Word Ids :  (1, 128)\n",
            "Word Ids       :  tf.Tensor(\n",
            "[  101  2204  2305   999  3959  2055 18952  2863  3211   999 16770  1024\n",
            "  1013  1013  1056  1012], shape=(16,), dtype=int32)\n",
            "Shape Mask     :  (1, 128)\n",
            "Input Mask     :  tf.Tensor([1 1 1 1 1 1 1 1 1 1 1 1 1 1 1 1], shape=(16,), dtype=int32)\n",
            "Shape Type Ids :  (1, 128)\n",
            "Type Ids       :  tf.Tensor([0 0 0 0 0 0 0 0 0 0 0 0 0 0 0 0], shape=(16,), dtype=int32)\n"
          ]
        }
      ]
    },
    {
      "cell_type": "markdown",
      "metadata": {
        "id": "xx4Xw87LdASz"
      },
      "source": [
        "### Dataset\n",
        "\n",
        "We can now create a `tf.data.Dataset` from a dataframe. Note that the text inputs will be preprocessed as a part of the data input pipeline. But the preprocessing modules can also be a part of their corresponding BERT models. This helps reduce the training/serving skew and lets our models operate with raw text inputs. "
      ]
    },
    {
      "cell_type": "code",
      "metadata": {
        "id": "kMdR79_xSD5-"
      },
      "source": [
        "def dataframe_to_dataset(dataframe):\n",
        "    columns = [\"image_1_path\", \"image_2_path\", \"text_1\", \"text_2\", \"label_index\"]\n",
        "    dataframe = dataframe[columns].copy()\n",
        "    labels = dataframe.pop(\"label_index\")\n",
        "    ds = tf.data.Dataset.from_tensor_slices((dict(dataframe), labels))\n",
        "    ds = ds.shuffle(buffer_size=len(dataframe))\n",
        "    return ds"
      ],
      "execution_count": 26,
      "outputs": []
    },
    {
      "cell_type": "markdown",
      "metadata": {
        "id": "8ApjiBGBdeMM"
      },
      "source": [
        "### Preprocessing utilities"
      ]
    },
    {
      "cell_type": "code",
      "metadata": {
        "id": "o8pxtypJSD3p"
      },
      "source": [
        "resize = (128, 128)\n",
        "bert_input_features = [\"input_word_ids\", \"input_type_ids\", \"input_mask\"]"
      ],
      "execution_count": 27,
      "outputs": []
    },
    {
      "cell_type": "code",
      "metadata": {
        "id": "JgExAMrQSD0s"
      },
      "source": [
        "def preprocess_image(image_path):\n",
        "    extension = tf.strings.split(image_path)[-1]\n",
        "\n",
        "    image = tf.io.read_file(image_path)\n",
        "    if extension == b\"jpg\":\n",
        "        image = tf.image.decode_jpeg(image, 3)\n",
        "    else:\n",
        "        image = tf.image.decode_png(image, 3)\n",
        "    image = tf.image.resize(image, resize)\n",
        "    return image\n",
        "\n",
        "\n",
        "def preprocess_text(text_1, text_2):\n",
        "    text_1 = tf.convert_to_tensor([text_1])\n",
        "    text_2 = tf.convert_to_tensor([text_2])\n",
        "    output = bert_preprocess_model([text_1, text_2])\n",
        "    output = {feature: tf.squeeze(output[feature]) for feature in bert_input_features}\n",
        "    return output\n",
        "\n",
        "\n",
        "def preprocess_text_and_image(sample):\n",
        "    image_1 = preprocess_image(sample[\"image_1_path\"])\n",
        "    image_2 = preprocess_image(sample[\"image_2_path\"])\n",
        "    text = preprocess_text(sample[\"text_1\"], sample[\"text_2\"])\n",
        "    return {\"image_1\": image_1, \"image_2\": image_2, \"text\": text}"
      ],
      "execution_count": 28,
      "outputs": []
    },
    {
      "cell_type": "code",
      "metadata": {
        "id": "dwEVkDzeSDxi"
      },
      "source": [
        "batch_size = 32\n",
        "auto = tf.data.AUTOTUNE\n",
        "\n",
        "\n",
        "def prepare_dataset(dataframe, training=True):\n",
        "    ds = dataframe_to_dataset(dataframe)\n",
        "    if training:\n",
        "        ds = ds.shuffle(len(train_df))\n",
        "    ds = ds.map(lambda x, y: (preprocess_text_and_image(x), y)).cache()\n",
        "    ds = ds.batch(batch_size).prefetch(auto)\n",
        "    return ds\n",
        "\n",
        "\n",
        "train_ds = prepare_dataset(train_df)\n",
        "validation_ds = prepare_dataset(val_df, False)\n",
        "test_ds = prepare_dataset(test_df, False)"
      ],
      "execution_count": 29,
      "outputs": []
    },
    {
      "cell_type": "markdown",
      "metadata": {
        "id": "izcunWEZdp5L"
      },
      "source": [
        "### Model building utilities\n",
        "\n",
        "Our final model will accept two images along with their text counterparts. While the images will be directly fed to the model the text inputs will first be preprocessed and then will make it into the model. Below is a visual illustration of this approach:\n",
        "\n",
        "![img](https://github.com/sayakpaul/Multimodal-Entailment-Baseline/raw/main/figures/brief_architecture.png)"
      ]
    },
    {
      "cell_type": "markdown",
      "metadata": {
        "id": "a1nUSE_jd97p"
      },
      "source": [
        "Projection utilities"
      ]
    },
    {
      "cell_type": "code",
      "metadata": {
        "id": "CC7yleYFdnHD"
      },
      "source": [
        "def project_embeddings(\n",
        "    embeddings, num_projection_layers, projection_dims, dropout_rate\n",
        "):\n",
        "    projected_embeddings = keras.layers.Dense(units=projection_dims)(embeddings)\n",
        "    for _ in range(num_projection_layers):\n",
        "        x = tf.nn.gelu(projected_embeddings)\n",
        "        x = keras.layers.Dense(projection_dims)(x)\n",
        "        x = keras.layers.Dropout(dropout_rate)(x)\n",
        "        x = keras.layers.Add()([projected_embeddings, x])\n",
        "        projected_embeddings = keras.layers.LayerNormalization()(x)\n",
        "    return projected_embeddings"
      ],
      "execution_count": 30,
      "outputs": []
    },
    {
      "cell_type": "markdown",
      "metadata": {
        "id": "5CyfNowAeAMq"
      },
      "source": [
        "Vision utils"
      ]
    },
    {
      "cell_type": "code",
      "metadata": {
        "id": "1Bf2LJaod7Cn"
      },
      "source": [
        "def create_vision_encoder(\n",
        "    num_projection_layers, projection_dims, dropout_rate, trainable=False\n",
        "):\n",
        "    # Load the pre-trained ResNet50V2 model to be used as the base encoder.\n",
        "    resnet_v2 = keras.applications.ResNet50V2(\n",
        "        include_top=False, weights=\"imagenet\", pooling=\"avg\"\n",
        "    )\n",
        "    # Set the trainability of the base encoder.\n",
        "    for layer in resnet_v2.layers:\n",
        "        layer.trainable = trainable\n",
        "\n",
        "    # Receive the images as inputs.\n",
        "    image_1 = keras.Input(shape=(128, 128, 3), name=\"image_1\")\n",
        "    image_2 = keras.Input(shape=(128, 128, 3), name=\"image_2\")\n",
        "\n",
        "    # Preprocess the input image.\n",
        "    preprocessed_1 = keras.applications.resnet_v2.preprocess_input(image_1)\n",
        "    preprocessed_2 = keras.applications.resnet_v2.preprocess_input(image_2)\n",
        "\n",
        "    # Generate the embeddings for the images using the resnet_v2 model\n",
        "    # concatenate them.\n",
        "    embeddings_1 = resnet_v2(preprocessed_1)\n",
        "    embeddings_2 = resnet_v2(preprocessed_2)\n",
        "    embeddings = keras.layers.Concatenate()([embeddings_1, embeddings_2])\n",
        "\n",
        "    # Project the embeddings produced by the model.\n",
        "    outputs = project_embeddings(\n",
        "        embeddings, num_projection_layers, projection_dims, dropout_rate\n",
        "    )\n",
        "    # Create the vision encoder model.\n",
        "    return keras.Model([image_1, image_2], outputs, name=\"vision_encoder\")"
      ],
      "execution_count": 31,
      "outputs": []
    },
    {
      "cell_type": "markdown",
      "metadata": {
        "id": "c61RwKYqeJaj"
      },
      "source": [
        "Text encoder utils"
      ]
    },
    {
      "cell_type": "code",
      "metadata": {
        "id": "70kNJdyxeEhl"
      },
      "source": [
        "def create_text_encoder(\n",
        "    num_projection_layers, projection_dims, dropout_rate, trainable=False\n",
        "):\n",
        "    # Load the pre-trained BERT model to be used as the base encoder.\n",
        "    bert = hub.KerasLayer(bert_model_path, name=\"bert\",)\n",
        "    # Set the trainability of the base encoder.\n",
        "    bert.trainable = trainable\n",
        "\n",
        "    # Receive the text as inputs.\n",
        "    bert_input_features = [\"input_type_ids\", \"input_mask\", \"input_word_ids\"]\n",
        "    inputs = {\n",
        "        feature: keras.Input(shape=(128,), dtype=tf.int32, name=feature)\n",
        "        for feature in bert_input_features\n",
        "    }\n",
        "\n",
        "    # Generate embeddings for the preprocessed text using the BERT model.\n",
        "    embeddings = bert(inputs)[\"pooled_output\"]\n",
        "\n",
        "    # Project the embeddings produced by the model.\n",
        "    outputs = project_embeddings(\n",
        "        embeddings, num_projection_layers, projection_dims, dropout_rate\n",
        "    )\n",
        "    # Create the text encoder model.\n",
        "    return keras.Model(inputs, outputs, name=\"text_encoder\")"
      ],
      "execution_count": 32,
      "outputs": []
    },
    {
      "cell_type": "markdown",
      "metadata": {
        "id": "xOb1pomPeQhq"
      },
      "source": [
        "Multimodal model utilities"
      ]
    },
    {
      "cell_type": "code",
      "metadata": {
        "colab": {
          "base_uri": "https://localhost:8080/",
          "height": 199
        },
        "id": "o3sBu1IOeP_C",
        "outputId": "c6cb2f8c-ef0c-47be-878c-cbc35c67fb0d"
      },
      "source": [
        "def create_multimodal_model(\n",
        "    num_projection_layers=1,\n",
        "    projection_dims=256,\n",
        "    dropout_rate=0.1,\n",
        "    vision_trainable=False,\n",
        "    text_trainable=False,\n",
        "):\n",
        "    # Receive the images as inputs.\n",
        "    image_1 = keras.Input(shape=(128, 128, 3), name=\"image_1\")\n",
        "    image_2 = keras.Input(shape=(128, 128, 3), name=\"image_2\")\n",
        "\n",
        "    # Receive the text as inputs.\n",
        "    bert_input_features = [\"input_type_ids\", \"input_mask\", \"input_word_ids\"]\n",
        "    text_inputs = {\n",
        "        feature: keras.Input(shape=(128,), dtype=tf.int32, name=feature)\n",
        "        for feature in bert_input_features\n",
        "    }\n",
        "\n",
        "    # Create the encoders.\n",
        "    vision_encoder = create_vision_encoder(\n",
        "        num_projection_layers, projection_dims, dropout_rate, vision_trainable\n",
        "    )\n",
        "    text_encoder = create_text_encoder(\n",
        "        num_projection_layers, projection_dims, dropout_rate, text_trainable\n",
        "    )\n",
        "\n",
        "    # Fetch the embedding projections.\n",
        "    vision_projections = vision_encoder([image_1, image_2])\n",
        "    text_projections = text_encoder(text_inputs)\n",
        "\n",
        "    # Concatenate the projections and pass through the classification layer.\n",
        "    concatenated = keras.layers.Concatenate()([vision_projections, text_projections])\n",
        "    outputs = keras.layers.Dense(3, activation=\"softmax\")(concatenated)\n",
        "    return keras.Model([image_1, image_2, text_inputs], outputs)\n",
        "\n",
        "\n",
        "multimodal_model = create_multimodal_model()\n",
        "keras.utils.plot_model(multimodal_model, show_shapes=True)"
      ],
      "execution_count": 33,
      "outputs": [
        {
          "output_type": "stream",
          "name": "stdout",
          "text": [
            "Downloading data from https://storage.googleapis.com/tensorflow/keras-applications/resnet/resnet50v2_weights_tf_dim_ordering_tf_kernels_notop.h5\n",
            "94674944/94668760 [==============================] - 1s 0us/step\n",
            "94683136/94668760 [==============================] - 1s 0us/step\n"
          ]
        },
        {
          "output_type": "execute_result",
          "data": {
            "image/png": "[encoded data removed]",
            "text/plain": [
              "<IPython.core.display.Image object>"
            ]
          },
          "metadata": {},
          "execution_count": 33
        }
      ]
    },
    {
      "cell_type": "markdown",
      "metadata": {
        "id": "XB73UcYveX7F"
      },
      "source": [
        "### Training the model"
      ]
    },
    {
      "cell_type": "code",
      "metadata": {
        "colab": {
          "base_uri": "https://localhost:8080/"
        },
        "id": "_2R2lWh4eODz",
        "outputId": "3682ec8a-2df1-4fa7-f1ee-49be52a5dc08"
      },
      "source": [
        "multimodal_model.compile(\n",
        "    optimizer=\"adam\", loss=\"sparse_categorical_crossentropy\", metrics=\"accuracy\"\n",
        ")\n",
        "\n",
        "history = multimodal_model.fit(train_ds, validation_data=validation_ds, epochs=10)"
      ],
      "execution_count": 34,
      "outputs": [
        {
          "output_type": "stream",
          "name": "stdout",
          "text": [
            "Epoch 1/10\n",
            "38/38 [==============================] - 72s 784ms/step - loss: 0.8933 - accuracy: 0.8279 - val_loss: 0.5667 - val_accuracy: 0.8413\n",
            "Epoch 2/10\n",
            "38/38 [==============================] - 9s 230ms/step - loss: 0.3902 - accuracy: 0.8805 - val_loss: 0.5747 - val_accuracy: 0.8571\n",
            "Epoch 3/10\n",
            "38/38 [==============================] - 9s 232ms/step - loss: 0.3120 - accuracy: 0.8947 - val_loss: 0.6446 - val_accuracy: 0.8571\n",
            "Epoch 4/10\n",
            "38/38 [==============================] - 9s 230ms/step - loss: 0.2052 - accuracy: 0.9315 - val_loss: 0.9708 - val_accuracy: 0.8254\n",
            "Epoch 5/10\n",
            "38/38 [==============================] - 9s 234ms/step - loss: 0.1276 - accuracy: 0.9599 - val_loss: 1.1640 - val_accuracy: 0.8571\n",
            "Epoch 6/10\n",
            "38/38 [==============================] - 9s 233ms/step - loss: 0.1307 - accuracy: 0.9499 - val_loss: 1.2230 - val_accuracy: 0.8254\n",
            "Epoch 7/10\n",
            "38/38 [==============================] - 9s 234ms/step - loss: 0.1984 - accuracy: 0.9365 - val_loss: 1.3224 - val_accuracy: 0.8254\n",
            "Epoch 8/10\n",
            "38/38 [==============================] - 9s 234ms/step - loss: 0.2217 - accuracy: 0.9181 - val_loss: 1.3744 - val_accuracy: 0.7143\n",
            "Epoch 9/10\n",
            "38/38 [==============================] - 9s 233ms/step - loss: 0.1412 - accuracy: 0.9474 - val_loss: 1.2399 - val_accuracy: 0.8571\n",
            "Epoch 10/10\n",
            "38/38 [==============================] - 9s 233ms/step - loss: 0.0734 - accuracy: 0.9749 - val_loss: 1.5982 - val_accuracy: 0.8571\n"
          ]
        }
      ]
    },
    {
      "cell_type": "markdown",
      "metadata": {
        "id": "JUi4QNbAedRz"
      },
      "source": [
        "### Model evaluation"
      ]
    },
    {
      "cell_type": "code",
      "metadata": {
        "colab": {
          "base_uri": "https://localhost:8080/"
        },
        "id": "xaEYirlwea0x",
        "outputId": "9cbf20a5-7578-4375-cd11-4a635c82ecda"
      },
      "source": [
        "_, acc = multimodal_model.evaluate(test_ds)\n",
        "print(f\"Accuracy on the test set: {round(acc * 100, 2)}%.\")"
      ],
      "execution_count": 35,
      "outputs": [
        {
          "output_type": "stream",
          "name": "stdout",
          "text": [
            "5/5 [==============================] - 6s 810ms/step - loss: 1.2514 - accuracy: 0.8786\n",
            "Accuracy on the test set: 87.86%.\n"
          ]
        }
      ]
    },
    {
      "cell_type": "markdown",
      "metadata": {
        "id": "csVETAQgejx6"
      },
      "source": [
        "### Credits\n",
        "\n",
        "* [keras tutorials](https://keras.io/examples/nlp/multimodal_entailment/)"
      ]
    },
    {
      "cell_type": "code",
      "metadata": {
        "id": "5jXCQO4Beja8"
      },
      "source": [
        ""
      ],
      "execution_count": null,
      "outputs": []
    }
  ]
}