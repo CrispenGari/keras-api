{
 "cells": [
  {
   "cell_type": "markdown",
   "id": "drawn-montgomery",
   "metadata": {},
   "source": [
    "### Tensors"
   ]
  },
  {
   "cell_type": "code",
   "execution_count": 1,
   "id": "compatible-blend",
   "metadata": {},
   "outputs": [],
   "source": [
    "import tensorflow as tf"
   ]
  },
  {
   "cell_type": "code",
   "execution_count": 2,
   "id": "shaped-identifier",
   "metadata": {},
   "outputs": [
    {
     "data": {
      "text/plain": [
       "<tf.Tensor: shape=(2, 2), dtype=int32, numpy=\n",
       "array([[1, 2],\n",
       "       [4, 7]])>"
      ]
     },
     "execution_count": 2,
     "metadata": {},
     "output_type": "execute_result"
    }
   ],
   "source": [
    "X = tf.constant([[1, 2], [4, 7]])\n",
    "X"
   ]
  },
  {
   "cell_type": "code",
   "execution_count": 9,
   "id": "knowing-compact",
   "metadata": {},
   "outputs": [
    {
     "data": {
      "text/plain": [
       "<tf.Tensor: shape=(4, 1), dtype=int32, numpy=\n",
       "array([[1],\n",
       "       [2],\n",
       "       [4],\n",
       "       [7]])>"
      ]
     },
     "execution_count": 9,
     "metadata": {},
     "output_type": "execute_result"
    }
   ],
   "source": [
    "tf.reshape(X, shape=(4, -1))"
   ]
  },
  {
   "cell_type": "code",
   "execution_count": 4,
   "id": "emerging-traveler",
   "metadata": {},
   "outputs": [
    {
     "data": {
      "text/plain": [
       "<tf.Tensor: shape=(2, 2), dtype=int32, numpy=\n",
       "array([[1, 2],\n",
       "       [4, 7]])>"
      ]
     },
     "execution_count": 4,
     "metadata": {},
     "output_type": "execute_result"
    }
   ],
   "source": [
    "X"
   ]
  },
  {
   "cell_type": "code",
   "execution_count": 6,
   "id": "worthy-textbook",
   "metadata": {},
   "outputs": [
    {
     "data": {
      "text/plain": [
       "array([[1, 2],\n",
       "       [4, 7]])"
      ]
     },
     "execution_count": 6,
     "metadata": {},
     "output_type": "execute_result"
    }
   ],
   "source": [
    "numpy = X.numpy()\n",
    "numpy"
   ]
  },
  {
   "cell_type": "code",
   "execution_count": 12,
   "id": "decimal-particular",
   "metadata": {},
   "outputs": [
    {
     "data": {
      "text/plain": [
       "(TensorShape([2, 2]), <tf.Tensor: shape=(), dtype=int32, numpy=4>, tf.int32, 2)"
      ]
     },
     "execution_count": 12,
     "metadata": {},
     "output_type": "execute_result"
    }
   ],
   "source": [
    "X.shape, tf.size(X), X.dtype, X.ndim"
   ]
  },
  {
   "cell_type": "code",
   "execution_count": 14,
   "id": "finished-detroit",
   "metadata": {},
   "outputs": [
    {
     "data": {
      "text/plain": [
       "(<tf.Tensor: shape=(2, 2), dtype=float32, numpy=\n",
       " array([[1., 1.],\n",
       "        [1., 1.]], dtype=float32)>,\n",
       " <tf.Tensor: shape=(2, 2), dtype=float32, numpy=\n",
       " array([[0., 0.],\n",
       "        [0., 0.]], dtype=float32)>)"
      ]
     },
     "execution_count": 14,
     "metadata": {},
     "output_type": "execute_result"
    }
   ],
   "source": [
    "ones = tf.ones(shape=(2, 2))\n",
    "zeros = tf.zeros(shape=(2, 2))\n",
    "ones, zeros"
   ]
  },
  {
   "cell_type": "code",
   "execution_count": 16,
   "id": "divided-estonia",
   "metadata": {},
   "outputs": [
    {
     "data": {
      "text/plain": [
       "(<tf.Tensor: shape=(2, 2), dtype=int32, numpy=\n",
       " array([[1, 1],\n",
       "        [1, 1]])>,\n",
       " <tf.Tensor: shape=(2, 2), dtype=int32, numpy=\n",
       " array([[0, 0],\n",
       "        [0, 0]])>)"
      ]
     },
     "execution_count": 16,
     "metadata": {},
     "output_type": "execute_result"
    }
   ],
   "source": [
    "ones_like =tf.ones_like(X)\n",
    "zeros_like = tf.zeros_like(X)\n",
    "ones_like, zeros_like"
   ]
  },
  {
   "cell_type": "code",
   "execution_count": 21,
   "id": "canadian-spell",
   "metadata": {},
   "outputs": [
    {
     "data": {
      "text/plain": [
       "<tf.Tensor: shape=(3, 3), dtype=float32, numpy=\n",
       "array([[1., 0., 0.],\n",
       "       [0., 1., 0.],\n",
       "       [0., 0., 1.]], dtype=float32)>"
      ]
     },
     "execution_count": 21,
     "metadata": {},
     "output_type": "execute_result"
    }
   ],
   "source": [
    "eye = tf.eye(3)\n",
    "eye"
   ]
  },
  {
   "cell_type": "markdown",
   "id": "another-timothy",
   "metadata": {},
   "source": [
    "### Creating random constant tensors"
   ]
  },
  {
   "cell_type": "code",
   "execution_count": 23,
   "id": "objective-lemon",
   "metadata": {},
   "outputs": [
    {
     "data": {
      "text/plain": [
       "<tf.Tensor: shape=(2, 2), dtype=float32, numpy=\n",
       "array([[ 1.6894172, -0.1225363],\n",
       "       [ 0.8390331,  0.5656439]], dtype=float32)>"
      ]
     },
     "execution_count": 23,
     "metadata": {},
     "output_type": "execute_result"
    }
   ],
   "source": [
    "X1 = tf.random.normal(shape=(2,2), mean=0. ,stddev=1)\n",
    "X1"
   ]
  },
  {
   "cell_type": "code",
   "execution_count": 27,
   "id": "honest-zoning",
   "metadata": {},
   "outputs": [
    {
     "data": {
      "text/plain": [
       "<tf.Tensor: shape=(3,), dtype=int32, numpy=array([1, 2, 1])>"
      ]
     },
     "execution_count": 27,
     "metadata": {},
     "output_type": "execute_result"
    }
   ],
   "source": [
    "X2 = tf.random.uniform(shape=(3,), minval=0, maxval=5, dtype=tf.int32)\n",
    "X2"
   ]
  },
  {
   "cell_type": "markdown",
   "id": "norwegian-stadium",
   "metadata": {},
   "source": [
    "#### Variables\n",
    ">Variables are special tensors used to store mutable state (such as the weights of a neural network). "
   ]
  },
  {
   "cell_type": "code",
   "execution_count": 28,
   "id": "registered-preference",
   "metadata": {},
   "outputs": [
    {
     "data": {
      "text/plain": [
       "<tf.Variable 'Variable:0' shape=(4,) dtype=float32, numpy=array([2., 3., 4., 5.], dtype=float32)>"
      ]
     },
     "execution_count": 28,
     "metadata": {},
     "output_type": "execute_result"
    }
   ],
   "source": [
    "a = tf.Variable([2, 3, 4, 5.])\n",
    "a"
   ]
  },
  {
   "cell_type": "code",
   "execution_count": 30,
   "id": "caroline-camcorder",
   "metadata": {},
   "outputs": [
    {
     "data": {
      "text/plain": [
       "<tf.Variable 'Variable:0' shape=(4,) dtype=float32, numpy=array([2., 3., 5., 2.], dtype=float32)>"
      ]
     },
     "execution_count": 30,
     "metadata": {},
     "output_type": "execute_result"
    }
   ],
   "source": [
    "a.assign([2, 3, 5,2])\n",
    "a"
   ]
  },
  {
   "cell_type": "markdown",
   "id": "related-rhythm",
   "metadata": {},
   "source": [
    "### Gradients\n",
    ">Here's another big difference with NumPy: you can automatically retrieve the gradient of any differentiable expression.\n",
    "\n",
    "> Just open a GradientTape, start \"watching\" a tensor via tape.watch(), and compose a differentiable expression using this tensor as input:"
   ]
  },
  {
   "cell_type": "code",
   "execution_count": 32,
   "id": "informative-parish",
   "metadata": {},
   "outputs": [
    {
     "data": {
      "text/plain": [
       "<tf.Tensor: shape=(2, 2), dtype=float32, numpy=\n",
       "array([[ 0.7364066 ,  0.72710776],\n",
       "       [ 0.61761653, -0.86808693]], dtype=float32)>"
      ]
     },
     "execution_count": 32,
     "metadata": {},
     "output_type": "execute_result"
    }
   ],
   "source": [
    "a = tf.random.normal(shape=(2, 2))\n",
    "b = tf.random.normal(shape=(2, 2))\n",
    "\n",
    "with tf.GradientTape() as tape:\n",
    "    tape.watch(a) # Start recording the history of operations applied to `a`\n",
    "    c = tf.sqrt(tf.square(a) + tf.square(b))  # Do some math using `a`\n",
    "    # What's the gradient of `c` with respect to `a`?\n",
    "    dc_da = tape.gradient(c, a)\n",
    "dc_da "
   ]
  },
  {
   "cell_type": "markdown",
   "id": "engaged-thanksgiving",
   "metadata": {},
   "source": [
    "> By default, variables are watched automatically, so you don't need to manually watch them:"
   ]
  },
  {
   "cell_type": "markdown",
   "id": "tight-diversity",
   "metadata": {},
   "source": [
    "### Keras layers\n",
    "> While TensorFlow is an infrastructure layer for differentiable programming, dealing with tensors, variables, and gradients, Keras is a user interface for deep learning, dealing with layers, models, optimizers, loss functions, metrics, and more.\n",
    "\n",
    "> Keras serves as the high-level API for TensorFlow: Keras is what makes TensorFlow simple and productive.\n",
    "\n",
    "> The Layer class is the fundamental abstraction in Keras. A Layer encapsulates a state (weights) and some computation (defined in the call method)."
   ]
  },
  {
   "cell_type": "code",
   "execution_count": 47,
   "id": "grave-charity",
   "metadata": {},
   "outputs": [],
   "source": [
    "\"\"\"y = mx+ c\"\"\"\n",
    "from tensorflow.keras.layers import Layer\n",
    "\n",
    "class Linear(Layer):\n",
    "    def __init__(self, units=32, input_dim=32):\n",
    "        super(Linear, self).__init__()\n",
    "        w_init = tf.random_normal_initializer()\n",
    "        self.w = tf.Variable(\n",
    "            initial_value = w_init(shape=(input_dim, units), dtype = tf.float32)\n",
    "            , trainable = True\n",
    "        )\n",
    "        b_init = tf.zeros_initializer()\n",
    "        self.b = tf.Variable(\n",
    "            initial_value = b_init(shape=(units, ) ,dtype = tf.float32)\n",
    "        )\n",
    "    def call(self, inputs):\n",
    "        return tf.matmul(inputs, self.w) + self.b\n",
    "    pass"
   ]
  },
  {
   "cell_type": "code",
   "execution_count": 52,
   "id": "commercial-announcement",
   "metadata": {},
   "outputs": [
    {
     "name": "stdout",
     "output_type": "stream",
     "text": [
      "<__main__.Linear object at 0x000001C8D7A376D0>\n",
      "tf.Tensor(\n",
      "[[-0.03776359 -0.05652292  0.00890213 -0.03412773]\n",
      " [-0.03776359 -0.05652292  0.00890213 -0.03412773]], shape=(2, 4), dtype=float32)\n"
     ]
    },
    {
     "data": {
      "text/plain": [
       "[<tf.Variable 'Variable:0' shape=(2, 4) dtype=float32, numpy=\n",
       " array([[-0.01761069, -0.04154172, -0.05200666,  0.01570257],\n",
       "        [-0.0201529 , -0.0149812 ,  0.06090879, -0.04983031]],\n",
       "       dtype=float32)>,\n",
       " <tf.Variable 'Variable:0' shape=(4,) dtype=float32, numpy=array([0., 0., 0., 0.], dtype=float32)>]"
      ]
     },
     "execution_count": 52,
     "metadata": {},
     "output_type": "execute_result"
    }
   ],
   "source": [
    "linear_layer = Linear(units=4, input_dim=2)\n",
    "print(linear_layer)\n",
    "y = linear_layer(tf.ones((2, 2)))\n",
    "print(y)\n",
    "y.shape == (2, 4)\n",
    "\n",
    "linear_layer.weights"
   ]
  },
  {
   "cell_type": "code",
   "execution_count": null,
   "id": "color-being",
   "metadata": {},
   "outputs": [],
   "source": []
  },
  {
   "cell_type": "code",
   "execution_count": null,
   "id": "legendary-bouquet",
   "metadata": {},
   "outputs": [],
   "source": []
  },
  {
   "cell_type": "code",
   "execution_count": null,
   "id": "constant-distribution",
   "metadata": {},
   "outputs": [],
   "source": []
  },
  {
   "cell_type": "code",
   "execution_count": null,
   "id": "plastic-progressive",
   "metadata": {},
   "outputs": [],
   "source": []
  },
  {
   "cell_type": "code",
   "execution_count": null,
   "id": "wooden-sugar",
   "metadata": {},
   "outputs": [],
   "source": []
  },
  {
   "cell_type": "code",
   "execution_count": null,
   "id": "funny-notebook",
   "metadata": {},
   "outputs": [],
   "source": []
  },
  {
   "cell_type": "code",
   "execution_count": null,
   "id": "excessive-guest",
   "metadata": {},
   "outputs": [],
   "source": []
  },
  {
   "cell_type": "code",
   "execution_count": null,
   "id": "graphic-birmingham",
   "metadata": {},
   "outputs": [],
   "source": []
  },
  {
   "cell_type": "code",
   "execution_count": null,
   "id": "eastern-trainer",
   "metadata": {},
   "outputs": [],
   "source": []
  },
  {
   "cell_type": "code",
   "execution_count": null,
   "id": "guided-cutting",
   "metadata": {},
   "outputs": [],
   "source": []
  },
  {
   "cell_type": "code",
   "execution_count": null,
   "id": "incoming-inquiry",
   "metadata": {},
   "outputs": [],
   "source": []
  },
  {
   "cell_type": "code",
   "execution_count": null,
   "id": "assigned-consumption",
   "metadata": {},
   "outputs": [],
   "source": []
  },
  {
   "cell_type": "code",
   "execution_count": null,
   "id": "perfect-trading",
   "metadata": {},
   "outputs": [],
   "source": []
  },
  {
   "cell_type": "code",
   "execution_count": null,
   "id": "presidential-matter",
   "metadata": {},
   "outputs": [],
   "source": []
  },
  {
   "cell_type": "code",
   "execution_count": null,
   "id": "international-collectible",
   "metadata": {},
   "outputs": [],
   "source": []
  },
  {
   "cell_type": "code",
   "execution_count": null,
   "id": "secret-museum",
   "metadata": {},
   "outputs": [],
   "source": []
  },
  {
   "cell_type": "code",
   "execution_count": null,
   "id": "tested-technology",
   "metadata": {},
   "outputs": [],
   "source": []
  },
  {
   "cell_type": "code",
   "execution_count": null,
   "id": "handy-valley",
   "metadata": {},
   "outputs": [],
   "source": []
  },
  {
   "cell_type": "code",
   "execution_count": null,
   "id": "compound-frank",
   "metadata": {},
   "outputs": [],
   "source": []
  }
 ],
 "metadata": {
  "kernelspec": {
   "display_name": "Python 3",
   "language": "python",
   "name": "python3"
  },
  "language_info": {
   "codemirror_mode": {
    "name": "ipython",
    "version": 3
   },
   "file_extension": ".py",
   "mimetype": "text/x-python",
   "name": "python",
   "nbconvert_exporter": "python",
   "pygments_lexer": "ipython3",
   "version": "3.8.5"
  }
 },
 "nbformat": 4,
 "nbformat_minor": 5
}
